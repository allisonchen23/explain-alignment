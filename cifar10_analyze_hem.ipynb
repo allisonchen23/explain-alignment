{
 "cells": [
  {
   "cell_type": "code",
   "execution_count": 1,
   "id": "4158f272-c175-484f-abdb-a6f6fbbdfe0c",
   "metadata": {},
   "outputs": [],
   "source": [
    "import os, sys\n",
    "import pandas as pd\n",
    "import numpy as np\n",
    "import json\n",
    "from tqdm import tqdm\n",
    "import torch\n",
    "from scipy import stats\n",
    "\n",
    "sys.path.insert(0, 'src')\n",
    "from utils.utils import read_lists, load_image, ensure_dir\n",
    "from utils.visualizations import histogram, plot, show_image_rows, bar_graph\n",
    "from utils.df_utils import convert_string_columns"
   ]
  },
  {
   "cell_type": "markdown",
   "id": "d9dcc4cb-e6b0-40ed-921d-ee84282f6349",
   "metadata": {},
   "source": [
    "# Analyze human, explainer, and model from CIFAR-10 "
   ]
  },
  {
   "cell_type": "markdown",
   "id": "b88d46d1-00a5-4a66-8518-6f9ec9bdb56f",
   "metadata": {},
   "source": [
    "### Paths for human, explainer, and model"
   ]
  },
  {
   "cell_type": "code",
   "execution_count": 17,
   "id": "910b438b-b8fc-4497-afe1-c776c2ce44df",
   "metadata": {},
   "outputs": [],
   "source": [
    "human_probabilities_path = 'data/cifar10-soft-labels/cifar10h-probs.npy'\n",
    "model_outputs_path = 'saved/cifar10/resnet18/outputs_predictions.pth'\n",
    "explainer_outputs_path = 'saved/cifar10/resnet18/explainer/sift_descriptor_histogram/cifar32_32_sigma1.6/dense_stride_2/minibatch_kmeans/500means/model_soft_labels/0606_125216/outputs_predictions.pth'\n",
    "\n",
    "save_dir = os.path.join(os.path.dirname(explainer_outputs_path), 'analysis')\n",
    "ensure_dir(save_dir)"
   ]
  },
  {
   "cell_type": "code",
   "execution_count": 10,
   "id": "e6a7c5f5-ad11-4b5d-9456-9054295bb74b",
   "metadata": {},
   "outputs": [],
   "source": [
    "human_outputs = np.load(human_probabilities_path)\n",
    "human_predictions = np.argmax(human_outputs, axis=1)\n",
    "human_outputs = {\n",
    "    'outputs': human_outputs,\n",
    "    'probabilities': human_outputs,\n",
    "    'predictions': human_predictions\n",
    "}\n",
    "model_outputs = torch.load(model_outputs_path)['test']\n",
    "explainer_outputs = torch.load(explainer_outputs_path)['test']\n",
    "outputs = {\n",
    "    'human': human_outputs,\n",
    "    'explainer': explainer_outputs,\n",
    "    'model': model_outputs\n",
    "}"
   ]
  },
  {
   "cell_type": "code",
   "execution_count": 16,
   "id": "a282d45a-1e00-44fc-be0b-c6088cbc756a",
   "metadata": {},
   "outputs": [],
   "source": [
    "df_dict = {}\n",
    "for agent, output in outputs.items():\n",
    "    for out_type in ['outputs', 'probabilities', 'predictions']:\n",
    "        df_dict['{}_{}'.format(agent, out_type)] = list(output[out_type])\n",
    "\n",
    "df = pd.DataFrame(df_dict)\n"
   ]
  },
  {
   "cell_type": "code",
   "execution_count": null,
   "id": "1f9ce14b-79ff-4139-aeec-c9a6f5cb8ca9",
   "metadata": {},
   "outputs": [],
   "source": [
    "dfs = []\n"
   ]
  }
 ],
 "metadata": {
  "kernelspec": {
   "display_name": "model-correlation",
   "language": "python",
   "name": "model-correlation"
  },
  "language_info": {
   "codemirror_mode": {
    "name": "ipython",
    "version": 3
   },
   "file_extension": ".py",
   "mimetype": "text/x-python",
   "name": "python",
   "nbconvert_exporter": "python",
   "pygments_lexer": "ipython3",
   "version": "3.11.2"
  }
 },
 "nbformat": 4,
 "nbformat_minor": 5
}
