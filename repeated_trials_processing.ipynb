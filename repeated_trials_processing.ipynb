{
 "cells": [
  {
   "cell_type": "markdown",
   "id": "f59fa7fd-970f-4b4c-a5f5-0ca80753e0b7",
   "metadata": {},
   "source": [
    "# Process Repeated Trials\n",
    "\n",
    "Given a directory of repeated trials, aggregate outputs/predictions to be more coherent"
   ]
  },
  {
   "cell_type": "code",
   "execution_count": 1,
   "id": "fe20edb5-55da-4767-8dd3-6743d0c3db54",
   "metadata": {
    "tags": []
   },
   "outputs": [],
   "source": [
    "import os,sys\n",
    "import torch\n",
    "import numpy as np\n",
    "import pandas as pd\n",
    "\n",
    "sys.path.insert(0, 'src')\n",
    "from utils.utils import copy_tree, ensure_dir\n",
    "from explainer_generate_csv import generate_csv, get_outputs\n",
    "from utils.visualizations import bar_graph"
   ]
  },
  {
   "cell_type": "markdown",
   "id": "1d46a454-c8d7-426f-9a4a-704f7dcd1c5f",
   "metadata": {},
   "source": [
    "## Processing "
   ]
  },
  {
   "cell_type": "markdown",
   "id": "330b37eb-244e-4aaa-a1aa-30324f1a6263",
   "metadata": {
    "tags": []
   },
   "source": [
    "### Function Definitions"
   ]
  },
  {
   "cell_type": "code",
   "execution_count": 2,
   "id": "5b64298f-a57d-4ad5-ba9b-d3f0ad6ee606",
   "metadata": {
    "tags": []
   },
   "outputs": [],
   "source": [
    "def copy_repeated_trials(paths):\n",
    "    '''\n",
    "    Given a list of pairs of paths, copy trials from src to dst/repeated_trials\n",
    "    \n",
    "    Arg(s):\n",
    "        paths : list[(str, str)]\n",
    "            (src, dst) : where dst is parent of 'repeated_trials' directory\n",
    "            \n",
    "    '''\n",
    "    for idx, (src_path, dst_path) in enumerate(paths):\n",
    "        print(\"Processing {}/{}: {} -> {}\".format(idx + 1, len(paths), src_path, dst_path))\n",
    "        try:\n",
    "            dst_path = os.path.join(dst_path, 'repeated_trials')\n",
    "            copy_tree(src_path, dst_path)\n",
    "        except Exception as e:\n",
    "            print(\"Unable to copy directory {} to {}: {}\".format(src_path, dst_path, e))\n",
    "            \n",
    "            \n",
    "def aggregate_outputs(repeated_trials_dir):\n",
    "    '''\n",
    "    Given a directory of repeated trials, create Numpy arrays of outputs, probabilities, and predictions\n",
    "    \n",
    "    Arg(s):\n",
    "        repeated_trials_dir : str\n",
    "            parent of where trial directories are stored\n",
    "    Returns:\n",
    "        dict[str : np.array]\n",
    "            outputs : n_trials x n_samples x n_classes np.array\n",
    "                explainer outputs\n",
    "            probabilities : n_trials x n_samples x n_classes np.array\n",
    "                explainer probabilities\n",
    "            predictions : n_trials x n_samples\n",
    "                explainer predictions\n",
    "                \n",
    "    '''\n",
    "    outputs = []\n",
    "    probabilities = []\n",
    "    predictions = []\n",
    "    n_trials = len(os.listdir(repeated_trials_dir))\n",
    "    \n",
    "    for trial_idx in range(1, n_trials+1):\n",
    "        trial_dir = os.path.join(repeated_trials_dir, str(trial_idx))\n",
    "        assert os.path.exists(trial_dir)\n",
    "        trial_outputs_path = os.path.join(trial_dir, 'outputs_predictions.pth')\n",
    "        trial_outputs_predictions = torch.load(trial_outputs_path)['test']\n",
    "        outputs.append(trial_outputs_predictions['outputs'])\n",
    "        probabilities.append(trial_outputs_predictions['probabilities'])\n",
    "        predictions.append(trial_outputs_predictions['predictions'])\n",
    "        \n",
    "    outputs = np.stack(outputs, axis=0)\n",
    "    probabilities = np.stack(probabilities, axis=0)\n",
    "    predictions = np.stack(predictions, axis=0)\n",
    "    \n",
    "    return_data = {\n",
    "        'test': {\n",
    "            'outputs': outputs,\n",
    "            'predictions': predictions,\n",
    "            'probabilities': probabilities\n",
    "        }\n",
    "    }\n",
    "    \n",
    "    return return_data"
   ]
  },
  {
   "cell_type": "code",
   "execution_count": 9,
   "id": "7ebb2482-4fb1-48d1-8e63-e021a91306b5",
   "metadata": {
    "tags": []
   },
   "outputs": [],
   "source": [
    "dataset_name = 'ade20k'\n",
    "explainer_type = 'SIFT'\n",
    "if dataset_name == 'ade20k':\n",
    "    # paths = [\n",
    "    #     ('saved/saved_explainers/repeated_trials/ade20k_concept_NA_repeated_trials', \\\n",
    "    #          'saved_explainers/ade20k/concepts/labeled/n_1200/hidden_NA'),\n",
    "    #     ('saved/saved_explainers/repeated_trials/ade20k_concept_128_repeated_trials', \\\n",
    "    #          'saved_explainers/ade20k/concepts/labeled/n_1200/hidden_128'),\n",
    "    #     ('saved/saved_explainers/repeated_trials/ade20k_concept_128_128_repeated_trials', \\\n",
    "    #         'saved_explainers/ade20k/concepts/labeled/n_1200/hidden_128_128'),\n",
    "    #     ('saved/saved_explainers/repeated_trials/ade20k_concept_256_repeated_trials', \\\n",
    "    #          'saved_explainers/ade20k/concepts/labeled/n_1200/hidden_256'),\n",
    "    #     ('saved/saved_explainers/repeated_trials/ade20k_concept_256_256_repeated_trials', \\\n",
    "    #         'saved_explainers/ade20k/concepts/labeled/n_1200/hidden_256_256'),\n",
    "    #     ('saved/saved_explainers/repeated_trials/ade20k_concept_1024_repeated_trials', \\\n",
    "    #          'saved_explainers/ade20k/concepts/labeled/n_1200/hidden_1024')\n",
    "    # ]\n",
    "    paths = [\n",
    "        # Labeled concepts\n",
    "        ('saved/saved_explainers/repeated_trials/ade20k_dense_27_concept_NA_repeated_trials', \\\n",
    "             'saved_explainers/ade20k/concepts/labeled/filter_attr_1200/hidden_NA'),\n",
    "        ('saved/saved_explainers/repeated_trials/ade20k_dense_concept_NA_repeated_trials', \\\n",
    "             'saved_explainers/ade20k/concepts/labeled/filter_attr_150/hidden_NA'),\n",
    "        ('saved/saved_explainers/repeated_trials/ade20k_dense_114_concept_NA_repeated_trials', \\\n",
    "             'saved_explainers/ade20k/concepts/labeled/filter_attr_300/hidden_NA'),\n",
    "        ('saved/saved_explainers/repeated_trials/ade20k_dense_294_concept_NA_repeated_trials', \\\n",
    "             'saved_explainers/ade20k/concepts/labeled/filter_attr_50/hidden_NA'),\n",
    "        # Labeled CAVs\n",
    "        ('saved/saved_explainers/repeated_trials/ade20k_dense_CAV_182_concept_NA_repeated_trials', \\\n",
    "             'saved_explainers/ade20k/concepts/cav/filter_attr_150/hidden_NA'),\n",
    "        # ACE CAVs\n",
    "        ('saved/saved_explainers/repeated_trials/ade20k_dense_ace_images_800_concept_25_NA_repeated_trials', \\\n",
    "             'saved_explainers/ade20k/concepts/ace/n_800_concept_25-min_20-max_40/hidden_NA')\n",
    "    ]\n",
    "\n",
    "    human_output_path = 'saved/ADE20K/survey_results/human_outputs_predictions.pth'\n",
    "    model_output_path = 'saved/PlacesCategoryClassification/0510_102912/ADE20K_predictions/saga/val_outputs_predictions.pth'\n",
    "\n",
    "else:\n",
    "    raise ValueError(\"Dataset {} not supported yet\".format(dataset_name))"
   ]
  },
  {
   "cell_type": "markdown",
   "id": "4e5a1f4e-d4b8-4a93-9c37-6e87eba00962",
   "metadata": {},
   "source": [
    "### Copy repeated trials over"
   ]
  },
  {
   "cell_type": "code",
   "execution_count": 10,
   "id": "06be76e9-698c-402f-a34b-e87dd985879e",
   "metadata": {
    "tags": []
   },
   "outputs": [
    {
     "name": "stdout",
     "output_type": "stream",
     "text": [
      "Processing 1/6: saved/saved_explainers/repeated_trials/ade20k_dense_27_concept_NA_repeated_trials -> saved_explainers/ade20k/concepts/labeled/filter_attr_1200/hidden_NA\n",
      "Processing 2/6: saved/saved_explainers/repeated_trials/ade20k_dense_concept_NA_repeated_trials -> saved_explainers/ade20k/concepts/labeled/filter_attr_150/hidden_NA\n",
      "Unable to copy directory saved/saved_explainers/repeated_trials/ade20k_dense_concept_NA_repeated_trials to saved_explainers/ade20k/concepts/labeled/filter_attr_150/hidden_NA/repeated_trials: Directory saved_explainers/ade20k/concepts/labeled/filter_attr_150/hidden_NA/repeated_trials already exists\n",
      "Processing 3/6: saved/saved_explainers/repeated_trials/ade20k_dense_114_concept_NA_repeated_trials -> saved_explainers/ade20k/concepts/labeled/filter_attr_300/hidden_NA\n",
      "Unable to copy directory saved/saved_explainers/repeated_trials/ade20k_dense_114_concept_NA_repeated_trials to saved_explainers/ade20k/concepts/labeled/filter_attr_300/hidden_NA/repeated_trials: Directory saved_explainers/ade20k/concepts/labeled/filter_attr_300/hidden_NA/repeated_trials already exists\n",
      "Processing 4/6: saved/saved_explainers/repeated_trials/ade20k_dense_294_concept_NA_repeated_trials -> saved_explainers/ade20k/concepts/labeled/filter_attr_50/hidden_NA\n",
      "Unable to copy directory saved/saved_explainers/repeated_trials/ade20k_dense_294_concept_NA_repeated_trials to saved_explainers/ade20k/concepts/labeled/filter_attr_50/hidden_NA/repeated_trials: Directory saved_explainers/ade20k/concepts/labeled/filter_attr_50/hidden_NA/repeated_trials already exists\n",
      "Processing 5/6: saved/saved_explainers/repeated_trials/ade20k_dense_CAV_182_concept_NA_repeated_trials -> saved_explainers/ade20k/concepts/cav/filter_attr_150/hidden_NA\n",
      "Unable to copy directory saved/saved_explainers/repeated_trials/ade20k_dense_CAV_182_concept_NA_repeated_trials to saved_explainers/ade20k/concepts/cav/filter_attr_150/hidden_NA/repeated_trials: Directory saved_explainers/ade20k/concepts/cav/filter_attr_150/hidden_NA/repeated_trials already exists\n",
      "Processing 6/6: saved/saved_explainers/repeated_trials/ade20k_dense_ace_images_800_concept_25_NA_repeated_trials -> saved_explainers/ade20k/concepts/ace/n_800_concept_25-min_20-max_40/hidden_NA\n",
      "Unable to copy directory saved/saved_explainers/repeated_trials/ade20k_dense_ace_images_800_concept_25_NA_repeated_trials to saved_explainers/ade20k/concepts/ace/n_800_concept_25-min_20-max_40/hidden_NA/repeated_trials: Directory saved_explainers/ade20k/concepts/ace/n_800_concept_25-min_20-max_40/hidden_NA/repeated_trials already exists\n"
     ]
    }
   ],
   "source": [
    "copy_repeated_trials(paths)# [0.485, 0.456, 0.406]"
   ]
  },
  {
   "cell_type": "markdown",
   "id": "d95d4947-3be6-4dc4-bbd0-a0ff9cb7302d",
   "metadata": {},
   "source": [
    "### Aggregate outputs for repeated trials into 1 dictionary"
   ]
  },
  {
   "cell_type": "code",
   "execution_count": 5,
   "id": "fc4488cc-6621-46fd-8466-d7f0450aa84f",
   "metadata": {
    "tags": []
   },
   "outputs": [
    {
     "name": "stdout",
     "output_type": "stream",
     "text": [
      "Processing 1/6: saved_explainers/ade20k/concepts/labeled/n_1200/hidden_NA\n",
      "Saved results from trials to saved_explainers/ade20k/concepts/labeled/n_1200/hidden_NA/repeated_trials_analysis/repeated_trial_outputs_predictions.pth\n",
      "Processing 2/6: saved_explainers/ade20k/concepts/labeled/n_1200/hidden_128\n",
      "Saved results from trials to saved_explainers/ade20k/concepts/labeled/n_1200/hidden_128/repeated_trials_analysis/repeated_trial_outputs_predictions.pth\n",
      "Processing 3/6: saved_explainers/ade20k/concepts/labeled/n_1200/hidden_128_128\n",
      "Saved results from trials to saved_explainers/ade20k/concepts/labeled/n_1200/hidden_128_128/repeated_trials_analysis/repeated_trial_outputs_predictions.pth\n",
      "Processing 4/6: saved_explainers/ade20k/concepts/labeled/n_1200/hidden_256\n",
      "Saved results from trials to saved_explainers/ade20k/concepts/labeled/n_1200/hidden_256/repeated_trials_analysis/repeated_trial_outputs_predictions.pth\n",
      "Processing 5/6: saved_explainers/ade20k/concepts/labeled/n_1200/hidden_256_256\n",
      "Saved results from trials to saved_explainers/ade20k/concepts/labeled/n_1200/hidden_256_256/repeated_trials_analysis/repeated_trial_outputs_predictions.pth\n",
      "Processing 6/6: saved_explainers/ade20k/concepts/labeled/n_1200/hidden_1024\n",
      "Saved results from trials to saved_explainers/ade20k/concepts/labeled/n_1200/hidden_1024/repeated_trials_analysis/repeated_trial_outputs_predictions.pth\n"
     ]
    }
   ],
   "source": [
    "# for idx, (_, repeated_trials_parent) in enumerate(paths):\n",
    "#     print(\"Processing {}/{}: {}\".format(idx + 1, len(paths), repeated_trials_parent))\n",
    "#     repeated_trials_dir = os.path.join(repeated_trials_parent, 'repeated_trials')\n",
    "#     repeated_results = aggregate_outputs(repeated_trials_dir)\n",
    "    \n",
    "#     repeated_outputs_save_path = os.path.join(repeated_trials_parent, 'repeated_trials_analysis', 'repeated_trials_outputs_predictions.pth')\n",
    "#     ensure_dir(os.path.dirname(repeated_outputs_save_path))\n",
    "#     torch.save(repeated_results, repeated_outputs_save_path)\n",
    "#     print(\"Saved results from trials to {}\".format(repeated_outputs_save_path))\n"
   ]
  },
  {
   "cell_type": "markdown",
   "id": "720f5d2a-2afe-4961-a302-5ca5c1a1e743",
   "metadata": {
    "tags": []
   },
   "source": [
    "### Generate a CSV for each trial"
   ]
  },
  {
   "cell_type": "code",
   "execution_count": 6,
   "id": "fd899ac0-e5af-4142-b25b-5b99a27e952a",
   "metadata": {
    "scrolled": true,
    "tags": []
   },
   "outputs": [
    {
     "name": "stdout",
     "output_type": "stream",
     "text": [
      "(1/2) Processing 20 trials from saved_explainers/ade20k/concepts/labeled/filter_attr_150/hidden_NA\n",
      "Processing 000_uncertainty-annotation_PARTICIPANT_SESSION_2023-05-03_17h26.47.486.csv\n",
      "Processing 001_uncertainty-annotation_PARTICIPANT_SESSION_2023-05-03_17h35.07.423.csv\n",
      "Processing 002_uncertainty-annotation_PARTICIPANT_SESSION_2023-05-03_17h40.48.508.csv\n",
      "Processing 003_uncertainty-annotation_PARTICIPANT_SESSION_2023-05-03_17h48.15.198.csv\n",
      "Processing 004_uncertainty-annotation_PARTICIPANT_SESSION_2023-05-03_17h55.01.103.csv\n",
      "Processing 005_uncertainty-annotation_PARTICIPANT_SESSION_2023-05-03_18h00.12.78.csv\n",
      "Processing 006_uncertainty-annotation_PARTICIPANT_SESSION_2023-05-03_18h05.33.934.csv\n",
      "Processing 007_uncertainty-annotation_PARTICIPANT_SESSION_2023-05-03_18h11.11.320.csv\n",
      "Processing 008_uncertainty-annotation_PARTICIPANT_SESSION_2023-05-04_09h23.31.131.csv\n",
      "Processing 009_uncertainty-annotation_PARTICIPANT_SESSION_2023-05-04_09h28.52.510.csv\n",
      "Processing 010_uncertainty-annotation_PARTICIPANT_SESSION_2023-07-25_15h16.38.745.csv\n",
      "Processing 011_uncertainty-annotation_PARTICIPANT_SESSION_2023-07-25_15h22.46.400.csv\n",
      "Processing 012_uncertainty-annotation_PARTICIPANT_SESSION_2023-07-25_15h27.43.459.csv\n",
      "Processing 013_uncertainty-annotation_PARTICIPANT_SESSION_2023-07-25_15h32.39.352.csv\n",
      "Processing 014_uncertainty-annotation_PARTICIPANT_SESSION_2023-07-25_15h36.47.508.csv\n",
      "Processing 015_uncertainty-annotation_PARTICIPANT_SESSION_2023-07-25_15h40.45.138.csv\n",
      "Processing 016_uncertainty-annotation_PARTICIPANT_SESSION_2023-07-25_15h44.30.219.csv\n",
      "Processing 017_uncertainty-annotation_PARTICIPANT_SESSION_2023-07-25_15h48.43.538.csv\n",
      "Processing 018_uncertainty-annotation_PARTICIPANT_SESSION_2023-07-25_15h54.01.824.csv\n",
      "Processing 019_uncertainty-annotation_PARTICIPANT_SESSION_2023-07-25_15h58.41.329.csv\n",
      "Processing 020_uncertainty-annotation_PARTICIPANT_SESSION_2023-07-26_15h20.35.456.csv\n",
      "Processing 021_uncertainty-annotation_PARTICIPANT_SESSION_2023-07-26_15h24.32.710.csv\n",
      "Processing 022_uncertainty-annotation_PARTICIPANT_SESSION_2023-07-26_15h28.21.96.csv\n",
      "Processing 023_uncertainty-annotation_PARTICIPANT_SESSION_2023-07-26_15h33.09.444.csv\n",
      "Processing 024_uncertainty-annotation_PARTICIPANT_SESSION_2023-07-26_15h37.18.886.csv\n",
      "Processing 025_uncertainty-annotation_PARTICIPANT_SESSION_2023-07-26_15h40.59.332.csv\n",
      "Processing 026_uncertainty-annotation_PARTICIPANT_SESSION_2023-07-26_15h45.23.227.csv\n",
      "Processing 027_uncertainty-annotation_PARTICIPANT_SESSION_2023-07-26_15h49.49.760.csv\n",
      "Processing 028_uncertainty-annotation_PARTICIPANT_SESSION_2023-07-26_15h53.51.578.csv\n",
      "Processing 029_uncertainty-annotation_PARTICIPANT_SESSION_2023-07-26_15h57.32.697.csv\n",
      "Processing 030_uncertainty-annotation_PARTICIPANT_SESSION_2023-07-26_17h22.20.667.csv\n"
     ]
    },
    {
     "name": "stderr",
     "output_type": "stream",
     "text": [
      "100%|████████████████████████████████████████| 930/930 [00:00<00:00, 33442.24it/s]\n"
     ]
    },
    {
     "name": "stdout",
     "output_type": "stream",
     "text": [
      "Saved human outputs to saved/ADE20K/survey_results/human_outputs_predictions.pth\n",
      "Adding outputs to dataframe...\n",
      "Adding uncertainty to dataframe...\n",
      "Adding alignment to dataframe...\n",
      "Adding 5 way breakdown to dataframe...\n",
      "44.624% samples in case1\n",
      "15.806% samples in case2\n",
      "19.892% samples in case3\n",
      "6.667% samples in case4\n",
      "13.011% samples in case5\n",
      "Saved dataframe to saved_explainers/ade20k/concepts/labeled/filter_attr_150/hidden_NA/repeated_trials/1/uncertainties_alignment.csv\n",
      "Adding outputs to dataframe...\n",
      "Adding uncertainty to dataframe...\n",
      "Adding alignment to dataframe...\n",
      "Adding 5 way breakdown to dataframe...\n",
      "44.839% samples in case1\n",
      "15.914% samples in case2\n",
      "19.677% samples in case3\n",
      "6.774% samples in case4\n",
      "12.796% samples in case5\n",
      "Saved dataframe to saved_explainers/ade20k/concepts/labeled/filter_attr_150/hidden_NA/repeated_trials/2/uncertainties_alignment.csv\n",
      "Adding outputs to dataframe...\n",
      "Adding uncertainty to dataframe...\n",
      "Adding alignment to dataframe...\n",
      "Adding 5 way breakdown to dataframe...\n",
      "44.409% samples in case1\n",
      "15.484% samples in case2\n",
      "20.108% samples in case3\n",
      "7.097% samples in case4\n",
      "12.903% samples in case5\n",
      "Saved dataframe to saved_explainers/ade20k/concepts/labeled/filter_attr_150/hidden_NA/repeated_trials/3/uncertainties_alignment.csv\n",
      "Adding outputs to dataframe...\n",
      "Adding uncertainty to dataframe...\n",
      "Adding alignment to dataframe...\n",
      "Adding 5 way breakdown to dataframe...\n",
      "45.054% samples in case1\n",
      "15.591% samples in case2\n",
      "19.462% samples in case3\n",
      "7.097% samples in case4\n",
      "12.796% samples in case5\n",
      "Saved dataframe to saved_explainers/ade20k/concepts/labeled/filter_attr_150/hidden_NA/repeated_trials/4/uncertainties_alignment.csv\n",
      "Adding outputs to dataframe...\n",
      "Adding uncertainty to dataframe...\n",
      "Adding alignment to dataframe...\n",
      "Adding 5 way breakdown to dataframe...\n",
      "45.161% samples in case1\n",
      "15.699% samples in case2\n",
      "19.355% samples in case3\n",
      "7.097% samples in case4\n",
      "12.688% samples in case5\n",
      "Saved dataframe to saved_explainers/ade20k/concepts/labeled/filter_attr_150/hidden_NA/repeated_trials/5/uncertainties_alignment.csv\n",
      "Adding outputs to dataframe...\n",
      "Adding uncertainty to dataframe...\n",
      "Adding alignment to dataframe...\n",
      "Adding 5 way breakdown to dataframe...\n",
      "44.301% samples in case1\n",
      "15.591% samples in case2\n",
      "20.215% samples in case3\n",
      "6.882% samples in case4\n",
      "13.011% samples in case5\n",
      "Saved dataframe to saved_explainers/ade20k/concepts/labeled/filter_attr_150/hidden_NA/repeated_trials/6/uncertainties_alignment.csv\n",
      "Adding outputs to dataframe...\n",
      "Adding uncertainty to dataframe...\n",
      "Adding alignment to dataframe...\n",
      "Adding 5 way breakdown to dataframe...\n",
      "44.946% samples in case1\n",
      "15.054% samples in case2\n",
      "19.570% samples in case3\n",
      "7.204% samples in case4\n",
      "13.226% samples in case5\n",
      "Saved dataframe to saved_explainers/ade20k/concepts/labeled/filter_attr_150/hidden_NA/repeated_trials/7/uncertainties_alignment.csv\n",
      "Adding outputs to dataframe...\n",
      "Adding uncertainty to dataframe...\n",
      "Adding alignment to dataframe...\n",
      "Adding 5 way breakdown to dataframe...\n",
      "44.839% samples in case1\n",
      "16.129% samples in case2\n",
      "19.677% samples in case3\n",
      "6.882% samples in case4\n",
      "12.473% samples in case5\n",
      "Saved dataframe to saved_explainers/ade20k/concepts/labeled/filter_attr_150/hidden_NA/repeated_trials/8/uncertainties_alignment.csv\n",
      "Adding outputs to dataframe...\n",
      "Adding uncertainty to dataframe...\n",
      "Adding alignment to dataframe...\n",
      "Adding 5 way breakdown to dataframe...\n",
      "45.054% samples in case1\n",
      "15.161% samples in case2\n",
      "19.462% samples in case3\n",
      "7.097% samples in case4\n",
      "13.226% samples in case5\n",
      "Saved dataframe to saved_explainers/ade20k/concepts/labeled/filter_attr_150/hidden_NA/repeated_trials/9/uncertainties_alignment.csv\n",
      "Adding outputs to dataframe...\n",
      "Adding uncertainty to dataframe...\n",
      "Adding alignment to dataframe...\n",
      "Adding 5 way breakdown to dataframe...\n",
      "44.731% samples in case1\n",
      "15.376% samples in case2\n",
      "19.785% samples in case3\n",
      "6.989% samples in case4\n",
      "13.118% samples in case5\n",
      "Saved dataframe to saved_explainers/ade20k/concepts/labeled/filter_attr_150/hidden_NA/repeated_trials/10/uncertainties_alignment.csv\n",
      "Adding outputs to dataframe...\n",
      "Adding uncertainty to dataframe...\n",
      "Adding alignment to dataframe...\n",
      "Adding 5 way breakdown to dataframe...\n",
      "45.161% samples in case1\n",
      "15.699% samples in case2\n",
      "19.355% samples in case3\n",
      "7.204% samples in case4\n",
      "12.581% samples in case5\n",
      "Saved dataframe to saved_explainers/ade20k/concepts/labeled/filter_attr_150/hidden_NA/repeated_trials/11/uncertainties_alignment.csv\n",
      "Adding outputs to dataframe...\n",
      "Adding uncertainty to dataframe...\n",
      "Adding alignment to dataframe...\n",
      "Adding 5 way breakdown to dataframe...\n",
      "44.946% samples in case1\n",
      "15.484% samples in case2\n",
      "19.570% samples in case3\n",
      "6.989% samples in case4\n",
      "13.011% samples in case5\n",
      "Saved dataframe to saved_explainers/ade20k/concepts/labeled/filter_attr_150/hidden_NA/repeated_trials/12/uncertainties_alignment.csv\n",
      "Adding outputs to dataframe...\n",
      "Adding uncertainty to dataframe...\n",
      "Adding alignment to dataframe...\n",
      "Adding 5 way breakdown to dataframe...\n",
      "45.484% samples in case1\n",
      "15.699% samples in case2\n",
      "19.032% samples in case3\n",
      "7.204% samples in case4\n",
      "12.581% samples in case5\n",
      "Saved dataframe to saved_explainers/ade20k/concepts/labeled/filter_attr_150/hidden_NA/repeated_trials/13/uncertainties_alignment.csv\n",
      "Adding outputs to dataframe...\n",
      "Adding uncertainty to dataframe...\n",
      "Adding alignment to dataframe...\n",
      "Adding 5 way breakdown to dataframe...\n",
      "44.731% samples in case1\n",
      "15.591% samples in case2\n",
      "19.785% samples in case3\n",
      "7.312% samples in case4\n",
      "12.581% samples in case5\n",
      "Saved dataframe to saved_explainers/ade20k/concepts/labeled/filter_attr_150/hidden_NA/repeated_trials/14/uncertainties_alignment.csv\n",
      "Adding outputs to dataframe...\n",
      "Adding uncertainty to dataframe...\n",
      "Adding alignment to dataframe...\n",
      "Adding 5 way breakdown to dataframe...\n",
      "44.624% samples in case1\n",
      "15.914% samples in case2\n",
      "19.892% samples in case3\n",
      "6.989% samples in case4\n",
      "12.581% samples in case5\n",
      "Saved dataframe to saved_explainers/ade20k/concepts/labeled/filter_attr_150/hidden_NA/repeated_trials/15/uncertainties_alignment.csv\n",
      "Adding outputs to dataframe...\n",
      "Adding uncertainty to dataframe...\n",
      "Adding alignment to dataframe...\n",
      "Adding 5 way breakdown to dataframe...\n",
      "45.376% samples in case1\n",
      "15.591% samples in case2\n",
      "19.140% samples in case3\n",
      "6.989% samples in case4\n",
      "12.903% samples in case5\n",
      "Saved dataframe to saved_explainers/ade20k/concepts/labeled/filter_attr_150/hidden_NA/repeated_trials/16/uncertainties_alignment.csv\n",
      "Adding outputs to dataframe...\n",
      "Adding uncertainty to dataframe...\n",
      "Adding alignment to dataframe...\n",
      "Adding 5 way breakdown to dataframe...\n",
      "45.161% samples in case1\n",
      "15.161% samples in case2\n",
      "19.355% samples in case3\n",
      "7.097% samples in case4\n",
      "13.226% samples in case5\n",
      "Saved dataframe to saved_explainers/ade20k/concepts/labeled/filter_attr_150/hidden_NA/repeated_trials/17/uncertainties_alignment.csv\n",
      "Adding outputs to dataframe...\n",
      "Adding uncertainty to dataframe...\n",
      "Adding alignment to dataframe...\n",
      "Adding 5 way breakdown to dataframe...\n",
      "45.161% samples in case1\n",
      "15.591% samples in case2\n",
      "19.355% samples in case3\n",
      "7.097% samples in case4\n",
      "12.796% samples in case5\n",
      "Saved dataframe to saved_explainers/ade20k/concepts/labeled/filter_attr_150/hidden_NA/repeated_trials/18/uncertainties_alignment.csv\n",
      "Adding outputs to dataframe...\n",
      "Adding uncertainty to dataframe...\n",
      "Adding alignment to dataframe...\n",
      "Adding 5 way breakdown to dataframe...\n",
      "45.269% samples in case1\n",
      "15.591% samples in case2\n",
      "19.247% samples in case3\n",
      "7.097% samples in case4\n",
      "12.796% samples in case5\n",
      "Saved dataframe to saved_explainers/ade20k/concepts/labeled/filter_attr_150/hidden_NA/repeated_trials/19/uncertainties_alignment.csv\n",
      "Adding outputs to dataframe...\n",
      "Adding uncertainty to dataframe...\n",
      "Adding alignment to dataframe...\n",
      "Adding 5 way breakdown to dataframe...\n",
      "44.731% samples in case1\n",
      "16.237% samples in case2\n",
      "19.785% samples in case3\n",
      "6.667% samples in case4\n",
      "12.581% samples in case5\n",
      "Saved dataframe to saved_explainers/ade20k/concepts/labeled/filter_attr_150/hidden_NA/repeated_trials/20/uncertainties_alignment.csv\n",
      "(2/2) Processing 20 trials from saved_explainers/ade20k/concepts/cav/filter_attr_150/hidden_NA\n",
      "Adding outputs to dataframe...\n",
      "Adding uncertainty to dataframe...\n",
      "Adding alignment to dataframe...\n",
      "Adding 5 way breakdown to dataframe...\n",
      "51.505% samples in case1\n",
      "18.387% samples in case2\n",
      "13.011% samples in case3\n",
      "6.344% samples in case4\n",
      "10.753% samples in case5\n",
      "Saved dataframe to saved_explainers/ade20k/concepts/cav/filter_attr_150/hidden_NA/repeated_trials/1/uncertainties_alignment.csv\n",
      "Adding outputs to dataframe...\n",
      "Adding uncertainty to dataframe...\n",
      "Adding alignment to dataframe...\n",
      "Adding 5 way breakdown to dataframe...\n",
      "51.398% samples in case1\n",
      "19.032% samples in case2\n",
      "13.118% samples in case3\n",
      "6.667% samples in case4\n",
      "9.785% samples in case5\n",
      "Saved dataframe to saved_explainers/ade20k/concepts/cav/filter_attr_150/hidden_NA/repeated_trials/2/uncertainties_alignment.csv\n",
      "Adding outputs to dataframe...\n",
      "Adding uncertainty to dataframe...\n",
      "Adding alignment to dataframe...\n",
      "Adding 5 way breakdown to dataframe...\n",
      "51.720% samples in case1\n",
      "19.032% samples in case2\n",
      "12.796% samples in case3\n",
      "6.667% samples in case4\n",
      "9.785% samples in case5\n",
      "Saved dataframe to saved_explainers/ade20k/concepts/cav/filter_attr_150/hidden_NA/repeated_trials/3/uncertainties_alignment.csv\n",
      "Adding outputs to dataframe...\n",
      "Adding uncertainty to dataframe...\n",
      "Adding alignment to dataframe...\n",
      "Adding 5 way breakdown to dataframe...\n",
      "50.645% samples in case1\n",
      "18.710% samples in case2\n",
      "13.871% samples in case3\n",
      "6.882% samples in case4\n",
      "9.892% samples in case5\n",
      "Saved dataframe to saved_explainers/ade20k/concepts/cav/filter_attr_150/hidden_NA/repeated_trials/4/uncertainties_alignment.csv\n",
      "Adding outputs to dataframe...\n",
      "Adding uncertainty to dataframe...\n",
      "Adding alignment to dataframe...\n",
      "Adding 5 way breakdown to dataframe...\n",
      "51.828% samples in case1\n",
      "18.387% samples in case2\n",
      "12.688% samples in case3\n",
      "6.667% samples in case4\n",
      "10.430% samples in case5\n",
      "Saved dataframe to saved_explainers/ade20k/concepts/cav/filter_attr_150/hidden_NA/repeated_trials/5/uncertainties_alignment.csv\n",
      "Adding outputs to dataframe...\n",
      "Adding uncertainty to dataframe...\n",
      "Adding alignment to dataframe...\n",
      "Adding 5 way breakdown to dataframe...\n",
      "51.720% samples in case1\n",
      "18.925% samples in case2\n",
      "12.796% samples in case3\n",
      "6.667% samples in case4\n",
      "9.892% samples in case5\n",
      "Saved dataframe to saved_explainers/ade20k/concepts/cav/filter_attr_150/hidden_NA/repeated_trials/6/uncertainties_alignment.csv\n",
      "Adding outputs to dataframe...\n",
      "Adding uncertainty to dataframe...\n",
      "Adding alignment to dataframe...\n",
      "Adding 5 way breakdown to dataframe...\n",
      "51.828% samples in case1\n",
      "19.247% samples in case2\n",
      "12.688% samples in case3\n",
      "6.882% samples in case4\n",
      "9.355% samples in case5\n",
      "Saved dataframe to saved_explainers/ade20k/concepts/cav/filter_attr_150/hidden_NA/repeated_trials/7/uncertainties_alignment.csv\n",
      "Adding outputs to dataframe...\n",
      "Adding uncertainty to dataframe...\n",
      "Adding alignment to dataframe...\n",
      "Adding 5 way breakdown to dataframe...\n",
      "51.290% samples in case1\n",
      "19.355% samples in case2\n",
      "13.226% samples in case3\n",
      "7.097% samples in case4\n",
      "9.032% samples in case5\n",
      "Saved dataframe to saved_explainers/ade20k/concepts/cav/filter_attr_150/hidden_NA/repeated_trials/8/uncertainties_alignment.csv\n",
      "Adding outputs to dataframe...\n",
      "Adding uncertainty to dataframe...\n",
      "Adding alignment to dataframe...\n",
      "Adding 5 way breakdown to dataframe...\n",
      "51.183% samples in case1\n",
      "19.140% samples in case2\n",
      "13.333% samples in case3\n",
      "7.097% samples in case4\n",
      "9.247% samples in case5\n",
      "Saved dataframe to saved_explainers/ade20k/concepts/cav/filter_attr_150/hidden_NA/repeated_trials/9/uncertainties_alignment.csv\n",
      "Adding outputs to dataframe...\n",
      "Adding uncertainty to dataframe...\n",
      "Adding alignment to dataframe...\n",
      "Adding 5 way breakdown to dataframe...\n",
      "51.290% samples in case1\n",
      "18.710% samples in case2\n",
      "13.226% samples in case3\n",
      "6.774% samples in case4\n",
      "10.000% samples in case5\n",
      "Saved dataframe to saved_explainers/ade20k/concepts/cav/filter_attr_150/hidden_NA/repeated_trials/10/uncertainties_alignment.csv\n",
      "Adding outputs to dataframe...\n",
      "Adding uncertainty to dataframe...\n",
      "Adding alignment to dataframe...\n",
      "Adding 5 way breakdown to dataframe...\n",
      "50.860% samples in case1\n",
      "18.280% samples in case2\n",
      "13.656% samples in case3\n",
      "7.097% samples in case4\n",
      "10.108% samples in case5\n",
      "Saved dataframe to saved_explainers/ade20k/concepts/cav/filter_attr_150/hidden_NA/repeated_trials/11/uncertainties_alignment.csv\n",
      "Adding outputs to dataframe...\n",
      "Adding uncertainty to dataframe...\n",
      "Adding alignment to dataframe...\n",
      "Adding 5 way breakdown to dataframe...\n",
      "51.075% samples in case1\n",
      "18.925% samples in case2\n",
      "13.441% samples in case3\n",
      "6.882% samples in case4\n",
      "9.677% samples in case5\n",
      "Saved dataframe to saved_explainers/ade20k/concepts/cav/filter_attr_150/hidden_NA/repeated_trials/12/uncertainties_alignment.csv\n",
      "Adding outputs to dataframe...\n",
      "Adding uncertainty to dataframe...\n",
      "Adding alignment to dataframe...\n",
      "Adding 5 way breakdown to dataframe...\n",
      "51.505% samples in case1\n",
      "18.602% samples in case2\n",
      "13.011% samples in case3\n",
      "6.452% samples in case4\n",
      "10.430% samples in case5\n",
      "Saved dataframe to saved_explainers/ade20k/concepts/cav/filter_attr_150/hidden_NA/repeated_trials/13/uncertainties_alignment.csv\n",
      "Adding outputs to dataframe...\n",
      "Adding uncertainty to dataframe...\n",
      "Adding alignment to dataframe...\n",
      "Adding 5 way breakdown to dataframe...\n",
      "50.753% samples in case1\n",
      "18.710% samples in case2\n",
      "13.763% samples in case3\n",
      "6.774% samples in case4\n",
      "10.000% samples in case5\n",
      "Saved dataframe to saved_explainers/ade20k/concepts/cav/filter_attr_150/hidden_NA/repeated_trials/14/uncertainties_alignment.csv\n",
      "Adding outputs to dataframe...\n",
      "Adding uncertainty to dataframe...\n",
      "Adding alignment to dataframe...\n",
      "Adding 5 way breakdown to dataframe...\n",
      "51.075% samples in case1\n",
      "18.495% samples in case2\n",
      "13.441% samples in case3\n",
      "7.312% samples in case4\n",
      "9.677% samples in case5\n",
      "Saved dataframe to saved_explainers/ade20k/concepts/cav/filter_attr_150/hidden_NA/repeated_trials/15/uncertainties_alignment.csv\n",
      "Adding outputs to dataframe...\n",
      "Adding uncertainty to dataframe...\n",
      "Adding alignment to dataframe...\n",
      "Adding 5 way breakdown to dataframe...\n",
      "50.968% samples in case1\n",
      "18.280% samples in case2\n",
      "13.548% samples in case3\n",
      "7.097% samples in case4\n",
      "10.108% samples in case5\n",
      "Saved dataframe to saved_explainers/ade20k/concepts/cav/filter_attr_150/hidden_NA/repeated_trials/16/uncertainties_alignment.csv\n",
      "Adding outputs to dataframe...\n",
      "Adding uncertainty to dataframe...\n",
      "Adding alignment to dataframe...\n",
      "Adding 5 way breakdown to dataframe...\n",
      "51.613% samples in case1\n",
      "18.710% samples in case2\n",
      "12.903% samples in case3\n",
      "6.989% samples in case4\n",
      "9.785% samples in case5\n",
      "Saved dataframe to saved_explainers/ade20k/concepts/cav/filter_attr_150/hidden_NA/repeated_trials/17/uncertainties_alignment.csv\n",
      "Adding outputs to dataframe...\n",
      "Adding uncertainty to dataframe...\n",
      "Adding alignment to dataframe...\n",
      "Adding 5 way breakdown to dataframe...\n",
      "51.613% samples in case1\n",
      "18.710% samples in case2\n",
      "12.903% samples in case3\n",
      "6.774% samples in case4\n",
      "10.000% samples in case5\n",
      "Saved dataframe to saved_explainers/ade20k/concepts/cav/filter_attr_150/hidden_NA/repeated_trials/18/uncertainties_alignment.csv\n",
      "Adding outputs to dataframe...\n",
      "Adding uncertainty to dataframe...\n",
      "Adding alignment to dataframe...\n",
      "Adding 5 way breakdown to dataframe...\n",
      "51.505% samples in case1\n",
      "18.602% samples in case2\n",
      "13.011% samples in case3\n",
      "6.774% samples in case4\n",
      "10.108% samples in case5\n",
      "Saved dataframe to saved_explainers/ade20k/concepts/cav/filter_attr_150/hidden_NA/repeated_trials/19/uncertainties_alignment.csv\n",
      "Adding outputs to dataframe...\n",
      "Adding uncertainty to dataframe...\n",
      "Adding alignment to dataframe...\n",
      "Adding 5 way breakdown to dataframe...\n",
      "51.398% samples in case1\n",
      "19.785% samples in case2\n",
      "13.118% samples in case3\n",
      "7.097% samples in case4\n",
      "8.602% samples in case5\n",
      "Saved dataframe to saved_explainers/ade20k/concepts/cav/filter_attr_150/hidden_NA/repeated_trials/20/uncertainties_alignment.csv\n"
     ]
    }
   ],
   "source": [
    "# Save CSVs for uncertainties and Agreement for each trial\n",
    "overwrite = True\n",
    "for idx, (_, repeated_trials_parent) in enumerate(paths):\n",
    "    repeated_trials_dir = os.path.join(repeated_trials_parent, 'repeated_trials')\n",
    "    n_trials = len(os.listdir(repeated_trials_dir))\n",
    "    print(\"({}/{}) Processing {} trials from {}\".format(idx + 1, len(paths), n_trials, repeated_trials_parent))\n",
    "    for trial_idx in range(1, n_trials+1):\n",
    "        trial_dir = os.path.join(repeated_trials_dir, str(trial_idx))\n",
    "        # Check trial dir exists\n",
    "        assert os.path.exists(trial_dir), \"Trial dir {} does not exist\".format(trial_dir)\n",
    "        \n",
    "        # Check if CSV already exists\n",
    "        trial_csv_save_path = os.path.join(trial_dir, 'uncertainties_alignment.csv')\n",
    "        if os.path.exists(trial_csv_save_path) and not overwrite:\n",
    "            print(\"CSV already exists in {}. Continuing...\".format(trial_dir))\n",
    "            continue\n",
    "        \n",
    "        # Generate CSV for this trial\n",
    "        trial_outputs_path = os.path.join(trial_dir, 'outputs_predictions.pth')\n",
    "        df = generate_csv(\n",
    "            dataset_name=dataset_name.split('_')[0],\n",
    "            explainer_output_path=trial_outputs_path,\n",
    "            human_output_path=human_output_path,\n",
    "            model_output_path=model_output_path,\n",
    "            csv_save_dir=trial_dir,\n",
    "            overwrite=overwrite)\n",
    "    # Generate a csv for just human and model\n",
    "    human_model_csv_save_path = os.path.join(repeated_trials_parent, 'human_model_uncertainties_alignment.csv')\n",
    "    keep_columns = []\n",
    "    df = pd.read_csv(trial_csv_save_path)\n",
    "    for column in df.columns:\n",
    "        if 'explainer' not in column and 'case' not in column:\n",
    "            keep_columns.append(column)\n",
    "    human_model_df = df[keep_columns]\n",
    "    human_model_df.to_csv(human_model_csv_save_path)\n",
    "    "
   ]
  },
  {
   "cell_type": "markdown",
   "id": "d95069ba-2567-45c7-aea7-44de6d51a758",
   "metadata": {
    "tags": []
   },
   "source": [
    "### Save idxs for each partition for each trial"
   ]
  },
  {
   "cell_type": "code",
   "execution_count": 7,
   "id": "a063be57-2a8f-43ce-a805-89fcc7a142e7",
   "metadata": {
    "tags": []
   },
   "outputs": [],
   "source": [
    "def get_5_way_breakdown_idxs(human_out, model_out, explainer_out):\n",
    "    idx_dict = {}\n",
    "    \n",
    "    # Case 1: Model-Human-Explainer Agreement\n",
    "    idxs = set(np.nonzero(np.where(human_out['predictions'] == model_out['predictions'], 1, 0) & \n",
    "                      np.where(human_out['predictions'] == explainer_out['predictions'], 1, 0))[0])\n",
    "    idx_dict['case1'] = idxs\n",
    "    \n",
    "    # Case 2: Model-Explainer Agreement; Human Disagreement\n",
    "    idxs = set(np.nonzero(np.where(explainer_out['predictions'] == model_out['predictions'], 1, 0) & \n",
    "                      np.where(human_out['predictions'] != explainer_out['predictions'], 1, 0))[0])\n",
    "    idx_dict['case2'] = idxs\n",
    "    \n",
    "    # Case 3: Model-Human Agreement; Explainer Disagreement\n",
    "    idxs = set(np.nonzero(np.where(human_out['predictions'] == model_out['predictions'], 1, 0) & \n",
    "                      np.where(human_out['predictions'] != explainer_out['predictions'], 1, 0))[0])\n",
    "    idx_dict['case3'] = idxs\n",
    "    \n",
    "    # Case 4: Explainer-Human Agreement; Model Disagreement\n",
    "    idxs = set(np.nonzero(np.where(human_out['predictions'] == explainer_out['predictions'], 1, 0) & \n",
    "                      np.where(human_out['predictions'] != model_out['predictions'], 1, 0))[0])\n",
    "    idx_dict['case4'] = idxs\n",
    "    \n",
    "    # Case 5: All Disagree\n",
    "    idxs = set(np.nonzero(np.where(human_out['predictions'] != explainer_out['predictions'], 1, 0) & \n",
    "                      np.where(human_out['predictions'] != model_out['predictions'], 1, 0) &\n",
    "                      np.where(explainer_out['predictions'] != model_out['predictions'], 1, 0))[0])\n",
    "    idx_dict['case5'] = idxs\n",
    "    \n",
    "    # Assert 5 cases have no overlap\n",
    "    for i in range(1, 5):\n",
    "        for j in range(i+1, 6):\n",
    "            assert len(set(idx_dict['case{}'.format(i)]).intersection(set(idx_dict['case{}'.format(j)]))) == 0\n",
    "    \n",
    "    return idx_dict\n",
    "\n",
    "def get_kth_predictions(probabilities, top_predictions, k=2):\n",
    "    '''\n",
    "    Given an N x C np.array of probabilities, return the kth predictions\n",
    "    \n",
    "    Arg(s):\n",
    "        probabilities : N x C np.array\n",
    "            np.array of probabilities\n",
    "        k : int\n",
    "            rank of prediction to return\n",
    "    '''\n",
    "    # Assert valid inputs\n",
    "    assert len(probabilities.shape) == 2, \"Expected 2D probabilities array. Received {}D\".format(len(probabilities.shape))\n",
    "    assert k <= probabilities.shape[1], \"k ({}) must be less than or equal to number of classes ({})\".format(\n",
    "        k, probabilities.shape[1])\n",
    "    if k == 1:\n",
    "        return top_predictions\n",
    "    \n",
    "    # Obtain indices to sort (increasing probabilities)\n",
    "    argsort_idxs = np.argsort(probabilities, axis=1)\n",
    "    # Obtain kth predictions\n",
    "    kth_predictions = argsort_idxs[:, -k]\n",
    "    \n",
    "    # This occurs when the top prediction and the kth prediction have the same probability. \n",
    "    # Quick fix: swap it with the k-1th prediction?\n",
    "    if (kth_predictions == top_predictions).any():\n",
    "        # print(\"{}-th predictions match top predictions at following idxs: \".format(k))\n",
    "        repeat_idxs = np.where(kth_predictions==top_predictions)[0]\n",
    "        kth_predictions[repeat_idxs] = argsort_idxs[repeat_idxs, -k+1]\n",
    "        # print(repeat_idxs)\n",
    "        # print(probabilities[repeat_idxs])\n",
    "        # print(top_predictions[repeat_idxs])\n",
    "        # print(kth_predictions[repeat_idxs])\n",
    "    \n",
    "    return kth_predictions\n",
    "    \n",
    "# def get_top2_prediction_idxs(human_out, explainer_out, model_out):\n",
    "#     '''\n",
    "#     '''\n",
    "#     # Get 2nd predictions for explainer\n",
    "#     explainer_second_predictions = get_kth_predictions(\n",
    "#         probabilities=explainer_out['probabilities'],\n",
    "#         top_predictions=explainer_out['predictions'], \n",
    "#         k=2)\n",
    "#     # assert (explainer_second_predictions != explainer_out['predictions']).all()\n",
    "    \n",
    "#     # Get 2nd predictions for model\n",
    "#     model_second_predictions = get_kth_predictions(\n",
    "#         probabilities=model_out['probabilities'], \n",
    "#         top_predictions=model_out['predictions'],\n",
    "#         k=2)\n",
    "#     # assert (model_second_predictions != model_out['predictions']).all()\n",
    "    \n",
    "#     idx_dict = {}\n",
    "    \n",
    "#     # Get explainer2-model1 prediction idxs\n",
    "#     idx_dict['me2_overall'] = set(np.nonzero(explainer_second_predictions == model_out['predictions'])[0])\n",
    "    \n",
    "#     # Get explainer2-human1 prediction idxs\n",
    "#     idx_dict['he2_overall'] = set(np.nonzero(explainer_second_predictions == human_out['predictions'])[0])\n",
    "    \n",
    "#     # Get model2-human1 prediction idxs\n",
    "#     idx_dict['hm2_overall'] = set(np.nonzero(model_second_predictions == human_out['predictions'])[0])\n",
    "    \n",
    "#     return idx_dict\n",
    "\n",
    "# def get_me_he_table(idx_dict):\n",
    "#     '''\n",
    "#     Given the current idx dictionary, add a 3 x 3 table of indices of the interactions between human-explainer and model-explainer alignment\n",
    "    \n",
    "#     Arg(s):\n",
    "#         idx_dict : dictionary\n",
    "#             dictionary of str : indices of samples where the condition is true\n",
    "#     '''\n",
    "    \n",
    "#     # Update with 3x3 model-explainer grid as specified in this doc: \n",
    "#     # https://docs.google.com/document/d/1X0G_RdMEWoDVgh0b03ti2mLBU47rMBXXIUWMZEN7GZ8/edit\n",
    "#     table = []\n",
    "#     keys = ['{}e_overall', '{}e2_overall', '{}e_rest_misaligned']\n",
    "#     for row_idx in range(3):\n",
    "#         row = []\n",
    "#         # Rows correspond with human-explainer alignment\n",
    "#         row_key = keys[row_idx].format('h')\n",
    "#         for col_idx in range(3):\n",
    "#             # Columns correspond with model-explainer alignment\n",
    "#             col_key = keys[col_idx].format('m')\n",
    "#             row.append(idx_dict[row_key].intersection(idx_dict[col_key]))\n",
    "#         table.append(row)\n",
    "\n",
    "#     idx_dict['he_me_table'] = table\n",
    "        \n",
    "#     return idx_dict\n",
    "\n",
    "    \n",
    "def save_partition_idxs(outputs):\n",
    "    idx_dict = {}\n",
    "    human_out = outputs['human']\n",
    "    model_out = outputs['model']\n",
    "    explainer_out = outputs['explainer']\n",
    "    n_samples = len(explainer_out['predictions'])\n",
    "    \n",
    "    # All idxs\n",
    "    idxs = set([i for i in range(n_samples)])\n",
    "    idx_dict['all_idxs'] = idxs\n",
    "    \n",
    "    # Explainer-Model Agreement\n",
    "    idxs = np.nonzero(explainer_out['predictions'] == model_out['predictions'])[0]\n",
    "    idx_dict['me_overall'] = set(idxs)\n",
    "    \n",
    "    # Explainer-Human Agreement\n",
    "    idxs = np.nonzero(explainer_out['predictions'] == human_out['predictions'])[0]\n",
    "    idx_dict['he_overall'] = set(idxs)\n",
    "    \n",
    "    # Human-Model Agreement\n",
    "    idxs = np.nonzero(human_out['predictions'] == model_out['predictions'])[0]\n",
    "    idx_dict['hm_overall'] = set(idxs)\n",
    "    \n",
    "    # Update with 5-way breakdown idxs\n",
    "    idx_dict.update(get_5_way_breakdown_idxs(\n",
    "        human_out=human_out, \n",
    "        model_out=model_out, \n",
    "        explainer_out=explainer_out))\n",
    "    \n",
    "    # Update with explainer agrees with model's top-2 prediction\n",
    "    model_second_predictions = get_kth_predictions(\n",
    "        probabilities=model_out['probabilities'],\n",
    "        top_predictions=model_out['predictions'],\n",
    "        k=2)\n",
    "    idx_dict['m2e_overall'] = set(np.nonzero(explainer_out['predictions'] == model_second_predictions)[0])\n",
    "    # Ensure no overlap with the model explainer alignment\n",
    "    assert len(idx_dict['me_overall'].intersection(idx_dict['m2e_overall'])) == 0\n",
    "    \n",
    "    # Update with explainer disagrees with model top1 and top2 (all indices - (union(explainer-model top 1, explainer-model top 2)))\n",
    "    idx_dict['me_misaligned'] = idx_dict['all_idxs'].difference(idx_dict['me_overall'].union(idx_dict['m2e_overall']))\n",
    "    assert (len(idx_dict['me_misaligned']) + len(idx_dict['me_overall']) + len(idx_dict['m2e_overall'])) == len(idx_dict['all_idxs'])\n",
    "    assert len(idx_dict['me_misaligned'].intersection(idx_dict['me_overall'])) == 0\n",
    "    assert len(idx_dict['me_misaligned'].intersection(idx_dict['m2e_overall'])) == 0\n",
    "        \n",
    "    # Update with explainer misaligned from model and agrees with human top 1\n",
    "    idx_dict['me_misaligned_h1e_overall'] = idx_dict['me_misaligned'].intersection(idx_dict['he_overall'])\n",
    "\n",
    "    \n",
    "    # Update with explainer misaligned from model and does not agree with human top 1 (misaligned - he_overall)\n",
    "    idx_dict['me_misaligned_rest'] = idx_dict['me_misaligned'].difference(idx_dict['he_overall'])\n",
    "    \n",
    "    \n",
    "#     # Update with Explainer's top2 prediction agreement\n",
    "#     idx_dict.update(get_top2_prediction_idxs(\n",
    "#         human_out=human_out, \n",
    "#         model_out=model_out, \n",
    "#         explainer_out=explainer_out))\n",
    "    \n",
    "#     # Update with model-explainer misaligned prediction idxs (beyond top2)\n",
    "#     idx_dict['me_misaligned'] = set([i for i in range(n_samples)]) - set(idx_dict['me_overall']).union(set(idx_dict['me2_overall']))\n",
    "\n",
    "#     # Assert no overlap between model-explainer aligned top1, only top2, and the rest\n",
    "#     assert len(set(idx_dict['me_misaligned']).intersection(idx_dict['me_overall'])) == 0\n",
    "#     assert len(set(idx_dict['me_misaligned']).intersection(idx_dict['me2_overall'])) == 0\n",
    "#     assert len(set(idx_dict['me2_overall']).intersection(idx_dict['me_overall'])) == 0\n",
    "    \n",
    "#     # Update with human-explainer misaligned prediction idxs (beyond top2)\n",
    "#     idx_dict['he_misaligned'] = set([i for i in range(n_samples)]) - set(idx_dict['he_overall']).union(set(idx_dict['he2_overall']))\n",
    "#     # Assert no overlap between human-explainer aligned top1, only top2, and the rest\n",
    "#     assert len(set(idx_dict['he_misaligned']).intersection(idx_dict['he_overall'])) == 0\n",
    "#     assert len(set(idx_dict['he_misaligned']).intersection(idx_dict['he2_overall'])) == 0\n",
    "#     assert len(set(idx_dict['he2_overall']).intersection(idx_dict['he_overall'])) == 0\n",
    "    \n",
    "#     # Update with 3x3 table of explainer1,2,rest-human alignment and explainer1,2,rest-model_alignment\n",
    "#     idx_dict = get_me_he_table(idx_dict)\n",
    "    \n",
    "#     # Update with \"when human and explainer are aligned, is it the model's second prediction?\"\n",
    "#     idx_dict['hem2_case4'] = idx_dict['hm2_overall'].intersection(idx_dict['case4'])\n",
    "    \n",
    "#     # Update with when the model and explainer are misaligned the explainer is aligned with the human\"\n",
    "#     idx_dict['me_misaligned_he'] = idx_dict['me_misaligned'].intersection(idx_dict['he_overall'])\n",
    "    \n",
    "#     # Update with \"when the model and explainer are misaligned, the explainer is not aligned with human\"\n",
    "#     idx_dict['me_misaligned_he_misaligned'] = idx_dict['me_misaligned'].difference(idx_dict['me_misaligned_he'])\n",
    "                                                              \n",
    "    return idx_dict"
   ]
  },
  {
   "cell_type": "code",
   "execution_count": 8,
   "id": "f750935e-0095-4a2b-b4e9-107e70fb260e",
   "metadata": {
    "scrolled": true,
    "tags": []
   },
   "outputs": [
    {
     "name": "stdout",
     "output_type": "stream",
     "text": [
      "(1/2) Processing 20 trials from saved_explainers/ade20k/concepts/labeled/filter_attr_150/hidden_NA\n",
      "(2/2) Processing 20 trials from saved_explainers/ade20k/concepts/cav/filter_attr_150/hidden_NA\n"
     ]
    }
   ],
   "source": [
    "debug = False\n",
    "# Save a list of partition idxs for each experimental trial\n",
    "for idx, (_, repeated_trials_parent) in enumerate(paths):\n",
    "    repeated_trials_dir = os.path.join(repeated_trials_parent, 'repeated_trials')\n",
    "    n_trials = len(os.listdir(repeated_trials_dir))\n",
    "    print(\"({}/{}) Processing {} trials from {}\".format(idx + 1, len(paths), n_trials, repeated_trials_parent))\n",
    "    partition_idxs_list = []\n",
    "    for trial_idx in range(1, n_trials+1):\n",
    "        trial_dir = os.path.join(repeated_trials_dir, str(trial_idx))\n",
    "        # Check trial dir exists\n",
    "        assert os.path.exists(trial_dir), \"Trial dir {} does not exist\".format(trial_dir)\n",
    "        \n",
    "        # Check if CSV already exists\n",
    "        if os.path.exists(os.path.join(trial_dir, 'parition_idxs.pth')):\n",
    "            print(\"File already exists at {}. Continuing...\".format(trial_dir))\n",
    "            continue\n",
    "        \n",
    "        # Generate CSV for this trial\n",
    "        trial_outputs_path = os.path.join(trial_dir, 'outputs_predictions.pth')\n",
    "        outputs = get_outputs(\n",
    "            dataset_name=dataset_name,\n",
    "            explainer_output_path=trial_outputs_path,\n",
    "            human_output_path=human_output_path,\n",
    "            model_output_path=model_output_path)\n",
    "        \n",
    "        partition_idxs = save_partition_idxs(outputs)\n",
    "        if debug:\n",
    "            print(\"ME aligned; M2E aligned; ME misaligned-HE aligned; ME misaligned-rest\")\n",
    "            print(len(partition_idxs['me_overall']), len(partition_idxs['m2e_overall']), len(partition_idxs['me_misaligned_h1e_overall']), len(partition_idxs['me_misaligned_rest']))\n",
    "            print(len(partition_idxs['me_overall']) + len(partition_idxs['m2e_overall']) + len(partition_idxs['me_misaligned_h1e_overall']) + len(partition_idxs['me_misaligned_rest']))\n",
    "        partition_idxs_list.append(partition_idxs)\n",
    "        \n",
    "    # Convert list of dicts to dict of lists\n",
    "    partition_idxs_dict_of_list = {}\n",
    "    # Iterate through all the keys\n",
    "    for key in partition_idxs_list[0].keys():\n",
    "        # For each repeated trial, add this key's values to the list\n",
    "        cur_list = []\n",
    "        for trial_partition_idxs in partition_idxs_list:\n",
    "            cur_list.append(trial_partition_idxs[key])\n",
    "        # Set the value in the dictionary\n",
    "        partition_idxs_dict_of_list[key] = cur_list\n",
    "        \n",
    "    repeated_trials_analysis_dir = os.path.join(repeated_trials_parent, 'repeated_trials_analysis')\n",
    "    ensure_dir(repeated_trials_analysis_dir)\n",
    "    partition_idxs_list_save_path = os.path.join(repeated_trials_analysis_dir, 'repeated_trials_partition_idxs.pth')\n",
    "    torch.save(partition_idxs_dict_of_list, partition_idxs_list_save_path)\n",
    "    if debug:\n",
    "        break\n",
    "        "
   ]
  },
  {
   "cell_type": "markdown",
   "id": "f09897d2-e3b7-4630-af3c-358573bfc884",
   "metadata": {},
   "source": [
    "## Create graphs"
   ]
  },
  {
   "cell_type": "markdown",
   "id": "6e31b34f-797f-40bc-ac8f-1cc29b6a81e1",
   "metadata": {
    "tags": []
   },
   "source": [
    "### Stacked bar chart of \n",
    "1. explainer1-model1 \n",
    "2. explainer1-model2\n",
    "3. explainer1-model3+-human1\n",
    "4. explainer1-model3+-human2+"
   ]
  },
  {
   "cell_type": "code",
   "execution_count": 10,
   "id": "97c051e5-f94d-437f-a1fb-fbe9177d10ea",
   "metadata": {
    "tags": []
   },
   "outputs": [],
   "source": [
    "def get_n_samples(partition_idxs, key):\n",
    "    '''\n",
    "    Given a key for partition idxs, return the number of samples for each trial as well as the mean and std across all trials\n",
    "    \n",
    "    Arg(s):\n",
    "        partition_idxs : dict\n",
    "            dictionary keyed by partition names. Values are lists of sets. Each list element corresponds with a trial. Each set is which image idxs are part of that set \n",
    "        key : str\n",
    "            key to index dictionary by\n",
    "        \n",
    "    Returns: \n",
    "        (n_samples, mean_n_samples, std_n_samples) : tuple(list, float, float)\n",
    "            tuple of \n",
    "                * number of samples per trial\n",
    "                * mean number of samples\n",
    "                * standard deviation number of samples\n",
    "    '''\n",
    "    assert key in partition_idxs, \"Key {} not found\".format(key)\n",
    "    n_samples = [len(l) for l in partition_idxs[key]]\n",
    "    mean_n_samples = np.mean(n_samples)\n",
    "    std_n_samples = np.std(n_samples)\n",
    "    \n",
    "    return n_samples, mean_n_samples, std_n_samples"
   ]
  },
  {
   "cell_type": "code",
   "execution_count": 11,
   "id": "adb3948e-728f-4040-b341-da9b49a84368",
   "metadata": {
    "tags": []
   },
   "outputs": [],
   "source": [
    "import matplotlib.pyplot as plt\n",
    "def stacked_horizontal_bar_chart(data,\n",
    "                                 fig=None,\n",
    "                                 ax=None,\n",
    "                                 bar_height=None,\n",
    "                                 labels=None,\n",
    "                                 legend=None,\n",
    "                                 title=None,\n",
    "                                 xlabel=None,\n",
    "                                 ylabel=None,\n",
    "                                 fig_size=None,\n",
    "                                 display_values=False,\n",
    "                                 show=True,\n",
    "                                 save_path=None):\n",
    "    '''\n",
    "    Create a stacked horizontal bar chart given data\n",
    "    \n",
    "    Arg(s):\n",
    "        data : N x C array or list\n",
    "            N: number of bar sections (1 row is 1 bar section)\n",
    "            C: number of bar classes (1 column is 1 group of whole bar stackings)\n",
    "        fig : plt.figure\n",
    "            Optional figure to pass in\n",
    "        ax : plt axis\n",
    "            Optional axis to pass in\n",
    "        labels : list[str]\n",
    "            C-length list of labels for each bar along y-axis\n",
    "        legend : list[str]\n",
    "            N-length list of labels for bar section (to be shown in legend)\n",
    "        title : str\n",
    "            title for bar graph\n",
    "        xlabel : str\n",
    "            label for x-axis\n",
    "        ylabel : str\n",
    "            label for y-axis\n",
    "        display_values : bool\n",
    "            whether or not to show numbers in each bar\n",
    "        show : bool\n",
    "            whether or not to display plot\n",
    "        fig_size : (float, float)\n",
    "            (width, height) of figure size\n",
    "        save_path : str\n",
    "            if not None, the path to save bar graph to\n",
    "            \n",
    "    '''    \n",
    "    if fig is None and ax is None:\n",
    "        plt.clf()\n",
    "        fig = plt.figure(figsize=fig_size)\n",
    "        ax = fig.add_subplot(1, 1, 1)\n",
    "    else:\n",
    "        assert fig is not None and ax is not None, \"fig and ax must both or neither be None\"\n",
    "\n",
    "    # Check valid data type\n",
    "    if type(data) == list and type(data[0]) == list:\n",
    "        data = np.array(data)\n",
    "    elif type(data) == list:\n",
    "        data = np.stack(data, axis=0)\n",
    "    assert len(data.shape) == 2, \"Expected 2D data, received {}D data.\".format(len(data.shape))\n",
    "    \n",
    "    n_sections, n_classes = data.shape\n",
    "    \n",
    "    # Check legend is valid\n",
    "    if legend is not None:\n",
    "        assert len(legend) == n_sections\n",
    "        \n",
    "    # Check labels are valid\n",
    "    if labels is not None:\n",
    "        assert len(labels) == n_classes\n",
    "        \n",
    "    # Set default bar_height\n",
    "    if bar_height is None:\n",
    "        bar_height = 0.8 \n",
    "\n",
    "    y_pos = np.arange(n_classes)\n",
    "    lefts = np.zeros((n_classes))\n",
    "    bars = []\n",
    "    for sections in data:\n",
    "        rects = ax.barh(\n",
    "                y=y_pos,\n",
    "                height=bar_height,\n",
    "                width=sections,\n",
    "                left=lefts)\n",
    "        bars.append(rects)\n",
    "        \n",
    "        if display_values:\n",
    "            ax.bar_label(rects, label_type='center', color='white')\n",
    "        lefts += sections\n",
    "    \n",
    "    # Display legend\n",
    "    if legend is not None:\n",
    "        ax.legend(bars, legend)\n",
    "        \n",
    "    # Label bars\n",
    "    if labels is not None:\n",
    "        ax.set_yticks(y_pos, labels)\n",
    "        \n",
    "    # Set axis labels and title\n",
    "    if xlabel is not None:\n",
    "        ax.set_xlabel(xlabel)\n",
    "    if ylabel is not None:\n",
    "        ax.set_ylabel(ylabel)\n",
    "    if title is not None:\n",
    "        ax.set_title(title)\n",
    "    \n",
    "    if fig_size is not None:\n",
    "        fig.set_figheight(fig_size[1])\n",
    "        fig.set_figwidth(fig_size[0])\n",
    "    plt.tight_layout()\n",
    "\n",
    "    # If save_path is not None, save graph\n",
    "    if save_path is not None:\n",
    "        if not os.path.isdir(os.path.dirname(save_path)):\n",
    "            os.makedirs(os.path.dirname(save_path))\n",
    "        plt.savefig(save_path)\n",
    "\n",
    "    # Show figure\n",
    "    if show:\n",
    "        plt.show()\n",
    "    return fig, ax\n",
    "            \n",
    "        "
   ]
  },
  {
   "cell_type": "code",
   "execution_count": 13,
   "id": "f15d0f2f-8761-4a47-9777-67d58a00c683",
   "metadata": {
    "tags": []
   },
   "outputs": [
    {
     "name": "stdout",
     "output_type": "stream",
     "text": [
      "[562, 565, 557, 564, 566, 557, 558, 567, 560, 559, 566, 562, 569, 561, 563, 567, 561, 565, 566, 567]\n",
      "[138, 144, 137, 139, 137, 143, 141, 138, 145, 142, 147, 141, 146, 144, 149, 139, 140, 142, 138, 139]\n",
      "[25, 24, 26, 26, 26, 25, 27, 25, 26, 26, 25, 25, 24, 27, 23, 26, 26, 25, 26, 25]\n",
      "[205, 197, 210, 201, 201, 205, 204, 200, 199, 203, 192, 202, 191, 198, 195, 198, 203, 198, 200, 199]\n",
      "563.1 141.45 25.4 200.05\n",
      "930.0\n"
     ]
    }
   ],
   "source": [
    "repeated_trials_parent = 'saved_explainers/ade20k/concepts/labeled/filter_attr_150/hidden_NA'\n",
    "explainer_id = os.path.basename(repeated_trials_parent)\n",
    "repeated_trials_analysis_dir = os.path.join(repeated_trials_parent, 'repeated_trials_analysis')\n",
    "partition_idxs_path = os.path.join(repeated_trials_analysis_dir, 'repeated_trials_partition_idxs.pth')\n",
    "partition_idxs = torch.load(partition_idxs_path)\n",
    "\n",
    "\n",
    "\n",
    "# Calculate average # samples in each group\n",
    "n_me_overalls, mean_n_me_overalls, std_n_me_overalls = get_n_samples(partition_idxs, 'me_overall')\n",
    "n_m2e_overalls, mean_n_m2e_overalls, std_n_m2e_overalls = get_n_samples(partition_idxs, 'm2e_overall')\n",
    "n_me_misaligned_h1e_overall, mean_n_me_misaligned_h1e_overall, std_n_me_misaligned_h1e_overall = get_n_samples(partition_idxs, 'me_misaligned_h1e_overall')\n",
    "n_me_misaligned_rest, mean_n_me_misaligned_rest, std_n_me_misaligned_rest = get_n_samples(partition_idxs, 'me_misaligned_rest')\n",
    "\n",
    "print(n_me_overalls)\n",
    "print(n_m2e_overalls)\n",
    "print(n_me_misaligned_h1e_overall)\n",
    "print(n_me_misaligned_rest)\n",
    "print(mean_n_me_overalls, mean_n_m2e_overalls, mean_n_me_misaligned_h1e_overall, mean_n_me_misaligned_rest)\n",
    "print(mean_n_me_overalls + mean_n_m2e_overalls + mean_n_me_misaligned_h1e_overall + mean_n_me_misaligned_rest)\n",
    "\n"
   ]
  },
  {
   "cell_type": "code",
   "execution_count": 18,
   "id": "e2124254-d60a-4525-a679-a94043696799",
   "metadata": {
    "tags": []
   },
   "outputs": [
    {
     "data": {
      "text/plain": [
       "<Figure size 432x288 with 0 Axes>"
      ]
     },
     "metadata": {},
     "output_type": "display_data"
    },
    {
     "data": {
      "image/png": "[encoded data removed]",
      "text/plain": [
       "<Figure size 720x576 with 1 Axes>"
      ]
     },
     "metadata": {
      "needs_background": "light"
     },
     "output_type": "display_data"
    },
    {
     "name": "stdout",
     "output_type": "stream",
     "text": [
      "Saved plot to saved_explainers/ade20k/concepts/labeled/filter_attr_150/hidden_NA/graphs/explainer_top1_alignment_stacked_bar.png\n"
     ]
    },
    {
     "data": {
      "text/plain": [
       "<Figure size 432x288 with 0 Axes>"
      ]
     },
     "metadata": {},
     "output_type": "display_data"
    },
    {
     "data": {
      "image/png": "[encoded data removed]",
      "text/plain": [
       "<Figure size 720x576 with 1 Axes>"
      ]
     },
     "metadata": {
      "needs_background": "light"
     },
     "output_type": "display_data"
    },
    {
     "name": "stdout",
     "output_type": "stream",
     "text": [
      "Saved plot to saved_explainers/ade20k/concepts/cav/filter_attr_150/hidden_NA/graphs/explainer_top1_alignment_stacked_bar.png\n",
      "[[563.1  652.3 ]\n",
      " [141.45 134.45]\n",
      " [ 25.4   22.7 ]\n",
      " [200.05 120.55]]\n"
     ]
    },
    {
     "data": {
      "text/plain": [
       "<Figure size 432x288 with 0 Axes>"
      ]
     },
     "metadata": {},
     "output_type": "display_data"
    },
    {
     "data": {
      "image/png": "[encoded data removed]",
      "text/plain": [
       "<Figure size 576x360 with 1 Axes>"
      ]
     },
     "metadata": {
      "needs_background": "light"
     },
     "output_type": "display_data"
    },
    {
     "name": "stdout",
     "output_type": "stream",
     "text": [
      "Saved plot to saved_explainers/ade20k/concepts/graphs/mean_explainer_top1_alignment_stacked_bar.png\n"
     ]
    }
   ],
   "source": [
    "legend = ['Model Top1', 'Model Top2', 'Human Top 1', 'Rest']\n",
    "\n",
    "keys = ['me_overall', 'm2e_overall', 'me_misaligned_h1e_overall', 'me_misaligned_rest']\n",
    "across_trial_means = []\n",
    "across_trial_stds = []\n",
    "id_head = 'concepts'\n",
    "explainer_ids = []\n",
    "parents = []\n",
    "for idx, (_, repeated_trials_parent) in enumerate(paths):\n",
    "    parents.append(repeated_trials_parent)\n",
    "    repeated_trials_dir = os.path.join(repeated_trials_parent, 'repeated_trials')\n",
    "    repeated_trials_analysis_dir = os.path.join(repeated_trials_parent, 'repeated_trials_analysis')\n",
    "    partition_idxs_path = os.path.join(repeated_trials_analysis_dir, 'repeated_trials_partition_idxs.pth')\n",
    "    partition_idxs = torch.load(partition_idxs_path)\n",
    "    graph_save_dir = os.path.join(repeated_trials_parent, 'graphs')\n",
    "    ensure_dir(graph_save_dir)\n",
    "    \n",
    "    # Get explainer ID based on path\n",
    "    explainer_id = repeated_trials_parent.split(id_head)[1]\n",
    "    explainer_ids.append(explainer_id)\n",
    "    \n",
    "    # Get n_samples in each partition\n",
    "    overalls = []\n",
    "    means = []\n",
    "    stds = []\n",
    "    # obtain the number of samples in each partition for this all trials\n",
    "    for key in keys:\n",
    "        n_overall, n_mean, n_std = get_n_samples(partition_idxs, key)\n",
    "        overalls.append(n_overall) # n_overall is a list of n_trials length\n",
    "        means.append(n_mean),\n",
    "        stds.append(n_std)\n",
    "\n",
    "    # Graph for repeated trials\n",
    "    save_path = os.path.join(graph_save_dir, 'explainer_top1_alignment_stacked_bar.png')\n",
    "    stacked_horizontal_bar_chart(\n",
    "        data=overalls,\n",
    "        bar_height=0.6,\n",
    "        labels=['Trial {}'.format(i+1) for i in range(len(overalls[0]))],\n",
    "        display_values=True,\n",
    "        legend=legend,\n",
    "        xlabel='Number of Samples',\n",
    "        ylabel='Trial Number',\n",
    "        title='{} Explainer Top-1 Agreement'.format(explainer_id),\n",
    "        fig_size=(10, 8),\n",
    "        save_path=save_path)\n",
    "    print(\"Saved plot to {}\".format(save_path))\n",
    "    \n",
    "    across_trial_means.append(means)\n",
    "    across_trial_stds.append(stds)\n",
    "    \n",
    "# Transpose means and stds from so each row corresponds with a bar section\n",
    "across_trial_means = np.array(across_trial_means).T\n",
    "across_trial_stds = np.array(across_trial_stds).T\n",
    "print(across_trial_means)\n",
    "\n",
    "# Graph for average across repeated trials while varying explainer\n",
    "shared_dir = os.path.commonpath(parents)\n",
    "shared_graph_dir = os.path.join(shared_dir, 'graphs')\n",
    "ensure_dir(shared_graph_dir)\n",
    "save_path = os.path.join(shared_graph_dir, 'mean_explainer_top1_alignment_stacked_bar.png')\n",
    "stacked_horizontal_bar_chart(\n",
    "    data=across_trial_means, \n",
    "    bar_height=0.8,\n",
    "    labels=explainer_ids,\n",
    "    display_values=True,\n",
    "    legend=legend,\n",
    "    xlabel='Number of Samples',\n",
    "    ylabel='Explainer Type',\n",
    "    title='Average Explainer Top-1 Agreement',\n",
    "    fig_size=(8,5),\n",
    "    save_path=save_path)\n",
    "print(\"Saved plot to {}\".format(save_path))"
   ]
  },
  {
   "cell_type": "markdown",
   "id": "7e1bfa72-e6a2-44d2-9a3a-d53d04a83434",
   "metadata": {},
   "source": [
    "### Plot human uncertainty in different breakdowns"
   ]
  },
  {
   "cell_type": "code",
   "execution_count": 42,
   "id": "79d139e2-3f28-4a5a-bca2-ea6b20013fb9",
   "metadata": {
    "scrolled": true,
    "tags": []
   },
   "outputs": [
    {
     "name": "stderr",
     "output_type": "stream",
     "text": [
      "No artists with labels found to put in legend.  Note that artists whose label start with an underscore are ignored when legend() is called with no argument.\n"
     ]
    },
    {
     "name": "stdout",
     "output_type": "stream",
     "text": [
      "Creating human entropy graph for saved_explainers/ade20k/concepts/labeled/n_1200/hidden_NA\n",
      "Across trials, human uncertainty for case1: 0.1942181107932701 (0.025175850323164606)\n",
      "Across trials, human uncertainty for case2: 0.5569381578376535 (0.04549083234441056)\n",
      "Across trials, human uncertainty for case3: 0.32143729256722847 (0.037826027978402316)\n",
      "Across trials, human uncertainty for case4: 0.27914849327473507 (0.08426795688886635)\n",
      "Across trials, human uncertainty for case5: 0.6180607735134785 (0.06775645847819747)\n",
      "[0.188455569033831, 0.1880366109581741, 0.1880773769810953, 0.19090498571824066, 0.20269240456967155, 0.19176405192185575, 0.19210534430376694, 0.19084160594918478, 0.19969520661790993, 0.1956390974384238, 0.19969520661790993, 0.1926059331370529, 0.1926059331370529, 0.19532558366537045, 0.1984711912206048, 0.188455569033831, 0.19347934251247376, 0.20148736615527035, 0.19508685569595816, 0.19893698119772368]\n"
     ]
    },
    {
     "data": {
      "text/plain": [
       "<Figure size 432x288 with 0 Axes>"
      ]
     },
     "metadata": {},
     "output_type": "display_data"
    },
    {
     "data": {
      "image/png": "[encoded data removed]",
      "text/plain": [
       "<Figure size 432x288 with 1 Axes>"
      ]
     },
     "metadata": {
      "needs_background": "light"
     },
     "output_type": "display_data"
    },
    {
     "name": "stderr",
     "output_type": "stream",
     "text": [
      "No artists with labels found to put in legend.  Note that artists whose label start with an underscore are ignored when legend() is called with no argument.\n"
     ]
    },
    {
     "name": "stdout",
     "output_type": "stream",
     "text": [
      "Creating human entropy graph for saved_explainers/ade20k/concepts/labeled/n_1200/hidden_128\n",
      "Across trials, human uncertainty for case1: 0.1959089509277053 (0.024412235894896318)\n",
      "Across trials, human uncertainty for case2: 0.558079410851081 (0.04586296697190169)\n",
      "Across trials, human uncertainty for case3: 0.3336154207832444 (0.0404180028247536)\n",
      "Across trials, human uncertainty for case4: 0.27858815465043685 (0.08323651884197471)\n",
      "Across trials, human uncertainty for case5: 0.6171309020401594 (0.06760437740342115)\n",
      "[0.188455569033831, 0.1880366109581741, 0.1880773769810953, 0.19090498571824066, 0.20269240456967155, 0.19176405192185575, 0.19210534430376694, 0.19084160594918478, 0.19969520661790993, 0.1956390974384238, 0.19969520661790993, 0.1926059331370529, 0.1926059331370529, 0.19532558366537045, 0.1984711912206048, 0.188455569033831, 0.19347934251247376, 0.20148736615527035, 0.19508685569595816, 0.19893698119772368]\n"
     ]
    },
    {
     "data": {
      "text/plain": [
       "<Figure size 432x288 with 0 Axes>"
      ]
     },
     "metadata": {},
     "output_type": "display_data"
    },
    {
     "data": {
      "image/png": "[encoded data removed]",
      "text/plain": [
       "<Figure size 432x288 with 1 Axes>"
      ]
     },
     "metadata": {
      "needs_background": "light"
     },
     "output_type": "display_data"
    },
    {
     "name": "stdout",
     "output_type": "stream",
     "text": [
      "Creating human entropy graph for saved_explainers/ade20k/concepts/labeled/n_1200/hidden_128_128\n",
      "Across trials, human uncertainty for case1: 0.19402949123253238 (0.02461445523370452)\n",
      "Across trials, human uncertainty for case2: 0.564948349476383 (0.045239528666024834)\n",
      "Across trials, human uncertainty for case3: 0.3307920725904364 (0.03950353795568874)\n",
      "Across trials, human uncertainty for case4: 0.25528923400232945 (0.082616156208157)\n",
      "Across trials, human uncertainty for case5: 0.6094655281821193 (0.06812411591809532)\n",
      "[0.188455569033831, 0.1880366109581741, 0.1880773769810953, 0.19090498571824066, 0.20269240456967155, 0.19176405192185575, 0.19210534430376694, 0.19084160594918478, 0.19969520661790993, 0.1956390974384238, 0.19969520661790993, 0.1926059331370529, 0.1926059331370529, 0.19532558366537045, 0.1984711912206048, 0.188455569033831, 0.19347934251247376, 0.20148736615527035, 0.19508685569595816, 0.19893698119772368]\n"
     ]
    },
    {
     "name": "stderr",
     "output_type": "stream",
     "text": [
      "No artists with labels found to put in legend.  Note that artists whose label start with an underscore are ignored when legend() is called with no argument.\n"
     ]
    },
    {
     "data": {
      "text/plain": [
       "<Figure size 432x288 with 0 Axes>"
      ]
     },
     "metadata": {},
     "output_type": "display_data"
    },
    {
     "data": {
      "image/png": "[encoded data removed]",
      "text/plain": [
       "<Figure size 432x288 with 1 Axes>"
      ]
     },
     "metadata": {
      "needs_background": "light"
     },
     "output_type": "display_data"
    },
    {
     "name": "stderr",
     "output_type": "stream",
     "text": [
      "No artists with labels found to put in legend.  Note that artists whose label start with an underscore are ignored when legend() is called with no argument.\n"
     ]
    },
    {
     "name": "stdout",
     "output_type": "stream",
     "text": [
      "Creating human entropy graph for saved_explainers/ade20k/concepts/labeled/n_1200/hidden_256\n",
      "Across trials, human uncertainty for case1: 0.19920299405370706 (0.024481729179150192)\n",
      "Across trials, human uncertainty for case2: 0.5557055507695694 (0.045848966496563226)\n",
      "Across trials, human uncertainty for case3: 0.3282156811846519 (0.04075933349233829)\n",
      "Across trials, human uncertainty for case4: 0.2897751327846007 (0.08430911843820149)\n",
      "Across trials, human uncertainty for case5: 0.6149837688656464 (0.0680295412207967)\n",
      "[0.188455569033831, 0.1880366109581741, 0.1880773769810953, 0.19090498571824066, 0.20269240456967155, 0.19176405192185575, 0.19210534430376694, 0.19084160594918478, 0.19969520661790993, 0.1956390974384238, 0.19969520661790993, 0.1926059331370529, 0.1926059331370529, 0.19532558366537045, 0.1984711912206048, 0.188455569033831, 0.19347934251247376, 0.20148736615527035, 0.19508685569595816, 0.19893698119772368]\n"
     ]
    },
    {
     "data": {
      "text/plain": [
       "<Figure size 432x288 with 0 Axes>"
      ]
     },
     "metadata": {},
     "output_type": "display_data"
    },
    {
     "data": {
      "image/png": "[encoded data removed]",
      "text/plain": [
       "<Figure size 432x288 with 1 Axes>"
      ]
     },
     "metadata": {
      "needs_background": "light"
     },
     "output_type": "display_data"
    },
    {
     "name": "stderr",
     "output_type": "stream",
     "text": [
      "No artists with labels found to put in legend.  Note that artists whose label start with an underscore are ignored when legend() is called with no argument.\n"
     ]
    },
    {
     "name": "stdout",
     "output_type": "stream",
     "text": [
      "Creating human entropy graph for saved_explainers/ade20k/concepts/labeled/n_1200/hidden_256_256\n",
      "Across trials, human uncertainty for case1: 0.1931517161751557 (0.024418775968416566)\n",
      "Across trials, human uncertainty for case2: 0.548729507056039 (0.04707072703905365)\n",
      "Across trials, human uncertainty for case3: 0.339936433971911 (0.0400053471310389)\n",
      "Across trials, human uncertainty for case4: 0.320271656874529 (0.08561961597070275)\n",
      "Across trials, human uncertainty for case5: 0.630635255720889 (0.06547451959374669)\n",
      "[0.188455569033831, 0.1880366109581741, 0.1880773769810953, 0.19090498571824066, 0.20269240456967155, 0.19176405192185575, 0.19210534430376694, 0.19084160594918478, 0.19969520661790993, 0.1956390974384238, 0.19969520661790993, 0.1926059331370529, 0.1926059331370529, 0.19532558366537045, 0.1984711912206048, 0.188455569033831, 0.19347934251247376, 0.20148736615527035, 0.19508685569595816, 0.19893698119772368]\n"
     ]
    },
    {
     "data": {
      "text/plain": [
       "<Figure size 432x288 with 0 Axes>"
      ]
     },
     "metadata": {},
     "output_type": "display_data"
    },
    {
     "data": {
      "image/png": "[encoded data removed]",
      "text/plain": [
       "<Figure size 432x288 with 1 Axes>"
      ]
     },
     "metadata": {
      "needs_background": "light"
     },
     "output_type": "display_data"
    },
    {
     "name": "stderr",
     "output_type": "stream",
     "text": [
      "No artists with labels found to put in legend.  Note that artists whose label start with an underscore are ignored when legend() is called with no argument.\n"
     ]
    },
    {
     "name": "stdout",
     "output_type": "stream",
     "text": [
      "Creating human entropy graph for saved_explainers/ade20k/concepts/labeled/n_1200/hidden_1024\n",
      "Across trials, human uncertainty for case1: 0.19750442439395804 (0.024530557374369676)\n",
      "Across trials, human uncertainty for case2: 0.5607450379615446 (0.04597846156319286)\n",
      "Across trials, human uncertainty for case3: 0.3292066771057906 (0.040270888456195794)\n",
      "Across trials, human uncertainty for case4: 0.3096311982631341 (0.0808606218302398)\n",
      "Across trials, human uncertainty for case5: 0.6129933382708675 (0.06970299825579765)\n",
      "[0.188455569033831, 0.1880366109581741, 0.1880773769810953, 0.19090498571824066, 0.20269240456967155, 0.19176405192185575, 0.19210534430376694, 0.19084160594918478, 0.19969520661790993, 0.1956390974384238, 0.19969520661790993, 0.1926059331370529, 0.1926059331370529, 0.19532558366537045, 0.1984711912206048, 0.188455569033831, 0.19347934251247376, 0.20148736615527035, 0.19508685569595816, 0.19893698119772368]\n"
     ]
    },
    {
     "data": {
      "text/plain": [
       "<Figure size 432x288 with 0 Axes>"
      ]
     },
     "metadata": {},
     "output_type": "display_data"
    },
    {
     "data": {
      "image/png": "[encoded data removed]",
      "text/plain": [
       "<Figure size 432x288 with 1 Axes>"
      ]
     },
     "metadata": {
      "needs_background": "light"
     },
     "output_type": "display_data"
    }
   ],
   "source": [
    "def get_trial_mean_ses(human_model_df, \n",
    "                       column_name,\n",
    "                       idx_list):\n",
    "    '''\n",
    "    Return 2 lists: mean and SE of the column_name from each idx list\n",
    "    \n",
    "    '''\n",
    "    if column_name not in human_model_df:\n",
    "        raise ValueError(\"{} not in df.\".format(column_name))\n",
    "    means = []\n",
    "    ses = []\n",
    "    for idxs in idx_list:\n",
    "        trial_entropies = human_model_df[column_name].iloc[list(idxs)].to_numpy()\n",
    "        # Calculate mean and SE for this value from this trial\n",
    "        means.append(np.mean(trial_entropies))\n",
    "        ses.append(np.std(trial_entropies) / np.sqrt(len(trial_entropies)))\n",
    "        \n",
    "    assert len(means) == len(idx_list)\n",
    "    assert len(ses) == len(idx_list)\n",
    "    return means, ses\n",
    "        \n",
    "for idx, (_, repeated_trials_parent) in enumerate(paths):\n",
    "    repeated_trials_dir = os.path.join(repeated_trials_parent, 'repeated_trials')\n",
    "    repeated_trials_analysis_dir = os.path.join(repeated_trials_parent, 'repeated_trials_analysis')\n",
    "    partition_idxs_path = os.path.join(repeated_trials_analysis_dir, 'repeated_trials_partition_idxs.pth')\n",
    "    partition_idxs = torch.load(partition_idxs_path)\n",
    "    \n",
    "    n_trials = len(os.listdir(repeated_trials_dir))\n",
    "    \n",
    "    human_model_df = pd.read_csv(os.path.join(repeated_trials_parent, 'human_model_uncertainties_alignment.csv'))\n",
    "    # Obtain human uncertainty for all samples\n",
    "    human_uncertainty = human_model_df['human_entropy']\n",
    "\n",
    "    means = []\n",
    "    ses = []\n",
    "    print(\"Creating human entropy graph for {}\".format(repeated_trials_parent))\n",
    "    for key, list_val in group_human_uncertainties.items():\n",
    "        # List with mean uncertainty in each trial\n",
    "        human_entropy_means, human_entropy_ses = get_human_entropy(\n",
    "            human_model_df=human_model_df,\n",
    "            idx_list=partition_idxs[key])\n",
    "\n",
    "        means.append(np.mean(human_entropy_means))\n",
    "        ses.append(np.mean(human_entropy_ses))\n",
    "        print(\"Across trials, human uncertainty for {}: {} ({})\".format(\n",
    "            key, np.mean(human_entropy_means), np.mean(human_entropy_ses)))\n",
    "    # print(len(ses[0]))\n",
    "    print(group_human_uncertainties['case1'])\n",
    "    fig, ax = bar_graph(\n",
    "        data=[means],\n",
    "        errors=[ses], \n",
    "        display_values=True,\n",
    "        xlabel='Sub-Group',\n",
    "        labels=['Group {}'.format(i) for i in range(1, 6)],\n",
    "        xlabel_rotation=30,\n",
    "        ylabel='Entropy',\n",
    "        show=True)\n",
    "    \n",
    "    "
   ]
  },
  {
   "cell_type": "markdown",
   "id": "9849feaf-fc18-4a82-895d-479077b63883",
   "metadata": {},
   "source": [
    "### Graph overall model-explainer alignment as explainer complexity increases"
   ]
  },
  {
   "cell_type": "code",
   "execution_count": 100,
   "id": "9a3b5a4d-2082-416c-bb0d-e339040d9327",
   "metadata": {
    "tags": []
   },
   "outputs": [
    {
     "name": "stderr",
     "output_type": "stream",
     "text": [
      "No artists with labels found to put in legend.  Note that artists whose label start with an underscore are ignored when legend() is called with no argument.\n"
     ]
    },
    {
     "data": {
      "text/plain": [
       "<Figure size 432x288 with 0 Axes>"
      ]
     },
     "metadata": {},
     "output_type": "display_data"
    },
    {
     "data": {
      "image/png": "[encoded data removed]",
      "text/plain": [
       "<Figure size 432x288 with 1 Axes>"
      ]
     },
     "metadata": {
      "needs_background": "light"
     },
     "output_type": "display_data"
    }
   ],
   "source": [
    "mean_me_aligned = []\n",
    "se_me_aligned = []\n",
    "labels = []\n",
    "top_k = [1]\n",
    "for idx, (_, repeated_trials_parent) in enumerate(paths):\n",
    "    labels.append(os.path.basename(repeated_trials_parent))\n",
    "    repeated_trials_dir = os.path.join(repeated_trials_parent, 'repeated_trials')\n",
    "    repeated_trials_analysis_dir = os.path.join(repeated_trials_parent, 'repeated_trials_analysis')\n",
    "    partition_idxs_path = os.path.join(repeated_trials_analysis_dir, 'repeated_trials_partition_idxs.pth')\n",
    "    partition_idxs = torch.load(partition_idxs_path)\n",
    "    \n",
    "    n_trials = len(os.listdir(repeated_trials_dir))\n",
    "    n_samples = len(partition_idxs['all_idxs'][0])\n",
    "    \n",
    "    # Define alignment by top 2 accuracy\n",
    "    if 1 in top_k and 2 in top_k:\n",
    "        n_me_aligned = []\n",
    "        for i in range(n_trials):\n",
    "            me_aligned = partition_idxs['me_overall'][i].union(partition_idxs['me2_overall'][i])\n",
    "            n_me_aligned.append(len(me_aligned) / n_samples)\n",
    "\n",
    "    # Define alignment by top 1 accuracy\n",
    "    elif 1 in top_k:\n",
    "        n_me_aligned = [len(me_aligned) / n_samples for me_aligned in partition_idxs['me_overall']]\n",
    "    # Define alignment by only second prediction\n",
    "    elif 2 in top_k:\n",
    "        n_me_aligned = [len(me_aligned) / n_samples for me_aligned in partition_idxs['me2_overall']]\n",
    "    else:\n",
    "        raise ValueError(\"Unsupported values for top_k received: {}\".format(top_k))\n",
    "    mean_me_aligned.append(np.mean(n_me_aligned))\n",
    "    se_me_aligned.append(np.std(n_me_aligned) / np.sqrt(len(n_me_aligned)))\n",
    "    \n",
    "ymax = 1.5 * (np.max(mean_me_aligned) + np.max(se_me_aligned))\n",
    "ymin = 0.5 * (np.min(mean_me_aligned) + np.max(se_me_aligned))\n",
    "\n",
    "fig, ax = bar_graph(\n",
    "    data=[mean_me_aligned],\n",
    "    errors=[se_me_aligned], \n",
    "    display_values=True,\n",
    "    xlabel='Increasing Explainer Complexity',\n",
    "    labels=labels,\n",
    "    xlabel_rotation=30,\n",
    "    ylabel='% Samples Explained',\n",
    "    title='Overall Model-Explainer Alignment as Explainer Complexity Increases',\n",
    "    ylim=[ymin, ymax],\n",
    "    show=True)\n",
    "    "
   ]
  },
  {
   "cell_type": "markdown",
   "id": "90da1a19-1562-45fc-b434-ea6d1da19c16",
   "metadata": {},
   "source": [
    "### Graph model-explainer alignment when model is correct as explainer complexity increases"
   ]
  },
  {
   "cell_type": "code",
   "execution_count": 84,
   "id": "15a2d041-1aa7-40f1-bfbf-c1c455d95ca2",
   "metadata": {
    "tags": []
   },
   "outputs": [
    {
     "name": "stderr",
     "output_type": "stream",
     "text": [
      "No artists with labels found to put in legend.  Note that artists whose label start with an underscore are ignored when legend() is called with no argument.\n"
     ]
    },
    {
     "name": "stdout",
     "output_type": "stream",
     "text": [
      "dict_keys(['all_idxs', 'me_overall', 'he_overall', 'hm_overall', 'case1', 'case2', 'case3', 'case4', 'case5', 'me2_overall', 'he2_overall', 'me_rest_misaligned', 'he_rest_misaligned'])\n",
      "dict_keys(['all_idxs', 'me_overall', 'he_overall', 'hm_overall', 'case1', 'case2', 'case3', 'case4', 'case5', 'me2_overall', 'he2_overall', 'me_rest_misaligned', 'he_rest_misaligned'])\n",
      "dict_keys(['all_idxs', 'me_overall', 'he_overall', 'hm_overall', 'case1', 'case2', 'case3', 'case4', 'case5', 'me2_overall', 'he2_overall', 'me_rest_misaligned', 'he_rest_misaligned'])\n",
      "dict_keys(['all_idxs', 'me_overall', 'he_overall', 'hm_overall', 'case1', 'case2', 'case3', 'case4', 'case5', 'me2_overall', 'he2_overall', 'me_rest_misaligned', 'he_rest_misaligned'])\n",
      "dict_keys(['all_idxs', 'me_overall', 'he_overall', 'hm_overall', 'case1', 'case2', 'case3', 'case4', 'case5', 'me2_overall', 'he2_overall', 'me_rest_misaligned', 'he_rest_misaligned'])\n",
      "dict_keys(['all_idxs', 'me_overall', 'he_overall', 'hm_overall', 'case1', 'case2', 'case3', 'case4', 'case5', 'me2_overall', 'he2_overall', 'me_rest_misaligned', 'he_rest_misaligned'])\n"
     ]
    },
    {
     "data": {
      "text/plain": [
       "<Figure size 432x288 with 0 Axes>"
      ]
     },
     "metadata": {},
     "output_type": "display_data"
    },
    {
     "data": {
      "image/png": "[encoded data removed]",
      "text/plain": [
       "<Figure size 432x288 with 1 Axes>"
      ]
     },
     "metadata": {
      "needs_background": "light"
     },
     "output_type": "display_data"
    }
   ],
   "source": [
    "mean_me_aligned = []\n",
    "se_me_aligned = []\n",
    "labels = []\n",
    "\n",
    "for idx, (_, repeated_trials_parent) in enumerate(paths):\n",
    "    labels.append(os.path.basename(repeated_trials_parent))\n",
    "    repeated_trials_dir = os.path.join(repeated_trials_parent, 'repeated_trials')\n",
    "    repeated_trials_analysis_dir = os.path.join(repeated_trials_parent, 'repeated_trials_analysis')\n",
    "    partition_idxs_path = os.path.join(repeated_trials_analysis_dir, 'repeated_trials_partition_idxs.pth')\n",
    "    partition_idxs = torch.load(partition_idxs_path)\n",
    "    print(partition_idxs.keys())\n",
    "    \n",
    "    n_trials = len(os.listdir(repeated_trials_dir))\n",
    "    n_samples = len(partition_idxs['all_idxs'])\n",
    "    \n",
    "    hm_aligned_idxs = partition_idxs['hm_overall']\n",
    "\n",
    "    me_aligned_overall_idxs = partition_idxs['me_overall']\n",
    "    assert len(hm_aligned_idxs) == len(me_aligned_overall_idxs)\n",
    "    \n",
    "    me_aligned_model_correct = []\n",
    "    for hm_aligned, me_aligned_overall in zip(hm_aligned_idxs, me_aligned_overall_idxs):\n",
    "        me_aligned_model_correct.append(len(hm_aligned.intersection(me_aligned_overall)) / len(hm_aligned))\n",
    "        \n",
    "    # Add mean and standard error for each explainer here\n",
    "    mean_me_aligned.append(np.mean(me_aligned_model_correct))\n",
    "    se_me_aligned.append(np.std(me_aligned_model_correct) / np.sqrt(len(me_aligned_model_correct)))\n",
    "\n",
    "    \n",
    "ymax = 1.5 * (np.max(mean_me_aligned) + np.max(se_me_aligned))\n",
    "ymin = 0.5 * (np.min(mean_me_aligned) + np.max(se_me_aligned))\n",
    "fig, ax = bar_graph(\n",
    "    data=[mean_me_aligned],\n",
    "    errors=[se_me_aligned], \n",
    "    display_values=True,\n",
    "    xlabel='Increasing Explainer Complexity',\n",
    "    labels=labels,\n",
    "    xlabel_rotation=30,\n",
    "    ylabel='% Samples Aligned',\n",
    "    title='Model Explainer Alignment when Model Correct',\n",
    "    ylim=[ymin, ymax],\n",
    "    show=True)\n",
    "    "
   ]
  },
  {
   "cell_type": "markdown",
   "id": "8d095c14-7667-4903-a722-4b2e6891dd4b",
   "metadata": {},
   "source": [
    "### Graph model-explainer alignment when model is incorrect as explainer complexity increases"
   ]
  },
  {
   "cell_type": "code",
   "execution_count": 83,
   "id": "736084a0-a91a-4ea1-a508-e6a20e217b83",
   "metadata": {
    "tags": []
   },
   "outputs": [
    {
     "name": "stderr",
     "output_type": "stream",
     "text": [
      "No artists with labels found to put in legend.  Note that artists whose label start with an underscore are ignored when legend() is called with no argument.\n"
     ]
    },
    {
     "name": "stdout",
     "output_type": "stream",
     "text": [
      "dict_keys(['all_idxs', 'me_overall', 'he_overall', 'hm_overall', 'case1', 'case2', 'case3', 'case4', 'case5', 'me2_overall', 'he2_overall', 'me_rest_misaligned', 'he_rest_misaligned'])\n",
      "dict_keys(['all_idxs', 'me_overall', 'he_overall', 'hm_overall', 'case1', 'case2', 'case3', 'case4', 'case5', 'me2_overall', 'he2_overall', 'me_rest_misaligned', 'he_rest_misaligned'])\n",
      "dict_keys(['all_idxs', 'me_overall', 'he_overall', 'hm_overall', 'case1', 'case2', 'case3', 'case4', 'case5', 'me2_overall', 'he2_overall', 'me_rest_misaligned', 'he_rest_misaligned'])\n",
      "dict_keys(['all_idxs', 'me_overall', 'he_overall', 'hm_overall', 'case1', 'case2', 'case3', 'case4', 'case5', 'me2_overall', 'he2_overall', 'me_rest_misaligned', 'he_rest_misaligned'])\n",
      "dict_keys(['all_idxs', 'me_overall', 'he_overall', 'hm_overall', 'case1', 'case2', 'case3', 'case4', 'case5', 'me2_overall', 'he2_overall', 'me_rest_misaligned', 'he_rest_misaligned'])\n",
      "dict_keys(['all_idxs', 'me_overall', 'he_overall', 'hm_overall', 'case1', 'case2', 'case3', 'case4', 'case5', 'me2_overall', 'he2_overall', 'me_rest_misaligned', 'he_rest_misaligned'])\n"
     ]
    },
    {
     "data": {
      "text/plain": [
       "<Figure size 432x288 with 0 Axes>"
      ]
     },
     "metadata": {},
     "output_type": "display_data"
    },
    {
     "data": {
      "image/png": "[encoded data removed]",
      "text/plain": [
       "<Figure size 432x288 with 1 Axes>"
      ]
     },
     "metadata": {
      "needs_background": "light"
     },
     "output_type": "display_data"
    }
   ],
   "source": [
    "mean_me_aligned = []\n",
    "se_me_aligned = []\n",
    "labels = []\n",
    "\n",
    "for idx, (_, repeated_trials_parent) in enumerate(paths):\n",
    "    labels.append(os.path.basename(repeated_trials_parent))\n",
    "    repeated_trials_dir = os.path.join(repeated_trials_parent, 'repeated_trials')\n",
    "    repeated_trials_analysis_dir = os.path.join(repeated_trials_parent, 'repeated_trials_analysis')\n",
    "    partition_idxs_path = os.path.join(repeated_trials_analysis_dir, 'repeated_trials_partition_idxs.pth')\n",
    "    partition_idxs = torch.load(partition_idxs_path)\n",
    "    print(partition_idxs.keys())\n",
    "    \n",
    "    n_trials = len(os.listdir(repeated_trials_dir))\n",
    "    n_samples = len(partition_idxs['all_idxs'])\n",
    "    \n",
    "    hm_misaligned_idxs = []\n",
    "    for all_idxs, hm_overall_idxs in zip(partition_idxs['all_idxs'], partition_idxs['hm_overall']):\n",
    "        hm_misaligned_idxs.append(all_idxs - hm_overall_idxs)\n",
    "\n",
    "    me_aligned_overall_idxs = partition_idxs['me_overall']\n",
    "    assert len(hm_misaligned_idxs) == len(me_aligned_overall_idxs)\n",
    "    \n",
    "    me_aligned_model_incorrect = []\n",
    "    for hm_misaligned, me_aligned_overall in zip(hm_misaligned_idxs, me_aligned_overall_idxs):\n",
    "        me_aligned_model_incorrect.append(len(hm_misaligned.intersection(me_aligned_overall)) / len(hm_misaligned))\n",
    "        \n",
    "    mean_me_aligned.append(np.mean(me_aligned_model_incorrect))\n",
    "    se_me_aligned.append(np.std(me_aligned_model_incorrect) / np.sqrt(len(me_aligned_model_incorrect)))\n",
    "    # mean_me_aligned.append(np.mean(n_me_aligned))\n",
    "    # se_me_aligned.append(np.std(n_me_aligned) / np.sqrt(len(n_me_aligned)))\n",
    "    \n",
    "ymax = 1.5 * (np.max(mean_me_aligned) + np.max(se_me_aligned))\n",
    "ymin = 0.5 * (np.min(mean_me_aligned) + np.max(se_me_aligned))\n",
    "fig, ax = bar_graph(\n",
    "    data=[mean_me_aligned],\n",
    "    errors=[se_me_aligned], \n",
    "    display_values=True,\n",
    "    xlabel='Increasing Explainer Complexity',\n",
    "    labels=labels,\n",
    "    xlabel_rotation=30,\n",
    "    ylabel='% Samples Aligned',\n",
    "    title='Model Explainer Alignment when Model Incorrect',\n",
    "    ylim=[ymin, ymax],\n",
    "    show=True)\n",
    "    "
   ]
  },
  {
   "cell_type": "markdown",
   "id": "69a9fef4-e535-4054-9b71-6333d1f984a5",
   "metadata": {},
   "source": [
    "### Graph human-explainer alignment when model is incorrect"
   ]
  },
  {
   "cell_type": "code",
   "execution_count": 80,
   "id": "f3598956-c1ae-4db2-b1c0-824f54a55186",
   "metadata": {
    "tags": []
   },
   "outputs": [
    {
     "name": "stderr",
     "output_type": "stream",
     "text": [
      "No artists with labels found to put in legend.  Note that artists whose label start with an underscore are ignored when legend() is called with no argument.\n"
     ]
    },
    {
     "name": "stdout",
     "output_type": "stream",
     "text": [
      "dict_keys(['all_idxs', 'me_overall', 'he_overall', 'hm_overall', 'case1', 'case2', 'case3', 'case4', 'case5', 'me2_overall', 'he2_overall', 'me_rest_misaligned', 'he_rest_misaligned'])\n",
      "dict_keys(['all_idxs', 'me_overall', 'he_overall', 'hm_overall', 'case1', 'case2', 'case3', 'case4', 'case5', 'me2_overall', 'he2_overall', 'me_rest_misaligned', 'he_rest_misaligned'])\n",
      "dict_keys(['all_idxs', 'me_overall', 'he_overall', 'hm_overall', 'case1', 'case2', 'case3', 'case4', 'case5', 'me2_overall', 'he2_overall', 'me_rest_misaligned', 'he_rest_misaligned'])\n",
      "dict_keys(['all_idxs', 'me_overall', 'he_overall', 'hm_overall', 'case1', 'case2', 'case3', 'case4', 'case5', 'me2_overall', 'he2_overall', 'me_rest_misaligned', 'he_rest_misaligned'])\n",
      "dict_keys(['all_idxs', 'me_overall', 'he_overall', 'hm_overall', 'case1', 'case2', 'case3', 'case4', 'case5', 'me2_overall', 'he2_overall', 'me_rest_misaligned', 'he_rest_misaligned'])\n",
      "dict_keys(['all_idxs', 'me_overall', 'he_overall', 'hm_overall', 'case1', 'case2', 'case3', 'case4', 'case5', 'me2_overall', 'he2_overall', 'me_rest_misaligned', 'he_rest_misaligned'])\n"
     ]
    },
    {
     "data": {
      "text/plain": [
       "<Figure size 432x288 with 0 Axes>"
      ]
     },
     "metadata": {},
     "output_type": "display_data"
    },
    {
     "data": {
      "image/png": "[encoded data removed]",
      "text/plain": [
       "<Figure size 432x288 with 1 Axes>"
      ]
     },
     "metadata": {
      "needs_background": "light"
     },
     "output_type": "display_data"
    }
   ],
   "source": [
    "mean_he_aligned = []\n",
    "se_he_aligned = []\n",
    "labels = []\n",
    "\n",
    "\n",
    "for idx, (_, repeated_trials_parent) in enumerate(paths):\n",
    "    labels.append(os.path.basename(repeated_trials_parent))\n",
    "    repeated_trials_dir = os.path.join(repeated_trials_parent, 'repeated_trials')\n",
    "    repeated_trials_analysis_dir = os.path.join(repeated_trials_parent, 'repeated_trials_analysis')\n",
    "    partition_idxs_path = os.path.join(repeated_trials_analysis_dir, 'repeated_trials_partition_idxs.pth')\n",
    "    partition_idxs = torch.load(partition_idxs_path)\n",
    "    print(partition_idxs.keys())\n",
    "    \n",
    "    n_trials = len(os.listdir(repeated_trials_dir))\n",
    "    n_samples = len(partition_idxs['all_idxs'])\n",
    "    \n",
    "    hm_misaligned_idxs = []\n",
    "    for all_idxs, hm_overall_idxs in zip(partition_idxs['all_idxs'], partition_idxs['hm_overall']):\n",
    "        hm_misaligned_idxs.append(all_idxs - hm_overall_idxs)\n",
    "\n",
    "    he_aligned_overall_idxs = partition_idxs['he_overall']\n",
    "    assert len(hm_misaligned_idxs) == len(he_aligned_overall_idxs)\n",
    "    \n",
    "    he_aligned_model_incorrect = []\n",
    "    for hm_misaligned, he_aligned_overall in zip(hm_misaligned_idxs, he_aligned_overall_idxs):\n",
    "        he_aligned_model_incorrect.append(len(hm_misaligned.intersection(he_aligned_overall)) / len(hm_misaligned))\n",
    "        \n",
    "    mean_he_aligned.append(np.mean(he_aligned_model_incorrect))\n",
    "    se_he_aligned.append(np.std(me_aligned_model_incorrect) / np.sqrt(len(he_aligned_model_incorrect)))\n",
    "    \n",
    "ymax = 1.5 * (np.max(mean_he_aligned) + np.max(se_he_aligned))\n",
    "ymin = 0.5 * (np.min(mean_he_aligned) + np.max(se_he_aligned))\n",
    "fig, ax = bar_graph(\n",
    "    data=[mean_he_aligned],\n",
    "    errors=[se_he_aligned], \n",
    "    display_values=True,\n",
    "    xlabel='Increasing Explainer Complexity',\n",
    "    labels=labels,\n",
    "    xlabel_rotation=30,\n",
    "    ylabel='% Samples Aligned',\n",
    "    title='Human Explainer Alignment when Model Incorrect',\n",
    "    ylim=[ymin, ymax],\n",
    "    show=True)\n",
    "    "
   ]
  },
  {
   "cell_type": "code",
   "execution_count": null,
   "id": "fd9b807c-c99f-4e4d-af23-e764f27f1cc4",
   "metadata": {},
   "outputs": [],
   "source": []
  }
 ],
 "metadata": {
  "kernelspec": {
   "display_name": "model-correlation",
   "language": "python",
   "name": "model-correlation"
  },
  "language_info": {
   "codemirror_mode": {
    "name": "ipython",
    "version": 3
   },
   "file_extension": ".py",
   "mimetype": "text/x-python",
   "name": "python",
   "nbconvert_exporter": "python",
   "pygments_lexer": "ipython3",
   "version": "3.11.2"
  }
 },
 "nbformat": 4,
 "nbformat_minor": 5
}
