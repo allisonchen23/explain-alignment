{
 "cells": [
  {
   "cell_type": "code",
   "execution_count": 59,
   "id": "4dcc1d28-3173-4f54-9dc9-d29254c55630",
   "metadata": {
    "tags": []
   },
   "outputs": [],
   "source": [
    "import cv2\n",
    "from datetime import datetime\n",
    "import numpy as np\n",
    "import os, sys\n",
    "import pandas as pd\n",
    "import pickle\n",
    "from scipy import stats\n",
    "import shutil\n",
    "from sklearn.cluster import KMeans\n",
    "import torch\n",
    "from tqdm import tqdm\n",
    "\n",
    "import matplotlib.pyplot as plt\n",
    "\n",
    "sys.path.insert(0, 'src')\n",
    "from utils.utils import ensure_dir, read_json, informal_log\n",
    "from utils.visualizations import plot, histogram\n",
    "from utils.model_utils import prepare_device\n",
    "from utils.metric_utils import top_2_confusion\n",
    "\n",
    "import model.metric as module_metric\n",
    "import model.loss as module_loss\n",
    "import model.model as module_model\n",
    "import datasets.datasets as module_data\n",
    "\n",
    "from train import main as train_fn\n",
    "from predict import predict\n",
    "from parse_config import ConfigParser\n",
    "\n",
    "\n",
    "sys.path.insert(0, 'setup')\n",
    "from setup_cifar10 import setup_cifar10 \n",
    "# import cv2\n",
    "# print(cv2.__version__)"
   ]
  },
  {
   "cell_type": "code",
   "execution_count": 3,
   "id": "dfa6fe07-4acc-45b4-ba52-40fbdf2dddf2",
   "metadata": {},
   "outputs": [],
   "source": [
    "cifar10_save_dir = os.path.join('saved', 'cifar10')\n",
    "processed_cifar_dir = 'data/cifar10-processed'\n",
    "\n",
    "ensure_dir(cifar10_save_dir)"
   ]
  },
  {
   "cell_type": "markdown",
   "id": "e3310577-8b85-4f07-bc15-802d465dbf3d",
   "metadata": {
    "jp-MarkdownHeadingCollapsed": true,
    "tags": []
   },
   "source": [
    "### Process CIFAR-10 to get rid of bytes"
   ]
  },
  {
   "cell_type": "code",
   "execution_count": 3,
   "id": "1b13a684-9587-4128-abe3-ec2f16bcde46",
   "metadata": {},
   "outputs": [
    {
     "name": "stdout",
     "output_type": "stream",
     "text": [
      "CIFAR-10 already processed at data/cifar10-processed\n"
     ]
    }
   ],
   "source": [
    "raw_cifar_dir = 'data/cifar-10-batches-py'\n",
    "\n",
    "if not os.path.exists(processed_cifar_dir):\n",
    "    setup_cifar_10(\n",
    "        raw_cifar_dir=raw_cifar_dir,\n",
    "        processed_cifar_dir=processed_cifar_dir)\n",
    "    print(\"Processing CIFAR10\")\n",
    "else:\n",
    "    print(\"CIFAR-10 already processed at {}\".format(processed_cifar_dir))\n",
    "    "
   ]
  },
  {
   "cell_type": "markdown",
   "id": "ae95cefb-d320-4f26-a8c8-795e825fa22c",
   "metadata": {
    "tags": []
   },
   "source": [
    "### Datasets for CIFAR10"
   ]
  },
  {
   "cell_type": "code",
   "execution_count": 4,
   "id": "da7e3f0f-9536-43f6-b3f0-f9bc98586399",
   "metadata": {},
   "outputs": [],
   "source": [
    "from torch.utils.data import Dataset\n",
    "from torchvision import transforms\n",
    "from utils.visualizations import show_image\n",
    "\n",
    "class CIFAR10Dataset():\n",
    "    def __init__(self,\n",
    "                 cifar_dir, \n",
    "                 split):\n",
    "                 # normalize=False,\n",
    "                 # means=[0.4914, 0.4822, 0.4465],\n",
    "                 # stds=[0.2471, 0.2435, 0.2616]):\n",
    "        \n",
    "        assert split in ['train', 'test'], \"Invalid split '{}'. Must be 'train' or 'test'\".format(split)\n",
    "        if split == 'train':\n",
    "            files = ['data_batch_{}'.format(i) for i in range(1,6)]\n",
    "        else:\n",
    "            files = ['test_batch']\n",
    "            \n",
    "        images = []\n",
    "        labels = []\n",
    "        for file in files:\n",
    "            path = os.path.join(cifar_dir, file)\n",
    "            data = pickle.load(open(path, 'rb'))\n",
    "            cur_images = data['data']\n",
    "            cur_images = np.reshape(cur_images, (-1, 3, 32, 32))\n",
    "            images.append(cur_images)\n",
    "            \n",
    "            cur_labels = np.array(data['labels'])\n",
    "            labels.append(cur_labels)\n",
    "        \n",
    "        self.images = np.concatenate(images, axis=0)\n",
    "        self.images = np.transpose(self.images, (0, 2, 3, 1)) # N x H x W x C\n",
    "        \n",
    "#         if normalize:\n",
    "#             means = np.tile(means, (*self.images.shape[:3], 1))\n",
    "#             stds = np.tile(stds, (*self.images.shape[:3], 1))\n",
    "            \n",
    "#             self.images = (self.images - means) / stds\n",
    "#             print(means.shape)\n",
    "#             print(means[0, :, 0, 0])\n",
    "            # self.images = \n",
    "        self.labels = np.concatenate(labels, axis=0)\n",
    "        self.n_samples = len(self.labels)\n",
    "        \n",
    "    def get_images(self):\n",
    "        return self.images\n",
    "\n",
    "    def get_labels(self):\n",
    "        return self.labels\n",
    "        \n",
    "    def __len__(self):\n",
    "        return self.n_samples\n",
    "    \n",
    "train_dataset = CIFAR10Dataset(\n",
    "    cifar_dir=processed_cifar_dir,\n",
    "    split='train')\n",
    "        \n",
    "train_images = train_dataset.get_images()\n",
    "train_labels = train_dataset.get_labels()\n",
    "\n",
    "test_dataset = CIFAR10Dataset(\n",
    "    cifar_dir=processed_cifar_dir,\n",
    "    split='test')\n",
    "test_images = test_dataset.get_images()\n",
    "test_labels = test_dataset.get_labels()"
   ]
  },
  {
   "cell_type": "markdown",
   "id": "5777b7d9-c9e5-4ef5-b2b2-ee8b63989c83",
   "metadata": {
    "jp-MarkdownHeadingCollapsed": true,
    "tags": []
   },
   "source": [
    "### CIFAR10 dataset for torch models"
   ]
  },
  {
   "cell_type": "code",
   "execution_count": 173,
   "id": "1421ffbb-aed0-40b4-8ed2-d4e4a16ba029",
   "metadata": {},
   "outputs": [],
   "source": [
    "class CIFAR10TorchDataset(Dataset):\n",
    "    def __init__(self,\n",
    "                 cifar_dir,\n",
    "                 split,\n",
    "                 to_tensor=True,\n",
    "                 normalize=True,\n",
    "                 means=[0.4914, 0.4822, 0.4465],\n",
    "                 stds=[0.2471, 0.2435, 0.2616]):\n",
    "        \n",
    "        images = []\n",
    "        labels = []\n",
    "        assert split in ['train', 'test'], \"Invalid split '{}'. Must be 'train' or 'test'\".format(split)\n",
    "        if split == 'train':\n",
    "            files = ['data_batch_{}'.format(i) for i in range(1,6)]\n",
    "        else:\n",
    "            files = ['test_batch']\n",
    "            \n",
    "        for file in files:\n",
    "            path = os.path.join(cifar_dir, file)\n",
    "            data = pickle.load(open(path, 'rb'))\n",
    "            cur_images = data['data']\n",
    "            cur_images = np.reshape(cur_images, (-1, 3, 32, 32))\n",
    "            images.append(cur_images)\n",
    "            \n",
    "            cur_labels = np.array(data['labels'])\n",
    "            labels.append(cur_labels)\n",
    "        \n",
    "        self.images = np.concatenate(images, axis=0)\n",
    "        self.images = np.transpose(self.images, (0, 2, 3, 1))\n",
    "        self.labels = np.concatenate(labels, axis=0)\n",
    "        self.n_samples = len(self.labels)\n",
    "                \n",
    "        # Create transformations\n",
    "        self.transforms = [transforms.ToTensor()]  # changes dims H x W x C -> C x H x W and scales to [0, 1]\n",
    "        if normalize:\n",
    "            self.transforms.append(transforms.Normalize(means, stds))\n",
    "        self.transforms = transforms.Compose(self.transforms)\n",
    "    \n",
    "    def __getitem__(self, idx):\n",
    "        image = self.transforms(self.images[idx])\n",
    "        label = self.labels[idx]\n",
    "        return image, label\n",
    "\n",
    "    def __len__(self):\n",
    "        return self.n_samples\n",
    "        \n",
    "train_dataset = CIFAR10(\n",
    "    cifar_dir=processed_cifar_dir,\n",
    "    split='train',\n",
    "    to_tensor=False,\n",
    "    normalize=False)\n",
    "\n",
    "test_dataset = CIFAR10(\n",
    "    cifar_dir=processed_cifar_dir,\n",
    "    split='test',\n",
    "    to_tensor=False,\n",
    "    normalize=False)"
   ]
  },
  {
   "cell_type": "markdown",
   "id": "e0b47e24-a19a-4197-bcd2-df770575f29b",
   "metadata": {
    "tags": []
   },
   "source": [
    "### OpenCV's SIFT\n",
    "Tutorial from [here](https://docs.opencv.org/4.x/da/df5/tutorial_py_sift_intro.html)"
   ]
  },
  {
   "cell_type": "code",
   "execution_count": 6,
   "id": "529e4009-d577-4221-847a-2487f0df2769",
   "metadata": {},
   "outputs": [
    {
     "name": "stdout",
     "output_type": "stream",
     "text": [
      "Setting sigma to 0.5\n",
      "Calculating keypoints and feature descriptors for CIFAR-10 train split\n"
     ]
    },
    {
     "name": "stderr",
     "output_type": "stream",
     "text": [
      "  0%|                                                 | 0/50000 [00:00<?, ?it/s]"
     ]
    },
    {
     "name": "stdout",
     "output_type": "stream",
     "text": [
      "[[0.24313725 0.17647059 0.18431373 ... 0.50196078 0.4745098  0.47058824]\n",
      " [0.07843137 0.         0.02745098 ... 0.32156863 0.30196078 0.32156863]\n",
      " [0.09019608 0.02352941 0.09411765 ... 0.30588235 0.30588235 0.26666667]\n",
      " ...\n",
      " [0.59607843 0.48235294 0.49019608 ... 0.45882353 0.10588235 0.1254902 ]\n",
      " [0.51372549 0.40784314 0.45098039 ... 0.53333333 0.22745098 0.2       ]\n",
      " [0.54509804 0.48235294 0.50980392 ... 0.68235294 0.43921569 0.35294118]]\n"
     ]
    },
    {
     "name": "stderr",
     "output_type": "stream",
     "text": [
      "  0%|                                                 | 0/50000 [00:00<?, ?it/s]\n"
     ]
    },
    {
     "ename": "error",
     "evalue": "OpenCV(4.7.0) /io/opencv/modules/features2d/src/sift.dispatch.cpp:495: error: (-5:Bad argument) image is empty or has incorrect depth (!=CV_8U) in function 'detectAndCompute'\n",
     "output_type": "error",
     "traceback": [
      "\u001b[0;31m---------------------------------------------------------------------------\u001b[0m",
      "\u001b[0;31merror\u001b[0m                                     Traceback (most recent call last)",
      "Cell \u001b[0;32mIn[6], line 44\u001b[0m\n\u001b[1;32m     42\u001b[0m \u001b[38;5;28mprint\u001b[39m(image_bw)\n\u001b[1;32m     43\u001b[0m \u001b[38;5;66;03m# Calculate descriptors\u001b[39;00m\n\u001b[0;32m---> 44\u001b[0m keypoints, descriptors \u001b[38;5;241m=\u001b[39m \u001b[43msift\u001b[49m\u001b[38;5;241;43m.\u001b[39;49m\u001b[43mdetectAndCompute\u001b[49m\u001b[43m(\u001b[49m\u001b[43mimage_bw\u001b[49m\u001b[43m,\u001b[49m\u001b[43m \u001b[49m\u001b[38;5;28;43;01mNone\u001b[39;49;00m\u001b[43m)\u001b[49m\n\u001b[1;32m     45\u001b[0m \u001b[38;5;28;01mif\u001b[39;00m debug:\n\u001b[1;32m     46\u001b[0m     img2 \u001b[38;5;241m=\u001b[39m cv2\u001b[38;5;241m.\u001b[39mdrawKeypoints(image, keypoints, \u001b[38;5;28;01mNone\u001b[39;00m, color\u001b[38;5;241m=\u001b[39m(\u001b[38;5;241m0\u001b[39m, \u001b[38;5;241m255\u001b[39m, \u001b[38;5;241m0\u001b[39m), flags\u001b[38;5;241m=\u001b[39m\u001b[38;5;241m0\u001b[39m)\n",
      "\u001b[0;31merror\u001b[0m: OpenCV(4.7.0) /io/opencv/modules/features2d/src/sift.dispatch.cpp:495: error: (-5:Bad argument) image is empty or has incorrect depth (!=CV_8U) in function 'detectAndCompute'\n"
     ]
    }
   ],
   "source": [
    "MAX_FEATURES = 128\n",
    "sigma = 0.5  # default is 1.6\n",
    "RESIZE = (32, 32)\n",
    "descriptor_size = 128\n",
    "debug = True\n",
    "\n",
    "if sigma is not None:\n",
    "    sift = cv2.SIFT_create(nfeatures=MAX_FEATURES, sigma=sigma)\n",
    "    print(\"Setting sigma to {}\".format(sigma))\n",
    "else: \n",
    "    sift = cv2.SIFT_create(nfeatures=MAX_FEATURES)\n",
    "train_keypoints = []\n",
    "train_descriptors = []\n",
    "\n",
    "images = {\n",
    "    'train': train_images,\n",
    "    'test': test_images\n",
    "}\n",
    "sift_data = {\n",
    "    'train': {\n",
    "        'keypoints': [],\n",
    "        'descriptors': []\n",
    "    },\n",
    "    'test': {\n",
    "        'keypoints': [],\n",
    "        'descriptors': []\n",
    "    }\n",
    "}\n",
    "for split in ['train', 'test']:\n",
    "    print(\"Calculating keypoints and feature descriptors for CIFAR-10 {} split\".format(split))\n",
    "    split_images = images[split]\n",
    "    split_keypoints = sift_data[split]['keypoints']\n",
    "    split_descriptors = sift_data[split]['descriptors']\n",
    "    for idx, image in enumerate(tqdm(split_images, total=len(split_images))):\n",
    "        if debug and idx == 5:\n",
    "            break\n",
    "        # Image processing\n",
    "        if RESIZE is not None:\n",
    "            image = cv2.resize(image, RESIZE)\n",
    "        image_bw = cv2.cvtColor(image, cv2.COLOR_BGR2GRAY)\n",
    "        # Calculate descriptors\n",
    "        keypoints, descriptors = sift.detectAndCompute(image_bw, None)\n",
    "        if debug:\n",
    "            img2 = cv2.drawKeypoints(image, keypoints, None, color=(0, 255, 0), flags=0)\n",
    "            plt.imshow(img2)\n",
    "            plt.show()\n",
    "            print(\"{} keypoints\".format(len(keypoints)))\n",
    "        if len(keypoints) == 0:\n",
    "            descriptors = np.zeros((1, descriptor_size), np.float32)\n",
    "        keypoint_objs = []\n",
    "        for keypoint in keypoints:\n",
    "            keypoint_objs.append({\n",
    "                'point': keypoint.pt,\n",
    "                'size': keypoint.size,\n",
    "                'angle': keypoint.angle,\n",
    "                'response': keypoint.response,\n",
    "                'octave': keypoint.octave,\n",
    "                'class_id': keypoint.class_id\n",
    "            })\n",
    "        split_keypoints.append(keypoint_objs)\n",
    "        split_descriptors.append(descriptors)\n",
    "        \n",
    "    sift_data[split]['keypoints'] = split_keypoints\n",
    "    sift_data[split]['descriptors'] = split_descriptors\n"
   ]
  },
  {
   "cell_type": "code",
   "execution_count": 48,
   "id": "4ef880c6-32f2-4fce-a916-15a3dd81a26b",
   "metadata": {},
   "outputs": [
    {
     "name": "stdout",
     "output_type": "stream",
     "text": [
      "Saved keypoints & descriptors from train and test to saved/cifar10/sift_32_32_sigma0.5/sift_keypoints_descriptors.pth\n"
     ]
    }
   ],
   "source": [
    "assert len(sift_data['test']['keypoints']) == len(test_images)\n",
    "assert len(sift_data['test']['descriptors']) == len(test_images)\n",
    "assert len(sift_data['train']['keypoints']) == len(train_images)\n",
    "assert len(sift_data['train']['descriptors']) == len(train_images)\n",
    "# assert \n",
    "sift_save_path = os.path.join(cifar10_save_dir, \n",
    "                              'sift_{}_{}_sigma{}'.format(RESIZE[0], RESIZE[1], sigma), \n",
    "                              'sift_keypoints_descriptors.pth')\n",
    "ensure_dir(os.path.dirname(sift_save_path))\n",
    "if not os.path.exists(sift_save_path):\n",
    "    torch.save(sift_data, sift_save_path)\n",
    "    print(\"Saved keypoints & descriptors from train and test to {}\".format(sift_save_path))\n",
    "else:\n",
    "    print(\"Path {} already exists\".format(sift_save_path))"
   ]
  },
  {
   "cell_type": "markdown",
   "id": "8378c66e-79ab-44a5-8bbf-8fd8d2b633f0",
   "metadata": {},
   "source": [
    "### Cluster the feature descriptors"
   ]
  },
  {
   "cell_type": "code",
   "execution_count": 64,
   "id": "3b18bce7-f83c-4e45-960c-956c94fcf301",
   "metadata": {},
   "outputs": [
    {
     "name": "stdout",
     "output_type": "stream",
     "text": [
      "(1336295, 128)\n"
     ]
    }
   ],
   "source": [
    "sift_data_path = os.path.join(cifar10_save_dir, \n",
    "                              'sift_{}_{}_sigma{}'.format(RESIZE[0], RESIZE[1], sigma), \n",
    "                              'sift_keypoints_descriptors.pth')\n",
    "sift_data = torch.load(sift_data_path)\n",
    "train_descriptors = sift_data['train']['descriptors']\n",
    "flat_train_descriptors = np.concatenate(train_descriptors, axis=0)\n",
    "print(flat_train_descriptors.shape)"
   ]
  },
  {
   "cell_type": "markdown",
   "id": "5738ff93-019e-4fb1-a907-c7eeecad929c",
   "metadata": {
    "tags": []
   },
   "source": [
    "#### Hyperparameter search for the optimal number of clusters"
   ]
  },
  {
   "cell_type": "code",
   "execution_count": 65,
   "id": "691eaa5c-bb56-4bd0-8b75-95ce8ea71bce",
   "metadata": {},
   "outputs": [
    {
     "name": "stdout",
     "output_type": "stream",
     "text": [
      "Calculating k-means for k=5\n",
      "Inertia: 169553559552.0\n",
      "Calculating k-means for k=10\n",
      "Inertia: 157202137088.0\n",
      "Calculating k-means for k=50\n",
      "Inertia: 132387971072.0\n",
      "Calculating k-means for k=75\n",
      "Inertia: 127294603264.0\n",
      "Calculating k-means for k=100\n",
      "Inertia: 123837390848.0\n",
      "Calculating k-means for k=150\n"
     ]
    },
    {
     "ename": "KeyboardInterrupt",
     "evalue": "",
     "output_type": "error",
     "traceback": [
      "\u001b[0;31m---------------------------------------------------------------------------\u001b[0m",
      "\u001b[0;31mKeyboardInterrupt\u001b[0m                         Traceback (most recent call last)",
      "Cell \u001b[0;32mIn[65], line 8\u001b[0m\n\u001b[1;32m      6\u001b[0m \u001b[38;5;28mprint\u001b[39m(\u001b[38;5;124m\"\u001b[39m\u001b[38;5;124mCalculating k-means for k=\u001b[39m\u001b[38;5;132;01m{}\u001b[39;00m\u001b[38;5;124m\"\u001b[39m\u001b[38;5;241m.\u001b[39mformat(k))\n\u001b[1;32m      7\u001b[0m kmeans \u001b[38;5;241m=\u001b[39m KMeans(n_clusters\u001b[38;5;241m=\u001b[39mk, n_init\u001b[38;5;241m=\u001b[39mn_init)\n\u001b[0;32m----> 8\u001b[0m kmeans \u001b[38;5;241m=\u001b[39m \u001b[43mkmeans\u001b[49m\u001b[38;5;241;43m.\u001b[39;49m\u001b[43mfit\u001b[49m\u001b[43m(\u001b[49m\u001b[43mflat_train_descriptors\u001b[49m\u001b[43m)\u001b[49m\n\u001b[1;32m      9\u001b[0m \u001b[38;5;28mprint\u001b[39m(\u001b[38;5;124m\"\u001b[39m\u001b[38;5;124mInertia: \u001b[39m\u001b[38;5;132;01m{}\u001b[39;00m\u001b[38;5;124m\"\u001b[39m\u001b[38;5;241m.\u001b[39mformat(kmeans\u001b[38;5;241m.\u001b[39minertia_))\n\u001b[1;32m     10\u001b[0m inertias\u001b[38;5;241m.\u001b[39mappend(kmeans\u001b[38;5;241m.\u001b[39minertia_)\n",
      "File \u001b[0;32m/n/fs/ac-project/anaconda3/envs/model-correlation/lib/python3.11/site-packages/sklearn/cluster/_kmeans.py:1461\u001b[0m, in \u001b[0;36mKMeans.fit\u001b[0;34m(self, X, y, sample_weight)\u001b[0m\n\u001b[1;32m   1457\u001b[0m best_inertia, best_labels \u001b[38;5;241m=\u001b[39m \u001b[38;5;28;01mNone\u001b[39;00m, \u001b[38;5;28;01mNone\u001b[39;00m\n\u001b[1;32m   1459\u001b[0m \u001b[38;5;28;01mfor\u001b[39;00m i \u001b[38;5;129;01min\u001b[39;00m \u001b[38;5;28mrange\u001b[39m(\u001b[38;5;28mself\u001b[39m\u001b[38;5;241m.\u001b[39m_n_init):\n\u001b[1;32m   1460\u001b[0m     \u001b[38;5;66;03m# Initialize centers\u001b[39;00m\n\u001b[0;32m-> 1461\u001b[0m     centers_init \u001b[38;5;241m=\u001b[39m \u001b[38;5;28;43mself\u001b[39;49m\u001b[38;5;241;43m.\u001b[39;49m\u001b[43m_init_centroids\u001b[49m\u001b[43m(\u001b[49m\n\u001b[1;32m   1462\u001b[0m \u001b[43m        \u001b[49m\u001b[43mX\u001b[49m\u001b[43m,\u001b[49m\u001b[43m \u001b[49m\u001b[43mx_squared_norms\u001b[49m\u001b[38;5;241;43m=\u001b[39;49m\u001b[43mx_squared_norms\u001b[49m\u001b[43m,\u001b[49m\u001b[43m \u001b[49m\u001b[43minit\u001b[49m\u001b[38;5;241;43m=\u001b[39;49m\u001b[43minit\u001b[49m\u001b[43m,\u001b[49m\u001b[43m \u001b[49m\u001b[43mrandom_state\u001b[49m\u001b[38;5;241;43m=\u001b[39;49m\u001b[43mrandom_state\u001b[49m\n\u001b[1;32m   1463\u001b[0m \u001b[43m    \u001b[49m\u001b[43m)\u001b[49m\n\u001b[1;32m   1464\u001b[0m     \u001b[38;5;28;01mif\u001b[39;00m \u001b[38;5;28mself\u001b[39m\u001b[38;5;241m.\u001b[39mverbose:\n\u001b[1;32m   1465\u001b[0m         \u001b[38;5;28mprint\u001b[39m(\u001b[38;5;124m\"\u001b[39m\u001b[38;5;124mInitialization complete\u001b[39m\u001b[38;5;124m\"\u001b[39m)\n",
      "File \u001b[0;32m/n/fs/ac-project/anaconda3/envs/model-correlation/lib/python3.11/site-packages/sklearn/cluster/_kmeans.py:989\u001b[0m, in \u001b[0;36m_BaseKMeans._init_centroids\u001b[0;34m(self, X, x_squared_norms, init, random_state, init_size, n_centroids)\u001b[0m\n\u001b[1;32m    986\u001b[0m     n_samples \u001b[38;5;241m=\u001b[39m X\u001b[38;5;241m.\u001b[39mshape[\u001b[38;5;241m0\u001b[39m]\n\u001b[1;32m    988\u001b[0m \u001b[38;5;28;01mif\u001b[39;00m \u001b[38;5;28misinstance\u001b[39m(init, \u001b[38;5;28mstr\u001b[39m) \u001b[38;5;129;01mand\u001b[39;00m init \u001b[38;5;241m==\u001b[39m \u001b[38;5;124m\"\u001b[39m\u001b[38;5;124mk-means++\u001b[39m\u001b[38;5;124m\"\u001b[39m:\n\u001b[0;32m--> 989\u001b[0m     centers, _ \u001b[38;5;241m=\u001b[39m \u001b[43m_kmeans_plusplus\u001b[49m\u001b[43m(\u001b[49m\n\u001b[1;32m    990\u001b[0m \u001b[43m        \u001b[49m\u001b[43mX\u001b[49m\u001b[43m,\u001b[49m\n\u001b[1;32m    991\u001b[0m \u001b[43m        \u001b[49m\u001b[43mn_clusters\u001b[49m\u001b[43m,\u001b[49m\n\u001b[1;32m    992\u001b[0m \u001b[43m        \u001b[49m\u001b[43mrandom_state\u001b[49m\u001b[38;5;241;43m=\u001b[39;49m\u001b[43mrandom_state\u001b[49m\u001b[43m,\u001b[49m\n\u001b[1;32m    993\u001b[0m \u001b[43m        \u001b[49m\u001b[43mx_squared_norms\u001b[49m\u001b[38;5;241;43m=\u001b[39;49m\u001b[43mx_squared_norms\u001b[49m\u001b[43m,\u001b[49m\n\u001b[1;32m    994\u001b[0m \u001b[43m    \u001b[49m\u001b[43m)\u001b[49m\n\u001b[1;32m    995\u001b[0m \u001b[38;5;28;01melif\u001b[39;00m \u001b[38;5;28misinstance\u001b[39m(init, \u001b[38;5;28mstr\u001b[39m) \u001b[38;5;129;01mand\u001b[39;00m init \u001b[38;5;241m==\u001b[39m \u001b[38;5;124m\"\u001b[39m\u001b[38;5;124mrandom\u001b[39m\u001b[38;5;124m\"\u001b[39m:\n\u001b[1;32m    996\u001b[0m     seeds \u001b[38;5;241m=\u001b[39m random_state\u001b[38;5;241m.\u001b[39mpermutation(n_samples)[:n_clusters]\n",
      "File \u001b[0;32m/n/fs/ac-project/anaconda3/envs/model-correlation/lib/python3.11/site-packages/sklearn/cluster/_kmeans.py:234\u001b[0m, in \u001b[0;36m_kmeans_plusplus\u001b[0;34m(X, n_clusters, x_squared_norms, random_state, n_local_trials)\u001b[0m\n\u001b[1;32m    231\u001b[0m np\u001b[38;5;241m.\u001b[39mclip(candidate_ids, \u001b[38;5;28;01mNone\u001b[39;00m, closest_dist_sq\u001b[38;5;241m.\u001b[39msize \u001b[38;5;241m-\u001b[39m \u001b[38;5;241m1\u001b[39m, out\u001b[38;5;241m=\u001b[39mcandidate_ids)\n\u001b[1;32m    233\u001b[0m \u001b[38;5;66;03m# Compute distances to center candidates\u001b[39;00m\n\u001b[0;32m--> 234\u001b[0m distance_to_candidates \u001b[38;5;241m=\u001b[39m \u001b[43m_euclidean_distances\u001b[49m\u001b[43m(\u001b[49m\n\u001b[1;32m    235\u001b[0m \u001b[43m    \u001b[49m\u001b[43mX\u001b[49m\u001b[43m[\u001b[49m\u001b[43mcandidate_ids\u001b[49m\u001b[43m]\u001b[49m\u001b[43m,\u001b[49m\u001b[43m \u001b[49m\u001b[43mX\u001b[49m\u001b[43m,\u001b[49m\u001b[43m \u001b[49m\u001b[43mY_norm_squared\u001b[49m\u001b[38;5;241;43m=\u001b[39;49m\u001b[43mx_squared_norms\u001b[49m\u001b[43m,\u001b[49m\u001b[43m \u001b[49m\u001b[43msquared\u001b[49m\u001b[38;5;241;43m=\u001b[39;49m\u001b[38;5;28;43;01mTrue\u001b[39;49;00m\n\u001b[1;32m    236\u001b[0m \u001b[43m\u001b[49m\u001b[43m)\u001b[49m\n\u001b[1;32m    238\u001b[0m \u001b[38;5;66;03m# update closest distances squared and potential for each candidate\u001b[39;00m\n\u001b[1;32m    239\u001b[0m np\u001b[38;5;241m.\u001b[39mminimum(closest_dist_sq, distance_to_candidates, out\u001b[38;5;241m=\u001b[39mdistance_to_candidates)\n",
      "File \u001b[0;32m/n/fs/ac-project/anaconda3/envs/model-correlation/lib/python3.11/site-packages/sklearn/metrics/pairwise.py:366\u001b[0m, in \u001b[0;36m_euclidean_distances\u001b[0;34m(X, Y, X_norm_squared, Y_norm_squared, squared)\u001b[0m\n\u001b[1;32m    361\u001b[0m         YY \u001b[38;5;241m=\u001b[39m row_norms(Y, squared\u001b[38;5;241m=\u001b[39m\u001b[38;5;28;01mTrue\u001b[39;00m)[np\u001b[38;5;241m.\u001b[39mnewaxis, :]\n\u001b[1;32m    363\u001b[0m \u001b[38;5;28;01mif\u001b[39;00m X\u001b[38;5;241m.\u001b[39mdtype \u001b[38;5;241m==\u001b[39m np\u001b[38;5;241m.\u001b[39mfloat32:\n\u001b[1;32m    364\u001b[0m     \u001b[38;5;66;03m# To minimize precision issues with float32, we compute the distance\u001b[39;00m\n\u001b[1;32m    365\u001b[0m     \u001b[38;5;66;03m# matrix on chunks of X and Y upcast to float64\u001b[39;00m\n\u001b[0;32m--> 366\u001b[0m     distances \u001b[38;5;241m=\u001b[39m \u001b[43m_euclidean_distances_upcast\u001b[49m\u001b[43m(\u001b[49m\u001b[43mX\u001b[49m\u001b[43m,\u001b[49m\u001b[43m \u001b[49m\u001b[43mXX\u001b[49m\u001b[43m,\u001b[49m\u001b[43m \u001b[49m\u001b[43mY\u001b[49m\u001b[43m,\u001b[49m\u001b[43m \u001b[49m\u001b[43mYY\u001b[49m\u001b[43m)\u001b[49m\n\u001b[1;32m    367\u001b[0m \u001b[38;5;28;01melse\u001b[39;00m:\n\u001b[1;32m    368\u001b[0m     \u001b[38;5;66;03m# if dtype is already float64, no need to chunk and upcast\u001b[39;00m\n\u001b[1;32m    369\u001b[0m     distances \u001b[38;5;241m=\u001b[39m \u001b[38;5;241m-\u001b[39m\u001b[38;5;241m2\u001b[39m \u001b[38;5;241m*\u001b[39m safe_sparse_dot(X, Y\u001b[38;5;241m.\u001b[39mT, dense_output\u001b[38;5;241m=\u001b[39m\u001b[38;5;28;01mTrue\u001b[39;00m)\n",
      "File \u001b[0;32m/n/fs/ac-project/anaconda3/envs/model-correlation/lib/python3.11/site-packages/sklearn/metrics/pairwise.py:568\u001b[0m, in \u001b[0;36m_euclidean_distances_upcast\u001b[0;34m(X, XX, Y, YY, batch_size)\u001b[0m\n\u001b[1;32m    565\u001b[0m \u001b[38;5;28;01melse\u001b[39;00m:\n\u001b[1;32m    566\u001b[0m     YY_chunk \u001b[38;5;241m=\u001b[39m YY[:, y_slice]\n\u001b[0;32m--> 568\u001b[0m d \u001b[38;5;241m=\u001b[39m \u001b[38;5;241m-\u001b[39m\u001b[38;5;241m2\u001b[39m \u001b[38;5;241m*\u001b[39m \u001b[43msafe_sparse_dot\u001b[49m\u001b[43m(\u001b[49m\u001b[43mX_chunk\u001b[49m\u001b[43m,\u001b[49m\u001b[43m \u001b[49m\u001b[43mY_chunk\u001b[49m\u001b[38;5;241;43m.\u001b[39;49m\u001b[43mT\u001b[49m\u001b[43m,\u001b[49m\u001b[43m \u001b[49m\u001b[43mdense_output\u001b[49m\u001b[38;5;241;43m=\u001b[39;49m\u001b[38;5;28;43;01mTrue\u001b[39;49;00m\u001b[43m)\u001b[49m\n\u001b[1;32m    569\u001b[0m d \u001b[38;5;241m+\u001b[39m\u001b[38;5;241m=\u001b[39m XX_chunk\n\u001b[1;32m    570\u001b[0m d \u001b[38;5;241m+\u001b[39m\u001b[38;5;241m=\u001b[39m YY_chunk\n",
      "File \u001b[0;32m/n/fs/ac-project/anaconda3/envs/model-correlation/lib/python3.11/site-packages/sklearn/utils/extmath.py:192\u001b[0m, in \u001b[0;36msafe_sparse_dot\u001b[0;34m(a, b, dense_output)\u001b[0m\n\u001b[1;32m    188\u001b[0m \u001b[38;5;28;01melse\u001b[39;00m:\n\u001b[1;32m    189\u001b[0m     ret \u001b[38;5;241m=\u001b[39m a \u001b[38;5;241m@\u001b[39m b\n\u001b[1;32m    191\u001b[0m \u001b[38;5;28;01mif\u001b[39;00m (\n\u001b[0;32m--> 192\u001b[0m     \u001b[43msparse\u001b[49m\u001b[38;5;241;43m.\u001b[39;49m\u001b[43missparse\u001b[49m\u001b[43m(\u001b[49m\u001b[43ma\u001b[49m\u001b[43m)\u001b[49m\n\u001b[1;32m    193\u001b[0m     \u001b[38;5;129;01mand\u001b[39;00m sparse\u001b[38;5;241m.\u001b[39missparse(b)\n\u001b[1;32m    194\u001b[0m     \u001b[38;5;129;01mand\u001b[39;00m dense_output\n\u001b[1;32m    195\u001b[0m     \u001b[38;5;129;01mand\u001b[39;00m \u001b[38;5;28mhasattr\u001b[39m(ret, \u001b[38;5;124m\"\u001b[39m\u001b[38;5;124mtoarray\u001b[39m\u001b[38;5;124m\"\u001b[39m)\n\u001b[1;32m    196\u001b[0m ):\n\u001b[1;32m    197\u001b[0m     \u001b[38;5;28;01mreturn\u001b[39;00m ret\u001b[38;5;241m.\u001b[39mtoarray()\n\u001b[1;32m    198\u001b[0m \u001b[38;5;28;01mreturn\u001b[39;00m ret\n",
      "File \u001b[0;32m/n/fs/ac-project/anaconda3/envs/model-correlation/lib/python3.11/site-packages/scipy/sparse/_base.py:1301\u001b[0m, in \u001b[0;36misspmatrix\u001b[0;34m(x)\u001b[0m\n\u001b[1;32m   1297\u001b[0m         \u001b[38;5;28;01melse\u001b[39;00m:\n\u001b[1;32m   1298\u001b[0m             \u001b[38;5;28;01mreturn\u001b[39;00m np\u001b[38;5;241m.\u001b[39mzeros(\u001b[38;5;28mself\u001b[39m\u001b[38;5;241m.\u001b[39mshape, dtype\u001b[38;5;241m=\u001b[39m\u001b[38;5;28mself\u001b[39m\u001b[38;5;241m.\u001b[39mdtype, order\u001b[38;5;241m=\u001b[39morder)\n\u001b[0;32m-> 1301\u001b[0m \u001b[38;5;28;01mdef\u001b[39;00m \u001b[38;5;21misspmatrix\u001b[39m(x):\n\u001b[1;32m   1302\u001b[0m     \u001b[38;5;124;03m\"\"\"Is x of a sparse matrix type?\u001b[39;00m\n\u001b[1;32m   1303\u001b[0m \n\u001b[1;32m   1304\u001b[0m \u001b[38;5;124;03m    Parameters\u001b[39;00m\n\u001b[0;32m   (...)\u001b[0m\n\u001b[1;32m   1326\u001b[0m \u001b[38;5;124;03m    False\u001b[39;00m\n\u001b[1;32m   1327\u001b[0m \u001b[38;5;124;03m    \"\"\"\u001b[39;00m\n\u001b[1;32m   1328\u001b[0m     \u001b[38;5;28;01mreturn\u001b[39;00m \u001b[38;5;28misinstance\u001b[39m(x, spmatrix)\n",
      "\u001b[0;31mKeyboardInterrupt\u001b[0m: "
     ]
    }
   ],
   "source": [
    "ks = [5, 10, 50, 75, 100, 150]\n",
    "n_init = 10\n",
    "inertias = []\n",
    "\n",
    "for k in ks:\n",
    "    print(\"Calculating k-means for k={}\".format(k))\n",
    "    kmeans = KMeans(n_clusters=k, n_init=n_init)\n",
    "    kmeans = kmeans.fit(flat_train_descriptors)\n",
    "    print(\"Inertia: {}\".format(kmeans.inertia_))\n",
    "    inertias.append(kmeans.inertia_)\n",
    "    \n",
    "plot(\n",
    "    xs=ks,\n",
    "    ys=inertias)"
   ]
  },
  {
   "cell_type": "code",
   "execution_count": 67,
   "id": "38934437-fbef-4374-b56f-2da5883f73af",
   "metadata": {},
   "outputs": [
    {
     "name": "stdout",
     "output_type": "stream",
     "text": [
      "[5, 10, 50, 75, 100, 150] [169553559552.0, 157202137088.0, 132387971072.0, 127294603264.0, 123837390848.0]\n"
     ]
    },
    {
     "data": {
      "text/plain": [
       "(<Figure size 432x288 with 1 Axes>, <Axes: >)"
      ]
     },
     "execution_count": 67,
     "metadata": {},
     "output_type": "execute_result"
    },
    {
     "data": {
      "text/plain": [
       "<Figure size 432x288 with 0 Axes>"
      ]
     },
     "metadata": {},
     "output_type": "display_data"
    },
    {
     "data": {
      "image/png": "[encoded data removed]",
      "text/plain": [
       "<Figure size 432x288 with 1 Axes>"
      ]
     },
     "metadata": {
      "needs_background": "light"
     },
     "output_type": "display_data"
    }
   ],
   "source": [
    "print(ks, inertias)\n",
    "plot(\n",
    "    xs=ks[:-1],\n",
    "    ys=inertias)"
   ]
  },
  {
   "cell_type": "markdown",
   "id": "66ec670f-72f5-49fd-88c7-c591131cb65f",
   "metadata": {
    "tags": []
   },
   "source": [
    "#### Make clusters "
   ]
  },
  {
   "cell_type": "code",
   "execution_count": 68,
   "id": "cf6758d0-ae32-4f16-a7cd-5b30146f6d87",
   "metadata": {},
   "outputs": [
    {
     "name": "stdout",
     "output_type": "stream",
     "text": [
      "Calculating kmeans clusters with k=50\n"
     ]
    }
   ],
   "source": [
    "k = 50\n",
    "n_init = 1\n",
    "print(\"Calculating kmeans clusters with k={}\".format(k))\n",
    "kmeans = KMeans(n_clusters=k, n_init=n_init)\n",
    "kmeans = kmeans.fit(flat_train_descriptors)\n"
   ]
  },
  {
   "cell_type": "code",
   "execution_count": 70,
   "id": "20df22c4-7660-45b3-9e64-7fb7137931d9",
   "metadata": {},
   "outputs": [
    {
     "name": "stdout",
     "output_type": "stream",
     "text": [
      "K-means with k=50 saved to 'saved/cifar10/sift_32_32_sigma0.5/50means/descriptor_kmeans.pth\n"
     ]
    }
   ],
   "source": [
    "kmeans_save_path = os.path.join(cifar10_save_dir, \n",
    "                                'sift_{}_{}_sigma{}'.format(RESIZE[0], RESIZE[1], sigma),\n",
    "                                '{}means'.format(k), \n",
    "                                'descriptor_kmeans.pth')\n",
    "ensure_dir(os.path.dirname(kmeans_save_path))\n",
    "if not os.path.exists(kmeans_save_path):\n",
    "    torch.save(kmeans, kmeans_save_path)\n",
    "    print(\"K-means with k={} saved to '{}\".format(k, kmeans_save_path))\n",
    "else:\n",
    "    print(\"K-means model already saved to {}\".format(kmeans_save_path))"
   ]
  },
  {
   "cell_type": "markdown",
   "id": "bd2dd689-8f23-4c7a-8407-4000f356c632",
   "metadata": {
    "tags": []
   },
   "source": [
    "#### For each descriptor in training and test set, create a histogram representing the features present"
   ]
  },
  {
   "cell_type": "code",
   "execution_count": 71,
   "id": "bfcbb626-a9d9-48a9-a0b8-2726cd586780",
   "metadata": {},
   "outputs": [
    {
     "name": "stderr",
     "output_type": "stream",
     "text": [
      "100%|███████████████████████████████████| 50000/50000 [00:25<00:00, 1946.08it/s]\n",
      "100%|███████████████████████████████████| 10000/10000 [00:04<00:00, 2224.38it/s]\n"
     ]
    }
   ],
   "source": [
    "kmeans_path = os.path.join(cifar10_save_dir, \n",
    "                                'sift_{}_{}_sigma{}'.format(RESIZE[0], RESIZE[1], sigma),\n",
    "                                '{}means'.format(k), \n",
    "                                'descriptor_kmeans.pth')\n",
    "\n",
    "kmeans = torch.load(kmeans_path)\n",
    "debug = False\n",
    "\n",
    "histogram_data = {}\n",
    "# for split, descriptors in zip(['train', 'test'], [train_descriptors, test_descriptors]):\n",
    "for split in ['train', 'test']:\n",
    "    descriptors = sift_data[split]['descriptors']\n",
    "    histogram_vectors = []\n",
    "\n",
    "    for idx, image_descriptors in enumerate(tqdm(descriptors, total=len(descriptors))):\n",
    "        if debug and idx == 5:\n",
    "            break\n",
    "        n_descriptors = len(image_descriptors)\n",
    "        descriptor_clusters = kmeans.predict(image_descriptors)\n",
    "        histogram = np.zeros(k)\n",
    "        for cluster_idx in descriptor_clusters:\n",
    "            histogram[cluster_idx] += 1 / n_descriptors  # add 1/n_descriptors bc histogram will be normalized\n",
    "\n",
    "        histogram_vectors.append(histogram)\n",
    "    histogram_vectors = np.stack(histogram_vectors, axis=0)\n",
    "    histogram_data[split] = histogram_vectors\n"
   ]
  },
  {
   "cell_type": "code",
   "execution_count": 72,
   "id": "a1ffee22-5afd-41d4-b6db-a39f8fefc40d",
   "metadata": {},
   "outputs": [
    {
     "name": "stdout",
     "output_type": "stream",
     "text": [
      "Train shape: (50000, 50) Test shape: (10000, 50)\n",
      "Saved train histogram vectors to saved/cifar10/sift_32_32_sigma0.5/50means/histogram_vectors.pth\n"
     ]
    }
   ],
   "source": [
    "print(\"Train shape: {} Test shape: {}\".format(histogram_data['train'].shape, histogram_data['test'].shape))\n",
    "histogram_vectors_save_path = os.path.join(\n",
    "    os.path.dirname(kmeans_path), 'histogram_vectors.pth')\n",
    "if not os.path.exists(histogram_vectors_save_path):\n",
    "    torch.save(histogram_data, histogram_vectors_save_path)\n",
    "    print(\"Saved train histogram vectors to {}\".format(histogram_vectors_save_path))\n",
    "else:\n",
    "    print(\"Histogram vectors already exists at {}\".format(histogram_vectors_save_path))"
   ]
  },
  {
   "cell_type": "markdown",
   "id": "89896e53-a94c-487a-a015-175d6ef32096",
   "metadata": {
    "jp-MarkdownHeadingCollapsed": true,
    "tags": []
   },
   "source": [
    "### Get CIFAR10 model's predictions"
   ]
  },
  {
   "cell_type": "code",
   "execution_count": 170,
   "id": "06b09bf8-996e-451b-8504-650e2d7b0dc5",
   "metadata": {},
   "outputs": [],
   "source": [
    "sys.path.insert(0, 'src')\n",
    "from model.base_model import BaseModel\n",
    "sys.path.insert(0, os.path.join('external_code', 'PyTorch_CIFAR10'))\n",
    "# from cifar10_models.densenet import densenet121, densenet161, densenet169\n",
    "# from cifar10_models.googlenet import googlenet\n",
    "# from cifar10_models.inception import inception_v3\n",
    "# from cifar10_models.mobilenetv2 import mobilenet_v2\n",
    "from cifar10_models.resnet import resnet18, resnet34, resnet50\n",
    "\n",
    "class CIFAR10PretrainedModel(BaseModel):\n",
    "    '''\n",
    "    Simple model wrapper for models in external_code/PyTorch_CIFAR10/cifar10_models/state_dicts\n",
    "\n",
    "    Arg(s):\n",
    "        type : str\n",
    "            Name of architecture, must be key in self.all_classifiers\n",
    "\n",
    "    '''\n",
    "    def __init__(self,\n",
    "                 type,\n",
    "                 checkpoint_path=\"\",\n",
    "                 device=None):\n",
    "        super().__init__()\n",
    "        self.all_classifiers = {\n",
    "            # \"vgg11_bn\": vgg11_bn(),\n",
    "            # \"vgg13_bn\": vgg13_bn(),\n",
    "            # \"vgg16_bn\": vgg16_bn(),\n",
    "            # \"vgg19_bn\": vgg19_bn(),\n",
    "            \"resnet18\": resnet18(),\n",
    "            \"resnet34\": resnet34(),\n",
    "            \"resnet50\": resnet50(),\n",
    "            # \"densenet121\": densenet121(),\n",
    "            # \"densenet161\": densenet161(),\n",
    "            # \"densenet169\": densenet169(),\n",
    "            # \"mobilenet_v2\": mobilenet_v2(),\n",
    "            # \"googlenet\": googlenet(),\n",
    "            # \"inception_v3\": inception_v3()\n",
    "        }\n",
    "        if type not in self.all_classifiers:\n",
    "            raise ValueError(\"Architecture {} not available for pretrained CIFAR-10 models\".format(type))\n",
    "        self.model = self.all_classifiers[type]\n",
    "        # self.softmax = torch.nn.Softmax(dim=1)\n",
    "\n",
    "        # Restore weights if checkpoint_path is valid\n",
    "        self.checkpoint_path = checkpoint_path\n",
    "\n",
    "        if self.checkpoint_path != \"\":\n",
    "            try:\n",
    "                self.restore_model(checkpoint_path)\n",
    "            except:\n",
    "                checkpoint = torch.load(checkpoint_path)\n",
    "                self.model.load_state_dict(checkpoint)\n",
    "\n",
    "        # Store parameters\n",
    "        self.model_parameters = list(filter(lambda p: p.requires_grad, self.parameters()))\n",
    "        self.n_params = sum([np.prod(p.size()) for p in self.model_parameters])\n",
    "\n",
    "    def forward(self, x):\n",
    "        self.logits = self.model(x)\n",
    "        return self.logits\n",
    "\n",
    "    def get_features(self, x):\n",
    "        features = self.model.features(x)\n",
    "        return features\n",
    "\n",
    "    def get_checkpoint_path(self):\n",
    "        return self.checkpoint_path\n",
    "\n",
    "    def get_n_params(self):\n",
    "        return self.n_params"
   ]
  },
  {
   "cell_type": "code",
   "execution_count": 176,
   "id": "e64793ca-8497-4cf6-b724-2a98850b4b68",
   "metadata": {},
   "outputs": [],
   "source": [
    "# Create model and load data loaders\n",
    "cifar10_resnet18 = CIFAR10PretrainedModel(\n",
    "    type='resnet18',\n",
    "    checkpoint_path='/n/fs/ac-alignment/explain-alignment/checkpoints/cifar10_state_dicts/resnet18.pt')\n",
    "\n",
    "cifar10_train_dataset = CIFAR10TorchDataset(\n",
    "    cifar_dir=processed_cifar_dir,\n",
    "    split='train')\n",
    "cifar10_train_dataloader = torch.utils.data.DataLoader(\n",
    "    cifar10_train_dataset,\n",
    "    shuffle=False,\n",
    "    batch_size=256,\n",
    "    num_workers=8)\n",
    "\n",
    "cifar10_test_dataset = CIFAR10TorchDataset(\n",
    "    cifar_dir=processed_cifar_dir,\n",
    "    split='test')\n",
    "cifar10_test_dataloader = torch.utils.data.DataLoader(\n",
    "    cifar10_test_dataset,\n",
    "    shuffle=False,\n",
    "    batch_size=256,\n",
    "    num_workers=8)"
   ]
  },
  {
   "cell_type": "code",
   "execution_count": 184,
   "id": "c6c9a346-dfa2-439b-ae1b-fb9628cf410d",
   "metadata": {},
   "outputs": [
    {
     "name": "stderr",
     "output_type": "stream",
     "text": [
      "100%|█████████████████████████████████████████| 196/196 [00:03<00:00, 60.34it/s]\n",
      "100%|███████████████████████████████████████████| 40/40 [00:01<00:00, 32.20it/s]\n"
     ]
    }
   ],
   "source": [
    "device, _ = prepare_device(n_gpu_use=1)\n",
    "cifar10_resnet18 = cifar10_resnet18.to(device)\n",
    "metric_fns = [getattr(module_metric, 'accuracy')]\n",
    "\n",
    "\n",
    "train_predict_log = predict(\n",
    "    data_loader=cifar10_train_dataloader,\n",
    "    model=cifar10_resnet18,\n",
    "    metric_fns=metric_fns,\n",
    "    device=device)\n",
    "\n",
    "test_predict_log = predict(\n",
    "    data_loader=cifar10_test_dataloader,\n",
    "    model=cifar10_resnet18,\n",
    "    metric_fns=metric_fns,\n",
    "    device=device)\n",
    "    "
   ]
  },
  {
   "cell_type": "code",
   "execution_count": 198,
   "id": "fd75fa57-8594-420e-92ed-d0005a58e3ac",
   "metadata": {},
   "outputs": [
    {
     "name": "stdout",
     "output_type": "stream",
     "text": [
      "Saved train/test outputs to saved/cifar10/resnet18/outputs_predictions.pth\n"
     ]
    }
   ],
   "source": [
    "# Save outputs\n",
    "save_path = os.path.join('saved', 'cifar10', 'resnet18', 'outputs_predictions.pth')\n",
    "ensure_dir(os.path.dirname(save_path_template))\n",
    "save_data = {}\n",
    "for split, logs in zip(['train', 'test'], [train_predict_log, test_predict_log]):\n",
    "    outputs = logs['logits']\n",
    "    probabilities = torch.softmax(outputs, dim=1)\n",
    "    predictions = torch.argmax(outputs, dim=1)\n",
    "    \n",
    "    outputs = outputs.cpu().numpy()\n",
    "    probabilities = probabilities.cpu().numpy()\n",
    "    predictions = predictions.cpu().numpy()\n",
    "    \n",
    "    split_data = {\n",
    "        'outputs': outputs,\n",
    "        'probabilities': probabilities,\n",
    "        'predictions': predictions,\n",
    "        'accuracy': logs['metrics']['accuracy']\n",
    "    }\n",
    "    save_data[split] = split_data\n",
    "\n",
    "if not os.path.exists(save_path):\n",
    "    torch.save(save_data, save_path)\n",
    "    print(\"Saved train/test outputs to {}\".format(save_path))\n",
    "else:\n",
    "    print(\"Train/test results already saved to {}\".format(save_path)) \n",
    "        "
   ]
  },
  {
   "cell_type": "markdown",
   "id": "3c194ce7-ca38-469c-9654-24a012c71ec1",
   "metadata": {
    "tags": []
   },
   "source": [
    "### Train linear layer to predict model's soft label outputs from histogram features"
   ]
  },
  {
   "cell_type": "markdown",
   "id": "6495b048-3fc9-4cf1-bff0-276cfa0d2a86",
   "metadata": {
    "tags": []
   },
   "source": [
    "#### Save explainer model's probabilities and predictions on training and validation data"
   ]
  },
  {
   "cell_type": "code",
   "execution_count": 9,
   "id": "4538e5b3-29b9-47bb-9534-25288dae9dcd",
   "metadata": {},
   "outputs": [
    {
     "name": "stdout",
     "output_type": "stream",
     "text": [
      "LinearLayers(\n",
      "  (layers): Sequential(\n",
      "    (0): Linear(in_features=75, out_features=10, bias=True)\n",
      "  )\n",
      ")\n",
      "Trainable parameters: 760\n"
     ]
    },
    {
     "name": "stderr",
     "output_type": "stream",
     "text": [
      "100%|███████████████████████████████████████████| 40/40 [00:00<00:00, 52.71it/s]\n"
     ]
    },
    {
     "name": "stdout",
     "output_type": "stream",
     "text": [
      "Validation accuracy: 0.2411\n"
     ]
    },
    {
     "name": "stderr",
     "output_type": "stream",
     "text": [
      "100%|████████████████████████████████████████| 196/196 [00:00<00:00, 339.67it/s]"
     ]
    },
    {
     "name": "stdout",
     "output_type": "stream",
     "text": [
      "Training accuracy: 0.24014\n"
     ]
    },
    {
     "name": "stderr",
     "output_type": "stream",
     "text": [
      "\n"
     ]
    }
   ],
   "source": [
    "restore_dir = 'saved/cifar10/resnet18/explainer/sift_descriptor_histogram/cifar32_32/soft_labels/0529_130252'\n",
    "model_restore_path = os.path.join(restore_dir, 'models/model_best.pth')\n",
    "config_json = read_json(os.path.join(restore_dir, 'models/config.json'))\n",
    "\n",
    "device, device_ids = prepare_device(config_json['n_gpu'])\n",
    "metric_fns = [getattr(module_metric, met) for met in config_json['metrics']]\n",
    "loss_fn = getattr(module_loss, config_json['loss'])\n",
    "\n",
    "model_args = config_json['arch']['args']\n",
    "model = module_model.LinearLayers(\n",
    "    checkpoint_path=model_restore_path,\n",
    "    **model_args)\n",
    "\n",
    "model.eval()\n",
    "model = model.to(device)\n",
    "\n",
    "# Dataloaders\n",
    "dataset_args = config_json['dataset']['args']\n",
    "train_descriptors_dataset = module_data.KDDataset(split='train', **dataset_args)\n",
    "test_descriptors_dataset = module_data.KDDataset(split='test', **dataset_args)\n",
    "\n",
    "dataloader_args = config_json['data_loader']['args']\n",
    "train_descriptors_dataloader = torch.utils.data.DataLoader(\n",
    "    train_descriptors_dataset,\n",
    "    shuffle=True,\n",
    "    **dataloader_args)\n",
    "test_descriptors_dataloader = torch.utils.data.DataLoader(\n",
    "    test_descriptors_dataset,\n",
    "    shuffle=False,\n",
    "    **dataloader_args)\n",
    "\n",
    "\n",
    "\n",
    "# Evaluate on validation set as a sanity check\n",
    "validation_results = predict(\n",
    "        data_loader=test_descriptors_dataloader,\n",
    "        model=model,\n",
    "        metric_fns=metric_fns,\n",
    "        device=device,\n",
    "        loss_fn=loss_fn,\n",
    "        output_save_path=None,\n",
    "        log_save_path=None)\n",
    "\n",
    "print(\"Validation accuracy: {}\".format(validation_results['metrics']['accuracy']))\n",
    "\n",
    "training_results = predict(\n",
    "        data_loader=train_descriptors_dataloader,\n",
    "        model=model,\n",
    "        metric_fns=metric_fns,\n",
    "        device=device,\n",
    "        loss_fn=loss_fn,\n",
    "        output_save_path=None,\n",
    "        log_save_path=None)\n",
    "\n",
    "print(\"Training accuracy: {}\".format(training_results['metrics']['accuracy']))"
   ]
  },
  {
   "cell_type": "code",
   "execution_count": 34,
   "id": "53494c7a-b533-47fb-abf5-f8178e78c3cd",
   "metadata": {},
   "outputs": [
    {
     "name": "stdout",
     "output_type": "stream",
     "text": [
      "Saved outputs, probabilities and predictions for train/val to saved/cifar10/resnet18/explainer/sift_descriptor_histogram/cifar32_32/soft_labels/0529_130252/outputs_predictions.pth\n"
     ]
    }
   ],
   "source": [
    "save_path = os.path.join(restore_dir, 'outputs_predictions.pth')\n",
    "\n",
    "val_outputs = validation_results['logits']\n",
    "val_probabilities = torch.softmax(val_outputs, dim=1)\n",
    "val_predictions = torch.argmax(val_outputs, dim=1)\n",
    "val_outputs_predictions = {\n",
    "    'outputs': val_outputs.cpu().numpy(),\n",
    "    'probabilities': val_probabilities.cpu().numpy(),\n",
    "    'predictions': val_predictions.cpu().numpy()\n",
    "}\n",
    "\n",
    "train_outputs = training_results['logits']\n",
    "train_probabilities = torch.softmax(train_outputs, dim=1)\n",
    "train_predictions = torch.argmax(train_outputs, dim=1)\n",
    "\n",
    "train_outputs_predictions = {\n",
    "    'outputs': train_outputs.cpu().numpy(),\n",
    "    'probabilities': train_probabilities.cpu().numpy(),\n",
    "    'predictions': train_predictions.cpu().numpy()\n",
    "}\n",
    "\n",
    "outputs_predictions = {\n",
    "    'train': train_outputs_predictions,\n",
    "    'test': val_outputs_predictions\n",
    "}\n",
    "if not os.path.exists(save_path):\n",
    "    torch.save(outputs_predictions, save_path)\n",
    "    print(\"Saved outputs, probabilities and predictions for train/val to {}\".format(save_path))\n",
    "else:\n",
    "    print(\"File exists at {}\".format(save_path))"
   ]
  },
  {
   "cell_type": "markdown",
   "id": "45ba6381-cbe5-46bd-8eb0-717d0bcf7ac5",
   "metadata": {},
   "source": [
    "#### Load soft labels, model labels, and explainer labels"
   ]
  },
  {
   "cell_type": "code",
   "execution_count": 63,
   "id": "6d7adc74-3da9-419c-8ab2-bc7e038cea73",
   "metadata": {},
   "outputs": [
    {
     "name": "stdout",
     "output_type": "stream",
     "text": [
      "Model accuracy: 0.9291\n"
     ]
    }
   ],
   "source": [
    "soft_labels_path = 'data/cifar10h-probs.npy'\n",
    "model_outputs_path = 'saved/cifar10/resnet18/outputs_predictions.pth'\n",
    "explainer_outputs_path = 'saved/cifar10/resnet18/explainer/sift_descriptor_histogram/cifar32_32/soft_labels/0529_130252/outputs_predictions.pth'\n",
    "save_dir = os.path.dirname(explainer_outputs_path)\n",
    "# load human soft labels\n",
    "human_probabilities = np.load(soft_labels_path)\n",
    "human_predictions = np.argmax(human_probabilities, axis=1)\n",
    "assert len(human_predictions) == len(human_probabilities)\n",
    "human_outputs = {\n",
    "    'probabilities': human_probabilities,\n",
    "    'predictions': human_predictions\n",
    "}\n",
    "           \n",
    "# load model outputs\n",
    "model_outputs = torch.load(model_outputs_path)['test']\n",
    "# load explainer outputs\n",
    "explainer_outputs = torch.load(explainer_outputs_path)['test']\n",
    "\n",
    "n_samples = len(human_probabilities)\n",
    "# Print model accuracy for sanity (should be around 90%)\n",
    "model_accuracy = np.sum(model_outputs['predictions'] == human_outputs['predictions']) / n_samples\n",
    "print(\"Model accuracy: {}\".format(model_accuracy))\n"
   ]
  },
  {
   "cell_type": "code",
   "execution_count": 82,
   "id": "89a1392b-9a2d-44d7-a2ec-c7b27af90512",
   "metadata": {},
   "outputs": [
    {
     "name": "stdout",
     "output_type": "stream",
     "text": [
      "Index(['human_labels', 'model_predictions', 'explainer_predictions',\n",
      "       'human_soft_labels', 'human_entropy', 'human_t2c', 'congruent'],\n",
      "      dtype='object') 10000\n",
      "2411 congruent samples, 7589 incongruent samples\n"
     ]
    }
   ],
   "source": [
    "# Calculate entropy and top2confusion from human labels\n",
    "entropy = stats.entropy(human_probabilities, axis=1)\n",
    "t2c = top_2_confusion(human_probabilities)\n",
    "congruent = np.where(model_outputs['predictions'] == explainer_outputs['predictions'], 1, 0)\n",
    "# Make dataframe\n",
    "df_dict = {\n",
    "    'human_labels': human_outputs['predictions'],\n",
    "    'model_predictions': model_outputs['predictions'],\n",
    "    'explainer_predictions': explainer_outputs['predictions'],\n",
    "    'human_soft_labels': list(human_outputs['probabilities']),\n",
    "    'human_entropy': entropy,\n",
    "    'human_t2c': t2c,\n",
    "    'congruent': congruent\n",
    "}\n",
    "\n",
    "df = pd.DataFrame(df_dict)\n",
    "print(df.columns, len(df))\n",
    "\n",
    "congruent_df = df[df['model_predictions'] == df['explainer_predictions']]\n",
    "assert (len(np.unique(congruent_df['congruent'].to_numpy())) == 1 and np.unique(congruent_df['congruent'].to_numpy())[0] == 1)\n",
    "incongruent_df = df[df['model_predictions'] != df['explainer_predictions']]\n",
    "assert (len(np.unique(incongruent_df['congruent'].to_numpy())) == 1 and np.unique(incongruent_df['congruent'].to_numpy())[0] == 0)\n",
    "\n",
    "print(\"{} congruent samples, {} incongruent samples\".format(len(congruent_df), len(incongruent_df)))\n",
    "assert len(congruent_df) + len(incongruent_df) == len(df)"
   ]
  },
  {
   "cell_type": "code",
   "execution_count": 79,
   "id": "0cf3506e-f811-4c1a-80f5-15bb203d853e",
   "metadata": {},
   "outputs": [
    {
     "name": "stdout",
     "output_type": "stream",
     "text": [
      "Saved CSV to saved/cifar10/resnet18/explainer/sift_descriptor_histogram/cifar32_32/soft_labels/0529_130252/soft_labels_uncertainty.csv\n"
     ]
    }
   ],
   "source": [
    "# Save dataframe\n",
    "df_save_path = os.path.join(save_dir, 'soft_labels_uncertainty.csv')\n",
    "if not os.path.exists(df_save_path):\n",
    "    df.to_csv(df_save_path)\n",
    "    print(\"Saved CSV to {}\".format(df_save_path))\n",
    "else:\n",
    "    print(\"CSV already exists at {}\".format(df_save_path))"
   ]
  },
  {
   "cell_type": "markdown",
   "id": "c7348dce-c39d-4923-9cf9-e53c8f59cbac",
   "metadata": {},
   "source": [
    "#### Examine measurements in congruent vs incongruent samples"
   ]
  },
  {
   "cell_type": "code",
   "execution_count": 70,
   "id": "28d32d4f-be0f-4c97-8550-894a64daea84",
   "metadata": {},
   "outputs": [],
   "source": [
    "def congruency_statistical_tests(congruent_df, incongruent_df, metrics):\n",
    "    for metric in metrics:\n",
    "        congruent_values = congruent_df[metric].to_numpy()\n",
    "        incongruent_values = incongruent_df[metric].to_numpy()\n",
    "        mean_congruent_value = congruent_values.mean()\n",
    "        std_congruent_value = congruent_values.std()\n",
    "        mean_incongruent_value = incongruent_values.mean()\n",
    "        std_incongruent_value = incongruent_values.std()\n",
    "\n",
    "        print(\"{} congruent: {:.3f} ({:.3f})\".format(confusion_metric, mean_congruent_value, std_congruent_value))\n",
    "        print(\"{} incongruent: {:.3f} ({:.3f})\".format(confusion_metric, mean_incongruent_value, std_incongruent_value))\n",
    "\n",
    "        ttest = stats.ttest_ind(\n",
    "            congruent_values,\n",
    "            incongruent_values,\n",
    "            equal_var=False\n",
    "        )\n",
    "        print(\"T-test for {} without equal variance: {} (p={})\".format(confusion_metric, ttest.statistic, ttest.pvalue))\n",
    "\n",
    "        ttest = stats.ttest_ind(\n",
    "            congruent_values,\n",
    "            incongruent_values,\n",
    "            equal_var=True\n",
    "        )\n",
    "        print(\"T-test for {} with equal variance: {} (p={})\".format(confusion_metric, ttest.statistic, ttest.pvalue))"
   ]
  },
  {
   "cell_type": "code",
   "execution_count": 71,
   "id": "d25e96f5-e872-4362-b987-60923c70d413",
   "metadata": {},
   "outputs": [
    {
     "name": "stdout",
     "output_type": "stream",
     "text": [
      "Mean overall human_entropy: 0.154 (0.235)\n",
      "Mean overall human_t2c: 0.079 (0.153)\n",
      "\n",
      "human_t2c congruent: 0.125 (0.195)\n",
      "human_t2c incongruent: 0.164 (0.246)\n",
      "T-test for human_t2c without equal variance: -7.954375227588616 (p=2.2052075119071042e-15)\n",
      "T-test for human_t2c with equal variance: -7.067288787678372 (p=1.6854006218435467e-12)\n",
      "human_t2c congruent: 0.062 (0.125)\n",
      "human_t2c incongruent: 0.085 (0.160)\n",
      "T-test for human_t2c without equal variance: -7.28881535701748 (p=3.6054705570626156e-13)\n",
      "T-test for human_t2c with equal variance: -6.441213327685048 (p=1.2397417135193397e-10)\n"
     ]
    }
   ],
   "source": [
    "confusion_metrics = ['human_entropy', 'human_t2c']\n",
    "for metric in confusion_metrics:\n",
    "    print(\"Mean overall {}: {:.3f} ({:.3f})\".format(metric, df[metric].mean(), df[metric].std()))\n",
    "print(\"\")\n",
    "\n",
    "congruency_statistical_tests(\n",
    "    congruent_df=congruent_df,\n",
    "    incongruent_df=incongruent_df,\n",
    "    metrics=confusion_metrics)\n",
    "\n"
   ]
  },
  {
   "cell_type": "code",
   "execution_count": 66,
   "id": "e3c979f6-dd8a-494e-b93f-ab386ca890bd",
   "metadata": {},
   "outputs": [
    {
     "data": {
      "image/png": "[encoded data removed]",
      "text/plain": [
       "<Figure size 432x288 with 1 Axes>"
      ]
     },
     "metadata": {
      "needs_background": "light"
     },
     "output_type": "display_data"
    },
    {
     "data": {
      "image/png": "[encoded data removed]",
      "text/plain": [
       "<Figure size 432x288 with 1 Axes>"
      ]
     },
     "metadata": {
      "needs_background": "light"
     },
     "output_type": "display_data"
    },
    {
     "data": {
      "text/plain": [
       "<Figure size 432x288 with 0 Axes>"
      ]
     },
     "metadata": {},
     "output_type": "display_data"
    }
   ],
   "source": [
    "# Plot distribution of confusion metrics\n",
    "for confusion_metric in confusion_metrics:\n",
    "    histogram(\n",
    "        data=[df[confusion_metric].to_numpy()],\n",
    "        title=\"Distribution of {}\".format(confusion_metric),\n",
    "        xlabel=confusion_metric,\n",
    "        ylabel=\"Number of Samples\",\n",
    "        n_bins=20,\n",
    "        show=True\n",
    "    )"
   ]
  },
  {
   "cell_type": "code",
   "execution_count": 62,
   "id": "0db1c817-bdeb-4a2a-b788-07fb4b09ee86",
   "metadata": {},
   "outputs": [
    {
     "data": {
      "image/png": "[encoded data removed]",
      "text/plain": [
       "<Figure size 432x288 with 1 Axes>"
      ]
     },
     "metadata": {
      "needs_background": "light"
     },
     "output_type": "display_data"
    },
    {
     "data": {
      "image/png": "[encoded data removed]",
      "text/plain": [
       "<Figure size 432x288 with 1 Axes>"
      ]
     },
     "metadata": {
      "needs_background": "light"
     },
     "output_type": "display_data"
    },
    {
     "data": {
      "text/plain": [
       "<Figure size 432x288 with 0 Axes>"
      ]
     },
     "metadata": {},
     "output_type": "display_data"
    }
   ],
   "source": [
    "# Separate plots for congruent vs incongruent\n",
    "for confusion_metric in confusion_metrics:\n",
    "    data = [congruent_df[confusion_metric].to_numpy(), incongruent_df[confusion_metric].to_numpy()]\n",
    "    histogram(\n",
    "        data=data,\n",
    "        # weights=None,\n",
    "        weights=[np.ones_like(cur_data) / len(cur_data) for cur_data in data],\n",
    "        labels=[\"Congruent ({})\".format(len(congruent_df)), \"Incongruent ({})\".format(len(incongruent_df))],\n",
    "        n_bins=15,\n",
    "        title=\"Distribution of {}\".format(confusion_metric),\n",
    "        xlabel=confusion_metric,\n",
    "        ylabel=\"Number of Samples\",\n",
    "        show=True\n",
    "    )\n"
   ]
  },
  {
   "cell_type": "code",
   "execution_count": 129,
   "id": "00b1df2d-afb3-408e-ad5b-6e1543bfc409",
   "metadata": {},
   "outputs": [
    {
     "data": {
      "image/png": "[encoded data removed]",
      "text/plain": [
       "<Figure size 432x288 with 1 Axes>"
      ]
     },
     "metadata": {
      "needs_background": "light"
     },
     "output_type": "display_data"
    },
    {
     "data": {
      "text/plain": [
       "(array([[0.06055579, 0.09332227, 0.10493571, 0.11779345, 0.0953961 ,\n",
       "         0.09954376, 0.10949813, 0.11157196, 0.10452095, 0.10286188],\n",
       "        [0.1125313 , 0.10212149, 0.09843194, 0.09434708, 0.10146264,\n",
       "         0.10014495, 0.09698247, 0.09632363, 0.09856371, 0.09909079]]),\n",
       " array([   0. ,  999.9, 1999.8, 2999.7, 3999.6, 4999.5, 5999.4, 6999.3,\n",
       "        7999.2, 8999.1, 9999. ]),\n",
       " <a list of 2 BarContainer objects>)"
      ]
     },
     "execution_count": 129,
     "metadata": {},
     "output_type": "execute_result"
    },
    {
     "data": {
      "text/plain": [
       "<Figure size 432x288 with 0 Axes>"
      ]
     },
     "metadata": {},
     "output_type": "display_data"
    }
   ],
   "source": [
    "# Sort rows by highest entropy\n",
    "sort_metric = 'human_entropy'\n",
    "sorted_df = df.sort_values(sort_metric, ascending=False)\n",
    "sorted_df['temp_idxs'] = [i for i in range(len(sorted_df))]\n",
    "c_sorted_df = sorted_df[sorted_df['congruent'] == 1]\n",
    "i_sorted_df = sorted_df[sorted_df['congruent'] == 0]\n",
    "\n",
    "\n",
    "data = [c_sorted_df['temp_idxs'], i_sorted_df['temp_idxs']]\n",
    "\n",
    "histogram(\n",
    "    data=data,\n",
    "    weights=[np.ones_like(cur_data) / len(cur_data) for cur_data in data],\n",
    "    labels=['congruent', 'incongruent'],\n",
    "    n_bins=10,\n",
    "    xlabel='Index when ranked by decreasing {}'.format(sort_metric),\n",
    "    ylabel='Relative frequency',\n",
    "    title='Distribution of {} ranking by congruent/incongruent groups'.format(sort_metric),\n",
    "    show=True)"
   ]
  },
  {
   "cell_type": "code",
   "execution_count": 127,
   "id": "4ec0d690-412c-4718-9511-6a6eff92ad95",
   "metadata": {},
   "outputs": [
    {
     "data": {
      "image/png": "[encoded data removed]",
      "text/plain": [
       "<Figure size 432x288 with 1 Axes>"
      ]
     },
     "metadata": {
      "needs_background": "light"
     },
     "output_type": "display_data"
    },
    {
     "data": {
      "text/plain": [
       "(array([[0.06594774, 0.08875985, 0.10783907, 0.11530485, 0.09124844,\n",
       "         0.10244712, 0.10949813, 0.11157196, 0.10452095, 0.10286188],\n",
       "        [0.11081829, 0.10357096, 0.09750955, 0.0951377 , 0.10278034,\n",
       "         0.09922256, 0.09698247, 0.09632363, 0.09856371, 0.09909079]]),\n",
       " array([   0. ,  999.9, 1999.8, 2999.7, 3999.6, 4999.5, 5999.4, 6999.3,\n",
       "        7999.2, 8999.1, 9999. ]),\n",
       " <a list of 2 BarContainer objects>)"
      ]
     },
     "execution_count": 127,
     "metadata": {},
     "output_type": "execute_result"
    },
    {
     "data": {
      "text/plain": [
       "<Figure size 432x288 with 0 Axes>"
      ]
     },
     "metadata": {},
     "output_type": "display_data"
    }
   ],
   "source": [
    "# sorted_df['temp_idxs'] = [i for i in range(len(sorted_df))]\n",
    "# c_sorted_df = sorted_df[sorted_df['congruent'] == 1]\n",
    "# i_sorted_df = sorted_df[sorted_df['congruent'] == 0]\n",
    "\n",
    "\n",
    "# data = [c_sorted_df['temp_idxs'], i_sorted_df['temp_idxs']]\n",
    "\n",
    "# histogram(\n",
    "#     data=data,\n",
    "#     weights=[np.ones_like(cur_data) / len(cur_data) for cur_data in data],\n",
    "#     labels=['congruent', 'incongruent'],\n",
    "#     n_bins=10,\n",
    "#     xlabel='Index when ranked by decreasing entropy',\n",
    "#     ylabel='Relative frequency',\n",
    "#     title='Distribution of entropy ranking by congruent/incongruent groups',\n",
    "#     show=True)"
   ]
  },
  {
   "cell_type": "code",
   "execution_count": null,
   "id": "54d4c748-f2c8-47aa-aa88-55b5425b796f",
   "metadata": {},
   "outputs": [],
   "source": []
  }
 ],
 "metadata": {
  "kernelspec": {
   "display_name": "model-correlation",
   "language": "python",
   "name": "model-correlation"
  },
  "language_info": {
   "codemirror_mode": {
    "name": "ipython",
    "version": 3
   },
   "file_extension": ".py",
   "mimetype": "text/x-python",
   "name": "python",
   "nbconvert_exporter": "python",
   "pygments_lexer": "ipython3",
   "version": "3.11.2"
  }
 },
 "nbformat": 4,
 "nbformat_minor": 5
}
