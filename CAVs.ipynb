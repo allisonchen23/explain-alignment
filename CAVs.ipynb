{
 "cells": [
  {
   "cell_type": "code",
   "execution_count": 33,
   "metadata": {},
   "outputs": [],
   "source": [
    "import os, sys\n",
    "import numpy as np\n",
    "import pandas as pd\n",
    "import torch\n",
    "from tqdm import tqdm\n",
    "from sklearn.linear_model import LogisticRegression\n",
    "import sklearn.preprocessing as Preprocessing\n",
    "import pickle\n",
    "from datetime import datetime\n",
    "\n",
    "sys.path.insert(0, 'src')\n",
    "from utils.places365_pred_utils import get_class_category_dict, get_category_class_dict\n",
    "from utils.utils import ensure_dir, write_lists, informal_log\n",
    "from utils.attribute_utils import get_one_hot_attributes, get_frequent_attributes"
   ]
  },
  {
   "cell_type": "markdown",
   "metadata": {},
   "source": [
    "### Load features and attributes"
   ]
  },
  {
   "cell_type": "code",
   "execution_count": 14,
   "metadata": {},
   "outputs": [],
   "source": [
    "# import numpy as np\n",
    "# import os, sys\n",
    "\n",
    "# sys.path.insert(0, 'src')\n",
    "\n",
    "# # def get_attributes_set(data, paths):\n",
    "# #     splits = ['train', 'val', 'test']\n",
    "# #     seen_attributes = set()\n",
    "# #     for split in splits:\n",
    "# #         split_paths = paths[split]\n",
    "# #         for path in split_paths:\n",
    "# #             # Obtain attributes\n",
    "# #             cur_attributes = data['labels'][path]\n",
    "# #             for attr in cur_attributes:\n",
    "# #                 seen_attributes.add(attr)\n",
    "# #     return seen_attributes\n",
    "\n",
    "# def get_one_hot_attributes(data, paths, n_attr, splits=['train', 'val', 'test']):\n",
    "#     attributes = {}\n",
    "#     for split in splits:\n",
    "#         attributes[split] = []\n",
    "#     # attributes = {\n",
    "#     #     'train': [],\n",
    "#     #     'val': [],\n",
    "#     #     'test': []\n",
    "#     # }\n",
    "\n",
    "#     for split in splits:\n",
    "#         split_paths = paths[split]\n",
    "#         print(\"Processing attributes for {} split\".format(split))\n",
    "#         for path in tqdm(split_paths):\n",
    "#             # Obtain attributes and covnvert to one hot\n",
    "#             cur_attributes = data['labels'][path]\n",
    "#             one_hot_attributes = np.zeros(n_attr)\n",
    "#             one_hot_attributes[cur_attributes] = 1\n",
    "#             attributes[split].append(one_hot_attributes)\n",
    "#         attributes[split] = np.stack(attributes[split], axis=0)\n",
    "\n",
    "#     # Print statistics from training\n",
    "#     # train_attributes = attributes['train']\n",
    "#     # counts = np.sum(train_attributes, axis=0)\n",
    "#     # print(\"{} concepts that occur > 150 times in training\".format(len(np.where(counts > 150)[0])))\n",
    "#     # print(\"{} concepts that occur at all in training\".format(len(np.nonzero(counts)[0])))\n",
    "\n",
    "#     return attributes\n",
    "\n",
    "# def get_frequent_attributes(attributes,\n",
    "#                                frequency_threshold=150,\n",
    "#                                splits=['train', 'val', 'test']):\n",
    "#     '''\n",
    "#     Given dictionary of 1-hot encoded attributes, return dictionary of same format with only frequent attributes\n",
    "\n",
    "#     Arg(s):\n",
    "#         attributes : dict[str : np.array]\n",
    "#             keys: split ['train', 'val', 'test']\n",
    "#             values: one-hot encoded attributes\n",
    "#         frequency_threshold : int\n",
    "#             number of occurrences in training for an attribute to be considered 'frequent'\n",
    "#         splits : list[str]\n",
    "#             list of split names to key dictionaries\n",
    "\n",
    "#     Returns:\n",
    "#         freq_attributes_dict : dict[str : np.array]\n",
    "#     '''\n",
    "#     train_counts = np.sum(attributes['train'], axis=0)\n",
    "\n",
    "#     # Obtain one-hot encoding of attributes that exceed frequency threshold\n",
    "#     freq_attributes_one_hot = np.where(train_counts > frequency_threshold, 1, 0)\n",
    "#     # Mask out infrequent attributes\n",
    "#     freq_attributes_dict = {}\n",
    "#     for split in splits:\n",
    "#         cur_attributes = attributes[split]\n",
    "#         freq_attributes = np.where(freq_attributes_one_hot == 1, cur_attributes, 0)\n",
    "\n",
    "#         # Sanity checks\n",
    "#         discarded_attributes_idxs = np.nonzero(np.where(train_counts < frequency_threshold, 1, 0))[0]\n",
    "#         kept_attributes_idxs = np.nonzero(train_counts > frequency_threshold)[0]\n",
    "#         assert (kept_attributes_idxs == np.nonzero(freq_attributes_one_hot)[0]).all()\n",
    "\n",
    "#         zeroed_ctr = 0\n",
    "#         ctr = 0\n",
    "\n",
    "#         for idx, (orig, new) in enumerate(zip(cur_attributes, freq_attributes)):\n",
    "#             # print(orig\n",
    "#             if not (orig == new).all():\n",
    "#                 orig_idxs = np.nonzero(orig)[0]\n",
    "#                 new_idxs = np.nonzero(new)[0]\n",
    "#                 # Assert new idxs ONLY contains the kept attributes and none of discarded\n",
    "#                 assert len(np.intersect1d(new_idxs, discarded_attributes_idxs)) == 0\n",
    "#                 assert len(np.intersect1d(new_idxs, kept_attributes_idxs)) == len(new_idxs)\n",
    "#                 # Assert overlap with original indices is equal to new indices\n",
    "#                 assert (np.intersect1d(orig_idxs, new_idxs) == new_idxs).all()\n",
    "#                 if len(new_idxs) == 0:\n",
    "#                     zeroed_ctr += 1\n",
    "#                 ctr += 1\n",
    "#         print(\"{} examples have no more attributes\".format(zeroed_ctr))\n",
    "#         print(\"{}/{} examples affected\".format(ctr, len(cur_attributes)))\n",
    "#         freq_attributes_dict[split] = freq_attributes\n",
    "\n",
    "#     return freq_attributes_dict, freq_attributes_one_hot"
   ]
  },
  {
   "cell_type": "code",
   "execution_count": 26,
   "metadata": {},
   "outputs": [
    {
     "name": "stdout",
     "output_type": "stream",
     "text": [
      "Obtaining one hot encodings of attributes\n",
      "Processing attributes for train split\n"
     ]
    },
    {
     "name": "stderr",
     "output_type": "stream",
     "text": [
      "100%|██████████| 13326/13326 [00:00<00:00, 141416.80it/s]\n"
     ]
    },
    {
     "name": "stdout",
     "output_type": "stream",
     "text": [
      "Processing attributes for val split\n"
     ]
    },
    {
     "name": "stderr",
     "output_type": "stream",
     "text": [
      "100%|██████████| 4442/4442 [00:00<00:00, 149905.04it/s]\n"
     ]
    },
    {
     "name": "stdout",
     "output_type": "stream",
     "text": [
      "Processing attributes for test split\n"
     ]
    },
    {
     "name": "stderr",
     "output_type": "stream",
     "text": [
      "100%|██████████| 4442/4442 [00:00<00:00, 140955.68it/s]\n"
     ]
    },
    {
     "name": "stdout",
     "output_type": "stream",
     "text": [
      "Obtaining frequent attributes only\n",
      "6 examples have no more attributes\n",
      "8308/13326 examples affected\n",
      "3 examples have no more attributes\n",
      "2736/4442 examples affected\n",
      "3 examples have no more attributes\n",
      "2804/4442 examples affected\n"
     ]
    }
   ],
   "source": [
    "# Load features\n",
    "features_dir = os.path.join('saved', 'ADE20K', '0501_105640')\n",
    "train_features_path = os.path.join(features_dir, 'train_features.pth')\n",
    "val_features_path = os.path.join(features_dir, 'val_features.pth')\n",
    "test_features_path = os.path.join(features_dir, 'test_features.pth')\n",
    "\n",
    "train_features_dict = torch.load(train_features_path)\n",
    "train_features = train_features_dict['features']\n",
    "train_paths = train_features_dict['paths']\n",
    "\n",
    "val_features_dict = torch.load(val_features_path)\n",
    "val_features = val_features_dict['features']\n",
    "val_paths = val_features_dict['paths']\n",
    "\n",
    "test_features_dict = torch.load(test_features_path)\n",
    "test_features = test_features_dict['features']\n",
    "test_paths = test_features_dict['paths']\n",
    "\n",
    "paths = {\n",
    "    'train': train_paths,\n",
    "    'val': val_paths,\n",
    "    'test': test_paths\n",
    "}\n",
    "n_attributes = 1200\n",
    "frequency_threshold = 150\n",
    "\n",
    "# Load data and calculate attributes\n",
    "data_path = os.path.join('data', 'ade20k', 'full_ade20k_imagelabels.pth')\n",
    "data = torch.load(data_path)\n",
    "\n",
    "print(\"Obtaining one hot encodings of attributes\")\n",
    "attributes = get_one_hot_attributes(\n",
    "    data=data,\n",
    "    paths=paths,\n",
    "    n_attr=n_attributes\n",
    ")\n",
    "\n",
    "\n",
    "print(\"Obtaining frequent attributes only\")\n",
    "freq_attributes, freq_attributes_one_hot = get_frequent_attributes(\n",
    "    attributes=attributes,\n",
    "    frequency_threshold=frequency_threshold\n",
    ")\n",
    "\n",
    "# Get indices of frequent attributes\n",
    "frequent_attribute_idxs = np.nonzero(freq_attributes_one_hot)[0]\n",
    "\n",
    "# Load names of attributes\n",
    "labels_path = os.path.join('data', 'broden1_224', 'label.csv')\n",
    "attribute_label_dict = pd.read_csv(labels_path, index_col=0)['name'].to_dict()\n",
    "print(\"Loaded human-readable labels)\")"
   ]
  },
  {
   "cell_type": "markdown",
   "metadata": {},
   "source": [
    "### For each attribute, create a linear classifier (hyperparameter search)"
   ]
  },
  {
   "cell_type": "code",
   "execution_count": 34,
   "metadata": {},
   "outputs": [],
   "source": [
    "def hyperparam_search_multinomial(train_features,\n",
    "                                  train_labels, \n",
    "                                  val_features, \n",
    "                                  val_labels, \n",
    "                                  regularization,\n",
    "                                  solver,\n",
    "                                  scaler=None,\n",
    "                                  Cs = [0.001, 0.005, 0.01, 0.05, 0.1, 0.5, 1, 3, 5],\n",
    "                                  log_path=None):\n",
    "    best_clf = None\n",
    "    best_acc = 0\n",
    "    \n",
    "    if scaler is not None:\n",
    "        scaler.fit(train_features)\n",
    "        print(\"Scaler parameters: {}\".format(scaler.get_params()))\n",
    "        train_features = scaler.transform(train_features)\n",
    "        val_features = scaler.transform(val_features)\n",
    "    for c in Cs:\n",
    "        clf = LogisticRegression(solver=solver, C=c, penalty=regularization)\n",
    "        clf.fit(train_features, train_labels)\n",
    "        score = clf.score(val_features, val_labels)\n",
    "        if score>best_acc:\n",
    "            best_acc = score\n",
    "            best_clf = clf\n",
    "            informal_log(\"Best accuracy: {} Regularization: {}\".format(score, c), log_path)\n",
    "    \n",
    "    return best_clf"
   ]
  },
  {
   "cell_type": "code",
   "execution_count": 40,
   "metadata": {},
   "outputs": [
    {
     "name": "stderr",
     "output_type": "stream",
     "text": [
      "0it [00:00, ?it/s]"
     ]
    },
    {
     "name": "stdout",
     "output_type": "stream",
     "text": [
      "[0512_153903] 1/182 Calculating CAV for wall\n",
      "Best accuracy: 0.8973435389464205 Regularization: 0.001\n",
      "Best accuracy: 0.8975686627645205 Regularization: 0.005\n",
      "Best accuracy: 0.8982440342188204 Regularization: 0.01\n",
      "Best accuracy: 0.8991445294912201 Regularization: 0.05\n"
     ]
    },
    {
     "name": "stderr",
     "output_type": "stream",
     "text": [
      "1it [00:28, 28.37s/it]"
     ]
    },
    {
     "name": "stdout",
     "output_type": "stream",
     "text": [
      "CAV accuracy for wall concept (12): 0.8991\n",
      "[0512_153931] 2/182 Calculating CAV for sky\n",
      "Best accuracy: 0.9279603782080144 Regularization: 0.001\n",
      "Best accuracy: 0.935164340387213 Regularization: 0.005\n",
      "Best accuracy: 0.9371904547501125 Regularization: 0.01\n",
      "Best accuracy: 0.9425934263845115 Regularization: 0.05\n"
     ]
    },
    {
     "name": "stderr",
     "output_type": "stream",
     "text": [
      "2it [00:54, 27.27s/it]"
     ]
    },
    {
     "name": "stdout",
     "output_type": "stream",
     "text": [
      "CAV accuracy for sky concept (13): 0.9426\n",
      "[0512_153958] 3/182 Calculating CAV for floor\n",
      "Best accuracy: 0.9189554254840162 Regularization: 0.001\n",
      "Best accuracy: 0.9236830256641153 Regularization: 0.005\n"
     ]
    },
    {
     "name": "stderr",
     "output_type": "stream",
     "text": [
      "3it [01:23, 27.70s/it]"
     ]
    },
    {
     "name": "stdout",
     "output_type": "stream",
     "text": [
      "CAV accuracy for floor concept (14): 0.9237\n",
      "[0512_154026] 4/182 Calculating CAV for windowpane\n",
      "Best accuracy: 0.7976136875281404 Regularization: 0.001\n",
      "Best accuracy: 0.8077442593426385 Regularization: 0.005\n",
      "Best accuracy: 0.8108959927960379 Regularization: 0.01\n"
     ]
    },
    {
     "name": "stderr",
     "output_type": "stream",
     "text": [
      "4it [01:54, 29.00s/it]"
     ]
    },
    {
     "name": "stdout",
     "output_type": "stream",
     "text": [
      "CAV accuracy for windowpane concept (15): 0.8109\n",
      "[0512_154057] 5/182 Calculating CAV for tree\n",
      "Best accuracy: 0.9040972534894192 Regularization: 0.001\n",
      "Best accuracy: 0.909725348941918 Regularization: 0.005\n",
      "Best accuracy: 0.9106258442143179 Regularization: 0.01\n"
     ]
    },
    {
     "name": "stderr",
     "output_type": "stream",
     "text": [
      "5it [02:25, 29.73s/it]"
     ]
    },
    {
     "name": "stdout",
     "output_type": "stream",
     "text": [
      "CAV accuracy for tree concept (16): 0.9106\n",
      "[0512_154128] 6/182 Calculating CAV for building\n",
      "Best accuracy: 0.9108509680324178 Regularization: 0.001\n",
      "Best accuracy: 0.9153534443944169 Regularization: 0.005\n",
      "Best accuracy: 0.9164790634849167 Regularization: 0.01\n"
     ]
    },
    {
     "name": "stderr",
     "output_type": "stream",
     "text": [
      "6it [02:52, 28.96s/it]"
     ]
    },
    {
     "name": "stdout",
     "output_type": "stream",
     "text": [
      "CAV accuracy for building concept (18): 0.9165\n",
      "[0512_154155] 7/182 Calculating CAV for person\n",
      "Best accuracy: 0.8741557856821252 Regularization: 0.001\n",
      "Best accuracy: 0.8867627194957226 Regularization: 0.005\n",
      "Best accuracy: 0.8874380909500225 Regularization: 0.01\n"
     ]
    },
    {
     "name": "stderr",
     "output_type": "stream",
     "text": [
      "7it [03:23, 29.53s/it]"
     ]
    },
    {
     "name": "stdout",
     "output_type": "stream",
     "text": [
      "CAV accuracy for person concept (19): 0.8874\n",
      "[0512_154226] 8/182 Calculating CAV for head\n",
      "Best accuracy: 0.9520486267447096 Regularization: 0.001\n",
      "Best accuracy: 0.9529491220171095 Regularization: 0.005\n"
     ]
    },
    {
     "name": "stderr",
     "output_type": "stream",
     "text": [
      "8it [03:52, 29.35s/it]"
     ]
    },
    {
     "name": "stdout",
     "output_type": "stream",
     "text": [
      "CAV accuracy for head concept (21): 0.9529\n",
      "[0512_154255] 9/182 Calculating CAV for leg\n",
      "Best accuracy: 0.8993696533093202 Regularization: 0.001\n",
      "Best accuracy: 0.9009455200360198 Regularization: 0.005\n",
      "Best accuracy: 0.9022962629446195 Regularization: 0.01\n",
      "Best accuracy: 0.9027465105808195 Regularization: 0.05\n"
     ]
    },
    {
     "name": "stderr",
     "output_type": "stream",
     "text": [
      "9it [04:27, 31.30s/it]"
     ]
    },
    {
     "name": "stdout",
     "output_type": "stream",
     "text": [
      "CAV accuracy for leg concept (22): 0.9027\n",
      "[0512_154330] 10/182 Calculating CAV for door\n",
      "Best accuracy: 0.7615938766321477 Regularization: 0.001\n",
      "Best accuracy: 0.7631697433588474 Regularization: 0.005\n",
      "Best accuracy: 0.765420981539847 Regularization: 0.01\n",
      "Best accuracy: 0.7674470959027465 Regularization: 0.05\n"
     ]
    },
    {
     "name": "stderr",
     "output_type": "stream",
     "text": [
      "10it [04:59, 31.33s/it]"
     ]
    },
    {
     "name": "stdout",
     "output_type": "stream",
     "text": [
      "CAV accuracy for door concept (23): 0.7674\n",
      "[0512_154402] 11/182 Calculating CAV for ceiling\n",
      "Best accuracy: 0.8946420531292211 Regularization: 0.001\n",
      "Best accuracy: 0.9074741107609186 Regularization: 0.005\n",
      "Best accuracy: 0.9092751013057181 Regularization: 0.01\n"
     ]
    },
    {
     "name": "stderr",
     "output_type": "stream",
     "text": [
      "11it [05:30, 31.21s/it]"
     ]
    },
    {
     "name": "stdout",
     "output_type": "stream",
     "text": [
      "CAV accuracy for ceiling concept (25): 0.9093\n",
      "[0512_154433] 12/182 Calculating CAV for torso\n",
      "Best accuracy: 0.9855920756416029 Regularization: 0.001\n",
      "Best accuracy: 0.9858171994597028 Regularization: 0.05\n"
     ]
    },
    {
     "name": "stderr",
     "output_type": "stream",
     "text": [
      "12it [06:00, 30.92s/it]"
     ]
    },
    {
     "name": "stdout",
     "output_type": "stream",
     "text": [
      "CAV accuracy for torso concept (26): 0.9858\n",
      "[0512_154503] 13/182 Calculating CAV for table\n",
      "Best accuracy: 0.8955425484016208 Regularization: 0.001\n",
      "Best accuracy: 0.8975686627645205 Regularization: 0.005\n",
      "Best accuracy: 0.8982440342188204 Regularization: 0.01\n",
      "Best accuracy: 0.8984691580369203 Regularization: 0.05\n"
     ]
    },
    {
     "name": "stderr",
     "output_type": "stream",
     "text": [
      "13it [06:32, 31.41s/it]"
     ]
    },
    {
     "name": "stdout",
     "output_type": "stream",
     "text": [
      "CAV accuracy for table concept (27): 0.8985\n",
      "[0512_154536] 14/182 Calculating CAV for arm\n",
      "Best accuracy: 0.9169293111211166 Regularization: 0.001\n",
      "Best accuracy: 0.9178298063935164 Regularization: 0.005\n",
      "Best accuracy: 0.9191805493021161 Regularization: 0.01\n"
     ]
    },
    {
     "name": "stderr",
     "output_type": "stream",
     "text": [
      "14it [07:04, 31.52s/it]"
     ]
    },
    {
     "name": "stdout",
     "output_type": "stream",
     "text": [
      "CAV accuracy for arm concept (28): 0.9192\n",
      "[0512_154607] 15/182 Calculating CAV for eye\n",
      "Best accuracy: 0.989644304367402 Regularization: 0.001\n"
     ]
    },
    {
     "name": "stderr",
     "output_type": "stream",
     "text": [
      "15it [07:32, 30.41s/it]"
     ]
    },
    {
     "name": "stdout",
     "output_type": "stream",
     "text": [
      "CAV accuracy for eye concept (29): 0.9896\n",
      "[0512_154635] 16/182 Calculating CAV for road\n",
      "Best accuracy: 0.9423683025664116 Regularization: 0.001\n",
      "Best accuracy: 0.9468707789284107 Regularization: 0.005\n"
     ]
    },
    {
     "name": "stderr",
     "output_type": "stream",
     "text": [
      "16it [07:58, 29.16s/it]"
     ]
    },
    {
     "name": "stdout",
     "output_type": "stream",
     "text": [
      "CAV accuracy for road concept (31): 0.9469\n",
      "[0512_154701] 17/182 Calculating CAV for grass\n",
      "Best accuracy: 0.9295362449347141 Regularization: 0.001\n",
      "Best accuracy: 0.9335884736605132 Regularization: 0.005\n",
      "Best accuracy: 0.9353894642053129 Regularization: 0.01\n"
     ]
    },
    {
     "name": "stderr",
     "output_type": "stream",
     "text": [
      "17it [08:28, 29.20s/it]"
     ]
    },
    {
     "name": "stdout",
     "output_type": "stream",
     "text": [
      "CAV accuracy for grass concept (33): 0.9354\n",
      "[0512_154731] 18/182 Calculating CAV for plant\n",
      "Best accuracy: 0.8403872129671319 Regularization: 0.001\n",
      "Best accuracy: 0.8460153084196308 Regularization: 0.005\n"
     ]
    },
    {
     "name": "stderr",
     "output_type": "stream",
     "text": [
      "18it [08:58, 29.64s/it]"
     ]
    },
    {
     "name": "stdout",
     "output_type": "stream",
     "text": [
      "CAV accuracy for plant concept (35): 0.8460\n",
      "[0512_154801] 19/182 Calculating CAV for chair\n",
      "Best accuracy: 0.8872129671319225 Regularization: 0.001\n",
      "Best accuracy: 0.8890139576767222 Regularization: 0.005\n",
      "Best accuracy: 0.889914452949122 Regularization: 0.01\n",
      "Best accuracy: 0.8921656911301216 Regularization: 0.05\n",
      "Best accuracy: 0.8923908149482215 Regularization: 0.5\n",
      "Best accuracy: 0.8930661864025213 Regularization: 1\n"
     ]
    },
    {
     "name": "stderr",
     "output_type": "stream",
     "text": [
      "19it [09:29, 29.90s/it]"
     ]
    },
    {
     "name": "stdout",
     "output_type": "stream",
     "text": [
      "CAV accuracy for chair concept (36): 0.8931\n",
      "[0512_154832] 20/182 Calculating CAV for car\n",
      "Best accuracy: 0.9403421882035119 Regularization: 0.001\n",
      "Best accuracy: 0.9419180549302116 Regularization: 0.005\n",
      "Best accuracy: 0.9446195407474111 Regularization: 0.01\n",
      "Best accuracy: 0.9468707789284107 Regularization: 0.05\n"
     ]
    },
    {
     "name": "stderr",
     "output_type": "stream",
     "text": [
      "20it [09:55, 28.83s/it]"
     ]
    },
    {
     "name": "stdout",
     "output_type": "stream",
     "text": [
      "CAV accuracy for car concept (38): 0.9469\n",
      "[0512_154858] 21/182 Calculating CAV for painting\n",
      "Best accuracy: 0.9009455200360198 Regularization: 0.001\n",
      "Best accuracy: 0.9079243583971184 Regularization: 0.005\n",
      "Best accuracy: 0.9133273300315173 Regularization: 0.05\n",
      "Best accuracy: 0.9135524538496173 Regularization: 3\n"
     ]
    },
    {
     "name": "stderr",
     "output_type": "stream",
     "text": [
      "21it [10:26, 29.42s/it]"
     ]
    },
    {
     "name": "stdout",
     "output_type": "stream",
     "text": [
      "CAV accuracy for painting concept (40): 0.9136\n",
      "[0512_154929] 22/182 Calculating CAV for carpet\n",
      "Best accuracy: 0.9428185502026114 Regularization: 0.001\n",
      "Best accuracy: 0.9441692931112111 Regularization: 0.005\n",
      "Best accuracy: 0.9452949122017109 Regularization: 0.01\n",
      "Best accuracy: 0.9457451598379109 Regularization: 0.05\n"
     ]
    },
    {
     "name": "stderr",
     "output_type": "stream",
     "text": [
      "22it [10:56, 29.60s/it]"
     ]
    },
    {
     "name": "stdout",
     "output_type": "stream",
     "text": [
      "CAV accuracy for carpet concept (41): 0.9457\n",
      "[0512_154959] 23/182 Calculating CAV for hand\n",
      "Best accuracy: 0.9781629896443044 Regularization: 0.001\n"
     ]
    },
    {
     "name": "stderr",
     "output_type": "stream",
     "text": [
      "23it [11:25, 29.57s/it]"
     ]
    },
    {
     "name": "stdout",
     "output_type": "stream",
     "text": [
      "CAV accuracy for hand concept (42): 0.9782\n",
      "[0512_155029] 24/182 Calculating CAV for sidewalk\n",
      "Best accuracy: 0.9371904547501125 Regularization: 0.001\n",
      "Best accuracy: 0.9423683025664116 Regularization: 0.005\n",
      "Best accuracy: 0.9428185502026114 Regularization: 0.01\n"
     ]
    },
    {
     "name": "stderr",
     "output_type": "stream",
     "text": [
      "24it [11:54, 29.20s/it]"
     ]
    },
    {
     "name": "stdout",
     "output_type": "stream",
     "text": [
      "CAV accuracy for sidewalk concept (43): 0.9428\n",
      "[0512_155057] 25/182 Calculating CAV for wheel\n",
      "Best accuracy: 0.9520486267447096 Regularization: 0.001\n",
      "Best accuracy: 0.954975236380009 Regularization: 0.005\n",
      "Best accuracy: 0.9570013507429086 Regularization: 0.01\n",
      "Best accuracy: 0.9576767221972085 Regularization: 0.05\n",
      "Best accuracy: 0.9585772174696083 Regularization: 0.1\n"
     ]
    },
    {
     "name": "stderr",
     "output_type": "stream",
     "text": [
      "25it [12:20, 28.44s/it]"
     ]
    },
    {
     "name": "stdout",
     "output_type": "stream",
     "text": [
      "CAV accuracy for wheel concept (44): 0.9586\n",
      "[0512_155124] 26/182 Calculating CAV for cabinet\n",
      "Best accuracy: 0.9029716343989194 Regularization: 0.001\n",
      "Best accuracy: 0.9056731202161189 Regularization: 0.005\n",
      "Best accuracy: 0.9061233678523187 Regularization: 0.01\n",
      "Best accuracy: 0.9063484916704188 Regularization: 0.1\n"
     ]
    },
    {
     "name": "stderr",
     "output_type": "stream",
     "text": [
      "26it [12:54, 29.91s/it]"
     ]
    },
    {
     "name": "stdout",
     "output_type": "stream",
     "text": [
      "CAV accuracy for cabinet concept (45): 0.9063\n",
      "[0512_155157] 27/182 Calculating CAV for light\n",
      "Best accuracy: 0.9018460153084197 Regularization: 0.001\n",
      "Best accuracy: 0.9108509680324178 Regularization: 0.005\n",
      "Best accuracy: 0.9149031967582171 Regularization: 0.01\n",
      "Best accuracy: 0.915128320576317 Regularization: 0.05\n",
      "Best accuracy: 0.9153534443944169 Regularization: 0.1\n",
      "Best accuracy: 0.9155785682125169 Regularization: 0.5\n"
     ]
    },
    {
     "name": "stderr",
     "output_type": "stream",
     "text": [
      "27it [13:27, 31.03s/it]"
     ]
    },
    {
     "name": "stdout",
     "output_type": "stream",
     "text": [
      "CAV accuracy for light concept (46): 0.9156\n",
      "[0512_155231] 28/182 Calculating CAV for signboard\n",
      "Best accuracy: 0.8959927960378208 Regularization: 0.001\n",
      "Best accuracy: 0.8995947771274201 Regularization: 0.005\n",
      "Best accuracy: 0.9022962629446195 Regularization: 0.01\n"
     ]
    },
    {
     "name": "stderr",
     "output_type": "stream",
     "text": [
      "28it [14:00, 31.44s/it]"
     ]
    },
    {
     "name": "stdout",
     "output_type": "stream",
     "text": [
      "CAV accuracy for signboard concept (47): 0.9023\n",
      "[0512_155303] 29/182 Calculating CAV for mirror\n",
      "Best accuracy: 0.9140027014858172 Regularization: 0.001\n",
      "Best accuracy: 0.919855920756416 Regularization: 0.005\n",
      "Best accuracy: 0.920081044574516 Regularization: 0.01\n",
      "Best accuracy: 0.920531292210716 Regularization: 0.05\n"
     ]
    },
    {
     "name": "stderr",
     "output_type": "stream",
     "text": [
      "29it [14:31, 31.50s/it]"
     ]
    },
    {
     "name": "stdout",
     "output_type": "stream",
     "text": [
      "CAV accuracy for mirror concept (48): 0.9205\n",
      "[0512_155335] 30/182 Calculating CAV for lamp\n",
      "Best accuracy: 0.9124268347591176 Regularization: 0.001\n",
      "Best accuracy: 0.9158036920306168 Regularization: 0.005\n",
      "Best accuracy: 0.9169293111211166 Regularization: 0.01\n"
     ]
    },
    {
     "name": "stderr",
     "output_type": "stream",
     "text": [
      "30it [15:03, 31.58s/it]"
     ]
    },
    {
     "name": "stdout",
     "output_type": "stream",
     "text": [
      "CAV accuracy for lamp concept (50): 0.9169\n",
      "[0512_155406] 31/182 Calculating CAV for mouth\n",
      "Best accuracy: 0.9903196758217019 Regularization: 0.001\n"
     ]
    },
    {
     "name": "stderr",
     "output_type": "stream",
     "text": [
      "31it [15:35, 31.49s/it]"
     ]
    },
    {
     "name": "stdout",
     "output_type": "stream",
     "text": [
      "CAV accuracy for mouth concept (53): 0.9903\n",
      "[0512_155438] 32/182 Calculating CAV for curtain\n",
      "Best accuracy: 0.9122017109410175 Regularization: 0.001\n",
      "Best accuracy: 0.9180549302116164 Regularization: 0.005\n",
      "Best accuracy: 0.9212066636650158 Regularization: 0.01\n",
      "Best accuracy: 0.9227825303917154 Regularization: 0.05\n"
     ]
    },
    {
     "name": "stderr",
     "output_type": "stream",
     "text": [
      "32it [16:08, 32.06s/it]"
     ]
    },
    {
     "name": "stdout",
     "output_type": "stream",
     "text": [
      "CAV accuracy for curtain concept (54): 0.9228\n",
      "[0512_155511] 33/182 Calculating CAV for pole\n",
      "Best accuracy: 0.9529491220171095 Regularization: 0.001\n",
      "Best accuracy: 0.9531742458352094 Regularization: 0.005\n",
      "Best accuracy: 0.9533993696533093 Regularization: 0.01\n"
     ]
    },
    {
     "name": "stderr",
     "output_type": "stream",
     "text": [
      "33it [16:42, 32.68s/it]"
     ]
    },
    {
     "name": "stdout",
     "output_type": "stream",
     "text": [
      "CAV accuracy for pole concept (55): 0.9534\n",
      "[0512_155545] 34/182 Calculating CAV for mountain\n",
      "Best accuracy: 0.9358397118415128 Regularization: 0.001\n",
      "Best accuracy: 0.939666816749212 Regularization: 0.005\n",
      "Best accuracy: 0.940117064385412 Regularization: 0.01\n",
      "Best accuracy: 0.9441692931112111 Regularization: 0.05\n",
      "Best accuracy: 0.9448446645655111 Regularization: 0.1\n"
     ]
    },
    {
     "name": "stderr",
     "output_type": "stream",
     "text": [
      "34it [17:11, 31.67s/it]"
     ]
    },
    {
     "name": "stdout",
     "output_type": "stream",
     "text": [
      "CAV accuracy for mountain concept (56): 0.9448\n",
      "[0512_155614] 35/182 Calculating CAV for fence\n",
      "Best accuracy: 0.9277352543899144 Regularization: 0.001\n",
      "Best accuracy: 0.9290859972985142 Regularization: 0.005\n",
      "Best accuracy: 0.929986492570914 Regularization: 0.01\n",
      "Best accuracy: 0.930211616389014 Regularization: 0.05\n"
     ]
    },
    {
     "name": "stderr",
     "output_type": "stream",
     "text": [
      "35it [17:42, 31.31s/it]"
     ]
    },
    {
     "name": "stdout",
     "output_type": "stream",
     "text": [
      "CAV accuracy for fence concept (57): 0.9302\n",
      "[0512_155645] 36/182 Calculating CAV for streetlight\n",
      "Best accuracy: 0.9173795587573165 Regularization: 0.001\n",
      "Best accuracy: 0.9263845114813147 Regularization: 0.005\n",
      "Best accuracy: 0.9295362449347141 Regularization: 0.01\n"
     ]
    },
    {
     "name": "stderr",
     "output_type": "stream",
     "text": [
      "36it [18:11, 30.53s/it]"
     ]
    },
    {
     "name": "stdout",
     "output_type": "stream",
     "text": [
      "CAV accuracy for streetlight concept (60): 0.9295\n",
      "[0512_155714] 37/182 Calculating CAV for bed\n",
      "Best accuracy: 0.9768122467357047 Regularization: 0.001\n",
      "Best accuracy: 0.9792886087348042 Regularization: 0.005\n",
      "Best accuracy: 0.9795137325529041 Regularization: 0.01\n",
      "Best accuracy: 0.9808644754615038 Regularization: 0.05\n"
     ]
    },
    {
     "name": "stderr",
     "output_type": "stream",
     "text": [
      "37it [18:38, 29.59s/it]"
     ]
    },
    {
     "name": "stdout",
     "output_type": "stream",
     "text": [
      "CAV accuracy for bed concept (61): 0.9809\n",
      "[0512_155741] 38/182 Calculating CAV for sofa\n",
      "Best accuracy: 0.9664565511031067 Regularization: 0.001\n",
      "Best accuracy: 0.9687077892841063 Regularization: 0.005\n",
      "Best accuracy: 0.9698334083746061 Regularization: 0.01\n"
     ]
    },
    {
     "name": "stderr",
     "output_type": "stream",
     "text": [
      "38it [19:06, 29.29s/it]"
     ]
    },
    {
     "name": "stdout",
     "output_type": "stream",
     "text": [
      "CAV accuracy for sofa concept (63): 0.9698\n",
      "[0512_155810] 39/182 Calculating CAV for handle\n",
      "Best accuracy: 0.9126519585772175 Regularization: 0.001\n",
      "Best accuracy: 0.9158036920306168 Regularization: 0.005\n",
      "Best accuracy: 0.9167041873030166 Regularization: 0.05\n"
     ]
    },
    {
     "name": "stderr",
     "output_type": "stream",
     "text": [
      "39it [19:38, 30.08s/it]"
     ]
    },
    {
     "name": "stdout",
     "output_type": "stream",
     "text": [
      "CAV accuracy for handle concept (64): 0.9167\n",
      "[0512_155842] 40/182 Calculating CAV for box\n",
      "Best accuracy: 0.9367402071139127 Regularization: 0.001\n",
      "Best accuracy: 0.9374155785682126 Regularization: 0.005\n"
     ]
    },
    {
     "name": "stderr",
     "output_type": "stream",
     "text": [
      "40it [20:10, 30.62s/it]"
     ]
    },
    {
     "name": "stdout",
     "output_type": "stream",
     "text": [
      "CAV accuracy for box concept (65): 0.9374\n",
      "[0512_155913] 41/182 Calculating CAV for earth\n",
      "Best accuracy: 0.9149031967582171 Regularization: 0.001\n",
      "Best accuracy: 0.9180549302116164 Regularization: 0.005\n",
      "Best accuracy: 0.9185051778478163 Regularization: 0.05\n"
     ]
    },
    {
     "name": "stderr",
     "output_type": "stream",
     "text": [
      "41it [20:40, 30.23s/it]"
     ]
    },
    {
     "name": "stdout",
     "output_type": "stream",
     "text": [
      "CAV accuracy for earth concept (68): 0.9185\n",
      "[0512_155943] 42/182 Calculating CAV for bottle\n",
      "Best accuracy: 0.9563259792886087 Regularization: 0.001\n",
      "Best accuracy: 0.9585772174696083 Regularization: 0.005\n",
      "Best accuracy: 0.959702836560108 Regularization: 0.01\n"
     ]
    },
    {
     "name": "stderr",
     "output_type": "stream",
     "text": [
      "42it [21:12, 30.97s/it]"
     ]
    },
    {
     "name": "stdout",
     "output_type": "stream",
     "text": [
      "CAV accuracy for bottle concept (70): 0.9597\n",
      "[0512_160015] 43/182 Calculating CAV for paper\n",
      "Best accuracy: 0.9826654660063034 Regularization: 0.001\n"
     ]
    },
    {
     "name": "stderr",
     "output_type": "stream",
     "text": [
      "43it [21:43, 30.95s/it]"
     ]
    },
    {
     "name": "stdout",
     "output_type": "stream",
     "text": [
      "CAV accuracy for paper concept (71): 0.9827\n",
      "[0512_160046] 44/182 Calculating CAV for shelf\n",
      "Best accuracy: 0.9320126069338136 Regularization: 0.001\n",
      "Best accuracy: 0.9338135974786133 Regularization: 0.005\n"
     ]
    },
    {
     "name": "stderr",
     "output_type": "stream",
     "text": [
      "44it [22:15, 31.27s/it]"
     ]
    },
    {
     "name": "stdout",
     "output_type": "stream",
     "text": [
      "CAV accuracy for shelf concept (72): 0.9338\n",
      "[0512_160118] 45/182 Calculating CAV for headlight\n",
      "Best accuracy: 0.9673570463755066 Regularization: 0.001\n",
      "Best accuracy: 0.9689329131022062 Regularization: 0.005\n",
      "Best accuracy: 0.9707339036470058 Regularization: 0.01\n",
      "Best accuracy: 0.9718595227375056 Regularization: 0.05\n"
     ]
    },
    {
     "name": "stderr",
     "output_type": "stream",
     "text": [
      "45it [22:44, 30.66s/it]"
     ]
    },
    {
     "name": "stdout",
     "output_type": "stream",
     "text": [
      "CAV accuracy for headlight concept (73): 0.9719\n",
      "[0512_160148] 46/182 Calculating CAV for drawer\n",
      "Best accuracy: 0.9335884736605132 Regularization: 0.001\n",
      "Best accuracy: 0.9365150832958127 Regularization: 0.005\n",
      "Best accuracy: 0.9371904547501125 Regularization: 0.01\n",
      "Best accuracy: 0.9398919405673121 Regularization: 0.05\n"
     ]
    },
    {
     "name": "stderr",
     "output_type": "stream",
     "text": [
      "46it [23:19, 31.86s/it]"
     ]
    },
    {
     "name": "stdout",
     "output_type": "stream",
     "text": [
      "CAV accuracy for drawer concept (74): 0.9399\n",
      "[0512_160222] 47/182 Calculating CAV for water\n",
      "Best accuracy: 0.9657811796488068 Regularization: 0.001\n",
      "Best accuracy: 0.9678072940117064 Regularization: 0.005\n",
      "Best accuracy: 0.9680324178298064 Regularization: 0.01\n",
      "Best accuracy: 0.9682575416479063 Regularization: 0.05\n",
      "Best accuracy: 0.9689329131022062 Regularization: 0.1\n"
     ]
    },
    {
     "name": "stderr",
     "output_type": "stream",
     "text": [
      "47it [23:47, 30.77s/it]"
     ]
    },
    {
     "name": "stdout",
     "output_type": "stream",
     "text": [
      "CAV accuracy for water concept (75): 0.9689\n",
      "[0512_160250] 48/182 Calculating CAV for railing\n",
      "Best accuracy: 0.9331382260243134 Regularization: 0.001\n",
      "Best accuracy: 0.9340387212967132 Regularization: 0.005\n",
      "Best accuracy: 0.935164340387213 Regularization: 0.01\n",
      "Best accuracy: 0.9353894642053129 Regularization: 0.05\n"
     ]
    },
    {
     "name": "stderr",
     "output_type": "stream",
     "text": [
      "48it [24:20, 31.24s/it]"
     ]
    },
    {
     "name": "stdout",
     "output_type": "stream",
     "text": [
      "CAV accuracy for railing concept (76): 0.9354\n",
      "[0512_160323] 49/182 Calculating CAV for cushion\n",
      "Best accuracy: 0.945069788383611 Regularization: 0.001\n",
      "Best accuracy: 0.9468707789284107 Regularization: 0.005\n",
      "Best accuracy: 0.9484466456551103 Regularization: 0.01\n",
      "Best accuracy: 0.9511481314723098 Regularization: 0.05\n"
     ]
    },
    {
     "name": "stderr",
     "output_type": "stream",
     "text": [
      "49it [24:49, 30.80s/it]"
     ]
    },
    {
     "name": "stdout",
     "output_type": "stream",
     "text": [
      "CAV accuracy for cushion concept (77): 0.9511\n",
      "[0512_160353] 50/182 Calculating CAV for book\n",
      "Best accuracy: 0.9502476361999099 Regularization: 0.001\n",
      "Best accuracy: 0.9529491220171095 Regularization: 0.005\n"
     ]
    },
    {
     "name": "stderr",
     "output_type": "stream",
     "text": [
      "50it [25:22, 31.41s/it]"
     ]
    },
    {
     "name": "stdout",
     "output_type": "stream",
     "text": [
      "CAV accuracy for book concept (78): 0.9529\n",
      "[0512_160425] 51/182 Calculating CAV for flower\n",
      "Best accuracy: 0.9380909500225124 Regularization: 0.001\n",
      "Best accuracy: 0.9412426834759118 Regularization: 0.005\n",
      "Best accuracy: 0.9416929311121116 Regularization: 0.01\n"
     ]
    },
    {
     "name": "stderr",
     "output_type": "stream",
     "text": [
      "51it [25:54, 31.54s/it]"
     ]
    },
    {
     "name": "stdout",
     "output_type": "stream",
     "text": [
      "CAV accuracy for flower concept (79): 0.9417\n",
      "[0512_160457] 52/182 Calculating CAV for back\n",
      "Best accuracy: 0.9279603782080144 Regularization: 0.001\n"
     ]
    },
    {
     "name": "stderr",
     "output_type": "stream",
     "text": [
      "52it [26:29, 32.56s/it]"
     ]
    },
    {
     "name": "stdout",
     "output_type": "stream",
     "text": [
      "CAV accuracy for back concept (81): 0.9280\n",
      "[0512_160532] 53/182 Calculating CAV for shade\n",
      "Best accuracy: 0.9358397118415128 Regularization: 0.001\n",
      "Best accuracy: 0.9365150832958127 Regularization: 0.005\n",
      "Best accuracy: 0.9378658262044124 Regularization: 0.01\n",
      "Best accuracy: 0.9394416929311121 Regularization: 0.05\n",
      "Best accuracy: 0.940117064385412 Regularization: 0.1\n"
     ]
    },
    {
     "name": "stderr",
     "output_type": "stream",
     "text": [
      "53it [26:59, 31.78s/it]"
     ]
    },
    {
     "name": "stdout",
     "output_type": "stream",
     "text": [
      "CAV accuracy for shade concept (82): 0.9401\n",
      "[0512_160602] 54/182 Calculating CAV for rock\n",
      "Best accuracy: 0.965105808194507 Regularization: 0.001\n",
      "Best accuracy: 0.9691580369203062 Regularization: 0.005\n",
      "Best accuracy: 0.9693831607384061 Regularization: 0.01\n"
     ]
    },
    {
     "name": "stderr",
     "output_type": "stream",
     "text": [
      "54it [27:25, 29.97s/it]"
     ]
    },
    {
     "name": "stdout",
     "output_type": "stream",
     "text": [
      "CAV accuracy for rock concept (85): 0.9694\n",
      "[0512_160628] 55/182 Calculating CAV for seat\n",
      "Best accuracy: 0.9286357496623143 Regularization: 0.001\n",
      "Best accuracy: 0.9333633498424133 Regularization: 0.005\n",
      "Best accuracy: 0.9344889689329131 Regularization: 0.01\n",
      "Best accuracy: 0.9371904547501125 Regularization: 0.05\n"
     ]
    },
    {
     "name": "stderr",
     "output_type": "stream",
     "text": [
      "55it [27:54, 29.79s/it]"
     ]
    },
    {
     "name": "stdout",
     "output_type": "stream",
     "text": [
      "CAV accuracy for seat concept (86): 0.9372\n",
      "[0512_160657] 56/182 Calculating CAV for vase\n",
      "Best accuracy: 0.9419180549302116 Regularization: 0.001\n",
      "Best accuracy: 0.9421431787483115 Regularization: 0.005\n",
      "Best accuracy: 0.9430436740207114 Regularization: 0.01\n"
     ]
    },
    {
     "name": "stderr",
     "output_type": "stream",
     "text": [
      "56it [28:24, 29.89s/it]"
     ]
    },
    {
     "name": "stdout",
     "output_type": "stream",
     "text": [
      "CAV accuracy for vase concept (88): 0.9430\n",
      "[0512_160727] 57/182 Calculating CAV for pot\n",
      "Best accuracy: 0.9777127420081044 Regularization: 0.001\n"
     ]
    },
    {
     "name": "stderr",
     "output_type": "stream",
     "text": [
      "57it [28:53, 29.50s/it]"
     ]
    },
    {
     "name": "stdout",
     "output_type": "stream",
     "text": [
      "CAV accuracy for pot concept (89): 0.9777\n",
      "[0512_160756] 58/182 Calculating CAV for flowerpot\n",
      "Best accuracy: 0.9466456551103106 Regularization: 0.001\n",
      "Best accuracy: 0.9484466456551103 Regularization: 0.005\n",
      "Best accuracy: 0.9491220171094101 Regularization: 0.05\n"
     ]
    },
    {
     "name": "stderr",
     "output_type": "stream",
     "text": [
      "58it [29:21, 29.23s/it]"
     ]
    },
    {
     "name": "stdout",
     "output_type": "stream",
     "text": [
      "CAV accuracy for flowerpot concept (90): 0.9491\n",
      "[0512_160825] 59/182 Calculating CAV for sink\n",
      "Best accuracy: 0.9732102656461054 Regularization: 0.001\n",
      "Best accuracy: 0.9759117514633048 Regularization: 0.005\n",
      "Best accuracy: 0.9768122467357047 Regularization: 0.01\n"
     ]
    },
    {
     "name": "stderr",
     "output_type": "stream",
     "text": [
      "59it [29:47, 28.08s/it]"
     ]
    },
    {
     "name": "stdout",
     "output_type": "stream",
     "text": [
      "CAV accuracy for sink concept (91): 0.9768\n",
      "[0512_160850] 60/182 Calculating CAV for column\n",
      "Best accuracy: 0.9392165691130122 Regularization: 0.001\n",
      "Best accuracy: 0.9419180549302116 Regularization: 0.005\n",
      "Best accuracy: 0.9439441692931112 Regularization: 0.01\n"
     ]
    },
    {
     "name": "stderr",
     "output_type": "stream",
     "text": [
      "60it [30:14, 27.93s/it]"
     ]
    },
    {
     "name": "stdout",
     "output_type": "stream",
     "text": [
      "CAV accuracy for column concept (92): 0.9439\n",
      "[0512_160918] 61/182 Calculating CAV for armchair\n",
      "Best accuracy: 0.95047276001801 Regularization: 0.001\n",
      "Best accuracy: 0.9536244934714093 Regularization: 0.005\n",
      "Best accuracy: 0.955425484016209 Regularization: 0.01\n",
      "Best accuracy: 0.9565511031067087 Regularization: 0.05\n"
     ]
    },
    {
     "name": "stderr",
     "output_type": "stream",
     "text": [
      "61it [30:41, 27.39s/it]"
     ]
    },
    {
     "name": "stdout",
     "output_type": "stream",
     "text": [
      "CAV accuracy for armchair concept (95): 0.9566\n",
      "[0512_160944] 62/182 Calculating CAV for faucet\n",
      "Best accuracy: 0.9752363800090049 Regularization: 0.001\n",
      "Best accuracy: 0.9770373705538046 Regularization: 0.005\n",
      "Best accuracy: 0.9777127420081044 Regularization: 0.01\n",
      "Best accuracy: 0.9786132372805043 Regularization: 0.05\n",
      "Best accuracy: 0.9790634849167041 Regularization: 0.1\n"
     ]
    },
    {
     "name": "stderr",
     "output_type": "stream",
     "text": [
      "62it [31:10, 27.87s/it]"
     ]
    },
    {
     "name": "stdout",
     "output_type": "stream",
     "text": [
      "CAV accuracy for faucet concept (96): 0.9791\n",
      "[0512_161013] 63/182 Calculating CAV for wall socket\n",
      "Best accuracy: 0.9513732552904097 Regularization: 0.001\n"
     ]
    },
    {
     "name": "stderr",
     "output_type": "stream",
     "text": [
      "63it [31:43, 29.66s/it]"
     ]
    },
    {
     "name": "stdout",
     "output_type": "stream",
     "text": [
      "CAV accuracy for wall socket concept (97): 0.9514\n",
      "[0512_161047] 64/182 Calculating CAV for knob\n",
      "Best accuracy: 0.9457451598379109 Regularization: 0.001\n",
      "Best accuracy: 0.9468707789284107 Regularization: 0.005\n",
      "Best accuracy: 0.9473210265646106 Regularization: 0.1\n"
     ]
    },
    {
     "name": "stderr",
     "output_type": "stream",
     "text": [
      "64it [32:14, 30.09s/it]"
     ]
    },
    {
     "name": "stdout",
     "output_type": "stream",
     "text": [
      "CAV accuracy for knob concept (99): 0.9473\n",
      "[0512_161118] 65/182 Calculating CAV for sconce\n",
      "Best accuracy: 0.9486717694732103 Regularization: 0.001\n",
      "Best accuracy: 0.9495722647456101 Regularization: 0.005\n"
     ]
    },
    {
     "name": "stderr",
     "output_type": "stream",
     "text": [
      "65it [32:46, 30.55s/it]"
     ]
    },
    {
     "name": "stdout",
     "output_type": "stream",
     "text": [
      "CAV accuracy for sconce concept (100): 0.9496\n",
      "[0512_161149] 66/182 Calculating CAV for pillow\n",
      "Best accuracy: 0.9619540747411076 Regularization: 0.001\n",
      "Best accuracy: 0.9644304367402071 Regularization: 0.005\n",
      "Best accuracy: 0.9657811796488068 Regularization: 0.01\n"
     ]
    },
    {
     "name": "stderr",
     "output_type": "stream",
     "text": [
      "66it [33:12, 29.10s/it]"
     ]
    },
    {
     "name": "stdout",
     "output_type": "stream",
     "text": [
      "CAV accuracy for pillow concept (101): 0.9658\n",
      "[0512_161215] 67/182 Calculating CAV for base\n",
      "Best accuracy: 0.95047276001801 Regularization: 0.001\n",
      "Best accuracy: 0.9506978838361099 Regularization: 0.005\n",
      "Best accuracy: 0.9513732552904097 Regularization: 0.01\n",
      "Best accuracy: 0.9531742458352094 Regularization: 0.05\n"
     ]
    },
    {
     "name": "stderr",
     "output_type": "stream",
     "text": [
      "67it [33:44, 29.99s/it]"
     ]
    },
    {
     "name": "stdout",
     "output_type": "stream",
     "text": [
      "CAV accuracy for base concept (102): 0.9532\n",
      "[0512_161247] 68/182 Calculating CAV for headboard\n",
      "Best accuracy: 0.9689329131022062 Regularization: 0.001\n",
      "Best accuracy: 0.9720846465556056 Regularization: 0.005\n",
      "Best accuracy: 0.9738856371004052 Regularization: 0.05\n",
      "Best accuracy: 0.9743358847366052 Regularization: 0.1\n"
     ]
    },
    {
     "name": "stderr",
     "output_type": "stream",
     "text": [
      "68it [34:10, 28.70s/it]"
     ]
    },
    {
     "name": "stdout",
     "output_type": "stream",
     "text": [
      "CAV accuracy for headboard concept (103): 0.9743\n",
      "[0512_161313] 69/182 Calculating CAV for stairs\n",
      "Best accuracy: 0.9522737505628095 Regularization: 0.001\n",
      "Best accuracy: 0.9527239981990094 Regularization: 0.005\n",
      "Best accuracy: 0.9536244934714093 Regularization: 0.01\n"
     ]
    },
    {
     "name": "stderr",
     "output_type": "stream",
     "text": [
      "69it [34:41, 29.63s/it]"
     ]
    },
    {
     "name": "stdout",
     "output_type": "stream",
     "text": [
      "CAV accuracy for stairs concept (104): 0.9536\n",
      "[0512_161345] 70/182 Calculating CAV for license plate\n",
      "Best accuracy: 0.9576767221972085 Regularization: 0.001\n",
      "Best accuracy: 0.9608284556506078 Regularization: 0.005\n",
      "Best accuracy: 0.9617289509230077 Regularization: 0.05\n",
      "Best accuracy: 0.9635299414678073 Regularization: 0.1\n"
     ]
    },
    {
     "name": "stderr",
     "output_type": "stream",
     "text": [
      "70it [35:08, 28.79s/it]"
     ]
    },
    {
     "name": "stdout",
     "output_type": "stream",
     "text": [
      "CAV accuracy for license plate concept (106): 0.9635\n",
      "[0512_161411] 71/182 Calculating CAV for plate\n",
      "Best accuracy: 0.9770373705538046 Regularization: 0.001\n",
      "Best accuracy: 0.9783881134624043 Regularization: 0.005\n"
     ]
    },
    {
     "name": "stderr",
     "output_type": "stream",
     "text": [
      "71it [35:37, 28.68s/it]"
     ]
    },
    {
     "name": "stdout",
     "output_type": "stream",
     "text": [
      "CAV accuracy for plate concept (107): 0.9784\n",
      "[0512_161440] 72/182 Calculating CAV for top\n",
      "Best accuracy: 0.9552003601981089 Regularization: 0.001\n"
     ]
    },
    {
     "name": "stderr",
     "output_type": "stream",
     "text": [
      "72it [36:09, 29.92s/it]"
     ]
    },
    {
     "name": "stdout",
     "output_type": "stream",
     "text": [
      "CAV accuracy for top concept (108): 0.9552\n",
      "[0512_161513] 73/182 Calculating CAV for bowl\n",
      "Best accuracy: 0.9682575416479063 Regularization: 0.001\n",
      "Best accuracy: 0.9684826654660063 Regularization: 0.005\n"
     ]
    },
    {
     "name": "stderr",
     "output_type": "stream",
     "text": [
      "73it [36:44, 31.30s/it]"
     ]
    },
    {
     "name": "stdout",
     "output_type": "stream",
     "text": [
      "CAV accuracy for bowl concept (109): 0.9685\n",
      "[0512_161547] 74/182 Calculating CAV for screen\n",
      "Best accuracy: 0.9824403421882035 Regularization: 0.001\n",
      "Best accuracy: 0.9835659612787033 Regularization: 0.005\n",
      "Best accuracy: 0.9837910850968032 Regularization: 0.01\n",
      "Best accuracy: 0.984916704187303 Regularization: 0.05\n",
      "Best accuracy: 0.9855920756416029 Regularization: 0.1\n"
     ]
    },
    {
     "name": "stderr",
     "output_type": "stream",
     "text": [
      "74it [37:16, 31.39s/it]"
     ]
    },
    {
     "name": "stdout",
     "output_type": "stream",
     "text": [
      "CAV accuracy for screen concept (110): 0.9856\n",
      "[0512_161619] 75/182 Calculating CAV for clock\n",
      "Best accuracy: 0.9624043223773076 Regularization: 0.001\n"
     ]
    },
    {
     "name": "stderr",
     "output_type": "stream",
     "text": [
      "75it [37:48, 31.80s/it]"
     ]
    },
    {
     "name": "stdout",
     "output_type": "stream",
     "text": [
      "CAV accuracy for clock concept (111): 0.9624\n",
      "[0512_161651] 76/182 Calculating CAV for bag\n",
      "Best accuracy: 0.9725348941918055 Regularization: 0.001\n",
      "Best accuracy: 0.9727600180099054 Regularization: 0.01\n"
     ]
    },
    {
     "name": "stderr",
     "output_type": "stream",
     "text": [
      "76it [38:22, 32.41s/it]"
     ]
    },
    {
     "name": "stdout",
     "output_type": "stream",
     "text": [
      "CAV accuracy for bag concept (112): 0.9728\n",
      "[0512_161725] 77/182 Calculating CAV for pillar\n",
      "Best accuracy: 0.9624043223773076 Regularization: 0.001\n",
      "Best accuracy: 0.9630796938316074 Regularization: 0.005\n",
      "Best accuracy: 0.9633048176497073 Regularization: 0.01\n",
      "Best accuracy: 0.9635299414678073 Regularization: 0.05\n"
     ]
    },
    {
     "name": "stderr",
     "output_type": "stream",
     "text": [
      "77it [38:51, 31.47s/it]"
     ]
    },
    {
     "name": "stdout",
     "output_type": "stream",
     "text": [
      "CAV accuracy for pillar concept (113): 0.9635\n",
      "[0512_161755] 78/182 Calculating CAV for seat cushion\n",
      "Best accuracy: 0.9729851418280054 Regularization: 0.001\n",
      "Best accuracy: 0.975011256190905 Regularization: 0.005\n"
     ]
    },
    {
     "name": "stderr",
     "output_type": "stream",
     "text": [
      "78it [39:23, 31.54s/it]"
     ]
    },
    {
     "name": "stdout",
     "output_type": "stream",
     "text": [
      "CAV accuracy for seat cushion concept (114): 0.9750\n",
      "[0512_161826] 79/182 Calculating CAV for bicycle\n",
      "Best accuracy: 0.984691580369203 Regularization: 0.001\n"
     ]
    },
    {
     "name": "stderr",
     "output_type": "stream",
     "text": [
      "79it [39:54, 31.33s/it]"
     ]
    },
    {
     "name": "stdout",
     "output_type": "stream",
     "text": [
      "CAV accuracy for bicycle concept (115): 0.9847\n",
      "[0512_161857] 80/182 Calculating CAV for stove\n",
      "Best accuracy: 0.985366951823503 Regularization: 0.001\n",
      "Best accuracy: 0.9869428185502026 Regularization: 0.005\n",
      "Best accuracy: 0.9894191805493021 Regularization: 0.05\n"
     ]
    },
    {
     "name": "stderr",
     "output_type": "stream",
     "text": [
      "80it [40:17, 28.91s/it]"
     ]
    },
    {
     "name": "stdout",
     "output_type": "stream",
     "text": [
      "CAV accuracy for stove concept (116): 0.9894\n",
      "[0512_161920] 81/182 Calculating CAV for coffee table\n",
      "Best accuracy: 0.9687077892841063 Regularization: 0.001\n",
      "Best accuracy: 0.9707339036470058 Regularization: 0.005\n",
      "Best accuracy: 0.9711841512832058 Regularization: 0.01\n",
      "Best accuracy: 0.9714092751013057 Regularization: 0.05\n"
     ]
    },
    {
     "name": "stderr",
     "output_type": "stream",
     "text": [
      "81it [40:48, 29.37s/it]"
     ]
    },
    {
     "name": "stdout",
     "output_type": "stream",
     "text": [
      "CAV accuracy for coffee table concept (118): 0.9714\n",
      "[0512_161951] 82/182 Calculating CAV for ashcan\n",
      "Best accuracy: 0.9657811796488068 Regularization: 0.001\n"
     ]
    },
    {
     "name": "stderr",
     "output_type": "stream",
     "text": [
      "82it [41:18, 29.73s/it]"
     ]
    },
    {
     "name": "stdout",
     "output_type": "stream",
     "text": [
      "CAV accuracy for ashcan concept (119): 0.9658\n",
      "[0512_162021] 83/182 Calculating CAV for roof\n",
      "Best accuracy: 0.9720846465556056 Regularization: 0.001\n"
     ]
    },
    {
     "name": "stderr",
     "output_type": "stream",
     "text": [
      "83it [41:48, 29.62s/it]"
     ]
    },
    {
     "name": "stdout",
     "output_type": "stream",
     "text": [
      "CAV accuracy for roof concept (120): 0.9721\n",
      "[0512_162051] 84/182 Calculating CAV for bench\n",
      "Best accuracy: 0.9673570463755066 Regularization: 0.001\n",
      "Best accuracy: 0.9675821701936065 Regularization: 0.005\n",
      "Best accuracy: 0.9682575416479063 Regularization: 0.05\n"
     ]
    },
    {
     "name": "stderr",
     "output_type": "stream",
     "text": [
      "84it [42:16, 29.39s/it]"
     ]
    },
    {
     "name": "stdout",
     "output_type": "stream",
     "text": [
      "CAV accuracy for bench concept (121): 0.9683\n",
      "[0512_162120] 85/182 Calculating CAV for spotlight\n",
      "Best accuracy: 0.9592525889239082 Regularization: 0.001\n",
      "Best accuracy: 0.960153084196308 Regularization: 0.005\n",
      "Best accuracy: 0.9606033318325079 Regularization: 0.01\n",
      "Best accuracy: 0.9612787032868078 Regularization: 0.05\n"
     ]
    },
    {
     "name": "stderr",
     "output_type": "stream",
     "text": [
      "85it [42:49, 30.29s/it]"
     ]
    },
    {
     "name": "stdout",
     "output_type": "stream",
     "text": [
      "CAV accuracy for spotlight concept (122): 0.9613\n",
      "[0512_162152] 86/182 Calculating CAV for boat\n",
      "Best accuracy: 0.9855920756416029 Regularization: 0.001\n",
      "Best accuracy: 0.9871679423683025 Regularization: 0.005\n",
      "Best accuracy: 0.9873930661864025 Regularization: 0.01\n",
      "Best accuracy: 0.9876181900045025 Regularization: 0.05\n"
     ]
    },
    {
     "name": "stderr",
     "output_type": "stream",
     "text": [
      "86it [43:17, 29.69s/it]"
     ]
    },
    {
     "name": "stdout",
     "output_type": "stream",
     "text": [
      "CAV accuracy for boat concept (123): 0.9876\n",
      "[0512_162220] 87/182 Calculating CAV for basket\n",
      "Best accuracy: 0.9693831607384061 Regularization: 0.001\n",
      "Best accuracy: 0.9698334083746061 Regularization: 0.05\n",
      "Best accuracy: 0.970058532192706 Regularization: 0.1\n"
     ]
    },
    {
     "name": "stderr",
     "output_type": "stream",
     "text": [
      "87it [43:48, 29.94s/it]"
     ]
    },
    {
     "name": "stdout",
     "output_type": "stream",
     "text": [
      "CAV accuracy for basket concept (124): 0.9701\n",
      "[0512_162251] 88/182 Calculating CAV for work surface\n",
      "Best accuracy: 0.984916704187303 Regularization: 0.001\n",
      "Best accuracy: 0.9869428185502026 Regularization: 0.005\n",
      "Best accuracy: 0.9885186852769023 Regularization: 0.01\n",
      "Best accuracy: 0.9887438090950023 Regularization: 0.05\n"
     ]
    },
    {
     "name": "stderr",
     "output_type": "stream",
     "text": [
      "88it [44:13, 28.41s/it]"
     ]
    },
    {
     "name": "stdout",
     "output_type": "stream",
     "text": [
      "CAV accuracy for work surface concept (125): 0.9887\n",
      "[0512_162316] 89/182 Calculating CAV for desk\n",
      "Best accuracy: 0.9725348941918055 Regularization: 0.001\n",
      "Best accuracy: 0.975011256190905 Regularization: 0.005\n",
      "Best accuracy: 0.9761368752814048 Regularization: 0.01\n"
     ]
    },
    {
     "name": "stderr",
     "output_type": "stream",
     "text": [
      "89it [44:42, 28.71s/it]"
     ]
    },
    {
     "name": "stdout",
     "output_type": "stream",
     "text": [
      "CAV accuracy for desk concept (127): 0.9761\n",
      "[0512_162345] 90/182 Calculating CAV for house\n",
      "Best accuracy: 0.9648806843764071 Regularization: 0.001\n",
      "Best accuracy: 0.9684826654660063 Regularization: 0.005\n",
      "Best accuracy: 0.9687077892841063 Regularization: 0.01\n"
     ]
    },
    {
     "name": "stderr",
     "output_type": "stream",
     "text": [
      "90it [45:09, 28.26s/it]"
     ]
    },
    {
     "name": "stdout",
     "output_type": "stream",
     "text": [
      "CAV accuracy for house concept (131): 0.9687\n",
      "[0512_162412] 91/182 Calculating CAV for plaything\n",
      "Best accuracy: 0.984691580369203 Regularization: 0.001\n",
      "Best accuracy: 0.985366951823503 Regularization: 0.005\n"
     ]
    },
    {
     "name": "stderr",
     "output_type": "stream",
     "text": [
      "91it [45:37, 28.20s/it]"
     ]
    },
    {
     "name": "stdout",
     "output_type": "stream",
     "text": [
      "CAV accuracy for plaything concept (132): 0.9854\n",
      "[0512_162440] 92/182 Calculating CAV for pane\n",
      "Best accuracy: 0.9709590274651058 Regularization: 0.001\n"
     ]
    },
    {
     "name": "stderr",
     "output_type": "stream",
     "text": [
      "92it [46:11, 30.01s/it]"
     ]
    },
    {
     "name": "stdout",
     "output_type": "stream",
     "text": [
      "CAV accuracy for pane concept (133): 0.9710\n",
      "[0512_162515] 93/182 Calculating CAV for sea\n",
      "Best accuracy: 0.9837910850968032 Regularization: 0.001\n",
      "Best accuracy: 0.9867176947321027 Regularization: 0.005\n"
     ]
    },
    {
     "name": "stderr",
     "output_type": "stream",
     "text": [
      "93it [46:38, 28.95s/it]"
     ]
    },
    {
     "name": "stdout",
     "output_type": "stream",
     "text": [
      "CAV accuracy for sea concept (135): 0.9867\n",
      "[0512_162541] 94/182 Calculating CAV for double door\n",
      "Best accuracy: 0.970058532192706 Regularization: 0.001\n",
      "Best accuracy: 0.9702836560108059 Regularization: 0.05\n",
      "Best accuracy: 0.9705087798289059 Regularization: 0.1\n"
     ]
    },
    {
     "name": "stderr",
     "output_type": "stream",
     "text": [
      "94it [47:09, 29.67s/it]"
     ]
    },
    {
     "name": "stdout",
     "output_type": "stream",
     "text": [
      "CAV accuracy for double door concept (136): 0.9705\n",
      "[0512_162612] 95/182 Calculating CAV for rim\n",
      "Best accuracy: 0.9702836560108059 Regularization: 0.001\n",
      "Best accuracy: 0.9743358847366052 Regularization: 0.005\n",
      "Best accuracy: 0.9752363800090049 Regularization: 0.01\n",
      "Best accuracy: 0.9765871229176046 Regularization: 0.05\n"
     ]
    }
   ],
   "source": [
    "cavs = {}\n",
    "train_attributes = freq_attributes['train']\n",
    "val_attributes = freq_attributes['val']\n",
    "\n",
    "cavs_save_dir = os.path.join('saved', 'ADE20K', 'cav', datetime.now().strftime(r'%m%d_%H%M%S'))\n",
    "ensure_dir(cavs_save_dir)\n",
    "\n",
    "cavs_save_path = os.path.join(cavs_save_dir, 'cavs.pickle')\n",
    "log_path = os.path.join(cavs_save_dir, 'log.txt')\n",
    "n_frequent_attributes = len(frequent_attribute_idxs)\n",
    "\n",
    "for idx, attribute_idx in tqdm(enumerate(frequent_attribute_idxs)):\n",
    "    informal_log(\"[{}] {}/{} Calculating CAV for {}\".format(\n",
    "        datetime.now().strftime(r'%m%d_%H%M%S'),\n",
    "        idx+1,\n",
    "        n_frequent_attributes,\n",
    "        attribute_label_dict[attribute_idx]), log_path)\n",
    "    cav = hyperparam_search_multinomial(\n",
    "        train_features=train_features,\n",
    "        train_labels=train_attributes[:, attribute_idx],\n",
    "        val_features=val_features,\n",
    "        val_labels=val_attributes[:, attribute_idx],\n",
    "        solver='liblinear',\n",
    "        regularization='l2',\n",
    "        log_path=log_path\n",
    "    )\n",
    "    cavs[attribute_idx] = cav\n",
    "    \n",
    "    accuracy = cav.score(val_features, val_attributes[:, attribute_idx])\n",
    "    informal_log(\"CAV accuracy for {} concept ({}): {:.4f}\".format(\n",
    "        attribute_label_dict[attribute_idx],\n",
    "        attribute_idx,\n",
    "        accuracy), log_path)\n",
    "    if idx % 10 == 0:\n",
    "        pickle.dump(cavs, open(cavs_save_path, 'wb'))\n",
    "        \n",
    "pickle.dump(cavs, open(cavs_save_path, 'wb'))\n"
   ]
  },
  {
   "cell_type": "code",
   "execution_count": 39,
   "metadata": {},
   "outputs": [
    {
     "name": "stdout",
     "output_type": "stream",
     "text": [
      "0.5051778478162989\n"
     ]
    }
   ],
   "source": [
    "'''\n",
    "Have CAVs trained using ADE20K training set\n",
    "For each split:\n",
    "\n",
    "'''\n",
    "\n",
    "concept_vectors_dict = {}\n",
    "concept_vectors_save_path = os.path.join(cavs_save_dir, '{}_cavs.pth')\n",
    "for split in splits:\n",
    "    split_features = features[split]\n",
    "    concept_vectors = []\n",
    "    for cav in cavs: # 182 of these\n",
    "        concept_present = cav.predict(split_features) # N x 1 array\n",
    "        concept_vectors.append(concept_present)\n",
    "    concept_vectors = np.stack(concept_vectors, axis=1)\n",
    "    concept_vectors_dict[split] = concept_vectors\n",
    "    torch.save(concept_vectors, concept_vectors_save_path.format(split))\n",
    "\n",
    "# Load model's predictions\n",
    "# predictions_path = os.path.join(features_dir, '{}_logits_predictions.pth')\n",
    "# train_predictions = torch.load(predictions_path.format('train'))['predictions']\n",
    "# val_predictions = torch.load(predictions_path.format('val'))['predictions']\n",
    "# test_predictions = torch.load(predictions_path.format('test'))['predictions']\n",
    "\n",
    "# predictions = {\n",
    "#     'train': train_predictions,\n",
    "#     'val': val_predictions, \n",
    "#     'test': test_predictions\n",
    "# }\n",
    "prediction_path = os.path.join('saved', 'PlacesCategoryClassification', 'saga', '{}_outputs_predictions.pth')\n",
    "splits = ['train', 'val', 'test']\n",
    "predictions = {}\n",
    "for split in splits:\n",
    "    predictions[split] = torch.load(prediction_path.format(split))['predictions']\n",
    "\n",
    "solver = 'saga'\n",
    "penalty = 'l1',\n",
    "max_iter = 200\n",
    "hyperparam_search_multinomial(\n",
    "    train_features=# NEED TO FILL IN, calculate concept vectors for all inputs,\n",
    "    train_labels=predictions['train'], \n",
    "    val_features=#NEED TO FILL IN, claculate concept vectors for all inputs, \n",
    "    val_labels=predictions['val'], \n",
    "    regularization=penalty,\n",
    "    solver=solver,\n",
    "    scaler=None,\n",
    "    Cs = [0.001, 0.005, 0.01, 0.05, 0.1, 0.5, 1, 3, 5],\n",
    "    log_path=None)\n"
   ]
  },
  {
   "cell_type": "code",
   "execution_count": null,
   "metadata": {},
   "outputs": [],
   "source": []
  }
 ],
 "metadata": {
  "kernelspec": {
   "display_name": "Python 3.11.2 ('model-correlation')",
   "language": "python",
   "name": "python3"
  },
  "language_info": {
   "codemirror_mode": {
    "name": "ipython",
    "version": 3
   },
   "file_extension": ".py",
   "mimetype": "text/x-python",
   "name": "python",
   "nbconvert_exporter": "python",
   "pygments_lexer": "ipython3",
   "version": "3.11.2"
  },
  "orig_nbformat": 4,
  "vscode": {
   "interpreter": {
    "hash": "c579736b944d6d0768ad80dbc3e033126adf2082032258477813cfb04cf1061b"
   }
  }
 },
 "nbformat": 4,
 "nbformat_minor": 2
}
