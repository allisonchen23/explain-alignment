{
 "cells": [
  {
   "cell_type": "code",
   "execution_count": 2,
   "metadata": {
    "tags": []
   },
   "outputs": [],
   "source": [
    "import os, sys\n",
    "import numpy as np\n",
    "import pandas as pd\n",
    "import torch\n",
    "from tqdm import tqdm\n",
    "from sklearn.linear_model import LogisticRegression\n",
    "import sklearn.preprocessing as Preprocessing\n",
    "import pickle\n",
    "from datetime import datetime\n",
    "\n",
    "sys.path.insert(0, 'src')\n",
    "from utils.places365_pred_utils import get_class_category_dict, get_category_class_dict\n",
    "from utils.utils import ensure_dir, write_lists, informal_log\n",
    "from utils.attribute_utils import get_one_hot_attributes, get_frequent_attributes, hyperparam_search, partition_paths_by_congruency"
   ]
  },
  {
   "cell_type": "markdown",
   "metadata": {},
   "source": [
    "### Load features and attributes"
   ]
  },
  {
   "cell_type": "code",
   "execution_count": 4,
   "metadata": {
    "tags": []
   },
   "outputs": [
    {
     "name": "stdout",
     "output_type": "stream",
     "text": [
      "Obtaining one hot encodings of attributes\n",
      "Processing attributes for train split\n"
     ]
    },
    {
     "name": "stderr",
     "output_type": "stream",
     "text": [
      "100%|██████████| 13326/13326 [00:00<00:00, 142718.19it/s]\n"
     ]
    },
    {
     "name": "stdout",
     "output_type": "stream",
     "text": [
      "Processing attributes for val split\n"
     ]
    },
    {
     "name": "stderr",
     "output_type": "stream",
     "text": [
      "100%|██████████| 4442/4442 [00:00<00:00, 175829.77it/s]"
     ]
    },
    {
     "name": "stdout",
     "output_type": "stream",
     "text": [
      "Processing attributes for test split\n"
     ]
    },
    {
     "name": "stderr",
     "output_type": "stream",
     "text": [
      "\n",
      "100%|██████████| 4442/4442 [00:00<00:00, 175486.95it/s]\n"
     ]
    },
    {
     "name": "stdout",
     "output_type": "stream",
     "text": [
      "Obtaining frequent attributes only\n",
      "6 examples have no more attributes\n",
      "8308/13326 examples affected\n",
      "3 examples have no more attributes\n",
      "2736/4442 examples affected\n",
      "3 examples have no more attributes\n",
      "2804/4442 examples affected\n",
      "Loaded human-readable labels)\n"
     ]
    }
   ],
   "source": [
    "# Load features\n",
    "features_dir = os.path.join('saved', 'ADE20K', '0501_105640')\n",
    "train_features_path = os.path.join(features_dir, 'train_features.pth')\n",
    "val_features_path = os.path.join(features_dir, 'val_features.pth')\n",
    "test_features_path = os.path.join(features_dir, 'test_features.pth')\n",
    "\n",
    "train_features_dict = torch.load(train_features_path)\n",
    "train_features = train_features_dict['features']\n",
    "train_paths = train_features_dict['paths']\n",
    "\n",
    "val_features_dict = torch.load(val_features_path)\n",
    "val_features = val_features_dict['features']\n",
    "val_paths = val_features_dict['paths']\n",
    "\n",
    "test_features_dict = torch.load(test_features_path)\n",
    "test_features = test_features_dict['features']\n",
    "test_paths = test_features_dict['paths']\n",
    "\n",
    "features = {\n",
    "    'train': train_features,\n",
    "    'val': val_features,\n",
    "    'test': test_features\n",
    "}\n",
    "paths = {\n",
    "    'train': train_paths,\n",
    "    'val': val_paths,\n",
    "    'test': test_paths\n",
    "}\n",
    "n_attributes = 1200\n",
    "frequency_threshold = 150\n",
    "\n",
    "# Load data and calculate attributes\n",
    "data_path = os.path.join('data', 'ade20k', 'full_ade20k_imagelabels.pth')\n",
    "data = torch.load(data_path)\n",
    "\n",
    "print(\"Obtaining one hot encodings of attributes\")\n",
    "attributes = get_one_hot_attributes(\n",
    "    data=data,\n",
    "    paths=paths,\n",
    "    n_attr=n_attributes\n",
    ")\n",
    "attribute_save_path = os.path.join(os.path.dirname(data_path), 'one_hot_attributes.pth')\n",
    "if not os.path.exists(attribute_save_path):\n",
    "    torch.save(attributes, attribute_save_path)\n",
    "    print(\"Saved one hot attributes from train/val/test to {}\".format(attribute_save_path))\n",
    "\n",
    "print(\"Obtaining frequent attributes only\")\n",
    "freq_attributes, freq_attributes_one_hot = get_frequent_attributes(\n",
    "    attributes=attributes,\n",
    "    frequency_threshold=frequency_threshold\n",
    ")\n",
    "\n",
    "# Get indices of frequent attributes\n",
    "frequent_attribute_idxs = np.nonzero(freq_attributes_one_hot)[0]\n",
    "freq_attribute_save_path = os.path.join(os.path.dirname(data_path), 'frequency_filtered_one_hot_attributes.pth')\n",
    "if not os.path.exists(freq_attribute_save_path):\n",
    "    torch.save(freq_attributes, freq_attribute_save_path)\n",
    "    print(\"Saved frequency filtered one hot attributes from train/val/test to {}\".format(freq_attribute_save_path))\n",
    "\n",
    "frequent_idx_save_path = os.path.join(os.path.dirname(data_path), 'frequent_attribute_idxs.pth')\n",
    "if not os.path.exists(frequent_idx_save_path):\n",
    "    torch.save(frequent_attribute_idxs, frequent_idx_save_path)\n",
    "    print(\"Saved indices of frequent attributes from training to {}\".format(frequent_idx_save_path))\n",
    "# Load names of attributes\n",
    "labels_path = os.path.join('data', 'broden1_224', 'label.csv')\n",
    "attribute_label_dict = pd.read_csv(labels_path, index_col=0)['name'].to_dict()\n",
    "print(\"Loaded human-readable labels)\")"
   ]
  },
  {
   "cell_type": "markdown",
   "metadata": {},
   "source": [
    "### For each attribute, create a linear classifier (hyperparameter search)"
   ]
  },
  {
   "cell_type": "code",
   "execution_count": 8,
   "metadata": {
    "scrolled": true,
    "tags": []
   },
   "outputs": [
    {
     "name": "stderr",
     "output_type": "stream",
     "text": [
      "0it [00:00, ?it/s]"
     ]
    },
    {
     "name": "stdout",
     "output_type": "stream",
     "text": [
      "[0517_151725] 1/182 Calculating CAV for wall\n",
      "Best accuracy: 0.8986942818550203 Regularization: 0.001\n",
      "Best accuracy: 0.9004952723998199 Regularization: 0.01\n"
     ]
    },
    {
     "name": "stderr",
     "output_type": "stream",
     "text": [
      "1it [00:22, 22.25s/it]"
     ]
    },
    {
     "name": "stdout",
     "output_type": "stream",
     "text": [
      "CAV accuracy for wall concept (12): 0.9005\n",
      "[0517_151747] 2/182 Calculating CAV for sky\n",
      "Best accuracy: 0.9268347591175147 Regularization: 0.001\n",
      "Best accuracy: 0.9342638451148132 Regularization: 0.005\n",
      "Best accuracy: 0.9376407023863125 Regularization: 0.01\n",
      "Best accuracy: 0.9398919405673121 Regularization: 0.05\n",
      "Best accuracy: 0.9410175596578118 Regularization: 0.1\n"
     ]
    },
    {
     "name": "stderr",
     "output_type": "stream",
     "text": [
      "2it [00:42, 21.30s/it]"
     ]
    },
    {
     "name": "stdout",
     "output_type": "stream",
     "text": [
      "CAV accuracy for sky concept (13): 0.9410\n",
      "[0517_151808] 3/182 Calculating CAV for floor\n",
      "Best accuracy: 0.9207564160288159 Regularization: 0.001\n",
      "Best accuracy: 0.9218820351193157 Regularization: 0.005\n",
      "Best accuracy: 0.9225574065736155 Regularization: 0.01\n"
     ]
    },
    {
     "name": "stderr",
     "output_type": "stream",
     "text": [
      "3it [01:04, 21.67s/it]"
     ]
    },
    {
     "name": "stdout",
     "output_type": "stream",
     "text": [
      "CAV accuracy for floor concept (14): 0.9226\n",
      "[0517_151830] 4/182 Calculating CAV for windowpane\n",
      "Best accuracy: 0.7973885637100405 Regularization: 0.001\n",
      "Best accuracy: 0.8057181449797388 Regularization: 0.005\n",
      "Best accuracy: 0.8059432687978388 Regularization: 0.05\n"
     ]
    },
    {
     "name": "stderr",
     "output_type": "stream",
     "text": [
      "4it [01:29, 22.75s/it]"
     ]
    },
    {
     "name": "stdout",
     "output_type": "stream",
     "text": [
      "CAV accuracy for windowpane concept (15): 0.8059\n",
      "[0517_151854] 5/182 Calculating CAV for tree\n",
      "Best accuracy: 0.8818099954975236 Regularization: 0.001\n",
      "Best accuracy: 0.895092300765421 Regularization: 0.005\n",
      "Best accuracy: 0.8980189104007203 Regularization: 0.01\n",
      "Best accuracy: 0.9022962629446195 Regularization: 0.05\n",
      "Best accuracy: 0.9029716343989194 Regularization: 0.1\n",
      "Best accuracy: 0.9036470058532192 Regularization: 0.5\n",
      "Best accuracy: 0.9038721296713192 Regularization: 1\n"
     ]
    },
    {
     "name": "stderr",
     "output_type": "stream",
     "text": [
      "5it [01:52, 23.06s/it]"
     ]
    },
    {
     "name": "stdout",
     "output_type": "stream",
     "text": [
      "CAV accuracy for tree concept (16): 0.9039\n",
      "[0517_151918] 6/182 Calculating CAV for building\n",
      "Best accuracy: 0.9099504727600181 Regularization: 0.001\n",
      "Best accuracy: 0.9104007203962179 Regularization: 0.01\n"
     ]
    },
    {
     "name": "stderr",
     "output_type": "stream",
     "text": [
      "6it [02:13, 22.35s/it]"
     ]
    },
    {
     "name": "stdout",
     "output_type": "stream",
     "text": [
      "CAV accuracy for building concept (18): 0.9104\n",
      "[0517_151939] 7/182 Calculating CAV for person\n",
      "Best accuracy: 0.8354344889689329 Regularization: 0.001\n",
      "Best accuracy: 0.84984241332733 Regularization: 0.005\n",
      "Best accuracy: 0.85029266096353 Regularization: 0.01\n",
      "Best accuracy: 0.8520936515083296 Regularization: 0.05\n"
     ]
    },
    {
     "name": "stderr",
     "output_type": "stream",
     "text": [
      "7it [02:39, 23.32s/it]"
     ]
    },
    {
     "name": "stdout",
     "output_type": "stream",
     "text": [
      "CAV accuracy for person concept (19): 0.8521\n",
      "[0517_152004] 8/182 Calculating CAV for head\n",
      "Best accuracy: 0.8511931562359297 Regularization: 0.001\n",
      "Best accuracy: 0.8683025664115264 Regularization: 0.005\n",
      "Best accuracy: 0.8719045475011257 Regularization: 0.01\n",
      "Best accuracy: 0.8764070238631247 Regularization: 0.05\n",
      "Best accuracy: 0.8768572714993246 Regularization: 0.1\n"
     ]
    },
    {
     "name": "stderr",
     "output_type": "stream",
     "text": [
      "8it [03:11, 26.09s/it]"
     ]
    },
    {
     "name": "stdout",
     "output_type": "stream",
     "text": [
      "CAV accuracy for head concept (21): 0.8769\n",
      "[0517_152036] 9/182 Calculating CAV for leg\n",
      "Best accuracy: 0.7901846015308419 Regularization: 0.001\n",
      "Best accuracy: 0.7985141828005403 Regularization: 0.005\n",
      "Best accuracy: 0.80031517334534 Regularization: 0.01\n",
      "Best accuracy: 0.8009905447996398 Regularization: 0.05\n"
     ]
    },
    {
     "name": "stderr",
     "output_type": "stream",
     "text": [
      "9it [03:41, 27.32s/it]"
     ]
    },
    {
     "name": "stdout",
     "output_type": "stream",
     "text": [
      "CAV accuracy for leg concept (22): 0.8010\n",
      "[0517_152106] 10/182 Calculating CAV for door\n",
      "Best accuracy: 0.7273750562809546 Regularization: 0.001\n",
      "Best accuracy: 0.7354795137325529 Regularization: 0.005\n"
     ]
    },
    {
     "name": "stderr",
     "output_type": "stream",
     "text": [
      "10it [04:06, 26.81s/it]"
     ]
    },
    {
     "name": "stdout",
     "output_type": "stream",
     "text": [
      "CAV accuracy for door concept (23): 0.7355\n",
      "[0517_152132] 11/182 Calculating CAV for ceiling\n",
      "Best accuracy: 0.8719045475011257 Regularization: 0.001\n",
      "Best accuracy: 0.889914452949122 Regularization: 0.005\n",
      "Best accuracy: 0.8971184151283206 Regularization: 0.01\n",
      "Best accuracy: 0.9013957676722197 Regularization: 0.05\n"
     ]
    },
    {
     "name": "stderr",
     "output_type": "stream",
     "text": [
      "11it [04:32, 26.45s/it]"
     ]
    },
    {
     "name": "stdout",
     "output_type": "stream",
     "text": [
      "CAV accuracy for ceiling concept (25): 0.9014\n",
      "[0517_152157] 12/182 Calculating CAV for torso\n",
      "Best accuracy: 0.8784331382260243 Regularization: 0.001\n",
      "Best accuracy: 0.9004952723998199 Regularization: 0.005\n",
      "Best accuracy: 0.9149031967582171 Regularization: 0.01\n",
      "Best accuracy: 0.9335884736605132 Regularization: 0.05\n",
      "Best accuracy: 0.9405673120216119 Regularization: 0.1\n",
      "Best accuracy: 0.9538496172895092 Regularization: 0.5\n",
      "Best accuracy: 0.9588023412877082 Regularization: 1\n",
      "Best accuracy: 0.9606033318325079 Regularization: 3\n"
     ]
    },
    {
     "name": "stderr",
     "output_type": "stream",
     "text": [
      "12it [05:07, 28.98s/it]"
     ]
    },
    {
     "name": "stdout",
     "output_type": "stream",
     "text": [
      "CAV accuracy for torso concept (26): 0.9606\n",
      "[0517_152232] 13/182 Calculating CAV for table\n",
      "Best accuracy: 0.8608734804142278 Regularization: 0.001\n",
      "Best accuracy: 0.8644754615038271 Regularization: 0.005\n",
      "Best accuracy: 0.8653759567762269 Regularization: 0.01\n",
      "Best accuracy: 0.8685276902296263 Regularization: 0.05\n"
     ]
    },
    {
     "name": "stderr",
     "output_type": "stream",
     "text": [
      "13it [05:35, 28.58s/it]"
     ]
    },
    {
     "name": "stdout",
     "output_type": "stream",
     "text": [
      "CAV accuracy for table concept (27): 0.8685\n",
      "[0517_152300] 14/182 Calculating CAV for arm\n",
      "Best accuracy: 0.7917604682575416 Regularization: 0.001\n",
      "Best accuracy: 0.8070688878883386 Regularization: 0.005\n",
      "Best accuracy: 0.8113462404322377 Regularization: 0.01\n"
     ]
    },
    {
     "name": "stderr",
     "output_type": "stream",
     "text": [
      "14it [06:06, 29.39s/it]"
     ]
    },
    {
     "name": "stdout",
     "output_type": "stream",
     "text": [
      "CAV accuracy for arm concept (28): 0.8113\n",
      "[0517_152331] 15/182 Calculating CAV for eye\n",
      "Best accuracy: 0.919855920756416 Regularization: 0.001\n",
      "Best accuracy: 0.9358397118415128 Regularization: 0.005\n",
      "Best accuracy: 0.9428185502026114 Regularization: 0.01\n",
      "Best accuracy: 0.9576767221972085 Regularization: 0.05\n",
      "Best accuracy: 0.9610535794687078 Regularization: 0.1\n",
      "Best accuracy: 0.9687077892841063 Regularization: 0.5\n",
      "Best accuracy: 0.9693831607384061 Regularization: 1\n",
      "Best accuracy: 0.9698334083746061 Regularization: 3\n"
     ]
    },
    {
     "name": "stderr",
     "output_type": "stream",
     "text": [
      "15it [06:41, 31.08s/it]"
     ]
    },
    {
     "name": "stdout",
     "output_type": "stream",
     "text": [
      "CAV accuracy for eye concept (29): 0.9698\n",
      "[0517_152406] 16/182 Calculating CAV for road\n",
      "Best accuracy: 0.9137775776677173 Regularization: 0.001\n",
      "Best accuracy: 0.9155785682125169 Regularization: 0.005\n",
      "Best accuracy: 0.9191805493021161 Regularization: 0.01\n"
     ]
    },
    {
     "name": "stderr",
     "output_type": "stream",
     "text": [
      "16it [07:04, 28.64s/it]"
     ]
    },
    {
     "name": "stdout",
     "output_type": "stream",
     "text": [
      "CAV accuracy for road concept (31): 0.9192\n",
      "[0517_152429] 17/182 Calculating CAV for grass\n",
      "Best accuracy: 0.8728050427735254 Regularization: 0.001\n",
      "Best accuracy: 0.8827104907699235 Regularization: 0.005\n",
      "Best accuracy: 0.884736605132823 Regularization: 0.01\n",
      "Best accuracy: 0.889689329131022 Regularization: 0.05\n"
     ]
    },
    {
     "name": "stderr",
     "output_type": "stream",
     "text": [
      "17it [07:31, 28.36s/it]"
     ]
    },
    {
     "name": "stdout",
     "output_type": "stream",
     "text": [
      "CAV accuracy for grass concept (33): 0.8897\n",
      "[0517_152457] 18/182 Calculating CAV for plant\n",
      "Best accuracy: 0.7742008104457452 Regularization: 0.001\n",
      "Best accuracy: 0.7780279153534444 Regularization: 0.005\n",
      "Best accuracy: 0.780054029716344 Regularization: 0.01\n"
     ]
    },
    {
     "name": "stderr",
     "output_type": "stream",
     "text": [
      "18it [07:58, 27.89s/it]"
     ]
    },
    {
     "name": "stdout",
     "output_type": "stream",
     "text": [
      "CAV accuracy for plant concept (35): 0.7801\n",
      "[0517_152524] 19/182 Calculating CAV for chair\n",
      "Best accuracy: 0.8295812696983341 Regularization: 0.001\n",
      "Best accuracy: 0.8370103556956326 Regularization: 0.005\n"
     ]
    },
    {
     "name": "stderr",
     "output_type": "stream",
     "text": [
      "19it [08:25, 27.50s/it]"
     ]
    },
    {
     "name": "stdout",
     "output_type": "stream",
     "text": [
      "CAV accuracy for chair concept (36): 0.8370\n",
      "[0517_152550] 20/182 Calculating CAV for car\n",
      "Best accuracy: 0.9022962629446195 Regularization: 0.001\n",
      "Best accuracy: 0.9095002251238181 Regularization: 0.005\n",
      "Best accuracy: 0.9128770823953174 Regularization: 0.01\n"
     ]
    },
    {
     "name": "stderr",
     "output_type": "stream",
     "text": [
      "20it [08:50, 26.88s/it]"
     ]
    },
    {
     "name": "stdout",
     "output_type": "stream",
     "text": [
      "CAV accuracy for car concept (38): 0.9129\n",
      "[0517_152616] 21/182 Calculating CAV for painting\n",
      "Best accuracy: 0.8505177847816299 Regularization: 0.001\n",
      "Best accuracy: 0.8590724898694282 Regularization: 0.005\n",
      "Best accuracy: 0.8617739756866276 Regularization: 0.01\n",
      "Best accuracy: 0.8674020711391265 Regularization: 0.05\n",
      "Best accuracy: 0.8678523187753264 Regularization: 0.1\n",
      "Best accuracy: 0.8692030616839261 Regularization: 0.5\n"
     ]
    },
    {
     "name": "stderr",
     "output_type": "stream",
     "text": [
      "21it [09:15, 26.14s/it]"
     ]
    },
    {
     "name": "stdout",
     "output_type": "stream",
     "text": [
      "CAV accuracy for painting concept (40): 0.8692\n",
      "[0517_152640] 22/182 Calculating CAV for carpet\n",
      "Best accuracy: 0.7926609635299414 Regularization: 0.001\n",
      "Best accuracy: 0.8156235929761368 Regularization: 0.005\n",
      "Best accuracy: 0.8226024313372354 Regularization: 0.01\n",
      "Best accuracy: 0.8394867176947322 Regularization: 0.05\n",
      "Best accuracy: 0.844889689329131 Regularization: 0.1\n",
      "Best accuracy: 0.8511931562359297 Regularization: 0.5\n",
      "Best accuracy: 0.8529941467807294 Regularization: 1\n"
     ]
    },
    {
     "name": "stderr",
     "output_type": "stream",
     "text": [
      "22it [09:49, 28.63s/it]"
     ]
    },
    {
     "name": "stdout",
     "output_type": "stream",
     "text": [
      "CAV accuracy for carpet concept (41): 0.8530\n",
      "[0517_152714] 23/182 Calculating CAV for hand\n",
      "Best accuracy: 0.8694281855020262 Regularization: 0.001\n",
      "Best accuracy: 0.8779828905898244 Regularization: 0.005\n",
      "Best accuracy: 0.8806843764070239 Regularization: 0.01\n",
      "Best accuracy: 0.8912651958577218 Regularization: 0.05\n",
      "Best accuracy: 0.8930661864025213 Regularization: 0.1\n",
      "Best accuracy: 0.8957676722197209 Regularization: 0.5\n",
      "Best accuracy: 0.8966681674921206 Regularization: 1\n",
      "Best accuracy: 0.8989194056731202 Regularization: 3\n"
     ]
    },
    {
     "name": "stderr",
     "output_type": "stream",
     "text": [
      "23it [10:28, 31.78s/it]"
     ]
    },
    {
     "name": "stdout",
     "output_type": "stream",
     "text": [
      "Best accuracy: 0.8995947771274201 Regularization: 5\n",
      "CAV accuracy for hand concept (42): 0.8996\n",
      "[0517_152754] 24/182 Calculating CAV for sidewalk\n",
      "Best accuracy: 0.9142278253039171 Regularization: 0.001\n",
      "Best accuracy: 0.920081044574516 Regularization: 0.005\n",
      "Best accuracy: 0.9223322827555155 Regularization: 0.01\n",
      "Best accuracy: 0.9225574065736155 Regularization: 0.05\n"
     ]
    },
    {
     "name": "stderr",
     "output_type": "stream",
     "text": [
      "24it [10:52, 29.44s/it]"
     ]
    },
    {
     "name": "stdout",
     "output_type": "stream",
     "text": [
      "CAV accuracy for sidewalk concept (43): 0.9226\n",
      "[0517_152818] 25/182 Calculating CAV for wheel\n",
      "Best accuracy: 0.8923908149482215 Regularization: 0.001\n",
      "Best accuracy: 0.9022962629446195 Regularization: 0.005\n",
      "Best accuracy: 0.9045475011256191 Regularization: 0.01\n",
      "Best accuracy: 0.9108509680324178 Regularization: 0.05\n",
      "Best accuracy: 0.9115263394867177 Regularization: 0.1\n",
      "Best accuracy: 0.9117514633048176 Regularization: 1\n"
     ]
    },
    {
     "name": "stderr",
     "output_type": "stream",
     "text": [
      "25it [11:21, 29.08s/it]"
     ]
    },
    {
     "name": "stdout",
     "output_type": "stream",
     "text": [
      "CAV accuracy for wheel concept (44): 0.9118\n",
      "[0517_152846] 26/182 Calculating CAV for cabinet\n",
      "Best accuracy: 0.8106708689779378 Regularization: 0.001\n",
      "Best accuracy: 0.8169743358847366 Regularization: 0.005\n",
      "Best accuracy: 0.8205763169743359 Regularization: 0.01\n",
      "Best accuracy: 0.8244034218820351 Regularization: 0.05\n",
      "Best accuracy: 0.8246285457001351 Regularization: 0.1\n"
     ]
    },
    {
     "name": "stderr",
     "output_type": "stream",
     "text": [
      "26it [11:47, 28.43s/it]"
     ]
    },
    {
     "name": "stdout",
     "output_type": "stream",
     "text": [
      "Best accuracy: 0.824853669518235 Regularization: 5\n",
      "CAV accuracy for cabinet concept (45): 0.8249\n",
      "[0517_152913] 27/182 Calculating CAV for light\n",
      "Best accuracy: 0.8318325078793336 Regularization: 0.001\n",
      "Best accuracy: 0.8532192705988294 Regularization: 0.005\n",
      "Best accuracy: 0.860198108959928 Regularization: 0.01\n",
      "Best accuracy: 0.8671769473210266 Regularization: 0.05\n",
      "Best accuracy: 0.8689779378658262 Regularization: 0.1\n",
      "Best accuracy: 0.8696533093201261 Regularization: 0.5\n"
     ]
    },
    {
     "name": "stderr",
     "output_type": "stream",
     "text": [
      "27it [12:17, 28.63s/it]"
     ]
    },
    {
     "name": "stdout",
     "output_type": "stream",
     "text": [
      "CAV accuracy for light concept (46): 0.8697\n",
      "[0517_152942] 28/182 Calculating CAV for signboard\n",
      "Best accuracy: 0.8329581269698334 Regularization: 0.001\n"
     ]
    },
    {
     "name": "stderr",
     "output_type": "stream",
     "text": [
      "28it [12:43, 28.03s/it]"
     ]
    },
    {
     "name": "stdout",
     "output_type": "stream",
     "text": [
      "CAV accuracy for signboard concept (47): 0.8330\n",
      "[0517_153008] 29/182 Calculating CAV for mirror\n",
      "Best accuracy: 0.7778027915353445 Regularization: 0.001\n",
      "Best accuracy: 0.7951373255290409 Regularization: 0.005\n",
      "Best accuracy: 0.7989644304367403 Regularization: 0.01\n",
      "Best accuracy: 0.809995497523638 Regularization: 0.05\n",
      "Best accuracy: 0.810220621341738 Regularization: 1\n"
     ]
    },
    {
     "name": "stderr",
     "output_type": "stream",
     "text": [
      "29it [13:15, 29.13s/it]"
     ]
    },
    {
     "name": "stdout",
     "output_type": "stream",
     "text": [
      "CAV accuracy for mirror concept (48): 0.8102\n",
      "[0517_153040] 30/182 Calculating CAV for lamp\n",
      "Best accuracy: 0.8583971184151283 Regularization: 0.001\n",
      "Best accuracy: 0.8642503376857271 Regularization: 0.005\n",
      "Best accuracy: 0.8676271949572265 Regularization: 0.01\n"
     ]
    },
    {
     "name": "stderr",
     "output_type": "stream",
     "text": [
      "30it [13:40, 28.02s/it]"
     ]
    },
    {
     "name": "stdout",
     "output_type": "stream",
     "text": [
      "CAV accuracy for lamp concept (50): 0.8676\n",
      "[0517_153106] 31/182 Calculating CAV for mouth\n",
      "Best accuracy: 0.9169293111211166 Regularization: 0.001\n",
      "Best accuracy: 0.9362899594777128 Regularization: 0.005\n",
      "Best accuracy: 0.9430436740207114 Regularization: 0.01\n",
      "Best accuracy: 0.954750112561909 Regularization: 0.05\n",
      "Best accuracy: 0.9583520936515083 Regularization: 0.1\n",
      "Best accuracy: 0.9669067987393066 Regularization: 0.5\n",
      "Best accuracy: 0.9682575416479063 Regularization: 1\n",
      "Best accuracy: 0.9729851418280054 Regularization: 3\n"
     ]
    },
    {
     "name": "stderr",
     "output_type": "stream",
     "text": [
      "31it [14:15, 29.89s/it]"
     ]
    },
    {
     "name": "stdout",
     "output_type": "stream",
     "text": [
      "CAV accuracy for mouth concept (53): 0.9730\n",
      "[0517_153140] 32/182 Calculating CAV for curtain\n",
      "Best accuracy: 0.8093201260693381 Regularization: 0.001\n",
      "Best accuracy: 0.8230526789734354 Regularization: 0.005\n",
      "Best accuracy: 0.829806393516434 Regularization: 0.01\n",
      "Best accuracy: 0.8426384511481315 Regularization: 0.05\n",
      "Best accuracy: 0.8442143178748311 Regularization: 0.1\n",
      "Best accuracy: 0.8480414227825304 Regularization: 0.5\n",
      "Best accuracy: 0.8484916704187303 Regularization: 1\n",
      "Best accuracy: 0.8487167942368302 Regularization: 3\n"
     ]
    },
    {
     "name": "stderr",
     "output_type": "stream",
     "text": [
      "32it [14:41, 28.96s/it]"
     ]
    },
    {
     "name": "stdout",
     "output_type": "stream",
     "text": [
      "CAV accuracy for curtain concept (54): 0.8487\n",
      "[0517_153207] 33/182 Calculating CAV for pole\n",
      "Best accuracy: 0.7714993246285456 Regularization: 0.001\n",
      "Best accuracy: 0.7924358397118415 Regularization: 0.005\n",
      "Best accuracy: 0.8009905447996398 Regularization: 0.01\n",
      "Best accuracy: 0.8142728500675371 Regularization: 0.05\n",
      "Best accuracy: 0.8217019360648357 Regularization: 0.1\n",
      "Best accuracy: 0.8271049076992346 Regularization: 0.5\n",
      "Best accuracy: 0.8286807744259342 Regularization: 1\n",
      "Best accuracy: 0.8311571364250337 Regularization: 3\n"
     ]
    },
    {
     "name": "stderr",
     "output_type": "stream",
     "text": [
      "33it [15:16, 30.70s/it]"
     ]
    },
    {
     "name": "stdout",
     "output_type": "stream",
     "text": [
      "CAV accuracy for pole concept (55): 0.8312\n",
      "[0517_153241] 34/182 Calculating CAV for mountain\n",
      "Best accuracy: 0.8624493471409275 Regularization: 0.001\n",
      "Best accuracy: 0.8728050427735254 Regularization: 0.005\n",
      "Best accuracy: 0.8768572714993246 Regularization: 0.01\n",
      "Best accuracy: 0.885186852769023 Regularization: 0.05\n",
      "Best accuracy: 0.8883385862224223 Regularization: 0.1\n"
     ]
    },
    {
     "name": "stderr",
     "output_type": "stream",
     "text": [
      "34it [15:46, 30.33s/it]"
     ]
    },
    {
     "name": "stdout",
     "output_type": "stream",
     "text": [
      "CAV accuracy for mountain concept (56): 0.8883\n",
      "[0517_153311] 35/182 Calculating CAV for fence\n",
      "Best accuracy: 0.7624943719045475 Regularization: 0.001\n",
      "Best accuracy: 0.7832057631697433 Regularization: 0.005\n",
      "Best accuracy: 0.7908599729851419 Regularization: 0.01\n",
      "Best accuracy: 0.8036920306168392 Regularization: 0.05\n",
      "Best accuracy: 0.8054930211616389 Regularization: 0.1\n",
      "Best accuracy: 0.8124718595227375 Regularization: 0.5\n"
     ]
    },
    {
     "name": "stderr",
     "output_type": "stream",
     "text": [
      "35it [16:18, 30.84s/it]"
     ]
    },
    {
     "name": "stdout",
     "output_type": "stream",
     "text": [
      "CAV accuracy for fence concept (57): 0.8125\n",
      "[0517_153343] 36/182 Calculating CAV for streetlight\n",
      "Best accuracy: 0.8541197658712292 Regularization: 0.001\n",
      "Best accuracy: 0.8642503376857271 Regularization: 0.005\n",
      "Best accuracy: 0.8692030616839261 Regularization: 0.01\n",
      "Best accuracy: 0.8721296713192256 Regularization: 0.05\n",
      "Best accuracy: 0.8737055380459252 Regularization: 0.5\n",
      "Best accuracy: 0.8743809095002252 Regularization: 1\n",
      "Best accuracy: 0.875056280954525 Regularization: 3\n"
     ]
    },
    {
     "name": "stderr",
     "output_type": "stream",
     "text": [
      "36it [16:44, 29.58s/it]"
     ]
    },
    {
     "name": "stdout",
     "output_type": "stream",
     "text": [
      "Best accuracy: 0.8755065285907249 Regularization: 5\n",
      "CAV accuracy for streetlight concept (60): 0.8755\n",
      "[0517_153410] 37/182 Calculating CAV for bed\n",
      "Best accuracy: 0.9536244934714093 Regularization: 0.001\n",
      "Best accuracy: 0.9608284556506078 Regularization: 0.005\n",
      "Best accuracy: 0.9619540747411076 Regularization: 0.01\n",
      "Best accuracy: 0.9626294461954075 Regularization: 0.05\n",
      "Best accuracy: 0.9639801891040072 Regularization: 0.5\n"
     ]
    },
    {
     "name": "stderr",
     "output_type": "stream",
     "text": [
      "37it [17:09, 28.26s/it]"
     ]
    },
    {
     "name": "stdout",
     "output_type": "stream",
     "text": [
      "CAV accuracy for bed concept (61): 0.9640\n",
      "[0517_153435] 38/182 Calculating CAV for sofa\n",
      "Best accuracy: 0.8903647005853219 Regularization: 0.001\n",
      "Best accuracy: 0.9007203962179199 Regularization: 0.005\n",
      "Best accuracy: 0.9088248536695183 Regularization: 0.01\n",
      "Best accuracy: 0.9209815398469158 Regularization: 0.05\n",
      "Best accuracy: 0.9212066636650158 Regularization: 1\n"
     ]
    },
    {
     "name": "stderr",
     "output_type": "stream",
     "text": [
      "38it [17:39, 28.74s/it]"
     ]
    },
    {
     "name": "stdout",
     "output_type": "stream",
     "text": [
      "CAV accuracy for sofa concept (63): 0.9212\n",
      "[0517_153505] 39/182 Calculating CAV for handle\n",
      "Best accuracy: 0.7755515533543449 Regularization: 0.001\n",
      "Best accuracy: 0.7922107158937416 Regularization: 0.005\n",
      "Best accuracy: 0.7971634398919406 Regularization: 0.01\n",
      "Best accuracy: 0.8009905447996398 Regularization: 0.05\n",
      "Best accuracy: 0.8032417829806393 Regularization: 0.1\n",
      "Best accuracy: 0.805267897343539 Regularization: 0.5\n",
      "Best accuracy: 0.8070688878883386 Regularization: 1\n",
      "Best accuracy: 0.8079693831607384 Regularization: 3\n"
     ]
    },
    {
     "name": "stderr",
     "output_type": "stream",
     "text": [
      "39it [18:07, 28.34s/it]"
     ]
    },
    {
     "name": "stdout",
     "output_type": "stream",
     "text": [
      "CAV accuracy for handle concept (64): 0.8080\n",
      "[0517_153532] 40/182 Calculating CAV for box\n",
      "Best accuracy: 0.7604682575416479 Regularization: 0.001\n",
      "Best accuracy: 0.7660963529941468 Regularization: 0.005\n",
      "Best accuracy: 0.7685727149932463 Regularization: 0.01\n",
      "Best accuracy: 0.7728500675371455 Regularization: 0.05\n",
      "Best accuracy: 0.7742008104457452 Regularization: 0.1\n",
      "Best accuracy: 0.775101305718145 Regularization: 0.5\n",
      "Best accuracy: 0.7762269248086447 Regularization: 1\n"
     ]
    },
    {
     "name": "stderr",
     "output_type": "stream",
     "text": [
      "40it [18:38, 29.12s/it]"
     ]
    },
    {
     "name": "stdout",
     "output_type": "stream",
     "text": [
      "Best accuracy: 0.7769022962629446 Regularization: 5\n",
      "CAV accuracy for box concept (65): 0.7769\n",
      "[0517_153603] 41/182 Calculating CAV for earth\n",
      "Best accuracy: 0.7714993246285456 Regularization: 0.001\n",
      "Best accuracy: 0.7874831157136425 Regularization: 0.005\n",
      "Best accuracy: 0.7910850968032418 Regularization: 0.01\n",
      "Best accuracy: 0.7980639351643404 Regularization: 0.05\n",
      "Best accuracy: 0.80031517334534 Regularization: 0.1\n",
      "Best accuracy: 0.8014407924358398 Regularization: 0.5\n"
     ]
    },
    {
     "name": "stderr",
     "output_type": "stream",
     "text": [
      "41it [19:06, 29.02s/it]"
     ]
    },
    {
     "name": "stdout",
     "output_type": "stream",
     "text": [
      "CAV accuracy for earth concept (68): 0.8014\n",
      "[0517_153632] 42/182 Calculating CAV for bottle\n",
      "Best accuracy: 0.7985141828005403 Regularization: 0.001\n",
      "Best accuracy: 0.8153984691580369 Regularization: 0.005\n",
      "Best accuracy: 0.8192255740657362 Regularization: 0.01\n",
      "Best accuracy: 0.8286807744259342 Regularization: 0.05\n",
      "Best accuracy: 0.8307068887888338 Regularization: 0.1\n"
     ]
    },
    {
     "name": "stderr",
     "output_type": "stream",
     "text": [
      "42it [19:42, 31.01s/it]"
     ]
    },
    {
     "name": "stdout",
     "output_type": "stream",
     "text": [
      "CAV accuracy for bottle concept (70): 0.8307\n",
      "[0517_153707] 43/182 Calculating CAV for paper\n",
      "Best accuracy: 0.8226024313372354 Regularization: 0.001\n",
      "Best accuracy: 0.8376857271499325 Regularization: 0.005\n",
      "Best accuracy: 0.855020261143629 Regularization: 0.01\n",
      "Best accuracy: 0.8728050427735254 Regularization: 0.05\n",
      "Best accuracy: 0.8827104907699235 Regularization: 0.1\n",
      "Best accuracy: 0.8989194056731202 Regularization: 0.5\n",
      "Best accuracy: 0.9025213867627195 Regularization: 1\n",
      "Best accuracy: 0.9043223773075192 Regularization: 3\n"
     ]
    },
    {
     "name": "stderr",
     "output_type": "stream",
     "text": [
      "43it [20:25, 34.72s/it]"
     ]
    },
    {
     "name": "stdout",
     "output_type": "stream",
     "text": [
      "Best accuracy: 0.9045475011256191 Regularization: 5\n",
      "CAV accuracy for paper concept (71): 0.9045\n",
      "[0517_153751] 44/182 Calculating CAV for shelf\n",
      "Best accuracy: 0.7859072489869429 Regularization: 0.001\n",
      "Best accuracy: 0.8043674020711391 Regularization: 0.005\n",
      "Best accuracy: 0.8117964880684376 Regularization: 0.01\n",
      "Best accuracy: 0.8194506978838361 Regularization: 0.05\n",
      "Best accuracy: 0.8230526789734354 Regularization: 0.1\n",
      "Best accuracy: 0.8235029266096353 Regularization: 0.5\n",
      "Best accuracy: 0.8237280504277352 Regularization: 1\n"
     ]
    },
    {
     "name": "stderr",
     "output_type": "stream",
     "text": [
      "44it [20:59, 34.32s/it]"
     ]
    },
    {
     "name": "stdout",
     "output_type": "stream",
     "text": [
      "Best accuracy: 0.8239531742458353 Regularization: 5\n",
      "CAV accuracy for shelf concept (72): 0.8240\n",
      "[0517_153824] 45/182 Calculating CAV for headlight\n",
      "Best accuracy: 0.9079243583971184 Regularization: 0.001\n",
      "Best accuracy: 0.920081044574516 Regularization: 0.005\n",
      "Best accuracy: 0.9259342638451148 Regularization: 0.01\n",
      "Best accuracy: 0.9371904547501125 Regularization: 0.05\n",
      "Best accuracy: 0.9398919405673121 Regularization: 0.1\n",
      "Best accuracy: 0.9468707789284107 Regularization: 0.5\n",
      "Best accuracy: 0.9482215218370104 Regularization: 1\n",
      "Best accuracy: 0.9484466456551103 Regularization: 3\n"
     ]
    },
    {
     "name": "stderr",
     "output_type": "stream",
     "text": [
      "45it [21:31, 33.73s/it]"
     ]
    },
    {
     "name": "stdout",
     "output_type": "stream",
     "text": [
      "CAV accuracy for headlight concept (73): 0.9484\n",
      "[0517_153856] 46/182 Calculating CAV for drawer\n",
      "Best accuracy: 0.8471409275101306 Regularization: 0.001\n",
      "Best accuracy: 0.8613237280504278 Regularization: 0.005\n",
      "Best accuracy: 0.8638000900495273 Regularization: 0.01\n",
      "Best accuracy: 0.8741557856821252 Regularization: 0.05\n",
      "Best accuracy: 0.875281404772625 Regularization: 0.1\n"
     ]
    },
    {
     "name": "stderr",
     "output_type": "stream",
     "text": [
      "46it [22:04, 33.54s/it]"
     ]
    },
    {
     "name": "stdout",
     "output_type": "stream",
     "text": [
      "CAV accuracy for drawer concept (74): 0.8753\n",
      "[0517_153930] 47/182 Calculating CAV for water\n",
      "Best accuracy: 0.9002701485817199 Regularization: 0.001\n",
      "Best accuracy: 0.9137775776677173 Regularization: 0.005\n",
      "Best accuracy: 0.9185051778478163 Regularization: 0.01\n",
      "Best accuracy: 0.929761368752814 Regularization: 0.05\n",
      "Best accuracy: 0.9317874831157137 Regularization: 0.1\n",
      "Best accuracy: 0.9365150832958127 Regularization: 0.5\n",
      "Best accuracy: 0.9374155785682126 Regularization: 3\n"
     ]
    },
    {
     "name": "stderr",
     "output_type": "stream",
     "text": [
      "47it [22:37, 33.32s/it]"
     ]
    },
    {
     "name": "stdout",
     "output_type": "stream",
     "text": [
      "CAV accuracy for water concept (75): 0.9374\n",
      "[0517_154002] 48/182 Calculating CAV for railing\n",
      "Best accuracy: 0.7107158937415579 Regularization: 0.001\n",
      "Best accuracy: 0.7262494371904548 Regularization: 0.005\n",
      "Best accuracy: 0.7289509230076542 Regularization: 0.01\n",
      "Best accuracy: 0.7336785231877533 Regularization: 0.05\n",
      "Best accuracy: 0.735029266096353 Regularization: 0.1\n",
      "Best accuracy: 0.7354795137325529 Regularization: 0.5\n"
     ]
    },
    {
     "name": "stderr",
     "output_type": "stream",
     "text": [
      "48it [23:08, 32.71s/it]"
     ]
    },
    {
     "name": "stdout",
     "output_type": "stream",
     "text": [
      "CAV accuracy for railing concept (76): 0.7355\n",
      "[0517_154034] 49/182 Calculating CAV for cushion\n",
      "Best accuracy: 0.8941918054930211 Regularization: 0.001\n",
      "Best accuracy: 0.8977937865826204 Regularization: 0.005\n",
      "Best accuracy: 0.9007203962179199 Regularization: 0.01\n",
      "Best accuracy: 0.9058982440342188 Regularization: 0.05\n",
      "Best accuracy: 0.9099504727600181 Regularization: 0.1\n",
      "Best accuracy: 0.9104007203962179 Regularization: 0.5\n",
      "Best accuracy: 0.9110760918505177 Regularization: 1\n",
      "Best accuracy: 0.9115263394867177 Regularization: 3\n"
     ]
    },
    {
     "name": "stderr",
     "output_type": "stream",
     "text": [
      "49it [23:38, 31.86s/it]"
     ]
    },
    {
     "name": "stdout",
     "output_type": "stream",
     "text": [
      "Best accuracy: 0.9117514633048176 Regularization: 5\n",
      "CAV accuracy for cushion concept (77): 0.9118\n",
      "[0517_154104] 50/182 Calculating CAV for book\n",
      "Best accuracy: 0.8142728500675371 Regularization: 0.001\n",
      "Best accuracy: 0.8390364700585322 Regularization: 0.005\n",
      "Best accuracy: 0.8478162989644304 Regularization: 0.01\n",
      "Best accuracy: 0.860198108959928 Regularization: 0.05\n",
      "Best accuracy: 0.8644754615038271 Regularization: 0.1\n",
      "Best accuracy: 0.8694281855020262 Regularization: 0.5\n",
      "Best accuracy: 0.8712291760468257 Regularization: 1\n",
      "Best accuracy: 0.8719045475011257 Regularization: 3\n"
     ]
    },
    {
     "name": "stderr",
     "output_type": "stream",
     "text": [
      "50it [24:13, 32.61s/it]"
     ]
    },
    {
     "name": "stdout",
     "output_type": "stream",
     "text": [
      "Best accuracy: 0.8723547951373255 Regularization: 5\n",
      "CAV accuracy for book concept (78): 0.8724\n",
      "[0517_154138] 51/182 Calculating CAV for flower\n",
      "Best accuracy: 0.820351193156236 Regularization: 0.001\n",
      "Best accuracy: 0.8226024313372354 Regularization: 0.005\n",
      "Best accuracy: 0.8268797838811346 Regularization: 0.05\n",
      "Best accuracy: 0.8277802791535345 Regularization: 0.1\n"
     ]
    },
    {
     "name": "stderr",
     "output_type": "stream",
     "text": [
      "51it [24:46, 32.75s/it]"
     ]
    },
    {
     "name": "stdout",
     "output_type": "stream",
     "text": [
      "CAV accuracy for flower concept (79): 0.8278\n",
      "[0517_154211] 52/182 Calculating CAV for back\n",
      "Best accuracy: 0.8014407924358398 Regularization: 0.001\n",
      "Best accuracy: 0.8124718595227375 Regularization: 0.005\n",
      "Best accuracy: 0.8180999549752364 Regularization: 0.01\n",
      "Best accuracy: 0.8226024313372354 Regularization: 0.05\n",
      "Best accuracy: 0.8228275551553355 Regularization: 3\n"
     ]
    },
    {
     "name": "stderr",
     "output_type": "stream",
     "text": [
      "52it [25:19, 32.86s/it]"
     ]
    },
    {
     "name": "stdout",
     "output_type": "stream",
     "text": [
      "CAV accuracy for back concept (81): 0.8228\n",
      "[0517_154244] 53/182 Calculating CAV for shade\n",
      "Best accuracy: 0.8568212516884286 Regularization: 0.001\n",
      "Best accuracy: 0.865150832958127 Regularization: 0.005\n",
      "Best accuracy: 0.8710040522287258 Regularization: 0.01\n",
      "Best accuracy: 0.8845114813147231 Regularization: 0.05\n",
      "Best accuracy: 0.8881134624043224 Regularization: 0.1\n",
      "Best accuracy: 0.8914903196758217 Regularization: 0.5\n",
      "Best accuracy: 0.8930661864025213 Regularization: 1\n",
      "Best accuracy: 0.8946420531292211 Regularization: 3\n"
     ]
    },
    {
     "name": "stderr",
     "output_type": "stream",
     "text": [
      "53it [25:52, 32.94s/it]"
     ]
    },
    {
     "name": "stdout",
     "output_type": "stream",
     "text": [
      "CAV accuracy for shade concept (82): 0.8946\n",
      "[0517_154317] 54/182 Calculating CAV for rock\n",
      "Best accuracy: 0.8577217469608285 Regularization: 0.001\n",
      "Best accuracy: 0.8714542998649257 Regularization: 0.005\n",
      "Best accuracy: 0.8784331382260243 Regularization: 0.01\n",
      "Best accuracy: 0.8860873480414228 Regularization: 0.05\n",
      "Best accuracy: 0.8887888338586223 Regularization: 0.1\n",
      "Best accuracy: 0.8926159387663215 Regularization: 0.5\n",
      "Best accuracy: 0.8939666816749212 Regularization: 1\n",
      "Best accuracy: 0.8959927960378208 Regularization: 3\n"
     ]
    },
    {
     "name": "stderr",
     "output_type": "stream",
     "text": [
      "54it [26:29, 34.09s/it]"
     ]
    },
    {
     "name": "stdout",
     "output_type": "stream",
     "text": [
      "Best accuracy: 0.8977937865826204 Regularization: 5\n",
      "CAV accuracy for rock concept (85): 0.8978\n",
      "[0517_154354] 55/182 Calculating CAV for seat\n",
      "Best accuracy: 0.775101305718145 Regularization: 0.001\n",
      "Best accuracy: 0.7879333633498424 Regularization: 0.005\n",
      "Best accuracy: 0.795362449347141 Regularization: 0.01\n",
      "Best accuracy: 0.8095452498874381 Regularization: 0.05\n",
      "Best accuracy: 0.8117964880684376 Regularization: 0.5\n",
      "Best accuracy: 0.8126969833408375 Regularization: 1\n"
     ]
    },
    {
     "name": "stderr",
     "output_type": "stream",
     "text": [
      "55it [27:05, 34.84s/it]"
     ]
    },
    {
     "name": "stdout",
     "output_type": "stream",
     "text": [
      "Best accuracy: 0.8129221071589374 Regularization: 5\n",
      "CAV accuracy for seat concept (86): 0.8129\n",
      "[0517_154431] 56/182 Calculating CAV for vase\n",
      "Best accuracy: 0.8295812696983341 Regularization: 0.001\n",
      "Best accuracy: 0.8435389464205313 Regularization: 0.005\n",
      "Best accuracy: 0.8466906798739307 Regularization: 0.01\n",
      "Best accuracy: 0.8475911751463305 Regularization: 0.05\n",
      "Best accuracy: 0.8478162989644304 Regularization: 0.1\n",
      "Best accuracy: 0.85006753714543 Regularization: 0.5\n"
     ]
    },
    {
     "name": "stderr",
     "output_type": "stream",
     "text": [
      "56it [27:36, 33.66s/it]"
     ]
    },
    {
     "name": "stdout",
     "output_type": "stream",
     "text": [
      "CAV accuracy for vase concept (88): 0.8501\n",
      "[0517_154501] 57/182 Calculating CAV for pot\n",
      "Best accuracy: 0.794912201710941 Regularization: 0.001\n",
      "Best accuracy: 0.8057181449797388 Regularization: 0.005\n",
      "Best accuracy: 0.8090950022512382 Regularization: 0.01\n",
      "Best accuracy: 0.8237280504277352 Regularization: 0.05\n",
      "Best accuracy: 0.8259792886087348 Regularization: 0.1\n",
      "Best accuracy: 0.8345339936965331 Regularization: 0.5\n",
      "Best accuracy: 0.8361098604232328 Regularization: 3\n"
     ]
    },
    {
     "name": "stderr",
     "output_type": "stream",
     "text": [
      "57it [28:16, 35.40s/it]"
     ]
    },
    {
     "name": "stdout",
     "output_type": "stream",
     "text": [
      "Best accuracy: 0.8365601080594327 Regularization: 5\n",
      "CAV accuracy for pot concept (89): 0.8366\n",
      "[0517_154541] 58/182 Calculating CAV for flowerpot\n",
      "Best accuracy: 0.7723998199009455 Regularization: 0.001\n",
      "Best accuracy: 0.7825303917154435 Regularization: 0.005\n",
      "Best accuracy: 0.7868077442593426 Regularization: 0.01\n",
      "Best accuracy: 0.7933363349842414 Regularization: 0.05\n",
      "Best accuracy: 0.795362449347141 Regularization: 0.1\n"
     ]
    },
    {
     "name": "stderr",
     "output_type": "stream",
     "text": [
      "58it [28:49, 34.76s/it]"
     ]
    },
    {
     "name": "stdout",
     "output_type": "stream",
     "text": [
      "CAV accuracy for flowerpot concept (90): 0.7954\n",
      "[0517_154614] 59/182 Calculating CAV for sink\n",
      "Best accuracy: 0.9479963980189104 Regularization: 0.001\n",
      "Best accuracy: 0.9515983791085096 Regularization: 0.005\n",
      "Best accuracy: 0.9524988743809095 Regularization: 0.01\n",
      "Best accuracy: 0.9563259792886087 Regularization: 0.05\n",
      "Best accuracy: 0.9567762269248087 Regularization: 0.1\n"
     ]
    },
    {
     "name": "stderr",
     "output_type": "stream",
     "text": [
      "59it [29:18, 33.14s/it]"
     ]
    },
    {
     "name": "stdout",
     "output_type": "stream",
     "text": [
      "CAV accuracy for sink concept (91): 0.9568\n",
      "[0517_154644] 60/182 Calculating CAV for column\n",
      "Best accuracy: 0.8509680324178298 Regularization: 0.001\n",
      "Best accuracy: 0.8534443944169293 Regularization: 0.005\n",
      "Best accuracy: 0.8563710040522288 Regularization: 0.01\n",
      "Best accuracy: 0.859747861323728 Regularization: 0.05\n",
      "Best accuracy: 0.8610986042323278 Regularization: 0.1\n"
     ]
    },
    {
     "name": "stderr",
     "output_type": "stream",
     "text": [
      "60it [29:49, 32.33s/it]"
     ]
    },
    {
     "name": "stdout",
     "output_type": "stream",
     "text": [
      "CAV accuracy for column concept (92): 0.8611\n",
      "[0517_154714] 61/182 Calculating CAV for armchair\n",
      "Best accuracy: 0.865150832958127 Regularization: 0.001\n",
      "Best accuracy: 0.8777577667717245 Regularization: 0.005\n",
      "Best accuracy: 0.8791085096803242 Regularization: 0.01\n",
      "Best accuracy: 0.8872129671319225 Regularization: 0.05\n",
      "Best accuracy: 0.889689329131022 Regularization: 0.1\n",
      "Best accuracy: 0.8971184151283206 Regularization: 0.5\n",
      "Best accuracy: 0.8977937865826204 Regularization: 1\n",
      "Best accuracy: 0.8991445294912201 Regularization: 3\n"
     ]
    },
    {
     "name": "stderr",
     "output_type": "stream",
     "text": [
      "61it [30:20, 32.02s/it]"
     ]
    },
    {
     "name": "stdout",
     "output_type": "stream",
     "text": [
      "CAV accuracy for armchair concept (95): 0.8991\n",
      "[0517_154745] 62/182 Calculating CAV for faucet\n",
      "Best accuracy: 0.9513732552904097 Regularization: 0.001\n",
      "Best accuracy: 0.9542998649257092 Regularization: 0.005\n",
      "Best accuracy: 0.9563259792886087 Regularization: 0.01\n",
      "Best accuracy: 0.9606033318325079 Regularization: 0.05\n",
      "Best accuracy: 0.9617289509230077 Regularization: 0.1\n"
     ]
    },
    {
     "name": "stderr",
     "output_type": "stream",
     "text": [
      "62it [30:49, 31.22s/it]"
     ]
    },
    {
     "name": "stdout",
     "output_type": "stream",
     "text": [
      "CAV accuracy for faucet concept (96): 0.9617\n",
      "[0517_154815] 63/182 Calculating CAV for wall socket\n",
      "Best accuracy: 0.7775776677172445 Regularization: 0.001\n",
      "Best accuracy: 0.7989644304367403 Regularization: 0.005\n",
      "Best accuracy: 0.8090950022512382 Regularization: 0.01\n",
      "Best accuracy: 0.8322827555155335 Regularization: 0.05\n",
      "Best accuracy: 0.8363349842413327 Regularization: 0.1\n",
      "Best accuracy: 0.839936965330932 Regularization: 0.5\n",
      "Best accuracy: 0.8415128320576317 Regularization: 1\n",
      "Best accuracy: 0.8424133273300315 Regularization: 3\n"
     ]
    },
    {
     "name": "stderr",
     "output_type": "stream",
     "text": [
      "63it [31:26, 32.85s/it]"
     ]
    },
    {
     "name": "stdout",
     "output_type": "stream",
     "text": [
      "Best accuracy: 0.8433138226024314 Regularization: 5\n",
      "CAV accuracy for wall socket concept (97): 0.8433\n",
      "[0517_154851] 64/182 Calculating CAV for knob\n",
      "Best accuracy: 0.8147230977037371 Regularization: 0.001\n",
      "Best accuracy: 0.8226024313372354 Regularization: 0.005\n",
      "Best accuracy: 0.8286807744259342 Regularization: 0.01\n",
      "Best accuracy: 0.8478162989644304 Regularization: 0.05\n",
      "Best accuracy: 0.855020261143629 Regularization: 0.1\n",
      "Best accuracy: 0.8574966231427285 Regularization: 0.5\n",
      "Best accuracy: 0.8581719945970284 Regularization: 1\n",
      "Best accuracy: 0.859747861323728 Regularization: 3\n"
     ]
    },
    {
     "name": "stderr",
     "output_type": "stream",
     "text": [
      "64it [32:00, 33.30s/it]"
     ]
    },
    {
     "name": "stdout",
     "output_type": "stream",
     "text": [
      "Best accuracy: 0.859972985141828 Regularization: 5\n",
      "CAV accuracy for knob concept (99): 0.8600\n",
      "[0517_154926] 65/182 Calculating CAV for sconce\n",
      "Best accuracy: 0.75033768572715 Regularization: 0.001\n",
      "Best accuracy: 0.7701485817199459 Regularization: 0.005\n",
      "Best accuracy: 0.7780279153534444 Regularization: 0.01\n",
      "Best accuracy: 0.7883836109860424 Regularization: 0.05\n",
      "Best accuracy: 0.7913102206213417 Regularization: 0.1\n",
      "Best accuracy: 0.7935614588023413 Regularization: 0.5\n",
      "Best accuracy: 0.794912201710941 Regularization: 1\n",
      "Best accuracy: 0.7960378208014408 Regularization: 3\n"
     ]
    },
    {
     "name": "stderr",
     "output_type": "stream",
     "text": [
      "65it [32:34, 33.28s/it]"
     ]
    },
    {
     "name": "stdout",
     "output_type": "stream",
     "text": [
      "CAV accuracy for sconce concept (100): 0.7960\n",
      "[0517_154959] 66/182 Calculating CAV for pillow\n",
      "Best accuracy: 0.929761368752814 Regularization: 0.001\n",
      "Best accuracy: 0.9340387212967132 Regularization: 0.005\n",
      "Best accuracy: 0.9367402071139127 Regularization: 0.01\n",
      "Best accuracy: 0.9410175596578118 Regularization: 0.05\n",
      "Best accuracy: 0.9439441692931112 Regularization: 0.1\n",
      "Best accuracy: 0.9457451598379109 Regularization: 0.5\n",
      "Best accuracy: 0.9479963980189104 Regularization: 1\n"
     ]
    },
    {
     "name": "stderr",
     "output_type": "stream",
     "text": [
      "66it [33:06, 33.07s/it]"
     ]
    },
    {
     "name": "stdout",
     "output_type": "stream",
     "text": [
      "Best accuracy: 0.9484466456551103 Regularization: 5\n",
      "CAV accuracy for pillow concept (101): 0.9484\n",
      "[0517_155032] 67/182 Calculating CAV for base\n",
      "Best accuracy: 0.835209365150833 Regularization: 0.001\n",
      "Best accuracy: 0.8446645655110311 Regularization: 0.005\n",
      "Best accuracy: 0.85029266096353 Regularization: 0.01\n",
      "Best accuracy: 0.8635749662314273 Regularization: 0.05\n",
      "Best accuracy: 0.8703286807744259 Regularization: 0.1\n",
      "Best accuracy: 0.8757316524088249 Regularization: 0.5\n",
      "Best accuracy: 0.8770823953174246 Regularization: 1\n",
      "Best accuracy: 0.8791085096803242 Regularization: 3\n"
     ]
    },
    {
     "name": "stderr",
     "output_type": "stream",
     "text": [
      "67it [33:42, 33.85s/it]"
     ]
    },
    {
     "name": "stdout",
     "output_type": "stream",
     "text": [
      "Best accuracy: 0.8795587573165241 Regularization: 5\n",
      "CAV accuracy for base concept (102): 0.8796\n",
      "[0517_155107] 68/182 Calculating CAV for headboard\n",
      "Best accuracy: 0.9466456551103106 Regularization: 0.001\n",
      "Best accuracy: 0.9518235029266097 Regularization: 0.005\n",
      "Best accuracy: 0.9540747411076091 Regularization: 0.01\n",
      "Best accuracy: 0.9572264745610085 Regularization: 0.05\n",
      "Best accuracy: 0.959702836560108 Regularization: 0.1\n",
      "Best accuracy: 0.959927960378208 Regularization: 0.5\n",
      "Best accuracy: 0.9610535794687078 Regularization: 1\n"
     ]
    },
    {
     "name": "stderr",
     "output_type": "stream",
     "text": [
      "68it [34:10, 32.27s/it]"
     ]
    },
    {
     "name": "stdout",
     "output_type": "stream",
     "text": [
      "CAV accuracy for headboard concept (103): 0.9611\n",
      "[0517_155136] 69/182 Calculating CAV for stairs\n",
      "Best accuracy: 0.7568662764520486 Regularization: 0.001\n",
      "Best accuracy: 0.7730751913552454 Regularization: 0.005\n",
      "Best accuracy: 0.7805042773525439 Regularization: 0.01\n",
      "Best accuracy: 0.7924358397118415 Regularization: 0.05\n",
      "Best accuracy: 0.7933363349842414 Regularization: 0.1\n",
      "Best accuracy: 0.7982890589824403 Regularization: 0.5\n",
      "Best accuracy: 0.7987393066186402 Regularization: 1\n"
     ]
    },
    {
     "name": "stderr",
     "output_type": "stream",
     "text": [
      "69it [34:45, 33.07s/it]"
     ]
    },
    {
     "name": "stdout",
     "output_type": "stream",
     "text": [
      "Best accuracy: 0.79986492570914 Regularization: 5\n",
      "CAV accuracy for stairs concept (104): 0.7999\n",
      "[0517_155211] 70/182 Calculating CAV for license plate\n",
      "Best accuracy: 0.9110760918505177 Regularization: 0.001\n",
      "Best accuracy: 0.9236830256641153 Regularization: 0.005\n",
      "Best accuracy: 0.9270598829356146 Regularization: 0.01\n",
      "Best accuracy: 0.9383160738406123 Regularization: 0.05\n",
      "Best accuracy: 0.9407924358397118 Regularization: 0.1\n",
      "Best accuracy: 0.9434939216569113 Regularization: 0.5\n",
      "Best accuracy: 0.9443944169293111 Regularization: 1\n",
      "Best accuracy: 0.9448446645655111 Regularization: 3\n"
     ]
    },
    {
     "name": "stderr",
     "output_type": "stream",
     "text": [
      "70it [35:17, 32.53s/it]"
     ]
    },
    {
     "name": "stdout",
     "output_type": "stream",
     "text": [
      "Best accuracy: 0.9470959027465106 Regularization: 5\n",
      "CAV accuracy for license plate concept (106): 0.9471\n",
      "[0517_155242] 71/182 Calculating CAV for plate\n",
      "Best accuracy: 0.8561458802341287 Regularization: 0.001\n",
      "Best accuracy: 0.8703286807744259 Regularization: 0.005\n",
      "Best accuracy: 0.874831157136425 Regularization: 0.01\n",
      "Best accuracy: 0.884961728950923 Regularization: 0.05\n",
      "Best accuracy: 0.8903647005853219 Regularization: 0.1\n",
      "Best accuracy: 0.9018460153084197 Regularization: 0.5\n",
      "Best accuracy: 0.9040972534894192 Regularization: 1\n",
      "Best accuracy: 0.9058982440342188 Regularization: 3\n"
     ]
    },
    {
     "name": "stderr",
     "output_type": "stream",
     "text": [
      "71it [35:50, 32.79s/it]"
     ]
    },
    {
     "name": "stdout",
     "output_type": "stream",
     "text": [
      "CAV accuracy for plate concept (107): 0.9059\n",
      "[0517_155315] 72/182 Calculating CAV for top\n",
      "Best accuracy: 0.7962629446195407 Regularization: 0.001\n",
      "Best accuracy: 0.8131472309770373 Regularization: 0.005\n",
      "Best accuracy: 0.8196758217019361 Regularization: 0.01\n",
      "Best accuracy: 0.8381359747861323 Regularization: 0.05\n",
      "Best accuracy: 0.8426384511481315 Regularization: 0.1\n",
      "Best accuracy: 0.8484916704187303 Regularization: 0.5\n",
      "Best accuracy: 0.8489419180549302 Regularization: 1\n",
      "Best accuracy: 0.8516434038721297 Regularization: 3\n"
     ]
    },
    {
     "name": "stderr",
     "output_type": "stream",
     "text": [
      "72it [36:27, 33.99s/it]"
     ]
    },
    {
     "name": "stdout",
     "output_type": "stream",
     "text": [
      "Best accuracy: 0.8523187753264295 Regularization: 5\n",
      "CAV accuracy for top concept (108): 0.8523\n",
      "[0517_155352] 73/182 Calculating CAV for bowl\n",
      "Best accuracy: 0.8509680324178298 Regularization: 0.001\n",
      "Best accuracy: 0.8608734804142278 Regularization: 0.005\n",
      "Best accuracy: 0.8662764520486268 Regularization: 0.01\n",
      "Best accuracy: 0.8775326429536245 Regularization: 0.05\n",
      "Best accuracy: 0.8845114813147231 Regularization: 0.1\n",
      "Best accuracy: 0.8957676722197209 Regularization: 0.5\n",
      "Best accuracy: 0.8991445294912201 Regularization: 1\n",
      "Best accuracy: 0.9018460153084197 Regularization: 3\n"
     ]
    },
    {
     "name": "stderr",
     "output_type": "stream",
     "text": [
      "73it [37:03, 34.70s/it]"
     ]
    },
    {
     "name": "stdout",
     "output_type": "stream",
     "text": [
      "Best accuracy: 0.9029716343989194 Regularization: 5\n",
      "CAV accuracy for bowl concept (109): 0.9030\n",
      "[0517_155429] 74/182 Calculating CAV for screen\n",
      "Best accuracy: 0.9009455200360198 Regularization: 0.001\n",
      "Best accuracy: 0.9162539396668168 Regularization: 0.005\n",
      "Best accuracy: 0.9243583971184152 Regularization: 0.01\n",
      "Best accuracy: 0.9356145880234129 Regularization: 0.05\n",
      "Best accuracy: 0.9414678072940117 Regularization: 0.1\n",
      "Best accuracy: 0.9509230076542098 Regularization: 0.5\n",
      "Best accuracy: 0.9531742458352094 Regularization: 1\n",
      "Best accuracy: 0.955425484016209 Regularization: 3\n"
     ]
    },
    {
     "name": "stderr",
     "output_type": "stream",
     "text": [
      "74it [37:39, 35.08s/it]"
     ]
    },
    {
     "name": "stdout",
     "output_type": "stream",
     "text": [
      "CAV accuracy for screen concept (110): 0.9554\n",
      "[0517_155504] 75/182 Calculating CAV for clock\n",
      "Best accuracy: 0.7370553804592526 Regularization: 0.001\n",
      "Best accuracy: 0.7602431337235479 Regularization: 0.005\n",
      "Best accuracy: 0.7712742008104457 Regularization: 0.01\n",
      "Best accuracy: 0.784556506078343 Regularization: 0.05\n",
      "Best accuracy: 0.7877082395317424 Regularization: 0.1\n",
      "Best accuracy: 0.7892841062584421 Regularization: 0.5\n",
      "Best accuracy: 0.7908599729851419 Regularization: 1\n"
     ]
    },
    {
     "name": "stderr",
     "output_type": "stream",
     "text": [
      "75it [38:13, 34.62s/it]"
     ]
    },
    {
     "name": "stdout",
     "output_type": "stream",
     "text": [
      "CAV accuracy for clock concept (111): 0.7909\n",
      "[0517_155538] 76/182 Calculating CAV for bag\n",
      "Best accuracy: 0.7917604682575416 Regularization: 0.001\n",
      "Best accuracy: 0.8180999549752364 Regularization: 0.005\n",
      "Best accuracy: 0.8246285457001351 Regularization: 0.01\n",
      "Best accuracy: 0.8356596127870328 Regularization: 0.05\n",
      "Best accuracy: 0.8361098604232328 Regularization: 0.1\n",
      "Best accuracy: 0.8446645655110311 Regularization: 0.5\n"
     ]
    },
    {
     "name": "stderr",
     "output_type": "stream",
     "text": [
      "76it [38:52, 36.06s/it]"
     ]
    },
    {
     "name": "stdout",
     "output_type": "stream",
     "text": [
      "Best accuracy: 0.8457901846015309 Regularization: 5\n",
      "CAV accuracy for bag concept (112): 0.8458\n",
      "[0517_155617] 77/182 Calculating CAV for pillar\n",
      "Best accuracy: 0.8039171544349392 Regularization: 0.001\n",
      "Best accuracy: 0.8153984691580369 Regularization: 0.005\n",
      "Best accuracy: 0.8255290409725349 Regularization: 0.01\n",
      "Best accuracy: 0.8304817649707339 Regularization: 0.05\n",
      "Best accuracy: 0.8325078793336335 Regularization: 0.1\n"
     ]
    },
    {
     "name": "stderr",
     "output_type": "stream",
     "text": [
      "77it [39:26, 35.41s/it]"
     ]
    },
    {
     "name": "stdout",
     "output_type": "stream",
     "text": [
      "CAV accuracy for pillar concept (113): 0.8325\n",
      "[0517_155651] 78/182 Calculating CAV for seat cushion\n",
      "Best accuracy: 0.8923908149482215 Regularization: 0.001\n",
      "Best accuracy: 0.905222872579919 Regularization: 0.005\n",
      "Best accuracy: 0.9099504727600181 Regularization: 0.01\n",
      "Best accuracy: 0.9216569113012156 Regularization: 0.05\n",
      "Best accuracy: 0.9272850067537145 Regularization: 0.1\n",
      "Best accuracy: 0.9329131022062134 Regularization: 0.5\n",
      "Best accuracy: 0.9342638451148132 Regularization: 1\n",
      "Best accuracy: 0.934939216569113 Regularization: 3\n"
     ]
    },
    {
     "name": "stderr",
     "output_type": "stream",
     "text": [
      "78it [40:00, 34.87s/it]"
     ]
    },
    {
     "name": "stdout",
     "output_type": "stream",
     "text": [
      "Best accuracy: 0.9365150832958127 Regularization: 5\n",
      "CAV accuracy for seat cushion concept (114): 0.9365\n",
      "[0517_155725] 79/182 Calculating CAV for bicycle\n",
      "Best accuracy: 0.8354344889689329 Regularization: 0.001\n",
      "Best accuracy: 0.8579468707789284 Regularization: 0.005\n",
      "Best accuracy: 0.8667266996848266 Regularization: 0.01\n",
      "Best accuracy: 0.8930661864025213 Regularization: 0.05\n",
      "Best accuracy: 0.9034218820351193 Regularization: 0.1\n",
      "Best accuracy: 0.9196307969383161 Regularization: 0.5\n",
      "Best accuracy: 0.9252588923908149 Regularization: 1\n",
      "Best accuracy: 0.9317874831157137 Regularization: 3\n"
     ]
    },
    {
     "name": "stderr",
     "output_type": "stream",
     "text": [
      "79it [40:38, 35.99s/it]"
     ]
    },
    {
     "name": "stdout",
     "output_type": "stream",
     "text": [
      "Best accuracy: 0.9338135974786133 Regularization: 5\n",
      "CAV accuracy for bicycle concept (115): 0.9338\n",
      "[0517_155804] 80/182 Calculating CAV for stove\n",
      "Best accuracy: 0.964655560558307 Regularization: 0.001\n",
      "Best accuracy: 0.9707339036470058 Regularization: 0.005\n",
      "Best accuracy: 0.9734353894642053 Regularization: 0.01\n",
      "Best accuracy: 0.9779378658262045 Regularization: 0.05\n",
      "Best accuracy: 0.979963980189104 Regularization: 0.1\n",
      "Best accuracy: 0.9806393516434039 Regularization: 0.5\n",
      "Best accuracy: 0.9808644754615038 Regularization: 1\n"
     ]
    },
    {
     "name": "stderr",
     "output_type": "stream",
     "text": [
      "80it [41:04, 32.82s/it]"
     ]
    },
    {
     "name": "stdout",
     "output_type": "stream",
     "text": [
      "CAV accuracy for stove concept (116): 0.9809\n",
      "[0517_155829] 81/182 Calculating CAV for coffee table\n",
      "Best accuracy: 0.9081494822152184 Regularization: 0.001\n",
      "Best accuracy: 0.9189554254840162 Regularization: 0.005\n",
      "Best accuracy: 0.9209815398469158 Regularization: 0.01\n",
      "Best accuracy: 0.9315623592976137 Regularization: 0.05\n",
      "Best accuracy: 0.9356145880234129 Regularization: 0.1\n",
      "Best accuracy: 0.9398919405673121 Regularization: 0.5\n",
      "Best accuracy: 0.940117064385412 Regularization: 1\n",
      "Best accuracy: 0.9432687978388113 Regularization: 3\n"
     ]
    },
    {
     "name": "stderr",
     "output_type": "stream",
     "text": [
      "81it [41:34, 31.99s/it]"
     ]
    },
    {
     "name": "stdout",
     "output_type": "stream",
     "text": [
      "CAV accuracy for coffee table concept (118): 0.9433\n",
      "[0517_155859] 82/182 Calculating CAV for ashcan\n",
      "Best accuracy: 0.7760018009905448 Regularization: 0.001\n",
      "Best accuracy: 0.7888338586222422 Regularization: 0.005\n",
      "Best accuracy: 0.7935614588023413 Regularization: 0.01\n",
      "Best accuracy: 0.8054930211616389 Regularization: 0.05\n",
      "Best accuracy: 0.8115713642503377 Regularization: 0.1\n",
      "Best accuracy: 0.8147230977037371 Regularization: 0.5\n",
      "Best accuracy: 0.8171994597028366 Regularization: 1\n",
      "Best accuracy: 0.8194506978838361 Regularization: 3\n"
     ]
    },
    {
     "name": "stderr",
     "output_type": "stream",
     "text": [
      "82it [42:08, 32.53s/it]"
     ]
    },
    {
     "name": "stdout",
     "output_type": "stream",
     "text": [
      "Best accuracy: 0.819900945520036 Regularization: 5\n",
      "CAV accuracy for ashcan concept (119): 0.8199\n",
      "[0517_155933] 83/182 Calculating CAV for roof\n",
      "Best accuracy: 0.8491670418730302 Regularization: 0.001\n",
      "Best accuracy: 0.8710040522287258 Regularization: 0.005\n",
      "Best accuracy: 0.879783881134624 Regularization: 0.01\n",
      "Best accuracy: 0.9009455200360198 Regularization: 0.05\n",
      "Best accuracy: 0.9045475011256191 Regularization: 0.1\n",
      "Best accuracy: 0.9173795587573165 Regularization: 0.5\n",
      "Best accuracy: 0.9207564160288159 Regularization: 1\n"
     ]
    },
    {
     "name": "stderr",
     "output_type": "stream",
     "text": [
      "83it [42:44, 33.86s/it]"
     ]
    },
    {
     "name": "stdout",
     "output_type": "stream",
     "text": [
      "Best accuracy: 0.9214317874831157 Regularization: 5\n",
      "CAV accuracy for roof concept (120): 0.9214\n",
      "[0517_160010] 84/182 Calculating CAV for bench\n",
      "Best accuracy: 0.7809545249887438 Regularization: 0.001\n",
      "Best accuracy: 0.8014407924358398 Regularization: 0.005\n",
      "Best accuracy: 0.805042773525439 Regularization: 0.01\n",
      "Best accuracy: 0.8135974786132373 Regularization: 0.05\n"
     ]
    },
    {
     "name": "stderr",
     "output_type": "stream",
     "text": [
      "84it [43:20, 34.34s/it]"
     ]
    },
    {
     "name": "stdout",
     "output_type": "stream",
     "text": [
      "CAV accuracy for bench concept (121): 0.8136\n",
      "[0517_160045] 85/182 Calculating CAV for spotlight\n",
      "Best accuracy: 0.7946870778928411 Regularization: 0.001\n",
      "Best accuracy: 0.815173345339937 Regularization: 0.005\n",
      "Best accuracy: 0.8230526789734354 Regularization: 0.01\n",
      "Best accuracy: 0.830256641152634 Regularization: 0.05\n",
      "Best accuracy: 0.8307068887888338 Regularization: 0.1\n",
      "Best accuracy: 0.8343088698784331 Regularization: 0.5\n",
      "Best accuracy: 0.834984241332733 Regularization: 1\n",
      "Best accuracy: 0.835209365150833 Regularization: 3\n"
     ]
    },
    {
     "name": "stderr",
     "output_type": "stream",
     "text": [
      "85it [43:58, 35.58s/it]"
     ]
    },
    {
     "name": "stdout",
     "output_type": "stream",
     "text": [
      "Best accuracy: 0.8354344889689329 Regularization: 5\n",
      "CAV accuracy for spotlight concept (122): 0.8354\n",
      "[0517_160124] 86/182 Calculating CAV for boat\n",
      "Best accuracy: 0.9356145880234129 Regularization: 0.001\n",
      "Best accuracy: 0.9468707789284107 Regularization: 0.005\n",
      "Best accuracy: 0.94979738856371 Regularization: 0.01\n",
      "Best accuracy: 0.9585772174696083 Regularization: 0.05\n",
      "Best accuracy: 0.9588023412877082 Regularization: 0.1\n",
      "Best accuracy: 0.9612787032868078 Regularization: 0.5\n",
      "Best accuracy: 0.965105808194507 Regularization: 1\n",
      "Best accuracy: 0.9671319225574065 Regularization: 3\n"
     ]
    },
    {
     "name": "stderr",
     "output_type": "stream",
     "text": [
      "86it [44:32, 34.87s/it]"
     ]
    },
    {
     "name": "stdout",
     "output_type": "stream",
     "text": [
      "Best accuracy: 0.9675821701936065 Regularization: 5\n",
      "CAV accuracy for boat concept (123): 0.9676\n",
      "[0517_160157] 87/182 Calculating CAV for basket\n",
      "Best accuracy: 0.7791535344439442 Regularization: 0.001\n",
      "Best accuracy: 0.8034669067987393 Regularization: 0.005\n",
      "Best accuracy: 0.8122467357046376 Regularization: 0.01\n",
      "Best accuracy: 0.834759117514633 Regularization: 0.05\n",
      "Best accuracy: 0.8446645655110311 Regularization: 0.1\n",
      "Best accuracy: 0.8527690229626295 Regularization: 0.5\n",
      "Best accuracy: 0.855245384961729 Regularization: 1\n",
      "Best accuracy: 0.8556956325979289 Regularization: 3\n"
     ]
    },
    {
     "name": "stderr",
     "output_type": "stream",
     "text": [
      "87it [45:11, 36.37s/it]"
     ]
    },
    {
     "name": "stdout",
     "output_type": "stream",
     "text": [
      "CAV accuracy for basket concept (124): 0.8557\n",
      "[0517_160237] 88/182 Calculating CAV for work surface\n",
      "Best accuracy: 0.9628545700135074 Regularization: 0.001\n",
      "Best accuracy: 0.9673570463755066 Regularization: 0.005\n",
      "Best accuracy: 0.9707339036470058 Regularization: 0.01\n",
      "Best accuracy: 0.9745610085547051 Regularization: 0.05\n",
      "Best accuracy: 0.9768122467357047 Regularization: 0.1\n",
      "Best accuracy: 0.9792886087348042 Regularization: 0.5\n",
      "Best accuracy: 0.9806393516434039 Regularization: 1\n"
     ]
    },
    {
     "name": "stderr",
     "output_type": "stream",
     "text": [
      "88it [45:36, 32.87s/it]"
     ]
    },
    {
     "name": "stdout",
     "output_type": "stream",
     "text": [
      "CAV accuracy for work surface concept (125): 0.9806\n",
      "[0517_160302] 89/182 Calculating CAV for desk\n",
      "Best accuracy: 0.8532192705988294 Regularization: 0.001\n",
      "Best accuracy: 0.8689779378658262 Regularization: 0.005\n",
      "Best accuracy: 0.879783881134624 Regularization: 0.01\n",
      "Best accuracy: 0.8973435389464205 Regularization: 0.05\n",
      "Best accuracy: 0.9018460153084197 Regularization: 0.1\n",
      "Best accuracy: 0.9074741107609186 Regularization: 0.5\n",
      "Best accuracy: 0.9110760918505177 Regularization: 1\n",
      "Best accuracy: 0.914678072940117 Regularization: 3\n"
     ]
    },
    {
     "name": "stderr",
     "output_type": "stream",
     "text": [
      "89it [46:11, 33.31s/it]"
     ]
    },
    {
     "name": "stdout",
     "output_type": "stream",
     "text": [
      "Best accuracy: 0.915128320576317 Regularization: 5\n",
      "CAV accuracy for desk concept (127): 0.9151\n",
      "[0517_160336] 90/182 Calculating CAV for house\n",
      "Best accuracy: 0.8493921656911301 Regularization: 0.001\n",
      "Best accuracy: 0.8660513282305268 Regularization: 0.005\n",
      "Best accuracy: 0.8728050427735254 Regularization: 0.01\n",
      "Best accuracy: 0.8876632147681225 Regularization: 0.05\n",
      "Best accuracy: 0.8919405673120216 Regularization: 0.1\n",
      "Best accuracy: 0.8977937865826204 Regularization: 0.5\n",
      "Best accuracy: 0.8986942818550203 Regularization: 1\n",
      "Best accuracy: 0.9011706438541197 Regularization: 3\n"
     ]
    },
    {
     "name": "stderr",
     "output_type": "stream",
     "text": [
      "90it [46:45, 33.59s/it]"
     ]
    },
    {
     "name": "stdout",
     "output_type": "stream",
     "text": [
      "Best accuracy: 0.9020711391265196 Regularization: 5\n",
      "CAV accuracy for house concept (131): 0.9021\n",
      "[0517_160410] 91/182 Calculating CAV for plaything\n",
      "Best accuracy: 0.8876632147681225 Regularization: 0.001\n",
      "Best accuracy: 0.9076992345790185 Regularization: 0.005\n",
      "Best accuracy: 0.9158036920306168 Regularization: 0.01\n",
      "Best accuracy: 0.9320126069338136 Regularization: 0.05\n",
      "Best accuracy: 0.9369653309320126 Regularization: 0.1\n",
      "Best accuracy: 0.9488968932913102 Regularization: 0.5\n",
      "Best accuracy: 0.95002251238181 Regularization: 1\n",
      "Best accuracy: 0.954975236380009 Regularization: 3\n"
     ]
    },
    {
     "name": "stderr",
     "output_type": "stream",
     "text": [
      "91it [47:25, 35.66s/it]"
     ]
    },
    {
     "name": "stdout",
     "output_type": "stream",
     "text": [
      "Best accuracy: 0.9567762269248087 Regularization: 5\n",
      "CAV accuracy for plaything concept (132): 0.9568\n",
      "[0517_160451] 92/182 Calculating CAV for pane\n",
      "Best accuracy: 0.7933363349842414 Regularization: 0.001\n",
      "Best accuracy: 0.8126969833408375 Regularization: 0.005\n",
      "Best accuracy: 0.8201260693381359 Regularization: 0.01\n",
      "Best accuracy: 0.8379108509680324 Regularization: 0.05\n",
      "Best accuracy: 0.8435389464205313 Regularization: 0.1\n",
      "Best accuracy: 0.8496172895092301 Regularization: 0.5\n",
      "Best accuracy: 0.8525438991445294 Regularization: 1\n",
      "Best accuracy: 0.8541197658712292 Regularization: 3\n"
     ]
    },
    {
     "name": "stderr",
     "output_type": "stream",
     "text": [
      "92it [48:03, 36.32s/it]"
     ]
    },
    {
     "name": "stdout",
     "output_type": "stream",
     "text": [
      "Best accuracy: 0.855245384961729 Regularization: 5\n",
      "CAV accuracy for pane concept (133): 0.8552\n",
      "[0517_160528] 93/182 Calculating CAV for sea\n",
      "Best accuracy: 0.9502476361999099 Regularization: 0.001\n",
      "Best accuracy: 0.9583520936515083 Regularization: 0.005\n",
      "Best accuracy: 0.960153084196308 Regularization: 0.01\n",
      "Best accuracy: 0.9673570463755066 Regularization: 0.05\n",
      "Best accuracy: 0.970058532192706 Regularization: 0.1\n",
      "Best accuracy: 0.9707339036470058 Regularization: 0.5\n",
      "Best accuracy: 0.9718595227375056 Regularization: 3\n"
     ]
    },
    {
     "name": "stderr",
     "output_type": "stream",
     "text": [
      "93it [48:31, 33.73s/it]"
     ]
    },
    {
     "name": "stdout",
     "output_type": "stream",
     "text": [
      "CAV accuracy for sea concept (135): 0.9719\n",
      "[0517_160556] 94/182 Calculating CAV for double door\n",
      "Best accuracy: 0.75033768572715 Regularization: 0.001\n",
      "Best accuracy: 0.774876181900045 Regularization: 0.005\n",
      "Best accuracy: 0.7863574966231427 Regularization: 0.01\n",
      "Best accuracy: 0.8054930211616389 Regularization: 0.05\n",
      "Best accuracy: 0.8120216118865375 Regularization: 0.1\n",
      "Best accuracy: 0.8212516884286357 Regularization: 0.5\n",
      "Best accuracy: 0.8250787933363349 Regularization: 1\n",
      "Best accuracy: 0.8284556506078343 Regularization: 3\n"
     ]
    },
    {
     "name": "stderr",
     "output_type": "stream",
     "text": [
      "94it [49:08, 34.62s/it]"
     ]
    },
    {
     "name": "stdout",
     "output_type": "stream",
     "text": [
      "CAV accuracy for double door concept (136): 0.8285\n",
      "[0517_160633] 95/182 Calculating CAV for rim\n",
      "Best accuracy: 0.9182800540297164 Regularization: 0.001\n",
      "Best accuracy: 0.9320126069338136 Regularization: 0.005\n",
      "Best accuracy: 0.9369653309320126 Regularization: 0.01\n",
      "Best accuracy: 0.9491220171094101 Regularization: 0.05\n",
      "Best accuracy: 0.9545249887438091 Regularization: 0.1\n",
      "Best accuracy: 0.9574515983791085 Regularization: 0.5\n"
     ]
    },
    {
     "name": "stderr",
     "output_type": "stream",
     "text": [
      "95it [49:39, 33.82s/it]"
     ]
    },
    {
     "name": "stdout",
     "output_type": "stream",
     "text": [
      "CAV accuracy for rim concept (137): 0.9575\n",
      "[0517_160705] 96/182 Calculating CAV for television\n",
      "Best accuracy: 0.8221521837010356 Regularization: 0.001\n",
      "Best accuracy: 0.8520936515083296 Regularization: 0.005\n",
      "Best accuracy: 0.8638000900495273 Regularization: 0.01\n",
      "Best accuracy: 0.8806843764070239 Regularization: 0.05\n",
      "Best accuracy: 0.8874380909500225 Regularization: 0.1\n",
      "Best accuracy: 0.9009455200360198 Regularization: 0.5\n",
      "Best accuracy: 0.9043223773075192 Regularization: 1\n",
      "Best accuracy: 0.9083746060333183 Regularization: 3\n"
     ]
    },
    {
     "name": "stderr",
     "output_type": "stream",
     "text": [
      "96it [50:17, 34.80s/it]"
     ]
    },
    {
     "name": "stdout",
     "output_type": "stream",
     "text": [
      "Best accuracy: 0.9095002251238181 Regularization: 5\n",
      "CAV accuracy for television concept (138): 0.9095\n",
      "[0517_160742] 97/182 Calculating CAV for taillight\n",
      "Best accuracy: 0.9040972534894192 Regularization: 0.001\n",
      "Best accuracy: 0.9164790634849167 Regularization: 0.005\n",
      "Best accuracy: 0.9216569113012156 Regularization: 0.01\n",
      "Best accuracy: 0.9338135974786133 Regularization: 0.05\n",
      "Best accuracy: 0.9383160738406123 Regularization: 0.1\n",
      "Best accuracy: 0.9443944169293111 Regularization: 0.5\n",
      "Best accuracy: 0.9464205312922107 Regularization: 1\n",
      "Best accuracy: 0.9484466456551103 Regularization: 3\n"
     ]
    },
    {
     "name": "stderr",
     "output_type": "stream",
     "text": [
      "97it [50:49, 34.13s/it]"
     ]
    },
    {
     "name": "stdout",
     "output_type": "stream",
     "text": [
      "CAV accuracy for taillight concept (139): 0.9484\n",
      "[0517_160814] 98/182 Calculating CAV for back pillow\n",
      "Best accuracy: 0.914678072940117 Regularization: 0.001\n",
      "Best accuracy: 0.9295362449347141 Regularization: 0.005\n",
      "Best accuracy: 0.9344889689329131 Regularization: 0.01\n",
      "Best accuracy: 0.9461954074741108 Regularization: 0.05\n",
      "Best accuracy: 0.9479963980189104 Regularization: 0.1\n",
      "Best accuracy: 0.9522737505628095 Regularization: 0.5\n"
     ]
    },
    {
     "name": "stderr",
     "output_type": "stream",
     "text": [
      "98it [51:25, 34.63s/it]"
     ]
    },
    {
     "name": "stdout",
     "output_type": "stream",
     "text": [
      "CAV accuracy for back pillow concept (140): 0.9523\n",
      "[0517_160850] 99/182 Calculating CAV for chandelier\n",
      "Best accuracy: 0.8964430436740207 Regularization: 0.001\n",
      "Best accuracy: 0.9113012156686178 Regularization: 0.005\n",
      "Best accuracy: 0.9182800540297164 Regularization: 0.01\n",
      "Best accuracy: 0.9308869878433138 Regularization: 0.05\n",
      "Best accuracy: 0.9342638451148132 Regularization: 0.1\n",
      "Best accuracy: 0.9394416929311121 Regularization: 0.5\n",
      "Best accuracy: 0.9410175596578118 Regularization: 1\n",
      "Best accuracy: 0.9412426834759118 Regularization: 3\n"
     ]
    },
    {
     "name": "stderr",
     "output_type": "stream",
     "text": [
      "99it [51:59, 34.34s/it]"
     ]
    },
    {
     "name": "stdout",
     "output_type": "stream",
     "text": [
      "Best accuracy: 0.9419180549302116 Regularization: 5\n",
      "CAV accuracy for chandelier concept (141): 0.9419\n",
      "[0517_160924] 100/182 Calculating CAV for balcony\n",
      "Best accuracy: 0.8766321476812247 Regularization: 0.001\n",
      "Best accuracy: 0.8912651958577218 Regularization: 0.005\n",
      "Best accuracy: 0.8935164340387213 Regularization: 0.01\n",
      "Best accuracy: 0.904997748761819 Regularization: 0.05\n",
      "Best accuracy: 0.910175596578118 Regularization: 0.1\n",
      "Best accuracy: 0.9131022062134174 Regularization: 0.5\n",
      "Best accuracy: 0.9133273300315173 Regularization: 1\n",
      "Best accuracy: 0.9167041873030166 Regularization: 3\n"
     ]
    },
    {
     "name": "stderr",
     "output_type": "stream",
     "text": [
      "100it [52:34, 34.54s/it]"
     ]
    },
    {
     "name": "stdout",
     "output_type": "stream",
     "text": [
      "Best accuracy: 0.9194056731202161 Regularization: 5\n",
      "CAV accuracy for balcony concept (142): 0.9194\n",
      "[0517_160959] 101/182 Calculating CAV for windshield\n",
      "Best accuracy: 0.8971184151283206 Regularization: 0.001\n",
      "Best accuracy: 0.9092751013057181 Regularization: 0.005\n",
      "Best accuracy: 0.915128320576317 Regularization: 0.01\n",
      "Best accuracy: 0.9243583971184152 Regularization: 0.05\n",
      "Best accuracy: 0.9279603782080144 Regularization: 0.1\n",
      "Best accuracy: 0.9326879783881135 Regularization: 0.5\n",
      "Best accuracy: 0.9342638451148132 Regularization: 1\n",
      "Best accuracy: 0.9367402071139127 Regularization: 3\n"
     ]
    },
    {
     "name": "stderr",
     "output_type": "stream",
     "text": [
      "101it [53:06, 33.83s/it]"
     ]
    },
    {
     "name": "stdout",
     "output_type": "stream",
     "text": [
      "Best accuracy: 0.9398919405673121 Regularization: 5\n",
      "CAV accuracy for windshield concept (143): 0.9399\n",
      "[0517_161031] 102/182 Calculating CAV for switch\n",
      "Best accuracy: 0.7791535344439442 Regularization: 0.001\n",
      "Best accuracy: 0.80031517334534 Regularization: 0.005\n",
      "Best accuracy: 0.8131472309770373 Regularization: 0.01\n",
      "Best accuracy: 0.8417379558757316 Regularization: 0.05\n",
      "Best accuracy: 0.8525438991445294 Regularization: 0.1\n",
      "Best accuracy: 0.8656010805943268 Regularization: 0.5\n",
      "Best accuracy: 0.870103556956326 Regularization: 1\n",
      "Best accuracy: 0.8730301665916254 Regularization: 3\n"
     ]
    },
    {
     "name": "stderr",
     "output_type": "stream",
     "text": [
      "102it [53:47, 36.03s/it]"
     ]
    },
    {
     "name": "stdout",
     "output_type": "stream",
     "text": [
      "Best accuracy: 0.8739306618640252 Regularization: 5\n",
      "CAV accuracy for switch concept (144): 0.8739\n",
      "[0517_161112] 103/182 Calculating CAV for path\n",
      "Best accuracy: 0.8271049076992346 Regularization: 0.001\n",
      "Best accuracy: 0.8527690229626295 Regularization: 0.005\n",
      "Best accuracy: 0.8619990995047276 Regularization: 0.01\n",
      "Best accuracy: 0.8820351193156236 Regularization: 0.05\n",
      "Best accuracy: 0.8872129671319225 Regularization: 0.1\n",
      "Best accuracy: 0.8964430436740207 Regularization: 0.5\n",
      "Best accuracy: 0.90004502476362 Regularization: 1\n",
      "Best accuracy: 0.9013957676722197 Regularization: 3\n"
     ]
    },
    {
     "name": "stderr",
     "output_type": "stream",
     "text": [
      "103it [54:25, 36.64s/it]"
     ]
    },
    {
     "name": "stdout",
     "output_type": "stream",
     "text": [
      "CAV accuracy for path concept (146): 0.9014\n",
      "[0517_161150] 104/182 Calculating CAV for stairway\n",
      "Best accuracy: 0.8147230977037371 Regularization: 0.001\n",
      "Best accuracy: 0.8354344889689329 Regularization: 0.005\n",
      "Best accuracy: 0.8430886987843313 Regularization: 0.01\n",
      "Best accuracy: 0.8565961278703287 Regularization: 0.05\n",
      "Best accuracy: 0.8622242233228276 Regularization: 0.1\n",
      "Best accuracy: 0.8665015758667267 Regularization: 0.5\n",
      "Best accuracy: 0.8674020711391265 Regularization: 1\n",
      "Best accuracy: 0.8676271949572265 Regularization: 3\n"
     ]
    },
    {
     "name": "stderr",
     "output_type": "stream",
     "text": [
      "104it [55:04, 37.23s/it]"
     ]
    },
    {
     "name": "stdout",
     "output_type": "stream",
     "text": [
      "CAV accuracy for stairway concept (147): 0.8676\n",
      "[0517_161229] 105/182 Calculating CAV for van\n",
      "Best accuracy: 0.8482665466006304 Regularization: 0.001\n",
      "Best accuracy: 0.8570463755065286 Regularization: 0.005\n",
      "Best accuracy: 0.865150832958127 Regularization: 0.01\n",
      "Best accuracy: 0.8795587573165241 Regularization: 0.05\n",
      "Best accuracy: 0.8887888338586223 Regularization: 0.1\n",
      "Best accuracy: 0.8957676722197209 Regularization: 0.5\n",
      "Best accuracy: 0.8975686627645205 Regularization: 1\n",
      "Best accuracy: 0.8986942818550203 Regularization: 3\n"
     ]
    },
    {
     "name": "stderr",
     "output_type": "stream",
     "text": [
      "105it [55:37, 36.13s/it]"
     ]
    },
    {
     "name": "stdout",
     "output_type": "stream",
     "text": [
      "CAV accuracy for van concept (149): 0.8987\n",
      "[0517_161302] 106/182 Calculating CAV for door frame\n",
      "Best accuracy: 0.8012156686177397 Regularization: 0.001\n",
      "Best accuracy: 0.8282305267897343 Regularization: 0.005\n",
      "Best accuracy: 0.8385862224223323 Regularization: 0.01\n",
      "Best accuracy: 0.8610986042323278 Regularization: 0.05\n",
      "Best accuracy: 0.8703286807744259 Regularization: 0.1\n",
      "Best accuracy: 0.8766321476812247 Regularization: 0.5\n",
      "Best accuracy: 0.8782080144079244 Regularization: 1\n",
      "Best accuracy: 0.8806843764070239 Regularization: 3\n"
     ]
    },
    {
     "name": "stderr",
     "output_type": "stream",
     "text": [
      "106it [56:14, 36.34s/it]"
     ]
    },
    {
     "name": "stdout",
     "output_type": "stream",
     "text": [
      "Best accuracy: 0.8824853669518236 Regularization: 5\n",
      "CAV accuracy for door frame concept (151): 0.8825\n",
      "[0517_161339] 107/182 Calculating CAV for chest of drawers\n",
      "Best accuracy: 0.8480414227825304 Regularization: 0.001\n",
      "Best accuracy: 0.8707789284106259 Regularization: 0.005\n",
      "Best accuracy: 0.8793336334984241 Regularization: 0.01\n",
      "Best accuracy: 0.8941918054930211 Regularization: 0.05\n",
      "Best accuracy: 0.8984691580369203 Regularization: 0.1\n",
      "Best accuracy: 0.9122017109410175 Regularization: 0.5\n",
      "Best accuracy: 0.915128320576317 Regularization: 1\n",
      "Best accuracy: 0.9182800540297164 Regularization: 3\n"
     ]
    },
    {
     "name": "stderr",
     "output_type": "stream",
     "text": [
      "107it [56:51, 36.56s/it]"
     ]
    },
    {
     "name": "stdout",
     "output_type": "stream",
     "text": [
      "Best accuracy: 0.9189554254840162 Regularization: 5\n",
      "CAV accuracy for chest of drawers concept (152): 0.9190\n",
      "[0517_161416] 108/182 Calculating CAV for truck\n",
      "Best accuracy: 0.8496172895092301 Regularization: 0.001\n",
      "Best accuracy: 0.8714542998649257 Regularization: 0.005\n",
      "Best accuracy: 0.8809095002251238 Regularization: 0.01\n",
      "Best accuracy: 0.9004952723998199 Regularization: 0.05\n",
      "Best accuracy: 0.9076992345790185 Regularization: 0.1\n",
      "Best accuracy: 0.9225574065736155 Regularization: 0.5\n",
      "Best accuracy: 0.9252588923908149 Regularization: 1\n",
      "Best accuracy: 0.9306618640252139 Regularization: 3\n"
     ]
    },
    {
     "name": "stderr",
     "output_type": "stream",
     "text": [
      "108it [57:28, 36.54s/it]"
     ]
    },
    {
     "name": "stdout",
     "output_type": "stream",
     "text": [
      "Best accuracy: 0.9333633498424133 Regularization: 5\n",
      "CAV accuracy for truck concept (153): 0.9334\n",
      "[0517_161453] 109/182 Calculating CAV for awning\n",
      "Best accuracy: 0.8527690229626295 Regularization: 0.001\n",
      "Best accuracy: 0.8685276902296263 Regularization: 0.005\n",
      "Best accuracy: 0.8739306618640252 Regularization: 0.01\n",
      "Best accuracy: 0.885186852769023 Regularization: 0.05\n",
      "Best accuracy: 0.889689329131022 Regularization: 0.1\n",
      "Best accuracy: 0.8986942818550203 Regularization: 0.5\n",
      "Best accuracy: 0.9016208914903197 Regularization: 1\n",
      "Best accuracy: 0.904772624943719 Regularization: 3\n"
     ]
    },
    {
     "name": "stderr",
     "output_type": "stream",
     "text": [
      "109it [58:02, 35.99s/it]"
     ]
    },
    {
     "name": "stdout",
     "output_type": "stream",
     "text": [
      "Best accuracy: 0.9067987393066187 Regularization: 5\n",
      "CAV accuracy for awning concept (155): 0.9068\n",
      "[0517_161528] 110/182 Calculating CAV for traffic light\n",
      "Best accuracy: 0.8937415578568213 Regularization: 0.001\n",
      "Best accuracy: 0.9070238631247186 Regularization: 0.005\n",
      "Best accuracy: 0.9133273300315173 Regularization: 0.01\n",
      "Best accuracy: 0.9277352543899144 Regularization: 0.05\n",
      "Best accuracy: 0.9358397118415128 Regularization: 0.1\n",
      "Best accuracy: 0.9452949122017109 Regularization: 0.5\n",
      "Best accuracy: 0.9493471409275102 Regularization: 1\n",
      "Best accuracy: 0.9533993696533093 Regularization: 3\n"
     ]
    },
    {
     "name": "stderr",
     "output_type": "stream",
     "text": [
      "110it [58:34, 34.80s/it]"
     ]
    },
    {
     "name": "stdout",
     "output_type": "stream",
     "text": [
      "Best accuracy: 0.9558757316524088 Regularization: 5\n",
      "CAV accuracy for traffic light concept (156): 0.9559\n",
      "[0517_161600] 111/182 Calculating CAV for bannister\n",
      "Best accuracy: 0.8012156686177397 Regularization: 0.001\n",
      "Best accuracy: 0.8334083746060333 Regularization: 0.005\n",
      "Best accuracy: 0.8381359747861323 Regularization: 0.01\n",
      "Best accuracy: 0.8559207564160288 Regularization: 0.05\n",
      "Best accuracy: 0.8604232327780279 Regularization: 0.1\n",
      "Best accuracy: 0.8667266996848266 Regularization: 0.5\n",
      "Best accuracy: 0.8669518235029267 Regularization: 1\n",
      "Best accuracy: 0.8712291760468257 Regularization: 3\n"
     ]
    },
    {
     "name": "stderr",
     "output_type": "stream",
     "text": [
      "111it [59:12, 35.64s/it]"
     ]
    },
    {
     "name": "stdout",
     "output_type": "stream",
     "text": [
      "Best accuracy: 0.8721296713192256 Regularization: 5\n",
      "CAV accuracy for bannister concept (157): 0.8721\n",
      "[0517_161637] 112/182 Calculating CAV for seat base\n",
      "Best accuracy: 0.9288608734804142 Regularization: 0.001\n",
      "Best accuracy: 0.9428185502026114 Regularization: 0.005\n",
      "Best accuracy: 0.9459702836560108 Regularization: 0.01\n",
      "Best accuracy: 0.9536244934714093 Regularization: 0.05\n",
      "Best accuracy: 0.9565511031067087 Regularization: 0.1\n",
      "Best accuracy: 0.9608284556506078 Regularization: 0.5\n"
     ]
    },
    {
     "name": "stderr",
     "output_type": "stream",
     "text": [
      "112it [59:42, 33.96s/it]"
     ]
    },
    {
     "name": "stdout",
     "output_type": "stream",
     "text": [
      "CAV accuracy for seat base concept (159): 0.9608\n",
      "[0517_161707] 113/182 Calculating CAV for poster\n",
      "Best accuracy: 0.7784781629896443 Regularization: 0.001\n",
      "Best accuracy: 0.8104457451598379 Regularization: 0.005\n",
      "Best accuracy: 0.8271049076992346 Regularization: 0.01\n",
      "Best accuracy: 0.8509680324178298 Regularization: 0.05\n",
      "Best accuracy: 0.8565961278703287 Regularization: 0.1\n",
      "Best accuracy: 0.8766321476812247 Regularization: 0.5\n",
      "Best accuracy: 0.8829356145880234 Regularization: 1\n",
      "Best accuracy: 0.8903647005853219 Regularization: 3\n"
     ]
    },
    {
     "name": "stderr",
     "output_type": "stream",
     "text": [
      "113it [1:00:26, 36.92s/it]"
     ]
    },
    {
     "name": "stdout",
     "output_type": "stream",
     "text": [
      "Best accuracy: 0.8919405673120216 Regularization: 5\n",
      "CAV accuracy for poster concept (160): 0.8919\n",
      "[0517_161751] 114/182 Calculating CAV for flag\n",
      "Best accuracy: 0.7665466006303467 Regularization: 0.001\n",
      "Best accuracy: 0.80031517334534 Regularization: 0.005\n",
      "Best accuracy: 0.8192255740657362 Regularization: 0.01\n",
      "Best accuracy: 0.8559207564160288 Regularization: 0.05\n",
      "Best accuracy: 0.8635749662314273 Regularization: 0.1\n",
      "Best accuracy: 0.8782080144079244 Regularization: 0.5\n",
      "Best accuracy: 0.8829356145880234 Regularization: 1\n",
      "Best accuracy: 0.8867627194957226 Regularization: 3\n"
     ]
    },
    {
     "name": "stderr",
     "output_type": "stream",
     "text": [
      "114it [1:01:04, 37.34s/it]"
     ]
    },
    {
     "name": "stdout",
     "output_type": "stream",
     "text": [
      "Best accuracy: 0.8885637100405223 Regularization: 5\n",
      "CAV accuracy for flag concept (161): 0.8886\n",
      "[0517_161829] 115/182 Calculating CAV for inside arm\n",
      "Best accuracy: 0.9203061683926159 Regularization: 0.001\n",
      "Best accuracy: 0.9371904547501125 Regularization: 0.005\n",
      "Best accuracy: 0.9432687978388113 Regularization: 0.01\n",
      "Best accuracy: 0.9524988743809095 Regularization: 0.05\n",
      "Best accuracy: 0.9561008554705088 Regularization: 0.1\n",
      "Best accuracy: 0.9579018460153084 Regularization: 0.5\n",
      "Best accuracy: 0.9594777127420081 Regularization: 3\n"
     ]
    },
    {
     "name": "stderr",
     "output_type": "stream",
     "text": [
      "115it [1:01:41, 37.19s/it]"
     ]
    },
    {
     "name": "stdout",
     "output_type": "stream",
     "text": [
      "CAV accuracy for inside arm concept (162): 0.9595\n",
      "[0517_161906] 116/182 Calculating CAV for drinking glass\n",
      "Best accuracy: 0.8142728500675371 Regularization: 0.001\n",
      "Best accuracy: 0.8367852318775326 Regularization: 0.005\n",
      "Best accuracy: 0.8446645655110311 Regularization: 0.01\n",
      "Best accuracy: 0.8692030616839261 Regularization: 0.05\n",
      "Best accuracy: 0.8806843764070239 Regularization: 0.1\n",
      "Best accuracy: 0.890139576767222 Regularization: 0.5\n",
      "Best accuracy: 0.8930661864025213 Regularization: 1\n",
      "Best accuracy: 0.8953174245835209 Regularization: 3\n"
     ]
    },
    {
     "name": "stderr",
     "output_type": "stream",
     "text": [
      "116it [1:02:22, 38.34s/it]"
     ]
    },
    {
     "name": "stdout",
     "output_type": "stream",
     "text": [
      "Best accuracy: 0.8962179198559208 Regularization: 5\n",
      "CAV accuracy for drinking glass concept (163): 0.8962\n",
      "[0517_161947] 117/182 Calculating CAV for telephone\n",
      "Best accuracy: 0.8059432687978388 Regularization: 0.001\n",
      "Best accuracy: 0.8361098604232328 Regularization: 0.005\n",
      "Best accuracy: 0.8529941467807294 Regularization: 0.01\n",
      "Best accuracy: 0.8822602431337235 Regularization: 0.05\n",
      "Best accuracy: 0.8881134624043224 Regularization: 0.1\n",
      "Best accuracy: 0.9009455200360198 Regularization: 0.5\n",
      "Best accuracy: 0.9072489869428185 Regularization: 1\n",
      "Best accuracy: 0.9126519585772175 Regularization: 3\n"
     ]
    },
    {
     "name": "stderr",
     "output_type": "stream",
     "text": [
      "117it [1:03:02, 38.77s/it]"
     ]
    },
    {
     "name": "stdout",
     "output_type": "stream",
     "text": [
      "Best accuracy: 0.914678072940117 Regularization: 5\n",
      "CAV accuracy for telephone concept (164): 0.9147\n",
      "[0517_162027] 118/182 Calculating CAV for towel\n",
      "Best accuracy: 0.8838361098604233 Regularization: 0.001\n",
      "Best accuracy: 0.9029716343989194 Regularization: 0.005\n",
      "Best accuracy: 0.9122017109410175 Regularization: 0.01\n",
      "Best accuracy: 0.9243583971184152 Regularization: 0.05\n",
      "Best accuracy: 0.9293111211166142 Regularization: 0.1\n",
      "Best accuracy: 0.9376407023863125 Regularization: 0.5\n",
      "Best accuracy: 0.939666816749212 Regularization: 1\n",
      "Best accuracy: 0.9412426834759118 Regularization: 3\n"
     ]
    },
    {
     "name": "stderr",
     "output_type": "stream",
     "text": [
      "118it [1:03:39, 38.29s/it]"
     ]
    },
    {
     "name": "stdout",
     "output_type": "stream",
     "text": [
      "Best accuracy: 0.9423683025664116 Regularization: 5\n",
      "CAV accuracy for towel concept (165): 0.9424\n",
      "[0517_162104] 119/182 Calculating CAV for frame\n",
      "Best accuracy: 0.8005402971634399 Regularization: 0.001\n",
      "Best accuracy: 0.830256641152634 Regularization: 0.005\n",
      "Best accuracy: 0.8437640702386312 Regularization: 0.01\n",
      "Best accuracy: 0.8705538045925258 Regularization: 0.05\n",
      "Best accuracy: 0.8795587573165241 Regularization: 0.1\n",
      "Best accuracy: 0.8935164340387213 Regularization: 0.5\n",
      "Best accuracy: 0.8993696533093202 Regularization: 1\n",
      "Best accuracy: 0.9004952723998199 Regularization: 3\n"
     ]
    },
    {
     "name": "stderr",
     "output_type": "stream",
     "text": [
      "119it [1:04:27, 41.16s/it]"
     ]
    },
    {
     "name": "stdout",
     "output_type": "stream",
     "text": [
      "Best accuracy: 0.9016208914903197 Regularization: 5\n",
      "CAV accuracy for frame concept (166): 0.9016\n",
      "[0517_162152] 120/182 Calculating CAV for bush\n",
      "Best accuracy: 0.8374606033318325 Regularization: 0.001\n",
      "Best accuracy: 0.8662764520486268 Regularization: 0.005\n",
      "Best accuracy: 0.8764070238631247 Regularization: 0.01\n",
      "Best accuracy: 0.8939666816749212 Regularization: 0.05\n",
      "Best accuracy: 0.9016208914903197 Regularization: 0.1\n",
      "Best accuracy: 0.915128320576317 Regularization: 0.5\n",
      "Best accuracy: 0.9189554254840162 Regularization: 1\n",
      "Best accuracy: 0.9241332733003151 Regularization: 3\n"
     ]
    },
    {
     "name": "stderr",
     "output_type": "stream",
     "text": [
      "120it [1:05:01, 39.15s/it]"
     ]
    },
    {
     "name": "stdout",
     "output_type": "stream",
     "text": [
      "Best accuracy: 0.9268347591175147 Regularization: 5\n",
      "CAV accuracy for bush concept (169): 0.9268\n",
      "[0517_162227] 121/182 Calculating CAV for bucket\n",
      "Best accuracy: 0.8187753264295362 Regularization: 0.001\n",
      "Best accuracy: 0.8446645655110311 Regularization: 0.005\n",
      "Best accuracy: 0.8579468707789284 Regularization: 0.01\n",
      "Best accuracy: 0.880009004952724 Regularization: 0.05\n",
      "Best accuracy: 0.8858622242233228 Regularization: 0.1\n",
      "Best accuracy: 0.8975686627645205 Regularization: 0.5\n",
      "Best accuracy: 0.9009455200360198 Regularization: 1\n",
      "Best accuracy: 0.9058982440342188 Regularization: 3\n"
     ]
    },
    {
     "name": "stderr",
     "output_type": "stream",
     "text": [
      "121it [1:05:43, 39.83s/it]"
     ]
    },
    {
     "name": "stdout",
     "output_type": "stream",
     "text": [
      "Best accuracy: 0.9061233678523187 Regularization: 5\n",
      "CAV accuracy for bucket concept (170): 0.9061\n",
      "[0517_162308] 122/182 Calculating CAV for field\n",
      "Best accuracy: 0.8977937865826204 Regularization: 0.001\n",
      "Best accuracy: 0.9135524538496173 Regularization: 0.005\n",
      "Best accuracy: 0.9185051778478163 Regularization: 0.01\n",
      "Best accuracy: 0.9338135974786133 Regularization: 0.05\n",
      "Best accuracy: 0.9407924358397118 Regularization: 0.1\n",
      "Best accuracy: 0.9477712742008104 Regularization: 0.5\n",
      "Best accuracy: 0.95002251238181 Regularization: 1\n",
      "Best accuracy: 0.9513732552904097 Regularization: 3\n"
     ]
    },
    {
     "name": "stderr",
     "output_type": "stream",
     "text": [
      "122it [1:06:16, 37.96s/it]"
     ]
    },
    {
     "name": "stdout",
     "output_type": "stream",
     "text": [
      "Best accuracy: 0.9518235029266097 Regularization: 5\n",
      "CAV accuracy for field concept (172): 0.9518\n",
      "[0517_162342] 123/182 Calculating CAV for stool\n",
      "Best accuracy: 0.7766771724448447 Regularization: 0.001\n",
      "Best accuracy: 0.8117964880684376 Regularization: 0.005\n",
      "Best accuracy: 0.8282305267897343 Regularization: 0.01\n",
      "Best accuracy: 0.8617739756866276 Regularization: 0.05\n",
      "Best accuracy: 0.870103556956326 Regularization: 0.1\n",
      "Best accuracy: 0.8831607384061234 Regularization: 0.5\n",
      "Best accuracy: 0.885186852769023 Regularization: 1\n",
      "Best accuracy: 0.889914452949122 Regularization: 3\n"
     ]
    },
    {
     "name": "stderr",
     "output_type": "stream",
     "text": [
      "123it [1:06:59, 39.32s/it]"
     ]
    },
    {
     "name": "stdout",
     "output_type": "stream",
     "text": [
      "Best accuracy: 0.8914903196758217 Regularization: 5\n",
      "CAV accuracy for stool concept (173): 0.8915\n",
      "[0517_162424] 124/182 Calculating CAV for tray\n",
      "Best accuracy: 0.8115713642503377 Regularization: 0.001\n",
      "Best accuracy: 0.8370103556956326 Regularization: 0.005\n",
      "Best accuracy: 0.8487167942368302 Regularization: 0.01\n",
      "Best accuracy: 0.8671769473210266 Regularization: 0.05\n",
      "Best accuracy: 0.8734804142278253 Regularization: 0.1\n",
      "Best accuracy: 0.889689329131022 Regularization: 0.5\n",
      "Best accuracy: 0.8910400720396218 Regularization: 1\n",
      "Best accuracy: 0.8941918054930211 Regularization: 3\n"
     ]
    },
    {
     "name": "stderr",
     "output_type": "stream",
     "text": [
      "124it [1:07:38, 39.38s/it]"
     ]
    },
    {
     "name": "stdout",
     "output_type": "stream",
     "text": [
      "Best accuracy: 0.8944169293111212 Regularization: 5\n",
      "CAV accuracy for tray concept (174): 0.8944\n",
      "[0517_162504] 125/182 Calculating CAV for pedestal\n",
      "Best accuracy: 0.8068437640702386 Regularization: 0.001\n",
      "Best accuracy: 0.8268797838811346 Regularization: 0.005\n",
      "Best accuracy: 0.8381359747861323 Regularization: 0.01\n",
      "Best accuracy: 0.8541197658712292 Regularization: 0.05\n",
      "Best accuracy: 0.8606483565961278 Regularization: 0.1\n",
      "Best accuracy: 0.8703286807744259 Regularization: 0.5\n",
      "Best accuracy: 0.8721296713192256 Regularization: 3\n"
     ]
    },
    {
     "name": "stderr",
     "output_type": "stream",
     "text": [
      "125it [1:08:18, 39.51s/it]"
     ]
    },
    {
     "name": "stdout",
     "output_type": "stream",
     "text": [
      "Best accuracy: 0.8730301665916254 Regularization: 5\n",
      "CAV accuracy for pedestal concept (175): 0.8730\n",
      "[0517_162543] 126/182 Calculating CAV for fireplace\n",
      "Best accuracy: 0.9063484916704188 Regularization: 0.001\n",
      "Best accuracy: 0.9230076542098155 Regularization: 0.005\n",
      "Best accuracy: 0.9308869878433138 Regularization: 0.01\n",
      "Best accuracy: 0.9452949122017109 Regularization: 0.05\n",
      "Best accuracy: 0.95047276001801 Regularization: 0.1\n",
      "Best accuracy: 0.9576767221972085 Regularization: 0.5\n",
      "Best accuracy: 0.960153084196308 Regularization: 1\n",
      "Best accuracy: 0.9621791985592075 Regularization: 3\n"
     ]
    },
    {
     "name": "stderr",
     "output_type": "stream",
     "text": [
      "126it [1:08:53, 38.12s/it]"
     ]
    },
    {
     "name": "stdout",
     "output_type": "stream",
     "text": [
      "Best accuracy: 0.9635299414678073 Regularization: 5\n",
      "CAV accuracy for fireplace concept (176): 0.9635\n",
      "[0517_162618] 127/182 Calculating CAV for outside arm\n",
      "Best accuracy: 0.9223322827555155 Regularization: 0.001\n",
      "Best accuracy: 0.9344889689329131 Regularization: 0.005\n",
      "Best accuracy: 0.9414678072940117 Regularization: 0.01\n",
      "Best accuracy: 0.9522737505628095 Regularization: 0.05\n",
      "Best accuracy: 0.954750112561909 Regularization: 0.1\n",
      "Best accuracy: 0.9590274651058082 Regularization: 0.5\n",
      "Best accuracy: 0.9603782080144079 Regularization: 3\n"
     ]
    },
    {
     "name": "stderr",
     "output_type": "stream",
     "text": [
      "127it [1:09:23, 35.83s/it]"
     ]
    },
    {
     "name": "stdout",
     "output_type": "stream",
     "text": [
      "Best accuracy: 0.9612787032868078 Regularization: 5\n",
      "CAV accuracy for outside arm concept (177): 0.9613\n",
      "[0517_162649] 128/182 Calculating CAV for trade name\n",
      "Best accuracy: 0.8806843764070239 Regularization: 0.001\n",
      "Best accuracy: 0.895092300765421 Regularization: 0.005\n",
      "Best accuracy: 0.9004952723998199 Regularization: 0.01\n",
      "Best accuracy: 0.9176046825754165 Regularization: 0.05\n",
      "Best accuracy: 0.9234579018460153 Regularization: 0.1\n",
      "Best accuracy: 0.9322377307519135 Regularization: 0.5\n",
      "Best accuracy: 0.9353894642053129 Regularization: 1\n",
      "Best accuracy: 0.9383160738406123 Regularization: 3\n"
     ]
    },
    {
     "name": "stderr",
     "output_type": "stream",
     "text": [
      "128it [1:09:56, 34.95s/it]"
     ]
    },
    {
     "name": "stdout",
     "output_type": "stream",
     "text": [
      "CAV accuracy for trade name concept (178): 0.9383\n",
      "[0517_162722] 129/182 Calculating CAV for oven\n",
      "Best accuracy: 0.9709590274651058 Regularization: 0.001\n",
      "Best accuracy: 0.975011256190905 Regularization: 0.005\n",
      "Best accuracy: 0.9768122467357047 Regularization: 0.01\n",
      "Best accuracy: 0.9806393516434039 Regularization: 0.05\n",
      "Best accuracy: 0.9815398469158036 Regularization: 0.1\n",
      "Best accuracy: 0.9833408374606033 Regularization: 0.5\n"
     ]
    },
    {
     "name": "stderr",
     "output_type": "stream",
     "text": [
      "129it [1:10:22, 32.06s/it]"
     ]
    },
    {
     "name": "stdout",
     "output_type": "stream",
     "text": [
      "CAV accuracy for oven concept (179): 0.9833\n",
      "[0517_162747] 130/182 Calculating CAV for keyboard\n",
      "Best accuracy: 0.95002251238181 Regularization: 0.001\n",
      "Best accuracy: 0.9594777127420081 Regularization: 0.005\n",
      "Best accuracy: 0.9639801891040072 Regularization: 0.01\n",
      "Best accuracy: 0.9736605132823053 Regularization: 0.05\n",
      "Best accuracy: 0.9770373705538046 Regularization: 0.1\n",
      "Best accuracy: 0.9810895992796038 Regularization: 0.5\n",
      "Best accuracy: 0.9819900945520036 Regularization: 1\n",
      "Best accuracy: 0.9835659612787033 Regularization: 3\n"
     ]
    },
    {
     "name": "stderr",
     "output_type": "stream",
     "text": [
      "130it [1:10:49, 30.76s/it]"
     ]
    },
    {
     "name": "stdout",
     "output_type": "stream",
     "text": [
      "Best accuracy: 0.9837910850968032 Regularization: 5\n",
      "CAV accuracy for keyboard concept (180): 0.9838\n",
      "[0517_162815] 131/182 Calculating CAV for footboard\n",
      "Best accuracy: 0.9182800540297164 Regularization: 0.001\n",
      "Best accuracy: 0.9275101305718145 Regularization: 0.005\n",
      "Best accuracy: 0.9306618640252139 Regularization: 0.01\n",
      "Best accuracy: 0.9439441692931112 Regularization: 0.05\n",
      "Best accuracy: 0.9491220171094101 Regularization: 0.1\n",
      "Best accuracy: 0.9565511031067087 Regularization: 0.5\n",
      "Best accuracy: 0.9590274651058082 Regularization: 1\n",
      "Best accuracy: 0.9606033318325079 Regularization: 3\n"
     ]
    },
    {
     "name": "stderr",
     "output_type": "stream",
     "text": [
      "131it [1:11:21, 30.96s/it]"
     ]
    },
    {
     "name": "stdout",
     "output_type": "stream",
     "text": [
      "Best accuracy: 0.9626294461954075 Regularization: 5\n",
      "CAV accuracy for footboard concept (181): 0.9626\n",
      "[0517_162846] 132/182 Calculating CAV for fan\n",
      "Best accuracy: 0.8194506978838361 Regularization: 0.001\n",
      "Best accuracy: 0.85029266096353 Regularization: 0.005\n",
      "Best accuracy: 0.8660513282305268 Regularization: 0.01\n",
      "Best accuracy: 0.8926159387663215 Regularization: 0.05\n",
      "Best accuracy: 0.9013957676722197 Regularization: 0.1\n",
      "Best accuracy: 0.9189554254840162 Regularization: 0.5\n",
      "Best accuracy: 0.9254840162089149 Regularization: 1\n",
      "Best accuracy: 0.929761368752814 Regularization: 3\n"
     ]
    },
    {
     "name": "stderr",
     "output_type": "stream",
     "text": [
      "132it [1:11:59, 33.21s/it]"
     ]
    },
    {
     "name": "stdout",
     "output_type": "stream",
     "text": [
      "Best accuracy: 0.9315623592976137 Regularization: 5\n",
      "CAV accuracy for fan concept (182): 0.9316\n",
      "[0517_162925] 133/182 Calculating CAV for bathtub\n",
      "Best accuracy: 0.9563259792886087 Regularization: 0.001\n",
      "Best accuracy: 0.9617289509230077 Regularization: 0.005\n",
      "Best accuracy: 0.9639801891040072 Regularization: 0.01\n",
      "Best accuracy: 0.9682575416479063 Regularization: 0.05\n",
      "Best accuracy: 0.9705087798289059 Regularization: 0.1\n",
      "Best accuracy: 0.9734353894642053 Regularization: 0.5\n",
      "Best accuracy: 0.9745610085547051 Regularization: 1\n"
     ]
    },
    {
     "name": "stderr",
     "output_type": "stream",
     "text": [
      "133it [1:12:26, 31.31s/it]"
     ]
    },
    {
     "name": "stdout",
     "output_type": "stream",
     "text": [
      "CAV accuracy for bathtub concept (189): 0.9746\n",
      "[0517_162951] 134/182 Calculating CAV for toilet\n",
      "Best accuracy: 0.9635299414678073 Regularization: 0.001\n",
      "Best accuracy: 0.9653309320126069 Regularization: 0.005\n",
      "Best accuracy: 0.9675821701936065 Regularization: 0.01\n",
      "Best accuracy: 0.9725348941918055 Regularization: 0.05\n",
      "Best accuracy: 0.9743358847366052 Regularization: 0.1\n",
      "Best accuracy: 0.9786132372805043 Regularization: 0.5\n"
     ]
    },
    {
     "name": "stderr",
     "output_type": "stream",
     "text": [
      "134it [1:12:52, 29.76s/it]"
     ]
    },
    {
     "name": "stdout",
     "output_type": "stream",
     "text": [
      "CAV accuracy for toilet concept (190): 0.9786\n",
      "[0517_163018] 135/182 Calculating CAV for refrigerator\n",
      "Best accuracy: 0.9239081494822152 Regularization: 0.001\n",
      "Best accuracy: 0.9335884736605132 Regularization: 0.005\n",
      "Best accuracy: 0.9365150832958127 Regularization: 0.01\n",
      "Best accuracy: 0.9470959027465106 Regularization: 0.05\n",
      "Best accuracy: 0.9515983791085096 Regularization: 0.1\n",
      "Best accuracy: 0.9563259792886087 Regularization: 0.5\n",
      "Best accuracy: 0.9585772174696083 Regularization: 1\n",
      "Best accuracy: 0.9594777127420081 Regularization: 3\n"
     ]
    },
    {
     "name": "stderr",
     "output_type": "stream",
     "text": [
      "135it [1:13:25, 30.61s/it]"
     ]
    },
    {
     "name": "stdout",
     "output_type": "stream",
     "text": [
      "Best accuracy: 0.9619540747411076 Regularization: 5\n",
      "CAV accuracy for refrigerator concept (191): 0.9620\n",
      "[0517_163050] 136/182 Calculating CAV for apron\n",
      "Best accuracy: 0.8556956325979289 Regularization: 0.001\n",
      "Best accuracy: 0.8721296713192256 Regularization: 0.005\n",
      "Best accuracy: 0.8782080144079244 Regularization: 0.01\n",
      "Best accuracy: 0.89981990094552 Regularization: 0.05\n",
      "Best accuracy: 0.9081494822152184 Regularization: 0.1\n",
      "Best accuracy: 0.9214317874831157 Regularization: 0.5\n",
      "Best accuracy: 0.9252588923908149 Regularization: 1\n",
      "Best accuracy: 0.9311121116614138 Regularization: 3\n"
     ]
    },
    {
     "name": "stderr",
     "output_type": "stream",
     "text": [
      "136it [1:14:03, 32.96s/it]"
     ]
    },
    {
     "name": "stdout",
     "output_type": "stream",
     "text": [
      "Best accuracy: 0.9331382260243134 Regularization: 5\n",
      "CAV accuracy for apron concept (194): 0.9331\n",
      "[0517_163129] 137/182 Calculating CAV for counter\n",
      "Best accuracy: 0.8316073840612337 Regularization: 0.001\n",
      "Best accuracy: 0.8610986042323278 Regularization: 0.005\n",
      "Best accuracy: 0.8734804142278253 Regularization: 0.01\n",
      "Best accuracy: 0.9016208914903197 Regularization: 0.05\n",
      "Best accuracy: 0.9076992345790185 Regularization: 0.1\n",
      "Best accuracy: 0.920531292210716 Regularization: 0.5\n",
      "Best accuracy: 0.924808644754615 Regularization: 1\n",
      "Best accuracy: 0.9306618640252139 Regularization: 3\n"
     ]
    },
    {
     "name": "stderr",
     "output_type": "stream",
     "text": [
      "137it [1:14:44, 35.30s/it]"
     ]
    },
    {
     "name": "stdout",
     "output_type": "stream",
     "text": [
      "Best accuracy: 0.9313372354795137 Regularization: 5\n",
      "CAV accuracy for counter concept (195): 0.9313\n",
      "[0517_163209] 138/182 Calculating CAV for wardrobe\n",
      "Best accuracy: 0.8464655560558307 Regularization: 0.001\n",
      "Best accuracy: 0.8719045475011257 Regularization: 0.005\n",
      "Best accuracy: 0.8840612336785232 Regularization: 0.01\n",
      "Best accuracy: 0.9067987393066187 Regularization: 0.05\n",
      "Best accuracy: 0.915128320576317 Regularization: 0.1\n",
      "Best accuracy: 0.9306618640252139 Regularization: 0.5\n",
      "Best accuracy: 0.9353894642053129 Regularization: 1\n",
      "Best accuracy: 0.9405673120216119 Regularization: 3\n"
     ]
    },
    {
     "name": "stderr",
     "output_type": "stream",
     "text": [
      "138it [1:15:21, 35.79s/it]"
     ]
    },
    {
     "name": "stdout",
     "output_type": "stream",
     "text": [
      "Best accuracy: 0.9432687978388113 Regularization: 5\n",
      "CAV accuracy for wardrobe concept (197): 0.9433\n",
      "[0517_163246] 139/182 Calculating CAV for candlestick\n",
      "Best accuracy: 0.8719045475011257 Regularization: 0.001\n",
      "Best accuracy: 0.889914452949122 Regularization: 0.005\n",
      "Best accuracy: 0.8991445294912201 Regularization: 0.01\n",
      "Best accuracy: 0.914678072940117 Regularization: 0.05\n",
      "Best accuracy: 0.920531292210716 Regularization: 0.1\n",
      "Best accuracy: 0.9286357496623143 Regularization: 0.5\n",
      "Best accuracy: 0.9331382260243134 Regularization: 1\n",
      "Best accuracy: 0.940117064385412 Regularization: 3\n"
     ]
    },
    {
     "name": "stderr",
     "output_type": "stream",
     "text": [
      "139it [1:16:00, 36.67s/it]"
     ]
    },
    {
     "name": "stdout",
     "output_type": "stream",
     "text": [
      "Best accuracy: 0.9419180549302116 Regularization: 5\n",
      "CAV accuracy for candlestick concept (198): 0.9419\n",
      "[0517_163325] 140/182 Calculating CAV for computer\n",
      "Best accuracy: 0.95047276001801 Regularization: 0.001\n",
      "Best accuracy: 0.9621791985592075 Regularization: 0.005\n",
      "Best accuracy: 0.9664565511031067 Regularization: 0.01\n",
      "Best accuracy: 0.9763619990995047 Regularization: 0.05\n",
      "Best accuracy: 0.980414227825304 Regularization: 0.1\n",
      "Best accuracy: 0.9835659612787033 Regularization: 0.5\n",
      "Best accuracy: 0.984691580369203 Regularization: 1\n"
     ]
    },
    {
     "name": "stderr",
     "output_type": "stream",
     "text": [
      "140it [1:16:27, 33.93s/it]"
     ]
    },
    {
     "name": "stdout",
     "output_type": "stream",
     "text": [
      "CAV accuracy for computer concept (199): 0.9847\n",
      "[0517_163353] 141/182 Calculating CAV for palm\n",
      "Best accuracy: 0.8529941467807294 Regularization: 0.001\n",
      "Best accuracy: 0.8885637100405223 Regularization: 0.005\n",
      "Best accuracy: 0.9027465105808195 Regularization: 0.01\n",
      "Best accuracy: 0.9216569113012156 Regularization: 0.05\n",
      "Best accuracy: 0.9279603782080144 Regularization: 0.1\n",
      "Best accuracy: 0.9358397118415128 Regularization: 0.5\n",
      "Best accuracy: 0.9414678072940117 Regularization: 1\n",
      "Best accuracy: 0.9470959027465106 Regularization: 3\n"
     ]
    },
    {
     "name": "stderr",
     "output_type": "stream",
     "text": [
      "141it [1:17:05, 34.98s/it]"
     ]
    },
    {
     "name": "stdout",
     "output_type": "stream",
     "text": [
      "Best accuracy: 0.9479963980189104 Regularization: 5\n",
      "CAV accuracy for palm concept (200): 0.9480\n",
      "[0517_163430] 142/182 Calculating CAV for shop window\n",
      "Best accuracy: 0.9099504727600181 Regularization: 0.001\n",
      "Best accuracy: 0.9261593876632148 Regularization: 0.005\n",
      "Best accuracy: 0.9313372354795137 Regularization: 0.01\n",
      "Best accuracy: 0.9439441692931112 Regularization: 0.05\n",
      "Best accuracy: 0.9484466456551103 Regularization: 0.1\n",
      "Best accuracy: 0.9590274651058082 Regularization: 0.5\n",
      "Best accuracy: 0.9610535794687078 Regularization: 1\n",
      "Best accuracy: 0.9633048176497073 Regularization: 3\n"
     ]
    },
    {
     "name": "stderr",
     "output_type": "stream",
     "text": [
      "142it [1:17:35, 33.59s/it]"
     ]
    },
    {
     "name": "stdout",
     "output_type": "stream",
     "text": [
      "Best accuracy: 0.9657811796488068 Regularization: 5\n",
      "CAV accuracy for shop window concept (201): 0.9658\n",
      "[0517_163500] 143/182 Calculating CAV for board\n",
      "Best accuracy: 0.8140477262494372 Regularization: 0.001\n",
      "Best accuracy: 0.84984241332733 Regularization: 0.005\n",
      "Best accuracy: 0.8653759567762269 Regularization: 0.01\n",
      "Best accuracy: 0.8975686627645205 Regularization: 0.05\n",
      "Best accuracy: 0.9045475011256191 Regularization: 0.1\n",
      "Best accuracy: 0.9187303016659163 Regularization: 0.5\n",
      "Best accuracy: 0.9266096352994146 Regularization: 1\n",
      "Best accuracy: 0.935164340387213 Regularization: 3\n"
     ]
    },
    {
     "name": "stderr",
     "output_type": "stream",
     "text": [
      "143it [1:18:15, 35.67s/it]"
     ]
    },
    {
     "name": "stdout",
     "output_type": "stream",
     "text": [
      "Best accuracy: 0.9387663214768123 Regularization: 5\n",
      "CAV accuracy for board concept (204): 0.9388\n",
      "[0517_163541] 144/182 Calculating CAV for blind\n",
      "Best accuracy: 0.795362449347141 Regularization: 0.001\n",
      "Best accuracy: 0.8241782980639352 Regularization: 0.005\n",
      "Best accuracy: 0.8394867176947322 Regularization: 0.01\n",
      "Best accuracy: 0.8746060333183251 Regularization: 0.05\n",
      "Best accuracy: 0.8874380909500225 Regularization: 0.1\n",
      "Best accuracy: 0.905222872579919 Regularization: 0.5\n",
      "Best accuracy: 0.9115263394867177 Regularization: 1\n",
      "Best accuracy: 0.9176046825754165 Regularization: 3\n"
     ]
    },
    {
     "name": "stderr",
     "output_type": "stream",
     "text": [
      "144it [1:18:58, 37.83s/it]"
     ]
    },
    {
     "name": "stdout",
     "output_type": "stream",
     "text": [
      "Best accuracy: 0.9182800540297164 Regularization: 5\n",
      "CAV accuracy for blind concept (205): 0.9183\n",
      "[0517_163624] 145/182 Calculating CAV for chimney\n",
      "Best accuracy: 0.8570463755065286 Regularization: 0.001\n",
      "Best accuracy: 0.8824853669518236 Regularization: 0.005\n",
      "Best accuracy: 0.8937415578568213 Regularization: 0.01\n",
      "Best accuracy: 0.9171544349392166 Regularization: 0.05\n",
      "Best accuracy: 0.924808644754615 Regularization: 0.1\n",
      "Best accuracy: 0.9403421882035119 Regularization: 0.5\n",
      "Best accuracy: 0.9446195407474111 Regularization: 1\n",
      "Best accuracy: 0.9479963980189104 Regularization: 3\n"
     ]
    },
    {
     "name": "stderr",
     "output_type": "stream",
     "text": [
      "145it [1:19:35, 37.60s/it]"
     ]
    },
    {
     "name": "stdout",
     "output_type": "stream",
     "text": [
      "Best accuracy: 0.9491220171094101 Regularization: 5\n",
      "CAV accuracy for chimney concept (206): 0.9491\n",
      "[0517_163701] 146/182 Calculating CAV for microwave\n",
      "Best accuracy: 0.9561008554705088 Regularization: 0.001\n",
      "Best accuracy: 0.9635299414678073 Regularization: 0.005\n",
      "Best accuracy: 0.9666816749212067 Regularization: 0.01\n",
      "Best accuracy: 0.9709590274651058 Regularization: 0.05\n",
      "Best accuracy: 0.9743358847366052 Regularization: 0.1\n",
      "Best accuracy: 0.9786132372805043 Regularization: 0.5\n",
      "Best accuracy: 0.9788383610986042 Regularization: 1\n",
      "Best accuracy: 0.9792886087348042 Regularization: 3\n"
     ]
    },
    {
     "name": "stderr",
     "output_type": "stream",
     "text": [
      "146it [1:20:02, 34.38s/it]"
     ]
    },
    {
     "name": "stdout",
     "output_type": "stream",
     "text": [
      "CAV accuracy for microwave concept (207): 0.9793\n",
      "[0517_163728] 147/182 Calculating CAV for sand\n",
      "Best accuracy: 0.9214317874831157 Regularization: 0.001\n",
      "Best accuracy: 0.9374155785682126 Regularization: 0.005\n",
      "Best accuracy: 0.9423683025664116 Regularization: 0.01\n",
      "Best accuracy: 0.9558757316524088 Regularization: 0.05\n",
      "Best accuracy: 0.959702836560108 Regularization: 0.1\n",
      "Best accuracy: 0.9633048176497073 Regularization: 0.5\n",
      "Best accuracy: 0.965105808194507 Regularization: 1\n",
      "Best accuracy: 0.9657811796488068 Regularization: 3\n"
     ]
    },
    {
     "name": "stderr",
     "output_type": "stream",
     "text": [
      "147it [1:20:41, 35.66s/it]"
     ]
    },
    {
     "name": "stdout",
     "output_type": "stream",
     "text": [
      "Best accuracy: 0.9669067987393066 Regularization: 5\n",
      "CAV accuracy for sand concept (208): 0.9669\n",
      "[0517_163806] 148/182 Calculating CAV for fluorescent\n",
      "Best accuracy: 0.8583971184151283 Regularization: 0.001\n",
      "Best accuracy: 0.8827104907699235 Regularization: 0.005\n",
      "Best accuracy: 0.8883385862224223 Regularization: 0.01\n",
      "Best accuracy: 0.9040972534894192 Regularization: 0.05\n",
      "Best accuracy: 0.9085997298514182 Regularization: 0.1\n",
      "Best accuracy: 0.9232327780279154 Regularization: 0.5\n",
      "Best accuracy: 0.9254840162089149 Regularization: 1\n",
      "Best accuracy: 0.929986492570914 Regularization: 3\n"
     ]
    },
    {
     "name": "stderr",
     "output_type": "stream",
     "text": [
      "148it [1:21:21, 36.98s/it]"
     ]
    },
    {
     "name": "stdout",
     "output_type": "stream",
     "text": [
      "Best accuracy: 0.9324628545700135 Regularization: 5\n",
      "CAV accuracy for fluorescent concept (210): 0.9325\n",
      "[0517_163846] 149/182 Calculating CAV for step\n",
      "Best accuracy: 0.7674470959027465 Regularization: 0.001\n",
      "Best accuracy: 0.8068437640702386 Regularization: 0.005\n",
      "Best accuracy: 0.8226024313372354 Regularization: 0.01\n",
      "Best accuracy: 0.8523187753264295 Regularization: 0.05\n",
      "Best accuracy: 0.8640252138676272 Regularization: 0.1\n",
      "Best accuracy: 0.8820351193156236 Regularization: 0.5\n",
      "Best accuracy: 0.8840612336785232 Regularization: 1\n",
      "Best accuracy: 0.8885637100405223 Regularization: 3\n"
     ]
    },
    {
     "name": "stderr",
     "output_type": "stream",
     "text": [
      "149it [1:22:05, 39.15s/it]"
     ]
    },
    {
     "name": "stdout",
     "output_type": "stream",
     "text": [
      "Best accuracy: 0.8905898244034219 Regularization: 5\n",
      "CAV accuracy for step concept (211): 0.8906\n",
      "[0517_163931] 150/182 Calculating CAV for sculpture\n",
      "Best accuracy: 0.8365601080594327 Regularization: 0.001\n",
      "Best accuracy: 0.8543448896893291 Regularization: 0.005\n",
      "Best accuracy: 0.8642503376857271 Regularization: 0.01\n",
      "Best accuracy: 0.8905898244034219 Regularization: 0.05\n",
      "Best accuracy: 0.89981990094552 Regularization: 0.1\n",
      "Best accuracy: 0.9122017109410175 Regularization: 0.5\n",
      "Best accuracy: 0.9169293111211166 Regularization: 1\n",
      "Best accuracy: 0.9241332733003151 Regularization: 3\n"
     ]
    },
    {
     "name": "stderr",
     "output_type": "stream",
     "text": [
      "150it [1:22:48, 40.31s/it]"
     ]
    },
    {
     "name": "stdout",
     "output_type": "stream",
     "text": [
      "Best accuracy: 0.925033768572715 Regularization: 5\n",
      "CAV accuracy for sculpture concept (212): 0.9250\n",
      "[0517_164014] 151/182 Calculating CAV for countertop\n",
      "Best accuracy: 0.934714092751013 Regularization: 0.001\n",
      "Best accuracy: 0.9410175596578118 Regularization: 0.005\n",
      "Best accuracy: 0.9470959027465106 Regularization: 0.01\n",
      "Best accuracy: 0.9590274651058082 Regularization: 0.05\n",
      "Best accuracy: 0.9617289509230077 Regularization: 0.1\n",
      "Best accuracy: 0.9673570463755066 Regularization: 0.5\n",
      "Best accuracy: 0.9687077892841063 Regularization: 1\n",
      "Best accuracy: 0.9705087798289059 Regularization: 3\n"
     ]
    },
    {
     "name": "stderr",
     "output_type": "stream",
     "text": [
      "151it [1:23:22, 38.30s/it]"
     ]
    },
    {
     "name": "stdout",
     "output_type": "stream",
     "text": [
      "CAV accuracy for countertop concept (214): 0.9705\n",
      "[0517_164047] 152/182 Calculating CAV for swivel chair\n",
      "Best accuracy: 0.9126519585772175 Regularization: 0.001\n",
      "Best accuracy: 0.930211616389014 Regularization: 0.005\n",
      "Best accuracy: 0.934714092751013 Regularization: 0.01\n",
      "Best accuracy: 0.9509230076542098 Regularization: 0.05\n",
      "Best accuracy: 0.9565511031067087 Regularization: 0.1\n",
      "Best accuracy: 0.9655560558307069 Regularization: 0.5\n",
      "Best accuracy: 0.9698334083746061 Regularization: 1\n",
      "Best accuracy: 0.9718595227375056 Regularization: 3\n"
     ]
    },
    {
     "name": "stderr",
     "output_type": "stream",
     "text": [
      "152it [1:23:56, 37.15s/it]"
     ]
    },
    {
     "name": "stdout",
     "output_type": "stream",
     "text": [
      "Best accuracy: 0.9727600180099054 Regularization: 5\n",
      "CAV accuracy for swivel chair concept (216): 0.9728\n",
      "[0517_164122] 153/182 Calculating CAV for lid\n",
      "Best accuracy: 0.9491220171094101 Regularization: 0.001\n",
      "Best accuracy: 0.9540747411076091 Regularization: 0.005\n",
      "Best accuracy: 0.9585772174696083 Regularization: 0.01\n",
      "Best accuracy: 0.9666816749212067 Regularization: 0.05\n",
      "Best accuracy: 0.9684826654660063 Regularization: 0.1\n",
      "Best accuracy: 0.9727600180099054 Regularization: 0.5\n",
      "Best accuracy: 0.9752363800090049 Regularization: 3\n"
     ]
    },
    {
     "name": "stderr",
     "output_type": "stream",
     "text": [
      "153it [1:24:22, 33.84s/it]"
     ]
    },
    {
     "name": "stdout",
     "output_type": "stream",
     "text": [
      "Best accuracy: 0.9761368752814048 Regularization: 5\n",
      "CAV accuracy for lid concept (217): 0.9761\n",
      "[0517_164148] 154/182 Calculating CAV for side\n",
      "Best accuracy: 0.8334083746060333 Regularization: 0.001\n",
      "Best accuracy: 0.8633498424133274 Regularization: 0.005\n",
      "Best accuracy: 0.874831157136425 Regularization: 0.01\n",
      "Best accuracy: 0.9016208914903197 Regularization: 0.05\n",
      "Best accuracy: 0.9106258442143179 Regularization: 0.1\n",
      "Best accuracy: 0.9270598829356146 Regularization: 0.5\n",
      "Best accuracy: 0.9329131022062134 Regularization: 1\n",
      "Best accuracy: 0.9383160738406123 Regularization: 3\n"
     ]
    },
    {
     "name": "stderr",
     "output_type": "stream",
     "text": [
      "154it [1:25:00, 34.96s/it]"
     ]
    },
    {
     "name": "stdout",
     "output_type": "stream",
     "text": [
      "Best accuracy: 0.9392165691130122 Regularization: 5\n",
      "CAV accuracy for side concept (219): 0.9392\n",
      "[0517_164225] 155/182 Calculating CAV for skirt\n",
      "Best accuracy: 0.8737055380459252 Regularization: 0.001\n",
      "Best accuracy: 0.8917154434939216 Regularization: 0.005\n",
      "Best accuracy: 0.9031967582170194 Regularization: 0.01\n",
      "Best accuracy: 0.9225574065736155 Regularization: 0.05\n",
      "Best accuracy: 0.9281855020261144 Regularization: 0.1\n",
      "Best accuracy: 0.9421431787483115 Regularization: 0.5\n",
      "Best accuracy: 0.9448446645655111 Regularization: 1\n",
      "Best accuracy: 0.94979738856371 Regularization: 3\n"
     ]
    },
    {
     "name": "stderr",
     "output_type": "stream",
     "text": [
      "155it [1:25:40, 36.61s/it]"
     ]
    },
    {
     "name": "stdout",
     "output_type": "stream",
     "text": [
      "Best accuracy: 0.9513732552904097 Regularization: 5\n",
      "CAV accuracy for skirt concept (220): 0.9514\n",
      "[0517_164306] 156/182 Calculating CAV for pipe\n",
      "Best accuracy: 0.8158487167942369 Regularization: 0.001\n",
      "Best accuracy: 0.8363349842413327 Regularization: 0.005\n",
      "Best accuracy: 0.8509680324178298 Regularization: 0.01\n",
      "Best accuracy: 0.8743809095002252 Regularization: 0.05\n",
      "Best accuracy: 0.8822602431337235 Regularization: 0.1\n",
      "Best accuracy: 0.9002701485817199 Regularization: 0.5\n",
      "Best accuracy: 0.904997748761819 Regularization: 1\n",
      "Best accuracy: 0.9106258442143179 Regularization: 3\n"
     ]
    },
    {
     "name": "stderr",
     "output_type": "stream",
     "text": [
      "156it [1:26:24, 38.81s/it]"
     ]
    },
    {
     "name": "stdout",
     "output_type": "stream",
     "text": [
      "Best accuracy: 0.9126519585772175 Regularization: 5\n",
      "CAV accuracy for pipe concept (221): 0.9127\n",
      "[0517_164350] 157/182 Calculating CAV for river\n",
      "Best accuracy: 0.914678072940117 Regularization: 0.001\n",
      "Best accuracy: 0.9369653309320126 Regularization: 0.005\n",
      "Best accuracy: 0.9430436740207114 Regularization: 0.01\n",
      "Best accuracy: 0.9520486267447096 Regularization: 0.05\n",
      "Best accuracy: 0.955425484016209 Regularization: 0.1\n",
      "Best accuracy: 0.9621791985592075 Regularization: 0.5\n",
      "Best accuracy: 0.9624043223773076 Regularization: 1\n",
      "Best accuracy: 0.9633048176497073 Regularization: 3\n"
     ]
    },
    {
     "name": "stderr",
     "output_type": "stream",
     "text": [
      "157it [1:26:56, 36.77s/it]"
     ]
    },
    {
     "name": "stdout",
     "output_type": "stream",
     "text": [
      "Best accuracy: 0.9648806843764071 Regularization: 5\n",
      "CAV accuracy for river concept (225): 0.9649\n",
      "[0517_164422] 158/182 Calculating CAV for air conditioner\n",
      "Best accuracy: 0.7856821251688428 Regularization: 0.001\n",
      "Best accuracy: 0.8075191355245385 Regularization: 0.005\n",
      "Best accuracy: 0.8217019360648357 Regularization: 0.01\n",
      "Best accuracy: 0.8529941467807294 Regularization: 0.05\n",
      "Best accuracy: 0.8687528140477262 Regularization: 0.1\n",
      "Best accuracy: 0.8892390814948221 Regularization: 0.5\n",
      "Best accuracy: 0.895092300765421 Regularization: 1\n",
      "Best accuracy: 0.9022962629446195 Regularization: 3\n"
     ]
    },
    {
     "name": "stderr",
     "output_type": "stream",
     "text": [
      "158it [1:27:37, 37.86s/it]"
     ]
    },
    {
     "name": "stdout",
     "output_type": "stream",
     "text": [
      "Best accuracy: 0.9063484916704188 Regularization: 5\n",
      "CAV accuracy for air conditioner concept (226): 0.9063\n",
      "[0517_164502] 159/182 Calculating CAV for bumper\n",
      "Best accuracy: 0.9144529491220171 Regularization: 0.001\n",
      "Best accuracy: 0.929986492570914 Regularization: 0.005\n",
      "Best accuracy: 0.9369653309320126 Regularization: 0.01\n",
      "Best accuracy: 0.9511481314723098 Regularization: 0.05\n",
      "Best accuracy: 0.954750112561909 Regularization: 0.1\n",
      "Best accuracy: 0.9624043223773076 Regularization: 0.5\n",
      "Best accuracy: 0.9664565511031067 Regularization: 1\n",
      "Best accuracy: 0.9678072940117064 Regularization: 3\n"
     ]
    },
    {
     "name": "stderr",
     "output_type": "stream",
     "text": [
      "159it [1:28:09, 36.28s/it]"
     ]
    },
    {
     "name": "stdout",
     "output_type": "stream",
     "text": [
      "Best accuracy: 0.9687077892841063 Regularization: 5\n",
      "CAV accuracy for bumper concept (227): 0.9687\n",
      "[0517_164535] 160/182 Calculating CAV for ottoman\n",
      "Best accuracy: 0.885186852769023 Regularization: 0.001\n",
      "Best accuracy: 0.904772624943719 Regularization: 0.005\n",
      "Best accuracy: 0.9131022062134174 Regularization: 0.01\n",
      "Best accuracy: 0.9286357496623143 Regularization: 0.05\n",
      "Best accuracy: 0.9367402071139127 Regularization: 0.1\n",
      "Best accuracy: 0.9486717694732103 Regularization: 0.5\n",
      "Best accuracy: 0.9520486267447096 Regularization: 1\n",
      "Best accuracy: 0.9579018460153084 Regularization: 3\n"
     ]
    },
    {
     "name": "stderr",
     "output_type": "stream",
     "text": [
      "160it [1:28:45, 35.95s/it]"
     ]
    },
    {
     "name": "stdout",
     "output_type": "stream",
     "text": [
      "Best accuracy: 0.9590274651058082 Regularization: 5\n",
      "CAV accuracy for ottoman concept (228): 0.9590\n",
      "[0517_164610] 161/182 Calculating CAV for jar\n",
      "Best accuracy: 0.8674020711391265 Regularization: 0.001\n",
      "Best accuracy: 0.8865375956776227 Regularization: 0.005\n",
      "Best accuracy: 0.8989194056731202 Regularization: 0.01\n",
      "Best accuracy: 0.919855920756416 Regularization: 0.05\n",
      "Best accuracy: 0.9281855020261144 Regularization: 0.1\n",
      "Best accuracy: 0.9403421882035119 Regularization: 0.5\n",
      "Best accuracy: 0.9459702836560108 Regularization: 1\n",
      "Best accuracy: 0.9495722647456101 Regularization: 3\n"
     ]
    },
    {
     "name": "stderr",
     "output_type": "stream",
     "text": [
      "161it [1:29:26, 37.70s/it]"
     ]
    },
    {
     "name": "stdout",
     "output_type": "stream",
     "text": [
      "Best accuracy: 0.9502476361999099 Regularization: 5\n",
      "CAV accuracy for jar concept (229): 0.9502\n",
      "[0517_164652] 162/182 Calculating CAV for canopy\n",
      "Best accuracy: 0.8640252138676272 Regularization: 0.001\n",
      "Best accuracy: 0.8973435389464205 Regularization: 0.005\n",
      "Best accuracy: 0.9108509680324178 Regularization: 0.01\n",
      "Best accuracy: 0.9326879783881135 Regularization: 0.05\n",
      "Best accuracy: 0.9403421882035119 Regularization: 0.1\n",
      "Best accuracy: 0.9486717694732103 Regularization: 0.5\n",
      "Best accuracy: 0.9527239981990094 Regularization: 1\n",
      "Best accuracy: 0.9576767221972085 Regularization: 3\n"
     ]
    },
    {
     "name": "stderr",
     "output_type": "stream",
     "text": [
      "162it [1:30:04, 37.64s/it]"
     ]
    },
    {
     "name": "stdout",
     "output_type": "stream",
     "text": [
      "Best accuracy: 0.959702836560108 Regularization: 5\n",
      "CAV accuracy for canopy concept (234): 0.9597\n",
      "[0517_164729] 163/182 Calculating CAV for stile\n",
      "Best accuracy: 0.815173345339937 Regularization: 0.001\n",
      "Best accuracy: 0.8403872129671319 Regularization: 0.005\n",
      "Best accuracy: 0.855245384961729 Regularization: 0.01\n",
      "Best accuracy: 0.8833858622242233 Regularization: 0.05\n",
      "Best accuracy: 0.8986942818550203 Regularization: 0.1\n",
      "Best accuracy: 0.9187303016659163 Regularization: 0.5\n",
      "Best accuracy: 0.925033768572715 Regularization: 1\n",
      "Best accuracy: 0.9311121116614138 Regularization: 3\n"
     ]
    },
    {
     "name": "stderr",
     "output_type": "stream",
     "text": [
      "163it [1:30:45, 38.71s/it]"
     ]
    },
    {
     "name": "stdout",
     "output_type": "stream",
     "text": [
      "Best accuracy: 0.9331382260243134 Regularization: 5\n",
      "CAV accuracy for stile concept (235): 0.9331\n",
      "[0517_164810] 164/182 Calculating CAV for bridge\n",
      "Best accuracy: 0.9218820351193157 Regularization: 0.001\n",
      "Best accuracy: 0.9378658262044124 Regularization: 0.005\n",
      "Best accuracy: 0.9457451598379109 Regularization: 0.01\n",
      "Best accuracy: 0.9594777127420081 Regularization: 0.05\n",
      "Best accuracy: 0.9630796938316074 Regularization: 0.1\n",
      "Best accuracy: 0.9682575416479063 Regularization: 0.5\n",
      "Best accuracy: 0.9698334083746061 Regularization: 1\n",
      "Best accuracy: 0.9716343989194057 Regularization: 3\n"
     ]
    },
    {
     "name": "stderr",
     "output_type": "stream",
     "text": [
      "164it [1:31:15, 36.14s/it]"
     ]
    },
    {
     "name": "stdout",
     "output_type": "stream",
     "text": [
      "Best accuracy: 0.9743358847366052 Regularization: 5\n",
      "CAV accuracy for bridge concept (236): 0.9743\n",
      "[0517_164841] 165/182 Calculating CAV for minibike\n",
      "Best accuracy: 0.8793336334984241 Regularization: 0.001\n",
      "Best accuracy: 0.895092300765421 Regularization: 0.005\n",
      "Best accuracy: 0.9027465105808195 Regularization: 0.01\n",
      "Best accuracy: 0.9236830256641153 Regularization: 0.05\n",
      "Best accuracy: 0.9338135974786133 Regularization: 0.1\n",
      "Best accuracy: 0.9477712742008104 Regularization: 0.5\n",
      "Best accuracy: 0.9529491220171095 Regularization: 1\n",
      "Best accuracy: 0.9592525889239082 Regularization: 3\n"
     ]
    },
    {
     "name": "stderr",
     "output_type": "stream",
     "text": [
      "165it [1:31:49, 35.50s/it]"
     ]
    },
    {
     "name": "stdout",
     "output_type": "stream",
     "text": [
      "Best accuracy: 0.9617289509230077 Regularization: 5\n",
      "CAV accuracy for minibike concept (239): 0.9617\n",
      "[0517_164915] 166/182 Calculating CAV for figurine\n",
      "Best accuracy: 0.8212516884286357 Regularization: 0.001\n",
      "Best accuracy: 0.8480414227825304 Regularization: 0.005\n",
      "Best accuracy: 0.8608734804142278 Regularization: 0.01\n",
      "Best accuracy: 0.8905898244034219 Regularization: 0.05\n",
      "Best accuracy: 0.90004502476362 Regularization: 0.1\n",
      "Best accuracy: 0.9180549302116164 Regularization: 0.5\n",
      "Best accuracy: 0.9252588923908149 Regularization: 1\n",
      "Best accuracy: 0.9322377307519135 Regularization: 3\n"
     ]
    },
    {
     "name": "stderr",
     "output_type": "stream",
     "text": [
      "166it [1:32:34, 38.26s/it]"
     ]
    },
    {
     "name": "stdout",
     "output_type": "stream",
     "text": [
      "Best accuracy: 0.9335884736605132 Regularization: 5\n",
      "CAV accuracy for figurine concept (240): 0.9336\n",
      "[0517_164959] 167/182 Calculating CAV for skyscraper\n",
      "Best accuracy: 0.9822152183701035 Regularization: 0.001\n",
      "Best accuracy: 0.9862674470959027 Regularization: 0.005\n",
      "Best accuracy: 0.9882935614588023 Regularization: 0.01\n",
      "Best accuracy: 0.9916704187303017 Regularization: 0.05\n",
      "Best accuracy: 0.9923457901846016 Regularization: 0.1\n",
      "Best accuracy: 0.9930211616389014 Regularization: 0.5\n",
      "Best accuracy: 0.9936965330932013 Regularization: 1\n"
     ]
    },
    {
     "name": "stderr",
     "output_type": "stream",
     "text": [
      "167it [1:32:52, 32.30s/it]"
     ]
    },
    {
     "name": "stdout",
     "output_type": "stream",
     "text": [
      "CAV accuracy for skyscraper concept (241): 0.9937\n",
      "[0517_165018] 168/182 Calculating CAV for bookcase\n",
      "Best accuracy: 0.9095002251238181 Regularization: 0.001\n",
      "Best accuracy: 0.9311121116614138 Regularization: 0.005\n",
      "Best accuracy: 0.9376407023863125 Regularization: 0.01\n",
      "Best accuracy: 0.9565511031067087 Regularization: 0.05\n",
      "Best accuracy: 0.9624043223773076 Regularization: 0.1\n",
      "Best accuracy: 0.9705087798289059 Regularization: 0.5\n",
      "Best accuracy: 0.9720846465556056 Regularization: 1\n",
      "Best accuracy: 0.9741107609185051 Regularization: 3\n"
     ]
    },
    {
     "name": "stderr",
     "output_type": "stream",
     "text": [
      "168it [1:33:27, 32.88s/it]"
     ]
    },
    {
     "name": "stdout",
     "output_type": "stream",
     "text": [
      "Best accuracy: 0.9756866276452049 Regularization: 5\n",
      "CAV accuracy for bookcase concept (247): 0.9757\n",
      "[0517_165052] 169/182 Calculating CAV for exhaust hood\n",
      "Best accuracy: 0.9574515983791085 Regularization: 0.001\n",
      "Best accuracy: 0.9657811796488068 Regularization: 0.005\n",
      "Best accuracy: 0.9675821701936065 Regularization: 0.01\n",
      "Best accuracy: 0.9736605132823053 Regularization: 0.05\n",
      "Best accuracy: 0.9763619990995047 Regularization: 0.1\n",
      "Best accuracy: 0.9770373705538046 Regularization: 0.5\n",
      "Best accuracy: 0.9772624943719046 Regularization: 1\n",
      "Best accuracy: 0.9781629896443044 Regularization: 3\n"
     ]
    },
    {
     "name": "stderr",
     "output_type": "stream",
     "text": [
      "169it [1:33:54, 31.28s/it]"
     ]
    },
    {
     "name": "stdout",
     "output_type": "stream",
     "text": [
      "CAV accuracy for exhaust hood concept (249): 0.9782\n",
      "[0517_165119] 170/182 Calculating CAV for hill\n",
      "Best accuracy: 0.8687528140477262 Regularization: 0.001\n",
      "Best accuracy: 0.8980189104007203 Regularization: 0.005\n",
      "Best accuracy: 0.9092751013057181 Regularization: 0.01\n",
      "Best accuracy: 0.9308869878433138 Regularization: 0.05\n",
      "Best accuracy: 0.9385411976587122 Regularization: 0.1\n",
      "Best accuracy: 0.95002251238181 Regularization: 0.5\n",
      "Best accuracy: 0.9542998649257092 Regularization: 1\n",
      "Best accuracy: 0.959702836560108 Regularization: 3\n"
     ]
    },
    {
     "name": "stderr",
     "output_type": "stream",
     "text": [
      "170it [1:34:29, 32.35s/it]"
     ]
    },
    {
     "name": "stdout",
     "output_type": "stream",
     "text": [
      "Best accuracy: 0.9610535794687078 Regularization: 5\n",
      "CAV accuracy for hill concept (250): 0.9611\n",
      "[0517_165154] 171/182 Calculating CAV for button panel\n",
      "Best accuracy: 0.9689329131022062 Regularization: 0.001\n",
      "Best accuracy: 0.9738856371004052 Regularization: 0.005\n",
      "Best accuracy: 0.9752363800090049 Regularization: 0.01\n",
      "Best accuracy: 0.9792886087348042 Regularization: 0.05\n",
      "Best accuracy: 0.9801891040072039 Regularization: 0.1\n",
      "Best accuracy: 0.985141828005403 Regularization: 0.5\n",
      "Best accuracy: 0.9862674470959027 Regularization: 3\n"
     ]
    },
    {
     "name": "stderr",
     "output_type": "stream",
     "text": [
      "171it [1:34:57, 31.11s/it]"
     ]
    },
    {
     "name": "stdout",
     "output_type": "stream",
     "text": [
      "CAV accuracy for button panel concept (253): 0.9863\n",
      "[0517_165222] 172/182 Calculating CAV for doorframe\n",
      "Best accuracy: 0.7971634398919406 Regularization: 0.001\n",
      "Best accuracy: 0.8397118415128321 Regularization: 0.005\n",
      "Best accuracy: 0.8545700135074291 Regularization: 0.01\n",
      "Best accuracy: 0.8946420531292211 Regularization: 0.05\n",
      "Best accuracy: 0.9085997298514182 Regularization: 0.1\n",
      "Best accuracy: 0.9257091400270149 Regularization: 0.5\n",
      "Best accuracy: 0.9317874831157137 Regularization: 1\n",
      "Best accuracy: 0.9374155785682126 Regularization: 3\n"
     ]
    },
    {
     "name": "stderr",
     "output_type": "stream",
     "text": [
      "172it [1:35:40, 34.55s/it]"
     ]
    },
    {
     "name": "stdout",
     "output_type": "stream",
     "text": [
      "Best accuracy: 0.940117064385412 Regularization: 5\n",
      "CAV accuracy for doorframe concept (254): 0.9401\n",
      "[0517_165305] 173/182 Calculating CAV for manhole\n",
      "Best accuracy: 0.8757316524088249 Regularization: 0.001\n",
      "Best accuracy: 0.8917154434939216 Regularization: 0.005\n",
      "Best accuracy: 0.8993696533093202 Regularization: 0.01\n",
      "Best accuracy: 0.9212066636650158 Regularization: 0.05\n",
      "Best accuracy: 0.9295362449347141 Regularization: 0.1\n",
      "Best accuracy: 0.9414678072940117 Regularization: 0.5\n",
      "Best accuracy: 0.9479963980189104 Regularization: 1\n",
      "Best accuracy: 0.955425484016209 Regularization: 3\n"
     ]
    },
    {
     "name": "stderr",
     "output_type": "stream",
     "text": [
      "173it [1:36:14, 34.59s/it]"
     ]
    },
    {
     "name": "stdout",
     "output_type": "stream",
     "text": [
      "Best accuracy: 0.9561008554705088 Regularization: 5\n",
      "CAV accuracy for manhole concept (255): 0.9561\n",
      "[0517_165340] 174/182 Calculating CAV for crosswalk\n",
      "Best accuracy: 0.9167041873030166 Regularization: 0.001\n",
      "Best accuracy: 0.9340387212967132 Regularization: 0.005\n",
      "Best accuracy: 0.9394416929311121 Regularization: 0.01\n",
      "Best accuracy: 0.9590274651058082 Regularization: 0.05\n",
      "Best accuracy: 0.9657811796488068 Regularization: 0.1\n",
      "Best accuracy: 0.9732102656461054 Regularization: 0.5\n",
      "Best accuracy: 0.975011256190905 Regularization: 1\n",
      "Best accuracy: 0.9772624943719046 Regularization: 3\n"
     ]
    },
    {
     "name": "stderr",
     "output_type": "stream",
     "text": [
      "174it [1:36:42, 32.42s/it]"
     ]
    },
    {
     "name": "stdout",
     "output_type": "stream",
     "text": [
      "CAV accuracy for crosswalk concept (256): 0.9773\n",
      "[0517_165407] 175/182 Calculating CAV for umbrella\n",
      "Best accuracy: 0.880009004952724 Regularization: 0.001\n",
      "Best accuracy: 0.910175596578118 Regularization: 0.005\n",
      "Best accuracy: 0.9194056731202161 Regularization: 0.01\n",
      "Best accuracy: 0.9380909500225124 Regularization: 0.05\n",
      "Best accuracy: 0.9419180549302116 Regularization: 0.1\n",
      "Best accuracy: 0.94979738856371 Regularization: 0.5\n",
      "Best accuracy: 0.9531742458352094 Regularization: 1\n",
      "Best accuracy: 0.9572264745610085 Regularization: 3\n"
     ]
    },
    {
     "name": "stderr",
     "output_type": "stream",
     "text": [
      "175it [1:37:18, 33.66s/it]"
     ]
    },
    {
     "name": "stdout",
     "output_type": "stream",
     "text": [
      "Best accuracy: 0.9592525889239082 Regularization: 5\n",
      "CAV accuracy for umbrella concept (257): 0.9593\n",
      "[0517_165444] 176/182 Calculating CAV for autobus\n",
      "Best accuracy: 0.8728050427735254 Regularization: 0.001\n",
      "Best accuracy: 0.8991445294912201 Regularization: 0.005\n",
      "Best accuracy: 0.9088248536695183 Regularization: 0.01\n",
      "Best accuracy: 0.9304367402071139 Regularization: 0.05\n",
      "Best accuracy: 0.935164340387213 Regularization: 0.1\n",
      "Best accuracy: 0.9466456551103106 Regularization: 0.5\n",
      "Best accuracy: 0.9511481314723098 Regularization: 1\n",
      "Best accuracy: 0.9581269698334084 Regularization: 3\n"
     ]
    },
    {
     "name": "stderr",
     "output_type": "stream",
     "text": [
      "176it [1:37:55, 34.64s/it]"
     ]
    },
    {
     "name": "stdout",
     "output_type": "stream",
     "text": [
      "Best accuracy: 0.959927960378208 Regularization: 5\n",
      "CAV accuracy for autobus concept (259): 0.9599\n",
      "[0517_165521] 177/182 Calculating CAV for dishwasher\n",
      "Best accuracy: 0.969608284556506 Regularization: 0.001\n",
      "Best accuracy: 0.9738856371004052 Regularization: 0.005\n",
      "Best accuracy: 0.9763619990995047 Regularization: 0.01\n",
      "Best accuracy: 0.9806393516434039 Regularization: 0.05\n",
      "Best accuracy: 0.9831157136425034 Regularization: 0.1\n",
      "Best accuracy: 0.9858171994597028 Regularization: 0.5\n",
      "Best accuracy: 0.9867176947321027 Regularization: 1\n"
     ]
    },
    {
     "name": "stderr",
     "output_type": "stream",
     "text": [
      "177it [1:38:19, 31.31s/it]"
     ]
    },
    {
     "name": "stdout",
     "output_type": "stream",
     "text": [
      "CAV accuracy for dishwasher concept (260): 0.9867\n",
      "[0517_165544] 178/182 Calculating CAV for monitor\n",
      "Best accuracy: 0.9624043223773076 Regularization: 0.001\n",
      "Best accuracy: 0.9709590274651058 Regularization: 0.005\n",
      "Best accuracy: 0.9756866276452049 Regularization: 0.01\n",
      "Best accuracy: 0.9806393516434039 Regularization: 0.05\n",
      "Best accuracy: 0.9826654660063034 Regularization: 0.1\n",
      "Best accuracy: 0.9862674470959027 Regularization: 0.5\n",
      "Best accuracy: 0.9871679423683025 Regularization: 1\n"
     ]
    },
    {
     "name": "stderr",
     "output_type": "stream",
     "text": [
      "178it [1:38:43, 29.17s/it]"
     ]
    },
    {
     "name": "stdout",
     "output_type": "stream",
     "text": [
      "CAV accuracy for monitor concept (261): 0.9872\n",
      "[0517_165608] 179/182 Calculating CAV for shutter\n",
      "Best accuracy: 0.8318325078793336 Regularization: 0.001\n",
      "Best accuracy: 0.8570463755065286 Regularization: 0.005\n",
      "Best accuracy: 0.8707789284106259 Regularization: 0.01\n",
      "Best accuracy: 0.8953174245835209 Regularization: 0.05\n",
      "Best accuracy: 0.904772624943719 Regularization: 0.1\n",
      "Best accuracy: 0.9225574065736155 Regularization: 0.5\n",
      "Best accuracy: 0.9259342638451148 Regularization: 1\n",
      "Best accuracy: 0.9331382260243134 Regularization: 3\n"
     ]
    },
    {
     "name": "stderr",
     "output_type": "stream",
     "text": [
      "179it [1:39:21, 31.84s/it]"
     ]
    },
    {
     "name": "stdout",
     "output_type": "stream",
     "text": [
      "Best accuracy: 0.9385411976587122 Regularization: 5\n",
      "CAV accuracy for shutter concept (263): 0.9385\n",
      "[0517_165646] 180/182 Calculating CAV for front\n",
      "Best accuracy: 0.8640252138676272 Regularization: 0.001\n",
      "Best accuracy: 0.8982440342188204 Regularization: 0.005\n",
      "Best accuracy: 0.9110760918505177 Regularization: 0.01\n",
      "Best accuracy: 0.9358397118415128 Regularization: 0.05\n",
      "Best accuracy: 0.9428185502026114 Regularization: 0.1\n",
      "Best accuracy: 0.9545249887438091 Regularization: 0.5\n",
      "Best accuracy: 0.9588023412877082 Regularization: 1\n",
      "Best accuracy: 0.9630796938316074 Regularization: 3\n"
     ]
    },
    {
     "name": "stderr",
     "output_type": "stream",
     "text": [
      "180it [1:40:00, 33.98s/it]"
     ]
    },
    {
     "name": "stdout",
     "output_type": "stream",
     "text": [
      "Best accuracy: 0.9653309320126069 Regularization: 5\n",
      "CAV accuracy for front concept (265): 0.9653\n",
      "[0517_165725] 181/182 Calculating CAV for text\n",
      "Best accuracy: 0.8009905447996398 Regularization: 0.001\n",
      "Best accuracy: 0.8329581269698334 Regularization: 0.005\n",
      "Best accuracy: 0.855245384961729 Regularization: 0.01\n",
      "Best accuracy: 0.8944169293111212 Regularization: 0.05\n",
      "Best accuracy: 0.9067987393066187 Regularization: 0.1\n",
      "Best accuracy: 0.9281855020261144 Regularization: 0.5\n",
      "Best accuracy: 0.9342638451148132 Regularization: 1\n",
      "Best accuracy: 0.9365150832958127 Regularization: 3\n"
     ]
    },
    {
     "name": "stderr",
     "output_type": "stream",
     "text": [
      "181it [1:40:40, 35.85s/it]"
     ]
    },
    {
     "name": "stdout",
     "output_type": "stream",
     "text": [
      "Best accuracy: 0.9392165691130122 Regularization: 5\n",
      "CAV accuracy for text concept (267): 0.9392\n",
      "[0517_165806] 182/182 Calculating CAV for crt screen\n",
      "Best accuracy: 0.8764070238631247 Regularization: 0.001\n",
      "Best accuracy: 0.8971184151283206 Regularization: 0.005\n",
      "Best accuracy: 0.9083746060333183 Regularization: 0.01\n",
      "Best accuracy: 0.9263845114813147 Regularization: 0.05\n",
      "Best accuracy: 0.934714092751013 Regularization: 0.1\n",
      "Best accuracy: 0.9506978838361099 Regularization: 0.5\n",
      "Best accuracy: 0.9567762269248087 Regularization: 1\n",
      "Best accuracy: 0.9621791985592075 Regularization: 3\n"
     ]
    },
    {
     "name": "stderr",
     "output_type": "stream",
     "text": [
      "182it [1:41:19, 33.40s/it]"
     ]
    },
    {
     "name": "stdout",
     "output_type": "stream",
     "text": [
      "Best accuracy: 0.9630796938316074 Regularization: 5\n",
      "CAV accuracy for crt screen concept (270): 0.9631\n"
     ]
    },
    {
     "name": "stderr",
     "output_type": "stream",
     "text": [
      "\n"
     ]
    }
   ],
   "source": [
    "cavs = {}\n",
    "train_attributes = freq_attributes['train']\n",
    "val_attributes = freq_attributes['val']\n",
    "\n",
    "cavs_save_dir = os.path.join('saved', 'ADE20K', 'cav', 'weighted', datetime.now().strftime(r'%m%d_%H%M%S'))\n",
    "if os.path.exists(cavs_save_dir):\n",
    "    raise ValueError(\"Path {} already exists\".format(cavs_save_dir))\n",
    "ensure_dir(cavs_save_dir)\n",
    "\n",
    "cavs_save_path = os.path.join(cavs_save_dir, 'cavs.pickle')\n",
    "log_path = os.path.join(cavs_save_dir, 'log.txt')\n",
    "n_frequent_attributes = len(frequent_attribute_idxs)\n",
    "\n",
    "for idx, attribute_idx in tqdm(enumerate(frequent_attribute_idxs)):\n",
    "    informal_log(\"[{}] {}/{} Calculating CAV for {}\".format(\n",
    "        datetime.now().strftime(r'%m%d_%H%M%S'),\n",
    "        idx+1,\n",
    "        n_frequent_attributes,\n",
    "        attribute_label_dict[attribute_idx]), log_path)\n",
    "    scaler = None # Preprocessing.StandardScaler()\n",
    "    \n",
    "    logistic_regression_args = {\n",
    "        'solver': 'liblinear',\n",
    "        'penalty': 'l2',\n",
    "        'class_weight': 'balanced'\n",
    "    }\n",
    "    cav = hyperparam_search(\n",
    "        train_features=train_features,\n",
    "        train_labels=train_attributes[:, attribute_idx],\n",
    "        val_features=val_features,\n",
    "        val_labels=val_attributes[:, attribute_idx],\n",
    "        scaler=scaler,\n",
    "        log_path=log_path,\n",
    "        logistic_regression_args=logistic_regression_args)\n",
    "    cavs[attribute_idx] = cav\n",
    "    \n",
    "    accuracy = cav.score(val_features, val_attributes[:, attribute_idx])\n",
    "    informal_log(\"CAV accuracy for {} concept ({}): {:.4f}\".format(\n",
    "        attribute_label_dict[attribute_idx],\n",
    "        attribute_idx,\n",
    "        accuracy), log_path)\n",
    "    # Save periodically\n",
    "    if idx % 10 == 0:\n",
    "        pickle.dump(cavs, open(cavs_save_path, 'wb'))\n",
    "        \n",
    "pickle.dump(cavs, open(cavs_save_path, 'wb'))\n"
   ]
  },
  {
   "cell_type": "markdown",
   "metadata": {},
   "source": [
    "### Save Concept present vectors from CAVs for each image in validation"
   ]
  },
  {
   "cell_type": "code",
   "execution_count": 5,
   "metadata": {},
   "outputs": [
    {
     "name": "stdout",
     "output_type": "stream",
     "text": [
      "Obtaining concept presence vectors for train split\n"
     ]
    },
    {
     "name": "stderr",
     "output_type": "stream",
     "text": [
      "100%|██████████| 1200/1200 [00:06<00:00, 181.57it/s]\n"
     ]
    },
    {
     "name": "stdout",
     "output_type": "stream",
     "text": [
      "(13326, 1200) 13326\n",
      "Obtaining concept presence vectors for val split\n"
     ]
    },
    {
     "name": "stderr",
     "output_type": "stream",
     "text": [
      "100%|██████████| 1200/1200 [00:00<00:00, 1212.67it/s]\n"
     ]
    },
    {
     "name": "stdout",
     "output_type": "stream",
     "text": [
      "(4442, 1200) 4442\n",
      "Obtaining concept presence vectors for test split\n"
     ]
    },
    {
     "name": "stderr",
     "output_type": "stream",
     "text": [
      "100%|██████████| 1200/1200 [00:01<00:00, 1089.92it/s]\n"
     ]
    },
    {
     "name": "stdout",
     "output_type": "stream",
     "text": [
      "(4442, 1200) 4442\n",
      "Saved concept present vectors from CAVs to saved/ADE20K/cav/weighted/0517_151725/cav_attributes.pth\n"
     ]
    }
   ],
   "source": [
    "# For images in train/val/test splits, predict the presence/absence of each concept from features using CAVs\n",
    "# Save as one-hot encoded concept-presence vectors\n",
    "cavs_path = 'saved/ADE20K/cav/weighted/0517_151725/cavs.pickle'\n",
    "cavs_save_dir = os.path.dirname(cavs_path)\n",
    "if 'scaled' in cavs_path:\n",
    "    scale = True\n",
    "else:\n",
    "    scale = False\n",
    "cavs = pickle.load(open(cavs_path, 'rb'))\n",
    "splits = ['train', 'val', 'test']\n",
    "\n",
    "if scale:\n",
    "    import sklearn.preprocessing as Preprocessing\n",
    "    scaler = Preprocessing.StandardScaler()\n",
    "    scaler.fit(features['train'])\n",
    "    scaled_features = {\n",
    "        'train': scaler.transform(features['train']),\n",
    "        'val': scaler.transform(features['val']),\n",
    "        'test': scaler.transform(features['test'])\n",
    "    }\n",
    "concept_vectors_dict = {}\n",
    "concept_vectors_save_path = os.path.join(cavs_save_dir, 'cav_attributes.pth')\n",
    "if os.path.exists(concept_vectors_save_path):\n",
    "    print(\"Concept presence vectors already exist at {}\".format(concept_vectors_save_path))\n",
    "else:\n",
    "    for split in splits:\n",
    "        if scale:\n",
    "            split_features = scaled_features[split]\n",
    "        else:\n",
    "            split_features = features[split]\n",
    "        n_samples = len(split_features)\n",
    "        print(\"Obtaining concept presence vectors for {} split\".format(split))\n",
    "\n",
    "        concept_presence_vectors = []\n",
    "        for attr_idx in tqdm(range(n_attributes)):\n",
    "            if attr_idx in cavs:\n",
    "                cav = cavs[attr_idx]\n",
    "                concept_present = cav.predict(split_features)\n",
    "                concept_presence_vectors.append(concept_present)\n",
    "                assert len(concept_present) == n_samples\n",
    "            else:\n",
    "                concept_presence_vectors.append(np.zeros(n_samples))\n",
    "        concept_presence_vectors = np.stack(concept_presence_vectors, axis=1)\n",
    "        print(concept_presence_vectors.shape, n_samples)\n",
    "        # Concept vectors only for frequent vectors; Turn it into one hot vector\n",
    "\n",
    "        concept_vectors_dict[split] = concept_presence_vectors\n",
    "        \n",
    "    torch.save(concept_vectors_dict, concept_vectors_save_path)\n",
    "    print(\"Saved concept present vectors from CAVs to {}\".format(concept_vectors_save_path))\n"
   ]
  },
  {
   "cell_type": "markdown",
   "metadata": {},
   "source": [
    "### Learn Explainer from CAVs"
   ]
  },
  {
   "cell_type": "code",
   "execution_count": 6,
   "metadata": {},
   "outputs": [],
   "source": [
    "# Load attributes from CAVs\n",
    "cav_attributes_path = os.path.join(cavs_save_dir, 'cav_attributes.pth')\n",
    "cav_attributes = torch.load(cav_attributes_path)\n",
    "\n",
    "# Load model's predictions\n",
    "prediction_path = os.path.join(\n",
    "    'saved', \n",
    "    'PlacesCategoryClassification',\n",
    "    '0510_102912',\n",
    "    'ADE20K_predictions', \n",
    "    'saga', \n",
    "    '{}_outputs_predictions.pth')\n",
    "splits = ['train', 'val', 'test']\n",
    "predictions = {}\n",
    "for split in splits:\n",
    "    predictions[split] = torch.load(prediction_path.format(split))['predictions']\n",
    "\n",
    "\n"
   ]
  },
  {
   "cell_type": "code",
   "execution_count": 8,
   "metadata": {},
   "outputs": [
    {
     "name": "stdout",
     "output_type": "stream",
     "text": [
      "Explainer LogisticRegression(C=0.1, max_iter=200, multi_class='multinomial', penalty='l1',\n",
      "                   solver='saga') accuracy: 0.6960828455650608\n"
     ]
    }
   ],
   "source": [
    "# Train explainer\n",
    "logistic_regression_args = {\n",
    "    'solver': 'saga',\n",
    "    'penalty': 'l1'\n",
    "}\n",
    "\n",
    "max_iter = 200\n",
    "# explainer = hyperparam_search(\n",
    "#     train_features=cav_attributes['train'],\n",
    "#     train_labels=predictions['train'], \n",
    "#     val_features=cav_attributes['val'], \n",
    "#     val_labels=predictions['val'], \n",
    "#     scaler=None,\n",
    "#     Cs = [0.001, 0.005, 0.01, 0.05, 0.1, 0.5, 1, 3, 5],\n",
    "#     log_path=None,\n",
    "#     logistic_regression_args=logistic_regression_args)\n",
    "explainer = LogisticRegression(\n",
    "    solver='saga',\n",
    "    penalty='l1',\n",
    "    C=0.1,\n",
    "    multi_class='multinomial',\n",
    "    max_iter=max_iter\n",
    ")\n",
    "explainer.fit(cav_attributes['train'], predictions['train'])\n",
    "accuracy = explainer.score(cav_attributes['val'], predictions['val'])\n",
    "print(\"Explainer {} accuracy: {}\".format(explainer, accuracy))"
   ]
  },
  {
   "cell_type": "code",
   "execution_count": 10,
   "metadata": {},
   "outputs": [
    {
     "name": "stdout",
     "output_type": "stream",
     "text": [
      "Saved explainer trained on CAVs to saved/PlacesCategoryClassification/0510_102912/ADE20K_predictions/saga/weighted_cav_explainer/saga_explainer_l1_0.1.pickle\n",
      "0.6960828455650608\n",
      "Saved outputs from validation set to saved/PlacesCategoryClassification/0510_102912/ADE20K_predictions/saga/weighted_cav_explainer/saga_explainer_l1_0.1_validation.pth\n"
     ]
    },
    {
     "name": "stderr",
     "output_type": "stream",
     "text": [
      "4442it [00:00, 781276.40it/s]"
     ]
    },
    {
     "name": "stdout",
     "output_type": "stream",
     "text": [
      "Saved 3092 congruent paths to saved/PlacesCategoryClassification/0510_102912/ADE20K_predictions/saga/weighted_cav_explainer/congruent_paths.txt and 1350 incongruent paths to saved/PlacesCategoryClassification/0510_102912/ADE20K_predictions/saga/weighted_cav_explainer/incongruent_paths.txt\n"
     ]
    },
    {
     "name": "stderr",
     "output_type": "stream",
     "text": [
      "\n"
     ]
    }
   ],
   "source": [
    "c = 0.1\n",
    "solver = 'saga'\n",
    "penalty = 'l1'\n",
    "save_dir = os.path.dirname(prediction_path)\n",
    "\n",
    "# Save CAV explainer\n",
    "cav_explainer_dir = os.path.join(save_dir, 'weighted_cav_explainer')\n",
    "ensure_dir(cav_explainer_dir)\n",
    "cav_explainer_save_path = os.path.join(cav_explainer_dir, '{}_explainer_{}_{}.pickle'.format(solver, penalty, c))\n",
    "if not os.path.exists(cav_explainer_save_path):\n",
    "    pickle.dump(explainer, open(cav_explainer_save_path, 'wb'))\n",
    "    print(\"Saved explainer trained on CAVs to {}\".format(cav_explainer_save_path))\n",
    "else:\n",
    "    print(\"Explainer already exists at '{}'\".format(cav_explainer_save_path))\n",
    "\n",
    "# Save CAV explainer predictions\n",
    "accuracy = explainer.score(cav_attributes['val'], predictions['val'])\n",
    "print(accuracy)\n",
    "\n",
    "explainer_outputs = explainer.decision_function(cav_attributes['val'])\n",
    "explainer_probabilities = explainer.predict_proba(cav_attributes['val'])\n",
    "explainer_predictions = explainer.predict(cav_attributes['val'])\n",
    "\n",
    "validation_output = {\n",
    "    'outputs': explainer_outputs,\n",
    "    'probabilities': explainer_probabilities,\n",
    "    'predictions': explainer_predictions\n",
    "}\n",
    "validation_output_path = os.path.join(cav_explainer_dir, '{}_explainer_{}_{}_validation.pth'.format(solver, penalty, c))\n",
    "if not os.path.exists(validation_output_path):\n",
    "    torch.save(validation_output, validation_output_path)\n",
    "    print(\"Saved outputs from validation set to {}\".format(validation_output_path))\n",
    "else:\n",
    "    print(\"Validation set outputs already saved to {}\".format(validation_output_path))\n",
    "\n",
    "# Save congruent/incongruent paths\n",
    "congruency_paths = partition_paths_by_congruency(\n",
    "    explainer_predictions=explainer_predictions,\n",
    "    model_predictions=predictions['val'],\n",
    "    paths=paths['val']\n",
    ")\n",
    "congruent_paths = congruency_paths['congruent']\n",
    "incongruent_paths = congruency_paths['incongruent']\n",
    "congruent_paths_path = os.path.join(cav_explainer_dir, 'congruent_paths.txt')\n",
    "incongruent_paths_path = os.path.join(cav_explainer_dir, 'incongruent_paths.txt')\n",
    "if not os.path.exists(congruent_paths_path) or not os.path.exists(incongruent_paths_path):\n",
    "    write_lists(congruent_paths, congruent_paths_path)\n",
    "    write_lists(incongruent_paths, incongruent_paths_path)\n",
    "    print(\"Saved {} congruent paths to {} and {} incongruent paths to {}\".format(\n",
    "        len(congruent_paths),\n",
    "        congruent_paths_path,\n",
    "        len(incongruent_paths),\n",
    "        incongruent_paths_path\n",
    "    ))\n",
    "else:\n",
    "    print(\"Congruent paths already saved to {} and incongruent paths already saved to {}\".format(\n",
    "        congruent_paths_path, incongruent_paths_path\n",
    "    ))"
   ]
  },
  {
   "cell_type": "code",
   "execution_count": null,
   "metadata": {},
   "outputs": [],
   "source": []
  }
 ],
 "metadata": {
  "kernelspec": {
   "display_name": "Python 3.11.2 ('model-correlation')",
   "language": "python",
   "name": "python3"
  },
  "language_info": {
   "codemirror_mode": {
    "name": "ipython",
    "version": 3
   },
   "file_extension": ".py",
   "mimetype": "text/x-python",
   "name": "python",
   "nbconvert_exporter": "python",
   "pygments_lexer": "ipython3",
   "version": "3.11.2"
  },
  "vscode": {
   "interpreter": {
    "hash": "c579736b944d6d0768ad80dbc3e033126adf2082032258477813cfb04cf1061b"
   }
  }
 },
 "nbformat": 4,
 "nbformat_minor": 4
}
