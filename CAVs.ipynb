{
 "cells": [
  {
   "cell_type": "code",
   "execution_count": 9,
   "metadata": {
    "tags": []
   },
   "outputs": [],
   "source": [
    "import os, sys\n",
    "import numpy as np\n",
    "import pandas as pd\n",
    "import torch\n",
    "from tqdm import tqdm\n",
    "from sklearn.linear_model import LogisticRegression\n",
    "import sklearn.preprocessing as Preprocessing\n",
    "import pickle\n",
    "from datetime import datetime\n",
    "\n",
    "sys.path.insert(0, 'src')\n",
    "from utils.places365_pred_utils import get_class_category_dict, get_category_class_dict\n",
    "from utils.utils import ensure_dir, write_lists, informal_log\n",
    "from utils.attribute_utils import get_one_hot_attributes, get_frequent_attributes, hyperparam_search, partition_paths_by_congruency, convert_sparse_to_dense_attributes\n"
   ]
  },
  {
   "cell_type": "markdown",
   "metadata": {},
   "source": [
    "### Load features and attributes"
   ]
  },
  {
   "cell_type": "code",
   "execution_count": 3,
   "metadata": {
    "tags": []
   },
   "outputs": [
    {
     "name": "stdout",
     "output_type": "stream",
     "text": [
      "Obtaining one hot encodings of attributes\n",
      "Processing attributes for train split\n"
     ]
    },
    {
     "name": "stderr",
     "output_type": "stream",
     "text": [
      "100%|██████████████████████████████████| 13326/13326 [00:00<00:00, 94009.73it/s]\n"
     ]
    },
    {
     "name": "stdout",
     "output_type": "stream",
     "text": [
      "Processing attributes for val split\n"
     ]
    },
    {
     "name": "stderr",
     "output_type": "stream",
     "text": [
      "100%|████████████████████████████████████| 4442/4442 [00:00<00:00, 79593.55it/s]\n"
     ]
    },
    {
     "name": "stdout",
     "output_type": "stream",
     "text": [
      "Processing attributes for test split\n"
     ]
    },
    {
     "name": "stderr",
     "output_type": "stream",
     "text": [
      "100%|████████████████████████████████████| 4442/4442 [00:00<00:00, 62211.70it/s]"
     ]
    },
    {
     "name": "stdout",
     "output_type": "stream",
     "text": [
      "Obtaining frequent attributes only\n"
     ]
    },
    {
     "name": "stderr",
     "output_type": "stream",
     "text": [
      "\n"
     ]
    },
    {
     "name": "stdout",
     "output_type": "stream",
     "text": [
      "0 examples have no more attributes\n",
      "0/13326 examples affected\n",
      "0 examples have no more attributes\n",
      "0/4442 examples affected\n",
      "0 examples have no more attributes\n",
      "2/4442 examples affected\n",
      "After filtering concepts that appear in 0+ images, we have 623 concepts\n",
      "Path data/ade20k/filter_attr_0/splits_sparse_one_hot_attributes.pth already exists\n",
      "Path to data/ade20k/filter_attr_0/splits_dense_one_hot_attributes.pth already exists\n",
      "Loaded human-readable labels)\n"
     ]
    }
   ],
   "source": [
    "# Load features\n",
    "features_dir = os.path.join('saved', 'ADE20K', '0501_105640')\n",
    "train_features_path = os.path.join(features_dir, 'train_features.pth')\n",
    "val_features_path = os.path.join(features_dir, 'val_features.pth')\n",
    "test_features_path = os.path.join(features_dir, 'test_features.pth')\n",
    "\n",
    "train_features_dict = torch.load(train_features_path)\n",
    "train_features = train_features_dict['features']\n",
    "train_paths = train_features_dict['paths']\n",
    "\n",
    "val_features_dict = torch.load(val_features_path)\n",
    "val_features = val_features_dict['features']\n",
    "val_paths = val_features_dict['paths']\n",
    "\n",
    "test_features_dict = torch.load(test_features_path)\n",
    "test_features = test_features_dict['features']\n",
    "test_paths = test_features_dict['paths']\n",
    "\n",
    "features = {\n",
    "    'train': train_features,\n",
    "    'val': val_features,\n",
    "    'test': test_features\n",
    "}\n",
    "paths = {\n",
    "    'train': train_paths,\n",
    "    'val': val_paths,\n",
    "    'test': test_paths\n",
    "}\n",
    "n_attributes = 1200\n",
    "frequency_threshold = 0\n",
    "\n",
    "# Load data and calculate attributes\n",
    "data_path = os.path.join('data', 'ade20k', 'full_ade20k_imagelabels.pth')\n",
    "data = torch.load(data_path)\n",
    "\n",
    "print(\"Obtaining one hot encodings of attributes\")\n",
    "attributes = get_one_hot_attributes(\n",
    "    data=data,\n",
    "    paths=paths,\n",
    "    n_attr=n_attributes\n",
    ")\n",
    "attribute_save_path = os.path.join(os.path.dirname(data_path), 'one_hot_attributes.pth')\n",
    "if not os.path.exists(attribute_save_path):\n",
    "    torch.save(attributes, attribute_save_path)\n",
    "    print(\"Saved one hot attributes from train/val/test to {}\".format(attribute_save_path))\n",
    "\n",
    "print(\"Obtaining frequent attributes only\")\n",
    "sparse_freq_attributes, metadata = get_frequent_attributes(\n",
    "    attributes=attributes,\n",
    "    frequency_threshold=frequency_threshold\n",
    ")\n",
    "\n",
    "# Get indices of frequent attributes\n",
    "sparse_freq_attributes_one_hot = metadata['freq_attr_one_hot']\n",
    "frequent_attribute_idxs = metadata['freq_attr_idxs']\n",
    "\n",
    "print(\"After filtering concepts that appear in {}+ images, we have {} concepts\".format(\n",
    "    frequency_threshold, len(frequent_attribute_idxs)))\n",
    "      \n",
    "# Get dense attributes\n",
    "dense_attributes = {}\n",
    "for split in sparse_freq_attributes.keys():\n",
    "    dense_attributes[split] = convert_sparse_to_dense_attributes(\n",
    "        sparse_attributes=sparse_freq_attributes[split],\n",
    "        used_attributes_idxs=frequent_attribute_idxs)\n",
    "    \n",
    "# Save dir for this frequency threshold\n",
    "save_dir = os.path.join(os.path.dirname(data_path), 'filter_attr_{}'.format(frequency_threshold))\n",
    "ensure_dir(save_dir)\n",
    "# Save sparse attributes from each split\n",
    "sparse_freq_attribute_save_path = os.path.join(save_dir, 'splits_sparse_one_hot_attributes.pth')\n",
    "if not os.path.exists(sparse_freq_attribute_save_path):\n",
    "    torch.save(sparse_freq_attributes, sparse_freq_attribute_save_path)\n",
    "    print(\"Saved frequency filtered one hot attributes from train/val/test to {}\".format(sparse_freq_attribute_save_path))\n",
    "else:\n",
    "    print(\"Path {} already exists\".format(sparse_freq_attribute_save_path))\n",
    "    \n",
    "# Save dense attributes from each split\n",
    "dense_freq_attributes_save_path = os.path.join(save_dir, 'splits_dense_one_hot_attributes.pth')\n",
    "if not os.path.exists(dense_freq_attributes_save_path):\n",
    "    torch.save(dense_attributes, dense_freq_attributes_save_path)\n",
    "    print(\"Saved dense frequency filtered one hot attributes from train/val/test to {}\".format(dense_freq_attributes_save_path))\n",
    "else:\n",
    "    print(\"Path to {} already exists\".format(dense_freq_attributes_save_path))\n",
    "# Save the idxs of the attributes that were kept after filtering for frequency\n",
    "frequent_idx_save_path = os.path.join(save_dir, 'frequent_attribute_idxs_n-{}.pth'.format(len(frequent_attribute_idxs)))\n",
    "if not os.path.exists(frequent_idx_save_path):\n",
    "    torch.save(frequent_attribute_idxs, frequent_idx_save_path)\n",
    "    print(\"Saved indices of frequent attributes from training to {}\".format(frequent_idx_save_path))\n",
    "# Load names of attributes\n",
    "labels_path = os.path.join('data', 'broden1_224', 'label.csv')\n",
    "attribute_label_dict = pd.read_csv(labels_path, index_col=0)['name'].to_dict()\n",
    "print(\"Loaded human-readable labels)\")"
   ]
  },
  {
   "cell_type": "markdown",
   "metadata": {},
   "source": [
    "### For each attribute, create a linear classifier (hyperparameter search)"
   ]
  },
  {
   "cell_type": "code",
   "execution_count": null,
   "metadata": {
    "scrolled": true,
    "tags": []
   },
   "outputs": [
    {
     "name": "stdout",
     "output_type": "stream",
     "text": [
      "(13326, 623)\n"
     ]
    },
    {
     "name": "stderr",
     "output_type": "stream",
     "text": [
      "0it [00:00, ?it/s]"
     ]
    },
    {
     "name": "stdout",
     "output_type": "stream",
     "text": [
      "[0804_105359] 1/623 Calculating CAV for wall\n",
      "Best accuracy: 0.8986942818550203 Regularization: 0.001\n",
      "Best accuracy: 0.9004952723998199 Regularization: 0.01\n"
     ]
    },
    {
     "name": "stderr",
     "output_type": "stream",
     "text": [
      "1it [00:22, 22.68s/it]"
     ]
    },
    {
     "name": "stdout",
     "output_type": "stream",
     "text": [
      "CAV accuracy for wall concept (12): 0.9005\n",
      "[0804_105422] 2/623 Calculating CAV for sky\n",
      "Best accuracy: 0.9268347591175147 Regularization: 0.001\n",
      "Best accuracy: 0.9342638451148132 Regularization: 0.005\n",
      "Best accuracy: 0.9376407023863125 Regularization: 0.01\n",
      "Best accuracy: 0.9398919405673121 Regularization: 0.05\n",
      "Best accuracy: 0.9410175596578118 Regularization: 0.1\n"
     ]
    },
    {
     "name": "stderr",
     "output_type": "stream",
     "text": [
      "2it [00:43, 21.39s/it]"
     ]
    },
    {
     "name": "stdout",
     "output_type": "stream",
     "text": [
      "CAV accuracy for sky concept (13): 0.9410\n",
      "[0804_105442] 3/623 Calculating CAV for floor\n",
      "Best accuracy: 0.9207564160288159 Regularization: 0.001\n",
      "Best accuracy: 0.9218820351193157 Regularization: 0.005\n",
      "Best accuracy: 0.9225574065736155 Regularization: 0.01\n"
     ]
    },
    {
     "name": "stderr",
     "output_type": "stream",
     "text": [
      "3it [01:05, 21.80s/it]"
     ]
    },
    {
     "name": "stdout",
     "output_type": "stream",
     "text": [
      "CAV accuracy for floor concept (14): 0.9226\n",
      "[0804_105504] 4/623 Calculating CAV for windowpane\n",
      "Best accuracy: 0.7973885637100405 Regularization: 0.001\n",
      "Best accuracy: 0.8057181449797388 Regularization: 0.005\n",
      "Best accuracy: 0.8059432687978388 Regularization: 0.05\n"
     ]
    },
    {
     "name": "stderr",
     "output_type": "stream",
     "text": [
      "4it [01:30, 22.92s/it]"
     ]
    },
    {
     "name": "stdout",
     "output_type": "stream",
     "text": [
      "CAV accuracy for windowpane concept (15): 0.8059\n",
      "[0804_105529] 5/623 Calculating CAV for tree\n",
      "Best accuracy: 0.8818099954975236 Regularization: 0.001\n",
      "Best accuracy: 0.895092300765421 Regularization: 0.005\n",
      "Best accuracy: 0.8980189104007203 Regularization: 0.01\n",
      "Best accuracy: 0.9022962629446195 Regularization: 0.05\n",
      "Best accuracy: 0.9029716343989194 Regularization: 0.1\n",
      "Best accuracy: 0.9036470058532192 Regularization: 0.5\n",
      "Best accuracy: 0.9038721296713192 Regularization: 1\n"
     ]
    },
    {
     "name": "stderr",
     "output_type": "stream",
     "text": [
      "5it [01:53, 23.09s/it]"
     ]
    },
    {
     "name": "stdout",
     "output_type": "stream",
     "text": [
      "CAV accuracy for tree concept (16): 0.9039\n",
      "[0804_105553] 6/623 Calculating CAV for wood\n",
      "Best accuracy: 0.9529491220171095 Regularization: 0.001\n",
      "Best accuracy: 0.975461503827105 Regularization: 0.005\n",
      "Best accuracy: 0.979963980189104 Regularization: 0.01\n",
      "Best accuracy: 0.9909950472760019 Regularization: 0.05\n",
      "Best accuracy: 0.9925709140027015 Regularization: 0.1\n",
      "Best accuracy: 0.9959477712742009 Regularization: 0.5\n",
      "Best accuracy: 0.9961728950923008 Regularization: 1\n",
      "Best accuracy: 0.9968482665466006 Regularization: 3\n"
     ]
    },
    {
     "name": "stderr",
     "output_type": "stream",
     "text": [
      "6it [02:18, 23.72s/it]"
     ]
    },
    {
     "name": "stdout",
     "output_type": "stream",
     "text": [
      "Best accuracy: 0.9970733903647006 Regularization: 5\n",
      "CAV accuracy for wood concept (17): 0.9971\n",
      "[0804_105617] 7/623 Calculating CAV for building\n",
      "Best accuracy: 0.9099504727600181 Regularization: 0.001\n",
      "Best accuracy: 0.9104007203962179 Regularization: 0.01\n"
     ]
    },
    {
     "name": "stderr",
     "output_type": "stream",
     "text": [
      "7it [02:39, 22.80s/it]"
     ]
    },
    {
     "name": "stdout",
     "output_type": "stream",
     "text": [
      "CAV accuracy for building concept (18): 0.9104\n",
      "[0804_105638] 8/623 Calculating CAV for person\n",
      "Best accuracy: 0.8354344889689329 Regularization: 0.001\n",
      "Best accuracy: 0.84984241332733 Regularization: 0.005\n",
      "Best accuracy: 0.85029266096353 Regularization: 0.01\n",
      "Best accuracy: 0.8520936515083296 Regularization: 0.05\n"
     ]
    },
    {
     "name": "stderr",
     "output_type": "stream",
     "text": [
      "8it [03:04, 23.64s/it]"
     ]
    },
    {
     "name": "stdout",
     "output_type": "stream",
     "text": [
      "CAV accuracy for person concept (19): 0.8521\n",
      "[0804_105704] 9/623 Calculating CAV for head\n",
      "Best accuracy: 0.8511931562359297 Regularization: 0.001\n",
      "Best accuracy: 0.8683025664115264 Regularization: 0.005\n",
      "Best accuracy: 0.8719045475011257 Regularization: 0.01\n",
      "Best accuracy: 0.8764070238631247 Regularization: 0.05\n",
      "Best accuracy: 0.8768572714993246 Regularization: 0.1\n"
     ]
    },
    {
     "name": "stderr",
     "output_type": "stream",
     "text": [
      "9it [03:37, 26.40s/it]"
     ]
    },
    {
     "name": "stdout",
     "output_type": "stream",
     "text": [
      "CAV accuracy for head concept (21): 0.8769\n",
      "[0804_105736] 10/623 Calculating CAV for leg\n",
      "Best accuracy: 0.7901846015308419 Regularization: 0.001\n",
      "Best accuracy: 0.7985141828005403 Regularization: 0.005\n",
      "Best accuracy: 0.80031517334534 Regularization: 0.01\n",
      "Best accuracy: 0.8009905447996398 Regularization: 0.05\n"
     ]
    },
    {
     "name": "stderr",
     "output_type": "stream",
     "text": [
      "10it [04:07, 27.62s/it]"
     ]
    },
    {
     "name": "stdout",
     "output_type": "stream",
     "text": [
      "CAV accuracy for leg concept (22): 0.8010\n",
      "[0804_105807] 11/623 Calculating CAV for door\n",
      "Best accuracy: 0.7273750562809546 Regularization: 0.001\n",
      "Best accuracy: 0.7354795137325529 Regularization: 0.005\n"
     ]
    },
    {
     "name": "stderr",
     "output_type": "stream",
     "text": [
      "11it [04:33, 27.10s/it]"
     ]
    },
    {
     "name": "stdout",
     "output_type": "stream",
     "text": [
      "CAV accuracy for door concept (23): 0.7355\n",
      "[0804_105833] 12/623 Calculating CAV for fabric\n",
      "Best accuracy: 0.8892390814948221 Regularization: 0.001\n",
      "Best accuracy: 0.9362899594777128 Regularization: 0.005\n",
      "Best accuracy: 0.9527239981990094 Regularization: 0.01\n",
      "Best accuracy: 0.9741107609185051 Regularization: 0.05\n",
      "Best accuracy: 0.9801891040072039 Regularization: 0.1\n",
      "Best accuracy: 0.9867176947321027 Regularization: 0.5\n",
      "Best accuracy: 0.9894191805493021 Regularization: 1\n",
      "Best accuracy: 0.9912201710941018 Regularization: 3\n"
     ]
    },
    {
     "name": "stderr",
     "output_type": "stream",
     "text": [
      "12it [05:04, 28.38s/it]"
     ]
    },
    {
     "name": "stdout",
     "output_type": "stream",
     "text": [
      "Best accuracy: 0.9914452949122017 Regularization: 5\n",
      "CAV accuracy for fabric concept (24): 0.9914\n",
      "[0804_105904] 13/623 Calculating CAV for ceiling\n",
      "Best accuracy: 0.8719045475011257 Regularization: 0.001\n",
      "Best accuracy: 0.889914452949122 Regularization: 0.005\n",
      "Best accuracy: 0.8971184151283206 Regularization: 0.01\n",
      "Best accuracy: 0.9013957676722197 Regularization: 0.05\n"
     ]
    },
    {
     "name": "stderr",
     "output_type": "stream",
     "text": [
      "13it [05:30, 27.53s/it]"
     ]
    },
    {
     "name": "stdout",
     "output_type": "stream",
     "text": [
      "CAV accuracy for ceiling concept (25): 0.9014\n",
      "[0804_105929] 14/623 Calculating CAV for torso\n",
      "Best accuracy: 0.8784331382260243 Regularization: 0.001\n",
      "Best accuracy: 0.9004952723998199 Regularization: 0.005\n",
      "Best accuracy: 0.9149031967582171 Regularization: 0.01\n",
      "Best accuracy: 0.9335884736605132 Regularization: 0.05\n",
      "Best accuracy: 0.9405673120216119 Regularization: 0.1\n",
      "Best accuracy: 0.9538496172895092 Regularization: 0.5\n",
      "Best accuracy: 0.9588023412877082 Regularization: 1\n",
      "Best accuracy: 0.9606033318325079 Regularization: 3\n"
     ]
    },
    {
     "name": "stderr",
     "output_type": "stream",
     "text": [
      "14it [06:06, 30.14s/it]"
     ]
    },
    {
     "name": "stdout",
     "output_type": "stream",
     "text": [
      "CAV accuracy for torso concept (26): 0.9606\n",
      "[0804_110006] 15/623 Calculating CAV for table\n",
      "Best accuracy: 0.8608734804142278 Regularization: 0.001\n",
      "Best accuracy: 0.8644754615038271 Regularization: 0.005\n",
      "Best accuracy: 0.8653759567762269 Regularization: 0.01\n",
      "Best accuracy: 0.8685276902296263 Regularization: 0.05\n"
     ]
    },
    {
     "name": "stderr",
     "output_type": "stream",
     "text": [
      "15it [06:34, 29.35s/it]"
     ]
    },
    {
     "name": "stdout",
     "output_type": "stream",
     "text": [
      "CAV accuracy for table concept (27): 0.8685\n",
      "[0804_110033] 16/623 Calculating CAV for arm\n",
      "Best accuracy: 0.7917604682575416 Regularization: 0.001\n",
      "Best accuracy: 0.8070688878883386 Regularization: 0.005\n",
      "Best accuracy: 0.8113462404322377 Regularization: 0.01\n"
     ]
    },
    {
     "name": "stderr",
     "output_type": "stream",
     "text": [
      "16it [07:05, 29.87s/it]"
     ]
    },
    {
     "name": "stdout",
     "output_type": "stream",
     "text": [
      "CAV accuracy for arm concept (28): 0.8113\n",
      "[0804_110104] 17/623 Calculating CAV for eye\n",
      "Best accuracy: 0.919855920756416 Regularization: 0.001\n",
      "Best accuracy: 0.9358397118415128 Regularization: 0.005\n",
      "Best accuracy: 0.9428185502026114 Regularization: 0.01\n",
      "Best accuracy: 0.9576767221972085 Regularization: 0.05\n",
      "Best accuracy: 0.9610535794687078 Regularization: 0.1\n",
      "Best accuracy: 0.9687077892841063 Regularization: 0.5\n",
      "Best accuracy: 0.9693831607384061 Regularization: 1\n",
      "Best accuracy: 0.9698334083746061 Regularization: 3\n"
     ]
    },
    {
     "name": "stderr",
     "output_type": "stream",
     "text": [
      "17it [07:39, 31.22s/it]"
     ]
    },
    {
     "name": "stdout",
     "output_type": "stream",
     "text": [
      "CAV accuracy for eye concept (29): 0.9698\n",
      "[0804_110139] 18/623 Calculating CAV for road\n",
      "Best accuracy: 0.9137775776677173 Regularization: 0.001\n",
      "Best accuracy: 0.9155785682125169 Regularization: 0.005\n",
      "Best accuracy: 0.9191805493021161 Regularization: 0.01\n"
     ]
    },
    {
     "name": "stderr",
     "output_type": "stream",
     "text": [
      "18it [08:02, 28.69s/it]"
     ]
    },
    {
     "name": "stdout",
     "output_type": "stream",
     "text": [
      "CAV accuracy for road concept (31): 0.9192\n",
      "[0804_110201] 19/623 Calculating CAV for ear\n",
      "Best accuracy: 0.9335884736605132 Regularization: 0.001\n",
      "Best accuracy: 0.9558757316524088 Regularization: 0.005\n",
      "Best accuracy: 0.9626294461954075 Regularization: 0.01\n",
      "Best accuracy: 0.9743358847366052 Regularization: 0.05\n",
      "Best accuracy: 0.9792886087348042 Regularization: 0.1\n",
      "Best accuracy: 0.985366951823503 Regularization: 0.5\n",
      "Best accuracy: 0.9871679423683025 Regularization: 1\n",
      "Best accuracy: 0.9887438090950023 Regularization: 3\n"
     ]
    },
    {
     "name": "stderr",
     "output_type": "stream",
     "text": [
      "19it [08:30, 28.66s/it]"
     ]
    },
    {
     "name": "stdout",
     "output_type": "stream",
     "text": [
      "Best accuracy: 0.9889689329131022 Regularization: 5\n",
      "CAV accuracy for ear concept (32): 0.9890\n",
      "[0804_110230] 20/623 Calculating CAV for grass\n",
      "Best accuracy: 0.8728050427735254 Regularization: 0.001\n",
      "Best accuracy: 0.8827104907699235 Regularization: 0.005\n",
      "Best accuracy: 0.884736605132823 Regularization: 0.01\n",
      "Best accuracy: 0.889689329131022 Regularization: 0.05\n"
     ]
    },
    {
     "name": "stderr",
     "output_type": "stream",
     "text": [
      "20it [08:58, 28.39s/it]"
     ]
    },
    {
     "name": "stdout",
     "output_type": "stream",
     "text": [
      "CAV accuracy for grass concept (33): 0.8897\n",
      "[0804_110258] 21/623 Calculating CAV for plant\n",
      "Best accuracy: 0.7742008104457452 Regularization: 0.001\n",
      "Best accuracy: 0.7780279153534444 Regularization: 0.005\n",
      "Best accuracy: 0.780054029716344 Regularization: 0.01\n"
     ]
    },
    {
     "name": "stderr",
     "output_type": "stream",
     "text": [
      "21it [09:25, 27.83s/it]"
     ]
    },
    {
     "name": "stdout",
     "output_type": "stream",
     "text": [
      "CAV accuracy for plant concept (35): 0.7801\n",
      "[0804_110324] 22/623 Calculating CAV for chair\n",
      "Best accuracy: 0.8295812696983341 Regularization: 0.001\n",
      "Best accuracy: 0.8370103556956326 Regularization: 0.005\n"
     ]
    },
    {
     "name": "stderr",
     "output_type": "stream",
     "text": [
      "22it [09:51, 27.41s/it]"
     ]
    },
    {
     "name": "stdout",
     "output_type": "stream",
     "text": [
      "CAV accuracy for chair concept (36): 0.8370\n",
      "[0804_110351] 23/623 Calculating CAV for nose\n",
      "Best accuracy: 0.9457451598379109 Regularization: 0.001\n",
      "Best accuracy: 0.9610535794687078 Regularization: 0.005\n",
      "Best accuracy: 0.9669067987393066 Regularization: 0.01\n",
      "Best accuracy: 0.9808644754615038 Regularization: 0.05\n",
      "Best accuracy: 0.9833408374606033 Regularization: 0.1\n",
      "Best accuracy: 0.9889689329131022 Regularization: 0.5\n",
      "Best accuracy: 0.990094552003602 Regularization: 1\n",
      "Best accuracy: 0.9909950472760019 Regularization: 3\n"
     ]
    },
    {
     "name": "stderr",
     "output_type": "stream",
     "text": [
      "23it [10:21, 28.19s/it]"
     ]
    },
    {
     "name": "stdout",
     "output_type": "stream",
     "text": [
      "Best accuracy: 0.9912201710941018 Regularization: 5\n",
      "CAV accuracy for nose concept (37): 0.9912\n",
      "[0804_110421] 24/623 Calculating CAV for car\n",
      "Best accuracy: 0.9022962629446195 Regularization: 0.001\n",
      "Best accuracy: 0.9095002251238181 Regularization: 0.005\n",
      "Best accuracy: 0.9128770823953174 Regularization: 0.01\n"
     ]
    },
    {
     "name": "stderr",
     "output_type": "stream",
     "text": [
      "24it [10:46, 27.30s/it]"
     ]
    },
    {
     "name": "stdout",
     "output_type": "stream",
     "text": [
      "CAV accuracy for car concept (38): 0.9129\n",
      "[0804_110446] 25/623 Calculating CAV for neck\n",
      "Best accuracy: 0.9131022062134174 Regularization: 0.001\n",
      "Best accuracy: 0.9389914452949122 Regularization: 0.005\n",
      "Best accuracy: 0.9479963980189104 Regularization: 0.01\n",
      "Best accuracy: 0.9644304367402071 Regularization: 0.05\n",
      "Best accuracy: 0.9702836560108059 Regularization: 0.1\n",
      "Best accuracy: 0.9788383610986042 Regularization: 0.5\n",
      "Best accuracy: 0.9808644754615038 Regularization: 1\n",
      "Best accuracy: 0.9828905898244035 Regularization: 3\n"
     ]
    },
    {
     "name": "stderr",
     "output_type": "stream",
     "text": [
      "25it [11:22, 29.77s/it]"
     ]
    },
    {
     "name": "stdout",
     "output_type": "stream",
     "text": [
      "CAV accuracy for neck concept (39): 0.9829\n",
      "[0804_110521] 26/623 Calculating CAV for painting\n",
      "Best accuracy: 0.8505177847816299 Regularization: 0.001\n",
      "Best accuracy: 0.8590724898694282 Regularization: 0.005\n",
      "Best accuracy: 0.8617739756866276 Regularization: 0.01\n",
      "Best accuracy: 0.8676271949572265 Regularization: 0.05\n",
      "Best accuracy: 0.8678523187753264 Regularization: 0.1\n",
      "Best accuracy: 0.8692030616839261 Regularization: 0.5\n"
     ]
    },
    {
     "name": "stderr",
     "output_type": "stream",
     "text": [
      "26it [11:45, 27.69s/it]"
     ]
    },
    {
     "name": "stdout",
     "output_type": "stream",
     "text": [
      "CAV accuracy for painting concept (40): 0.8692\n",
      "[0804_110544] 27/623 Calculating CAV for carpet\n",
      "Best accuracy: 0.7926609635299414 Regularization: 0.001\n",
      "Best accuracy: 0.8156235929761368 Regularization: 0.005\n",
      "Best accuracy: 0.8226024313372354 Regularization: 0.01\n",
      "Best accuracy: 0.8394867176947322 Regularization: 0.05\n",
      "Best accuracy: 0.844889689329131 Regularization: 0.1\n",
      "Best accuracy: 0.8511931562359297 Regularization: 0.5\n",
      "Best accuracy: 0.8529941467807294 Regularization: 1\n"
     ]
    },
    {
     "name": "stderr",
     "output_type": "stream",
     "text": [
      "27it [12:19, 29.69s/it]"
     ]
    },
    {
     "name": "stdout",
     "output_type": "stream",
     "text": [
      "CAV accuracy for carpet concept (41): 0.8530\n",
      "[0804_110619] 28/623 Calculating CAV for hand\n",
      "Best accuracy: 0.8694281855020262 Regularization: 0.001\n",
      "Best accuracy: 0.8779828905898244 Regularization: 0.005\n",
      "Best accuracy: 0.8806843764070239 Regularization: 0.01\n",
      "Best accuracy: 0.8912651958577218 Regularization: 0.05\n",
      "Best accuracy: 0.8930661864025213 Regularization: 0.1\n",
      "Best accuracy: 0.8957676722197209 Regularization: 0.5\n",
      "Best accuracy: 0.8966681674921206 Regularization: 1\n",
      "Best accuracy: 0.8989194056731202 Regularization: 3\n"
     ]
    },
    {
     "name": "stderr",
     "output_type": "stream",
     "text": [
      "28it [12:58, 32.40s/it]"
     ]
    },
    {
     "name": "stdout",
     "output_type": "stream",
     "text": [
      "Best accuracy: 0.8995947771274201 Regularization: 5\n",
      "CAV accuracy for hand concept (42): 0.8996\n",
      "[0804_110657] 29/623 Calculating CAV for sidewalk\n",
      "Best accuracy: 0.9142278253039171 Regularization: 0.001\n",
      "Best accuracy: 0.920081044574516 Regularization: 0.005\n",
      "Best accuracy: 0.9223322827555155 Regularization: 0.01\n",
      "Best accuracy: 0.9225574065736155 Regularization: 0.05\n"
     ]
    },
    {
     "name": "stderr",
     "output_type": "stream",
     "text": [
      "29it [13:22, 29.84s/it]"
     ]
    },
    {
     "name": "stdout",
     "output_type": "stream",
     "text": [
      "CAV accuracy for sidewalk concept (43): 0.9226\n",
      "[0804_110721] 30/623 Calculating CAV for wheel\n",
      "Best accuracy: 0.8923908149482215 Regularization: 0.001\n",
      "Best accuracy: 0.9022962629446195 Regularization: 0.005\n",
      "Best accuracy: 0.9045475011256191 Regularization: 0.01\n",
      "Best accuracy: 0.9108509680324178 Regularization: 0.05\n",
      "Best accuracy: 0.9115263394867177 Regularization: 0.1\n",
      "Best accuracy: 0.9117514633048176 Regularization: 1\n"
     ]
    },
    {
     "name": "stderr",
     "output_type": "stream",
     "text": [
      "30it [13:50, 29.34s/it]"
     ]
    },
    {
     "name": "stdout",
     "output_type": "stream",
     "text": [
      "CAV accuracy for wheel concept (44): 0.9118\n",
      "[0804_110749] 31/623 Calculating CAV for cabinet\n",
      "Best accuracy: 0.8106708689779378 Regularization: 0.001\n",
      "Best accuracy: 0.8169743358847366 Regularization: 0.005\n",
      "Best accuracy: 0.8205763169743359 Regularization: 0.01\n",
      "Best accuracy: 0.8244034218820351 Regularization: 0.05\n",
      "Best accuracy: 0.8246285457001351 Regularization: 0.1\n"
     ]
    },
    {
     "name": "stderr",
     "output_type": "stream",
     "text": [
      "31it [14:17, 28.63s/it]"
     ]
    },
    {
     "name": "stdout",
     "output_type": "stream",
     "text": [
      "Best accuracy: 0.824853669518235 Regularization: 5\n",
      "CAV accuracy for cabinet concept (45): 0.8249\n",
      "[0804_110816] 32/623 Calculating CAV for light\n",
      "Best accuracy: 0.8318325078793336 Regularization: 0.001\n",
      "Best accuracy: 0.8532192705988294 Regularization: 0.005\n",
      "Best accuracy: 0.860198108959928 Regularization: 0.01\n",
      "Best accuracy: 0.8671769473210266 Regularization: 0.05\n",
      "Best accuracy: 0.8689779378658262 Regularization: 0.1\n",
      "Best accuracy: 0.8696533093201261 Regularization: 0.5\n"
     ]
    },
    {
     "name": "stderr",
     "output_type": "stream",
     "text": [
      "32it [14:46, 28.87s/it]"
     ]
    },
    {
     "name": "stdout",
     "output_type": "stream",
     "text": [
      "CAV accuracy for light concept (46): 0.8697\n",
      "[0804_110846] 33/623 Calculating CAV for signboard\n",
      "Best accuracy: 0.8329581269698334 Regularization: 0.001\n"
     ]
    },
    {
     "name": "stderr",
     "output_type": "stream",
     "text": [
      "33it [15:13, 28.18s/it]"
     ]
    },
    {
     "name": "stdout",
     "output_type": "stream",
     "text": [
      "CAV accuracy for signboard concept (47): 0.8330\n",
      "[0804_110912] 34/623 Calculating CAV for mirror\n",
      "Best accuracy: 0.7778027915353445 Regularization: 0.001\n",
      "Best accuracy: 0.7951373255290409 Regularization: 0.005\n",
      "Best accuracy: 0.7989644304367403 Regularization: 0.01\n",
      "Best accuracy: 0.809995497523638 Regularization: 0.05\n",
      "Best accuracy: 0.810220621341738 Regularization: 1\n"
     ]
    },
    {
     "name": "stderr",
     "output_type": "stream",
     "text": [
      "34it [15:44, 29.17s/it]"
     ]
    },
    {
     "name": "stdout",
     "output_type": "stream",
     "text": [
      "CAV accuracy for mirror concept (48): 0.8102\n",
      "[0804_110944] 35/623 Calculating CAV for tile\n",
      "Best accuracy: 0.9698334083746061 Regularization: 0.001\n",
      "Best accuracy: 0.9867176947321027 Regularization: 0.005\n",
      "Best accuracy: 0.9921206663665015 Regularization: 0.01\n",
      "Best accuracy: 0.9954975236380009 Regularization: 0.05\n",
      "Best accuracy: 0.9959477712742009 Regularization: 0.1\n",
      "Best accuracy: 0.9975236380009005 Regularization: 0.5\n",
      "Best accuracy: 0.9977487618190004 Regularization: 1\n",
      "Best accuracy: 0.9981990094552003 Regularization: 3\n"
     ]
    },
    {
     "name": "stderr",
     "output_type": "stream",
     "text": [
      "35it [16:07, 27.12s/it]"
     ]
    },
    {
     "name": "stdout",
     "output_type": "stream",
     "text": [
      "CAV accuracy for tile concept (49): 0.9982\n",
      "[0804_111006] 36/623 Calculating CAV for lamp\n",
      "Best accuracy: 0.8583971184151283 Regularization: 0.001\n",
      "Best accuracy: 0.8642503376857271 Regularization: 0.005\n",
      "Best accuracy: 0.8676271949572265 Regularization: 0.01\n"
     ]
    },
    {
     "name": "stderr",
     "output_type": "stream",
     "text": [
      "36it [16:32, 26.72s/it]"
     ]
    },
    {
     "name": "stdout",
     "output_type": "stream",
     "text": [
      "CAV accuracy for lamp concept (50): 0.8676\n",
      "[0804_111032] 37/623 Calculating CAV for hair\n",
      "Best accuracy: 0.9295362449347141 Regularization: 0.001\n",
      "Best accuracy: 0.9533993696533093 Regularization: 0.005\n",
      "Best accuracy: 0.959927960378208 Regularization: 0.01\n",
      "Best accuracy: 0.975011256190905 Regularization: 0.05\n",
      "Best accuracy: 0.9788383610986042 Regularization: 0.1\n",
      "Best accuracy: 0.9844664565511031 Regularization: 0.5\n",
      "Best accuracy: 0.984691580369203 Regularization: 3\n"
     ]
    },
    {
     "name": "stderr",
     "output_type": "stream",
     "text": [
      "37it [17:05, 28.44s/it]"
     ]
    },
    {
     "name": "stdout",
     "output_type": "stream",
     "text": [
      "Best accuracy: 0.985141828005403 Regularization: 5\n",
      "CAV accuracy for hair concept (51): 0.9851\n",
      "[0804_111104] 38/623 Calculating CAV for mouth\n",
      "Best accuracy: 0.9169293111211166 Regularization: 0.001\n",
      "Best accuracy: 0.9362899594777128 Regularization: 0.005\n",
      "Best accuracy: 0.9430436740207114 Regularization: 0.01\n",
      "Best accuracy: 0.954750112561909 Regularization: 0.05\n",
      "Best accuracy: 0.9583520936515083 Regularization: 0.1\n",
      "Best accuracy: 0.9669067987393066 Regularization: 0.5\n",
      "Best accuracy: 0.9682575416479063 Regularization: 1\n",
      "Best accuracy: 0.9729851418280054 Regularization: 3\n"
     ]
    },
    {
     "name": "stderr",
     "output_type": "stream",
     "text": [
      "38it [17:39, 30.13s/it]"
     ]
    },
    {
     "name": "stdout",
     "output_type": "stream",
     "text": [
      "CAV accuracy for mouth concept (53): 0.9730\n",
      "[0804_111138] 39/623 Calculating CAV for curtain\n",
      "Best accuracy: 0.8093201260693381 Regularization: 0.001\n",
      "Best accuracy: 0.8230526789734354 Regularization: 0.005\n",
      "Best accuracy: 0.829806393516434 Regularization: 0.01\n",
      "Best accuracy: 0.8426384511481315 Regularization: 0.05\n",
      "Best accuracy: 0.8442143178748311 Regularization: 0.1\n",
      "Best accuracy: 0.8480414227825304 Regularization: 0.5\n",
      "Best accuracy: 0.8484916704187303 Regularization: 1\n",
      "Best accuracy: 0.8487167942368302 Regularization: 3\n"
     ]
    },
    {
     "name": "stderr",
     "output_type": "stream",
     "text": [
      "39it [18:06, 29.09s/it]"
     ]
    },
    {
     "name": "stdout",
     "output_type": "stream",
     "text": [
      "CAV accuracy for curtain concept (54): 0.8487\n",
      "[0804_111205] 40/623 Calculating CAV for pole\n",
      "Best accuracy: 0.7714993246285456 Regularization: 0.001\n",
      "Best accuracy: 0.7924358397118415 Regularization: 0.005\n",
      "Best accuracy: 0.8009905447996398 Regularization: 0.01\n",
      "Best accuracy: 0.8142728500675371 Regularization: 0.05\n",
      "Best accuracy: 0.8217019360648357 Regularization: 0.1\n",
      "Best accuracy: 0.8271049076992346 Regularization: 0.5\n",
      "Best accuracy: 0.8286807744259342 Regularization: 1\n",
      "Best accuracy: 0.8311571364250337 Regularization: 3\n"
     ]
    },
    {
     "name": "stderr",
     "output_type": "stream",
     "text": [
      "40it [18:40, 30.74s/it]"
     ]
    },
    {
     "name": "stdout",
     "output_type": "stream",
     "text": [
      "CAV accuracy for pole concept (55): 0.8312\n",
      "[0804_111240] 41/623 Calculating CAV for mountain\n",
      "Best accuracy: 0.8624493471409275 Regularization: 0.001\n",
      "Best accuracy: 0.8728050427735254 Regularization: 0.005\n",
      "Best accuracy: 0.8768572714993246 Regularization: 0.01\n",
      "Best accuracy: 0.885186852769023 Regularization: 0.05\n",
      "Best accuracy: 0.8883385862224223 Regularization: 0.1\n"
     ]
    },
    {
     "name": "stderr",
     "output_type": "stream",
     "text": [
      "41it [19:10, 30.41s/it]"
     ]
    },
    {
     "name": "stdout",
     "output_type": "stream",
     "text": [
      "CAV accuracy for mountain concept (56): 0.8883\n",
      "[0804_111309] 42/623 Calculating CAV for fence\n",
      "Best accuracy: 0.7624943719045475 Regularization: 0.001\n",
      "Best accuracy: 0.7832057631697433 Regularization: 0.005\n",
      "Best accuracy: 0.7908599729851419 Regularization: 0.01\n",
      "Best accuracy: 0.8036920306168392 Regularization: 0.05\n",
      "Best accuracy: 0.8054930211616389 Regularization: 0.1\n",
      "Best accuracy: 0.8124718595227375 Regularization: 0.5\n"
     ]
    },
    {
     "name": "stderr",
     "output_type": "stream",
     "text": [
      "42it [19:42, 31.08s/it]"
     ]
    },
    {
     "name": "stdout",
     "output_type": "stream",
     "text": [
      "CAV accuracy for fence concept (57): 0.8125\n",
      "[0804_111342] 43/623 Calculating CAV for foot\n",
      "Best accuracy: 0.8793336334984241 Regularization: 0.001\n",
      "Best accuracy: 0.8962179198559208 Regularization: 0.005\n",
      "Best accuracy: 0.9061233678523187 Regularization: 0.01\n",
      "Best accuracy: 0.9254840162089149 Regularization: 0.05\n",
      "Best accuracy: 0.9331382260243134 Regularization: 0.1\n",
      "Best accuracy: 0.95002251238181 Regularization: 0.5\n",
      "Best accuracy: 0.9520486267447096 Regularization: 1\n",
      "Best accuracy: 0.954750112561909 Regularization: 3\n"
     ]
    },
    {
     "name": "stderr",
     "output_type": "stream",
     "text": [
      "43it [20:22, 33.54s/it]"
     ]
    },
    {
     "name": "stdout",
     "output_type": "stream",
     "text": [
      "Best accuracy: 0.9572264745610085 Regularization: 5\n",
      "CAV accuracy for foot concept (58): 0.9572\n",
      "[0804_111421] 44/623 Calculating CAV for streetlight\n",
      "Best accuracy: 0.8541197658712292 Regularization: 0.001\n",
      "Best accuracy: 0.8642503376857271 Regularization: 0.005\n",
      "Best accuracy: 0.8692030616839261 Regularization: 0.01\n",
      "Best accuracy: 0.8721296713192256 Regularization: 0.05\n",
      "Best accuracy: 0.8737055380459252 Regularization: 0.5\n",
      "Best accuracy: 0.8743809095002252 Regularization: 1\n",
      "Best accuracy: 0.875056280954525 Regularization: 3\n"
     ]
    },
    {
     "name": "stderr",
     "output_type": "stream",
     "text": [
      "44it [20:47, 31.12s/it]"
     ]
    },
    {
     "name": "stdout",
     "output_type": "stream",
     "text": [
      "Best accuracy: 0.8755065285907249 Regularization: 5\n",
      "CAV accuracy for streetlight concept (60): 0.8755\n",
      "[0804_111447] 45/623 Calculating CAV for bed\n",
      "Best accuracy: 0.9536244934714093 Regularization: 0.001\n",
      "Best accuracy: 0.9608284556506078 Regularization: 0.005\n",
      "Best accuracy: 0.9619540747411076 Regularization: 0.01\n",
      "Best accuracy: 0.9626294461954075 Regularization: 0.05\n",
      "Best accuracy: 0.9639801891040072 Regularization: 0.5\n"
     ]
    },
    {
     "name": "stderr",
     "output_type": "stream",
     "text": [
      "45it [21:14, 29.68s/it]"
     ]
    },
    {
     "name": "stdout",
     "output_type": "stream",
     "text": [
      "CAV accuracy for bed concept (61): 0.9640\n",
      "[0804_111513] 46/623 Calculating CAV for eyebrow\n",
      "Best accuracy: 0.9997748761819001 Regularization: 0.001\n",
      "Best accuracy: 1.0 Regularization: 0.005\n"
     ]
    },
    {
     "name": "stderr",
     "output_type": "stream",
     "text": [
      "46it [21:23, 23.62s/it]"
     ]
    },
    {
     "name": "stdout",
     "output_type": "stream",
     "text": [
      "CAV accuracy for eyebrow concept (62): 1.0000\n",
      "[0804_111523] 47/623 Calculating CAV for sofa\n",
      "Best accuracy: 0.8903647005853219 Regularization: 0.001\n",
      "Best accuracy: 0.9007203962179199 Regularization: 0.005\n",
      "Best accuracy: 0.9088248536695183 Regularization: 0.01\n",
      "Best accuracy: 0.9209815398469158 Regularization: 0.05\n",
      "Best accuracy: 0.9212066636650158 Regularization: 1\n"
     ]
    },
    {
     "name": "stderr",
     "output_type": "stream",
     "text": [
      "47it [21:53, 25.40s/it]"
     ]
    },
    {
     "name": "stdout",
     "output_type": "stream",
     "text": [
      "CAV accuracy for sofa concept (63): 0.9212\n",
      "[0804_111552] 48/623 Calculating CAV for handle\n",
      "Best accuracy: 0.7755515533543449 Regularization: 0.001\n",
      "Best accuracy: 0.7922107158937416 Regularization: 0.005\n",
      "Best accuracy: 0.7971634398919406 Regularization: 0.01\n",
      "Best accuracy: 0.8009905447996398 Regularization: 0.05\n",
      "Best accuracy: 0.8030166591625394 Regularization: 0.1\n",
      "Best accuracy: 0.805267897343539 Regularization: 0.5\n",
      "Best accuracy: 0.8070688878883386 Regularization: 1\n",
      "Best accuracy: 0.8079693831607384 Regularization: 3\n"
     ]
    },
    {
     "name": "stderr",
     "output_type": "stream",
     "text": [
      "48it [22:20, 25.90s/it]"
     ]
    },
    {
     "name": "stdout",
     "output_type": "stream",
     "text": [
      "CAV accuracy for handle concept (64): 0.8080\n",
      "[0804_111619] 49/623 Calculating CAV for box\n",
      "Best accuracy: 0.7604682575416479 Regularization: 0.001\n",
      "Best accuracy: 0.7660963529941468 Regularization: 0.005\n",
      "Best accuracy: 0.7685727149932463 Regularization: 0.01\n",
      "Best accuracy: 0.7728500675371455 Regularization: 0.05\n",
      "Best accuracy: 0.7742008104457452 Regularization: 0.1\n",
      "Best accuracy: 0.775101305718145 Regularization: 0.5\n",
      "Best accuracy: 0.7762269248086447 Regularization: 1\n"
     ]
    },
    {
     "name": "stderr",
     "output_type": "stream",
     "text": [
      "49it [22:51, 27.53s/it]"
     ]
    },
    {
     "name": "stdout",
     "output_type": "stream",
     "text": [
      "Best accuracy: 0.7769022962629446 Regularization: 5\n",
      "CAV accuracy for box concept (65): 0.7769\n",
      "[0804_111650] 50/623 Calculating CAV for earth\n",
      "Best accuracy: 0.7714993246285456 Regularization: 0.001\n",
      "Best accuracy: 0.7874831157136425 Regularization: 0.005\n",
      "Best accuracy: 0.7910850968032418 Regularization: 0.01\n",
      "Best accuracy: 0.7980639351643404 Regularization: 0.05\n",
      "Best accuracy: 0.80031517334534 Regularization: 0.1\n",
      "Best accuracy: 0.8014407924358398 Regularization: 0.5\n"
     ]
    },
    {
     "name": "stderr",
     "output_type": "stream",
     "text": [
      "50it [23:19, 27.81s/it]"
     ]
    },
    {
     "name": "stdout",
     "output_type": "stream",
     "text": [
      "CAV accuracy for earth concept (68): 0.8014\n",
      "[0804_111719] 51/623 Calculating CAV for bottle\n",
      "Best accuracy: 0.7985141828005403 Regularization: 0.001\n",
      "Best accuracy: 0.8153984691580369 Regularization: 0.005\n",
      "Best accuracy: 0.8192255740657362 Regularization: 0.01\n",
      "Best accuracy: 0.8286807744259342 Regularization: 0.05\n",
      "Best accuracy: 0.8307068887888338 Regularization: 0.1\n"
     ]
    },
    {
     "name": "stderr",
     "output_type": "stream",
     "text": [
      "51it [23:55, 30.10s/it]"
     ]
    },
    {
     "name": "stdout",
     "output_type": "stream",
     "text": [
      "CAV accuracy for bottle concept (70): 0.8307\n",
      "[0804_111754] 52/623 Calculating CAV for paper\n",
      "Best accuracy: 0.8226024313372354 Regularization: 0.001\n",
      "Best accuracy: 0.8376857271499325 Regularization: 0.005\n",
      "Best accuracy: 0.855020261143629 Regularization: 0.01\n",
      "Best accuracy: 0.8728050427735254 Regularization: 0.05\n",
      "Best accuracy: 0.8827104907699235 Regularization: 0.1\n",
      "Best accuracy: 0.8989194056731202 Regularization: 0.5\n",
      "Best accuracy: 0.9025213867627195 Regularization: 1\n",
      "Best accuracy: 0.9043223773075192 Regularization: 3\n"
     ]
    },
    {
     "name": "stderr",
     "output_type": "stream",
     "text": [
      "52it [24:40, 34.55s/it]"
     ]
    },
    {
     "name": "stdout",
     "output_type": "stream",
     "text": [
      "Best accuracy: 0.9045475011256191 Regularization: 5\n",
      "CAV accuracy for paper concept (71): 0.9045\n",
      "[0804_111839] 53/623 Calculating CAV for shelf\n",
      "Best accuracy: 0.7859072489869429 Regularization: 0.001\n",
      "Best accuracy: 0.8043674020711391 Regularization: 0.005\n",
      "Best accuracy: 0.8117964880684376 Regularization: 0.01\n",
      "Best accuracy: 0.8194506978838361 Regularization: 0.05\n",
      "Best accuracy: 0.8230526789734354 Regularization: 0.1\n",
      "Best accuracy: 0.8237280504277352 Regularization: 0.5\n"
     ]
    },
    {
     "name": "stderr",
     "output_type": "stream",
     "text": [
      "53it [25:13, 34.13s/it]"
     ]
    },
    {
     "name": "stdout",
     "output_type": "stream",
     "text": [
      "CAV accuracy for shelf concept (72): 0.8237\n",
      "[0804_111912] 54/623 Calculating CAV for headlight\n",
      "Best accuracy: 0.9079243583971184 Regularization: 0.001\n",
      "Best accuracy: 0.920081044574516 Regularization: 0.005\n",
      "Best accuracy: 0.9259342638451148 Regularization: 0.01\n",
      "Best accuracy: 0.9371904547501125 Regularization: 0.05\n",
      "Best accuracy: 0.9398919405673121 Regularization: 0.1\n",
      "Best accuracy: 0.9468707789284107 Regularization: 0.5\n",
      "Best accuracy: 0.9482215218370104 Regularization: 1\n",
      "Best accuracy: 0.9484466456551103 Regularization: 3\n"
     ]
    },
    {
     "name": "stderr",
     "output_type": "stream",
     "text": [
      "54it [25:45, 33.52s/it]"
     ]
    },
    {
     "name": "stdout",
     "output_type": "stream",
     "text": [
      "CAV accuracy for headlight concept (73): 0.9484\n",
      "[0804_111945] 55/623 Calculating CAV for drawer\n",
      "Best accuracy: 0.8471409275101306 Regularization: 0.001\n",
      "Best accuracy: 0.8613237280504278 Regularization: 0.005\n",
      "Best accuracy: 0.8638000900495273 Regularization: 0.01\n",
      "Best accuracy: 0.8741557856821252 Regularization: 0.05\n",
      "Best accuracy: 0.875281404772625 Regularization: 0.1\n"
     ]
    },
    {
     "name": "stderr",
     "output_type": "stream",
     "text": [
      "55it [26:17, 33.15s/it]"
     ]
    },
    {
     "name": "stdout",
     "output_type": "stream",
     "text": [
      "CAV accuracy for drawer concept (74): 0.8753\n",
      "[0804_112017] 56/623 Calculating CAV for water\n",
      "Best accuracy: 0.9002701485817199 Regularization: 0.001\n",
      "Best accuracy: 0.9137775776677173 Regularization: 0.005\n",
      "Best accuracy: 0.9185051778478163 Regularization: 0.01\n",
      "Best accuracy: 0.929761368752814 Regularization: 0.05\n",
      "Best accuracy: 0.9317874831157137 Regularization: 0.1\n",
      "Best accuracy: 0.9365150832958127 Regularization: 0.5\n",
      "Best accuracy: 0.9374155785682126 Regularization: 3\n"
     ]
    },
    {
     "name": "stderr",
     "output_type": "stream",
     "text": [
      "56it [26:50, 33.07s/it]"
     ]
    },
    {
     "name": "stdout",
     "output_type": "stream",
     "text": [
      "CAV accuracy for water concept (75): 0.9374\n",
      "[0804_112050] 57/623 Calculating CAV for railing\n",
      "Best accuracy: 0.7107158937415579 Regularization: 0.001\n",
      "Best accuracy: 0.7262494371904548 Regularization: 0.005\n",
      "Best accuracy: 0.7289509230076542 Regularization: 0.01\n",
      "Best accuracy: 0.7336785231877533 Regularization: 0.05\n",
      "Best accuracy: 0.735029266096353 Regularization: 0.1\n",
      "Best accuracy: 0.7354795137325529 Regularization: 0.5\n"
     ]
    },
    {
     "name": "stderr",
     "output_type": "stream",
     "text": [
      "57it [27:21, 32.49s/it]"
     ]
    },
    {
     "name": "stdout",
     "output_type": "stream",
     "text": [
      "CAV accuracy for railing concept (76): 0.7355\n",
      "[0804_112121] 58/623 Calculating CAV for cushion\n",
      "Best accuracy: 0.8941918054930211 Regularization: 0.001\n",
      "Best accuracy: 0.8977937865826204 Regularization: 0.005\n",
      "Best accuracy: 0.9007203962179199 Regularization: 0.01\n",
      "Best accuracy: 0.9058982440342188 Regularization: 0.05\n",
      "Best accuracy: 0.9099504727600181 Regularization: 0.1\n",
      "Best accuracy: 0.9104007203962179 Regularization: 0.5\n",
      "Best accuracy: 0.9110760918505177 Regularization: 1\n",
      "Best accuracy: 0.9115263394867177 Regularization: 3\n"
     ]
    },
    {
     "name": "stderr",
     "output_type": "stream",
     "text": [
      "58it [27:50, 31.33s/it]"
     ]
    },
    {
     "name": "stdout",
     "output_type": "stream",
     "text": [
      "Best accuracy: 0.9117514633048176 Regularization: 5\n",
      "CAV accuracy for cushion concept (77): 0.9118\n",
      "[0804_112149] 59/623 Calculating CAV for book\n",
      "Best accuracy: 0.8142728500675371 Regularization: 0.001\n",
      "Best accuracy: 0.8390364700585322 Regularization: 0.005\n",
      "Best accuracy: 0.8478162989644304 Regularization: 0.01\n",
      "Best accuracy: 0.860198108959928 Regularization: 0.05\n",
      "Best accuracy: 0.8644754615038271 Regularization: 0.1\n",
      "Best accuracy: 0.8694281855020262 Regularization: 0.5\n",
      "Best accuracy: 0.8712291760468257 Regularization: 1\n",
      "Best accuracy: 0.8719045475011257 Regularization: 3\n"
     ]
    },
    {
     "name": "stderr",
     "output_type": "stream",
     "text": [
      "59it [28:24, 32.21s/it]"
     ]
    },
    {
     "name": "stdout",
     "output_type": "stream",
     "text": [
      "Best accuracy: 0.8723547951373255 Regularization: 5\n",
      "CAV accuracy for book concept (78): 0.8724\n",
      "[0804_112224] 60/623 Calculating CAV for flower\n",
      "Best accuracy: 0.820351193156236 Regularization: 0.001\n",
      "Best accuracy: 0.8226024313372354 Regularization: 0.005\n",
      "Best accuracy: 0.8268797838811346 Regularization: 0.05\n",
      "Best accuracy: 0.8277802791535345 Regularization: 0.1\n"
     ]
    },
    {
     "name": "stderr",
     "output_type": "stream",
     "text": [
      "60it [28:56, 32.10s/it]"
     ]
    },
    {
     "name": "stdout",
     "output_type": "stream",
     "text": [
      "CAV accuracy for flower concept (79): 0.8278\n",
      "[0804_112256] 61/623 Calculating CAV for back\n",
      "Best accuracy: 0.8014407924358398 Regularization: 0.001\n",
      "Best accuracy: 0.8124718595227375 Regularization: 0.005\n",
      "Best accuracy: 0.8180999549752364 Regularization: 0.01\n",
      "Best accuracy: 0.8226024313372354 Regularization: 0.05\n",
      "Best accuracy: 0.8228275551553355 Regularization: 3\n"
     ]
    },
    {
     "name": "stderr",
     "output_type": "stream",
     "text": [
      "61it [29:28, 32.02s/it]"
     ]
    },
    {
     "name": "stdout",
     "output_type": "stream",
     "text": [
      "CAV accuracy for back concept (81): 0.8228\n",
      "[0804_112327] 62/623 Calculating CAV for shade\n",
      "Best accuracy: 0.8568212516884286 Regularization: 0.001\n",
      "Best accuracy: 0.865150832958127 Regularization: 0.005\n",
      "Best accuracy: 0.8710040522287258 Regularization: 0.01\n",
      "Best accuracy: 0.8845114813147231 Regularization: 0.05\n",
      "Best accuracy: 0.8881134624043224 Regularization: 0.1\n",
      "Best accuracy: 0.8914903196758217 Regularization: 0.5\n",
      "Best accuracy: 0.8930661864025213 Regularization: 1\n",
      "Best accuracy: 0.8946420531292211 Regularization: 3\n"
     ]
    },
    {
     "name": "stderr",
     "output_type": "stream",
     "text": [
      "62it [30:01, 32.33s/it]"
     ]
    },
    {
     "name": "stdout",
     "output_type": "stream",
     "text": [
      "CAV accuracy for shade concept (82): 0.8946\n",
      "[0804_112400] 63/623 Calculating CAV for rock\n",
      "Best accuracy: 0.8577217469608285 Regularization: 0.001\n",
      "Best accuracy: 0.8714542998649257 Regularization: 0.005\n",
      "Best accuracy: 0.8784331382260243 Regularization: 0.01\n",
      "Best accuracy: 0.8860873480414228 Regularization: 0.05\n",
      "Best accuracy: 0.8887888338586223 Regularization: 0.1\n",
      "Best accuracy: 0.8926159387663215 Regularization: 0.5\n",
      "Best accuracy: 0.8939666816749212 Regularization: 1\n",
      "Best accuracy: 0.8959927960378208 Regularization: 3\n"
     ]
    },
    {
     "name": "stderr",
     "output_type": "stream",
     "text": [
      "63it [30:36, 33.16s/it]"
     ]
    },
    {
     "name": "stdout",
     "output_type": "stream",
     "text": [
      "Best accuracy: 0.8977937865826204 Regularization: 5\n",
      "CAV accuracy for rock concept (85): 0.8978\n",
      "[0804_112436] 64/623 Calculating CAV for seat\n",
      "Best accuracy: 0.775101305718145 Regularization: 0.001\n",
      "Best accuracy: 0.7879333633498424 Regularization: 0.005\n",
      "Best accuracy: 0.795362449347141 Regularization: 0.01\n",
      "Best accuracy: 0.8095452498874381 Regularization: 0.05\n",
      "Best accuracy: 0.8117964880684376 Regularization: 0.5\n",
      "Best accuracy: 0.8126969833408375 Regularization: 1\n"
     ]
    },
    {
     "name": "stderr",
     "output_type": "stream",
     "text": [
      "64it [31:12, 33.94s/it]"
     ]
    },
    {
     "name": "stdout",
     "output_type": "stream",
     "text": [
      "Best accuracy: 0.8129221071589374 Regularization: 5\n",
      "CAV accuracy for seat concept (86): 0.8129\n",
      "[0804_112511] 65/623 Calculating CAV for vase\n",
      "Best accuracy: 0.8295812696983341 Regularization: 0.001\n",
      "Best accuracy: 0.8435389464205313 Regularization: 0.005\n",
      "Best accuracy: 0.8466906798739307 Regularization: 0.01\n",
      "Best accuracy: 0.8475911751463305 Regularization: 0.05\n",
      "Best accuracy: 0.8478162989644304 Regularization: 0.1\n",
      "Best accuracy: 0.85006753714543 Regularization: 0.5\n"
     ]
    },
    {
     "name": "stderr",
     "output_type": "stream",
     "text": [
      "65it [31:44, 33.34s/it]"
     ]
    },
    {
     "name": "stdout",
     "output_type": "stream",
     "text": [
      "CAV accuracy for vase concept (88): 0.8501\n",
      "[0804_112543] 66/623 Calculating CAV for pot\n",
      "Best accuracy: 0.794912201710941 Regularization: 0.001\n",
      "Best accuracy: 0.8057181449797388 Regularization: 0.005\n",
      "Best accuracy: 0.8090950022512382 Regularization: 0.01\n",
      "Best accuracy: 0.8237280504277352 Regularization: 0.05\n",
      "Best accuracy: 0.8259792886087348 Regularization: 0.1\n",
      "Best accuracy: 0.8345339936965331 Regularization: 0.5\n",
      "Best accuracy: 0.8361098604232328 Regularization: 3\n"
     ]
    },
    {
     "name": "stderr",
     "output_type": "stream",
     "text": [
      "66it [32:22, 34.90s/it]"
     ]
    },
    {
     "name": "stdout",
     "output_type": "stream",
     "text": [
      "Best accuracy: 0.8365601080594327 Regularization: 5\n",
      "CAV accuracy for pot concept (89): 0.8366\n",
      "[0804_112622] 67/623 Calculating CAV for flowerpot\n",
      "Best accuracy: 0.7723998199009455 Regularization: 0.001\n",
      "Best accuracy: 0.7825303917154435 Regularization: 0.005\n",
      "Best accuracy: 0.7868077442593426 Regularization: 0.01\n",
      "Best accuracy: 0.7933363349842414 Regularization: 0.05\n",
      "Best accuracy: 0.795362449347141 Regularization: 0.1\n"
     ]
    },
    {
     "name": "stderr",
     "output_type": "stream",
     "text": [
      "67it [32:56, 34.55s/it]"
     ]
    },
    {
     "name": "stdout",
     "output_type": "stream",
     "text": [
      "CAV accuracy for flowerpot concept (90): 0.7954\n",
      "[0804_112656] 68/623 Calculating CAV for sink\n",
      "Best accuracy: 0.9479963980189104 Regularization: 0.001\n",
      "Best accuracy: 0.9515983791085096 Regularization: 0.005\n",
      "Best accuracy: 0.9524988743809095 Regularization: 0.01\n",
      "Best accuracy: 0.9563259792886087 Regularization: 0.05\n",
      "Best accuracy: 0.9567762269248087 Regularization: 0.1\n"
     ]
    },
    {
     "name": "stderr",
     "output_type": "stream",
     "text": [
      "68it [33:25, 32.90s/it]"
     ]
    },
    {
     "name": "stdout",
     "output_type": "stream",
     "text": [
      "CAV accuracy for sink concept (91): 0.9568\n",
      "[0804_112725] 69/623 Calculating CAV for column\n",
      "Best accuracy: 0.8509680324178298 Regularization: 0.001\n",
      "Best accuracy: 0.8534443944169293 Regularization: 0.005\n",
      "Best accuracy: 0.8563710040522288 Regularization: 0.01\n",
      "Best accuracy: 0.859747861323728 Regularization: 0.05\n",
      "Best accuracy: 0.8610986042323278 Regularization: 0.1\n"
     ]
    },
    {
     "name": "stderr",
     "output_type": "stream",
     "text": [
      "69it [33:55, 32.06s/it]"
     ]
    },
    {
     "name": "stdout",
     "output_type": "stream",
     "text": [
      "CAV accuracy for column concept (92): 0.8611\n",
      "[0804_112755] 70/623 Calculating CAV for dog\n",
      "Best accuracy: 0.8628995947771274 Regularization: 0.001\n",
      "Best accuracy: 0.9070238631247186 Regularization: 0.005\n",
      "Best accuracy: 0.9214317874831157 Regularization: 0.01\n",
      "Best accuracy: 0.9506978838361099 Regularization: 0.05\n",
      "Best accuracy: 0.9581269698334084 Regularization: 0.1\n",
      "Best accuracy: 0.9687077892841063 Regularization: 0.5\n",
      "Best accuracy: 0.975011256190905 Regularization: 1\n",
      "Best accuracy: 0.9783881134624043 Regularization: 3\n"
     ]
    },
    {
     "name": "stderr",
     "output_type": "stream",
     "text": [
      "70it [34:35, 34.48s/it]"
     ]
    },
    {
     "name": "stdout",
     "output_type": "stream",
     "text": [
      "Best accuracy: 0.9786132372805043 Regularization: 5\n",
      "CAV accuracy for dog concept (93): 0.9786\n",
      "[0804_112835] 71/623 Calculating CAV for food\n",
      "Best accuracy: 0.9482215218370104 Regularization: 0.001\n",
      "Best accuracy: 0.9630796938316074 Regularization: 0.005\n",
      "Best accuracy: 0.9684826654660063 Regularization: 0.01\n",
      "Best accuracy: 0.9806393516434039 Regularization: 0.05\n",
      "Best accuracy: 0.9835659612787033 Regularization: 0.1\n",
      "Best accuracy: 0.9873930661864025 Regularization: 0.5\n",
      "Best accuracy: 0.9882935614588023 Regularization: 1\n",
      "Best accuracy: 0.9889689329131022 Regularization: 3\n"
     ]
    },
    {
     "name": "stderr",
     "output_type": "stream",
     "text": [
      "71it [35:01, 31.88s/it]"
     ]
    },
    {
     "name": "stdout",
     "output_type": "stream",
     "text": [
      "CAV accuracy for food concept (94): 0.9890\n",
      "[0804_112901] 72/623 Calculating CAV for armchair\n",
      "Best accuracy: 0.865150832958127 Regularization: 0.001\n",
      "Best accuracy: 0.8777577667717245 Regularization: 0.005\n",
      "Best accuracy: 0.8791085096803242 Regularization: 0.01\n",
      "Best accuracy: 0.8872129671319225 Regularization: 0.05\n",
      "Best accuracy: 0.889689329131022 Regularization: 0.1\n",
      "Best accuracy: 0.8971184151283206 Regularization: 0.5\n",
      "Best accuracy: 0.8977937865826204 Regularization: 1\n",
      "Best accuracy: 0.8991445294912201 Regularization: 3\n"
     ]
    },
    {
     "name": "stderr",
     "output_type": "stream",
     "text": [
      "72it [35:32, 31.49s/it]"
     ]
    },
    {
     "name": "stdout",
     "output_type": "stream",
     "text": [
      "CAV accuracy for armchair concept (95): 0.8991\n",
      "[0804_112931] 73/623 Calculating CAV for faucet\n",
      "Best accuracy: 0.9513732552904097 Regularization: 0.001\n",
      "Best accuracy: 0.9542998649257092 Regularization: 0.005\n",
      "Best accuracy: 0.9563259792886087 Regularization: 0.01\n",
      "Best accuracy: 0.9606033318325079 Regularization: 0.05\n",
      "Best accuracy: 0.9617289509230077 Regularization: 0.1\n"
     ]
    },
    {
     "name": "stderr",
     "output_type": "stream",
     "text": [
      "73it [36:00, 30.63s/it]"
     ]
    },
    {
     "name": "stdout",
     "output_type": "stream",
     "text": [
      "CAV accuracy for faucet concept (96): 0.9617\n",
      "[0804_113000] 74/623 Calculating CAV for wall socket\n",
      "Best accuracy: 0.7775776677172445 Regularization: 0.001\n",
      "Best accuracy: 0.7989644304367403 Regularization: 0.005\n",
      "Best accuracy: 0.8090950022512382 Regularization: 0.01\n",
      "Best accuracy: 0.8322827555155335 Regularization: 0.05\n",
      "Best accuracy: 0.8363349842413327 Regularization: 0.1\n",
      "Best accuracy: 0.839936965330932 Regularization: 0.5\n",
      "Best accuracy: 0.8417379558757316 Regularization: 1\n",
      "Best accuracy: 0.8424133273300315 Regularization: 3\n"
     ]
    },
    {
     "name": "stderr",
     "output_type": "stream",
     "text": [
      "74it [36:37, 32.50s/it]"
     ]
    },
    {
     "name": "stdout",
     "output_type": "stream",
     "text": [
      "Best accuracy: 0.8433138226024314 Regularization: 5\n",
      "CAV accuracy for wall socket concept (97): 0.8433\n",
      "[0804_113037] 75/623 Calculating CAV for body\n",
      "Best accuracy: 0.9709590274651058 Regularization: 0.001\n",
      "Best accuracy: 0.9797388563710041 Regularization: 0.005\n",
      "Best accuracy: 0.9831157136425034 Regularization: 0.01\n",
      "Best accuracy: 0.9907699234579018 Regularization: 0.05\n",
      "Best accuracy: 0.9923457901846016 Regularization: 0.1\n",
      "Best accuracy: 0.9948221521837011 Regularization: 0.5\n",
      "Best accuracy: 0.9954975236380009 Regularization: 1\n",
      "Best accuracy: 0.9957226474561008 Regularization: 3\n"
     ]
    },
    {
     "name": "stderr",
     "output_type": "stream",
     "text": [
      "75it [36:56, 28.26s/it]"
     ]
    },
    {
     "name": "stdout",
     "output_type": "stream",
     "text": [
      "Best accuracy: 0.9961728950923008 Regularization: 5\n",
      "CAV accuracy for body concept (98): 0.9962\n",
      "[0804_113055] 76/623 Calculating CAV for knob\n",
      "Best accuracy: 0.8147230977037371 Regularization: 0.001\n",
      "Best accuracy: 0.8226024313372354 Regularization: 0.005\n",
      "Best accuracy: 0.8286807744259342 Regularization: 0.01\n",
      "Best accuracy: 0.8478162989644304 Regularization: 0.05\n",
      "Best accuracy: 0.855020261143629 Regularization: 0.1\n",
      "Best accuracy: 0.8574966231427285 Regularization: 0.5\n",
      "Best accuracy: 0.8581719945970284 Regularization: 1\n",
      "Best accuracy: 0.859747861323728 Regularization: 3\n"
     ]
    },
    {
     "name": "stderr",
     "output_type": "stream",
     "text": [
      "76it [37:30, 30.12s/it]"
     ]
    },
    {
     "name": "stdout",
     "output_type": "stream",
     "text": [
      "Best accuracy: 0.859972985141828 Regularization: 5\n",
      "CAV accuracy for knob concept (99): 0.8600\n",
      "[0804_113129] 77/623 Calculating CAV for sconce\n",
      "Best accuracy: 0.75033768572715 Regularization: 0.001\n",
      "Best accuracy: 0.7701485817199459 Regularization: 0.005\n",
      "Best accuracy: 0.7780279153534444 Regularization: 0.01\n",
      "Best accuracy: 0.7883836109860424 Regularization: 0.05\n",
      "Best accuracy: 0.7913102206213417 Regularization: 0.1\n",
      "Best accuracy: 0.7935614588023413 Regularization: 0.5\n",
      "Best accuracy: 0.794912201710941 Regularization: 1\n",
      "Best accuracy: 0.7960378208014408 Regularization: 3\n"
     ]
    },
    {
     "name": "stderr",
     "output_type": "stream",
     "text": [
      "77it [38:06, 31.82s/it]"
     ]
    },
    {
     "name": "stdout",
     "output_type": "stream",
     "text": [
      "CAV accuracy for sconce concept (100): 0.7960\n",
      "[0804_113205] 78/623 Calculating CAV for pillow\n",
      "Best accuracy: 0.929761368752814 Regularization: 0.001\n",
      "Best accuracy: 0.9340387212967132 Regularization: 0.005\n",
      "Best accuracy: 0.9367402071139127 Regularization: 0.01\n",
      "Best accuracy: 0.9410175596578118 Regularization: 0.05\n",
      "Best accuracy: 0.9439441692931112 Regularization: 0.1\n",
      "Best accuracy: 0.9457451598379109 Regularization: 0.5\n",
      "Best accuracy: 0.9479963980189104 Regularization: 1\n"
     ]
    },
    {
     "name": "stderr",
     "output_type": "stream",
     "text": [
      "78it [38:40, 32.67s/it]"
     ]
    },
    {
     "name": "stdout",
     "output_type": "stream",
     "text": [
      "Best accuracy: 0.9484466456551103 Regularization: 5\n",
      "CAV accuracy for pillow concept (101): 0.9484\n",
      "[0804_113240] 79/623 Calculating CAV for base\n",
      "Best accuracy: 0.835209365150833 Regularization: 0.001\n",
      "Best accuracy: 0.8446645655110311 Regularization: 0.005\n",
      "Best accuracy: 0.85029266096353 Regularization: 0.01\n",
      "Best accuracy: 0.8635749662314273 Regularization: 0.05\n",
      "Best accuracy: 0.8703286807744259 Regularization: 0.1\n",
      "Best accuracy: 0.8757316524088249 Regularization: 0.5\n",
      "Best accuracy: 0.8770823953174246 Regularization: 1\n",
      "Best accuracy: 0.8791085096803242 Regularization: 3\n"
     ]
    },
    {
     "name": "stderr",
     "output_type": "stream",
     "text": [
      "79it [39:19, 34.43s/it]"
     ]
    },
    {
     "name": "stdout",
     "output_type": "stream",
     "text": [
      "Best accuracy: 0.8795587573165241 Regularization: 5\n",
      "CAV accuracy for base concept (102): 0.8796\n",
      "[0804_113318] 80/623 Calculating CAV for headboard\n",
      "Best accuracy: 0.9466456551103106 Regularization: 0.001\n",
      "Best accuracy: 0.9518235029266097 Regularization: 0.005\n",
      "Best accuracy: 0.9540747411076091 Regularization: 0.01\n",
      "Best accuracy: 0.9572264745610085 Regularization: 0.05\n",
      "Best accuracy: 0.959702836560108 Regularization: 0.1\n",
      "Best accuracy: 0.959927960378208 Regularization: 0.5\n",
      "Best accuracy: 0.9610535794687078 Regularization: 1\n"
     ]
    },
    {
     "name": "stderr",
     "output_type": "stream",
     "text": [
      "80it [39:49, 33.25s/it]"
     ]
    },
    {
     "name": "stdout",
     "output_type": "stream",
     "text": [
      "CAV accuracy for headboard concept (103): 0.9611\n",
      "[0804_113349] 81/623 Calculating CAV for stairs\n",
      "Best accuracy: 0.7568662764520486 Regularization: 0.001\n",
      "Best accuracy: 0.7730751913552454 Regularization: 0.005\n",
      "Best accuracy: 0.7805042773525439 Regularization: 0.01\n",
      "Best accuracy: 0.7924358397118415 Regularization: 0.05\n",
      "Best accuracy: 0.7933363349842414 Regularization: 0.1\n",
      "Best accuracy: 0.7982890589824403 Regularization: 0.5\n",
      "Best accuracy: 0.7987393066186402 Regularization: 1\n"
     ]
    },
    {
     "name": "stderr",
     "output_type": "stream",
     "text": [
      "81it [40:28, 34.73s/it]"
     ]
    },
    {
     "name": "stdout",
     "output_type": "stream",
     "text": [
      "Best accuracy: 0.79986492570914 Regularization: 5\n",
      "CAV accuracy for stairs concept (104): 0.7999\n",
      "[0804_113427] 82/623 Calculating CAV for cat\n",
      "Best accuracy: 0.9680324178298064 Regularization: 0.001\n",
      "Best accuracy: 0.985366951823503 Regularization: 0.005\n",
      "Best accuracy: 0.989644304367402 Regularization: 0.01\n",
      "Best accuracy: 0.9954975236380009 Regularization: 0.05\n",
      "Best accuracy: 0.9961728950923008 Regularization: 0.1\n",
      "Best accuracy: 0.9972985141828006 Regularization: 0.5\n",
      "Best accuracy: 0.9977487618190004 Regularization: 1\n",
      "Best accuracy: 0.9979738856371004 Regularization: 3\n"
     ]
    },
    {
     "name": "stderr",
     "output_type": "stream",
     "text": [
      "82it [40:52, 31.60s/it]"
     ]
    },
    {
     "name": "stdout",
     "output_type": "stream",
     "text": [
      "CAV accuracy for cat concept (105): 0.9980\n",
      "[0804_113451] 83/623 Calculating CAV for license plate\n",
      "Best accuracy: 0.9110760918505177 Regularization: 0.001\n",
      "Best accuracy: 0.9236830256641153 Regularization: 0.005\n",
      "Best accuracy: 0.9270598829356146 Regularization: 0.01\n",
      "Best accuracy: 0.9383160738406123 Regularization: 0.05\n",
      "Best accuracy: 0.9407924358397118 Regularization: 0.1\n",
      "Best accuracy: 0.9434939216569113 Regularization: 0.5\n",
      "Best accuracy: 0.9443944169293111 Regularization: 1\n",
      "Best accuracy: 0.9448446645655111 Regularization: 3\n"
     ]
    },
    {
     "name": "stderr",
     "output_type": "stream",
     "text": [
      "83it [41:25, 31.94s/it]"
     ]
    },
    {
     "name": "stdout",
     "output_type": "stream",
     "text": [
      "Best accuracy: 0.9470959027465106 Regularization: 5\n",
      "CAV accuracy for license plate concept (106): 0.9471\n",
      "[0804_113524] 84/623 Calculating CAV for plate\n",
      "Best accuracy: 0.8561458802341287 Regularization: 0.001\n",
      "Best accuracy: 0.8703286807744259 Regularization: 0.005\n",
      "Best accuracy: 0.874831157136425 Regularization: 0.01\n",
      "Best accuracy: 0.884961728950923 Regularization: 0.05\n",
      "Best accuracy: 0.8903647005853219 Regularization: 0.1\n",
      "Best accuracy: 0.9018460153084197 Regularization: 0.5\n",
      "Best accuracy: 0.9040972534894192 Regularization: 1\n",
      "Best accuracy: 0.9058982440342188 Regularization: 3\n"
     ]
    },
    {
     "name": "stderr",
     "output_type": "stream",
     "text": [
      "84it [42:00, 33.08s/it]"
     ]
    },
    {
     "name": "stdout",
     "output_type": "stream",
     "text": [
      "CAV accuracy for plate concept (107): 0.9059\n",
      "[0804_113600] 85/623 Calculating CAV for top\n",
      "Best accuracy: 0.7962629446195407 Regularization: 0.001\n",
      "Best accuracy: 0.8131472309770373 Regularization: 0.005\n",
      "Best accuracy: 0.8196758217019361 Regularization: 0.01\n",
      "Best accuracy: 0.8381359747861323 Regularization: 0.05\n",
      "Best accuracy: 0.8426384511481315 Regularization: 0.1\n",
      "Best accuracy: 0.8484916704187303 Regularization: 0.5\n",
      "Best accuracy: 0.8489419180549302 Regularization: 1\n",
      "Best accuracy: 0.8516434038721297 Regularization: 3\n"
     ]
    },
    {
     "name": "stderr",
     "output_type": "stream",
     "text": [
      "85it [42:37, 34.20s/it]"
     ]
    },
    {
     "name": "stdout",
     "output_type": "stream",
     "text": [
      "Best accuracy: 0.8523187753264295 Regularization: 5\n",
      "CAV accuracy for top concept (108): 0.8523\n",
      "[0804_113637] 86/623 Calculating CAV for bowl\n",
      "Best accuracy: 0.8509680324178298 Regularization: 0.001\n",
      "Best accuracy: 0.8608734804142278 Regularization: 0.005\n",
      "Best accuracy: 0.8662764520486268 Regularization: 0.01\n",
      "Best accuracy: 0.8775326429536245 Regularization: 0.05\n",
      "Best accuracy: 0.8845114813147231 Regularization: 0.1\n",
      "Best accuracy: 0.8957676722197209 Regularization: 0.5\n",
      "Best accuracy: 0.8991445294912201 Regularization: 1\n",
      "Best accuracy: 0.9018460153084197 Regularization: 3\n"
     ]
    },
    {
     "name": "stderr",
     "output_type": "stream",
     "text": [
      "86it [43:13, 34.77s/it]"
     ]
    },
    {
     "name": "stdout",
     "output_type": "stream",
     "text": [
      "Best accuracy: 0.9029716343989194 Regularization: 5\n",
      "CAV accuracy for bowl concept (109): 0.9030\n",
      "[0804_113713] 87/623 Calculating CAV for screen\n",
      "Best accuracy: 0.9009455200360198 Regularization: 0.001\n",
      "Best accuracy: 0.9162539396668168 Regularization: 0.005\n",
      "Best accuracy: 0.9243583971184152 Regularization: 0.01\n",
      "Best accuracy: 0.9356145880234129 Regularization: 0.05\n",
      "Best accuracy: 0.9414678072940117 Regularization: 0.1\n",
      "Best accuracy: 0.9509230076542098 Regularization: 0.5\n",
      "Best accuracy: 0.9531742458352094 Regularization: 1\n",
      "Best accuracy: 0.955425484016209 Regularization: 3\n"
     ]
    },
    {
     "name": "stderr",
     "output_type": "stream",
     "text": [
      "87it [43:49, 35.14s/it]"
     ]
    },
    {
     "name": "stdout",
     "output_type": "stream",
     "text": [
      "CAV accuracy for screen concept (110): 0.9554\n",
      "[0804_113749] 88/623 Calculating CAV for clock\n",
      "Best accuracy: 0.7370553804592526 Regularization: 0.001\n",
      "Best accuracy: 0.7602431337235479 Regularization: 0.005\n",
      "Best accuracy: 0.7712742008104457 Regularization: 0.01\n",
      "Best accuracy: 0.784556506078343 Regularization: 0.05\n",
      "Best accuracy: 0.7877082395317424 Regularization: 0.1\n",
      "Best accuracy: 0.7892841062584421 Regularization: 0.5\n",
      "Best accuracy: 0.7908599729851419 Regularization: 1\n"
     ]
    },
    {
     "name": "stderr",
     "output_type": "stream",
     "text": [
      "88it [44:21, 34.24s/it]"
     ]
    },
    {
     "name": "stdout",
     "output_type": "stream",
     "text": [
      "CAV accuracy for clock concept (111): 0.7909\n",
      "[0804_113821] 89/623 Calculating CAV for bag\n",
      "Best accuracy: 0.7917604682575416 Regularization: 0.001\n",
      "Best accuracy: 0.8180999549752364 Regularization: 0.005\n",
      "Best accuracy: 0.8246285457001351 Regularization: 0.01\n",
      "Best accuracy: 0.8356596127870328 Regularization: 0.05\n",
      "Best accuracy: 0.8361098604232328 Regularization: 0.1\n",
      "Best accuracy: 0.8446645655110311 Regularization: 0.5\n"
     ]
    },
    {
     "name": "stderr",
     "output_type": "stream",
     "text": [
      "89it [45:00, 35.65s/it]"
     ]
    },
    {
     "name": "stdout",
     "output_type": "stream",
     "text": [
      "Best accuracy: 0.8457901846015309 Regularization: 5\n",
      "CAV accuracy for bag concept (112): 0.8458\n",
      "[0804_113900] 90/623 Calculating CAV for pillar\n",
      "Best accuracy: 0.8039171544349392 Regularization: 0.001\n",
      "Best accuracy: 0.8153984691580369 Regularization: 0.005\n",
      "Best accuracy: 0.8255290409725349 Regularization: 0.01\n",
      "Best accuracy: 0.8304817649707339 Regularization: 0.05\n",
      "Best accuracy: 0.8325078793336335 Regularization: 0.1\n"
     ]
    },
    {
     "name": "stderr",
     "output_type": "stream",
     "text": [
      "90it [45:36, 35.71s/it]"
     ]
    },
    {
     "name": "stdout",
     "output_type": "stream",
     "text": [
      "CAV accuracy for pillar concept (113): 0.8325\n",
      "[0804_113936] 91/623 Calculating CAV for seat cushion\n",
      "Best accuracy: 0.8923908149482215 Regularization: 0.001\n",
      "Best accuracy: 0.905222872579919 Regularization: 0.005\n",
      "Best accuracy: 0.9099504727600181 Regularization: 0.01\n",
      "Best accuracy: 0.9216569113012156 Regularization: 0.05\n",
      "Best accuracy: 0.9272850067537145 Regularization: 0.1\n",
      "Best accuracy: 0.9329131022062134 Regularization: 0.5\n",
      "Best accuracy: 0.9342638451148132 Regularization: 1\n",
      "Best accuracy: 0.934939216569113 Regularization: 3\n"
     ]
    },
    {
     "name": "stderr",
     "output_type": "stream",
     "text": [
      "91it [46:10, 35.17s/it]"
     ]
    },
    {
     "name": "stdout",
     "output_type": "stream",
     "text": [
      "Best accuracy: 0.9365150832958127 Regularization: 5\n",
      "CAV accuracy for seat cushion concept (114): 0.9365\n",
      "[0804_114010] 92/623 Calculating CAV for bicycle\n",
      "Best accuracy: 0.8354344889689329 Regularization: 0.001\n",
      "Best accuracy: 0.8579468707789284 Regularization: 0.005\n",
      "Best accuracy: 0.8667266996848266 Regularization: 0.01\n",
      "Best accuracy: 0.8930661864025213 Regularization: 0.05\n",
      "Best accuracy: 0.9034218820351193 Regularization: 0.1\n",
      "Best accuracy: 0.9196307969383161 Regularization: 0.5\n",
      "Best accuracy: 0.9252588923908149 Regularization: 1\n",
      "Best accuracy: 0.9317874831157137 Regularization: 3\n"
     ]
    },
    {
     "name": "stderr",
     "output_type": "stream",
     "text": [
      "92it [46:49, 36.15s/it]"
     ]
    },
    {
     "name": "stdout",
     "output_type": "stream",
     "text": [
      "Best accuracy: 0.9338135974786133 Regularization: 5\n",
      "CAV accuracy for bicycle concept (115): 0.9338\n",
      "[0804_114048] 93/623 Calculating CAV for stove\n",
      "Best accuracy: 0.964655560558307 Regularization: 0.001\n",
      "Best accuracy: 0.9707339036470058 Regularization: 0.005\n",
      "Best accuracy: 0.9734353894642053 Regularization: 0.01\n",
      "Best accuracy: 0.9779378658262045 Regularization: 0.05\n",
      "Best accuracy: 0.979963980189104 Regularization: 0.1\n",
      "Best accuracy: 0.9806393516434039 Regularization: 0.5\n",
      "Best accuracy: 0.9808644754615038 Regularization: 1\n"
     ]
    },
    {
     "name": "stderr",
     "output_type": "stream",
     "text": [
      "93it [47:13, 32.76s/it]"
     ]
    },
    {
     "name": "stdout",
     "output_type": "stream",
     "text": [
      "CAV accuracy for stove concept (116): 0.9809\n",
      "[0804_114113] 94/623 Calculating CAV for wing\n",
      "Best accuracy: 0.9952723998199009 Regularization: 0.001\n",
      "Best accuracy: 0.9961728950923008 Regularization: 0.005\n",
      "Best accuracy: 0.9968482665466006 Regularization: 0.05\n",
      "Best accuracy: 0.9972985141828006 Regularization: 0.5\n"
     ]
    },
    {
     "name": "stderr",
     "output_type": "stream",
     "text": [
      "94it [47:29, 27.67s/it]"
     ]
    },
    {
     "name": "stdout",
     "output_type": "stream",
     "text": [
      "CAV accuracy for wing concept (117): 0.9973\n",
      "[0804_114129] 95/623 Calculating CAV for coffee table\n",
      "Best accuracy: 0.9081494822152184 Regularization: 0.001\n",
      "Best accuracy: 0.9189554254840162 Regularization: 0.005\n",
      "Best accuracy: 0.9209815398469158 Regularization: 0.01\n",
      "Best accuracy: 0.9315623592976137 Regularization: 0.05\n",
      "Best accuracy: 0.9356145880234129 Regularization: 0.1\n",
      "Best accuracy: 0.9398919405673121 Regularization: 0.5\n",
      "Best accuracy: 0.940117064385412 Regularization: 1\n",
      "Best accuracy: 0.9432687978388113 Regularization: 3\n"
     ]
    },
    {
     "name": "stderr",
     "output_type": "stream",
     "text": [
      "95it [48:01, 28.76s/it]"
     ]
    },
    {
     "name": "stdout",
     "output_type": "stream",
     "text": [
      "CAV accuracy for coffee table concept (118): 0.9433\n",
      "[0804_114200] 96/623 Calculating CAV for ashcan\n",
      "Best accuracy: 0.7760018009905448 Regularization: 0.001\n",
      "Best accuracy: 0.7888338586222422 Regularization: 0.005\n",
      "Best accuracy: 0.7935614588023413 Regularization: 0.01\n",
      "Best accuracy: 0.8054930211616389 Regularization: 0.05\n",
      "Best accuracy: 0.8115713642503377 Regularization: 0.1\n",
      "Best accuracy: 0.8147230977037371 Regularization: 0.5\n",
      "Best accuracy: 0.8171994597028366 Regularization: 1\n",
      "Best accuracy: 0.8194506978838361 Regularization: 3\n"
     ]
    },
    {
     "name": "stderr",
     "output_type": "stream",
     "text": [
      "96it [48:33, 29.95s/it]"
     ]
    },
    {
     "name": "stdout",
     "output_type": "stream",
     "text": [
      "Best accuracy: 0.819900945520036 Regularization: 5\n",
      "CAV accuracy for ashcan concept (119): 0.8199\n",
      "[0804_114233] 97/623 Calculating CAV for roof\n",
      "Best accuracy: 0.8491670418730302 Regularization: 0.001\n",
      "Best accuracy: 0.8710040522287258 Regularization: 0.005\n",
      "Best accuracy: 0.879783881134624 Regularization: 0.01\n",
      "Best accuracy: 0.9009455200360198 Regularization: 0.05\n",
      "Best accuracy: 0.9045475011256191 Regularization: 0.1\n",
      "Best accuracy: 0.9173795587573165 Regularization: 0.5\n",
      "Best accuracy: 0.9207564160288159 Regularization: 1\n"
     ]
    },
    {
     "name": "stderr",
     "output_type": "stream",
     "text": [
      "97it [49:10, 31.87s/it]"
     ]
    },
    {
     "name": "stdout",
     "output_type": "stream",
     "text": [
      "Best accuracy: 0.9212066636650158 Regularization: 5\n",
      "CAV accuracy for roof concept (120): 0.9212\n",
      "[0804_114309] 98/623 Calculating CAV for bench\n",
      "Best accuracy: 0.7809545249887438 Regularization: 0.001\n",
      "Best accuracy: 0.8014407924358398 Regularization: 0.005\n",
      "Best accuracy: 0.805042773525439 Regularization: 0.01\n",
      "Best accuracy: 0.8135974786132373 Regularization: 0.05\n"
     ]
    },
    {
     "name": "stderr",
     "output_type": "stream",
     "text": [
      "98it [49:45, 32.90s/it]"
     ]
    },
    {
     "name": "stdout",
     "output_type": "stream",
     "text": [
      "CAV accuracy for bench concept (121): 0.8136\n",
      "[0804_114344] 99/623 Calculating CAV for spotlight\n",
      "Best accuracy: 0.7946870778928411 Regularization: 0.001\n",
      "Best accuracy: 0.815173345339937 Regularization: 0.005\n",
      "Best accuracy: 0.8230526789734354 Regularization: 0.01\n",
      "Best accuracy: 0.830256641152634 Regularization: 0.05\n",
      "Best accuracy: 0.8307068887888338 Regularization: 0.1\n",
      "Best accuracy: 0.8343088698784331 Regularization: 0.5\n",
      "Best accuracy: 0.834984241332733 Regularization: 1\n",
      "Best accuracy: 0.835209365150833 Regularization: 3\n"
     ]
    },
    {
     "name": "stderr",
     "output_type": "stream",
     "text": [
      "99it [50:22, 34.11s/it]"
     ]
    },
    {
     "name": "stdout",
     "output_type": "stream",
     "text": [
      "Best accuracy: 0.8354344889689329 Regularization: 5\n",
      "CAV accuracy for spotlight concept (122): 0.8354\n",
      "[0804_114421] 100/623 Calculating CAV for boat\n",
      "Best accuracy: 0.9356145880234129 Regularization: 0.001\n",
      "Best accuracy: 0.9468707789284107 Regularization: 0.005\n",
      "Best accuracy: 0.94979738856371 Regularization: 0.01\n",
      "Best accuracy: 0.9585772174696083 Regularization: 0.05\n",
      "Best accuracy: 0.9588023412877082 Regularization: 0.1\n",
      "Best accuracy: 0.9612787032868078 Regularization: 0.5\n",
      "Best accuracy: 0.965105808194507 Regularization: 1\n",
      "Best accuracy: 0.9671319225574065 Regularization: 3\n"
     ]
    },
    {
     "name": "stderr",
     "output_type": "stream",
     "text": [
      "100it [50:55, 33.81s/it]"
     ]
    },
    {
     "name": "stdout",
     "output_type": "stream",
     "text": [
      "Best accuracy: 0.9675821701936065 Regularization: 5\n",
      "CAV accuracy for boat concept (123): 0.9676\n",
      "[0804_114454] 101/623 Calculating CAV for basket\n",
      "Best accuracy: 0.7791535344439442 Regularization: 0.001\n",
      "Best accuracy: 0.8034669067987393 Regularization: 0.005\n",
      "Best accuracy: 0.8122467357046376 Regularization: 0.01\n",
      "Best accuracy: 0.834759117514633 Regularization: 0.05\n",
      "Best accuracy: 0.8446645655110311 Regularization: 0.1\n",
      "Best accuracy: 0.8527690229626295 Regularization: 0.5\n",
      "Best accuracy: 0.855245384961729 Regularization: 1\n",
      "Best accuracy: 0.8556956325979289 Regularization: 3\n"
     ]
    },
    {
     "name": "stderr",
     "output_type": "stream",
     "text": [
      "101it [51:34, 35.46s/it]"
     ]
    },
    {
     "name": "stdout",
     "output_type": "stream",
     "text": [
      "CAV accuracy for basket concept (124): 0.8557\n",
      "[0804_114534] 102/623 Calculating CAV for work surface\n",
      "Best accuracy: 0.9628545700135074 Regularization: 0.001\n",
      "Best accuracy: 0.9673570463755066 Regularization: 0.005\n",
      "Best accuracy: 0.9707339036470058 Regularization: 0.01\n",
      "Best accuracy: 0.9745610085547051 Regularization: 0.05\n",
      "Best accuracy: 0.9768122467357047 Regularization: 0.1\n",
      "Best accuracy: 0.9792886087348042 Regularization: 0.5\n",
      "Best accuracy: 0.9806393516434039 Regularization: 1\n"
     ]
    },
    {
     "name": "stderr",
     "output_type": "stream",
     "text": [
      "102it [51:59, 32.19s/it]"
     ]
    },
    {
     "name": "stdout",
     "output_type": "stream",
     "text": [
      "CAV accuracy for work surface concept (125): 0.9806\n",
      "[0804_114558] 103/623 Calculating CAV for desk\n",
      "Best accuracy: 0.8532192705988294 Regularization: 0.001\n",
      "Best accuracy: 0.8689779378658262 Regularization: 0.005\n",
      "Best accuracy: 0.879783881134624 Regularization: 0.01\n",
      "Best accuracy: 0.8973435389464205 Regularization: 0.05\n",
      "Best accuracy: 0.9018460153084197 Regularization: 0.1\n",
      "Best accuracy: 0.9074741107609186 Regularization: 0.5\n",
      "Best accuracy: 0.9110760918505177 Regularization: 1\n",
      "Best accuracy: 0.914678072940117 Regularization: 3\n"
     ]
    },
    {
     "name": "stderr",
     "output_type": "stream",
     "text": [
      "103it [52:34, 33.01s/it]"
     ]
    },
    {
     "name": "stdout",
     "output_type": "stream",
     "text": [
      "Best accuracy: 0.915128320576317 Regularization: 5\n",
      "CAV accuracy for desk concept (127): 0.9151\n",
      "[0804_114633] 104/623 Calculating CAV for bird\n",
      "Best accuracy: 0.8917154434939216 Regularization: 0.001\n",
      "Best accuracy: 0.9410175596578118 Regularization: 0.005\n",
      "Best accuracy: 0.9545249887438091 Regularization: 0.01\n",
      "Best accuracy: 0.9765871229176046 Regularization: 0.05\n",
      "Best accuracy: 0.9833408374606033 Regularization: 0.1\n",
      "Best accuracy: 0.9921206663665015 Regularization: 0.5\n",
      "Best accuracy: 0.9932462854570013 Regularization: 1\n",
      "Best accuracy: 0.9936965330932013 Regularization: 3\n"
     ]
    },
    {
     "name": "stderr",
     "output_type": "stream",
     "text": [
      "104it [53:04, 32.28s/it]"
     ]
    },
    {
     "name": "stdout",
     "output_type": "stream",
     "text": [
      "Best accuracy: 0.9939216569113012 Regularization: 5\n",
      "CAV accuracy for bird concept (128): 0.9939\n",
      "[0804_114704] 105/623 Calculating CAV for leather\n",
      "Best accuracy: 1.0 Regularization: 0.001\n"
     ]
    },
    {
     "name": "stderr",
     "output_type": "stream",
     "text": [
      "105it [53:14, 25.41s/it]"
     ]
    },
    {
     "name": "stdout",
     "output_type": "stream",
     "text": [
      "CAV accuracy for leather concept (129): 1.0000\n",
      "[0804_114713] 106/623 Calculating CAV for house\n",
      "Best accuracy: 0.8493921656911301 Regularization: 0.001\n",
      "Best accuracy: 0.8660513282305268 Regularization: 0.005\n",
      "Best accuracy: 0.8728050427735254 Regularization: 0.01\n",
      "Best accuracy: 0.8876632147681225 Regularization: 0.05\n",
      "Best accuracy: 0.8919405673120216 Regularization: 0.1\n",
      "Best accuracy: 0.8977937865826204 Regularization: 0.5\n",
      "Best accuracy: 0.8986942818550203 Regularization: 1\n",
      "Best accuracy: 0.9011706438541197 Regularization: 3\n"
     ]
    },
    {
     "name": "stderr",
     "output_type": "stream",
     "text": [
      "106it [53:48, 28.03s/it]"
     ]
    },
    {
     "name": "stdout",
     "output_type": "stream",
     "text": [
      "Best accuracy: 0.9020711391265196 Regularization: 5\n",
      "CAV accuracy for house concept (131): 0.9021\n",
      "[0804_114747] 107/623 Calculating CAV for plaything\n",
      "Best accuracy: 0.8876632147681225 Regularization: 0.001\n",
      "Best accuracy: 0.9076992345790185 Regularization: 0.005\n",
      "Best accuracy: 0.9158036920306168 Regularization: 0.01\n",
      "Best accuracy: 0.9320126069338136 Regularization: 0.05\n",
      "Best accuracy: 0.9369653309320126 Regularization: 0.1\n",
      "Best accuracy: 0.9488968932913102 Regularization: 0.5\n",
      "Best accuracy: 0.95002251238181 Regularization: 1\n",
      "Best accuracy: 0.954975236380009 Regularization: 3\n"
     ]
    },
    {
     "name": "stderr",
     "output_type": "stream",
     "text": [
      "107it [54:25, 30.91s/it]"
     ]
    },
    {
     "name": "stdout",
     "output_type": "stream",
     "text": [
      "Best accuracy: 0.9567762269248087 Regularization: 5\n",
      "CAV accuracy for plaything concept (132): 0.9568\n",
      "[0804_114825] 108/623 Calculating CAV for pane\n",
      "Best accuracy: 0.7933363349842414 Regularization: 0.001\n",
      "Best accuracy: 0.8126969833408375 Regularization: 0.005\n",
      "Best accuracy: 0.8201260693381359 Regularization: 0.01\n",
      "Best accuracy: 0.8379108509680324 Regularization: 0.05\n",
      "Best accuracy: 0.8435389464205313 Regularization: 0.1\n",
      "Best accuracy: 0.8496172895092301 Regularization: 0.5\n",
      "Best accuracy: 0.8525438991445294 Regularization: 1\n",
      "Best accuracy: 0.8541197658712292 Regularization: 3\n"
     ]
    },
    {
     "name": "stderr",
     "output_type": "stream",
     "text": [
      "108it [55:03, 32.92s/it]"
     ]
    },
    {
     "name": "stdout",
     "output_type": "stream",
     "text": [
      "Best accuracy: 0.855245384961729 Regularization: 5\n",
      "CAV accuracy for pane concept (133): 0.8552\n",
      "[0804_114903] 109/623 Calculating CAV for sea\n",
      "Best accuracy: 0.9502476361999099 Regularization: 0.001\n",
      "Best accuracy: 0.9583520936515083 Regularization: 0.005\n",
      "Best accuracy: 0.960153084196308 Regularization: 0.01\n",
      "Best accuracy: 0.9673570463755066 Regularization: 0.05\n",
      "Best accuracy: 0.970058532192706 Regularization: 0.1\n",
      "Best accuracy: 0.9707339036470058 Regularization: 0.5\n",
      "Best accuracy: 0.9718595227375056 Regularization: 3\n"
     ]
    },
    {
     "name": "stderr",
     "output_type": "stream",
     "text": [
      "109it [55:31, 31.50s/it]"
     ]
    },
    {
     "name": "stdout",
     "output_type": "stream",
     "text": [
      "CAV accuracy for sea concept (135): 0.9719\n",
      "[0804_114931] 110/623 Calculating CAV for double door\n",
      "Best accuracy: 0.75033768572715 Regularization: 0.001\n",
      "Best accuracy: 0.774876181900045 Regularization: 0.005\n",
      "Best accuracy: 0.7863574966231427 Regularization: 0.01\n",
      "Best accuracy: 0.8054930211616389 Regularization: 0.05\n",
      "Best accuracy: 0.8120216118865375 Regularization: 0.1\n",
      "Best accuracy: 0.8212516884286357 Regularization: 0.5\n",
      "Best accuracy: 0.8250787933363349 Regularization: 1\n",
      "Best accuracy: 0.8284556506078343 Regularization: 3\n"
     ]
    },
    {
     "name": "stderr",
     "output_type": "stream",
     "text": [
      "110it [56:08, 33.09s/it]"
     ]
    },
    {
     "name": "stdout",
     "output_type": "stream",
     "text": [
      "CAV accuracy for double door concept (136): 0.8285\n",
      "[0804_115008] 111/623 Calculating CAV for rim\n",
      "Best accuracy: 0.9182800540297164 Regularization: 0.001\n",
      "Best accuracy: 0.9320126069338136 Regularization: 0.005\n",
      "Best accuracy: 0.9369653309320126 Regularization: 0.01\n",
      "Best accuracy: 0.9491220171094101 Regularization: 0.05\n",
      "Best accuracy: 0.9545249887438091 Regularization: 0.1\n",
      "Best accuracy: 0.9574515983791085 Regularization: 0.5\n"
     ]
    },
    {
     "name": "stderr",
     "output_type": "stream",
     "text": [
      "111it [56:41, 32.90s/it]"
     ]
    },
    {
     "name": "stdout",
     "output_type": "stream",
     "text": [
      "CAV accuracy for rim concept (137): 0.9575\n",
      "[0804_115040] 112/623 Calculating CAV for television\n",
      "Best accuracy: 0.8221521837010356 Regularization: 0.001\n",
      "Best accuracy: 0.8520936515083296 Regularization: 0.005\n",
      "Best accuracy: 0.8638000900495273 Regularization: 0.01\n",
      "Best accuracy: 0.8806843764070239 Regularization: 0.05\n",
      "Best accuracy: 0.8874380909500225 Regularization: 0.1\n",
      "Best accuracy: 0.9009455200360198 Regularization: 0.5\n",
      "Best accuracy: 0.9043223773075192 Regularization: 1\n",
      "Best accuracy: 0.9083746060333183 Regularization: 3\n"
     ]
    },
    {
     "name": "stderr",
     "output_type": "stream",
     "text": [
      "112it [57:16, 33.74s/it]"
     ]
    },
    {
     "name": "stdout",
     "output_type": "stream",
     "text": [
      "Best accuracy: 0.9095002251238181 Regularization: 5\n",
      "CAV accuracy for television concept (138): 0.9095\n",
      "[0804_115116] 113/623 Calculating CAV for taillight\n",
      "Best accuracy: 0.9040972534894192 Regularization: 0.001\n",
      "Best accuracy: 0.9164790634849167 Regularization: 0.005\n",
      "Best accuracy: 0.9216569113012156 Regularization: 0.01\n",
      "Best accuracy: 0.9338135974786133 Regularization: 0.05\n",
      "Best accuracy: 0.9383160738406123 Regularization: 0.1\n",
      "Best accuracy: 0.9441692931112111 Regularization: 0.5\n",
      "Best accuracy: 0.9464205312922107 Regularization: 1\n",
      "Best accuracy: 0.9484466456551103 Regularization: 3\n"
     ]
    },
    {
     "name": "stderr",
     "output_type": "stream",
     "text": [
      "113it [57:47, 32.80s/it]"
     ]
    },
    {
     "name": "stdout",
     "output_type": "stream",
     "text": [
      "CAV accuracy for taillight concept (139): 0.9484\n",
      "[0804_115146] 114/623 Calculating CAV for back pillow\n",
      "Best accuracy: 0.914678072940117 Regularization: 0.001\n",
      "Best accuracy: 0.9295362449347141 Regularization: 0.005\n",
      "Best accuracy: 0.9344889689329131 Regularization: 0.01\n",
      "Best accuracy: 0.9461954074741108 Regularization: 0.05\n",
      "Best accuracy: 0.9479963980189104 Regularization: 0.1\n",
      "Best accuracy: 0.9522737505628095 Regularization: 0.5\n"
     ]
    },
    {
     "name": "stderr",
     "output_type": "stream",
     "text": [
      "114it [58:22, 33.40s/it]"
     ]
    },
    {
     "name": "stdout",
     "output_type": "stream",
     "text": [
      "CAV accuracy for back pillow concept (140): 0.9523\n",
      "[0804_115221] 115/623 Calculating CAV for chandelier\n",
      "Best accuracy: 0.8964430436740207 Regularization: 0.001\n",
      "Best accuracy: 0.9113012156686178 Regularization: 0.005\n",
      "Best accuracy: 0.9182800540297164 Regularization: 0.01\n",
      "Best accuracy: 0.9308869878433138 Regularization: 0.05\n",
      "Best accuracy: 0.9342638451148132 Regularization: 0.1\n",
      "Best accuracy: 0.9394416929311121 Regularization: 0.5\n",
      "Best accuracy: 0.9410175596578118 Regularization: 1\n",
      "Best accuracy: 0.9412426834759118 Regularization: 3\n"
     ]
    },
    {
     "name": "stderr",
     "output_type": "stream",
     "text": [
      "115it [58:55, 33.40s/it]"
     ]
    },
    {
     "name": "stdout",
     "output_type": "stream",
     "text": [
      "Best accuracy: 0.9419180549302116 Regularization: 5\n",
      "CAV accuracy for chandelier concept (141): 0.9419\n",
      "[0804_115255] 116/623 Calculating CAV for balcony\n",
      "Best accuracy: 0.8766321476812247 Regularization: 0.001\n",
      "Best accuracy: 0.8912651958577218 Regularization: 0.005\n",
      "Best accuracy: 0.8935164340387213 Regularization: 0.01\n",
      "Best accuracy: 0.904997748761819 Regularization: 0.05\n",
      "Best accuracy: 0.910175596578118 Regularization: 0.1\n",
      "Best accuracy: 0.9131022062134174 Regularization: 0.5\n",
      "Best accuracy: 0.9133273300315173 Regularization: 1\n",
      "Best accuracy: 0.9167041873030166 Regularization: 3\n"
     ]
    },
    {
     "name": "stderr",
     "output_type": "stream",
     "text": [
      "116it [59:29, 33.61s/it]"
     ]
    },
    {
     "name": "stdout",
     "output_type": "stream",
     "text": [
      "Best accuracy: 0.9194056731202161 Regularization: 5\n",
      "CAV accuracy for balcony concept (142): 0.9194\n",
      "[0804_115329] 117/623 Calculating CAV for windshield\n",
      "Best accuracy: 0.8971184151283206 Regularization: 0.001\n",
      "Best accuracy: 0.9092751013057181 Regularization: 0.005\n",
      "Best accuracy: 0.915128320576317 Regularization: 0.01\n",
      "Best accuracy: 0.9243583971184152 Regularization: 0.05\n",
      "Best accuracy: 0.9279603782080144 Regularization: 0.1\n",
      "Best accuracy: 0.9326879783881135 Regularization: 0.5\n",
      "Best accuracy: 0.9342638451148132 Regularization: 1\n",
      "Best accuracy: 0.9367402071139127 Regularization: 3\n"
     ]
    },
    {
     "name": "stderr",
     "output_type": "stream",
     "text": [
      "117it [1:00:03, 33.54s/it]"
     ]
    },
    {
     "name": "stdout",
     "output_type": "stream",
     "text": [
      "Best accuracy: 0.9398919405673121 Regularization: 5\n",
      "CAV accuracy for windshield concept (143): 0.9399\n",
      "[0804_115402] 118/623 Calculating CAV for switch\n",
      "Best accuracy: 0.7791535344439442 Regularization: 0.001\n",
      "Best accuracy: 0.80031517334534 Regularization: 0.005\n",
      "Best accuracy: 0.8131472309770373 Regularization: 0.01\n",
      "Best accuracy: 0.8417379558757316 Regularization: 0.05\n",
      "Best accuracy: 0.8525438991445294 Regularization: 0.1\n",
      "Best accuracy: 0.8656010805943268 Regularization: 0.5\n",
      "Best accuracy: 0.870103556956326 Regularization: 1\n",
      "Best accuracy: 0.8730301665916254 Regularization: 3\n"
     ]
    },
    {
     "name": "stderr",
     "output_type": "stream",
     "text": [
      "118it [1:00:45, 36.15s/it]"
     ]
    },
    {
     "name": "stdout",
     "output_type": "stream",
     "text": [
      "Best accuracy: 0.8739306618640252 Regularization: 5\n",
      "CAV accuracy for switch concept (144): 0.8739\n",
      "[0804_115444] 119/623 Calculating CAV for path\n",
      "Best accuracy: 0.8271049076992346 Regularization: 0.001\n",
      "Best accuracy: 0.8527690229626295 Regularization: 0.005\n",
      "Best accuracy: 0.8619990995047276 Regularization: 0.01\n",
      "Best accuracy: 0.8820351193156236 Regularization: 0.05\n",
      "Best accuracy: 0.8872129671319225 Regularization: 0.1\n",
      "Best accuracy: 0.8964430436740207 Regularization: 0.5\n",
      "Best accuracy: 0.90004502476362 Regularization: 1\n",
      "Best accuracy: 0.9013957676722197 Regularization: 3\n"
     ]
    },
    {
     "name": "stderr",
     "output_type": "stream",
     "text": [
      "119it [1:01:23, 36.67s/it]"
     ]
    },
    {
     "name": "stdout",
     "output_type": "stream",
     "text": [
      "CAV accuracy for path concept (146): 0.9014\n",
      "[0804_115522] 120/623 Calculating CAV for stairway\n",
      "Best accuracy: 0.8147230977037371 Regularization: 0.001\n",
      "Best accuracy: 0.8354344889689329 Regularization: 0.005\n",
      "Best accuracy: 0.8430886987843313 Regularization: 0.01\n",
      "Best accuracy: 0.8565961278703287 Regularization: 0.05\n",
      "Best accuracy: 0.8622242233228276 Regularization: 0.1\n",
      "Best accuracy: 0.8665015758667267 Regularization: 0.5\n",
      "Best accuracy: 0.8674020711391265 Regularization: 1\n",
      "Best accuracy: 0.8676271949572265 Regularization: 3\n"
     ]
    },
    {
     "name": "stderr",
     "output_type": "stream",
     "text": [
      "120it [1:02:01, 37.13s/it]"
     ]
    },
    {
     "name": "stdout",
     "output_type": "stream",
     "text": [
      "CAV accuracy for stairway concept (147): 0.8676\n",
      "[0804_115600] 121/623 Calculating CAV for cup\n",
      "Best accuracy: 0.8230526789734354 Regularization: 0.001\n",
      "Best accuracy: 0.8689779378658262 Regularization: 0.005\n",
      "Best accuracy: 0.885186852769023 Regularization: 0.01\n",
      "Best accuracy: 0.9209815398469158 Regularization: 0.05\n",
      "Best accuracy: 0.9286357496623143 Regularization: 0.1\n",
      "Best accuracy: 0.9461954074741108 Regularization: 0.5\n",
      "Best accuracy: 0.95047276001801 Regularization: 1\n",
      "Best accuracy: 0.9558757316524088 Regularization: 3\n"
     ]
    },
    {
     "name": "stderr",
     "output_type": "stream",
     "text": [
      "121it [1:02:40, 37.61s/it]"
     ]
    },
    {
     "name": "stdout",
     "output_type": "stream",
     "text": [
      "Best accuracy: 0.9579018460153084 Regularization: 5\n",
      "CAV accuracy for cup concept (148): 0.9579\n",
      "[0804_115639] 122/623 Calculating CAV for van\n",
      "Best accuracy: 0.8482665466006304 Regularization: 0.001\n",
      "Best accuracy: 0.8570463755065286 Regularization: 0.005\n",
      "Best accuracy: 0.865150832958127 Regularization: 0.01\n",
      "Best accuracy: 0.8795587573165241 Regularization: 0.05\n",
      "Best accuracy: 0.8887888338586223 Regularization: 0.1\n",
      "Best accuracy: 0.8957676722197209 Regularization: 0.5\n",
      "Best accuracy: 0.8975686627645205 Regularization: 1\n",
      "Best accuracy: 0.8986942818550203 Regularization: 3\n"
     ]
    },
    {
     "name": "stderr",
     "output_type": "stream",
     "text": [
      "122it [1:03:13, 36.49s/it]"
     ]
    },
    {
     "name": "stdout",
     "output_type": "stream",
     "text": [
      "CAV accuracy for van concept (149): 0.8987\n",
      "[0804_115713] 123/623 Calculating CAV for cap\n",
      "Best accuracy: 0.9135524538496173 Regularization: 0.001\n",
      "Best accuracy: 0.9470959027465106 Regularization: 0.005\n",
      "Best accuracy: 0.9594777127420081 Regularization: 0.01\n",
      "Best accuracy: 0.9741107609185051 Regularization: 0.05\n",
      "Best accuracy: 0.9795137325529041 Regularization: 0.1\n",
      "Best accuracy: 0.9855920756416029 Regularization: 0.5\n",
      "Best accuracy: 0.9873930661864025 Regularization: 1\n",
      "Best accuracy: 0.9882935614588023 Regularization: 3\n"
     ]
    },
    {
     "name": "stderr",
     "output_type": "stream",
     "text": [
      "123it [1:03:44, 34.83s/it]"
     ]
    },
    {
     "name": "stdout",
     "output_type": "stream",
     "text": [
      "CAV accuracy for cap concept (150): 0.9883\n",
      "[0804_115744] 124/623 Calculating CAV for door frame\n",
      "Best accuracy: 0.8012156686177397 Regularization: 0.001\n",
      "Best accuracy: 0.8282305267897343 Regularization: 0.005\n",
      "Best accuracy: 0.8385862224223323 Regularization: 0.01\n",
      "Best accuracy: 0.8610986042323278 Regularization: 0.05\n",
      "Best accuracy: 0.8703286807744259 Regularization: 0.1\n",
      "Best accuracy: 0.8766321476812247 Regularization: 0.5\n",
      "Best accuracy: 0.8782080144079244 Regularization: 1\n",
      "Best accuracy: 0.8806843764070239 Regularization: 3\n"
     ]
    },
    {
     "name": "stderr",
     "output_type": "stream",
     "text": [
      "124it [1:04:21, 35.37s/it]"
     ]
    },
    {
     "name": "stdout",
     "output_type": "stream",
     "text": [
      "Best accuracy: 0.8824853669518236 Regularization: 5\n",
      "CAV accuracy for door frame concept (151): 0.8825\n",
      "[0804_115821] 125/623 Calculating CAV for chest of drawers\n",
      "Best accuracy: 0.8480414227825304 Regularization: 0.001\n",
      "Best accuracy: 0.8707789284106259 Regularization: 0.005\n",
      "Best accuracy: 0.8793336334984241 Regularization: 0.01\n",
      "Best accuracy: 0.8941918054930211 Regularization: 0.05\n",
      "Best accuracy: 0.8984691580369203 Regularization: 0.1\n",
      "Best accuracy: 0.9122017109410175 Regularization: 0.5\n",
      "Best accuracy: 0.915128320576317 Regularization: 1\n",
      "Best accuracy: 0.9182800540297164 Regularization: 3\n"
     ]
    },
    {
     "name": "stderr",
     "output_type": "stream",
     "text": [
      "125it [1:04:58, 35.81s/it]"
     ]
    },
    {
     "name": "stdout",
     "output_type": "stream",
     "text": [
      "Best accuracy: 0.9189554254840162 Regularization: 5\n",
      "CAV accuracy for chest of drawers concept (152): 0.9190\n",
      "[0804_115857] 126/623 Calculating CAV for truck\n",
      "Best accuracy: 0.8496172895092301 Regularization: 0.001\n",
      "Best accuracy: 0.8714542998649257 Regularization: 0.005\n",
      "Best accuracy: 0.8809095002251238 Regularization: 0.01\n",
      "Best accuracy: 0.9004952723998199 Regularization: 0.05\n",
      "Best accuracy: 0.9076992345790185 Regularization: 0.1\n",
      "Best accuracy: 0.9225574065736155 Regularization: 0.5\n",
      "Best accuracy: 0.9252588923908149 Regularization: 1\n",
      "Best accuracy: 0.9306618640252139 Regularization: 3\n"
     ]
    },
    {
     "name": "stderr",
     "output_type": "stream",
     "text": [
      "126it [1:05:35, 36.06s/it]"
     ]
    },
    {
     "name": "stdout",
     "output_type": "stream",
     "text": [
      "Best accuracy: 0.9333633498424133 Regularization: 5\n",
      "CAV accuracy for truck concept (153): 0.9334\n",
      "[0804_115934] 127/623 Calculating CAV for awning\n",
      "Best accuracy: 0.8527690229626295 Regularization: 0.001\n",
      "Best accuracy: 0.8685276902296263 Regularization: 0.005\n",
      "Best accuracy: 0.8739306618640252 Regularization: 0.01\n",
      "Best accuracy: 0.885186852769023 Regularization: 0.05\n",
      "Best accuracy: 0.889689329131022 Regularization: 0.1\n",
      "Best accuracy: 0.8986942818550203 Regularization: 0.5\n",
      "Best accuracy: 0.9016208914903197 Regularization: 1\n",
      "Best accuracy: 0.904772624943719 Regularization: 3\n"
     ]
    },
    {
     "name": "stderr",
     "output_type": "stream",
     "text": [
      "127it [1:06:09, 35.60s/it]"
     ]
    },
    {
     "name": "stdout",
     "output_type": "stream",
     "text": [
      "Best accuracy: 0.9067987393066187 Regularization: 5\n",
      "CAV accuracy for awning concept (155): 0.9068\n",
      "[0804_120009] 128/623 Calculating CAV for traffic light\n",
      "Best accuracy: 0.8937415578568213 Regularization: 0.001\n",
      "Best accuracy: 0.9070238631247186 Regularization: 0.005\n",
      "Best accuracy: 0.9133273300315173 Regularization: 0.01\n",
      "Best accuracy: 0.9277352543899144 Regularization: 0.05\n",
      "Best accuracy: 0.9358397118415128 Regularization: 0.1\n",
      "Best accuracy: 0.9452949122017109 Regularization: 0.5\n",
      "Best accuracy: 0.9493471409275102 Regularization: 1\n",
      "Best accuracy: 0.9533993696533093 Regularization: 3\n"
     ]
    },
    {
     "name": "stderr",
     "output_type": "stream",
     "text": [
      "128it [1:06:41, 34.49s/it]"
     ]
    },
    {
     "name": "stdout",
     "output_type": "stream",
     "text": [
      "Best accuracy: 0.9558757316524088 Regularization: 5\n",
      "CAV accuracy for traffic light concept (156): 0.9559\n",
      "[0804_120040] 129/623 Calculating CAV for bannister\n",
      "Best accuracy: 0.8012156686177397 Regularization: 0.001\n",
      "Best accuracy: 0.8334083746060333 Regularization: 0.005\n",
      "Best accuracy: 0.8381359747861323 Regularization: 0.01\n",
      "Best accuracy: 0.8559207564160288 Regularization: 0.05\n",
      "Best accuracy: 0.8604232327780279 Regularization: 0.1\n",
      "Best accuracy: 0.8667266996848266 Regularization: 0.5\n",
      "Best accuracy: 0.8669518235029267 Regularization: 1\n",
      "Best accuracy: 0.8712291760468257 Regularization: 3\n"
     ]
    },
    {
     "name": "stderr",
     "output_type": "stream",
     "text": [
      "129it [1:07:18, 35.37s/it]"
     ]
    },
    {
     "name": "stdout",
     "output_type": "stream",
     "text": [
      "Best accuracy: 0.8721296713192256 Regularization: 5\n",
      "CAV accuracy for bannister concept (157): 0.8721\n",
      "[0804_120118] 130/623 Calculating CAV for seat base\n",
      "Best accuracy: 0.9288608734804142 Regularization: 0.001\n",
      "Best accuracy: 0.9428185502026114 Regularization: 0.005\n",
      "Best accuracy: 0.9459702836560108 Regularization: 0.01\n",
      "Best accuracy: 0.9536244934714093 Regularization: 0.05\n",
      "Best accuracy: 0.9565511031067087 Regularization: 0.1\n",
      "Best accuracy: 0.9608284556506078 Regularization: 0.5\n"
     ]
    },
    {
     "name": "stderr",
     "output_type": "stream",
     "text": [
      "130it [1:07:49, 33.86s/it]"
     ]
    },
    {
     "name": "stdout",
     "output_type": "stream",
     "text": [
      "CAV accuracy for seat base concept (159): 0.9608\n",
      "[0804_120148] 131/623 Calculating CAV for poster\n",
      "Best accuracy: 0.7784781629896443 Regularization: 0.001\n",
      "Best accuracy: 0.8104457451598379 Regularization: 0.005\n",
      "Best accuracy: 0.8271049076992346 Regularization: 0.01\n",
      "Best accuracy: 0.8509680324178298 Regularization: 0.05\n",
      "Best accuracy: 0.8565961278703287 Regularization: 0.1\n",
      "Best accuracy: 0.8766321476812247 Regularization: 0.5\n",
      "Best accuracy: 0.8829356145880234 Regularization: 1\n",
      "Best accuracy: 0.8903647005853219 Regularization: 3\n"
     ]
    },
    {
     "name": "stderr",
     "output_type": "stream",
     "text": [
      "131it [1:08:32, 36.83s/it]"
     ]
    },
    {
     "name": "stdout",
     "output_type": "stream",
     "text": [
      "Best accuracy: 0.8919405673120216 Regularization: 5\n",
      "CAV accuracy for poster concept (160): 0.8919\n",
      "[0804_120232] 132/623 Calculating CAV for flag\n",
      "Best accuracy: 0.7665466006303467 Regularization: 0.001\n",
      "Best accuracy: 0.80031517334534 Regularization: 0.005\n",
      "Best accuracy: 0.8192255740657362 Regularization: 0.01\n",
      "Best accuracy: 0.8559207564160288 Regularization: 0.05\n",
      "Best accuracy: 0.8635749662314273 Regularization: 0.1\n",
      "Best accuracy: 0.8782080144079244 Regularization: 0.5\n",
      "Best accuracy: 0.8829356145880234 Regularization: 1\n",
      "Best accuracy: 0.8867627194957226 Regularization: 3\n"
     ]
    },
    {
     "name": "stderr",
     "output_type": "stream",
     "text": [
      "132it [1:09:11, 37.33s/it]"
     ]
    },
    {
     "name": "stdout",
     "output_type": "stream",
     "text": [
      "Best accuracy: 0.8885637100405223 Regularization: 5\n",
      "CAV accuracy for flag concept (161): 0.8886\n",
      "[0804_120310] 133/623 Calculating CAV for inside arm\n",
      "Best accuracy: 0.9203061683926159 Regularization: 0.001\n",
      "Best accuracy: 0.9371904547501125 Regularization: 0.005\n",
      "Best accuracy: 0.9432687978388113 Regularization: 0.01\n",
      "Best accuracy: 0.9524988743809095 Regularization: 0.05\n",
      "Best accuracy: 0.9561008554705088 Regularization: 0.1\n",
      "Best accuracy: 0.9579018460153084 Regularization: 0.5\n",
      "Best accuracy: 0.9594777127420081 Regularization: 3\n"
     ]
    },
    {
     "name": "stderr",
     "output_type": "stream",
     "text": [
      "133it [1:09:47, 36.84s/it]"
     ]
    },
    {
     "name": "stdout",
     "output_type": "stream",
     "text": [
      "CAV accuracy for inside arm concept (162): 0.9595\n",
      "[0804_120346] 134/623 Calculating CAV for drinking glass\n",
      "Best accuracy: 0.8142728500675371 Regularization: 0.001\n",
      "Best accuracy: 0.8367852318775326 Regularization: 0.005\n",
      "Best accuracy: 0.8446645655110311 Regularization: 0.01\n",
      "Best accuracy: 0.8692030616839261 Regularization: 0.05\n",
      "Best accuracy: 0.8806843764070239 Regularization: 0.1\n",
      "Best accuracy: 0.890139576767222 Regularization: 0.5\n",
      "Best accuracy: 0.8930661864025213 Regularization: 1\n",
      "Best accuracy: 0.8953174245835209 Regularization: 3\n"
     ]
    },
    {
     "name": "stderr",
     "output_type": "stream",
     "text": [
      "134it [1:10:29, 38.54s/it]"
     ]
    },
    {
     "name": "stdout",
     "output_type": "stream",
     "text": [
      "Best accuracy: 0.8962179198559208 Regularization: 5\n",
      "CAV accuracy for drinking glass concept (163): 0.8962\n",
      "[0804_120429] 135/623 Calculating CAV for telephone\n",
      "Best accuracy: 0.8059432687978388 Regularization: 0.001\n",
      "Best accuracy: 0.8361098604232328 Regularization: 0.005\n",
      "Best accuracy: 0.8529941467807294 Regularization: 0.01\n",
      "Best accuracy: 0.8822602431337235 Regularization: 0.05\n",
      "Best accuracy: 0.8881134624043224 Regularization: 0.1\n",
      "Best accuracy: 0.9009455200360198 Regularization: 0.5\n",
      "Best accuracy: 0.9072489869428185 Regularization: 1\n",
      "Best accuracy: 0.9126519585772175 Regularization: 3\n"
     ]
    },
    {
     "name": "stderr",
     "output_type": "stream",
     "text": [
      "135it [1:11:09, 38.96s/it]"
     ]
    },
    {
     "name": "stdout",
     "output_type": "stream",
     "text": [
      "Best accuracy: 0.914678072940117 Regularization: 5\n",
      "CAV accuracy for telephone concept (164): 0.9147\n",
      "[0804_120509] 136/623 Calculating CAV for towel\n",
      "Best accuracy: 0.8838361098604233 Regularization: 0.001\n",
      "Best accuracy: 0.9029716343989194 Regularization: 0.005\n",
      "Best accuracy: 0.9122017109410175 Regularization: 0.01\n",
      "Best accuracy: 0.9243583971184152 Regularization: 0.05\n",
      "Best accuracy: 0.9293111211166142 Regularization: 0.1\n",
      "Best accuracy: 0.9376407023863125 Regularization: 0.5\n",
      "Best accuracy: 0.939666816749212 Regularization: 1\n",
      "Best accuracy: 0.9412426834759118 Regularization: 3\n"
     ]
    },
    {
     "name": "stderr",
     "output_type": "stream",
     "text": [
      "136it [1:11:47, 38.69s/it]"
     ]
    },
    {
     "name": "stdout",
     "output_type": "stream",
     "text": [
      "Best accuracy: 0.9423683025664116 Regularization: 5\n",
      "CAV accuracy for towel concept (165): 0.9424\n",
      "[0804_120547] 137/623 Calculating CAV for frame\n",
      "Best accuracy: 0.8005402971634399 Regularization: 0.001\n",
      "Best accuracy: 0.830256641152634 Regularization: 0.005\n",
      "Best accuracy: 0.8437640702386312 Regularization: 0.01\n",
      "Best accuracy: 0.8705538045925258 Regularization: 0.05\n",
      "Best accuracy: 0.8795587573165241 Regularization: 0.1\n",
      "Best accuracy: 0.8935164340387213 Regularization: 0.5\n",
      "Best accuracy: 0.8993696533093202 Regularization: 1\n",
      "Best accuracy: 0.9004952723998199 Regularization: 3\n"
     ]
    },
    {
     "name": "stderr",
     "output_type": "stream",
     "text": [
      "137it [1:12:36, 41.77s/it]"
     ]
    },
    {
     "name": "stdout",
     "output_type": "stream",
     "text": [
      "Best accuracy: 0.9016208914903197 Regularization: 5\n",
      "CAV accuracy for frame concept (166): 0.9016\n",
      "[0804_120636] 138/623 Calculating CAV for rope\n",
      "Best accuracy: 0.969608284556506 Regularization: 0.001\n",
      "Best accuracy: 0.9842413327330032 Regularization: 0.005\n",
      "Best accuracy: 0.9864925709140027 Regularization: 0.01\n",
      "Best accuracy: 0.9914452949122017 Regularization: 0.05\n",
      "Best accuracy: 0.9923457901846016 Regularization: 0.1\n",
      "Best accuracy: 0.9941467807294012 Regularization: 0.5\n",
      "Best accuracy: 0.9948221521837011 Regularization: 1\n",
      "Best accuracy: 0.995047276001801 Regularization: 3\n"
     ]
    },
    {
     "name": "stderr",
     "output_type": "stream",
     "text": [
      "138it [1:13:00, 36.30s/it]"
     ]
    },
    {
     "name": "stdout",
     "output_type": "stream",
     "text": [
      "CAV accuracy for rope concept (167): 0.9950\n",
      "[0804_120659] 139/623 Calculating CAV for bush\n",
      "Best accuracy: 0.8374606033318325 Regularization: 0.001\n",
      "Best accuracy: 0.8662764520486268 Regularization: 0.005\n",
      "Best accuracy: 0.8764070238631247 Regularization: 0.01\n",
      "Best accuracy: 0.8939666816749212 Regularization: 0.05\n",
      "Best accuracy: 0.9016208914903197 Regularization: 0.1\n",
      "Best accuracy: 0.915128320576317 Regularization: 0.5\n",
      "Best accuracy: 0.9189554254840162 Regularization: 1\n",
      "Best accuracy: 0.9241332733003151 Regularization: 3\n"
     ]
    },
    {
     "name": "stderr",
     "output_type": "stream",
     "text": [
      "139it [1:13:34, 35.57s/it]"
     ]
    },
    {
     "name": "stdout",
     "output_type": "stream",
     "text": [
      "Best accuracy: 0.9268347591175147 Regularization: 5\n",
      "CAV accuracy for bush concept (169): 0.9268\n",
      "[0804_120733] 140/623 Calculating CAV for bucket\n",
      "Best accuracy: 0.8187753264295362 Regularization: 0.001\n",
      "Best accuracy: 0.8446645655110311 Regularization: 0.005\n",
      "Best accuracy: 0.8579468707789284 Regularization: 0.01\n",
      "Best accuracy: 0.880009004952724 Regularization: 0.05\n",
      "Best accuracy: 0.8858622242233228 Regularization: 0.1\n",
      "Best accuracy: 0.8975686627645205 Regularization: 0.5\n",
      "Best accuracy: 0.9009455200360198 Regularization: 1\n",
      "Best accuracy: 0.9058982440342188 Regularization: 3\n"
     ]
    },
    {
     "name": "stderr",
     "output_type": "stream",
     "text": [
      "140it [1:14:13, 36.71s/it]"
     ]
    },
    {
     "name": "stdout",
     "output_type": "stream",
     "text": [
      "Best accuracy: 0.9061233678523187 Regularization: 5\n",
      "CAV accuracy for bucket concept (170): 0.9061\n",
      "[0804_120812] 141/623 Calculating CAV for field\n",
      "Best accuracy: 0.8977937865826204 Regularization: 0.001\n",
      "Best accuracy: 0.9135524538496173 Regularization: 0.005\n",
      "Best accuracy: 0.9185051778478163 Regularization: 0.01\n",
      "Best accuracy: 0.9338135974786133 Regularization: 0.05\n",
      "Best accuracy: 0.9407924358397118 Regularization: 0.1\n",
      "Best accuracy: 0.9477712742008104 Regularization: 0.5\n",
      "Best accuracy: 0.95002251238181 Regularization: 1\n",
      "Best accuracy: 0.9513732552904097 Regularization: 3\n"
     ]
    },
    {
     "name": "stderr",
     "output_type": "stream",
     "text": [
      "141it [1:14:46, 35.67s/it]"
     ]
    },
    {
     "name": "stdout",
     "output_type": "stream",
     "text": [
      "Best accuracy: 0.9518235029266097 Regularization: 5\n",
      "CAV accuracy for field concept (172): 0.9518\n",
      "[0804_120846] 142/623 Calculating CAV for stool\n",
      "Best accuracy: 0.7766771724448447 Regularization: 0.001\n",
      "Best accuracy: 0.8117964880684376 Regularization: 0.005\n",
      "Best accuracy: 0.8282305267897343 Regularization: 0.01\n",
      "Best accuracy: 0.8617739756866276 Regularization: 0.05\n",
      "Best accuracy: 0.870103556956326 Regularization: 0.1\n",
      "Best accuracy: 0.8831607384061234 Regularization: 0.5\n",
      "Best accuracy: 0.885186852769023 Regularization: 1\n",
      "Best accuracy: 0.889914452949122 Regularization: 3\n"
     ]
    },
    {
     "name": "stderr",
     "output_type": "stream",
     "text": [
      "142it [1:15:28, 37.54s/it]"
     ]
    },
    {
     "name": "stdout",
     "output_type": "stream",
     "text": [
      "Best accuracy: 0.8914903196758217 Regularization: 5\n",
      "CAV accuracy for stool concept (173): 0.8915\n",
      "[0804_120928] 143/623 Calculating CAV for tray\n",
      "Best accuracy: 0.8115713642503377 Regularization: 0.001\n",
      "Best accuracy: 0.8370103556956326 Regularization: 0.005\n",
      "Best accuracy: 0.8487167942368302 Regularization: 0.01\n",
      "Best accuracy: 0.8671769473210266 Regularization: 0.05\n",
      "Best accuracy: 0.8734804142278253 Regularization: 0.1\n",
      "Best accuracy: 0.889689329131022 Regularization: 0.5\n",
      "Best accuracy: 0.8910400720396218 Regularization: 1\n",
      "Best accuracy: 0.8941918054930211 Regularization: 3\n"
     ]
    },
    {
     "name": "stderr",
     "output_type": "stream",
     "text": [
      "143it [1:16:08, 38.13s/it]"
     ]
    },
    {
     "name": "stdout",
     "output_type": "stream",
     "text": [
      "Best accuracy: 0.8944169293111212 Regularization: 5\n",
      "CAV accuracy for tray concept (174): 0.8944\n",
      "[0804_121007] 144/623 Calculating CAV for pedestal\n",
      "Best accuracy: 0.8068437640702386 Regularization: 0.001\n",
      "Best accuracy: 0.8268797838811346 Regularization: 0.005\n",
      "Best accuracy: 0.8381359747861323 Regularization: 0.01\n",
      "Best accuracy: 0.8541197658712292 Regularization: 0.05\n",
      "Best accuracy: 0.8606483565961278 Regularization: 0.1\n",
      "Best accuracy: 0.8703286807744259 Regularization: 0.5\n",
      "Best accuracy: 0.8721296713192256 Regularization: 3\n"
     ]
    },
    {
     "name": "stderr",
     "output_type": "stream",
     "text": [
      "144it [1:16:48, 38.85s/it]"
     ]
    },
    {
     "name": "stdout",
     "output_type": "stream",
     "text": [
      "Best accuracy: 0.8730301665916254 Regularization: 5\n",
      "CAV accuracy for pedestal concept (175): 0.8730\n",
      "[0804_121048] 145/623 Calculating CAV for fireplace\n",
      "Best accuracy: 0.9063484916704188 Regularization: 0.001\n",
      "Best accuracy: 0.9230076542098155 Regularization: 0.005\n",
      "Best accuracy: 0.9308869878433138 Regularization: 0.01\n",
      "Best accuracy: 0.9452949122017109 Regularization: 0.05\n",
      "Best accuracy: 0.95047276001801 Regularization: 0.1\n",
      "Best accuracy: 0.9576767221972085 Regularization: 0.5\n",
      "Best accuracy: 0.960153084196308 Regularization: 1\n",
      "Best accuracy: 0.9621791985592075 Regularization: 3\n"
     ]
    },
    {
     "name": "stderr",
     "output_type": "stream",
     "text": [
      "145it [1:17:22, 37.51s/it]"
     ]
    },
    {
     "name": "stdout",
     "output_type": "stream",
     "text": [
      "Best accuracy: 0.9635299414678073 Regularization: 5\n",
      "CAV accuracy for fireplace concept (176): 0.9635\n",
      "[0804_121122] 146/623 Calculating CAV for outside arm\n",
      "Best accuracy: 0.9223322827555155 Regularization: 0.001\n",
      "Best accuracy: 0.9344889689329131 Regularization: 0.005\n",
      "Best accuracy: 0.9414678072940117 Regularization: 0.01\n",
      "Best accuracy: 0.9522737505628095 Regularization: 0.05\n",
      "Best accuracy: 0.954750112561909 Regularization: 0.1\n",
      "Best accuracy: 0.9590274651058082 Regularization: 0.5\n",
      "Best accuracy: 0.9603782080144079 Regularization: 3\n"
     ]
    },
    {
     "name": "stderr",
     "output_type": "stream",
     "text": [
      "146it [1:17:54, 35.71s/it]"
     ]
    },
    {
     "name": "stdout",
     "output_type": "stream",
     "text": [
      "Best accuracy: 0.9612787032868078 Regularization: 5\n",
      "CAV accuracy for outside arm concept (177): 0.9613\n",
      "[0804_121153] 147/623 Calculating CAV for trade name\n",
      "Best accuracy: 0.8806843764070239 Regularization: 0.001\n",
      "Best accuracy: 0.895092300765421 Regularization: 0.005\n",
      "Best accuracy: 0.9004952723998199 Regularization: 0.01\n",
      "Best accuracy: 0.9176046825754165 Regularization: 0.05\n",
      "Best accuracy: 0.9234579018460153 Regularization: 0.1\n",
      "Best accuracy: 0.9322377307519135 Regularization: 0.5\n",
      "Best accuracy: 0.9353894642053129 Regularization: 1\n",
      "Best accuracy: 0.9383160738406123 Regularization: 3\n"
     ]
    },
    {
     "name": "stderr",
     "output_type": "stream",
     "text": [
      "147it [1:18:27, 34.88s/it]"
     ]
    },
    {
     "name": "stdout",
     "output_type": "stream",
     "text": [
      "CAV accuracy for trade name concept (178): 0.9383\n",
      "[0804_121226] 148/623 Calculating CAV for oven\n",
      "Best accuracy: 0.9709590274651058 Regularization: 0.001\n",
      "Best accuracy: 0.975011256190905 Regularization: 0.005\n",
      "Best accuracy: 0.9768122467357047 Regularization: 0.01\n",
      "Best accuracy: 0.9806393516434039 Regularization: 0.05\n",
      "Best accuracy: 0.9815398469158036 Regularization: 0.1\n",
      "Best accuracy: 0.9833408374606033 Regularization: 0.5\n"
     ]
    },
    {
     "name": "stderr",
     "output_type": "stream",
     "text": [
      "148it [1:18:52, 31.99s/it]"
     ]
    },
    {
     "name": "stdout",
     "output_type": "stream",
     "text": [
      "CAV accuracy for oven concept (179): 0.9833\n",
      "[0804_121252] 149/623 Calculating CAV for keyboard\n",
      "Best accuracy: 0.95002251238181 Regularization: 0.001\n",
      "Best accuracy: 0.9594777127420081 Regularization: 0.005\n",
      "Best accuracy: 0.9639801891040072 Regularization: 0.01\n",
      "Best accuracy: 0.9736605132823053 Regularization: 0.05\n",
      "Best accuracy: 0.9770373705538046 Regularization: 0.1\n",
      "Best accuracy: 0.9810895992796038 Regularization: 0.5\n",
      "Best accuracy: 0.9819900945520036 Regularization: 1\n",
      "Best accuracy: 0.9835659612787033 Regularization: 3\n"
     ]
    },
    {
     "name": "stderr",
     "output_type": "stream",
     "text": [
      "149it [1:19:20, 30.64s/it]"
     ]
    },
    {
     "name": "stdout",
     "output_type": "stream",
     "text": [
      "Best accuracy: 0.9837910850968032 Regularization: 5\n",
      "CAV accuracy for keyboard concept (180): 0.9838\n",
      "[0804_121319] 150/623 Calculating CAV for footboard\n",
      "Best accuracy: 0.9182800540297164 Regularization: 0.001\n",
      "Best accuracy: 0.9275101305718145 Regularization: 0.005\n",
      "Best accuracy: 0.9306618640252139 Regularization: 0.01\n",
      "Best accuracy: 0.9439441692931112 Regularization: 0.05\n",
      "Best accuracy: 0.9491220171094101 Regularization: 0.1\n",
      "Best accuracy: 0.9565511031067087 Regularization: 0.5\n",
      "Best accuracy: 0.9590274651058082 Regularization: 1\n",
      "Best accuracy: 0.9606033318325079 Regularization: 3\n"
     ]
    },
    {
     "name": "stderr",
     "output_type": "stream",
     "text": [
      "150it [1:19:49, 30.37s/it]"
     ]
    },
    {
     "name": "stdout",
     "output_type": "stream",
     "text": [
      "Best accuracy: 0.9626294461954075 Regularization: 5\n",
      "CAV accuracy for footboard concept (181): 0.9626\n",
      "[0804_121349] 151/623 Calculating CAV for fan\n",
      "Best accuracy: 0.8194506978838361 Regularization: 0.001\n",
      "Best accuracy: 0.85029266096353 Regularization: 0.005\n",
      "Best accuracy: 0.8660513282305268 Regularization: 0.01\n",
      "Best accuracy: 0.8926159387663215 Regularization: 0.05\n",
      "Best accuracy: 0.9013957676722197 Regularization: 0.1\n",
      "Best accuracy: 0.9189554254840162 Regularization: 0.5\n",
      "Best accuracy: 0.9254840162089149 Regularization: 1\n",
      "Best accuracy: 0.929761368752814 Regularization: 3\n"
     ]
    },
    {
     "name": "stderr",
     "output_type": "stream",
     "text": [
      "151it [1:20:29, 33.23s/it]"
     ]
    },
    {
     "name": "stdout",
     "output_type": "stream",
     "text": [
      "Best accuracy: 0.9315623592976137 Regularization: 5\n",
      "CAV accuracy for fan concept (182): 0.9316\n",
      "[0804_121429] 152/623 Calculating CAV for horse\n",
      "Best accuracy: 0.9529491220171095 Regularization: 0.001\n",
      "Best accuracy: 0.9714092751013057 Regularization: 0.005\n",
      "Best accuracy: 0.9768122467357047 Regularization: 0.01\n",
      "Best accuracy: 0.9862674470959027 Regularization: 0.05\n",
      "Best accuracy: 0.9891940567312022 Regularization: 0.1\n",
      "Best accuracy: 0.9923457901846016 Regularization: 0.5\n",
      "Best accuracy: 0.9934714092751014 Regularization: 1\n",
      "Best accuracy: 0.9941467807294012 Regularization: 3\n"
     ]
    },
    {
     "name": "stderr",
     "output_type": "stream",
     "text": [
      "152it [1:20:54, 30.57s/it]"
     ]
    },
    {
     "name": "stdout",
     "output_type": "stream",
     "text": [
      "CAV accuracy for horse concept (183): 0.9941\n",
      "[0804_121453] 153/623 Calculating CAV for shelves\n",
      "Best accuracy: 0.9869428185502026 Regularization: 0.001\n",
      "Best accuracy: 0.9970733903647006 Regularization: 0.005\n",
      "Best accuracy: 0.9990995047276002 Regularization: 0.01\n",
      "Best accuracy: 0.9993246285457001 Regularization: 0.05\n",
      "Best accuracy: 0.9995497523638001 Regularization: 0.1\n",
      "Best accuracy: 0.9997748761819001 Regularization: 1\n"
     ]
    },
    {
     "name": "stderr",
     "output_type": "stream",
     "text": [
      "153it [1:21:08, 25.56s/it]"
     ]
    },
    {
     "name": "stdout",
     "output_type": "stream",
     "text": [
      "CAV accuracy for shelves concept (188): 0.9998\n",
      "[0804_121507] 154/623 Calculating CAV for bathtub\n",
      "Best accuracy: 0.9563259792886087 Regularization: 0.001\n",
      "Best accuracy: 0.9617289509230077 Regularization: 0.005\n",
      "Best accuracy: 0.9639801891040072 Regularization: 0.01\n",
      "Best accuracy: 0.9682575416479063 Regularization: 0.05\n",
      "Best accuracy: 0.9705087798289059 Regularization: 0.1\n",
      "Best accuracy: 0.9734353894642053 Regularization: 0.5\n",
      "Best accuracy: 0.9745610085547051 Regularization: 1\n"
     ]
    },
    {
     "name": "stderr",
     "output_type": "stream",
     "text": [
      "154it [1:21:34, 25.91s/it]"
     ]
    },
    {
     "name": "stdout",
     "output_type": "stream",
     "text": [
      "CAV accuracy for bathtub concept (189): 0.9746\n",
      "[0804_121534] 155/623 Calculating CAV for toilet\n",
      "Best accuracy: 0.9635299414678073 Regularization: 0.001\n",
      "Best accuracy: 0.9653309320126069 Regularization: 0.005\n",
      "Best accuracy: 0.9675821701936065 Regularization: 0.01\n",
      "Best accuracy: 0.9725348941918055 Regularization: 0.05\n",
      "Best accuracy: 0.9743358847366052 Regularization: 0.1\n",
      "Best accuracy: 0.9786132372805043 Regularization: 0.5\n"
     ]
    },
    {
     "name": "stderr",
     "output_type": "stream",
     "text": [
      "155it [1:22:00, 25.91s/it]"
     ]
    },
    {
     "name": "stdout",
     "output_type": "stream",
     "text": [
      "CAV accuracy for toilet concept (190): 0.9786\n",
      "[0804_121600] 156/623 Calculating CAV for refrigerator\n",
      "Best accuracy: 0.9239081494822152 Regularization: 0.001\n",
      "Best accuracy: 0.9335884736605132 Regularization: 0.005\n",
      "Best accuracy: 0.9365150832958127 Regularization: 0.01\n",
      "Best accuracy: 0.9470959027465106 Regularization: 0.05\n",
      "Best accuracy: 0.9515983791085096 Regularization: 0.1\n",
      "Best accuracy: 0.9563259792886087 Regularization: 0.5\n",
      "Best accuracy: 0.9585772174696083 Regularization: 1\n",
      "Best accuracy: 0.9594777127420081 Regularization: 3\n"
     ]
    },
    {
     "name": "stderr",
     "output_type": "stream",
     "text": [
      "156it [1:22:30, 27.22s/it]"
     ]
    },
    {
     "name": "stdout",
     "output_type": "stream",
     "text": [
      "Best accuracy: 0.9619540747411076 Regularization: 5\n",
      "CAV accuracy for refrigerator concept (191): 0.9620\n",
      "[0804_121630] 157/623 Calculating CAV for saddle\n",
      "Best accuracy: 0.9981990094552003 Regularization: 0.001\n",
      "Best accuracy: 0.9986492570914003 Regularization: 0.005\n",
      "Best accuracy: 0.9990995047276002 Regularization: 0.01\n",
      "Best accuracy: 0.9993246285457001 Regularization: 0.05\n",
      "Best accuracy: 0.9995497523638001 Regularization: 0.5\n",
      "Best accuracy: 0.9997748761819001 Regularization: 3\n"
     ]
    },
    {
     "name": "stderr",
     "output_type": "stream",
     "text": [
      "157it [1:22:43, 22.88s/it]"
     ]
    },
    {
     "name": "stdout",
     "output_type": "stream",
     "text": [
      "CAV accuracy for saddle concept (192): 0.9998\n",
      "[0804_121643] 158/623 Calculating CAV for apron\n",
      "Best accuracy: 0.8556956325979289 Regularization: 0.001\n",
      "Best accuracy: 0.8721296713192256 Regularization: 0.005\n",
      "Best accuracy: 0.8782080144079244 Regularization: 0.01\n",
      "Best accuracy: 0.89981990094552 Regularization: 0.05\n",
      "Best accuracy: 0.9081494822152184 Regularization: 0.1\n",
      "Best accuracy: 0.9214317874831157 Regularization: 0.5\n",
      "Best accuracy: 0.9252588923908149 Regularization: 1\n",
      "Best accuracy: 0.9311121116614138 Regularization: 3\n"
     ]
    },
    {
     "name": "stderr",
     "output_type": "stream",
     "text": [
      "158it [1:23:23, 28.02s/it]"
     ]
    },
    {
     "name": "stdout",
     "output_type": "stream",
     "text": [
      "Best accuracy: 0.9331382260243134 Regularization: 5\n",
      "CAV accuracy for apron concept (194): 0.9331\n",
      "[0804_121723] 159/623 Calculating CAV for counter\n",
      "Best accuracy: 0.8316073840612337 Regularization: 0.001\n",
      "Best accuracy: 0.8610986042323278 Regularization: 0.005\n",
      "Best accuracy: 0.8734804142278253 Regularization: 0.01\n",
      "Best accuracy: 0.9016208914903197 Regularization: 0.05\n",
      "Best accuracy: 0.9076992345790185 Regularization: 0.1\n",
      "Best accuracy: 0.920531292210716 Regularization: 0.5\n",
      "Best accuracy: 0.924808644754615 Regularization: 1\n",
      "Best accuracy: 0.9306618640252139 Regularization: 3\n"
     ]
    },
    {
     "name": "stderr",
     "output_type": "stream",
     "text": [
      "159it [1:24:04, 31.80s/it]"
     ]
    },
    {
     "name": "stdout",
     "output_type": "stream",
     "text": [
      "Best accuracy: 0.9313372354795137 Regularization: 5\n",
      "CAV accuracy for counter concept (195): 0.9313\n",
      "[0804_121803] 160/623 Calculating CAV for wardrobe\n",
      "Best accuracy: 0.8464655560558307 Regularization: 0.001\n",
      "Best accuracy: 0.8719045475011257 Regularization: 0.005\n",
      "Best accuracy: 0.8840612336785232 Regularization: 0.01\n",
      "Best accuracy: 0.9067987393066187 Regularization: 0.05\n",
      "Best accuracy: 0.915128320576317 Regularization: 0.1\n",
      "Best accuracy: 0.9306618640252139 Regularization: 0.5\n",
      "Best accuracy: 0.9353894642053129 Regularization: 1\n",
      "Best accuracy: 0.9405673120216119 Regularization: 3\n"
     ]
    },
    {
     "name": "stderr",
     "output_type": "stream",
     "text": [
      "160it [1:24:41, 33.56s/it]"
     ]
    },
    {
     "name": "stdout",
     "output_type": "stream",
     "text": [
      "Best accuracy: 0.9432687978388113 Regularization: 5\n",
      "CAV accuracy for wardrobe concept (197): 0.9433\n",
      "[0804_121841] 161/623 Calculating CAV for candlestick\n",
      "Best accuracy: 0.8719045475011257 Regularization: 0.001\n",
      "Best accuracy: 0.889914452949122 Regularization: 0.005\n",
      "Best accuracy: 0.8991445294912201 Regularization: 0.01\n",
      "Best accuracy: 0.914678072940117 Regularization: 0.05\n",
      "Best accuracy: 0.920531292210716 Regularization: 0.1\n",
      "Best accuracy: 0.9286357496623143 Regularization: 0.5\n",
      "Best accuracy: 0.9331382260243134 Regularization: 1\n",
      "Best accuracy: 0.940117064385412 Regularization: 3\n"
     ]
    },
    {
     "name": "stderr",
     "output_type": "stream",
     "text": [
      "161it [1:25:20, 35.08s/it]"
     ]
    },
    {
     "name": "stdout",
     "output_type": "stream",
     "text": [
      "Best accuracy: 0.9419180549302116 Regularization: 5\n",
      "CAV accuracy for candlestick concept (198): 0.9419\n",
      "[0804_121920] 162/623 Calculating CAV for computer\n",
      "Best accuracy: 0.95047276001801 Regularization: 0.001\n",
      "Best accuracy: 0.9621791985592075 Regularization: 0.005\n",
      "Best accuracy: 0.9664565511031067 Regularization: 0.01\n",
      "Best accuracy: 0.9763619990995047 Regularization: 0.05\n",
      "Best accuracy: 0.980414227825304 Regularization: 0.1\n",
      "Best accuracy: 0.9835659612787033 Regularization: 0.5\n",
      "Best accuracy: 0.984691580369203 Regularization: 1\n"
     ]
    },
    {
     "name": "stderr",
     "output_type": "stream",
     "text": [
      "162it [1:25:47, 32.72s/it]"
     ]
    },
    {
     "name": "stdout",
     "output_type": "stream",
     "text": [
      "CAV accuracy for computer concept (199): 0.9847\n",
      "[0804_121947] 163/623 Calculating CAV for palm\n",
      "Best accuracy: 0.8529941467807294 Regularization: 0.001\n",
      "Best accuracy: 0.8885637100405223 Regularization: 0.005\n",
      "Best accuracy: 0.9027465105808195 Regularization: 0.01\n",
      "Best accuracy: 0.9216569113012156 Regularization: 0.05\n",
      "Best accuracy: 0.9279603782080144 Regularization: 0.1\n",
      "Best accuracy: 0.9358397118415128 Regularization: 0.5\n",
      "Best accuracy: 0.9414678072940117 Regularization: 1\n",
      "Best accuracy: 0.9470959027465106 Regularization: 3\n"
     ]
    },
    {
     "name": "stderr",
     "output_type": "stream",
     "text": [
      "163it [1:26:24, 34.05s/it]"
     ]
    },
    {
     "name": "stdout",
     "output_type": "stream",
     "text": [
      "Best accuracy: 0.9479963980189104 Regularization: 5\n",
      "CAV accuracy for palm concept (200): 0.9480\n",
      "[0804_122024] 164/623 Calculating CAV for shop window\n",
      "Best accuracy: 0.9099504727600181 Regularization: 0.001\n",
      "Best accuracy: 0.9261593876632148 Regularization: 0.005\n",
      "Best accuracy: 0.9313372354795137 Regularization: 0.01\n",
      "Best accuracy: 0.9439441692931112 Regularization: 0.05\n",
      "Best accuracy: 0.9484466456551103 Regularization: 0.1\n",
      "Best accuracy: 0.9590274651058082 Regularization: 0.5\n",
      "Best accuracy: 0.9610535794687078 Regularization: 1\n",
      "Best accuracy: 0.9633048176497073 Regularization: 3\n"
     ]
    },
    {
     "name": "stderr",
     "output_type": "stream",
     "text": [
      "164it [1:26:55, 32.86s/it]"
     ]
    },
    {
     "name": "stdout",
     "output_type": "stream",
     "text": [
      "Best accuracy: 0.9657811796488068 Regularization: 5\n",
      "CAV accuracy for shop window concept (201): 0.9658\n",
      "[0804_122054] 165/623 Calculating CAV for brick\n",
      "Best accuracy: 0.9948221521837011 Regularization: 0.001\n",
      "Best accuracy: 0.9972985141828006 Regularization: 0.005\n",
      "Best accuracy: 0.9986492570914003 Regularization: 0.01\n",
      "Best accuracy: 0.9988743809095002 Regularization: 0.05\n"
     ]
    },
    {
     "name": "stderr",
     "output_type": "stream",
     "text": [
      "165it [1:27:12, 28.21s/it]"
     ]
    },
    {
     "name": "stdout",
     "output_type": "stream",
     "text": [
      "CAV accuracy for brick concept (202): 0.9989\n",
      "[0804_122111] 166/623 Calculating CAV for board\n",
      "Best accuracy: 0.8140477262494372 Regularization: 0.001\n",
      "Best accuracy: 0.84984241332733 Regularization: 0.005\n",
      "Best accuracy: 0.8653759567762269 Regularization: 0.01\n",
      "Best accuracy: 0.8975686627645205 Regularization: 0.05\n",
      "Best accuracy: 0.9045475011256191 Regularization: 0.1\n",
      "Best accuracy: 0.9187303016659163 Regularization: 0.5\n",
      "Best accuracy: 0.9266096352994146 Regularization: 1\n",
      "Best accuracy: 0.935164340387213 Regularization: 3\n"
     ]
    },
    {
     "name": "stderr",
     "output_type": "stream",
     "text": [
      "166it [1:27:52, 31.90s/it]"
     ]
    },
    {
     "name": "stdout",
     "output_type": "stream",
     "text": [
      "Best accuracy: 0.9387663214768123 Regularization: 5\n",
      "CAV accuracy for board concept (204): 0.9388\n",
      "[0804_122152] 167/623 Calculating CAV for blind\n",
      "Best accuracy: 0.795362449347141 Regularization: 0.001\n",
      "Best accuracy: 0.8241782980639352 Regularization: 0.005\n",
      "Best accuracy: 0.8394867176947322 Regularization: 0.01\n",
      "Best accuracy: 0.8746060333183251 Regularization: 0.05\n",
      "Best accuracy: 0.8874380909500225 Regularization: 0.1\n",
      "Best accuracy: 0.905222872579919 Regularization: 0.5\n",
      "Best accuracy: 0.9115263394867177 Regularization: 1\n",
      "Best accuracy: 0.9176046825754165 Regularization: 3\n"
     ]
    },
    {
     "name": "stderr",
     "output_type": "stream",
     "text": [
      "167it [1:28:31, 33.96s/it]"
     ]
    },
    {
     "name": "stdout",
     "output_type": "stream",
     "text": [
      "Best accuracy: 0.9182800540297164 Regularization: 5\n",
      "CAV accuracy for blind concept (205): 0.9183\n",
      "[0804_122231] 168/623 Calculating CAV for chimney\n",
      "Best accuracy: 0.8570463755065286 Regularization: 0.001\n",
      "Best accuracy: 0.8824853669518236 Regularization: 0.005\n",
      "Best accuracy: 0.8937415578568213 Regularization: 0.01\n",
      "Best accuracy: 0.9171544349392166 Regularization: 0.05\n",
      "Best accuracy: 0.924808644754615 Regularization: 0.1\n",
      "Best accuracy: 0.9403421882035119 Regularization: 0.5\n",
      "Best accuracy: 0.9446195407474111 Regularization: 1\n",
      "Best accuracy: 0.9479963980189104 Regularization: 3\n"
     ]
    },
    {
     "name": "stderr",
     "output_type": "stream",
     "text": [
      "168it [1:29:08, 34.76s/it]"
     ]
    },
    {
     "name": "stdout",
     "output_type": "stream",
     "text": [
      "Best accuracy: 0.9491220171094101 Regularization: 5\n",
      "CAV accuracy for chimney concept (206): 0.9491\n",
      "[0804_122307] 169/623 Calculating CAV for microwave\n",
      "Best accuracy: 0.9561008554705088 Regularization: 0.001\n",
      "Best accuracy: 0.9635299414678073 Regularization: 0.005\n",
      "Best accuracy: 0.9666816749212067 Regularization: 0.01\n",
      "Best accuracy: 0.9709590274651058 Regularization: 0.05\n",
      "Best accuracy: 0.9743358847366052 Regularization: 0.1\n",
      "Best accuracy: 0.9786132372805043 Regularization: 0.5\n",
      "Best accuracy: 0.9788383610986042 Regularization: 1\n",
      "Best accuracy: 0.9792886087348042 Regularization: 3\n"
     ]
    },
    {
     "name": "stderr",
     "output_type": "stream",
     "text": [
      "169it [1:29:35, 32.43s/it]"
     ]
    },
    {
     "name": "stdout",
     "output_type": "stream",
     "text": [
      "CAV accuracy for microwave concept (207): 0.9793\n",
      "[0804_122334] 170/623 Calculating CAV for sand\n",
      "Best accuracy: 0.9214317874831157 Regularization: 0.001\n",
      "Best accuracy: 0.9374155785682126 Regularization: 0.005\n",
      "Best accuracy: 0.9423683025664116 Regularization: 0.01\n",
      "Best accuracy: 0.9558757316524088 Regularization: 0.05\n",
      "Best accuracy: 0.959702836560108 Regularization: 0.1\n",
      "Best accuracy: 0.9633048176497073 Regularization: 0.5\n",
      "Best accuracy: 0.965105808194507 Regularization: 1\n",
      "Best accuracy: 0.9657811796488068 Regularization: 3\n"
     ]
    },
    {
     "name": "stderr",
     "output_type": "stream",
     "text": [
      "170it [1:30:12, 33.81s/it]"
     ]
    },
    {
     "name": "stdout",
     "output_type": "stream",
     "text": [
      "Best accuracy: 0.9669067987393066 Regularization: 5\n",
      "CAV accuracy for sand concept (208): 0.9669\n",
      "[0804_122411] 171/623 Calculating CAV for track\n",
      "Best accuracy: 0.9770373705538046 Regularization: 0.001\n",
      "Best accuracy: 0.9880684376407024 Regularization: 0.005\n",
      "Best accuracy: 0.9905447996398019 Regularization: 0.01\n",
      "Best accuracy: 0.9954975236380009 Regularization: 0.05\n",
      "Best accuracy: 0.9968482665466006 Regularization: 0.1\n",
      "Best accuracy: 0.9984241332733003 Regularization: 0.5\n",
      "Best accuracy: 0.9986492570914003 Regularization: 1\n"
     ]
    },
    {
     "name": "stderr",
     "output_type": "stream",
     "text": [
      "171it [1:30:32, 29.86s/it]"
     ]
    },
    {
     "name": "stdout",
     "output_type": "stream",
     "text": [
      "CAV accuracy for track concept (209): 0.9986\n",
      "[0804_122432] 172/623 Calculating CAV for fluorescent\n",
      "Best accuracy: 0.8583971184151283 Regularization: 0.001\n",
      "Best accuracy: 0.8827104907699235 Regularization: 0.005\n",
      "Best accuracy: 0.8883385862224223 Regularization: 0.01\n",
      "Best accuracy: 0.9040972534894192 Regularization: 0.05\n",
      "Best accuracy: 0.9085997298514182 Regularization: 0.1\n",
      "Best accuracy: 0.9232327780279154 Regularization: 0.5\n",
      "Best accuracy: 0.9254840162089149 Regularization: 1\n",
      "Best accuracy: 0.929986492570914 Regularization: 3\n"
     ]
    },
    {
     "name": "stderr",
     "output_type": "stream",
     "text": [
      "172it [1:31:11, 32.47s/it]"
     ]
    },
    {
     "name": "stdout",
     "output_type": "stream",
     "text": [
      "Best accuracy: 0.9324628545700135 Regularization: 5\n",
      "CAV accuracy for fluorescent concept (210): 0.9325\n",
      "[0804_122511] 173/623 Calculating CAV for step\n",
      "Best accuracy: 0.7674470959027465 Regularization: 0.001\n",
      "Best accuracy: 0.8068437640702386 Regularization: 0.005\n",
      "Best accuracy: 0.8226024313372354 Regularization: 0.01\n",
      "Best accuracy: 0.8523187753264295 Regularization: 0.05\n",
      "Best accuracy: 0.8640252138676272 Regularization: 0.1\n",
      "Best accuracy: 0.8820351193156236 Regularization: 0.5\n",
      "Best accuracy: 0.8840612336785232 Regularization: 1\n",
      "Best accuracy: 0.8885637100405223 Regularization: 3\n"
     ]
    },
    {
     "name": "stderr",
     "output_type": "stream",
     "text": [
      "173it [1:31:54, 35.72s/it]"
     ]
    },
    {
     "name": "stdout",
     "output_type": "stream",
     "text": [
      "Best accuracy: 0.8905898244034219 Regularization: 5\n",
      "CAV accuracy for step concept (211): 0.8906\n",
      "[0804_122554] 174/623 Calculating CAV for sculpture\n",
      "Best accuracy: 0.8365601080594327 Regularization: 0.001\n",
      "Best accuracy: 0.8543448896893291 Regularization: 0.005\n",
      "Best accuracy: 0.8642503376857271 Regularization: 0.01\n",
      "Best accuracy: 0.8905898244034219 Regularization: 0.05\n",
      "Best accuracy: 0.89981990094552 Regularization: 0.1\n",
      "Best accuracy: 0.9122017109410175 Regularization: 0.5\n",
      "Best accuracy: 0.9169293111211166 Regularization: 1\n",
      "Best accuracy: 0.9241332733003151 Regularization: 3\n"
     ]
    },
    {
     "name": "stderr",
     "output_type": "stream",
     "text": [
      "174it [1:32:37, 37.92s/it]"
     ]
    },
    {
     "name": "stdout",
     "output_type": "stream",
     "text": [
      "Best accuracy: 0.925033768572715 Regularization: 5\n",
      "CAV accuracy for sculpture concept (212): 0.9250\n",
      "[0804_122637] 175/623 Calculating CAV for engine\n",
      "Best accuracy: 0.9957226474561008 Regularization: 0.001\n",
      "Best accuracy: 0.9988743809095002 Regularization: 0.005\n",
      "Best accuracy: 0.9993246285457001 Regularization: 0.01\n",
      "Best accuracy: 0.9997748761819001 Regularization: 0.05\n",
      "Best accuracy: 1.0 Regularization: 0.1\n"
     ]
    },
    {
     "name": "stderr",
     "output_type": "stream",
     "text": [
      "175it [1:32:51, 30.67s/it]"
     ]
    },
    {
     "name": "stdout",
     "output_type": "stream",
     "text": [
      "CAV accuracy for engine concept (213): 1.0000\n",
      "[0804_122651] 176/623 Calculating CAV for countertop\n",
      "Best accuracy: 0.934714092751013 Regularization: 0.001\n",
      "Best accuracy: 0.9410175596578118 Regularization: 0.005\n",
      "Best accuracy: 0.9470959027465106 Regularization: 0.01\n",
      "Best accuracy: 0.9590274651058082 Regularization: 0.05\n",
      "Best accuracy: 0.9617289509230077 Regularization: 0.1\n",
      "Best accuracy: 0.9673570463755066 Regularization: 0.5\n",
      "Best accuracy: 0.9687077892841063 Regularization: 1\n",
      "Best accuracy: 0.9705087798289059 Regularization: 3\n"
     ]
    },
    {
     "name": "stderr",
     "output_type": "stream",
     "text": [
      "176it [1:33:24, 31.20s/it]"
     ]
    },
    {
     "name": "stdout",
     "output_type": "stream",
     "text": [
      "CAV accuracy for countertop concept (214): 0.9705\n",
      "[0804_122723] 177/623 Calculating CAV for swivel chair\n",
      "Best accuracy: 0.9126519585772175 Regularization: 0.001\n",
      "Best accuracy: 0.930211616389014 Regularization: 0.005\n",
      "Best accuracy: 0.934714092751013 Regularization: 0.01\n",
      "Best accuracy: 0.9509230076542098 Regularization: 0.05\n",
      "Best accuracy: 0.9565511031067087 Regularization: 0.1\n",
      "Best accuracy: 0.9655560558307069 Regularization: 0.5\n",
      "Best accuracy: 0.9698334083746061 Regularization: 1\n",
      "Best accuracy: 0.9718595227375056 Regularization: 3\n"
     ]
    },
    {
     "name": "stderr",
     "output_type": "stream",
     "text": [
      "177it [1:33:56, 31.66s/it]"
     ]
    },
    {
     "name": "stdout",
     "output_type": "stream",
     "text": [
      "Best accuracy: 0.9727600180099054 Regularization: 5\n",
      "CAV accuracy for swivel chair concept (216): 0.9728\n",
      "[0804_122756] 178/623 Calculating CAV for lid\n",
      "Best accuracy: 0.9491220171094101 Regularization: 0.001\n",
      "Best accuracy: 0.9540747411076091 Regularization: 0.005\n",
      "Best accuracy: 0.9585772174696083 Regularization: 0.01\n",
      "Best accuracy: 0.9666816749212067 Regularization: 0.05\n",
      "Best accuracy: 0.9684826654660063 Regularization: 0.1\n",
      "Best accuracy: 0.9727600180099054 Regularization: 0.5\n",
      "Best accuracy: 0.9752363800090049 Regularization: 3\n"
     ]
    },
    {
     "name": "stderr",
     "output_type": "stream",
     "text": [
      "178it [1:34:23, 30.24s/it]"
     ]
    },
    {
     "name": "stdout",
     "output_type": "stream",
     "text": [
      "Best accuracy: 0.9761368752814048 Regularization: 5\n",
      "CAV accuracy for lid concept (217): 0.9761\n",
      "[0804_122823] 179/623 Calculating CAV for loudspeaker\n",
      "Best accuracy: 0.8685276902296263 Regularization: 0.001\n",
      "Best accuracy: 0.8982440342188204 Regularization: 0.005\n",
      "Best accuracy: 0.9115263394867177 Regularization: 0.01\n",
      "Best accuracy: 0.9342638451148132 Regularization: 0.05\n",
      "Best accuracy: 0.9405673120216119 Regularization: 0.1\n",
      "Best accuracy: 0.9533993696533093 Regularization: 0.5\n",
      "Best accuracy: 0.9583520936515083 Regularization: 1\n",
      "Best accuracy: 0.9606033318325079 Regularization: 3\n"
     ]
    },
    {
     "name": "stderr",
     "output_type": "stream",
     "text": [
      "179it [1:34:59, 31.90s/it]"
     ]
    },
    {
     "name": "stdout",
     "output_type": "stream",
     "text": [
      "Best accuracy: 0.9628545700135074 Regularization: 5\n",
      "CAV accuracy for loudspeaker concept (218): 0.9629\n",
      "[0804_122859] 180/623 Calculating CAV for side\n",
      "Best accuracy: 0.8334083746060333 Regularization: 0.001\n",
      "Best accuracy: 0.8633498424133274 Regularization: 0.005\n",
      "Best accuracy: 0.874831157136425 Regularization: 0.01\n",
      "Best accuracy: 0.9016208914903197 Regularization: 0.05\n",
      "Best accuracy: 0.9106258442143179 Regularization: 0.1\n",
      "Best accuracy: 0.9270598829356146 Regularization: 0.5\n",
      "Best accuracy: 0.9329131022062134 Regularization: 1\n",
      "Best accuracy: 0.9383160738406123 Regularization: 3\n"
     ]
    },
    {
     "name": "stderr",
     "output_type": "stream",
     "text": [
      "180it [1:35:37, 33.81s/it]"
     ]
    },
    {
     "name": "stdout",
     "output_type": "stream",
     "text": [
      "Best accuracy: 0.9392165691130122 Regularization: 5\n",
      "CAV accuracy for side concept (219): 0.9392\n",
      "[0804_122937] 181/623 Calculating CAV for skirt\n",
      "Best accuracy: 0.8737055380459252 Regularization: 0.001\n",
      "Best accuracy: 0.8917154434939216 Regularization: 0.005\n",
      "Best accuracy: 0.9031967582170194 Regularization: 0.01\n",
      "Best accuracy: 0.9225574065736155 Regularization: 0.05\n",
      "Best accuracy: 0.9281855020261144 Regularization: 0.1\n",
      "Best accuracy: 0.9421431787483115 Regularization: 0.5\n",
      "Best accuracy: 0.9448446645655111 Regularization: 1\n",
      "Best accuracy: 0.94979738856371 Regularization: 3\n"
     ]
    },
    {
     "name": "stderr",
     "output_type": "stream",
     "text": [
      "181it [1:36:16, 35.30s/it]"
     ]
    },
    {
     "name": "stdout",
     "output_type": "stream",
     "text": [
      "Best accuracy: 0.9513732552904097 Regularization: 5\n",
      "CAV accuracy for skirt concept (220): 0.9514\n",
      "[0804_123016] 182/623 Calculating CAV for pipe\n",
      "Best accuracy: 0.8158487167942369 Regularization: 0.001\n",
      "Best accuracy: 0.8363349842413327 Regularization: 0.005\n",
      "Best accuracy: 0.8509680324178298 Regularization: 0.01\n",
      "Best accuracy: 0.8743809095002252 Regularization: 0.05\n",
      "Best accuracy: 0.8822602431337235 Regularization: 0.1\n",
      "Best accuracy: 0.9002701485817199 Regularization: 0.5\n",
      "Best accuracy: 0.904997748761819 Regularization: 1\n",
      "Best accuracy: 0.9106258442143179 Regularization: 3\n"
     ]
    },
    {
     "name": "stderr",
     "output_type": "stream",
     "text": [
      "182it [1:36:58, 37.17s/it]"
     ]
    },
    {
     "name": "stdout",
     "output_type": "stream",
     "text": [
      "Best accuracy: 0.9126519585772175 Regularization: 5\n",
      "CAV accuracy for pipe concept (221): 0.9127\n",
      "[0804_123057] 183/623 Calculating CAV for snow\n",
      "Best accuracy: 0.9542998649257092 Regularization: 0.001\n",
      "Best accuracy: 0.9660063034669067 Regularization: 0.005\n",
      "Best accuracy: 0.9691580369203062 Regularization: 0.01\n",
      "Best accuracy: 0.9765871229176046 Regularization: 0.05\n",
      "Best accuracy: 0.9783881134624043 Regularization: 0.1\n",
      "Best accuracy: 0.9806393516434039 Regularization: 0.5\n",
      "Best accuracy: 0.9808644754615038 Regularization: 1\n",
      "Best accuracy: 0.9831157136425034 Regularization: 3\n"
     ]
    },
    {
     "name": "stderr",
     "output_type": "stream",
     "text": [
      "183it [1:37:23, 33.57s/it]"
     ]
    },
    {
     "name": "stdout",
     "output_type": "stream",
     "text": [
      "Best accuracy: 0.9837910850968032 Regularization: 5\n",
      "CAV accuracy for snow concept (224): 0.9838\n",
      "[0804_123122] 184/623 Calculating CAV for river\n",
      "Best accuracy: 0.914678072940117 Regularization: 0.001\n",
      "Best accuracy: 0.9369653309320126 Regularization: 0.005\n",
      "Best accuracy: 0.9430436740207114 Regularization: 0.01\n",
      "Best accuracy: 0.9520486267447096 Regularization: 0.05\n",
      "Best accuracy: 0.955425484016209 Regularization: 0.1\n",
      "Best accuracy: 0.9621791985592075 Regularization: 0.5\n",
      "Best accuracy: 0.9624043223773076 Regularization: 1\n",
      "Best accuracy: 0.9633048176497073 Regularization: 3\n"
     ]
    },
    {
     "name": "stderr",
     "output_type": "stream",
     "text": [
      "184it [1:37:55, 33.16s/it]"
     ]
    },
    {
     "name": "stdout",
     "output_type": "stream",
     "text": [
      "Best accuracy: 0.9648806843764071 Regularization: 5\n",
      "CAV accuracy for river concept (225): 0.9649\n",
      "[0804_123155] 185/623 Calculating CAV for air conditioner\n",
      "Best accuracy: 0.7856821251688428 Regularization: 0.001\n",
      "Best accuracy: 0.8075191355245385 Regularization: 0.005\n",
      "Best accuracy: 0.8217019360648357 Regularization: 0.01\n",
      "Best accuracy: 0.8529941467807294 Regularization: 0.05\n",
      "Best accuracy: 0.8687528140477262 Regularization: 0.1\n",
      "Best accuracy: 0.8892390814948221 Regularization: 0.5\n",
      "Best accuracy: 0.895092300765421 Regularization: 1\n",
      "Best accuracy: 0.9022962629446195 Regularization: 3\n"
     ]
    },
    {
     "name": "stderr",
     "output_type": "stream",
     "text": [
      "185it [1:38:36, 35.38s/it]"
     ]
    },
    {
     "name": "stdout",
     "output_type": "stream",
     "text": [
      "Best accuracy: 0.9063484916704188 Regularization: 5\n",
      "CAV accuracy for air conditioner concept (226): 0.9063\n",
      "[0804_123235] 186/623 Calculating CAV for bumper\n",
      "Best accuracy: 0.9144529491220171 Regularization: 0.001\n",
      "Best accuracy: 0.929986492570914 Regularization: 0.005\n",
      "Best accuracy: 0.9369653309320126 Regularization: 0.01\n",
      "Best accuracy: 0.9511481314723098 Regularization: 0.05\n",
      "Best accuracy: 0.954750112561909 Regularization: 0.1\n",
      "Best accuracy: 0.9624043223773076 Regularization: 0.5\n",
      "Best accuracy: 0.9664565511031067 Regularization: 1\n",
      "Best accuracy: 0.9678072940117064 Regularization: 3\n"
     ]
    },
    {
     "name": "stderr",
     "output_type": "stream",
     "text": [
      "186it [1:39:10, 35.15s/it]"
     ]
    },
    {
     "name": "stdout",
     "output_type": "stream",
     "text": [
      "Best accuracy: 0.9687077892841063 Regularization: 5\n",
      "CAV accuracy for bumper concept (227): 0.9687\n",
      "[0804_123310] 187/623 Calculating CAV for ottoman\n",
      "Best accuracy: 0.885186852769023 Regularization: 0.001\n",
      "Best accuracy: 0.904772624943719 Regularization: 0.005\n",
      "Best accuracy: 0.9131022062134174 Regularization: 0.01\n",
      "Best accuracy: 0.9286357496623143 Regularization: 0.05\n",
      "Best accuracy: 0.9367402071139127 Regularization: 0.1\n",
      "Best accuracy: 0.9486717694732103 Regularization: 0.5\n",
      "Best accuracy: 0.9520486267447096 Regularization: 1\n",
      "Best accuracy: 0.9579018460153084 Regularization: 3\n"
     ]
    },
    {
     "name": "stderr",
     "output_type": "stream",
     "text": [
      "187it [1:39:45, 34.92s/it]"
     ]
    },
    {
     "name": "stdout",
     "output_type": "stream",
     "text": [
      "Best accuracy: 0.9590274651058082 Regularization: 5\n",
      "CAV accuracy for ottoman concept (228): 0.9590\n",
      "[0804_123344] 188/623 Calculating CAV for jar\n",
      "Best accuracy: 0.8674020711391265 Regularization: 0.001\n",
      "Best accuracy: 0.8865375956776227 Regularization: 0.005\n",
      "Best accuracy: 0.8989194056731202 Regularization: 0.01\n",
      "Best accuracy: 0.919855920756416 Regularization: 0.05\n",
      "Best accuracy: 0.9281855020261144 Regularization: 0.1\n",
      "Best accuracy: 0.9403421882035119 Regularization: 0.5\n",
      "Best accuracy: 0.9459702836560108 Regularization: 1\n",
      "Best accuracy: 0.9495722647456101 Regularization: 3\n"
     ]
    },
    {
     "name": "stderr",
     "output_type": "stream",
     "text": [
      "188it [1:40:25, 36.59s/it]"
     ]
    },
    {
     "name": "stdout",
     "output_type": "stream",
     "text": [
      "Best accuracy: 0.9502476361999099 Regularization: 5\n",
      "CAV accuracy for jar concept (229): 0.9502\n",
      "[0804_123425] 189/623 Calculating CAV for pack\n",
      "Best accuracy: 0.9689329131022062 Regularization: 0.001\n",
      "Best accuracy: 0.9817649707339037 Regularization: 0.005\n",
      "Best accuracy: 0.9880684376407024 Regularization: 0.01\n",
      "Best accuracy: 0.9916704187303017 Regularization: 0.05\n",
      "Best accuracy: 0.9930211616389014 Regularization: 0.1\n",
      "Best accuracy: 0.994597028365601 Regularization: 0.5\n",
      "Best accuracy: 0.9952723998199009 Regularization: 1\n",
      "Best accuracy: 0.9954975236380009 Regularization: 3\n"
     ]
    },
    {
     "name": "stderr",
     "output_type": "stream",
     "text": [
      "189it [1:40:48, 32.44s/it]"
     ]
    },
    {
     "name": "stdout",
     "output_type": "stream",
     "text": [
      "Best accuracy: 0.9957226474561008 Regularization: 5\n",
      "CAV accuracy for pack concept (232): 0.9957\n",
      "[0804_123447] 190/623 Calculating CAV for canopy\n",
      "Best accuracy: 0.8640252138676272 Regularization: 0.001\n",
      "Best accuracy: 0.8973435389464205 Regularization: 0.005\n",
      "Best accuracy: 0.9108509680324178 Regularization: 0.01\n",
      "Best accuracy: 0.9326879783881135 Regularization: 0.05\n",
      "Best accuracy: 0.9403421882035119 Regularization: 0.1\n",
      "Best accuracy: 0.9486717694732103 Regularization: 0.5\n",
      "Best accuracy: 0.9527239981990094 Regularization: 1\n",
      "Best accuracy: 0.9576767221972085 Regularization: 3\n"
     ]
    },
    {
     "name": "stderr",
     "output_type": "stream",
     "text": [
      "190it [1:41:25, 33.86s/it]"
     ]
    },
    {
     "name": "stdout",
     "output_type": "stream",
     "text": [
      "Best accuracy: 0.959702836560108 Regularization: 5\n",
      "CAV accuracy for canopy concept (234): 0.9597\n",
      "[0804_123524] 191/623 Calculating CAV for stile\n",
      "Best accuracy: 0.815173345339937 Regularization: 0.001\n",
      "Best accuracy: 0.8403872129671319 Regularization: 0.005\n",
      "Best accuracy: 0.855245384961729 Regularization: 0.01\n",
      "Best accuracy: 0.8833858622242233 Regularization: 0.05\n",
      "Best accuracy: 0.8986942818550203 Regularization: 0.1\n",
      "Best accuracy: 0.9187303016659163 Regularization: 0.5\n",
      "Best accuracy: 0.925033768572715 Regularization: 1\n",
      "Best accuracy: 0.9311121116614138 Regularization: 3\n"
     ]
    },
    {
     "name": "stderr",
     "output_type": "stream",
     "text": [
      "191it [1:42:04, 35.43s/it]"
     ]
    },
    {
     "name": "stdout",
     "output_type": "stream",
     "text": [
      "Best accuracy: 0.9331382260243134 Regularization: 5\n",
      "CAV accuracy for stile concept (235): 0.9331\n",
      "[0804_123604] 192/623 Calculating CAV for bridge\n",
      "Best accuracy: 0.9218820351193157 Regularization: 0.001\n",
      "Best accuracy: 0.9378658262044124 Regularization: 0.005\n",
      "Best accuracy: 0.9457451598379109 Regularization: 0.01\n",
      "Best accuracy: 0.9594777127420081 Regularization: 0.05\n",
      "Best accuracy: 0.9630796938316074 Regularization: 0.1\n",
      "Best accuracy: 0.9682575416479063 Regularization: 0.5\n",
      "Best accuracy: 0.9698334083746061 Regularization: 1\n",
      "Best accuracy: 0.9716343989194057 Regularization: 3\n"
     ]
    },
    {
     "name": "stderr",
     "output_type": "stream",
     "text": [
      "192it [1:42:34, 33.77s/it]"
     ]
    },
    {
     "name": "stdout",
     "output_type": "stream",
     "text": [
      "Best accuracy: 0.9743358847366052 Regularization: 5\n",
      "CAV accuracy for bridge concept (236): 0.9743\n",
      "[0804_123633] 193/623 Calculating CAV for cardboard\n",
      "Best accuracy: 0.9986492570914003 Regularization: 0.001\n",
      "Best accuracy: 0.9990995047276002 Regularization: 0.005\n",
      "Best accuracy: 0.9993246285457001 Regularization: 0.01\n",
      "Best accuracy: 0.9995497523638001 Regularization: 0.05\n",
      "Best accuracy: 0.9997748761819001 Regularization: 0.5\n"
     ]
    },
    {
     "name": "stderr",
     "output_type": "stream",
     "text": [
      "193it [1:42:46, 27.28s/it]"
     ]
    },
    {
     "name": "stdout",
     "output_type": "stream",
     "text": [
      "CAV accuracy for cardboard concept (238): 0.9998\n",
      "[0804_123646] 194/623 Calculating CAV for minibike\n",
      "Best accuracy: 0.8793336334984241 Regularization: 0.001\n",
      "Best accuracy: 0.895092300765421 Regularization: 0.005\n",
      "Best accuracy: 0.9027465105808195 Regularization: 0.01\n",
      "Best accuracy: 0.9236830256641153 Regularization: 0.05\n",
      "Best accuracy: 0.9338135974786133 Regularization: 0.1\n",
      "Best accuracy: 0.9477712742008104 Regularization: 0.5\n",
      "Best accuracy: 0.9529491220171095 Regularization: 1\n",
      "Best accuracy: 0.9592525889239082 Regularization: 3\n"
     ]
    },
    {
     "name": "stderr",
     "output_type": "stream",
     "text": [
      "194it [1:43:19, 29.08s/it]"
     ]
    },
    {
     "name": "stdout",
     "output_type": "stream",
     "text": [
      "Best accuracy: 0.9617289509230077 Regularization: 5\n",
      "CAV accuracy for minibike concept (239): 0.9617\n",
      "[0804_123719] 195/623 Calculating CAV for figurine\n",
      "Best accuracy: 0.8212516884286357 Regularization: 0.001\n",
      "Best accuracy: 0.8480414227825304 Regularization: 0.005\n",
      "Best accuracy: 0.8608734804142278 Regularization: 0.01\n",
      "Best accuracy: 0.8905898244034219 Regularization: 0.05\n",
      "Best accuracy: 0.90004502476362 Regularization: 0.1\n",
      "Best accuracy: 0.9180549302116164 Regularization: 0.5\n",
      "Best accuracy: 0.9252588923908149 Regularization: 1\n",
      "Best accuracy: 0.9322377307519135 Regularization: 3\n"
     ]
    },
    {
     "name": "stderr",
     "output_type": "stream",
     "text": [
      "195it [1:44:00, 32.65s/it]"
     ]
    },
    {
     "name": "stdout",
     "output_type": "stream",
     "text": [
      "Best accuracy: 0.9335884736605132 Regularization: 5\n",
      "CAV accuracy for figurine concept (240): 0.9336\n",
      "[0804_123800] 196/623 Calculating CAV for skyscraper\n",
      "Best accuracy: 0.9822152183701035 Regularization: 0.001\n",
      "Best accuracy: 0.9862674470959027 Regularization: 0.005\n",
      "Best accuracy: 0.9882935614588023 Regularization: 0.01\n",
      "Best accuracy: 0.9916704187303017 Regularization: 0.05\n",
      "Best accuracy: 0.9923457901846016 Regularization: 0.1\n",
      "Best accuracy: 0.9930211616389014 Regularization: 0.5\n",
      "Best accuracy: 0.9936965330932013 Regularization: 1\n"
     ]
    },
    {
     "name": "stderr",
     "output_type": "stream",
     "text": [
      "196it [1:44:19, 28.37s/it]"
     ]
    },
    {
     "name": "stdout",
     "output_type": "stream",
     "text": [
      "CAV accuracy for skyscraper concept (241): 0.9937\n",
      "[0804_123818] 197/623 Calculating CAV for can\n",
      "Best accuracy: 0.8671769473210266 Regularization: 0.001\n",
      "Best accuracy: 0.8903647005853219 Regularization: 0.005\n",
      "Best accuracy: 0.9004952723998199 Regularization: 0.01\n",
      "Best accuracy: 0.9268347591175147 Regularization: 0.05\n",
      "Best accuracy: 0.9358397118415128 Regularization: 0.1\n",
      "Best accuracy: 0.9491220171094101 Regularization: 0.5\n",
      "Best accuracy: 0.9531742458352094 Regularization: 1\n",
      "Best accuracy: 0.9563259792886087 Regularization: 3\n"
     ]
    },
    {
     "name": "stderr",
     "output_type": "stream",
     "text": [
      "197it [1:44:59, 32.05s/it]"
     ]
    },
    {
     "name": "stdout",
     "output_type": "stream",
     "text": [
      "CAV accuracy for can concept (242): 0.9563\n",
      "[0804_123859] 198/623 Calculating CAV for sheep\n",
      "Best accuracy: 0.989869428185502 Regularization: 0.001\n",
      "Best accuracy: 0.9966231427285007 Regularization: 0.005\n",
      "Best accuracy: 0.9984241332733003 Regularization: 0.01\n",
      "Best accuracy: 0.9995497523638001 Regularization: 0.05\n",
      "Best accuracy: 0.9997748761819001 Regularization: 0.5\n",
      "Best accuracy: 1.0 Regularization: 1\n"
     ]
    },
    {
     "name": "stderr",
     "output_type": "stream",
     "text": [
      "198it [1:45:15, 27.09s/it]"
     ]
    },
    {
     "name": "stdout",
     "output_type": "stream",
     "text": [
      "CAV accuracy for sheep concept (243): 1.0000\n",
      "[0804_123914] 199/623 Calculating CAV for mouse\n",
      "Best accuracy: 0.9687077892841063 Regularization: 0.001\n",
      "Best accuracy: 0.9752363800090049 Regularization: 0.005\n",
      "Best accuracy: 0.9772624943719046 Regularization: 0.01\n",
      "Best accuracy: 0.9842413327330032 Regularization: 0.05\n",
      "Best accuracy: 0.985366951823503 Regularization: 0.1\n",
      "Best accuracy: 0.9878433138226025 Regularization: 0.5\n",
      "Best accuracy: 0.9889689329131022 Regularization: 1\n",
      "Best accuracy: 0.9909950472760019 Regularization: 3\n"
     ]
    },
    {
     "name": "stderr",
     "output_type": "stream",
     "text": [
      "199it [1:45:37, 25.63s/it]"
     ]
    },
    {
     "name": "stdout",
     "output_type": "stream",
     "text": [
      "CAV accuracy for mouse concept (246): 0.9910\n",
      "[0804_123937] 200/623 Calculating CAV for bookcase\n",
      "Best accuracy: 0.9095002251238181 Regularization: 0.001\n",
      "Best accuracy: 0.9311121116614138 Regularization: 0.005\n",
      "Best accuracy: 0.9376407023863125 Regularization: 0.01\n",
      "Best accuracy: 0.9565511031067087 Regularization: 0.05\n",
      "Best accuracy: 0.9624043223773076 Regularization: 0.1\n",
      "Best accuracy: 0.9705087798289059 Regularization: 0.5\n",
      "Best accuracy: 0.9720846465556056 Regularization: 1\n",
      "Best accuracy: 0.9741107609185051 Regularization: 3\n"
     ]
    },
    {
     "name": "stderr",
     "output_type": "stream",
     "text": [
      "200it [1:46:11, 28.23s/it]"
     ]
    },
    {
     "name": "stdout",
     "output_type": "stream",
     "text": [
      "Best accuracy: 0.9756866276452049 Regularization: 5\n",
      "CAV accuracy for bookcase concept (247): 0.9757\n",
      "[0804_124011] 201/623 Calculating CAV for exhaust hood\n",
      "Best accuracy: 0.9574515983791085 Regularization: 0.001\n",
      "Best accuracy: 0.9657811796488068 Regularization: 0.005\n",
      "Best accuracy: 0.9675821701936065 Regularization: 0.01\n",
      "Best accuracy: 0.9736605132823053 Regularization: 0.05\n",
      "Best accuracy: 0.9763619990995047 Regularization: 0.1\n",
      "Best accuracy: 0.9770373705538046 Regularization: 0.5\n",
      "Best accuracy: 0.9772624943719046 Regularization: 1\n",
      "Best accuracy: 0.9781629896443044 Regularization: 3\n"
     ]
    },
    {
     "name": "stderr",
     "output_type": "stream",
     "text": [
      "201it [1:46:39, 28.00s/it]"
     ]
    },
    {
     "name": "stdout",
     "output_type": "stream",
     "text": [
      "CAV accuracy for exhaust hood concept (249): 0.9782\n",
      "[0804_124038] 202/623 Calculating CAV for hill\n",
      "Best accuracy: 0.8687528140477262 Regularization: 0.001\n",
      "Best accuracy: 0.8980189104007203 Regularization: 0.005\n",
      "Best accuracy: 0.9092751013057181 Regularization: 0.01\n",
      "Best accuracy: 0.9308869878433138 Regularization: 0.05\n",
      "Best accuracy: 0.9385411976587122 Regularization: 0.1\n",
      "Best accuracy: 0.95002251238181 Regularization: 0.5\n",
      "Best accuracy: 0.9542998649257092 Regularization: 1\n",
      "Best accuracy: 0.959702836560108 Regularization: 3\n"
     ]
    },
    {
     "name": "stderr",
     "output_type": "stream",
     "text": [
      "202it [1:47:15, 30.45s/it]"
     ]
    },
    {
     "name": "stdout",
     "output_type": "stream",
     "text": [
      "Best accuracy: 0.9610535794687078 Regularization: 5\n",
      "CAV accuracy for hill concept (250): 0.9611\n",
      "[0804_124115] 203/623 Calculating CAV for cow\n",
      "Best accuracy: 0.9844664565511031 Regularization: 0.001\n",
      "Best accuracy: 0.9925709140027015 Regularization: 0.005\n",
      "Best accuracy: 0.994597028365601 Regularization: 0.01\n",
      "Best accuracy: 0.9966231427285007 Regularization: 0.05\n",
      "Best accuracy: 0.9970733903647006 Regularization: 0.1\n",
      "Best accuracy: 0.9979738856371004 Regularization: 0.5\n"
     ]
    },
    {
     "name": "stderr",
     "output_type": "stream",
     "text": [
      "203it [1:47:34, 26.86s/it]"
     ]
    },
    {
     "name": "stdout",
     "output_type": "stream",
     "text": [
      "CAV accuracy for cow concept (251): 0.9980\n",
      "[0804_124133] 204/623 Calculating CAV for napkin\n",
      "Best accuracy: 0.9074741107609186 Regularization: 0.001\n",
      "Best accuracy: 0.9326879783881135 Regularization: 0.005\n",
      "Best accuracy: 0.9425934263845115 Regularization: 0.01\n",
      "Best accuracy: 0.9624043223773076 Regularization: 0.05\n",
      "Best accuracy: 0.9671319225574065 Regularization: 0.1\n",
      "Best accuracy: 0.9788383610986042 Regularization: 0.5\n",
      "Best accuracy: 0.9819900945520036 Regularization: 1\n",
      "Best accuracy: 0.9833408374606033 Regularization: 3\n"
     ]
    },
    {
     "name": "stderr",
     "output_type": "stream",
     "text": [
      "204it [1:48:05, 28.13s/it]"
     ]
    },
    {
     "name": "stdout",
     "output_type": "stream",
     "text": [
      "Best accuracy: 0.9840162089149032 Regularization: 5\n",
      "CAV accuracy for napkin concept (252): 0.9840\n",
      "[0804_124204] 205/623 Calculating CAV for button panel\n",
      "Best accuracy: 0.9689329131022062 Regularization: 0.001\n",
      "Best accuracy: 0.9738856371004052 Regularization: 0.005\n",
      "Best accuracy: 0.9752363800090049 Regularization: 0.01\n",
      "Best accuracy: 0.9792886087348042 Regularization: 0.05\n",
      "Best accuracy: 0.9801891040072039 Regularization: 0.1\n",
      "Best accuracy: 0.985141828005403 Regularization: 0.5\n",
      "Best accuracy: 0.9862674470959027 Regularization: 3\n"
     ]
    },
    {
     "name": "stderr",
     "output_type": "stream",
     "text": [
      "205it [1:48:32, 27.78s/it]"
     ]
    },
    {
     "name": "stdout",
     "output_type": "stream",
     "text": [
      "CAV accuracy for button panel concept (253): 0.9863\n",
      "[0804_124231] 206/623 Calculating CAV for doorframe\n",
      "Best accuracy: 0.7971634398919406 Regularization: 0.001\n",
      "Best accuracy: 0.8397118415128321 Regularization: 0.005\n",
      "Best accuracy: 0.8545700135074291 Regularization: 0.01\n",
      "Best accuracy: 0.8946420531292211 Regularization: 0.05\n",
      "Best accuracy: 0.9085997298514182 Regularization: 0.1\n",
      "Best accuracy: 0.9257091400270149 Regularization: 0.5\n",
      "Best accuracy: 0.9317874831157137 Regularization: 1\n",
      "Best accuracy: 0.9374155785682126 Regularization: 3\n"
     ]
    },
    {
     "name": "stderr",
     "output_type": "stream",
     "text": [
      "206it [1:49:14, 32.29s/it]"
     ]
    },
    {
     "name": "stdout",
     "output_type": "stream",
     "text": [
      "Best accuracy: 0.940117064385412 Regularization: 5\n",
      "CAV accuracy for doorframe concept (254): 0.9401\n",
      "[0804_124314] 207/623 Calculating CAV for manhole\n",
      "Best accuracy: 0.8757316524088249 Regularization: 0.001\n",
      "Best accuracy: 0.8917154434939216 Regularization: 0.005\n",
      "Best accuracy: 0.8993696533093202 Regularization: 0.01\n",
      "Best accuracy: 0.9212066636650158 Regularization: 0.05\n",
      "Best accuracy: 0.9295362449347141 Regularization: 0.1\n",
      "Best accuracy: 0.9414678072940117 Regularization: 0.5\n",
      "Best accuracy: 0.9479963980189104 Regularization: 1\n",
      "Best accuracy: 0.955425484016209 Regularization: 3\n"
     ]
    },
    {
     "name": "stderr",
     "output_type": "stream",
     "text": [
      "207it [1:49:50, 33.39s/it]"
     ]
    },
    {
     "name": "stdout",
     "output_type": "stream",
     "text": [
      "Best accuracy: 0.9558757316524088 Regularization: 5\n",
      "CAV accuracy for manhole concept (255): 0.9559\n",
      "[0804_124350] 208/623 Calculating CAV for crosswalk\n",
      "Best accuracy: 0.9167041873030166 Regularization: 0.001\n",
      "Best accuracy: 0.9340387212967132 Regularization: 0.005\n",
      "Best accuracy: 0.9394416929311121 Regularization: 0.01\n",
      "Best accuracy: 0.9590274651058082 Regularization: 0.05\n",
      "Best accuracy: 0.9657811796488068 Regularization: 0.1\n",
      "Best accuracy: 0.9732102656461054 Regularization: 0.5\n",
      "Best accuracy: 0.975011256190905 Regularization: 1\n",
      "Best accuracy: 0.9772624943719046 Regularization: 3\n"
     ]
    },
    {
     "name": "stderr",
     "output_type": "stream",
     "text": [
      "208it [1:50:18, 31.67s/it]"
     ]
    },
    {
     "name": "stdout",
     "output_type": "stream",
     "text": [
      "CAV accuracy for crosswalk concept (256): 0.9773\n",
      "[0804_124418] 209/623 Calculating CAV for umbrella\n",
      "Best accuracy: 0.880009004952724 Regularization: 0.001\n",
      "Best accuracy: 0.910175596578118 Regularization: 0.005\n",
      "Best accuracy: 0.9194056731202161 Regularization: 0.01\n",
      "Best accuracy: 0.9380909500225124 Regularization: 0.05\n",
      "Best accuracy: 0.9419180549302116 Regularization: 0.1\n",
      "Best accuracy: 0.94979738856371 Regularization: 0.5\n",
      "Best accuracy: 0.9531742458352094 Regularization: 1\n",
      "Best accuracy: 0.9572264745610085 Regularization: 3\n"
     ]
    },
    {
     "name": "stderr",
     "output_type": "stream",
     "text": [
      "209it [1:50:53, 32.74s/it]"
     ]
    },
    {
     "name": "stdout",
     "output_type": "stream",
     "text": [
      "Best accuracy: 0.9592525889239082 Regularization: 5\n",
      "CAV accuracy for umbrella concept (257): 0.9593\n",
      "[0804_124453] 210/623 Calculating CAV for case\n",
      "Best accuracy: 0.9313372354795137 Regularization: 0.001\n",
      "Best accuracy: 0.9466456551103106 Regularization: 0.005\n",
      "Best accuracy: 0.9533993696533093 Regularization: 0.01\n",
      "Best accuracy: 0.9675821701936065 Regularization: 0.05\n",
      "Best accuracy: 0.9720846465556056 Regularization: 0.1\n",
      "Best accuracy: 0.980414227825304 Regularization: 0.5\n",
      "Best accuracy: 0.9822152183701035 Regularization: 1\n",
      "Best accuracy: 0.9824403421882035 Regularization: 3\n"
     ]
    },
    {
     "name": "stderr",
     "output_type": "stream",
     "text": [
      "210it [1:51:22, 31.44s/it]"
     ]
    },
    {
     "name": "stdout",
     "output_type": "stream",
     "text": [
      "Best accuracy: 0.9826654660063034 Regularization: 5\n",
      "CAV accuracy for case concept (258): 0.9827\n",
      "[0804_124521] 211/623 Calculating CAV for autobus\n",
      "Best accuracy: 0.8728050427735254 Regularization: 0.001\n",
      "Best accuracy: 0.8991445294912201 Regularization: 0.005\n",
      "Best accuracy: 0.9088248536695183 Regularization: 0.01\n",
      "Best accuracy: 0.9304367402071139 Regularization: 0.05\n",
      "Best accuracy: 0.935164340387213 Regularization: 0.1\n",
      "Best accuracy: 0.9466456551103106 Regularization: 0.5\n",
      "Best accuracy: 0.9511481314723098 Regularization: 1\n",
      "Best accuracy: 0.9581269698334084 Regularization: 3\n"
     ]
    },
    {
     "name": "stderr",
     "output_type": "stream",
     "text": [
      "211it [1:51:58, 32.78s/it]"
     ]
    },
    {
     "name": "stdout",
     "output_type": "stream",
     "text": [
      "Best accuracy: 0.959927960378208 Regularization: 5\n",
      "CAV accuracy for autobus concept (259): 0.9599\n",
      "[0804_124557] 212/623 Calculating CAV for dishwasher\n",
      "Best accuracy: 0.969608284556506 Regularization: 0.001\n",
      "Best accuracy: 0.9738856371004052 Regularization: 0.005\n",
      "Best accuracy: 0.9763619990995047 Regularization: 0.01\n",
      "Best accuracy: 0.9806393516434039 Regularization: 0.05\n",
      "Best accuracy: 0.9831157136425034 Regularization: 0.1\n",
      "Best accuracy: 0.9858171994597028 Regularization: 0.5\n",
      "Best accuracy: 0.9867176947321027 Regularization: 1\n"
     ]
    },
    {
     "name": "stderr",
     "output_type": "stream",
     "text": [
      "212it [1:52:21, 30.05s/it]"
     ]
    },
    {
     "name": "stdout",
     "output_type": "stream",
     "text": [
      "CAV accuracy for dishwasher concept (260): 0.9867\n",
      "[0804_124621] 213/623 Calculating CAV for monitor\n",
      "Best accuracy: 0.9624043223773076 Regularization: 0.001\n",
      "Best accuracy: 0.9709590274651058 Regularization: 0.005\n",
      "Best accuracy: 0.9756866276452049 Regularization: 0.01\n",
      "Best accuracy: 0.9806393516434039 Regularization: 0.05\n",
      "Best accuracy: 0.9826654660063034 Regularization: 0.1\n",
      "Best accuracy: 0.9862674470959027 Regularization: 0.5\n",
      "Best accuracy: 0.9871679423683025 Regularization: 1\n"
     ]
    },
    {
     "name": "stderr",
     "output_type": "stream",
     "text": [
      "213it [1:52:45, 28.25s/it]"
     ]
    },
    {
     "name": "stdout",
     "output_type": "stream",
     "text": [
      "CAV accuracy for monitor concept (261): 0.9872\n",
      "[0804_124645] 214/623 Calculating CAV for container\n",
      "Best accuracy: 0.8676271949572265 Regularization: 0.001\n",
      "Best accuracy: 0.8872129671319225 Regularization: 0.005\n",
      "Best accuracy: 0.9002701485817199 Regularization: 0.01\n",
      "Best accuracy: 0.9306618640252139 Regularization: 0.05\n",
      "Best accuracy: 0.9398919405673121 Regularization: 0.1\n",
      "Best accuracy: 0.9572264745610085 Regularization: 0.5\n",
      "Best accuracy: 0.960153084196308 Regularization: 1\n",
      "Best accuracy: 0.9653309320126069 Regularization: 3\n"
     ]
    },
    {
     "name": "stderr",
     "output_type": "stream",
     "text": [
      "214it [1:53:20, 30.19s/it]"
     ]
    },
    {
     "name": "stdout",
     "output_type": "stream",
     "text": [
      "Best accuracy: 0.9657811796488068 Regularization: 5\n",
      "CAV accuracy for container concept (262): 0.9658\n",
      "[0804_124720] 215/623 Calculating CAV for shutter\n",
      "Best accuracy: 0.8318325078793336 Regularization: 0.001\n",
      "Best accuracy: 0.8570463755065286 Regularization: 0.005\n",
      "Best accuracy: 0.8707789284106259 Regularization: 0.01\n",
      "Best accuracy: 0.8953174245835209 Regularization: 0.05\n",
      "Best accuracy: 0.904772624943719 Regularization: 0.1\n",
      "Best accuracy: 0.9225574065736155 Regularization: 0.5\n",
      "Best accuracy: 0.9259342638451148 Regularization: 1\n",
      "Best accuracy: 0.9331382260243134 Regularization: 3\n"
     ]
    },
    {
     "name": "stderr",
     "output_type": "stream",
     "text": [
      "215it [1:53:58, 32.57s/it]"
     ]
    },
    {
     "name": "stdout",
     "output_type": "stream",
     "text": [
      "Best accuracy: 0.9385411976587122 Regularization: 5\n",
      "CAV accuracy for shutter concept (263): 0.9385\n",
      "[0804_124758] 216/623 Calculating CAV for front\n",
      "Best accuracy: 0.8640252138676272 Regularization: 0.001\n",
      "Best accuracy: 0.8982440342188204 Regularization: 0.005\n",
      "Best accuracy: 0.9110760918505177 Regularization: 0.01\n",
      "Best accuracy: 0.9358397118415128 Regularization: 0.05\n",
      "Best accuracy: 0.9428185502026114 Regularization: 0.1\n",
      "Best accuracy: 0.9545249887438091 Regularization: 0.5\n",
      "Best accuracy: 0.9588023412877082 Regularization: 1\n",
      "Best accuracy: 0.9630796938316074 Regularization: 3\n"
     ]
    },
    {
     "name": "stderr",
     "output_type": "stream",
     "text": [
      "216it [1:54:38, 34.70s/it]"
     ]
    },
    {
     "name": "stdout",
     "output_type": "stream",
     "text": [
      "Best accuracy: 0.9653309320126069 Regularization: 5\n",
      "CAV accuracy for front concept (265): 0.9653\n",
      "[0804_124837] 217/623 Calculating CAV for water tank\n",
      "Best accuracy: 0.9709590274651058 Regularization: 0.001\n",
      "Best accuracy: 0.9774876181900045 Regularization: 0.005\n",
      "Best accuracy: 0.9788383610986042 Regularization: 0.01\n",
      "Best accuracy: 0.9837910850968032 Regularization: 0.05\n",
      "Best accuracy: 0.9855920756416029 Regularization: 0.1\n",
      "Best accuracy: 0.9867176947321027 Regularization: 0.5\n",
      "Best accuracy: 0.9880684376407024 Regularization: 1\n",
      "Best accuracy: 0.9882935614588023 Regularization: 3\n"
     ]
    },
    {
     "name": "stderr",
     "output_type": "stream",
     "text": [
      "217it [1:54:59, 30.67s/it]"
     ]
    },
    {
     "name": "stdout",
     "output_type": "stream",
     "text": [
      "Best accuracy: 0.9885186852769023 Regularization: 5\n",
      "CAV accuracy for water tank concept (266): 0.9885\n",
      "[0804_124859] 218/623 Calculating CAV for text\n",
      "Best accuracy: 0.8009905447996398 Regularization: 0.001\n",
      "Best accuracy: 0.8329581269698334 Regularization: 0.005\n",
      "Best accuracy: 0.855245384961729 Regularization: 0.01\n",
      "Best accuracy: 0.8944169293111212 Regularization: 0.05\n",
      "Best accuracy: 0.9067987393066187 Regularization: 0.1\n",
      "Best accuracy: 0.9281855020261144 Regularization: 0.5\n",
      "Best accuracy: 0.9342638451148132 Regularization: 1\n",
      "Best accuracy: 0.9365150832958127 Regularization: 3\n"
     ]
    },
    {
     "name": "stderr",
     "output_type": "stream",
     "text": [
      "218it [1:55:39, 33.46s/it]"
     ]
    },
    {
     "name": "stdout",
     "output_type": "stream",
     "text": [
      "Best accuracy: 0.9392165691130122 Regularization: 5\n",
      "CAV accuracy for text concept (267): 0.9392\n",
      "[0804_124939] 219/623 Calculating CAV for knife\n",
      "Best accuracy: 0.9329131022062134 Regularization: 0.001\n",
      "Best accuracy: 0.95002251238181 Regularization: 0.005\n",
      "Best accuracy: 0.9561008554705088 Regularization: 0.01\n",
      "Best accuracy: 0.9680324178298064 Regularization: 0.05\n",
      "Best accuracy: 0.9705087798289059 Regularization: 0.1\n",
      "Best accuracy: 0.9779378658262045 Regularization: 0.5\n",
      "Best accuracy: 0.9790634849167041 Regularization: 1\n",
      "Best accuracy: 0.9817649707339037 Regularization: 3\n"
     ]
    },
    {
     "name": "stderr",
     "output_type": "stream",
     "text": [
      "219it [1:56:10, 32.67s/it]"
     ]
    },
    {
     "name": "stdout",
     "output_type": "stream",
     "text": [
      "Best accuracy: 0.9819900945520036 Regularization: 5\n",
      "CAV accuracy for knife concept (268): 0.9820\n",
      "[0804_125009] 220/623 Calculating CAV for crt screen\n",
      "Best accuracy: 0.8764070238631247 Regularization: 0.001\n",
      "Best accuracy: 0.8971184151283206 Regularization: 0.005\n",
      "Best accuracy: 0.9083746060333183 Regularization: 0.01\n",
      "Best accuracy: 0.9263845114813147 Regularization: 0.05\n",
      "Best accuracy: 0.934714092751013 Regularization: 0.1\n",
      "Best accuracy: 0.9506978838361099 Regularization: 0.5\n",
      "Best accuracy: 0.9567762269248087 Regularization: 1\n",
      "Best accuracy: 0.9621791985592075 Regularization: 3\n"
     ]
    },
    {
     "name": "stderr",
     "output_type": "stream",
     "text": [
      "220it [1:56:49, 34.69s/it]"
     ]
    },
    {
     "name": "stdout",
     "output_type": "stream",
     "text": [
      "Best accuracy: 0.9630796938316074 Regularization: 5\n",
      "CAV accuracy for crt screen concept (270): 0.9631\n",
      "[0804_125049] 221/623 Calculating CAV for curb\n",
      "Best accuracy: 0.844889689329131 Regularization: 0.001\n",
      "Best accuracy: 0.8791085096803242 Regularization: 0.005\n",
      "Best accuracy: 0.8939666816749212 Regularization: 0.01\n",
      "Best accuracy: 0.9221071589374156 Regularization: 0.05\n",
      "Best accuracy: 0.9317874831157137 Regularization: 0.1\n",
      "Best accuracy: 0.9466456551103106 Regularization: 0.5\n",
      "Best accuracy: 0.9477712742008104 Regularization: 1\n",
      "Best accuracy: 0.9533993696533093 Regularization: 3\n"
     ]
    },
    {
     "name": "stderr",
     "output_type": "stream",
     "text": [
      "221it [1:57:25, 35.07s/it]"
     ]
    },
    {
     "name": "stdout",
     "output_type": "stream",
     "text": [
      "Best accuracy: 0.9545249887438091 Regularization: 5\n",
      "CAV accuracy for curb concept (271): 0.9545\n",
      "[0804_125125] 222/623 Calculating CAV for magazine\n",
      "Best accuracy: 0.8232778027915354 Regularization: 0.001\n",
      "Best accuracy: 0.8606483565961278 Regularization: 0.005\n",
      "Best accuracy: 0.8737055380459252 Regularization: 0.01\n",
      "Best accuracy: 0.9027465105808195 Regularization: 0.05\n",
      "Best accuracy: 0.9140027014858172 Regularization: 0.1\n",
      "Best accuracy: 0.9317874831157137 Regularization: 0.5\n",
      "Best accuracy: 0.9385411976587122 Regularization: 1\n",
      "Best accuracy: 0.9428185502026114 Regularization: 3\n"
     ]
    },
    {
     "name": "stderr",
     "output_type": "stream",
     "text": [
      "222it [1:58:06, 36.73s/it]"
     ]
    },
    {
     "name": "stdout",
     "output_type": "stream",
     "text": [
      "Best accuracy: 0.9446195407474111 Regularization: 5\n",
      "CAV accuracy for magazine concept (272): 0.9446\n",
      "[0804_125205] 223/623 Calculating CAV for monitoring device\n",
      "Best accuracy: 0.8955425484016208 Regularization: 0.001\n",
      "Best accuracy: 0.9203061683926159 Regularization: 0.005\n",
      "Best accuracy: 0.929986492570914 Regularization: 0.01\n",
      "Best accuracy: 0.945069788383611 Regularization: 0.05\n",
      "Best accuracy: 0.9502476361999099 Regularization: 0.1\n",
      "Best accuracy: 0.9615038271049077 Regularization: 0.5\n",
      "Best accuracy: 0.9628545700135074 Regularization: 1\n",
      "Best accuracy: 0.9655560558307069 Regularization: 3\n"
     ]
    },
    {
     "name": "stderr",
     "output_type": "stream",
     "text": [
      "223it [1:58:39, 35.74s/it]"
     ]
    },
    {
     "name": "stdout",
     "output_type": "stream",
     "text": [
      "Best accuracy: 0.9669067987393066 Regularization: 5\n",
      "CAV accuracy for monitoring device concept (273): 0.9669\n",
      "[0804_125239] 224/623 Calculating CAV for beam\n",
      "Best accuracy: 0.85006753714543 Regularization: 0.001\n",
      "Best accuracy: 0.8836109860423232 Regularization: 0.005\n",
      "Best accuracy: 0.8982440342188204 Regularization: 0.01\n",
      "Best accuracy: 0.9212066636650158 Regularization: 0.05\n",
      "Best accuracy: 0.9277352543899144 Regularization: 0.1\n",
      "Best accuracy: 0.9421431787483115 Regularization: 0.5\n",
      "Best accuracy: 0.9470959027465106 Regularization: 1\n",
      "Best accuracy: 0.9513732552904097 Regularization: 3\n"
     ]
    },
    {
     "name": "stderr",
     "output_type": "stream",
     "text": [
      "224it [1:59:18, 36.57s/it]"
     ]
    },
    {
     "name": "stdout",
     "output_type": "stream",
     "text": [
      "Best accuracy: 0.9524988743809095 Regularization: 5\n",
      "CAV accuracy for beam concept (274): 0.9525\n",
      "[0804_125317] 225/623 Calculating CAV for gate\n",
      "Best accuracy: 0.8113462404322377 Regularization: 0.001\n",
      "Best accuracy: 0.8647005853219271 Regularization: 0.005\n",
      "Best accuracy: 0.8806843764070239 Regularization: 0.01\n",
      "Best accuracy: 0.9149031967582171 Regularization: 0.05\n",
      "Best accuracy: 0.9243583971184152 Regularization: 0.1\n",
      "Best accuracy: 0.9389914452949122 Regularization: 0.5\n",
      "Best accuracy: 0.9421431787483115 Regularization: 1\n",
      "Best accuracy: 0.9475461503827105 Regularization: 3\n"
     ]
    },
    {
     "name": "stderr",
     "output_type": "stream",
     "text": [
      "225it [2:00:00, 38.13s/it]"
     ]
    },
    {
     "name": "stdout",
     "output_type": "stream",
     "text": [
      "Best accuracy: 0.94979738856371 Regularization: 5\n",
      "CAV accuracy for gate concept (275): 0.9498\n",
      "[0804_125359] 226/623 Calculating CAV for radiator\n",
      "Best accuracy: 0.80031517334534 Regularization: 0.001\n",
      "Best accuracy: 0.8538946420531293 Regularization: 0.005\n",
      "Best accuracy: 0.8725799189554255 Regularization: 0.01\n",
      "Best accuracy: 0.910175596578118 Regularization: 0.05\n",
      "Best accuracy: 0.9223322827555155 Regularization: 0.1\n",
      "Best accuracy: 0.9448446645655111 Regularization: 0.5\n",
      "Best accuracy: 0.9529491220171095 Regularization: 1\n",
      "Best accuracy: 0.9603782080144079 Regularization: 3\n"
     ]
    },
    {
     "name": "stderr",
     "output_type": "stream",
     "text": [
      "226it [2:00:39, 38.44s/it]"
     ]
    },
    {
     "name": "stdout",
     "output_type": "stream",
     "text": [
      "Best accuracy: 0.9626294461954075 Regularization: 5\n",
      "CAV accuracy for radiator concept (277): 0.9626\n",
      "[0804_125438] 227/623 Calculating CAV for platform\n",
      "Best accuracy: 0.9293111211166142 Regularization: 0.001\n",
      "Best accuracy: 0.9576767221972085 Regularization: 0.005\n",
      "Best accuracy: 0.9680324178298064 Regularization: 0.01\n",
      "Best accuracy: 0.9815398469158036 Regularization: 0.05\n",
      "Best accuracy: 0.9855920756416029 Regularization: 0.1\n",
      "Best accuracy: 0.9912201710941018 Regularization: 0.5\n",
      "Best accuracy: 0.9914452949122017 Regularization: 1\n"
     ]
    },
    {
     "name": "stderr",
     "output_type": "stream",
     "text": [
      "227it [2:01:10, 36.25s/it]"
     ]
    },
    {
     "name": "stdout",
     "output_type": "stream",
     "text": [
      "Best accuracy: 0.9916704187303017 Regularization: 5\n",
      "CAV accuracy for platform concept (278): 0.9917\n",
      "[0804_125509] 228/623 Calculating CAV for blanket\n",
      "Best accuracy: 0.8606483565961278 Regularization: 0.001\n",
      "Best accuracy: 0.8910400720396218 Regularization: 0.005\n",
      "Best accuracy: 0.9027465105808195 Regularization: 0.01\n",
      "Best accuracy: 0.9284106258442143 Regularization: 0.05\n",
      "Best accuracy: 0.935164340387213 Regularization: 0.1\n",
      "Best accuracy: 0.9482215218370104 Regularization: 0.5\n",
      "Best accuracy: 0.9545249887438091 Regularization: 1\n",
      "Best accuracy: 0.9570013507429086 Regularization: 3\n"
     ]
    },
    {
     "name": "stderr",
     "output_type": "stream",
     "text": [
      "228it [2:01:48, 36.75s/it]"
     ]
    },
    {
     "name": "stdout",
     "output_type": "stream",
     "text": [
      "Best accuracy: 0.9581269698334084 Regularization: 5\n",
      "CAV accuracy for blanket concept (279): 0.9581\n",
      "[0804_125547] 229/623 Calculating CAV for central reservation\n",
      "Best accuracy: 0.909725348941918 Regularization: 0.001\n",
      "Best accuracy: 0.9317874831157137 Regularization: 0.005\n",
      "Best accuracy: 0.9392165691130122 Regularization: 0.01\n",
      "Best accuracy: 0.9538496172895092 Regularization: 0.05\n",
      "Best accuracy: 0.9592525889239082 Regularization: 0.1\n",
      "Best accuracy: 0.9702836560108059 Regularization: 0.5\n",
      "Best accuracy: 0.9732102656461054 Regularization: 1\n",
      "Best accuracy: 0.975461503827105 Regularization: 3\n"
     ]
    },
    {
     "name": "stderr",
     "output_type": "stream",
     "text": [
      "229it [2:02:19, 35.11s/it]"
     ]
    },
    {
     "name": "stdout",
     "output_type": "stream",
     "text": [
      "Best accuracy: 0.9756866276452049 Regularization: 5\n",
      "CAV accuracy for central reservation concept (280): 0.9757\n",
      "[0804_125619] 230/623 Calculating CAV for grill\n",
      "Best accuracy: 0.7861323728050428 Regularization: 0.001\n",
      "Best accuracy: 0.8345339936965331 Regularization: 0.005\n",
      "Best accuracy: 0.8536695182350292 Regularization: 0.01\n",
      "Best accuracy: 0.8892390814948221 Regularization: 0.05\n",
      "Best accuracy: 0.9027465105808195 Regularization: 0.1\n",
      "Best accuracy: 0.9209815398469158 Regularization: 0.5\n",
      "Best accuracy: 0.9281855020261144 Regularization: 1\n",
      "Best accuracy: 0.935164340387213 Regularization: 3\n"
     ]
    },
    {
     "name": "stderr",
     "output_type": "stream",
     "text": [
      "230it [2:03:04, 38.21s/it]"
     ]
    },
    {
     "name": "stdout",
     "output_type": "stream",
     "text": [
      "Best accuracy: 0.9369653309320126 Regularization: 5\n",
      "CAV accuracy for grill concept (281): 0.9370\n",
      "[0804_125704] 231/623 Calculating CAV for bulletin board\n",
      "Best accuracy: 0.8635749662314273 Regularization: 0.001\n",
      "Best accuracy: 0.8910400720396218 Regularization: 0.005\n",
      "Best accuracy: 0.9036470058532192 Regularization: 0.01\n",
      "Best accuracy: 0.9306618640252139 Regularization: 0.05\n",
      "Best accuracy: 0.9414678072940117 Regularization: 0.1\n",
      "Best accuracy: 0.9533993696533093 Regularization: 0.5\n",
      "Best accuracy: 0.9585772174696083 Regularization: 1\n",
      "Best accuracy: 0.9628545700135074 Regularization: 3\n"
     ]
    },
    {
     "name": "stderr",
     "output_type": "stream",
     "text": [
      "231it [2:03:45, 38.92s/it]"
     ]
    },
    {
     "name": "stdout",
     "output_type": "stream",
     "text": [
      "Best accuracy: 0.9644304367402071 Regularization: 5\n",
      "CAV accuracy for bulletin board concept (282): 0.9644\n",
      "[0804_125745] 232/623 Calculating CAV for laptop\n",
      "Best accuracy: 0.9007203962179199 Regularization: 0.001\n",
      "Best accuracy: 0.9284106258442143 Regularization: 0.005\n",
      "Best accuracy: 0.9387663214768123 Regularization: 0.01\n",
      "Best accuracy: 0.9576767221972085 Regularization: 0.05\n",
      "Best accuracy: 0.9639801891040072 Regularization: 0.1\n",
      "Best accuracy: 0.9729851418280054 Regularization: 0.5\n",
      "Best accuracy: 0.9743358847366052 Regularization: 1\n",
      "Best accuracy: 0.9781629896443044 Regularization: 3\n"
     ]
    },
    {
     "name": "stderr",
     "output_type": "stream",
     "text": [
      "232it [2:04:17, 36.75s/it]"
     ]
    },
    {
     "name": "stdout",
     "output_type": "stream",
     "text": [
      "Best accuracy: 0.9788383610986042 Regularization: 5\n",
      "CAV accuracy for laptop concept (283): 0.9788\n",
      "[0804_125816] 233/623 Calculating CAV for shoe\n",
      "Best accuracy: 0.9173795587573165 Regularization: 0.001\n",
      "Best accuracy: 0.9432687978388113 Regularization: 0.005\n",
      "Best accuracy: 0.9495722647456101 Regularization: 0.01\n",
      "Best accuracy: 0.9660063034669067 Regularization: 0.05\n",
      "Best accuracy: 0.9709590274651058 Regularization: 0.1\n",
      "Best accuracy: 0.9774876181900045 Regularization: 0.5\n",
      "Best accuracy: 0.980414227825304 Regularization: 1\n"
     ]
    },
    {
     "name": "stderr",
     "output_type": "stream",
     "text": [
      "233it [2:04:50, 35.61s/it]"
     ]
    },
    {
     "name": "stdout",
     "output_type": "stream",
     "text": [
      "CAV accuracy for shoe concept (284): 0.9804\n",
      "[0804_125849] 234/623 Calculating CAV for pool table\n",
      "Best accuracy: 0.9806393516434039 Regularization: 0.001\n",
      "Best accuracy: 0.9878433138226025 Regularization: 0.005\n",
      "Best accuracy: 0.9891940567312022 Regularization: 0.01\n",
      "Best accuracy: 0.9927960378208014 Regularization: 0.05\n",
      "Best accuracy: 0.994597028365601 Regularization: 0.1\n",
      "Best accuracy: 0.9966231427285007 Regularization: 0.5\n"
     ]
    },
    {
     "name": "stderr",
     "output_type": "stream",
     "text": [
      "234it [2:05:10, 30.99s/it]"
     ]
    },
    {
     "name": "stdout",
     "output_type": "stream",
     "text": [
      "CAV accuracy for pool table concept (285): 0.9966\n",
      "[0804_125909] 235/623 Calculating CAV for fruit\n",
      "Best accuracy: 0.9061233678523187 Regularization: 0.001\n",
      "Best accuracy: 0.9221071589374156 Regularization: 0.005\n",
      "Best accuracy: 0.9320126069338136 Regularization: 0.01\n",
      "Best accuracy: 0.9488968932913102 Regularization: 0.05\n",
      "Best accuracy: 0.9531742458352094 Regularization: 0.1\n",
      "Best accuracy: 0.9648806843764071 Regularization: 0.5\n",
      "Best accuracy: 0.969608284556506 Regularization: 1\n",
      "Best accuracy: 0.9714092751013057 Regularization: 3\n"
     ]
    },
    {
     "name": "stderr",
     "output_type": "stream",
     "text": [
      "235it [2:05:45, 32.36s/it]"
     ]
    },
    {
     "name": "stdout",
     "output_type": "stream",
     "text": [
      "Best accuracy: 0.9720846465556056 Regularization: 5\n",
      "CAV accuracy for fruit concept (286): 0.9721\n",
      "[0804_125945] 236/623 Calculating CAV for coffee maker\n",
      "Best accuracy: 0.9394416929311121 Regularization: 0.001\n",
      "Best accuracy: 0.9509230076542098 Regularization: 0.005\n",
      "Best accuracy: 0.9561008554705088 Regularization: 0.01\n",
      "Best accuracy: 0.964655560558307 Regularization: 0.05\n",
      "Best accuracy: 0.9673570463755066 Regularization: 0.1\n",
      "Best accuracy: 0.9752363800090049 Regularization: 0.5\n",
      "Best accuracy: 0.9761368752814048 Regularization: 1\n",
      "Best accuracy: 0.9779378658262045 Regularization: 3\n"
     ]
    },
    {
     "name": "stderr",
     "output_type": "stream",
     "text": [
      "236it [2:06:15, 31.39s/it]"
     ]
    },
    {
     "name": "stdout",
     "output_type": "stream",
     "text": [
      "Best accuracy: 0.9792886087348042 Regularization: 5\n",
      "CAV accuracy for coffee maker concept (287): 0.9793\n",
      "[0804_130014] 237/623 Calculating CAV for candle\n",
      "Best accuracy: 0.839936965330932 Regularization: 0.001\n",
      "Best accuracy: 0.8894642053129221 Regularization: 0.005\n",
      "Best accuracy: 0.9063484916704188 Regularization: 0.01\n",
      "Best accuracy: 0.9412426834759118 Regularization: 0.05\n",
      "Best accuracy: 0.9509230076542098 Regularization: 0.1\n",
      "Best accuracy: 0.965105808194507 Regularization: 0.5\n",
      "Best accuracy: 0.970058532192706 Regularization: 1\n",
      "Best accuracy: 0.9732102656461054 Regularization: 3\n"
     ]
    },
    {
     "name": "stderr",
     "output_type": "stream",
     "text": [
      "237it [2:06:52, 33.28s/it]"
     ]
    },
    {
     "name": "stdout",
     "output_type": "stream",
     "text": [
      "Best accuracy: 0.9741107609185051 Regularization: 5\n",
      "CAV accuracy for candle concept (288): 0.9741\n",
      "[0804_130052] 238/623 Calculating CAV for backplate\n",
      "Best accuracy: 0.819900945520036 Regularization: 0.001\n",
      "Best accuracy: 0.8631247185952273 Regularization: 0.005\n",
      "Best accuracy: 0.8831607384061234 Regularization: 0.01\n",
      "Best accuracy: 0.9155785682125169 Regularization: 0.05\n",
      "Best accuracy: 0.9284106258442143 Regularization: 0.1\n",
      "Best accuracy: 0.9475461503827105 Regularization: 0.5\n",
      "Best accuracy: 0.9520486267447096 Regularization: 1\n",
      "Best accuracy: 0.9572264745610085 Regularization: 3\n"
     ]
    },
    {
     "name": "stderr",
     "output_type": "stream",
     "text": [
      "238it [2:07:32, 35.12s/it]"
     ]
    },
    {
     "name": "stdout",
     "output_type": "stream",
     "text": [
      "Best accuracy: 0.9583520936515083 Regularization: 5\n",
      "CAV accuracy for backplate concept (289): 0.9584\n",
      "[0804_130131] 239/623 Calculating CAV for handbag\n",
      "Best accuracy: 0.8710040522287258 Regularization: 0.001\n",
      "Best accuracy: 0.8955425484016208 Regularization: 0.005\n",
      "Best accuracy: 0.9040972534894192 Regularization: 0.01\n",
      "Best accuracy: 0.9293111211166142 Regularization: 0.05\n",
      "Best accuracy: 0.9392165691130122 Regularization: 0.1\n",
      "Best accuracy: 0.9522737505628095 Regularization: 0.5\n",
      "Best accuracy: 0.9558757316524088 Regularization: 1\n",
      "Best accuracy: 0.9606033318325079 Regularization: 3\n"
     ]
    },
    {
     "name": "stderr",
     "output_type": "stream",
     "text": [
      "239it [2:08:10, 35.98s/it]"
     ]
    },
    {
     "name": "stdout",
     "output_type": "stream",
     "text": [
      "Best accuracy: 0.9621791985592075 Regularization: 5\n",
      "CAV accuracy for handbag concept (291): 0.9622\n",
      "[0804_130209] 240/623 Calculating CAV for mug\n",
      "Best accuracy: 0.8471409275101306 Regularization: 0.001\n",
      "Best accuracy: 0.8883385862224223 Regularization: 0.005\n",
      "Best accuracy: 0.9056731202161189 Regularization: 0.01\n",
      "Best accuracy: 0.9326879783881135 Regularization: 0.05\n",
      "Best accuracy: 0.9419180549302116 Regularization: 0.1\n",
      "Best accuracy: 0.955425484016209 Regularization: 0.5\n",
      "Best accuracy: 0.9610535794687078 Regularization: 1\n",
      "Best accuracy: 0.9642053129221072 Regularization: 3\n"
     ]
    },
    {
     "name": "stderr",
     "output_type": "stream",
     "text": [
      "240it [2:08:49, 37.04s/it]"
     ]
    },
    {
     "name": "stdout",
     "output_type": "stream",
     "text": [
      "Best accuracy: 0.9644304367402071 Regularization: 5\n",
      "CAV accuracy for mug concept (293): 0.9644\n",
      "[0804_130249] 241/623 Calculating CAV for apparel\n",
      "Best accuracy: 0.924808644754615 Regularization: 0.001\n",
      "Best accuracy: 0.9448446645655111 Regularization: 0.005\n",
      "Best accuracy: 0.95047276001801 Regularization: 0.01\n",
      "Best accuracy: 0.9657811796488068 Regularization: 0.05\n",
      "Best accuracy: 0.9720846465556056 Regularization: 0.1\n",
      "Best accuracy: 0.9792886087348042 Regularization: 0.5\n",
      "Best accuracy: 0.9813147230977037 Regularization: 1\n"
     ]
    },
    {
     "name": "stderr",
     "output_type": "stream",
     "text": [
      "241it [2:09:21, 35.57s/it]"
     ]
    },
    {
     "name": "stdout",
     "output_type": "stream",
     "text": [
      "CAV accuracy for apparel concept (294): 0.9813\n",
      "[0804_130321] 242/623 Calculating CAV for land\n",
      "Best accuracy: 0.874831157136425 Regularization: 0.001\n",
      "Best accuracy: 0.9072489869428185 Regularization: 0.005\n",
      "Best accuracy: 0.9187303016659163 Regularization: 0.01\n",
      "Best accuracy: 0.945069788383611 Regularization: 0.05\n",
      "Best accuracy: 0.9542998649257092 Regularization: 0.1\n",
      "Best accuracy: 0.9669067987393066 Regularization: 0.5\n",
      "Best accuracy: 0.9693831607384061 Regularization: 1\n",
      "Best accuracy: 0.9729851418280054 Regularization: 3\n"
     ]
    },
    {
     "name": "stderr",
     "output_type": "stream",
     "text": [
      "242it [2:09:58, 35.94s/it]"
     ]
    },
    {
     "name": "stdout",
     "output_type": "stream",
     "text": [
      "CAV accuracy for land concept (296): 0.9730\n",
      "[0804_130358] 243/623 Calculating CAV for pitcher\n",
      "Best accuracy: 0.8973435389464205 Regularization: 0.001\n",
      "Best accuracy: 0.9160288158487168 Regularization: 0.005\n",
      "Best accuracy: 0.9225574065736155 Regularization: 0.01\n",
      "Best accuracy: 0.9419180549302116 Regularization: 0.05\n",
      "Best accuracy: 0.9488968932913102 Regularization: 0.1\n",
      "Best accuracy: 0.9624043223773076 Regularization: 0.5\n",
      "Best accuracy: 0.9648806843764071 Regularization: 1\n",
      "Best accuracy: 0.9705087798289059 Regularization: 3\n"
     ]
    },
    {
     "name": "stderr",
     "output_type": "stream",
     "text": [
      "243it [2:10:33, 35.61s/it]"
     ]
    },
    {
     "name": "stdout",
     "output_type": "stream",
     "text": [
      "Best accuracy: 0.9720846465556056 Regularization: 5\n",
      "CAV accuracy for pitcher concept (297): 0.9721\n",
      "[0804_130432] 244/623 Calculating CAV for remote control\n",
      "Best accuracy: 0.8514182800540298 Regularization: 0.001\n",
      "Best accuracy: 0.8926159387663215 Regularization: 0.005\n",
      "Best accuracy: 0.9058982440342188 Regularization: 0.01\n",
      "Best accuracy: 0.9380909500225124 Regularization: 0.05\n",
      "Best accuracy: 0.95002251238181 Regularization: 0.1\n",
      "Best accuracy: 0.9642053129221072 Regularization: 0.5\n",
      "Best accuracy: 0.9678072940117064 Regularization: 1\n",
      "Best accuracy: 0.9734353894642053 Regularization: 3\n"
     ]
    },
    {
     "name": "stderr",
     "output_type": "stream",
     "text": [
      "244it [2:11:09, 35.72s/it]"
     ]
    },
    {
     "name": "stdout",
     "output_type": "stream",
     "text": [
      "Best accuracy: 0.9752363800090049 Regularization: 5\n",
      "CAV accuracy for remote control concept (298): 0.9752\n",
      "[0804_130508] 245/623 Calculating CAV for bar\n",
      "Best accuracy: 0.9209815398469158 Regularization: 0.001\n",
      "Best accuracy: 0.9461954074741108 Regularization: 0.005\n",
      "Best accuracy: 0.9545249887438091 Regularization: 0.01\n",
      "Best accuracy: 0.9675821701936065 Regularization: 0.05\n",
      "Best accuracy: 0.9734353894642053 Regularization: 0.1\n",
      "Best accuracy: 0.9761368752814048 Regularization: 0.5\n",
      "Best accuracy: 0.9788383610986042 Regularization: 1\n",
      "Best accuracy: 0.9797388563710041 Regularization: 3\n"
     ]
    },
    {
     "name": "stderr",
     "output_type": "stream",
     "text": [
      "245it [2:11:38, 33.73s/it]"
     ]
    },
    {
     "name": "stdout",
     "output_type": "stream",
     "text": [
      "Best accuracy: 0.9801891040072039 Regularization: 5\n",
      "CAV accuracy for bar concept (299): 0.9802\n",
      "[0804_130537] 246/623 Calculating CAV for ball\n",
      "Best accuracy: 0.9070238631247186 Regularization: 0.001\n",
      "Best accuracy: 0.9322377307519135 Regularization: 0.005\n",
      "Best accuracy: 0.940117064385412 Regularization: 0.01\n",
      "Best accuracy: 0.9644304367402071 Regularization: 0.05\n",
      "Best accuracy: 0.9691580369203062 Regularization: 0.1\n",
      "Best accuracy: 0.9741107609185051 Regularization: 0.5\n",
      "Best accuracy: 0.9768122467357047 Regularization: 1\n",
      "Best accuracy: 0.9781629896443044 Regularization: 3\n"
     ]
    },
    {
     "name": "stderr",
     "output_type": "stream",
     "text": [
      "246it [2:12:14, 34.42s/it]"
     ]
    },
    {
     "name": "stdout",
     "output_type": "stream",
     "text": [
      "Best accuracy: 0.9790634849167041 Regularization: 5\n",
      "CAV accuracy for ball concept (300): 0.9791\n",
      "[0804_130613] 247/623 Calculating CAV for grandstand\n",
      "Best accuracy: 0.9671319225574065 Regularization: 0.001\n",
      "Best accuracy: 0.9774876181900045 Regularization: 0.005\n",
      "Best accuracy: 0.9824403421882035 Regularization: 0.01\n",
      "Best accuracy: 0.9878433138226025 Regularization: 0.05\n",
      "Best accuracy: 0.9905447996398019 Regularization: 0.5\n"
     ]
    },
    {
     "name": "stderr",
     "output_type": "stream",
     "text": [
      "247it [2:12:37, 31.08s/it]"
     ]
    },
    {
     "name": "stdout",
     "output_type": "stream",
     "text": [
      "CAV accuracy for grandstand concept (303): 0.9905\n",
      "[0804_130637] 248/623 Calculating CAV for backpack\n",
      "Best accuracy: 0.8676271949572265 Regularization: 0.001\n",
      "Best accuracy: 0.8966681674921206 Regularization: 0.005\n",
      "Best accuracy: 0.9126519585772175 Regularization: 0.01\n",
      "Best accuracy: 0.9448446645655111 Regularization: 0.05\n",
      "Best accuracy: 0.9520486267447096 Regularization: 0.1\n",
      "Best accuracy: 0.9628545700135074 Regularization: 0.5\n",
      "Best accuracy: 0.9671319225574065 Regularization: 1\n",
      "Best accuracy: 0.9714092751013057 Regularization: 3\n"
     ]
    },
    {
     "name": "stderr",
     "output_type": "stream",
     "text": [
      "248it [2:13:14, 32.83s/it]"
     ]
    },
    {
     "name": "stdout",
     "output_type": "stream",
     "text": [
      "Best accuracy: 0.9720846465556056 Regularization: 5\n",
      "CAV accuracy for backpack concept (304): 0.9721\n",
      "[0804_130714] 249/623 Calculating CAV for pane of glass\n",
      "Best accuracy: 0.8419630796938317 Regularization: 0.001\n",
      "Best accuracy: 0.8779828905898244 Regularization: 0.005\n",
      "Best accuracy: 0.8921656911301216 Regularization: 0.01\n",
      "Best accuracy: 0.9223322827555155 Regularization: 0.05\n",
      "Best accuracy: 0.9329131022062134 Regularization: 0.1\n",
      "Best accuracy: 0.9506978838361099 Regularization: 0.5\n",
      "Best accuracy: 0.9552003601981089 Regularization: 1\n",
      "Best accuracy: 0.9603782080144079 Regularization: 3\n"
     ]
    },
    {
     "name": "stderr",
     "output_type": "stream",
     "text": [
      "249it [2:13:54, 34.96s/it]"
     ]
    },
    {
     "name": "stdout",
     "output_type": "stream",
     "text": [
      "Best accuracy: 0.9619540747411076 Regularization: 5\n",
      "CAV accuracy for pane of glass concept (305): 0.9620\n",
      "[0804_130754] 250/623 Calculating CAV for face\n",
      "Best accuracy: 0.7976136875281404 Regularization: 0.001\n",
      "Best accuracy: 0.8430886987843313 Regularization: 0.005\n",
      "Best accuracy: 0.8653759567762269 Regularization: 0.01\n",
      "Best accuracy: 0.9022962629446195 Regularization: 0.05\n",
      "Best accuracy: 0.9164790634849167 Regularization: 0.1\n",
      "Best accuracy: 0.9344889689329131 Regularization: 0.5\n",
      "Best accuracy: 0.9403421882035119 Regularization: 1\n",
      "Best accuracy: 0.9527239981990094 Regularization: 3\n"
     ]
    },
    {
     "name": "stderr",
     "output_type": "stream",
     "text": [
      "250it [2:14:39, 37.98s/it]"
     ]
    },
    {
     "name": "stdout",
     "output_type": "stream",
     "text": [
      "Best accuracy: 0.9529491220171095 Regularization: 5\n",
      "CAV accuracy for face concept (306): 0.9529\n",
      "[0804_130839] 251/623 Calculating CAV for ladder\n",
      "Best accuracy: 0.8491670418730302 Regularization: 0.001\n",
      "Best accuracy: 0.8869878433138226 Regularization: 0.005\n",
      "Best accuracy: 0.9036470058532192 Regularization: 0.01\n",
      "Best accuracy: 0.934939216569113 Regularization: 0.05\n",
      "Best accuracy: 0.9455200360198109 Regularization: 0.1\n",
      "Best accuracy: 0.9590274651058082 Regularization: 0.5\n",
      "Best accuracy: 0.9637550652859073 Regularization: 1\n",
      "Best accuracy: 0.9662314272850068 Regularization: 3\n"
     ]
    },
    {
     "name": "stderr",
     "output_type": "stream",
     "text": [
      "251it [2:15:21, 39.21s/it]"
     ]
    },
    {
     "name": "stdout",
     "output_type": "stream",
     "text": [
      "Best accuracy: 0.9687077892841063 Regularization: 5\n",
      "CAV accuracy for ladder concept (307): 0.9687\n",
      "[0804_130921] 252/623 Calculating CAV for hedge\n",
      "Best accuracy: 0.8460153084196308 Regularization: 0.001\n",
      "Best accuracy: 0.895092300765421 Regularization: 0.005\n",
      "Best accuracy: 0.915128320576317 Regularization: 0.01\n",
      "Best accuracy: 0.9425934263845115 Regularization: 0.05\n",
      "Best accuracy: 0.9520486267447096 Regularization: 0.1\n",
      "Best accuracy: 0.9666816749212067 Regularization: 0.5\n",
      "Best accuracy: 0.9716343989194057 Regularization: 1\n",
      "Best accuracy: 0.9741107609185051 Regularization: 3\n"
     ]
    },
    {
     "name": "stderr",
     "output_type": "stream",
     "text": [
      "252it [2:15:56, 37.84s/it]"
     ]
    },
    {
     "name": "stdout",
     "output_type": "stream",
     "text": [
      "Best accuracy: 0.9765871229176046 Regularization: 5\n",
      "CAV accuracy for hedge concept (309): 0.9766\n",
      "[0804_130955] 253/623 Calculating CAV for arm panel\n",
      "Best accuracy: 0.9259342638451148 Regularization: 0.001\n",
      "Best accuracy: 0.9475461503827105 Regularization: 0.005\n",
      "Best accuracy: 0.9538496172895092 Regularization: 0.01\n",
      "Best accuracy: 0.9662314272850068 Regularization: 0.05\n",
      "Best accuracy: 0.9698334083746061 Regularization: 0.1\n",
      "Best accuracy: 0.9768122467357047 Regularization: 0.5\n",
      "Best accuracy: 0.9781629896443044 Regularization: 3\n"
     ]
    },
    {
     "name": "stderr",
     "output_type": "stream",
     "text": [
      "253it [2:16:24, 34.79s/it]"
     ]
    },
    {
     "name": "stdout",
     "output_type": "stream",
     "text": [
      "CAV accuracy for arm panel concept (310): 0.9782\n",
      "[0804_131023] 254/623 Calculating CAV for fork\n",
      "Best accuracy: 0.9610535794687078 Regularization: 0.001\n",
      "Best accuracy: 0.9777127420081044 Regularization: 0.005\n",
      "Best accuracy: 0.9840162089149032 Regularization: 0.01\n",
      "Best accuracy: 0.9905447996398019 Regularization: 0.05\n",
      "Best accuracy: 0.9930211616389014 Regularization: 0.1\n",
      "Best accuracy: 0.9948221521837011 Regularization: 0.5\n",
      "Best accuracy: 0.9952723998199009 Regularization: 3\n"
     ]
    },
    {
     "name": "stderr",
     "output_type": "stream",
     "text": [
      "254it [2:16:48, 31.66s/it]"
     ]
    },
    {
     "name": "stdout",
     "output_type": "stream",
     "text": [
      "CAV accuracy for fork concept (311): 0.9953\n",
      "[0804_131047] 255/623 Calculating CAV for tower\n",
      "Best accuracy: 0.919855920756416 Regularization: 0.001\n",
      "Best accuracy: 0.9398919405673121 Regularization: 0.005\n",
      "Best accuracy: 0.9495722647456101 Regularization: 0.01\n",
      "Best accuracy: 0.9635299414678073 Regularization: 0.05\n",
      "Best accuracy: 0.9687077892841063 Regularization: 0.1\n",
      "Best accuracy: 0.9756866276452049 Regularization: 0.5\n",
      "Best accuracy: 0.9786132372805043 Regularization: 1\n",
      "Best accuracy: 0.9817649707339037 Regularization: 3\n"
     ]
    },
    {
     "name": "stderr",
     "output_type": "stream",
     "text": [
      "255it [2:17:19, 31.63s/it]"
     ]
    },
    {
     "name": "stdout",
     "output_type": "stream",
     "text": [
      "CAV accuracy for tower concept (312): 0.9818\n",
      "[0804_131119] 256/623 Calculating CAV for notebook\n",
      "Best accuracy: 0.8865375956776227 Regularization: 0.001\n",
      "Best accuracy: 0.9160288158487168 Regularization: 0.005\n",
      "Best accuracy: 0.9268347591175147 Regularization: 0.01\n",
      "Best accuracy: 0.95002251238181 Regularization: 0.05\n",
      "Best accuracy: 0.9579018460153084 Regularization: 0.1\n",
      "Best accuracy: 0.9678072940117064 Regularization: 0.5\n",
      "Best accuracy: 0.9725348941918055 Regularization: 1\n",
      "Best accuracy: 0.9745610085547051 Regularization: 3\n"
     ]
    },
    {
     "name": "stderr",
     "output_type": "stream",
     "text": [
      "256it [2:17:55, 32.91s/it]"
     ]
    },
    {
     "name": "stdout",
     "output_type": "stream",
     "text": [
      "Best accuracy: 0.975011256190905 Regularization: 5\n",
      "CAV accuracy for notebook concept (313): 0.9750\n",
      "[0804_131155] 257/623 Calculating CAV for toilet tissue\n",
      "Best accuracy: 0.959927960378208 Regularization: 0.001\n",
      "Best accuracy: 0.9675821701936065 Regularization: 0.005\n",
      "Best accuracy: 0.9698334083746061 Regularization: 0.01\n",
      "Best accuracy: 0.9759117514633048 Regularization: 0.05\n",
      "Best accuracy: 0.9788383610986042 Regularization: 0.1\n",
      "Best accuracy: 0.9810895992796038 Regularization: 0.5\n",
      "Best accuracy: 0.9842413327330032 Regularization: 1\n"
     ]
    },
    {
     "name": "stderr",
     "output_type": "stream",
     "text": [
      "257it [2:18:20, 30.57s/it]"
     ]
    },
    {
     "name": "stdout",
     "output_type": "stream",
     "text": [
      "CAV accuracy for toilet tissue concept (314): 0.9842\n",
      "[0804_131220] 258/623 Calculating CAV for vent\n",
      "Best accuracy: 0.8340837460603332 Regularization: 0.001\n",
      "Best accuracy: 0.8764070238631247 Regularization: 0.005\n",
      "Best accuracy: 0.8923908149482215 Regularization: 0.01\n",
      "Best accuracy: 0.9234579018460153 Regularization: 0.05\n",
      "Best accuracy: 0.9344889689329131 Regularization: 0.1\n",
      "Best accuracy: 0.9502476361999099 Regularization: 0.5\n",
      "Best accuracy: 0.954975236380009 Regularization: 1\n",
      "Best accuracy: 0.9583520936515083 Regularization: 3\n"
     ]
    },
    {
     "name": "stderr",
     "output_type": "stream",
     "text": [
      "258it [2:19:00, 33.16s/it]"
     ]
    },
    {
     "name": "stdout",
     "output_type": "stream",
     "text": [
      "Best accuracy: 0.9608284556506078 Regularization: 5\n",
      "CAV accuracy for vent concept (315): 0.9608\n",
      "[0804_131259] 259/623 Calculating CAV for muntin\n",
      "Best accuracy: 0.845114813147231 Regularization: 0.001\n",
      "Best accuracy: 0.879783881134624 Regularization: 0.005\n",
      "Best accuracy: 0.8957676722197209 Regularization: 0.01\n",
      "Best accuracy: 0.9272850067537145 Regularization: 0.05\n",
      "Best accuracy: 0.9383160738406123 Regularization: 0.1\n",
      "Best accuracy: 0.9581269698334084 Regularization: 0.5\n",
      "Best accuracy: 0.9612787032868078 Regularization: 1\n",
      "Best accuracy: 0.9666816749212067 Regularization: 3\n"
     ]
    },
    {
     "name": "stderr",
     "output_type": "stream",
     "text": [
      "259it [2:19:41, 35.52s/it]"
     ]
    },
    {
     "name": "stdout",
     "output_type": "stream",
     "text": [
      "Best accuracy: 0.9673570463755066 Regularization: 5\n",
      "CAV accuracy for muntin concept (316): 0.9674\n",
      "[0804_131340] 260/623 Calculating CAV for screen door\n",
      "Best accuracy: 0.9576767221972085 Regularization: 0.001\n",
      "Best accuracy: 0.9653309320126069 Regularization: 0.005\n",
      "Best accuracy: 0.9687077892841063 Regularization: 0.01\n",
      "Best accuracy: 0.9768122467357047 Regularization: 0.05\n",
      "Best accuracy: 0.9792886087348042 Regularization: 0.1\n",
      "Best accuracy: 0.9844664565511031 Regularization: 0.5\n",
      "Best accuracy: 0.984916704187303 Regularization: 3\n"
     ]
    },
    {
     "name": "stderr",
     "output_type": "stream",
     "text": [
      "260it [2:20:04, 31.74s/it]"
     ]
    },
    {
     "name": "stdout",
     "output_type": "stream",
     "text": [
      "Best accuracy: 0.985141828005403 Regularization: 5\n",
      "CAV accuracy for screen door concept (317): 0.9851\n",
      "[0804_131403] 261/623 Calculating CAV for brush\n",
      "Best accuracy: 0.9279603782080144 Regularization: 0.001\n",
      "Best accuracy: 0.9617289509230077 Regularization: 0.005\n",
      "Best accuracy: 0.9725348941918055 Regularization: 0.01\n",
      "Best accuracy: 0.9878433138226025 Regularization: 0.05\n",
      "Best accuracy: 0.9916704187303017 Regularization: 0.1\n",
      "Best accuracy: 0.9939216569113012 Regularization: 0.5\n",
      "Best accuracy: 0.9948221521837011 Regularization: 1\n",
      "Best accuracy: 0.995047276001801 Regularization: 3\n"
     ]
    },
    {
     "name": "stderr",
     "output_type": "stream",
     "text": [
      "261it [2:20:30, 30.24s/it]"
     ]
    },
    {
     "name": "stdout",
     "output_type": "stream",
     "text": [
      "CAV accuracy for brush concept (318): 0.9950\n",
      "[0804_131430] 262/623 Calculating CAV for heater\n",
      "Best accuracy: 0.7976136875281404 Regularization: 0.001\n",
      "Best accuracy: 0.8579468707789284 Regularization: 0.005\n",
      "Best accuracy: 0.8773075191355245 Regularization: 0.01\n",
      "Best accuracy: 0.9259342638451148 Regularization: 0.05\n",
      "Best accuracy: 0.9385411976587122 Regularization: 0.1\n",
      "Best accuracy: 0.9581269698334084 Regularization: 0.5\n",
      "Best accuracy: 0.9642053129221072 Regularization: 1\n",
      "Best accuracy: 0.970058532192706 Regularization: 3\n"
     ]
    },
    {
     "name": "stderr",
     "output_type": "stream",
     "text": [
      "262it [2:21:08, 32.42s/it]"
     ]
    },
    {
     "name": "stdout",
     "output_type": "stream",
     "text": [
      "Best accuracy: 0.9711841512832058 Regularization: 5\n",
      "CAV accuracy for heater concept (319): 0.9712\n",
      "[0804_131507] 263/623 Calculating CAV for booklet\n",
      "Best accuracy: 0.880234128770824 Regularization: 0.001\n",
      "Best accuracy: 0.9144529491220171 Regularization: 0.005\n",
      "Best accuracy: 0.9288608734804142 Regularization: 0.01\n",
      "Best accuracy: 0.9524988743809095 Regularization: 0.05\n",
      "Best accuracy: 0.9574515983791085 Regularization: 0.1\n",
      "Best accuracy: 0.9705087798289059 Regularization: 0.5\n",
      "Best accuracy: 0.9732102656461054 Regularization: 1\n",
      "Best accuracy: 0.9770373705538046 Regularization: 3\n"
     ]
    },
    {
     "name": "stderr",
     "output_type": "stream",
     "text": [
      "263it [2:21:42, 33.07s/it]"
     ]
    },
    {
     "name": "stdout",
     "output_type": "stream",
     "text": [
      "Best accuracy: 0.9786132372805043 Regularization: 5\n",
      "CAV accuracy for booklet concept (320): 0.9786\n",
      "[0804_131542] 264/623 Calculating CAV for kitchen island\n",
      "Best accuracy: 0.9653309320126069 Regularization: 0.001\n",
      "Best accuracy: 0.9772624943719046 Regularization: 0.005\n",
      "Best accuracy: 0.9813147230977037 Regularization: 0.01\n",
      "Best accuracy: 0.9864925709140027 Regularization: 0.05\n",
      "Best accuracy: 0.9882935614588023 Regularization: 0.1\n",
      "Best accuracy: 0.9894191805493021 Regularization: 0.5\n",
      "Best accuracy: 0.9912201710941018 Regularization: 1\n"
     ]
    },
    {
     "name": "stderr",
     "output_type": "stream",
     "text": [
      "264it [2:22:04, 29.53s/it]"
     ]
    },
    {
     "name": "stdout",
     "output_type": "stream",
     "text": [
      "CAV accuracy for kitchen island concept (321): 0.9912\n",
      "[0804_131603] 265/623 Calculating CAV for post\n",
      "Best accuracy: 0.8361098604232328 Regularization: 0.001\n",
      "Best accuracy: 0.8818099954975236 Regularization: 0.005\n",
      "Best accuracy: 0.9020711391265196 Regularization: 0.01\n",
      "Best accuracy: 0.9360648356596127 Regularization: 0.05\n",
      "Best accuracy: 0.9459702836560108 Regularization: 0.1\n",
      "Best accuracy: 0.9617289509230077 Regularization: 0.5\n",
      "Best accuracy: 0.9642053129221072 Regularization: 1\n",
      "Best accuracy: 0.9707339036470058 Regularization: 3\n"
     ]
    },
    {
     "name": "stderr",
     "output_type": "stream",
     "text": [
      "265it [2:22:42, 32.06s/it]"
     ]
    },
    {
     "name": "stdout",
     "output_type": "stream",
     "text": [
      "Best accuracy: 0.9727600180099054 Regularization: 5\n",
      "CAV accuracy for post concept (322): 0.9728\n",
      "[0804_131641] 266/623 Calculating CAV for stretcher\n",
      "Best accuracy: 0.8782080144079244 Regularization: 0.001\n",
      "Best accuracy: 0.9115263394867177 Regularization: 0.005\n",
      "Best accuracy: 0.9245835209365151 Regularization: 0.01\n",
      "Best accuracy: 0.95047276001801 Regularization: 0.05\n",
      "Best accuracy: 0.9579018460153084 Regularization: 0.1\n",
      "Best accuracy: 0.9684826654660063 Regularization: 0.5\n",
      "Best accuracy: 0.9709590274651058 Regularization: 1\n",
      "Best accuracy: 0.9741107609185051 Regularization: 3\n"
     ]
    },
    {
     "name": "stderr",
     "output_type": "stream",
     "text": [
      "266it [2:23:18, 33.44s/it]"
     ]
    },
    {
     "name": "stdout",
     "output_type": "stream",
     "text": [
      "Best accuracy: 0.9756866276452049 Regularization: 5\n",
      "CAV accuracy for stretcher concept (323): 0.9757\n",
      "[0804_131718] 267/623 Calculating CAV for plane\n",
      "Best accuracy: 0.9756866276452049 Regularization: 0.001\n",
      "Best accuracy: 0.9835659612787033 Regularization: 0.005\n",
      "Best accuracy: 0.9873930661864025 Regularization: 0.01\n",
      "Best accuracy: 0.9909950472760019 Regularization: 0.05\n",
      "Best accuracy: 0.9923457901846016 Regularization: 0.1\n",
      "Best accuracy: 0.9936965330932013 Regularization: 0.5\n",
      "Best accuracy: 0.9941467807294012 Regularization: 1\n",
      "Best accuracy: 0.9943719045475011 Regularization: 3\n"
     ]
    },
    {
     "name": "stderr",
     "output_type": "stream",
     "text": [
      "267it [2:23:40, 29.92s/it]"
     ]
    },
    {
     "name": "stdout",
     "output_type": "stream",
     "text": [
      "CAV accuracy for plane concept (327): 0.9944\n",
      "[0804_131740] 268/623 Calculating CAV for sash\n",
      "Best accuracy: 0.8390364700585322 Regularization: 0.001\n",
      "Best accuracy: 0.8809095002251238 Regularization: 0.005\n",
      "Best accuracy: 0.9007203962179199 Regularization: 0.01\n",
      "Best accuracy: 0.929986492570914 Regularization: 0.05\n",
      "Best accuracy: 0.9434939216569113 Regularization: 0.1\n",
      "Best accuracy: 0.9621791985592075 Regularization: 0.5\n",
      "Best accuracy: 0.9673570463755066 Regularization: 1\n",
      "Best accuracy: 0.9707339036470058 Regularization: 3\n"
     ]
    },
    {
     "name": "stderr",
     "output_type": "stream",
     "text": [
      "268it [2:24:16, 31.73s/it]"
     ]
    },
    {
     "name": "stdout",
     "output_type": "stream",
     "text": [
      "Best accuracy: 0.9718595227375056 Regularization: 5\n",
      "CAV accuracy for sash concept (330): 0.9719\n",
      "[0804_131816] 269/623 Calculating CAV for shower\n",
      "Best accuracy: 0.9574515983791085 Regularization: 0.001\n",
      "Best accuracy: 0.9680324178298064 Regularization: 0.005\n",
      "Best accuracy: 0.9702836560108059 Regularization: 0.01\n",
      "Best accuracy: 0.9770373705538046 Regularization: 0.05\n",
      "Best accuracy: 0.9835659612787033 Regularization: 0.1\n",
      "Best accuracy: 0.9876181900045025 Regularization: 0.5\n",
      "Best accuracy: 0.9880684376407024 Regularization: 1\n",
      "Best accuracy: 0.9885186852769023 Regularization: 3\n"
     ]
    },
    {
     "name": "stderr",
     "output_type": "stream",
     "text": [
      "269it [2:24:41, 29.64s/it]"
     ]
    },
    {
     "name": "stdout",
     "output_type": "stream",
     "text": [
      "Best accuracy: 0.9891940567312022 Regularization: 5\n",
      "CAV accuracy for shower concept (332): 0.9892\n",
      "[0804_131840] 270/623 Calculating CAV for soap dispenser\n",
      "Best accuracy: 0.9389914452949122 Regularization: 0.001\n",
      "Best accuracy: 0.9452949122017109 Regularization: 0.005\n",
      "Best accuracy: 0.9509230076542098 Regularization: 0.01\n",
      "Best accuracy: 0.959927960378208 Regularization: 0.05\n",
      "Best accuracy: 0.9682575416479063 Regularization: 0.1\n",
      "Best accuracy: 0.9786132372805043 Regularization: 0.5\n",
      "Best accuracy: 0.9808644754615038 Regularization: 1\n",
      "Best accuracy: 0.9840162089149032 Regularization: 3\n"
     ]
    },
    {
     "name": "stderr",
     "output_type": "stream",
     "text": [
      "270it [2:25:10, 29.41s/it]"
     ]
    },
    {
     "name": "stdout",
     "output_type": "stream",
     "text": [
      "Best accuracy: 0.985366951823503 Regularization: 5\n",
      "CAV accuracy for soap dispenser concept (336): 0.9854\n",
      "[0804_131909] 271/623 Calculating CAV for computer case\n",
      "Best accuracy: 0.9675821701936065 Regularization: 0.001\n",
      "Best accuracy: 0.9783881134624043 Regularization: 0.005\n",
      "Best accuracy: 0.9819900945520036 Regularization: 0.01\n",
      "Best accuracy: 0.9882935614588023 Regularization: 0.05\n",
      "Best accuracy: 0.989644304367402 Regularization: 0.1\n",
      "Best accuracy: 0.989869428185502 Regularization: 0.5\n",
      "Best accuracy: 0.9903196758217019 Regularization: 3\n"
     ]
    },
    {
     "name": "stderr",
     "output_type": "stream",
     "text": [
      "271it [2:25:32, 27.42s/it]"
     ]
    },
    {
     "name": "stdout",
     "output_type": "stream",
     "text": [
      "CAV accuracy for computer case concept (339): 0.9903\n",
      "[0804_131932] 272/623 Calculating CAV for spoon\n",
      "Best accuracy: 0.9338135974786133 Regularization: 0.001\n",
      "Best accuracy: 0.9637550652859073 Regularization: 0.005\n",
      "Best accuracy: 0.975461503827105 Regularization: 0.01\n",
      "Best accuracy: 0.9894191805493021 Regularization: 0.05\n",
      "Best accuracy: 0.9907699234579018 Regularization: 0.1\n",
      "Best accuracy: 0.9941467807294012 Regularization: 0.5\n",
      "Best accuracy: 0.9948221521837011 Regularization: 1\n",
      "Best accuracy: 0.9954975236380009 Regularization: 3\n"
     ]
    },
    {
     "name": "stderr",
     "output_type": "stream",
     "text": [
      "272it [2:25:59, 27.09s/it]"
     ]
    },
    {
     "name": "stdout",
     "output_type": "stream",
     "text": [
      "CAV accuracy for spoon concept (340): 0.9955\n",
      "[0804_131958] 273/623 Calculating CAV for grid\n",
      "Best accuracy: 0.9975236380009005 Regularization: 0.001\n",
      "Best accuracy: 0.9988743809095002 Regularization: 0.005\n",
      "Best accuracy: 0.9993246285457001 Regularization: 0.01\n",
      "Best accuracy: 0.9995497523638001 Regularization: 0.05\n",
      "Best accuracy: 0.9997748761819001 Regularization: 3\n"
     ]
    },
    {
     "name": "stderr",
     "output_type": "stream",
     "text": [
      "273it [2:26:10, 22.26s/it]"
     ]
    },
    {
     "name": "stdout",
     "output_type": "stream",
     "text": [
      "CAV accuracy for grid concept (343): 0.9998\n",
      "[0804_132009] 274/623 Calculating CAV for buffet\n",
      "Best accuracy: 0.939666816749212 Regularization: 0.001\n",
      "Best accuracy: 0.9581269698334084 Regularization: 0.005\n",
      "Best accuracy: 0.9633048176497073 Regularization: 0.01\n",
      "Best accuracy: 0.9756866276452049 Regularization: 0.05\n",
      "Best accuracy: 0.9795137325529041 Regularization: 0.1\n",
      "Best accuracy: 0.984916704187303 Regularization: 0.5\n",
      "Best accuracy: 0.9860423232778028 Regularization: 1\n",
      "Best accuracy: 0.9871679423683025 Regularization: 3\n"
     ]
    },
    {
     "name": "stderr",
     "output_type": "stream",
     "text": [
      "274it [2:26:33, 22.55s/it]"
     ]
    },
    {
     "name": "stdout",
     "output_type": "stream",
     "text": [
      "Best accuracy: 0.9876181900045025 Regularization: 5\n",
      "CAV accuracy for buffet concept (344): 0.9876\n",
      "[0804_132032] 275/623 Calculating CAV for kettle\n",
      "Best accuracy: 0.9567762269248087 Regularization: 0.001\n",
      "Best accuracy: 0.9612787032868078 Regularization: 0.005\n",
      "Best accuracy: 0.9660063034669067 Regularization: 0.01\n",
      "Best accuracy: 0.9729851418280054 Regularization: 0.05\n",
      "Best accuracy: 0.9763619990995047 Regularization: 0.1\n",
      "Best accuracy: 0.9808644754615038 Regularization: 0.5\n",
      "Best accuracy: 0.9828905898244035 Regularization: 1\n",
      "Best accuracy: 0.984916704187303 Regularization: 3\n"
     ]
    },
    {
     "name": "stderr",
     "output_type": "stream",
     "text": [
      "275it [2:27:01, 24.33s/it]"
     ]
    },
    {
     "name": "stdout",
     "output_type": "stream",
     "text": [
      "Best accuracy: 0.9862674470959027 Regularization: 5\n",
      "CAV accuracy for kettle concept (345): 0.9863\n",
      "[0804_132101] 276/623 Calculating CAV for metal shutter\n",
      "Best accuracy: 0.8833858622242233 Regularization: 0.001\n",
      "Best accuracy: 0.9144529491220171 Regularization: 0.005\n",
      "Best accuracy: 0.9243583971184152 Regularization: 0.01\n",
      "Best accuracy: 0.9491220171094101 Regularization: 0.05\n",
      "Best accuracy: 0.959927960378208 Regularization: 0.1\n",
      "Best accuracy: 0.9718595227375056 Regularization: 0.5\n",
      "Best accuracy: 0.975461503827105 Regularization: 1\n",
      "Best accuracy: 0.9779378658262045 Regularization: 3\n"
     ]
    },
    {
     "name": "stderr",
     "output_type": "stream",
     "text": [
      "276it [2:27:31, 25.91s/it]"
     ]
    },
    {
     "name": "stdout",
     "output_type": "stream",
     "text": [
      "Best accuracy: 0.9788383610986042 Regularization: 5\n",
      "CAV accuracy for metal shutter concept (348): 0.9788\n",
      "[0804_132131] 277/623 Calculating CAV for traveling bag\n",
      "Best accuracy: 0.8829356145880234 Regularization: 0.001\n",
      "Best accuracy: 0.920081044574516 Regularization: 0.005\n",
      "Best accuracy: 0.9340387212967132 Regularization: 0.01\n",
      "Best accuracy: 0.960153084196308 Regularization: 0.05\n",
      "Best accuracy: 0.9682575416479063 Regularization: 0.1\n",
      "Best accuracy: 0.9772624943719046 Regularization: 0.5\n",
      "Best accuracy: 0.980414227825304 Regularization: 1\n",
      "Best accuracy: 0.9817649707339037 Regularization: 3\n"
     ]
    },
    {
     "name": "stderr",
     "output_type": "stream",
     "text": [
      "277it [2:28:03, 27.66s/it]"
     ]
    },
    {
     "name": "stdout",
     "output_type": "stream",
     "text": [
      "Best accuracy: 0.9822152183701035 Regularization: 5\n",
      "CAV accuracy for traveling bag concept (349): 0.9822\n",
      "[0804_132202] 278/623 Calculating CAV for stage\n",
      "Best accuracy: 0.9738856371004052 Regularization: 0.001\n",
      "Best accuracy: 0.9808644754615038 Regularization: 0.005\n",
      "Best accuracy: 0.985141828005403 Regularization: 0.01\n",
      "Best accuracy: 0.9912201710941018 Regularization: 0.05\n",
      "Best accuracy: 0.9930211616389014 Regularization: 0.1\n",
      "Best accuracy: 0.9939216569113012 Regularization: 0.5\n",
      "Best accuracy: 0.9941467807294012 Regularization: 1\n",
      "Best accuracy: 0.9943719045475011 Regularization: 3\n"
     ]
    },
    {
     "name": "stderr",
     "output_type": "stream",
     "text": [
      "278it [2:28:23, 25.43s/it]"
     ]
    },
    {
     "name": "stdout",
     "output_type": "stream",
     "text": [
      "Best accuracy: 0.994597028365601 Regularization: 5\n",
      "CAV accuracy for stage concept (350): 0.9946\n",
      "[0804_132223] 279/623 Calculating CAV for hat\n",
      "Best accuracy: 0.8928410625844214 Regularization: 0.001\n",
      "Best accuracy: 0.9243583971184152 Regularization: 0.005\n",
      "Best accuracy: 0.9369653309320126 Regularization: 0.01\n",
      "Best accuracy: 0.9603782080144079 Regularization: 0.05\n",
      "Best accuracy: 0.9657811796488068 Regularization: 0.1\n",
      "Best accuracy: 0.9783881134624043 Regularization: 0.5\n",
      "Best accuracy: 0.9824403421882035 Regularization: 1\n",
      "Best accuracy: 0.9835659612787033 Regularization: 3\n"
     ]
    },
    {
     "name": "stderr",
     "output_type": "stream",
     "text": [
      "279it [2:28:58, 28.22s/it]"
     ]
    },
    {
     "name": "stdout",
     "output_type": "stream",
     "text": [
      "Best accuracy: 0.9844664565511031 Regularization: 5\n",
      "CAV accuracy for hat concept (351): 0.9845\n",
      "[0804_132257] 280/623 Calculating CAV for printer\n",
      "Best accuracy: 0.9561008554705088 Regularization: 0.001\n",
      "Best accuracy: 0.9698334083746061 Regularization: 0.005\n",
      "Best accuracy: 0.975461503827105 Regularization: 0.01\n",
      "Best accuracy: 0.9819900945520036 Regularization: 0.05\n",
      "Best accuracy: 0.984691580369203 Regularization: 0.1\n",
      "Best accuracy: 0.9903196758217019 Regularization: 0.5\n",
      "Best accuracy: 0.9905447996398019 Regularization: 1\n",
      "Best accuracy: 0.9912201710941018 Regularization: 3\n"
     ]
    },
    {
     "name": "stderr",
     "output_type": "stream",
     "text": [
      "280it [2:29:21, 26.70s/it]"
     ]
    },
    {
     "name": "stdout",
     "output_type": "stream",
     "text": [
      "CAV accuracy for printer concept (352): 0.9912\n",
      "[0804_132320] 281/623 Calculating CAV for blade\n",
      "Best accuracy: 0.8986942818550203 Regularization: 0.001\n",
      "Best accuracy: 0.9326879783881135 Regularization: 0.005\n",
      "Best accuracy: 0.9443944169293111 Regularization: 0.01\n",
      "Best accuracy: 0.9644304367402071 Regularization: 0.05\n",
      "Best accuracy: 0.9698334083746061 Regularization: 0.1\n",
      "Best accuracy: 0.980414227825304 Regularization: 0.5\n",
      "Best accuracy: 0.9822152183701035 Regularization: 1\n",
      "Best accuracy: 0.9833408374606033 Regularization: 3\n"
     ]
    },
    {
     "name": "stderr",
     "output_type": "stream",
     "text": [
      "281it [2:29:49, 27.03s/it]"
     ]
    },
    {
     "name": "stdout",
     "output_type": "stream",
     "text": [
      "Best accuracy: 0.9835659612787033 Regularization: 5\n",
      "CAV accuracy for blade concept (355): 0.9836\n",
      "[0804_132348] 282/623 Calculating CAV for teapot\n",
      "Best accuracy: 0.9040972534894192 Regularization: 0.001\n",
      "Best accuracy: 0.9322377307519135 Regularization: 0.005\n",
      "Best accuracy: 0.9432687978388113 Regularization: 0.01\n",
      "Best accuracy: 0.9648806843764071 Regularization: 0.05\n",
      "Best accuracy: 0.9684826654660063 Regularization: 0.1\n",
      "Best accuracy: 0.9765871229176046 Regularization: 0.5\n",
      "Best accuracy: 0.9790634849167041 Regularization: 1\n",
      "Best accuracy: 0.9819900945520036 Regularization: 3\n"
     ]
    },
    {
     "name": "stderr",
     "output_type": "stream",
     "text": [
      "282it [2:30:17, 27.50s/it]"
     ]
    },
    {
     "name": "stdout",
     "output_type": "stream",
     "text": [
      "Best accuracy: 0.9833408374606033 Regularization: 5\n",
      "CAV accuracy for teapot concept (358): 0.9833\n",
      "[0804_132417] 283/623 Calculating CAV for chest\n",
      "Best accuracy: 0.8586222422332283 Regularization: 0.001\n",
      "Best accuracy: 0.8910400720396218 Regularization: 0.005\n",
      "Best accuracy: 0.904997748761819 Regularization: 0.01\n",
      "Best accuracy: 0.9367402071139127 Regularization: 0.05\n",
      "Best accuracy: 0.9455200360198109 Regularization: 0.1\n",
      "Best accuracy: 0.9626294461954075 Regularization: 0.5\n",
      "Best accuracy: 0.9684826654660063 Regularization: 1\n",
      "Best accuracy: 0.9743358847366052 Regularization: 3\n"
     ]
    },
    {
     "name": "stderr",
     "output_type": "stream",
     "text": [
      "283it [2:30:53, 29.81s/it]"
     ]
    },
    {
     "name": "stdout",
     "output_type": "stream",
     "text": [
      "Best accuracy: 0.975461503827105 Regularization: 5\n",
      "CAV accuracy for chest concept (361): 0.9755\n",
      "[0804_132452] 284/623 Calculating CAV for embankment\n",
      "Best accuracy: 0.8955425484016208 Regularization: 0.001\n",
      "Best accuracy: 0.9286357496623143 Regularization: 0.005\n",
      "Best accuracy: 0.9412426834759118 Regularization: 0.01\n",
      "Best accuracy: 0.9626294461954075 Regularization: 0.05\n",
      "Best accuracy: 0.9671319225574065 Regularization: 0.1\n",
      "Best accuracy: 0.9777127420081044 Regularization: 0.5\n",
      "Best accuracy: 0.9783881134624043 Regularization: 1\n",
      "Best accuracy: 0.9795137325529041 Regularization: 3\n"
     ]
    },
    {
     "name": "stderr",
     "output_type": "stream",
     "text": [
      "284it [2:31:22, 29.69s/it]"
     ]
    },
    {
     "name": "stdout",
     "output_type": "stream",
     "text": [
      "Best accuracy: 0.979963980189104 Regularization: 5\n",
      "CAV accuracy for embankment concept (365): 0.9800\n",
      "[0804_132521] 285/623 Calculating CAV for cloud\n",
      "Best accuracy: 0.85006753714543 Regularization: 0.001\n",
      "Best accuracy: 0.8977937865826204 Regularization: 0.005\n",
      "Best accuracy: 0.919855920756416 Regularization: 0.01\n",
      "Best accuracy: 0.9461954074741108 Regularization: 0.05\n",
      "Best accuracy: 0.9565511031067087 Regularization: 0.1\n",
      "Best accuracy: 0.9680324178298064 Regularization: 0.5\n",
      "Best accuracy: 0.9720846465556056 Regularization: 1\n",
      "Best accuracy: 0.975011256190905 Regularization: 3\n"
     ]
    },
    {
     "name": "stderr",
     "output_type": "stream",
     "text": [
      "285it [2:31:59, 31.90s/it]"
     ]
    },
    {
     "name": "stdout",
     "output_type": "stream",
     "text": [
      "Best accuracy: 0.9759117514633048 Regularization: 5\n",
      "CAV accuracy for cloud concept (366): 0.9759\n",
      "[0804_132558] 286/623 Calculating CAV for document\n",
      "Best accuracy: 0.9131022062134174 Regularization: 0.001\n",
      "Best accuracy: 0.9356145880234129 Regularization: 0.005\n",
      "Best accuracy: 0.9470959027465106 Regularization: 0.01\n",
      "Best accuracy: 0.9619540747411076 Regularization: 0.05\n",
      "Best accuracy: 0.969608284556506 Regularization: 0.1\n",
      "Best accuracy: 0.9765871229176046 Regularization: 0.5\n",
      "Best accuracy: 0.9810895992796038 Regularization: 1\n",
      "Best accuracy: 0.9831157136425034 Regularization: 3\n"
     ]
    },
    {
     "name": "stderr",
     "output_type": "stream",
     "text": [
      "286it [2:32:31, 31.80s/it]"
     ]
    },
    {
     "name": "stdout",
     "output_type": "stream",
     "text": [
      "Best accuracy: 0.9840162089149032 Regularization: 5\n",
      "CAV accuracy for document concept (379): 0.9840\n",
      "[0804_132630] 287/623 Calculating CAV for rack\n",
      "Best accuracy: 0.8545700135074291 Regularization: 0.001\n",
      "Best accuracy: 0.9079243583971184 Regularization: 0.005\n",
      "Best accuracy: 0.9293111211166142 Regularization: 0.01\n",
      "Best accuracy: 0.9561008554705088 Regularization: 0.05\n",
      "Best accuracy: 0.9639801891040072 Regularization: 0.1\n",
      "Best accuracy: 0.9770373705538046 Regularization: 0.5\n",
      "Best accuracy: 0.9795137325529041 Regularization: 1\n",
      "Best accuracy: 0.9822152183701035 Regularization: 3\n"
     ]
    },
    {
     "name": "stderr",
     "output_type": "stream",
     "text": [
      "287it [2:33:07, 33.13s/it]"
     ]
    },
    {
     "name": "stdout",
     "output_type": "stream",
     "text": [
      "Best accuracy: 0.9842413327330032 Regularization: 5\n",
      "CAV accuracy for rack concept (381): 0.9842\n",
      "[0804_132706] 288/623 Calculating CAV for windows\n",
      "Best accuracy: 0.874831157136425 Regularization: 0.001\n",
      "Best accuracy: 0.9126519585772175 Regularization: 0.005\n",
      "Best accuracy: 0.9266096352994146 Regularization: 0.01\n",
      "Best accuracy: 0.9495722647456101 Regularization: 0.05\n",
      "Best accuracy: 0.9563259792886087 Regularization: 0.1\n",
      "Best accuracy: 0.970058532192706 Regularization: 0.5\n",
      "Best accuracy: 0.9745610085547051 Regularization: 1\n",
      "Best accuracy: 0.9763619990995047 Regularization: 3\n"
     ]
    },
    {
     "name": "stderr",
     "output_type": "stream",
     "text": [
      "288it [2:33:37, 32.25s/it]"
     ]
    },
    {
     "name": "stdout",
     "output_type": "stream",
     "text": [
      "CAV accuracy for windows concept (386): 0.9764\n",
      "[0804_132736] 289/623 Calculating CAV for silver screen\n",
      "Best accuracy: 0.9603782080144079 Regularization: 0.001\n",
      "Best accuracy: 0.9736605132823053 Regularization: 0.005\n",
      "Best accuracy: 0.9772624943719046 Regularization: 0.01\n",
      "Best accuracy: 0.9831157136425034 Regularization: 0.05\n",
      "Best accuracy: 0.985366951823503 Regularization: 0.1\n",
      "Best accuracy: 0.9880684376407024 Regularization: 0.5\n",
      "Best accuracy: 0.9887438090950023 Regularization: 1\n",
      "Best accuracy: 0.9903196758217019 Regularization: 3\n"
     ]
    },
    {
     "name": "stderr",
     "output_type": "stream",
     "text": [
      "289it [2:33:59, 29.31s/it]"
     ]
    },
    {
     "name": "stdout",
     "output_type": "stream",
     "text": [
      "CAV accuracy for silver screen concept (388): 0.9903\n",
      "[0804_132759] 290/623 Calculating CAV for animal\n",
      "Best accuracy: 0.934714092751013 Regularization: 0.001\n",
      "Best accuracy: 0.9581269698334084 Regularization: 0.005\n",
      "Best accuracy: 0.9687077892841063 Regularization: 0.01\n",
      "Best accuracy: 0.9810895992796038 Regularization: 0.05\n",
      "Best accuracy: 0.984691580369203 Regularization: 0.1\n",
      "Best accuracy: 0.9871679423683025 Regularization: 0.5\n",
      "Best accuracy: 0.9885186852769023 Regularization: 1\n",
      "Best accuracy: 0.9891940567312022 Regularization: 3\n"
     ]
    },
    {
     "name": "stderr",
     "output_type": "stream",
     "text": [
      "290it [2:34:30, 29.58s/it]"
     ]
    },
    {
     "name": "stdout",
     "output_type": "stream",
     "text": [
      "Best accuracy: 0.989644304367402 Regularization: 5\n",
      "CAV accuracy for animal concept (392): 0.9896\n",
      "[0804_132829] 291/623 Calculating CAV for pier\n",
      "Best accuracy: 0.9579018460153084 Regularization: 0.001\n",
      "Best accuracy: 0.969608284556506 Regularization: 0.005\n",
      "Best accuracy: 0.9747861323728051 Regularization: 0.01\n",
      "Best accuracy: 0.9835659612787033 Regularization: 0.05\n",
      "Best accuracy: 0.9867176947321027 Regularization: 0.1\n",
      "Best accuracy: 0.989644304367402 Regularization: 0.5\n",
      "Best accuracy: 0.9903196758217019 Regularization: 1\n",
      "Best accuracy: 0.9912201710941018 Regularization: 3\n"
     ]
    },
    {
     "name": "stderr",
     "output_type": "stream",
     "text": [
      "291it [2:34:52, 27.45s/it]"
     ]
    },
    {
     "name": "stdout",
     "output_type": "stream",
     "text": [
      "CAV accuracy for pier concept (393): 0.9912\n",
      "[0804_132852] 292/623 Calculating CAV for crane\n",
      "Best accuracy: 0.8741557856821252 Regularization: 0.001\n",
      "Best accuracy: 0.9142278253039171 Regularization: 0.005\n",
      "Best accuracy: 0.9308869878433138 Regularization: 0.01\n",
      "Best accuracy: 0.9594777127420081 Regularization: 0.05\n",
      "Best accuracy: 0.9678072940117064 Regularization: 0.1\n",
      "Best accuracy: 0.979963980189104 Regularization: 0.5\n",
      "Best accuracy: 0.9819900945520036 Regularization: 1\n",
      "Best accuracy: 0.9844664565511031 Regularization: 3\n"
     ]
    },
    {
     "name": "stderr",
     "output_type": "stream",
     "text": [
      "292it [2:35:23, 28.42s/it]"
     ]
    },
    {
     "name": "stdout",
     "output_type": "stream",
     "text": [
      "Best accuracy: 0.9855920756416029 Regularization: 5\n",
      "CAV accuracy for crane concept (394): 0.9856\n",
      "[0804_132922] 293/623 Calculating CAV for fur\n",
      "Best accuracy: 1.0 Regularization: 0.001\n"
     ]
    },
    {
     "name": "stderr",
     "output_type": "stream",
     "text": [
      "293it [2:35:32, 22.80s/it]"
     ]
    },
    {
     "name": "stdout",
     "output_type": "stream",
     "text": [
      "CAV accuracy for fur concept (395): 1.0000\n",
      "[0804_132932] 294/623 Calculating CAV for tap\n",
      "Best accuracy: 0.939666816749212 Regularization: 0.001\n",
      "Best accuracy: 0.95047276001801 Regularization: 0.005\n",
      "Best accuracy: 0.9563259792886087 Regularization: 0.01\n",
      "Best accuracy: 0.9732102656461054 Regularization: 0.05\n",
      "Best accuracy: 0.9781629896443044 Regularization: 0.1\n",
      "Best accuracy: 0.9842413327330032 Regularization: 0.5\n",
      "Best accuracy: 0.9860423232778028 Regularization: 1\n",
      "Best accuracy: 0.9876181900045025 Regularization: 3\n"
     ]
    },
    {
     "name": "stderr",
     "output_type": "stream",
     "text": [
      "294it [2:36:00, 24.10s/it]"
     ]
    },
    {
     "name": "stdout",
     "output_type": "stream",
     "text": [
      "Best accuracy: 0.9885186852769023 Regularization: 5\n",
      "CAV accuracy for tap concept (397): 0.9885\n",
      "[0804_132959] 295/623 Calculating CAV for lower sash\n",
      "Best accuracy: 0.8619990995047276 Regularization: 0.001\n",
      "Best accuracy: 0.9070238631247186 Regularization: 0.005\n",
      "Best accuracy: 0.9239081494822152 Regularization: 0.01\n",
      "Best accuracy: 0.9540747411076091 Regularization: 0.05\n",
      "Best accuracy: 0.9635299414678073 Regularization: 0.1\n",
      "Best accuracy: 0.9765871229176046 Regularization: 0.5\n",
      "Best accuracy: 0.9786132372805043 Regularization: 1\n",
      "Best accuracy: 0.9808644754615038 Regularization: 3\n"
     ]
    },
    {
     "name": "stderr",
     "output_type": "stream",
     "text": [
      "295it [2:36:32, 26.67s/it]"
     ]
    },
    {
     "name": "stdout",
     "output_type": "stream",
     "text": [
      "Best accuracy: 0.9815398469158036 Regularization: 5\n",
      "CAV accuracy for lower sash concept (398): 0.9815\n",
      "[0804_133032] 296/623 Calculating CAV for statue\n",
      "Best accuracy: 0.8689779378658262 Regularization: 0.001\n",
      "Best accuracy: 0.9133273300315173 Regularization: 0.005\n",
      "Best accuracy: 0.9259342638451148 Regularization: 0.01\n",
      "Best accuracy: 0.955425484016209 Regularization: 0.05\n",
      "Best accuracy: 0.9626294461954075 Regularization: 0.1\n",
      "Best accuracy: 0.9765871229176046 Regularization: 0.5\n",
      "Best accuracy: 0.9797388563710041 Regularization: 1\n",
      "Best accuracy: 0.9817649707339037 Regularization: 3\n"
     ]
    },
    {
     "name": "stderr",
     "output_type": "stream",
     "text": [
      "296it [2:37:07, 29.18s/it]"
     ]
    },
    {
     "name": "stdout",
     "output_type": "stream",
     "text": [
      "Best accuracy: 0.9835659612787033 Regularization: 5\n",
      "CAV accuracy for statue concept (399): 0.9836\n",
      "[0804_133107] 297/623 Calculating CAV for postbox\n",
      "Best accuracy: 0.8581719945970284 Regularization: 0.001\n",
      "Best accuracy: 0.8910400720396218 Regularization: 0.005\n",
      "Best accuracy: 0.9079243583971184 Regularization: 0.01\n",
      "Best accuracy: 0.9446195407474111 Regularization: 0.05\n",
      "Best accuracy: 0.9520486267447096 Regularization: 0.1\n",
      "Best accuracy: 0.9693831607384061 Regularization: 0.5\n",
      "Best accuracy: 0.9736605132823053 Regularization: 1\n",
      "Best accuracy: 0.9783881134624043 Regularization: 3\n"
     ]
    },
    {
     "name": "stderr",
     "output_type": "stream",
     "text": [
      "297it [2:37:40, 30.26s/it]"
     ]
    },
    {
     "name": "stdout",
     "output_type": "stream",
     "text": [
      "Best accuracy: 0.9790634849167041 Regularization: 5\n",
      "CAV accuracy for postbox concept (400): 0.9791\n",
      "[0804_133140] 298/623 Calculating CAV for dome\n",
      "Best accuracy: 0.9362899594777128 Regularization: 0.001\n",
      "Best accuracy: 0.959927960378208 Regularization: 0.005\n",
      "Best accuracy: 0.9687077892841063 Regularization: 0.01\n",
      "Best accuracy: 0.9813147230977037 Regularization: 0.05\n",
      "Best accuracy: 0.9826654660063034 Regularization: 0.1\n",
      "Best accuracy: 0.9867176947321027 Regularization: 0.5\n",
      "Best accuracy: 0.9873930661864025 Regularization: 3\n"
     ]
    },
    {
     "name": "stderr",
     "output_type": "stream",
     "text": [
      "298it [2:38:08, 29.45s/it]"
     ]
    },
    {
     "name": "stdout",
     "output_type": "stream",
     "text": [
      "Best accuracy: 0.9880684376407024 Regularization: 5\n",
      "CAV accuracy for dome concept (401): 0.9881\n",
      "[0804_133207] 299/623 Calculating CAV for dormer\n",
      "Best accuracy: 0.904997748761819 Regularization: 0.001\n",
      "Best accuracy: 0.9362899594777128 Regularization: 0.005\n",
      "Best accuracy: 0.9484466456551103 Regularization: 0.01\n",
      "Best accuracy: 0.9671319225574065 Regularization: 0.05\n",
      "Best accuracy: 0.9736605132823053 Regularization: 0.1\n",
      "Best accuracy: 0.9817649707339037 Regularization: 0.5\n",
      "Best accuracy: 0.9819900945520036 Regularization: 1\n",
      "Best accuracy: 0.9840162089149032 Regularization: 3\n"
     ]
    },
    {
     "name": "stderr",
     "output_type": "stream",
     "text": [
      "299it [2:38:34, 28.61s/it]"
     ]
    },
    {
     "name": "stdout",
     "output_type": "stream",
     "text": [
      "Best accuracy: 0.984916704187303 Regularization: 5\n",
      "CAV accuracy for dormer concept (402): 0.9849\n",
      "[0804_133234] 300/623 Calculating CAV for console table\n",
      "Best accuracy: 0.9002701485817199 Regularization: 0.001\n",
      "Best accuracy: 0.930211616389014 Regularization: 0.005\n",
      "Best accuracy: 0.9405673120216119 Regularization: 0.01\n",
      "Best accuracy: 0.9610535794687078 Regularization: 0.05\n",
      "Best accuracy: 0.9684826654660063 Regularization: 0.1\n",
      "Best accuracy: 0.9808644754615038 Regularization: 0.5\n",
      "Best accuracy: 0.9837910850968032 Regularization: 1\n",
      "Best accuracy: 0.9860423232778028 Regularization: 3\n"
     ]
    },
    {
     "name": "stderr",
     "output_type": "stream",
     "text": [
      "300it [2:39:03, 28.55s/it]"
     ]
    },
    {
     "name": "stdout",
     "output_type": "stream",
     "text": [
      "CAV accuracy for console table concept (404): 0.9860\n",
      "[0804_133302] 301/623 Calculating CAV for trunk\n",
      "Best accuracy: 0.8628995947771274 Regularization: 0.001\n",
      "Best accuracy: 0.9056731202161189 Regularization: 0.005\n",
      "Best accuracy: 0.9209815398469158 Regularization: 0.01\n",
      "Best accuracy: 0.9520486267447096 Regularization: 0.05\n",
      "Best accuracy: 0.9590274651058082 Regularization: 0.1\n",
      "Best accuracy: 0.9716343989194057 Regularization: 0.5\n",
      "Best accuracy: 0.9774876181900045 Regularization: 1\n",
      "Best accuracy: 0.980414227825304 Regularization: 3\n"
     ]
    },
    {
     "name": "stderr",
     "output_type": "stream",
     "text": [
      "301it [2:39:36, 29.98s/it]"
     ]
    },
    {
     "name": "stdout",
     "output_type": "stream",
     "text": [
      "Best accuracy: 0.9819900945520036 Regularization: 5\n",
      "CAV accuracy for trunk concept (406): 0.9820\n",
      "[0804_133336] 302/623 Calculating CAV for camera\n",
      "Best accuracy: 0.9155785682125169 Regularization: 0.001\n",
      "Best accuracy: 0.9524988743809095 Regularization: 0.005\n",
      "Best accuracy: 0.9628545700135074 Regularization: 0.01\n",
      "Best accuracy: 0.9819900945520036 Regularization: 0.05\n",
      "Best accuracy: 0.9873930661864025 Regularization: 0.1\n",
      "Best accuracy: 0.9918955425484016 Regularization: 0.5\n",
      "Best accuracy: 0.9932462854570013 Regularization: 1\n",
      "Best accuracy: 0.994597028365601 Regularization: 3\n"
     ]
    },
    {
     "name": "stderr",
     "output_type": "stream",
     "text": [
      "302it [2:40:06, 30.04s/it]"
     ]
    },
    {
     "name": "stdout",
     "output_type": "stream",
     "text": [
      "CAV accuracy for camera concept (408): 0.9946\n",
      "[0804_133406] 303/623 Calculating CAV for microphone\n",
      "Best accuracy: 0.9488968932913102 Regularization: 0.001\n",
      "Best accuracy: 0.9669067987393066 Regularization: 0.005\n",
      "Best accuracy: 0.9756866276452049 Regularization: 0.01\n",
      "Best accuracy: 0.9867176947321027 Regularization: 0.05\n",
      "Best accuracy: 0.9887438090950023 Regularization: 0.1\n",
      "Best accuracy: 0.9930211616389014 Regularization: 0.5\n",
      "Best accuracy: 0.9932462854570013 Regularization: 1\n",
      "Best accuracy: 0.9939216569113012 Regularization: 3\n"
     ]
    },
    {
     "name": "stderr",
     "output_type": "stream",
     "text": [
      "303it [2:40:31, 28.37s/it]"
     ]
    },
    {
     "name": "stdout",
     "output_type": "stream",
     "text": [
      "Best accuracy: 0.9941467807294012 Regularization: 5\n",
      "CAV accuracy for microphone concept (409): 0.9941\n",
      "[0804_133430] 304/623 Calculating CAV for jacket\n",
      "Best accuracy: 0.9270598829356146 Regularization: 0.001\n",
      "Best accuracy: 0.9473210265646106 Regularization: 0.005\n",
      "Best accuracy: 0.9570013507429086 Regularization: 0.01\n",
      "Best accuracy: 0.9741107609185051 Regularization: 0.05\n",
      "Best accuracy: 0.9786132372805043 Regularization: 0.1\n",
      "Best accuracy: 0.984691580369203 Regularization: 0.5\n",
      "Best accuracy: 0.9855920756416029 Regularization: 1\n",
      "Best accuracy: 0.9862674470959027 Regularization: 3\n"
     ]
    },
    {
     "name": "stderr",
     "output_type": "stream",
     "text": [
      "304it [2:41:01, 28.99s/it]"
     ]
    },
    {
     "name": "stdout",
     "output_type": "stream",
     "text": [
      "CAV accuracy for jacket concept (411): 0.9863\n",
      "[0804_133501] 305/623 Calculating CAV for dishrag\n",
      "Best accuracy: 0.9612787032868078 Regularization: 0.001\n",
      "Best accuracy: 0.9693831607384061 Regularization: 0.005\n",
      "Best accuracy: 0.9716343989194057 Regularization: 0.01\n",
      "Best accuracy: 0.9786132372805043 Regularization: 0.05\n",
      "Best accuracy: 0.9808644754615038 Regularization: 0.1\n",
      "Best accuracy: 0.9862674470959027 Regularization: 0.5\n",
      "Best accuracy: 0.9876181900045025 Regularization: 1\n"
     ]
    },
    {
     "name": "stderr",
     "output_type": "stream",
     "text": [
      "305it [2:41:24, 27.22s/it]"
     ]
    },
    {
     "name": "stdout",
     "output_type": "stream",
     "text": [
      "CAV accuracy for dishrag concept (412): 0.9876\n",
      "[0804_133524] 306/623 Calculating CAV for fountain\n",
      "Best accuracy: 0.9272850067537145 Regularization: 0.001\n",
      "Best accuracy: 0.9552003601981089 Regularization: 0.005\n",
      "Best accuracy: 0.9648806843764071 Regularization: 0.01\n",
      "Best accuracy: 0.9772624943719046 Regularization: 0.05\n",
      "Best accuracy: 0.9808644754615038 Regularization: 0.1\n",
      "Best accuracy: 0.9855920756416029 Regularization: 0.5\n",
      "Best accuracy: 0.9867176947321027 Regularization: 1\n",
      "Best accuracy: 0.9889689329131022 Regularization: 3\n"
     ]
    },
    {
     "name": "stderr",
     "output_type": "stream",
     "text": [
      "306it [2:41:51, 27.19s/it]"
     ]
    },
    {
     "name": "stdout",
     "output_type": "stream",
     "text": [
      "Best accuracy: 0.9891940567312022 Regularization: 5\n",
      "CAV accuracy for fountain concept (415): 0.9892\n",
      "[0804_133551] 307/623 Calculating CAV for upper sash\n",
      "Best accuracy: 0.859972985141828 Regularization: 0.001\n",
      "Best accuracy: 0.9090499774876182 Regularization: 0.005\n",
      "Best accuracy: 0.9230076542098155 Regularization: 0.01\n",
      "Best accuracy: 0.9585772174696083 Regularization: 0.05\n",
      "Best accuracy: 0.9678072940117064 Regularization: 0.1\n",
      "Best accuracy: 0.9786132372805043 Regularization: 0.5\n",
      "Best accuracy: 0.9806393516434039 Regularization: 1\n",
      "Best accuracy: 0.9840162089149032 Regularization: 3\n"
     ]
    },
    {
     "name": "stderr",
     "output_type": "stream",
     "text": [
      "307it [2:42:23, 28.56s/it]"
     ]
    },
    {
     "name": "stdout",
     "output_type": "stream",
     "text": [
      "Best accuracy: 0.985366951823503 Regularization: 5\n",
      "CAV accuracy for upper sash concept (416): 0.9854\n",
      "[0804_133623] 308/623 Calculating CAV for paper towel\n",
      "Best accuracy: 0.9259342638451148 Regularization: 0.001\n",
      "Best accuracy: 0.9484466456551103 Regularization: 0.005\n",
      "Best accuracy: 0.9538496172895092 Regularization: 0.01\n",
      "Best accuracy: 0.9648806843764071 Regularization: 0.05\n",
      "Best accuracy: 0.9693831607384061 Regularization: 0.1\n",
      "Best accuracy: 0.9815398469158036 Regularization: 0.5\n",
      "Best accuracy: 0.9824403421882035 Regularization: 1\n",
      "Best accuracy: 0.9833408374606033 Regularization: 3\n"
     ]
    },
    {
     "name": "stderr",
     "output_type": "stream",
     "text": [
      "308it [2:42:55, 29.57s/it]"
     ]
    },
    {
     "name": "stdout",
     "output_type": "stream",
     "text": [
      "Best accuracy: 0.985141828005403 Regularization: 5\n",
      "CAV accuracy for paper towel concept (417): 0.9851\n",
      "[0804_133655] 309/623 Calculating CAV for washer\n",
      "Best accuracy: 0.9720846465556056 Regularization: 0.001\n",
      "Best accuracy: 0.9837910850968032 Regularization: 0.005\n",
      "Best accuracy: 0.9862674470959027 Regularization: 0.01\n",
      "Best accuracy: 0.9927960378208014 Regularization: 0.05\n",
      "Best accuracy: 0.9943719045475011 Regularization: 0.1\n",
      "Best accuracy: 0.9957226474561008 Regularization: 0.5\n",
      "Best accuracy: 0.9963980189104007 Regularization: 1\n"
     ]
    },
    {
     "name": "stderr",
     "output_type": "stream",
     "text": [
      "309it [2:43:16, 26.85s/it]"
     ]
    },
    {
     "name": "stdout",
     "output_type": "stream",
     "text": [
      "Best accuracy: 0.9968482665466006 Regularization: 5\n",
      "CAV accuracy for washer concept (418): 0.9968\n",
      "[0804_133715] 310/623 Calculating CAV for partition\n",
      "Best accuracy: 0.8768572714993246 Regularization: 0.001\n",
      "Best accuracy: 0.9241332733003151 Regularization: 0.005\n",
      "Best accuracy: 0.9362899594777128 Regularization: 0.01\n",
      "Best accuracy: 0.9583520936515083 Regularization: 0.05\n",
      "Best accuracy: 0.965105808194507 Regularization: 0.1\n",
      "Best accuracy: 0.9763619990995047 Regularization: 0.5\n",
      "Best accuracy: 0.9797388563710041 Regularization: 1\n",
      "Best accuracy: 0.9813147230977037 Regularization: 3\n"
     ]
    },
    {
     "name": "stderr",
     "output_type": "stream",
     "text": [
      "310it [2:43:49, 28.97s/it]"
     ]
    },
    {
     "name": "stdout",
     "output_type": "stream",
     "text": [
      "Best accuracy: 0.9822152183701035 Regularization: 5\n",
      "CAV accuracy for partition concept (419): 0.9822\n",
      "[0804_133749] 311/623 Calculating CAV for entrance\n",
      "Best accuracy: 0.8829356145880234 Regularization: 0.001\n",
      "Best accuracy: 0.920531292210716 Regularization: 0.005\n",
      "Best accuracy: 0.9340387212967132 Regularization: 0.01\n",
      "Best accuracy: 0.9572264745610085 Regularization: 0.05\n",
      "Best accuracy: 0.9637550652859073 Regularization: 0.1\n",
      "Best accuracy: 0.9763619990995047 Regularization: 0.5\n",
      "Best accuracy: 0.9790634849167041 Regularization: 1\n",
      "Best accuracy: 0.9842413327330032 Regularization: 3\n"
     ]
    },
    {
     "name": "stderr",
     "output_type": "stream",
     "text": [
      "311it [2:44:20, 29.38s/it]"
     ]
    },
    {
     "name": "stdout",
     "output_type": "stream",
     "text": [
      "Best accuracy: 0.985366951823503 Regularization: 5\n",
      "CAV accuracy for entrance concept (420): 0.9854\n",
      "[0804_133819] 312/623 Calculating CAV for banner\n",
      "Best accuracy: 0.8867627194957226 Regularization: 0.001\n",
      "Best accuracy: 0.9196307969383161 Regularization: 0.005\n",
      "Best accuracy: 0.9311121116614138 Regularization: 0.01\n",
      "Best accuracy: 0.9540747411076091 Regularization: 0.05\n",
      "Best accuracy: 0.9615038271049077 Regularization: 0.1\n",
      "Best accuracy: 0.9725348941918055 Regularization: 0.5\n",
      "Best accuracy: 0.9743358847366052 Regularization: 1\n",
      "Best accuracy: 0.9781629896443044 Regularization: 3\n"
     ]
    },
    {
     "name": "stderr",
     "output_type": "stream",
     "text": [
      "312it [2:44:52, 30.17s/it]"
     ]
    },
    {
     "name": "stdout",
     "output_type": "stream",
     "text": [
      "Best accuracy: 0.979963980189104 Regularization: 5\n",
      "CAV accuracy for banner concept (421): 0.9800\n",
      "[0804_133851] 313/623 Calculating CAV for runway\n",
      "Best accuracy: 0.9867176947321027 Regularization: 0.001\n",
      "Best accuracy: 0.9923457901846016 Regularization: 0.005\n",
      "Best accuracy: 0.9943719045475011 Regularization: 0.01\n",
      "Best accuracy: 0.9957226474561008 Regularization: 0.05\n",
      "Best accuracy: 0.9961728950923008 Regularization: 0.1\n",
      "Best accuracy: 0.9968482665466006 Regularization: 0.5\n"
     ]
    },
    {
     "name": "stderr",
     "output_type": "stream",
     "text": [
      "313it [2:45:11, 26.91s/it]"
     ]
    },
    {
     "name": "stdout",
     "output_type": "stream",
     "text": [
      "CAV accuracy for runway concept (422): 0.9968\n",
      "[0804_133911] 314/623 Calculating CAV for corner pocket\n",
      "Best accuracy: 0.9815398469158036 Regularization: 0.001\n",
      "Best accuracy: 0.9880684376407024 Regularization: 0.005\n",
      "Best accuracy: 0.9903196758217019 Regularization: 0.01\n",
      "Best accuracy: 0.9936965330932013 Regularization: 0.05\n",
      "Best accuracy: 0.9948221521837011 Regularization: 0.1\n"
     ]
    },
    {
     "name": "stderr",
     "output_type": "stream",
     "text": [
      "314it [2:45:31, 24.89s/it]"
     ]
    },
    {
     "name": "stdout",
     "output_type": "stream",
     "text": [
      "CAV accuracy for corner pocket concept (423): 0.9948\n",
      "[0804_133931] 315/623 Calculating CAV for tent\n",
      "Best accuracy: 0.985366951823503 Regularization: 0.001\n",
      "Best accuracy: 0.9934714092751014 Regularization: 0.005\n",
      "Best accuracy: 0.995047276001801 Regularization: 0.01\n",
      "Best accuracy: 0.9968482665466006 Regularization: 0.05\n",
      "Best accuracy: 0.9970733903647006 Regularization: 1\n",
      "Best accuracy: 0.9975236380009005 Regularization: 3\n"
     ]
    },
    {
     "name": "stderr",
     "output_type": "stream",
     "text": [
      "315it [2:45:51, 23.42s/it]"
     ]
    },
    {
     "name": "stdout",
     "output_type": "stream",
     "text": [
      "Best accuracy: 0.9977487618190004 Regularization: 5\n",
      "CAV accuracy for tent concept (425): 0.9977\n",
      "[0804_133951] 316/623 Calculating CAV for spindle\n",
      "Best accuracy: 0.885186852769023 Regularization: 0.001\n",
      "Best accuracy: 0.9288608734804142 Regularization: 0.005\n",
      "Best accuracy: 0.9414678072940117 Regularization: 0.01\n",
      "Best accuracy: 0.9624043223773076 Regularization: 0.05\n",
      "Best accuracy: 0.9684826654660063 Regularization: 0.1\n",
      "Best accuracy: 0.9790634849167041 Regularization: 0.5\n",
      "Best accuracy: 0.9815398469158036 Regularization: 1\n",
      "Best accuracy: 0.9842413327330032 Regularization: 3\n"
     ]
    },
    {
     "name": "stderr",
     "output_type": "stream",
     "text": [
      "316it [2:46:23, 25.89s/it]"
     ]
    },
    {
     "name": "stdout",
     "output_type": "stream",
     "text": [
      "Best accuracy: 0.985366951823503 Regularization: 5\n",
      "CAV accuracy for spindle concept (426): 0.9854\n",
      "[0804_134022] 317/623 Calculating CAV for towel rack\n",
      "Best accuracy: 0.9502476361999099 Regularization: 0.001\n",
      "Best accuracy: 0.9626294461954075 Regularization: 0.005\n",
      "Best accuracy: 0.9660063034669067 Regularization: 0.01\n",
      "Best accuracy: 0.9743358847366052 Regularization: 0.05\n",
      "Best accuracy: 0.9779378658262045 Regularization: 0.1\n",
      "Best accuracy: 0.985366951823503 Regularization: 0.5\n",
      "Best accuracy: 0.9871679423683025 Regularization: 1\n",
      "Best accuracy: 0.9882935614588023 Regularization: 3\n"
     ]
    },
    {
     "name": "stderr",
     "output_type": "stream",
     "text": [
      "317it [2:46:47, 25.42s/it]"
     ]
    },
    {
     "name": "stdout",
     "output_type": "stream",
     "text": [
      "Best accuracy: 0.9885186852769023 Regularization: 5\n",
      "CAV accuracy for towel rack concept (427): 0.9885\n",
      "[0804_134047] 318/623 Calculating CAV for waterfall\n",
      "Best accuracy: 0.9860423232778028 Regularization: 0.001\n",
      "Best accuracy: 0.9889689329131022 Regularization: 0.005\n",
      "Best accuracy: 0.9912201710941018 Regularization: 0.01\n",
      "Best accuracy: 0.9939216569113012 Regularization: 0.05\n",
      "Best accuracy: 0.9952723998199009 Regularization: 0.1\n",
      "Best accuracy: 0.9970733903647006 Regularization: 0.5\n",
      "Best accuracy: 0.9975236380009005 Regularization: 1\n"
     ]
    },
    {
     "name": "stderr",
     "output_type": "stream",
     "text": [
      "318it [2:47:03, 22.41s/it]"
     ]
    },
    {
     "name": "stdout",
     "output_type": "stream",
     "text": [
      "Best accuracy: 0.9977487618190004 Regularization: 5\n",
      "CAV accuracy for waterfall concept (432): 0.9977\n",
      "[0804_134102] 319/623 Calculating CAV for guitar\n",
      "Best accuracy: 0.939666816749212 Regularization: 0.001\n",
      "Best accuracy: 0.9705087798289059 Regularization: 0.005\n",
      "Best accuracy: 0.9772624943719046 Regularization: 0.01\n",
      "Best accuracy: 0.9880684376407024 Regularization: 0.05\n",
      "Best accuracy: 0.9916704187303017 Regularization: 0.1\n",
      "Best accuracy: 0.9948221521837011 Regularization: 0.5\n",
      "Best accuracy: 0.9954975236380009 Regularization: 1\n",
      "Best accuracy: 0.9963980189104007 Regularization: 3\n"
     ]
    },
    {
     "name": "stderr",
     "output_type": "stream",
     "text": [
      "319it [2:47:29, 23.49s/it]"
     ]
    },
    {
     "name": "stdout",
     "output_type": "stream",
     "text": [
      "CAV accuracy for guitar concept (433): 0.9964\n",
      "[0804_134128] 320/623 Calculating CAV for system\n",
      "Best accuracy: 0.8577217469608285 Regularization: 0.001\n",
      "Best accuracy: 0.9128770823953174 Regularization: 0.005\n",
      "Best accuracy: 0.9286357496623143 Regularization: 0.01\n",
      "Best accuracy: 0.9570013507429086 Regularization: 0.05\n",
      "Best accuracy: 0.9680324178298064 Regularization: 0.1\n",
      "Best accuracy: 0.9781629896443044 Regularization: 0.5\n",
      "Best accuracy: 0.9808644754615038 Regularization: 1\n",
      "Best accuracy: 0.9822152183701035 Regularization: 3\n"
     ]
    },
    {
     "name": "stderr",
     "output_type": "stream",
     "text": [
      "320it [2:48:03, 26.65s/it]"
     ]
    },
    {
     "name": "stdout",
     "output_type": "stream",
     "text": [
      "Best accuracy: 0.9828905898244035 Regularization: 5\n",
      "CAV accuracy for system concept (434): 0.9829\n",
      "[0804_134202] 321/623 Calculating CAV for place mat\n",
      "Best accuracy: 0.9425934263845115 Regularization: 0.001\n",
      "Best accuracy: 0.9594777127420081 Regularization: 0.005\n",
      "Best accuracy: 0.9673570463755066 Regularization: 0.01\n",
      "Best accuracy: 0.9786132372805043 Regularization: 0.05\n",
      "Best accuracy: 0.9826654660063034 Regularization: 0.1\n",
      "Best accuracy: 0.9882935614588023 Regularization: 0.5\n",
      "Best accuracy: 0.9894191805493021 Regularization: 1\n",
      "Best accuracy: 0.9912201710941018 Regularization: 3\n"
     ]
    },
    {
     "name": "stderr",
     "output_type": "stream",
     "text": [
      "321it [2:48:25, 25.51s/it]"
     ]
    },
    {
     "name": "stdout",
     "output_type": "stream",
     "text": [
      "Best accuracy: 0.9921206663665015 Regularization: 5\n",
      "CAV accuracy for place mat concept (435): 0.9921\n",
      "[0804_134225] 322/623 Calculating CAV for diffusor\n",
      "Best accuracy: 0.9149031967582171 Regularization: 0.001\n",
      "Best accuracy: 0.9457451598379109 Regularization: 0.005\n",
      "Best accuracy: 0.9590274651058082 Regularization: 0.01\n",
      "Best accuracy: 0.9745610085547051 Regularization: 0.05\n",
      "Best accuracy: 0.9777127420081044 Regularization: 0.1\n",
      "Best accuracy: 0.984691580369203 Regularization: 0.5\n",
      "Best accuracy: 0.985366951823503 Regularization: 1\n",
      "Best accuracy: 0.9871679423683025 Regularization: 3\n"
     ]
    },
    {
     "name": "stderr",
     "output_type": "stream",
     "text": [
      "322it [2:48:54, 26.37s/it]"
     ]
    },
    {
     "name": "stdout",
     "output_type": "stream",
     "text": [
      "Best accuracy: 0.9873930661864025 Regularization: 5\n",
      "CAV accuracy for diffusor concept (436): 0.9874\n",
      "[0804_134253] 323/623 Calculating CAV for bouquet\n",
      "Best accuracy: 0.894867176947321 Regularization: 0.001\n",
      "Best accuracy: 0.9324628545700135 Regularization: 0.005\n",
      "Best accuracy: 0.9464205312922107 Regularization: 0.01\n",
      "Best accuracy: 0.9684826654660063 Regularization: 0.05\n",
      "Best accuracy: 0.9736605132823053 Regularization: 0.1\n",
      "Best accuracy: 0.9824403421882035 Regularization: 0.5\n",
      "Best accuracy: 0.9842413327330032 Regularization: 1\n",
      "Best accuracy: 0.9860423232778028 Regularization: 3\n"
     ]
    },
    {
     "name": "stderr",
     "output_type": "stream",
     "text": [
      "323it [2:49:22, 26.84s/it]"
     ]
    },
    {
     "name": "stdout",
     "output_type": "stream",
     "text": [
      "Best accuracy: 0.9867176947321027 Regularization: 5\n",
      "CAV accuracy for bouquet concept (438): 0.9867\n",
      "[0804_134321] 324/623 Calculating CAV for side rail\n",
      "Best accuracy: 0.9232327780279154 Regularization: 0.001\n",
      "Best accuracy: 0.9477712742008104 Regularization: 0.005\n",
      "Best accuracy: 0.9552003601981089 Regularization: 0.01\n",
      "Best accuracy: 0.9729851418280054 Regularization: 0.05\n",
      "Best accuracy: 0.9759117514633048 Regularization: 0.1\n",
      "Best accuracy: 0.9862674470959027 Regularization: 0.5\n",
      "Best accuracy: 0.9880684376407024 Regularization: 1\n",
      "Best accuracy: 0.989644304367402 Regularization: 3\n"
     ]
    },
    {
     "name": "stderr",
     "output_type": "stream",
     "text": [
      "324it [2:49:47, 26.41s/it]"
     ]
    },
    {
     "name": "stdout",
     "output_type": "stream",
     "text": [
      "Best accuracy: 0.989869428185502 Regularization: 5\n",
      "CAV accuracy for side rail concept (439): 0.9899\n",
      "[0804_134347] 325/623 Calculating CAV for booth\n",
      "Best accuracy: 0.890139576767222 Regularization: 0.001\n",
      "Best accuracy: 0.9263845114813147 Regularization: 0.005\n",
      "Best accuracy: 0.9416929311121116 Regularization: 0.01\n",
      "Best accuracy: 0.9653309320126069 Regularization: 0.05\n",
      "Best accuracy: 0.9732102656461054 Regularization: 0.1\n",
      "Best accuracy: 0.9824403421882035 Regularization: 0.5\n",
      "Best accuracy: 0.9840162089149032 Regularization: 1\n",
      "Best accuracy: 0.9858171994597028 Regularization: 3\n"
     ]
    },
    {
     "name": "stderr",
     "output_type": "stream",
     "text": [
      "325it [2:50:19, 27.89s/it]"
     ]
    },
    {
     "name": "stdout",
     "output_type": "stream",
     "text": [
      "Best accuracy: 0.9864925709140027 Regularization: 5\n",
      "CAV accuracy for booth concept (441): 0.9865\n",
      "[0804_134418] 326/623 Calculating CAV for dirt track\n",
      "Best accuracy: 0.9281855020261144 Regularization: 0.001\n",
      "Best accuracy: 0.9590274651058082 Regularization: 0.005\n",
      "Best accuracy: 0.9682575416479063 Regularization: 0.01\n",
      "Best accuracy: 0.9779378658262045 Regularization: 0.05\n",
      "Best accuracy: 0.9840162089149032 Regularization: 0.1\n",
      "Best accuracy: 0.9880684376407024 Regularization: 0.5\n",
      "Best accuracy: 0.9891940567312022 Regularization: 1\n",
      "Best accuracy: 0.9909950472760019 Regularization: 3\n"
     ]
    },
    {
     "name": "stderr",
     "output_type": "stream",
     "text": [
      "326it [2:50:45, 27.45s/it]"
     ]
    },
    {
     "name": "stdout",
     "output_type": "stream",
     "text": [
      "CAV accuracy for dirt track concept (442): 0.9910\n",
      "[0804_134444] 327/623 Calculating CAV for vending machine\n",
      "Best accuracy: 0.9002701485817199 Regularization: 0.001\n",
      "Best accuracy: 0.9374155785682126 Regularization: 0.005\n",
      "Best accuracy: 0.9502476361999099 Regularization: 0.01\n",
      "Best accuracy: 0.9702836560108059 Regularization: 0.05\n",
      "Best accuracy: 0.975011256190905 Regularization: 0.1\n",
      "Best accuracy: 0.984916704187303 Regularization: 0.5\n",
      "Best accuracy: 0.9858171994597028 Regularization: 1\n",
      "Best accuracy: 0.9864925709140027 Regularization: 3\n"
     ]
    },
    {
     "name": "stderr",
     "output_type": "stream",
     "text": [
      "327it [2:51:13, 27.68s/it]"
     ]
    },
    {
     "name": "stdout",
     "output_type": "stream",
     "text": [
      "Best accuracy: 0.9867176947321027 Regularization: 5\n",
      "CAV accuracy for vending machine concept (443): 0.9867\n",
      "[0804_134513] 328/623 Calculating CAV for deck chair\n",
      "Best accuracy: 0.9468707789284107 Regularization: 0.001\n",
      "Best accuracy: 0.9630796938316074 Regularization: 0.005\n",
      "Best accuracy: 0.9711841512832058 Regularization: 0.01\n",
      "Best accuracy: 0.9840162089149032 Regularization: 0.05\n",
      "Best accuracy: 0.9880684376407024 Regularization: 0.1\n",
      "Best accuracy: 0.9912201710941018 Regularization: 0.5\n",
      "Best accuracy: 0.9918955425484016 Regularization: 1\n"
     ]
    },
    {
     "name": "stderr",
     "output_type": "stream",
     "text": [
      "328it [2:51:39, 27.18s/it]"
     ]
    },
    {
     "name": "stdout",
     "output_type": "stream",
     "text": [
      "Best accuracy: 0.9921206663665015 Regularization: 5\n",
      "CAV accuracy for deck chair concept (445): 0.9921\n",
      "[0804_134539] 329/623 Calculating CAV for canister\n",
      "Best accuracy: 0.9362899594777128 Regularization: 0.001\n",
      "Best accuracy: 0.9511481314723098 Regularization: 0.005\n",
      "Best accuracy: 0.9574515983791085 Regularization: 0.01\n",
      "Best accuracy: 0.9702836560108059 Regularization: 0.05\n",
      "Best accuracy: 0.9756866276452049 Regularization: 0.1\n",
      "Best accuracy: 0.9824403421882035 Regularization: 0.5\n",
      "Best accuracy: 0.9844664565511031 Regularization: 1\n",
      "Best accuracy: 0.9871679423683025 Regularization: 3\n"
     ]
    },
    {
     "name": "stderr",
     "output_type": "stream",
     "text": [
      "329it [2:52:07, 27.42s/it]"
     ]
    },
    {
     "name": "stdout",
     "output_type": "stream",
     "text": [
      "Best accuracy: 0.9878433138226025 Regularization: 5\n",
      "CAV accuracy for canister concept (446): 0.9878\n",
      "[0804_134607] 330/623 Calculating CAV for hovel\n",
      "Best accuracy: 0.9286357496623143 Regularization: 0.001\n",
      "Best accuracy: 0.9563259792886087 Regularization: 0.005\n",
      "Best accuracy: 0.9657811796488068 Regularization: 0.01\n",
      "Best accuracy: 0.9792886087348042 Regularization: 0.05\n",
      "Best accuracy: 0.9824403421882035 Regularization: 0.1\n",
      "Best accuracy: 0.9873930661864025 Regularization: 0.5\n",
      "Best accuracy: 0.9876181900045025 Regularization: 1\n",
      "Best accuracy: 0.9887438090950023 Regularization: 3\n"
     ]
    },
    {
     "name": "stderr",
     "output_type": "stream",
     "text": [
      "330it [2:52:33, 26.79s/it]"
     ]
    },
    {
     "name": "stdout",
     "output_type": "stream",
     "text": [
      "Best accuracy: 0.9889689329131022 Regularization: 5\n",
      "CAV accuracy for hovel concept (447): 0.9890\n",
      "[0804_134632] 331/623 Calculating CAV for skylight\n",
      "Best accuracy: 0.8863124718595228 Regularization: 0.001\n",
      "Best accuracy: 0.9281855020261144 Regularization: 0.005\n",
      "Best accuracy: 0.9441692931112111 Regularization: 0.01\n",
      "Best accuracy: 0.964655560558307 Regularization: 0.05\n",
      "Best accuracy: 0.9691580369203062 Regularization: 0.1\n",
      "Best accuracy: 0.980414227825304 Regularization: 0.5\n",
      "Best accuracy: 0.9826654660063034 Regularization: 1\n",
      "Best accuracy: 0.9860423232778028 Regularization: 3\n"
     ]
    },
    {
     "name": "stderr",
     "output_type": "stream",
     "text": [
      "331it [2:53:07, 28.97s/it]"
     ]
    },
    {
     "name": "stdout",
     "output_type": "stream",
     "text": [
      "Best accuracy: 0.9862674470959027 Regularization: 5\n",
      "CAV accuracy for skylight concept (448): 0.9863\n",
      "[0804_134706] 332/623 Calculating CAV for helmet\n",
      "Best accuracy: 0.9673570463755066 Regularization: 0.001\n",
      "Best accuracy: 0.9855920756416029 Regularization: 0.005\n",
      "Best accuracy: 0.990094552003602 Regularization: 0.01\n",
      "Best accuracy: 0.9952723998199009 Regularization: 0.05\n",
      "Best accuracy: 0.9963980189104007 Regularization: 0.1\n",
      "Best accuracy: 0.9977487618190004 Regularization: 0.5\n",
      "Best accuracy: 0.9981990094552003 Regularization: 1\n"
     ]
    },
    {
     "name": "stderr",
     "output_type": "stream",
     "text": [
      "332it [2:53:31, 27.48s/it]"
     ]
    },
    {
     "name": "stdout",
     "output_type": "stream",
     "text": [
      "CAV accuracy for helmet concept (449): 0.9982\n",
      "[0804_134730] 333/623 Calculating CAV for telephone booth\n",
      "Best accuracy: 0.8827104907699235 Regularization: 0.001\n",
      "Best accuracy: 0.9153534443944169 Regularization: 0.005\n",
      "Best accuracy: 0.9331382260243134 Regularization: 0.01\n",
      "Best accuracy: 0.959927960378208 Regularization: 0.05\n",
      "Best accuracy: 0.9675821701936065 Regularization: 0.1\n",
      "Best accuracy: 0.9777127420081044 Regularization: 0.5\n",
      "Best accuracy: 0.9817649707339037 Regularization: 1\n",
      "Best accuracy: 0.9837910850968032 Regularization: 3\n"
     ]
    },
    {
     "name": "stderr",
     "output_type": "stream",
     "text": [
      "333it [2:53:59, 27.84s/it]"
     ]
    },
    {
     "name": "stdout",
     "output_type": "stream",
     "text": [
      "CAV accuracy for telephone booth concept (450): 0.9838\n",
      "[0804_134759] 334/623 Calculating CAV for net\n",
      "Best accuracy: 0.9736605132823053 Regularization: 0.001\n",
      "Best accuracy: 0.9824403421882035 Regularization: 0.005\n",
      "Best accuracy: 0.9878433138226025 Regularization: 0.01\n",
      "Best accuracy: 0.9936965330932013 Regularization: 0.05\n",
      "Best accuracy: 0.9939216569113012 Regularization: 0.1\n",
      "Best accuracy: 0.994597028365601 Regularization: 0.5\n",
      "Best accuracy: 0.995047276001801 Regularization: 1\n",
      "Best accuracy: 0.9957226474561008 Regularization: 3\n"
     ]
    },
    {
     "name": "stderr",
     "output_type": "stream",
     "text": [
      "334it [2:54:21, 25.98s/it]"
     ]
    },
    {
     "name": "stdout",
     "output_type": "stream",
     "text": [
      "Best accuracy: 0.9961728950923008 Regularization: 5\n",
      "CAV accuracy for net concept (451): 0.9962\n",
      "[0804_134820] 335/623 Calculating CAV for shirt\n",
      "Best accuracy: 0.9790634849167041 Regularization: 0.001\n",
      "Best accuracy: 0.9869428185502026 Regularization: 0.005\n",
      "Best accuracy: 0.9894191805493021 Regularization: 0.01\n",
      "Best accuracy: 0.9923457901846016 Regularization: 0.05\n",
      "Best accuracy: 0.9939216569113012 Regularization: 0.1\n",
      "Best accuracy: 0.9952723998199009 Regularization: 0.5\n",
      "Best accuracy: 0.9954975236380009 Regularization: 3\n"
     ]
    },
    {
     "name": "stderr",
     "output_type": "stream",
     "text": [
      "335it [2:54:44, 24.97s/it]"
     ]
    },
    {
     "name": "stdout",
     "output_type": "stream",
     "text": [
      "CAV accuracy for shirt concept (452): 0.9955\n",
      "[0804_134843] 336/623 Calculating CAV for cradle\n",
      "Best accuracy: 0.9840162089149032 Regularization: 0.001\n",
      "Best accuracy: 0.9912201710941018 Regularization: 0.005\n",
      "Best accuracy: 0.9934714092751014 Regularization: 0.01\n",
      "Best accuracy: 0.9963980189104007 Regularization: 0.05\n",
      "Best accuracy: 0.9975236380009005 Regularization: 0.1\n",
      "Best accuracy: 0.9984241332733003 Regularization: 0.5\n",
      "Best accuracy: 0.9986492570914003 Regularization: 3\n"
     ]
    },
    {
     "name": "stderr",
     "output_type": "stream",
     "text": [
      "336it [2:55:02, 23.01s/it]"
     ]
    },
    {
     "name": "stdout",
     "output_type": "stream",
     "text": [
      "CAV accuracy for cradle concept (454): 0.9986\n",
      "[0804_134901] 337/623 Calculating CAV for candelabrum\n",
      "Best accuracy: 0.9126519585772175 Regularization: 0.001\n",
      "Best accuracy: 0.9425934263845115 Regularization: 0.005\n",
      "Best accuracy: 0.9536244934714093 Regularization: 0.01\n",
      "Best accuracy: 0.9738856371004052 Regularization: 0.05\n",
      "Best accuracy: 0.9790634849167041 Regularization: 0.1\n",
      "Best accuracy: 0.9871679423683025 Regularization: 0.5\n",
      "Best accuracy: 0.9878433138226025 Regularization: 1\n",
      "Best accuracy: 0.9889689329131022 Regularization: 3\n"
     ]
    },
    {
     "name": "stderr",
     "output_type": "stream",
     "text": [
      "337it [2:55:30, 24.47s/it]"
     ]
    },
    {
     "name": "stdout",
     "output_type": "stream",
     "text": [
      "Best accuracy: 0.9894191805493021 Regularization: 5\n",
      "CAV accuracy for candelabrum concept (455): 0.9894\n",
      "[0804_134929] 338/623 Calculating CAV for easel\n",
      "Best accuracy: 0.9398919405673121 Regularization: 0.001\n",
      "Best accuracy: 0.9628545700135074 Regularization: 0.005\n",
      "Best accuracy: 0.9718595227375056 Regularization: 0.01\n",
      "Best accuracy: 0.9842413327330032 Regularization: 0.05\n",
      "Best accuracy: 0.9864925709140027 Regularization: 0.1\n",
      "Best accuracy: 0.9921206663665015 Regularization: 0.5\n",
      "Best accuracy: 0.9925709140027015 Regularization: 1\n",
      "Best accuracy: 0.9936965330932013 Regularization: 3\n"
     ]
    },
    {
     "name": "stderr",
     "output_type": "stream",
     "text": [
      "338it [2:55:53, 24.02s/it]"
     ]
    },
    {
     "name": "stdout",
     "output_type": "stream",
     "text": [
      "CAV accuracy for easel concept (458): 0.9937\n",
      "[0804_134952] 339/623 Calculating CAV for cart\n",
      "Best accuracy: 0.9414678072940117 Regularization: 0.001\n",
      "Best accuracy: 0.9691580369203062 Regularization: 0.005\n",
      "Best accuracy: 0.9761368752814048 Regularization: 0.01\n",
      "Best accuracy: 0.9860423232778028 Regularization: 0.05\n",
      "Best accuracy: 0.9885186852769023 Regularization: 0.1\n",
      "Best accuracy: 0.9918955425484016 Regularization: 0.5\n",
      "Best accuracy: 0.9925709140027015 Regularization: 1\n",
      "Best accuracy: 0.9932462854570013 Regularization: 3\n"
     ]
    },
    {
     "name": "stderr",
     "output_type": "stream",
     "text": [
      "339it [2:56:19, 24.54s/it]"
     ]
    },
    {
     "name": "stdout",
     "output_type": "stream",
     "text": [
      "Best accuracy: 0.9934714092751014 Regularization: 5\n",
      "CAV accuracy for cart concept (461): 0.9935\n",
      "[0804_135018] 340/623 Calculating CAV for newspaper\n",
      "Best accuracy: 0.9311121116614138 Regularization: 0.001\n",
      "Best accuracy: 0.9657811796488068 Regularization: 0.005\n",
      "Best accuracy: 0.9777127420081044 Regularization: 0.01\n",
      "Best accuracy: 0.9869428185502026 Regularization: 0.05\n",
      "Best accuracy: 0.989644304367402 Regularization: 0.1\n",
      "Best accuracy: 0.9923457901846016 Regularization: 0.5\n",
      "Best accuracy: 0.9930211616389014 Regularization: 1\n",
      "Best accuracy: 0.9936965330932013 Regularization: 3\n"
     ]
    },
    {
     "name": "stderr",
     "output_type": "stream",
     "text": [
      "340it [2:56:44, 24.88s/it]"
     ]
    },
    {
     "name": "stdout",
     "output_type": "stream",
     "text": [
      "CAV accuracy for newspaper concept (462): 0.9937\n",
      "[0804_135044] 341/623 Calculating CAV for cross\n",
      "Best accuracy: 0.9529491220171095 Regularization: 0.001\n",
      "Best accuracy: 0.9662314272850068 Regularization: 0.005\n",
      "Best accuracy: 0.9707339036470058 Regularization: 0.01\n",
      "Best accuracy: 0.9864925709140027 Regularization: 0.05\n",
      "Best accuracy: 0.9882935614588023 Regularization: 0.1\n",
      "Best accuracy: 0.9907699234579018 Regularization: 0.5\n",
      "Best accuracy: 0.9912201710941018 Regularization: 1\n",
      "Best accuracy: 0.9923457901846016 Regularization: 3\n"
     ]
    },
    {
     "name": "stderr",
     "output_type": "stream",
     "text": [
      "341it [2:57:10, 25.02s/it]"
     ]
    },
    {
     "name": "stdout",
     "output_type": "stream",
     "text": [
      "Best accuracy: 0.9925709140027015 Regularization: 5\n",
      "CAV accuracy for cross concept (463): 0.9926\n",
      "[0804_135109] 342/623 Calculating CAV for smoke\n",
      "Best accuracy: 0.9903196758217019 Regularization: 0.001\n",
      "Best accuracy: 0.9961728950923008 Regularization: 0.005\n",
      "Best accuracy: 0.9972985141828006 Regularization: 0.01\n",
      "Best accuracy: 0.9988743809095002 Regularization: 0.05\n",
      "Best accuracy: 0.9993246285457001 Regularization: 0.5\n",
      "Best accuracy: 0.9995497523638001 Regularization: 3\n"
     ]
    },
    {
     "name": "stderr",
     "output_type": "stream",
     "text": [
      "342it [2:57:26, 22.47s/it]"
     ]
    },
    {
     "name": "stdout",
     "output_type": "stream",
     "text": [
      "CAV accuracy for smoke concept (464): 0.9995\n",
      "[0804_135126] 343/623 Calculating CAV for footbridge\n",
      "Best accuracy: 0.9144529491220171 Regularization: 0.001\n",
      "Best accuracy: 0.9531742458352094 Regularization: 0.005\n",
      "Best accuracy: 0.9628545700135074 Regularization: 0.01\n",
      "Best accuracy: 0.9763619990995047 Regularization: 0.05\n",
      "Best accuracy: 0.979963980189104 Regularization: 0.1\n",
      "Best accuracy: 0.9876181900045025 Regularization: 0.5\n",
      "Best accuracy: 0.9882935614588023 Regularization: 1\n",
      "Best accuracy: 0.9894191805493021 Regularization: 3\n"
     ]
    },
    {
     "name": "stderr",
     "output_type": "stream",
     "text": [
      "343it [2:57:55, 24.33s/it]"
     ]
    },
    {
     "name": "stdout",
     "output_type": "stream",
     "text": [
      "Best accuracy: 0.990094552003602 Regularization: 5\n",
      "CAV accuracy for footbridge concept (465): 0.9901\n",
      "[0804_135154] 344/623 Calculating CAV for casing\n",
      "Best accuracy: 0.8563710040522288 Regularization: 0.001\n",
      "Best accuracy: 0.9076992345790185 Regularization: 0.005\n",
      "Best accuracy: 0.9272850067537145 Regularization: 0.01\n",
      "Best accuracy: 0.960153084196308 Regularization: 0.05\n",
      "Best accuracy: 0.9680324178298064 Regularization: 0.1\n",
      "Best accuracy: 0.9815398469158036 Regularization: 0.5\n",
      "Best accuracy: 0.9831157136425034 Regularization: 1\n",
      "Best accuracy: 0.9844664565511031 Regularization: 3\n"
     ]
    },
    {
     "name": "stderr",
     "output_type": "stream",
     "text": [
      "344it [2:58:26, 26.54s/it]"
     ]
    },
    {
     "name": "stdout",
     "output_type": "stream",
     "text": [
      "Best accuracy: 0.985141828005403 Regularization: 5\n",
      "CAV accuracy for casing concept (466): 0.9851\n",
      "[0804_135226] 345/623 Calculating CAV for arcade machine\n",
      "Best accuracy: 0.9747861323728051 Regularization: 0.001\n",
      "Best accuracy: 0.9824403421882035 Regularization: 0.005\n",
      "Best accuracy: 0.985366951823503 Regularization: 0.01\n",
      "Best accuracy: 0.989869428185502 Regularization: 0.05\n",
      "Best accuracy: 0.9903196758217019 Regularization: 0.1\n",
      "Best accuracy: 0.9925709140027015 Regularization: 0.5\n",
      "Best accuracy: 0.9927960378208014 Regularization: 1\n",
      "Best accuracy: 0.9936965330932013 Regularization: 3\n"
     ]
    },
    {
     "name": "stderr",
     "output_type": "stream",
     "text": [
      "345it [2:58:48, 25.13s/it]"
     ]
    },
    {
     "name": "stdout",
     "output_type": "stream",
     "text": [
      "CAV accuracy for arcade machine concept (468): 0.9937\n",
      "[0804_135248] 346/623 Calculating CAV for machine\n",
      "Best accuracy: 0.9331382260243134 Regularization: 0.001\n",
      "Best accuracy: 0.9581269698334084 Regularization: 0.005\n",
      "Best accuracy: 0.9642053129221072 Regularization: 0.01\n",
      "Best accuracy: 0.9788383610986042 Regularization: 0.05\n",
      "Best accuracy: 0.9826654660063034 Regularization: 0.1\n",
      "Best accuracy: 0.9871679423683025 Regularization: 0.5\n",
      "Best accuracy: 0.9885186852769023 Regularization: 1\n",
      "Best accuracy: 0.9903196758217019 Regularization: 3\n"
     ]
    },
    {
     "name": "stderr",
     "output_type": "stream",
     "text": [
      "346it [2:59:18, 26.39s/it]"
     ]
    },
    {
     "name": "stdout",
     "output_type": "stream",
     "text": [
      "Best accuracy: 0.9905447996398019 Regularization: 5\n",
      "CAV accuracy for machine concept (469): 0.9905\n",
      "[0804_135317] 347/623 Calculating CAV for baby buggy\n",
      "Best accuracy: 0.9122017109410175 Regularization: 0.001\n",
      "Best accuracy: 0.9428185502026114 Regularization: 0.005\n",
      "Best accuracy: 0.9540747411076091 Regularization: 0.01\n",
      "Best accuracy: 0.9718595227375056 Regularization: 0.05\n",
      "Best accuracy: 0.9781629896443044 Regularization: 0.1\n",
      "Best accuracy: 0.9864925709140027 Regularization: 0.5\n",
      "Best accuracy: 0.9869428185502026 Regularization: 1\n",
      "Best accuracy: 0.9878433138226025 Regularization: 3\n"
     ]
    },
    {
     "name": "stderr",
     "output_type": "stream",
     "text": [
      "347it [2:59:45, 26.60s/it]"
     ]
    },
    {
     "name": "stdout",
     "output_type": "stream",
     "text": [
      "Best accuracy: 0.9891940567312022 Regularization: 5\n",
      "CAV accuracy for baby buggy concept (470): 0.9892\n",
      "[0804_135344] 348/623 Calculating CAV for tank\n",
      "Best accuracy: 0.9275101305718145 Regularization: 0.001\n",
      "Best accuracy: 0.9565511031067087 Regularization: 0.005\n",
      "Best accuracy: 0.9664565511031067 Regularization: 0.01\n",
      "Best accuracy: 0.9824403421882035 Regularization: 0.05\n",
      "Best accuracy: 0.985141828005403 Regularization: 0.1\n",
      "Best accuracy: 0.9909950472760019 Regularization: 0.5\n",
      "Best accuracy: 0.9921206663665015 Regularization: 1\n",
      "Best accuracy: 0.9934714092751014 Regularization: 3\n"
     ]
    },
    {
     "name": "stderr",
     "output_type": "stream",
     "text": [
      "348it [3:00:12, 26.93s/it]"
     ]
    },
    {
     "name": "stdout",
     "output_type": "stream",
     "text": [
      "Best accuracy: 0.9936965330932013 Regularization: 5\n",
      "CAV accuracy for tank concept (471): 0.9937\n",
      "[0804_135412] 349/623 Calculating CAV for shower stall\n",
      "Best accuracy: 0.9583520936515083 Regularization: 0.001\n",
      "Best accuracy: 0.9691580369203062 Regularization: 0.005\n",
      "Best accuracy: 0.9734353894642053 Regularization: 0.01\n",
      "Best accuracy: 0.9810895992796038 Regularization: 0.05\n",
      "Best accuracy: 0.9855920756416029 Regularization: 0.1\n",
      "Best accuracy: 0.9907699234579018 Regularization: 0.5\n",
      "Best accuracy: 0.9916704187303017 Regularization: 1\n",
      "Best accuracy: 0.9925709140027015 Regularization: 3\n"
     ]
    },
    {
     "name": "stderr",
     "output_type": "stream",
     "text": [
      "349it [3:00:35, 25.72s/it]"
     ]
    },
    {
     "name": "stdout",
     "output_type": "stream",
     "text": [
      "CAV accuracy for shower stall concept (472): 0.9926\n",
      "[0804_135435] 350/623 Calculating CAV for swimming pool\n",
      "Best accuracy: 0.9882935614588023 Regularization: 0.001\n",
      "Best accuracy: 0.9925709140027015 Regularization: 0.005\n",
      "Best accuracy: 0.9941467807294012 Regularization: 0.01\n",
      "Best accuracy: 0.995047276001801 Regularization: 0.05\n",
      "Best accuracy: 0.9957226474561008 Regularization: 0.5\n",
      "Best accuracy: 0.9961728950923008 Regularization: 1\n",
      "Best accuracy: 0.9963980189104007 Regularization: 3\n"
     ]
    },
    {
     "name": "stderr",
     "output_type": "stream",
     "text": [
      "350it [3:00:56, 24.20s/it]"
     ]
    },
    {
     "name": "stdout",
     "output_type": "stream",
     "text": [
      "CAV accuracy for swimming pool concept (473): 0.9964\n",
      "[0804_135455] 351/623 Calculating CAV for sales booth\n",
      "Best accuracy: 0.9567762269248087 Regularization: 0.001\n",
      "Best accuracy: 0.9741107609185051 Regularization: 0.005\n",
      "Best accuracy: 0.9801891040072039 Regularization: 0.01\n",
      "Best accuracy: 0.9876181900045025 Regularization: 0.05\n",
      "Best accuracy: 0.9889689329131022 Regularization: 0.1\n",
      "Best accuracy: 0.9914452949122017 Regularization: 0.5\n",
      "Best accuracy: 0.9923457901846016 Regularization: 3\n"
     ]
    },
    {
     "name": "stderr",
     "output_type": "stream",
     "text": [
      "351it [3:01:19, 23.85s/it]"
     ]
    },
    {
     "name": "stdout",
     "output_type": "stream",
     "text": [
      "Best accuracy: 0.9925709140027015 Regularization: 5\n",
      "CAV accuracy for sales booth concept (474): 0.9926\n",
      "[0804_135519] 352/623 Calculating CAV for scaffolding\n",
      "Best accuracy: 0.919855920756416 Regularization: 0.001\n",
      "Best accuracy: 0.9585772174696083 Regularization: 0.005\n",
      "Best accuracy: 0.9662314272850068 Regularization: 0.01\n",
      "Best accuracy: 0.9790634849167041 Regularization: 0.05\n",
      "Best accuracy: 0.9819900945520036 Regularization: 0.1\n",
      "Best accuracy: 0.9867176947321027 Regularization: 0.5\n",
      "Best accuracy: 0.9882935614588023 Regularization: 1\n",
      "Best accuracy: 0.989869428185502 Regularization: 3\n"
     ]
    },
    {
     "name": "stderr",
     "output_type": "stream",
     "text": [
      "352it [3:01:45, 24.47s/it]"
     ]
    },
    {
     "name": "stdout",
     "output_type": "stream",
     "text": [
      "Best accuracy: 0.9903196758217019 Regularization: 5\n",
      "CAV accuracy for scaffolding concept (475): 0.9903\n",
      "[0804_135544] 353/623 Calculating CAV for sill\n",
      "Best accuracy: 0.8779828905898244 Regularization: 0.001\n",
      "Best accuracy: 0.9338135974786133 Regularization: 0.005\n",
      "Best accuracy: 0.95002251238181 Regularization: 0.01\n",
      "Best accuracy: 0.9720846465556056 Regularization: 0.05\n",
      "Best accuracy: 0.9779378658262045 Regularization: 0.1\n",
      "Best accuracy: 0.984916704187303 Regularization: 0.5\n",
      "Best accuracy: 0.9862674470959027 Regularization: 1\n",
      "Best accuracy: 0.9878433138226025 Regularization: 3\n"
     ]
    },
    {
     "name": "stderr",
     "output_type": "stream",
     "text": [
      "353it [3:02:14, 25.99s/it]"
     ]
    },
    {
     "name": "stdout",
     "output_type": "stream",
     "text": [
      "Best accuracy: 0.9885186852769023 Regularization: 5\n",
      "CAV accuracy for sill concept (476): 0.9885\n",
      "[0804_135614] 354/623 Calculating CAV for patty\n",
      "Best accuracy: 0.9671319225574065 Regularization: 0.001\n",
      "Best accuracy: 0.9819900945520036 Regularization: 0.005\n",
      "Best accuracy: 0.9855920756416029 Regularization: 0.01\n",
      "Best accuracy: 0.9921206663665015 Regularization: 0.05\n",
      "Best accuracy: 0.9936965330932013 Regularization: 0.1\n",
      "Best accuracy: 0.9957226474561008 Regularization: 0.5\n",
      "Best accuracy: 0.9959477712742009 Regularization: 1\n",
      "Best accuracy: 0.9963980189104007 Regularization: 3\n"
     ]
    },
    {
     "name": "stderr",
     "output_type": "stream",
     "text": [
      "354it [3:02:37, 25.05s/it]"
     ]
    },
    {
     "name": "stdout",
     "output_type": "stream",
     "text": [
      "CAV accuracy for patty concept (480): 0.9964\n",
      "[0804_135637] 355/623 Calculating CAV for altar\n",
      "Best accuracy: 0.9837910850968032 Regularization: 0.001\n",
      "Best accuracy: 0.9885186852769023 Regularization: 0.005\n",
      "Best accuracy: 0.9907699234579018 Regularization: 0.01\n",
      "Best accuracy: 0.994597028365601 Regularization: 0.05\n",
      "Best accuracy: 0.9961728950923008 Regularization: 0.1\n",
      "Best accuracy: 0.9975236380009005 Regularization: 0.5\n"
     ]
    },
    {
     "name": "stderr",
     "output_type": "stream",
     "text": [
      "355it [3:02:56, 23.04s/it]"
     ]
    },
    {
     "name": "stdout",
     "output_type": "stream",
     "text": [
      "CAV accuracy for altar concept (481): 0.9975\n",
      "[0804_135655] 356/623 Calculating CAV for streetcar\n",
      "Best accuracy: 0.9270598829356146 Regularization: 0.001\n",
      "Best accuracy: 0.9574515983791085 Regularization: 0.005\n",
      "Best accuracy: 0.9666816749212067 Regularization: 0.01\n",
      "Best accuracy: 0.9813147230977037 Regularization: 0.05\n",
      "Best accuracy: 0.9862674470959027 Regularization: 0.1\n",
      "Best accuracy: 0.989869428185502 Regularization: 0.5\n",
      "Best accuracy: 0.9905447996398019 Regularization: 1\n",
      "Best accuracy: 0.9921206663665015 Regularization: 3\n"
     ]
    },
    {
     "name": "stderr",
     "output_type": "stream",
     "text": [
      "356it [3:03:21, 23.83s/it]"
     ]
    },
    {
     "name": "stdout",
     "output_type": "stream",
     "text": [
      "Best accuracy: 0.9925709140027015 Regularization: 5\n",
      "CAV accuracy for streetcar concept (483): 0.9926\n",
      "[0804_135721] 357/623 Calculating CAV for blackboard\n",
      "Best accuracy: 0.9624043223773076 Regularization: 0.001\n",
      "Best accuracy: 0.9765871229176046 Regularization: 0.005\n",
      "Best accuracy: 0.979963980189104 Regularization: 0.01\n",
      "Best accuracy: 0.9885186852769023 Regularization: 0.05\n",
      "Best accuracy: 0.9916704187303017 Regularization: 0.1\n",
      "Best accuracy: 0.9948221521837011 Regularization: 0.5\n",
      "Best accuracy: 0.9954975236380009 Regularization: 1\n"
     ]
    },
    {
     "name": "stderr",
     "output_type": "stream",
     "text": [
      "357it [3:03:44, 23.57s/it]"
     ]
    },
    {
     "name": "stdout",
     "output_type": "stream",
     "text": [
      "CAV accuracy for blackboard concept (485): 0.9955\n",
      "[0804_135744] 358/623 Calculating CAV for tapestry\n",
      "Best accuracy: 0.8676271949572265 Regularization: 0.001\n",
      "Best accuracy: 0.9162539396668168 Regularization: 0.005\n",
      "Best accuracy: 0.9342638451148132 Regularization: 0.01\n",
      "Best accuracy: 0.9655560558307069 Regularization: 0.05\n",
      "Best accuracy: 0.9741107609185051 Regularization: 0.1\n",
      "Best accuracy: 0.9837910850968032 Regularization: 0.5\n",
      "Best accuracy: 0.9862674470959027 Regularization: 1\n",
      "Best accuracy: 0.9885186852769023 Regularization: 3\n"
     ]
    },
    {
     "name": "stderr",
     "output_type": "stream",
     "text": [
      "358it [3:04:15, 25.60s/it]"
     ]
    },
    {
     "name": "stdout",
     "output_type": "stream",
     "text": [
      "Best accuracy: 0.9889689329131022 Regularization: 5\n",
      "CAV accuracy for tapestry concept (486): 0.9890\n",
      "[0804_135814] 359/623 Calculating CAV for trouser\n",
      "Best accuracy: 0.9786132372805043 Regularization: 0.001\n",
      "Best accuracy: 0.9876181900045025 Regularization: 0.005\n",
      "Best accuracy: 0.9891940567312022 Regularization: 0.01\n",
      "Best accuracy: 0.9939216569113012 Regularization: 0.05\n",
      "Best accuracy: 0.9954975236380009 Regularization: 0.1\n",
      "Best accuracy: 0.9963980189104007 Regularization: 0.5\n",
      "Best accuracy: 0.9968482665466006 Regularization: 1\n"
     ]
    },
    {
     "name": "stderr",
     "output_type": "stream",
     "text": [
      "359it [3:04:35, 24.02s/it]"
     ]
    },
    {
     "name": "stdout",
     "output_type": "stream",
     "text": [
      "CAV accuracy for trouser concept (487): 0.9968\n",
      "[0804_135835] 360/623 Calculating CAV for billboard\n",
      "Best accuracy: 0.8982440342188204 Regularization: 0.001\n",
      "Best accuracy: 0.9380909500225124 Regularization: 0.005\n",
      "Best accuracy: 0.9520486267447096 Regularization: 0.01\n",
      "Best accuracy: 0.975461503827105 Regularization: 0.05\n",
      "Best accuracy: 0.9806393516434039 Regularization: 0.1\n",
      "Best accuracy: 0.9873930661864025 Regularization: 0.5\n",
      "Best accuracy: 0.9894191805493021 Regularization: 1\n",
      "Best accuracy: 0.9905447996398019 Regularization: 3\n"
     ]
    },
    {
     "name": "stderr",
     "output_type": "stream",
     "text": [
      "360it [3:05:02, 24.96s/it]"
     ]
    },
    {
     "name": "stdout",
     "output_type": "stream",
     "text": [
      "CAV accuracy for billboard concept (488): 0.9905\n",
      "[0804_135902] 361/623 Calculating CAV for decoration\n",
      "Best accuracy: 0.8869878433138226 Regularization: 0.001\n",
      "Best accuracy: 0.9329131022062134 Regularization: 0.005\n",
      "Best accuracy: 0.9459702836560108 Regularization: 0.01\n",
      "Best accuracy: 0.970058532192706 Regularization: 0.05\n",
      "Best accuracy: 0.9783881134624043 Regularization: 0.1\n",
      "Best accuracy: 0.9862674470959027 Regularization: 0.5\n",
      "Best accuracy: 0.9876181900045025 Regularization: 1\n",
      "Best accuracy: 0.9887438090950023 Regularization: 3\n"
     ]
    },
    {
     "name": "stderr",
     "output_type": "stream",
     "text": [
      "361it [3:05:35, 27.32s/it]"
     ]
    },
    {
     "name": "stdout",
     "output_type": "stream",
     "text": [
      "Best accuracy: 0.989869428185502 Regularization: 5\n",
      "CAV accuracy for decoration concept (490): 0.9899\n",
      "[0804_135934] 362/623 Calculating CAV for hot tub\n",
      "Best accuracy: 0.9844664565511031 Regularization: 0.001\n",
      "Best accuracy: 0.990094552003602 Regularization: 0.005\n",
      "Best accuracy: 0.9909950472760019 Regularization: 0.01\n",
      "Best accuracy: 0.994597028365601 Regularization: 0.05\n",
      "Best accuracy: 0.9961728950923008 Regularization: 0.1\n",
      "Best accuracy: 0.9966231427285007 Regularization: 0.5\n",
      "Best accuracy: 0.9970733903647006 Regularization: 1\n",
      "Best accuracy: 0.9972985141828006 Regularization: 3\n"
     ]
    },
    {
     "name": "stderr",
     "output_type": "stream",
     "text": [
      "362it [3:05:55, 25.01s/it]"
     ]
    },
    {
     "name": "stdout",
     "output_type": "stream",
     "text": [
      "CAV accuracy for hot tub concept (494): 0.9973\n",
      "[0804_135954] 363/623 Calculating CAV for garage door\n",
      "Best accuracy: 0.9326879783881135 Regularization: 0.001\n",
      "Best accuracy: 0.959927960378208 Regularization: 0.005\n",
      "Best accuracy: 0.970058532192706 Regularization: 0.01\n",
      "Best accuracy: 0.9840162089149032 Regularization: 0.05\n",
      "Best accuracy: 0.9876181900045025 Regularization: 0.1\n",
      "Best accuracy: 0.9914452949122017 Regularization: 0.5\n",
      "Best accuracy: 0.9930211616389014 Regularization: 1\n",
      "Best accuracy: 0.994597028365601 Regularization: 3\n"
     ]
    },
    {
     "name": "stderr",
     "output_type": "stream",
     "text": [
      "363it [3:06:19, 24.74s/it]"
     ]
    },
    {
     "name": "stdout",
     "output_type": "stream",
     "text": [
      "CAV accuracy for garage door concept (495): 0.9946\n",
      "[0804_140018] 364/623 Calculating CAV for file cabinet\n",
      "Best accuracy: 0.9479963980189104 Regularization: 0.001\n",
      "Best accuracy: 0.9675821701936065 Regularization: 0.005\n",
      "Best accuracy: 0.9732102656461054 Regularization: 0.01\n",
      "Best accuracy: 0.9833408374606033 Regularization: 0.05\n",
      "Best accuracy: 0.9858171994597028 Regularization: 0.1\n",
      "Best accuracy: 0.9912201710941018 Regularization: 0.5\n",
      "Best accuracy: 0.9918955425484016 Regularization: 1\n",
      "Best accuracy: 0.9930211616389014 Regularization: 3\n"
     ]
    },
    {
     "name": "stderr",
     "output_type": "stream",
     "text": [
      "364it [3:06:42, 24.39s/it]"
     ]
    },
    {
     "name": "stdout",
     "output_type": "stream",
     "text": [
      "Best accuracy: 0.9932462854570013 Regularization: 5\n",
      "CAV accuracy for file cabinet concept (496): 0.9932\n",
      "[0804_140042] 365/623 Calculating CAV for drawing\n",
      "Best accuracy: 0.9491220171094101 Regularization: 0.001\n",
      "Best accuracy: 0.9680324178298064 Regularization: 0.005\n",
      "Best accuracy: 0.9761368752814048 Regularization: 0.01\n",
      "Best accuracy: 0.9889689329131022 Regularization: 0.05\n",
      "Best accuracy: 0.9918955425484016 Regularization: 0.1\n",
      "Best accuracy: 0.9952723998199009 Regularization: 0.5\n",
      "Best accuracy: 0.9959477712742009 Regularization: 1\n",
      "Best accuracy: 0.9961728950923008 Regularization: 3\n"
     ]
    },
    {
     "name": "stderr",
     "output_type": "stream",
     "text": [
      "365it [3:07:10, 25.36s/it]"
     ]
    },
    {
     "name": "stdout",
     "output_type": "stream",
     "text": [
      "Best accuracy: 0.9966231427285007 Regularization: 5\n",
      "CAV accuracy for drawing concept (497): 0.9966\n",
      "[0804_140109] 366/623 Calculating CAV for piano\n",
      "Best accuracy: 0.9085997298514182 Regularization: 0.001\n",
      "Best accuracy: 0.9459702836560108 Regularization: 0.005\n",
      "Best accuracy: 0.9603782080144079 Regularization: 0.01\n",
      "Best accuracy: 0.9783881134624043 Regularization: 0.05\n",
      "Best accuracy: 0.9824403421882035 Regularization: 0.1\n",
      "Best accuracy: 0.9878433138226025 Regularization: 0.5\n",
      "Best accuracy: 0.9889689329131022 Regularization: 1\n",
      "Best accuracy: 0.9891940567312022 Regularization: 3\n"
     ]
    },
    {
     "name": "stderr",
     "output_type": "stream",
     "text": [
      "366it [3:07:38, 26.08s/it]"
     ]
    },
    {
     "name": "stdout",
     "output_type": "stream",
     "text": [
      "Best accuracy: 0.989644304367402 Regularization: 5\n",
      "CAV accuracy for piano concept (498): 0.9896\n",
      "[0804_140137] 367/623 Calculating CAV for conveyer belt\n",
      "Best accuracy: 0.9608284556506078 Regularization: 0.001\n",
      "Best accuracy: 0.979963980189104 Regularization: 0.005\n",
      "Best accuracy: 0.9831157136425034 Regularization: 0.01\n",
      "Best accuracy: 0.9907699234579018 Regularization: 0.05\n",
      "Best accuracy: 0.9916704187303017 Regularization: 0.1\n",
      "Best accuracy: 0.9943719045475011 Regularization: 0.5\n",
      "Best accuracy: 0.994597028365601 Regularization: 1\n",
      "Best accuracy: 0.995047276001801 Regularization: 3\n"
     ]
    },
    {
     "name": "stderr",
     "output_type": "stream",
     "text": [
      "367it [3:08:00, 24.91s/it]"
     ]
    },
    {
     "name": "stdout",
     "output_type": "stream",
     "text": [
      "CAV accuracy for conveyer belt concept (500): 0.9950\n",
      "[0804_140159] 368/623 Calculating CAV for arcade\n",
      "Best accuracy: 0.9524988743809095 Regularization: 0.001\n",
      "Best accuracy: 0.9702836560108059 Regularization: 0.005\n",
      "Best accuracy: 0.9743358847366052 Regularization: 0.01\n",
      "Best accuracy: 0.984916704187303 Regularization: 0.05\n",
      "Best accuracy: 0.9889689329131022 Regularization: 0.1\n",
      "Best accuracy: 0.9921206663665015 Regularization: 0.5\n",
      "Best accuracy: 0.9927960378208014 Regularization: 1\n"
     ]
    },
    {
     "name": "stderr",
     "output_type": "stream",
     "text": [
      "368it [3:08:26, 25.21s/it]"
     ]
    },
    {
     "name": "stdout",
     "output_type": "stream",
     "text": [
      "CAV accuracy for arcade concept (501): 0.9928\n",
      "[0804_140225] 369/623 Calculating CAV for equipment\n",
      "Best accuracy: 0.9765871229176046 Regularization: 0.001\n",
      "Best accuracy: 0.989644304367402 Regularization: 0.005\n",
      "Best accuracy: 0.9916704187303017 Regularization: 0.01\n",
      "Best accuracy: 0.9959477712742009 Regularization: 0.05\n",
      "Best accuracy: 0.9966231427285007 Regularization: 0.1\n",
      "Best accuracy: 0.9975236380009005 Regularization: 0.5\n",
      "Best accuracy: 0.9977487618190004 Regularization: 3\n"
     ]
    },
    {
     "name": "stderr",
     "output_type": "stream",
     "text": [
      "369it [3:08:47, 24.17s/it]"
     ]
    },
    {
     "name": "stdout",
     "output_type": "stream",
     "text": [
      "CAV accuracy for equipment concept (502): 0.9977\n",
      "[0804_140247] 370/623 Calculating CAV for saucepan\n",
      "Best accuracy: 0.9387663214768123 Regularization: 0.001\n",
      "Best accuracy: 0.959702836560108 Regularization: 0.005\n",
      "Best accuracy: 0.9671319225574065 Regularization: 0.01\n",
      "Best accuracy: 0.9822152183701035 Regularization: 0.05\n",
      "Best accuracy: 0.9862674470959027 Regularization: 0.1\n",
      "Best accuracy: 0.990094552003602 Regularization: 0.5\n",
      "Best accuracy: 0.9916704187303017 Regularization: 1\n",
      "Best accuracy: 0.9923457901846016 Regularization: 3\n"
     ]
    },
    {
     "name": "stderr",
     "output_type": "stream",
     "text": [
      "370it [3:09:11, 24.07s/it]"
     ]
    },
    {
     "name": "stdout",
     "output_type": "stream",
     "text": [
      "Best accuracy: 0.9930211616389014 Regularization: 5\n",
      "CAV accuracy for saucepan concept (503): 0.9930\n",
      "[0804_140311] 371/623 Calculating CAV for shaft\n",
      "Best accuracy: 0.9491220171094101 Regularization: 0.001\n",
      "Best accuracy: 0.9716343989194057 Regularization: 0.005\n",
      "Best accuracy: 0.9768122467357047 Regularization: 0.01\n",
      "Best accuracy: 0.9876181900045025 Regularization: 0.05\n",
      "Best accuracy: 0.989869428185502 Regularization: 0.1\n",
      "Best accuracy: 0.9925709140027015 Regularization: 0.5\n",
      "Best accuracy: 0.9936965330932013 Regularization: 1\n"
     ]
    },
    {
     "name": "stderr",
     "output_type": "stream",
     "text": [
      "371it [3:09:38, 24.74s/it]"
     ]
    },
    {
     "name": "stdout",
     "output_type": "stream",
     "text": [
      "Best accuracy: 0.9939216569113012 Regularization: 5\n",
      "CAV accuracy for shaft concept (505): 0.9939\n",
      "[0804_140337] 372/623 Calculating CAV for court\n",
      "Best accuracy: 0.9842413327330032 Regularization: 0.001\n",
      "Best accuracy: 0.990094552003602 Regularization: 0.005\n",
      "Best accuracy: 0.9918955425484016 Regularization: 0.01\n",
      "Best accuracy: 0.9943719045475011 Regularization: 0.05\n",
      "Best accuracy: 0.994597028365601 Regularization: 0.1\n",
      "Best accuracy: 0.9952723998199009 Regularization: 0.5\n",
      "Best accuracy: 0.9957226474561008 Regularization: 1\n",
      "Best accuracy: 0.9961728950923008 Regularization: 3\n"
     ]
    },
    {
     "name": "stderr",
     "output_type": "stream",
     "text": [
      "372it [3:09:58, 23.37s/it]"
     ]
    },
    {
     "name": "stdout",
     "output_type": "stream",
     "text": [
      "CAV accuracy for court concept (506): 0.9962\n",
      "[0804_140357] 373/623 Calculating CAV for capital\n",
      "Best accuracy: 0.9524988743809095 Regularization: 0.001\n",
      "Best accuracy: 0.9729851418280054 Regularization: 0.005\n",
      "Best accuracy: 0.9792886087348042 Regularization: 0.01\n",
      "Best accuracy: 0.9873930661864025 Regularization: 0.05\n",
      "Best accuracy: 0.9912201710941018 Regularization: 0.1\n",
      "Best accuracy: 0.9948221521837011 Regularization: 0.5\n",
      "Best accuracy: 0.9957226474561008 Regularization: 3\n"
     ]
    },
    {
     "name": "stderr",
     "output_type": "stream",
     "text": [
      "373it [3:10:24, 24.07s/it]"
     ]
    },
    {
     "name": "stdout",
     "output_type": "stream",
     "text": [
      "CAV accuracy for capital concept (508): 0.9957\n",
      "[0804_140423] 374/623 Calculating CAV for lake\n",
      "Best accuracy: 0.9308869878433138 Regularization: 0.001\n",
      "Best accuracy: 0.9574515983791085 Regularization: 0.005\n",
      "Best accuracy: 0.9657811796488068 Regularization: 0.01\n",
      "Best accuracy: 0.9801891040072039 Regularization: 0.05\n",
      "Best accuracy: 0.9867176947321027 Regularization: 0.1\n",
      "Best accuracy: 0.9907699234579018 Regularization: 0.5\n",
      "Best accuracy: 0.9923457901846016 Regularization: 1\n",
      "Best accuracy: 0.9932462854570013 Regularization: 3\n"
     ]
    },
    {
     "name": "stderr",
     "output_type": "stream",
     "text": [
      "374it [3:10:49, 24.36s/it]"
     ]
    },
    {
     "name": "stdout",
     "output_type": "stream",
     "text": [
      "CAV accuracy for lake concept (512): 0.9932\n",
      "[0804_140448] 375/623 Calculating CAV for barrel\n",
      "Best accuracy: 0.9353894642053129 Regularization: 0.001\n",
      "Best accuracy: 0.9603782080144079 Regularization: 0.005\n",
      "Best accuracy: 0.9702836560108059 Regularization: 0.01\n",
      "Best accuracy: 0.9828905898244035 Regularization: 0.05\n",
      "Best accuracy: 0.9880684376407024 Regularization: 0.1\n",
      "Best accuracy: 0.9927960378208014 Regularization: 0.5\n",
      "Best accuracy: 0.9932462854570013 Regularization: 1\n",
      "Best accuracy: 0.995047276001801 Regularization: 3\n"
     ]
    },
    {
     "name": "stderr",
     "output_type": "stream",
     "text": [
      "375it [3:11:15, 25.06s/it]"
     ]
    },
    {
     "name": "stdout",
     "output_type": "stream",
     "text": [
      "CAV accuracy for barrel concept (513): 0.9950\n",
      "[0804_140515] 376/623 Calculating CAV for ship\n",
      "Best accuracy: 0.9684826654660063 Regularization: 0.001\n",
      "Best accuracy: 0.9788383610986042 Regularization: 0.005\n",
      "Best accuracy: 0.9842413327330032 Regularization: 0.01\n",
      "Best accuracy: 0.9927960378208014 Regularization: 0.05\n",
      "Best accuracy: 0.9943719045475011 Regularization: 0.5\n",
      "Best accuracy: 0.995047276001801 Regularization: 1\n"
     ]
    },
    {
     "name": "stderr",
     "output_type": "stream",
     "text": [
      "376it [3:11:36, 23.90s/it]"
     ]
    },
    {
     "name": "stdout",
     "output_type": "stream",
     "text": [
      "CAV accuracy for ship concept (514): 0.9950\n",
      "[0804_140536] 377/623 Calculating CAV for cage\n",
      "Best accuracy: 0.9252588923908149 Regularization: 0.001\n",
      "Best accuracy: 0.9626294461954075 Regularization: 0.005\n",
      "Best accuracy: 0.9738856371004052 Regularization: 0.01\n",
      "Best accuracy: 0.9885186852769023 Regularization: 0.05\n",
      "Best accuracy: 0.9918955425484016 Regularization: 0.1\n",
      "Best accuracy: 0.9948221521837011 Regularization: 0.5\n",
      "Best accuracy: 0.9966231427285007 Regularization: 1\n",
      "Best accuracy: 0.9972985141828006 Regularization: 3\n"
     ]
    },
    {
     "name": "stderr",
     "output_type": "stream",
     "text": [
      "377it [3:12:03, 24.63s/it]"
     ]
    },
    {
     "name": "stdout",
     "output_type": "stream",
     "text": [
      "CAV accuracy for cage concept (516): 0.9973\n",
      "[0804_140602] 378/623 Calculating CAV for railroad train\n",
      "Best accuracy: 0.975011256190905 Regularization: 0.001\n",
      "Best accuracy: 0.9867176947321027 Regularization: 0.005\n",
      "Best accuracy: 0.9894191805493021 Regularization: 0.01\n",
      "Best accuracy: 0.9941467807294012 Regularization: 0.05\n",
      "Best accuracy: 0.994597028365601 Regularization: 0.1\n",
      "Best accuracy: 0.9959477712742009 Regularization: 0.5\n",
      "Best accuracy: 0.9970733903647006 Regularization: 1\n",
      "Best accuracy: 0.9972985141828006 Regularization: 3\n"
     ]
    },
    {
     "name": "stderr",
     "output_type": "stream",
     "text": [
      "378it [3:12:25, 23.90s/it]"
     ]
    },
    {
     "name": "stdout",
     "output_type": "stream",
     "text": [
      "CAV accuracy for railroad train concept (517): 0.9973\n",
      "[0804_140624] 379/623 Calculating CAV for arch\n",
      "Best accuracy: 0.9268347591175147 Regularization: 0.001\n",
      "Best accuracy: 0.9563259792886087 Regularization: 0.005\n",
      "Best accuracy: 0.965105808194507 Regularization: 0.01\n",
      "Best accuracy: 0.9808644754615038 Regularization: 0.05\n",
      "Best accuracy: 0.9837910850968032 Regularization: 0.1\n",
      "Best accuracy: 0.989869428185502 Regularization: 0.5\n",
      "Best accuracy: 0.9905447996398019 Regularization: 1\n",
      "Best accuracy: 0.9916704187303017 Regularization: 3\n"
     ]
    },
    {
     "name": "stderr",
     "output_type": "stream",
     "text": [
      "379it [3:12:53, 25.13s/it]"
     ]
    },
    {
     "name": "stdout",
     "output_type": "stream",
     "text": [
      "Best accuracy: 0.9921206663665015 Regularization: 5\n",
      "CAV accuracy for arch concept (518): 0.9921\n",
      "[0804_140652] 380/623 Calculating CAV for lighthouse\n",
      "Best accuracy: 0.9774876181900045 Regularization: 0.001\n",
      "Best accuracy: 0.9871679423683025 Regularization: 0.005\n",
      "Best accuracy: 0.9907699234579018 Regularization: 0.01\n",
      "Best accuracy: 0.9959477712742009 Regularization: 0.05\n",
      "Best accuracy: 0.9966231427285007 Regularization: 0.1\n",
      "Best accuracy: 0.9975236380009005 Regularization: 0.5\n",
      "Best accuracy: 0.9984241332733003 Regularization: 1\n"
     ]
    },
    {
     "name": "stderr",
     "output_type": "stream",
     "text": [
      "380it [3:13:11, 22.90s/it]"
     ]
    },
    {
     "name": "stdout",
     "output_type": "stream",
     "text": [
      "CAV accuracy for lighthouse concept (519): 0.9984\n",
      "[0804_140710] 381/623 Calculating CAV for bell\n",
      "Best accuracy: 0.9437190454750113 Regularization: 0.001\n",
      "Best accuracy: 0.9660063034669067 Regularization: 0.005\n",
      "Best accuracy: 0.9736605132823053 Regularization: 0.01\n",
      "Best accuracy: 0.985141828005403 Regularization: 0.05\n",
      "Best accuracy: 0.9891940567312022 Regularization: 0.1\n",
      "Best accuracy: 0.9914452949122017 Regularization: 0.5\n",
      "Best accuracy: 0.9921206663665015 Regularization: 1\n",
      "Best accuracy: 0.9927960378208014 Regularization: 3\n"
     ]
    },
    {
     "name": "stderr",
     "output_type": "stream",
     "text": [
      "381it [3:13:35, 23.27s/it]"
     ]
    },
    {
     "name": "stdout",
     "output_type": "stream",
     "text": [
      "CAV accuracy for bell concept (520): 0.9928\n",
      "[0804_140734] 382/623 Calculating CAV for bus stop\n",
      "Best accuracy: 0.9004952723998199 Regularization: 0.001\n",
      "Best accuracy: 0.9367402071139127 Regularization: 0.005\n",
      "Best accuracy: 0.94979738856371 Regularization: 0.01\n",
      "Best accuracy: 0.9738856371004052 Regularization: 0.05\n",
      "Best accuracy: 0.9795137325529041 Regularization: 0.1\n",
      "Best accuracy: 0.9876181900045025 Regularization: 0.5\n",
      "Best accuracy: 0.989644304367402 Regularization: 1\n",
      "Best accuracy: 0.9923457901846016 Regularization: 3\n"
     ]
    },
    {
     "name": "stderr",
     "output_type": "stream",
     "text": [
      "382it [3:14:00, 23.95s/it]"
     ]
    },
    {
     "name": "stdout",
     "output_type": "stream",
     "text": [
      "Best accuracy: 0.9930211616389014 Regularization: 5\n",
      "CAV accuracy for bus stop concept (521): 0.9930\n",
      "[0804_140800] 383/623 Calculating CAV for exhibitor\n",
      "Best accuracy: 0.9385411976587122 Regularization: 0.001\n",
      "Best accuracy: 0.959927960378208 Regularization: 0.005\n",
      "Best accuracy: 0.9680324178298064 Regularization: 0.01\n",
      "Best accuracy: 0.9808644754615038 Regularization: 0.05\n",
      "Best accuracy: 0.9842413327330032 Regularization: 0.1\n",
      "Best accuracy: 0.9885186852769023 Regularization: 0.5\n",
      "Best accuracy: 0.989869428185502 Regularization: 1\n",
      "Best accuracy: 0.9909950472760019 Regularization: 3\n"
     ]
    },
    {
     "name": "stderr",
     "output_type": "stream",
     "text": [
      "383it [3:14:27, 24.75s/it]"
     ]
    },
    {
     "name": "stdout",
     "output_type": "stream",
     "text": [
      "CAV accuracy for exhibitor concept (522): 0.9910\n",
      "[0804_140826] 384/623 Calculating CAV for jersey\n",
      "Best accuracy: 0.9567762269248087 Regularization: 0.001\n",
      "Best accuracy: 0.975461503827105 Regularization: 0.005\n",
      "Best accuracy: 0.9801891040072039 Regularization: 0.01\n",
      "Best accuracy: 0.9869428185502026 Regularization: 0.05\n",
      "Best accuracy: 0.989869428185502 Regularization: 0.1\n",
      "Best accuracy: 0.9923457901846016 Regularization: 0.5\n"
     ]
    },
    {
     "name": "stderr",
     "output_type": "stream",
     "text": [
      "384it [3:14:54, 25.54s/it]"
     ]
    },
    {
     "name": "stdout",
     "output_type": "stream",
     "text": [
      "Best accuracy: 0.9932462854570013 Regularization: 5\n",
      "CAV accuracy for jersey concept (523): 0.9932\n",
      "[0804_140854] 385/623 Calculating CAV for plinth\n",
      "Best accuracy: 0.9140027014858172 Regularization: 0.001\n",
      "Best accuracy: 0.9570013507429086 Regularization: 0.005\n",
      "Best accuracy: 0.9680324178298064 Regularization: 0.01\n",
      "Best accuracy: 0.9813147230977037 Regularization: 0.05\n",
      "Best accuracy: 0.9864925709140027 Regularization: 0.1\n",
      "Best accuracy: 0.9912201710941018 Regularization: 0.5\n",
      "Best accuracy: 0.9918955425484016 Regularization: 1\n"
     ]
    },
    {
     "name": "stderr",
     "output_type": "stream",
     "text": [
      "385it [3:15:22, 26.20s/it]"
     ]
    },
    {
     "name": "stdout",
     "output_type": "stream",
     "text": [
      "Best accuracy: 0.9923457901846016 Regularization: 5\n",
      "CAV accuracy for plinth concept (524): 0.9923\n",
      "[0804_140922] 386/623 Calculating CAV for forecourt\n",
      "Best accuracy: 0.9306618640252139 Regularization: 0.001\n",
      "Best accuracy: 0.9594777127420081 Regularization: 0.005\n",
      "Best accuracy: 0.9666816749212067 Regularization: 0.01\n",
      "Best accuracy: 0.9813147230977037 Regularization: 0.05\n",
      "Best accuracy: 0.9855920756416029 Regularization: 0.1\n",
      "Best accuracy: 0.9909950472760019 Regularization: 0.5\n",
      "Best accuracy: 0.9921206663665015 Regularization: 1\n",
      "Best accuracy: 0.9932462854570013 Regularization: 3\n"
     ]
    },
    {
     "name": "stderr",
     "output_type": "stream",
     "text": [
      "386it [3:15:47, 25.75s/it]"
     ]
    },
    {
     "name": "stdout",
     "output_type": "stream",
     "text": [
      "Best accuracy: 0.9936965330932013 Regularization: 5\n",
      "CAV accuracy for forecourt concept (525): 0.9937\n",
      "[0804_140946] 387/623 Calculating CAV for eiderdown\n",
      "Best accuracy: 0.9162539396668168 Regularization: 0.001\n",
      "Best accuracy: 0.9425934263845115 Regularization: 0.005\n",
      "Best accuracy: 0.955425484016209 Regularization: 0.01\n",
      "Best accuracy: 0.9770373705538046 Regularization: 0.05\n",
      "Best accuracy: 0.9819900945520036 Regularization: 0.1\n",
      "Best accuracy: 0.9889689329131022 Regularization: 0.5\n",
      "Best accuracy: 0.9894191805493021 Regularization: 1\n",
      "Best accuracy: 0.9909950472760019 Regularization: 3\n"
     ]
    },
    {
     "name": "stderr",
     "output_type": "stream",
     "text": [
      "387it [3:16:09, 24.84s/it]"
     ]
    },
    {
     "name": "stdout",
     "output_type": "stream",
     "text": [
      "Best accuracy: 0.9912201710941018 Regularization: 5\n",
      "CAV accuracy for eiderdown concept (526): 0.9912\n",
      "[0804_141009] 388/623 Calculating CAV for mat\n",
      "Best accuracy: 0.9810895992796038 Regularization: 0.001\n",
      "Best accuracy: 0.9939216569113012 Regularization: 0.005\n",
      "Best accuracy: 0.9952723998199009 Regularization: 0.01\n",
      "Best accuracy: 0.9968482665466006 Regularization: 0.05\n",
      "Best accuracy: 0.9970733903647006 Regularization: 0.1\n",
      "Best accuracy: 0.9979738856371004 Regularization: 0.5\n",
      "Best accuracy: 0.9981990094552003 Regularization: 1\n"
     ]
    },
    {
     "name": "stderr",
     "output_type": "stream",
     "text": [
      "388it [3:16:30, 23.64s/it]"
     ]
    },
    {
     "name": "stdout",
     "output_type": "stream",
     "text": [
      "CAV accuracy for mat concept (527): 0.9982\n",
      "[0804_141030] 389/623 Calculating CAV for cash register\n",
      "Best accuracy: 0.9594777127420081 Regularization: 0.001\n",
      "Best accuracy: 0.9718595227375056 Regularization: 0.005\n",
      "Best accuracy: 0.9759117514633048 Regularization: 0.01\n",
      "Best accuracy: 0.984691580369203 Regularization: 0.05\n",
      "Best accuracy: 0.9876181900045025 Regularization: 0.1\n",
      "Best accuracy: 0.9921206663665015 Regularization: 0.5\n",
      "Best accuracy: 0.9925709140027015 Regularization: 1\n",
      "Best accuracy: 0.9932462854570013 Regularization: 3\n"
     ]
    },
    {
     "name": "stderr",
     "output_type": "stream",
     "text": [
      "389it [3:16:54, 23.59s/it]"
     ]
    },
    {
     "name": "stdout",
     "output_type": "stream",
     "text": [
      "Best accuracy: 0.9936965330932013 Regularization: 5\n",
      "CAV accuracy for cash register concept (528): 0.9937\n",
      "[0804_141053] 390/623 Calculating CAV for calendar\n",
      "Best accuracy: 0.9439441692931112 Regularization: 0.001\n",
      "Best accuracy: 0.9666816749212067 Regularization: 0.005\n",
      "Best accuracy: 0.9745610085547051 Regularization: 0.01\n",
      "Best accuracy: 0.9862674470959027 Regularization: 0.05\n",
      "Best accuracy: 0.9889689329131022 Regularization: 0.1\n",
      "Best accuracy: 0.9943719045475011 Regularization: 0.5\n",
      "Best accuracy: 0.9948221521837011 Regularization: 1\n",
      "Best accuracy: 0.9961728950923008 Regularization: 3\n"
     ]
    },
    {
     "name": "stderr",
     "output_type": "stream",
     "text": [
      "390it [3:17:18, 23.66s/it]"
     ]
    },
    {
     "name": "stdout",
     "output_type": "stream",
     "text": [
      "Best accuracy: 0.9963980189104007 Regularization: 5\n",
      "CAV accuracy for calendar concept (530): 0.9964\n",
      "[0804_141117] 391/623 Calculating CAV for briefcase\n",
      "Best accuracy: 0.9063484916704188 Regularization: 0.001\n",
      "Best accuracy: 0.94979738856371 Regularization: 0.005\n",
      "Best accuracy: 0.9594777127420081 Regularization: 0.01\n",
      "Best accuracy: 0.9761368752814048 Regularization: 0.05\n",
      "Best accuracy: 0.9810895992796038 Regularization: 0.1\n",
      "Best accuracy: 0.9889689329131022 Regularization: 0.5\n",
      "Best accuracy: 0.989869428185502 Regularization: 1\n",
      "Best accuracy: 0.9909950472760019 Regularization: 3\n"
     ]
    },
    {
     "name": "stderr",
     "output_type": "stream",
     "text": [
      "391it [3:17:47, 25.33s/it]"
     ]
    },
    {
     "name": "stdout",
     "output_type": "stream",
     "text": [
      "Best accuracy: 0.9914452949122017 Regularization: 5\n",
      "CAV accuracy for briefcase concept (531): 0.9914\n",
      "[0804_141146] 392/623 Calculating CAV for fire escape\n",
      "Best accuracy: 0.9290859972985142 Regularization: 0.001\n",
      "Best accuracy: 0.9581269698334084 Regularization: 0.005\n",
      "Best accuracy: 0.9691580369203062 Regularization: 0.01\n",
      "Best accuracy: 0.9833408374606033 Regularization: 0.05\n",
      "Best accuracy: 0.985366951823503 Regularization: 0.1\n",
      "Best accuracy: 0.9923457901846016 Regularization: 0.5\n",
      "Best accuracy: 0.9932462854570013 Regularization: 1\n",
      "Best accuracy: 0.9941467807294012 Regularization: 3\n"
     ]
    },
    {
     "name": "stderr",
     "output_type": "stream",
     "text": [
      "392it [3:18:10, 24.68s/it]"
     ]
    },
    {
     "name": "stdout",
     "output_type": "stream",
     "text": [
      "CAV accuracy for fire escape concept (536): 0.9941\n",
      "[0804_141210] 393/623 Calculating CAV for cd\n",
      "Best accuracy: 0.9941467807294012 Regularization: 0.001\n",
      "Best accuracy: 0.9970733903647006 Regularization: 0.005\n",
      "Best accuracy: 0.9986492570914003 Regularization: 0.01\n",
      "Best accuracy: 0.9990995047276002 Regularization: 0.05\n",
      "Best accuracy: 0.9993246285457001 Regularization: 0.5\n"
     ]
    },
    {
     "name": "stderr",
     "output_type": "stream",
     "text": [
      "393it [3:18:25, 21.88s/it]"
     ]
    },
    {
     "name": "stdout",
     "output_type": "stream",
     "text": [
      "CAV accuracy for cd concept (538): 0.9993\n",
      "[0804_141225] 394/623 Calculating CAV for rocking chair\n",
      "Best accuracy: 0.9076992345790185 Regularization: 0.001\n",
      "Best accuracy: 0.9509230076542098 Regularization: 0.005\n",
      "Best accuracy: 0.9635299414678073 Regularization: 0.01\n",
      "Best accuracy: 0.980414227825304 Regularization: 0.05\n",
      "Best accuracy: 0.984916704187303 Regularization: 0.1\n",
      "Best accuracy: 0.9903196758217019 Regularization: 0.5\n",
      "Best accuracy: 0.9916704187303017 Regularization: 1\n",
      "Best accuracy: 0.9925709140027015 Regularization: 3\n"
     ]
    },
    {
     "name": "stderr",
     "output_type": "stream",
     "text": [
      "394it [3:18:52, 23.29s/it]"
     ]
    },
    {
     "name": "stdout",
     "output_type": "stream",
     "text": [
      "Best accuracy: 0.9927960378208014 Regularization: 5\n",
      "CAV accuracy for rocking chair concept (539): 0.9928\n",
      "[0804_141251] 395/623 Calculating CAV for bread\n",
      "Best accuracy: 0.9531742458352094 Regularization: 0.001\n",
      "Best accuracy: 0.9680324178298064 Regularization: 0.005\n",
      "Best accuracy: 0.9777127420081044 Regularization: 0.01\n",
      "Best accuracy: 0.9891940567312022 Regularization: 0.05\n",
      "Best accuracy: 0.9907699234579018 Regularization: 0.1\n",
      "Best accuracy: 0.9936965330932013 Regularization: 0.5\n",
      "Best accuracy: 0.9941467807294012 Regularization: 1\n",
      "Best accuracy: 0.9952723998199009 Regularization: 3\n"
     ]
    },
    {
     "name": "stderr",
     "output_type": "stream",
     "text": [
      "395it [3:19:15, 23.25s/it]"
     ]
    },
    {
     "name": "stdout",
     "output_type": "stream",
     "text": [
      "Best accuracy: 0.9959477712742009 Regularization: 5\n",
      "CAV accuracy for bread concept (540): 0.9959\n",
      "[0804_141315] 396/623 Calculating CAV for cliff\n",
      "Best accuracy: 0.959927960378208 Regularization: 0.001\n",
      "Best accuracy: 0.9741107609185051 Regularization: 0.005\n",
      "Best accuracy: 0.9817649707339037 Regularization: 0.01\n",
      "Best accuracy: 0.9909950472760019 Regularization: 0.05\n",
      "Best accuracy: 0.9923457901846016 Regularization: 0.1\n",
      "Best accuracy: 0.9954975236380009 Regularization: 0.5\n",
      "Best accuracy: 0.9957226474561008 Regularization: 3\n"
     ]
    },
    {
     "name": "stderr",
     "output_type": "stream",
     "text": [
      "396it [3:19:36, 22.63s/it]"
     ]
    },
    {
     "name": "stdout",
     "output_type": "stream",
     "text": [
      "Best accuracy: 0.9959477712742009 Regularization: 5\n",
      "CAV accuracy for cliff concept (542): 0.9959\n",
      "[0804_141336] 397/623 Calculating CAV for escalator\n",
      "Best accuracy: 0.979963980189104 Regularization: 0.001\n",
      "Best accuracy: 0.9869428185502026 Regularization: 0.005\n",
      "Best accuracy: 0.9887438090950023 Regularization: 0.01\n",
      "Best accuracy: 0.9925709140027015 Regularization: 0.05\n",
      "Best accuracy: 0.9936965330932013 Regularization: 0.1\n",
      "Best accuracy: 0.9954975236380009 Regularization: 0.5\n",
      "Best accuracy: 0.9957226474561008 Regularization: 1\n",
      "Best accuracy: 0.9959477712742009 Regularization: 3\n"
     ]
    },
    {
     "name": "stderr",
     "output_type": "stream",
     "text": [
      "397it [3:19:56, 21.76s/it]"
     ]
    },
    {
     "name": "stdout",
     "output_type": "stream",
     "text": [
      "Best accuracy: 0.9961728950923008 Regularization: 5\n",
      "CAV accuracy for escalator concept (544): 0.9962\n",
      "[0804_141356] 398/623 Calculating CAV for fuselage\n",
      "Best accuracy: 0.9952723998199009 Regularization: 0.001\n",
      "Best accuracy: 0.9966231427285007 Regularization: 0.005\n",
      "Best accuracy: 0.9968482665466006 Regularization: 0.05\n",
      "Best accuracy: 0.9977487618190004 Regularization: 0.5\n"
     ]
    },
    {
     "name": "stderr",
     "output_type": "stream",
     "text": [
      "398it [3:20:12, 19.94s/it]"
     ]
    },
    {
     "name": "stdout",
     "output_type": "stream",
     "text": [
      "CAV accuracy for fuselage concept (545): 0.9977\n",
      "[0804_141411] 399/623 Calculating CAV for baseboard\n",
      "Best accuracy: 0.9403421882035119 Regularization: 0.001\n",
      "Best accuracy: 0.9612787032868078 Regularization: 0.005\n",
      "Best accuracy: 0.9675821701936065 Regularization: 0.01\n",
      "Best accuracy: 0.9819900945520036 Regularization: 0.05\n",
      "Best accuracy: 0.9855920756416029 Regularization: 0.1\n",
      "Best accuracy: 0.9903196758217019 Regularization: 0.5\n",
      "Best accuracy: 0.9927960378208014 Regularization: 1\n",
      "Best accuracy: 0.9934714092751014 Regularization: 3\n"
     ]
    },
    {
     "name": "stderr",
     "output_type": "stream",
     "text": [
      "399it [3:20:38, 21.80s/it]"
     ]
    },
    {
     "name": "stdout",
     "output_type": "stream",
     "text": [
      "Best accuracy: 0.9943719045475011 Regularization: 5\n",
      "CAV accuracy for baseboard concept (546): 0.9944\n",
      "[0804_141437] 400/623 Calculating CAV for clouds\n",
      "Best accuracy: 0.9479963980189104 Regularization: 0.001\n",
      "Best accuracy: 0.9741107609185051 Regularization: 0.005\n",
      "Best accuracy: 0.9808644754615038 Regularization: 0.01\n",
      "Best accuracy: 0.9909950472760019 Regularization: 0.05\n",
      "Best accuracy: 0.9930211616389014 Regularization: 0.1\n",
      "Best accuracy: 0.9943719045475011 Regularization: 0.5\n",
      "Best accuracy: 0.9952723998199009 Regularization: 1\n",
      "Best accuracy: 0.9959477712742009 Regularization: 3\n"
     ]
    },
    {
     "name": "stderr",
     "output_type": "stream",
     "text": [
      "400it [3:21:00, 21.88s/it]"
     ]
    },
    {
     "name": "stdout",
     "output_type": "stream",
     "text": [
      "Best accuracy: 0.9963980189104007 Regularization: 5\n",
      "CAV accuracy for clouds concept (548): 0.9964\n",
      "[0804_141459] 401/623 Calculating CAV for elevator\n",
      "Best accuracy: 0.9459702836560108 Regularization: 0.001\n",
      "Best accuracy: 0.9714092751013057 Regularization: 0.005\n",
      "Best accuracy: 0.9779378658262045 Regularization: 0.01\n",
      "Best accuracy: 0.9871679423683025 Regularization: 0.05\n",
      "Best accuracy: 0.9891940567312022 Regularization: 0.1\n",
      "Best accuracy: 0.9932462854570013 Regularization: 0.5\n",
      "Best accuracy: 0.9939216569113012 Regularization: 1\n",
      "Best accuracy: 0.9943719045475011 Regularization: 3\n"
     ]
    },
    {
     "name": "stderr",
     "output_type": "stream",
     "text": [
      "401it [3:21:26, 23.16s/it]"
     ]
    },
    {
     "name": "stdout",
     "output_type": "stream",
     "text": [
      "Best accuracy: 0.994597028365601 Regularization: 5\n",
      "CAV accuracy for elevator concept (549): 0.9946\n",
      "[0804_141526] 402/623 Calculating CAV for table football\n",
      "Best accuracy: 0.9684826654660063 Regularization: 0.001\n",
      "Best accuracy: 0.9801891040072039 Regularization: 0.005\n",
      "Best accuracy: 0.9842413327330032 Regularization: 0.01\n",
      "Best accuracy: 0.9903196758217019 Regularization: 0.05\n",
      "Best accuracy: 0.9927960378208014 Regularization: 0.1\n",
      "Best accuracy: 0.9959477712742009 Regularization: 0.5\n",
      "Best accuracy: 0.9968482665466006 Regularization: 1\n",
      "Best accuracy: 0.9970733903647006 Regularization: 3\n"
     ]
    },
    {
     "name": "stderr",
     "output_type": "stream",
     "text": [
      "402it [3:21:48, 22.78s/it]"
     ]
    },
    {
     "name": "stdout",
     "output_type": "stream",
     "text": [
      "CAV accuracy for table football concept (550): 0.9971\n",
      "[0804_141547] 403/623 Calculating CAV for grand piano\n",
      "Best accuracy: 0.9367402071139127 Regularization: 0.001\n",
      "Best accuracy: 0.965105808194507 Regularization: 0.005\n",
      "Best accuracy: 0.9743358847366052 Regularization: 0.01\n",
      "Best accuracy: 0.9869428185502026 Regularization: 0.05\n",
      "Best accuracy: 0.9909950472760019 Regularization: 0.1\n",
      "Best accuracy: 0.9939216569113012 Regularization: 0.5\n",
      "Best accuracy: 0.9941467807294012 Regularization: 1\n",
      "Best accuracy: 0.9952723998199009 Regularization: 3\n"
     ]
    },
    {
     "name": "stderr",
     "output_type": "stream",
     "text": [
      "403it [3:22:12, 23.23s/it]"
     ]
    },
    {
     "name": "stdout",
     "output_type": "stream",
     "text": [
      "CAV accuracy for grand piano concept (551): 0.9953\n",
      "[0804_141612] 404/623 Calculating CAV for earmuffs\n",
      "Best accuracy: 0.9259342638451148 Regularization: 0.001\n",
      "Best accuracy: 0.9533993696533093 Regularization: 0.005\n",
      "Best accuracy: 0.9639801891040072 Regularization: 0.01\n",
      "Best accuracy: 0.9788383610986042 Regularization: 0.05\n",
      "Best accuracy: 0.9860423232778028 Regularization: 0.1\n",
      "Best accuracy: 0.9925709140027015 Regularization: 0.5\n",
      "Best accuracy: 0.9936965330932013 Regularization: 1\n",
      "Best accuracy: 0.9948221521837011 Regularization: 3\n"
     ]
    },
    {
     "name": "stderr",
     "output_type": "stream",
     "text": [
      "404it [3:22:35, 22.98s/it]"
     ]
    },
    {
     "name": "stdout",
     "output_type": "stream",
     "text": [
      "Best accuracy: 0.995047276001801 Regularization: 5\n",
      "CAV accuracy for earmuffs concept (552): 0.9950\n",
      "[0804_141634] 405/623 Calculating CAV for scale\n",
      "Best accuracy: 0.9225574065736155 Regularization: 0.001\n",
      "Best accuracy: 0.9570013507429086 Regularization: 0.005\n",
      "Best accuracy: 0.9675821701936065 Regularization: 0.01\n",
      "Best accuracy: 0.9828905898244035 Regularization: 0.05\n",
      "Best accuracy: 0.9885186852769023 Regularization: 0.1\n",
      "Best accuracy: 0.9923457901846016 Regularization: 0.5\n",
      "Best accuracy: 0.9943719045475011 Regularization: 1\n",
      "Best accuracy: 0.9948221521837011 Regularization: 3\n"
     ]
    },
    {
     "name": "stderr",
     "output_type": "stream",
     "text": [
      "405it [3:23:01, 24.14s/it]"
     ]
    },
    {
     "name": "stdout",
     "output_type": "stream",
     "text": [
      "Best accuracy: 0.995047276001801 Regularization: 5\n",
      "CAV accuracy for scale concept (557): 0.9950\n",
      "[0804_141701] 406/623 Calculating CAV for vault\n",
      "Best accuracy: 0.9687077892841063 Regularization: 0.001\n",
      "Best accuracy: 0.9840162089149032 Regularization: 0.005\n",
      "Best accuracy: 0.9882935614588023 Regularization: 0.01\n",
      "Best accuracy: 0.9921206663665015 Regularization: 0.05\n",
      "Best accuracy: 0.995047276001801 Regularization: 0.1\n",
      "Best accuracy: 0.9961728950923008 Regularization: 0.5\n",
      "Best accuracy: 0.9970733903647006 Regularization: 3\n"
     ]
    },
    {
     "name": "stderr",
     "output_type": "stream",
     "text": [
      "406it [3:23:24, 23.75s/it]"
     ]
    },
    {
     "name": "stdout",
     "output_type": "stream",
     "text": [
      "CAV accuracy for vault concept (560): 0.9971\n",
      "[0804_141724] 407/623 Calculating CAV for radio\n",
      "Best accuracy: 0.8912651958577218 Regularization: 0.001\n",
      "Best accuracy: 0.9457451598379109 Regularization: 0.005\n",
      "Best accuracy: 0.9579018460153084 Regularization: 0.01\n",
      "Best accuracy: 0.9826654660063034 Regularization: 0.05\n",
      "Best accuracy: 0.9855920756416029 Regularization: 0.1\n",
      "Best accuracy: 0.9907699234579018 Regularization: 0.5\n",
      "Best accuracy: 0.9923457901846016 Regularization: 1\n",
      "Best accuracy: 0.9936965330932013 Regularization: 3\n"
     ]
    },
    {
     "name": "stderr",
     "output_type": "stream",
     "text": [
      "407it [3:23:51, 24.71s/it]"
     ]
    },
    {
     "name": "stdout",
     "output_type": "stream",
     "text": [
      "Best accuracy: 0.9941467807294012 Regularization: 5\n",
      "CAV accuracy for radio concept (561): 0.9941\n",
      "[0804_141751] 408/623 Calculating CAV for riser\n",
      "Best accuracy: 0.9657811796488068 Regularization: 0.001\n",
      "Best accuracy: 0.9808644754615038 Regularization: 0.005\n",
      "Best accuracy: 0.985366951823503 Regularization: 0.01\n",
      "Best accuracy: 0.9907699234579018 Regularization: 0.05\n",
      "Best accuracy: 0.9923457901846016 Regularization: 0.1\n",
      "Best accuracy: 0.995047276001801 Regularization: 0.5\n"
     ]
    },
    {
     "name": "stderr",
     "output_type": "stream",
     "text": [
      "408it [3:24:16, 24.74s/it]"
     ]
    },
    {
     "name": "stdout",
     "output_type": "stream",
     "text": [
      "CAV accuracy for riser concept (564): 0.9950\n",
      "[0804_141816] 409/623 Calculating CAV for fish\n",
      "Best accuracy: 0.9763619990995047 Regularization: 0.001\n",
      "Best accuracy: 0.9887438090950023 Regularization: 0.005\n",
      "Best accuracy: 0.9923457901846016 Regularization: 0.01\n",
      "Best accuracy: 0.9963980189104007 Regularization: 0.05\n",
      "Best accuracy: 0.9970733903647006 Regularization: 0.1\n",
      "Best accuracy: 0.9979738856371004 Regularization: 0.5\n"
     ]
    },
    {
     "name": "stderr",
     "output_type": "stream",
     "text": [
      "409it [3:24:37, 23.71s/it]"
     ]
    },
    {
     "name": "stdout",
     "output_type": "stream",
     "text": [
      "CAV accuracy for fish concept (566): 0.9980\n",
      "[0804_141837] 410/623 Calculating CAV for panel\n",
      "Best accuracy: 0.9025213867627195 Regularization: 0.001\n",
      "Best accuracy: 0.95047276001801 Regularization: 0.005\n",
      "Best accuracy: 0.9635299414678073 Regularization: 0.01\n",
      "Best accuracy: 0.9833408374606033 Regularization: 0.05\n",
      "Best accuracy: 0.9864925709140027 Regularization: 0.1\n",
      "Best accuracy: 0.9921206663665015 Regularization: 0.5\n",
      "Best accuracy: 0.9927960378208014 Regularization: 1\n",
      "Best accuracy: 0.9939216569113012 Regularization: 3\n"
     ]
    },
    {
     "name": "stderr",
     "output_type": "stream",
     "text": [
      "410it [3:25:07, 25.55s/it]"
     ]
    },
    {
     "name": "stdout",
     "output_type": "stream",
     "text": [
      "Best accuracy: 0.9941467807294012 Regularization: 5\n",
      "CAV accuracy for panel concept (567): 0.9941\n",
      "[0804_141907] 411/623 Calculating CAV for tread\n",
      "Best accuracy: 0.9662314272850068 Regularization: 0.001\n",
      "Best accuracy: 0.9813147230977037 Regularization: 0.005\n",
      "Best accuracy: 0.9858171994597028 Regularization: 0.01\n",
      "Best accuracy: 0.9918955425484016 Regularization: 0.05\n",
      "Best accuracy: 0.9932462854570013 Regularization: 0.1\n",
      "Best accuracy: 0.9954975236380009 Regularization: 0.5\n"
     ]
    },
    {
     "name": "stderr",
     "output_type": "stream",
     "text": [
      "411it [3:25:31, 25.03s/it]"
     ]
    },
    {
     "name": "stdout",
     "output_type": "stream",
     "text": [
      "CAV accuracy for tread concept (568): 0.9955\n",
      "[0804_141931] 412/623 Calculating CAV for boot\n",
      "Best accuracy: 0.9684826654660063 Regularization: 0.001\n",
      "Best accuracy: 0.9826654660063034 Regularization: 0.005\n",
      "Best accuracy: 0.9860423232778028 Regularization: 0.01\n",
      "Best accuracy: 0.9914452949122017 Regularization: 0.05\n",
      "Best accuracy: 0.9930211616389014 Regularization: 0.1\n",
      "Best accuracy: 0.9939216569113012 Regularization: 0.5\n",
      "Best accuracy: 0.9948221521837011 Regularization: 1\n",
      "Best accuracy: 0.9952723998199009 Regularization: 3\n"
     ]
    },
    {
     "name": "stderr",
     "output_type": "stream",
     "text": [
      "412it [3:25:56, 25.05s/it]"
     ]
    },
    {
     "name": "stdout",
     "output_type": "stream",
     "text": [
      "CAV accuracy for boot concept (569): 0.9953\n",
      "[0804_141956] 413/623 Calculating CAV for stabilizer\n",
      "Best accuracy: 0.994597028365601 Regularization: 0.001\n",
      "Best accuracy: 0.9959477712742009 Regularization: 0.005\n",
      "Best accuracy: 0.9963980189104007 Regularization: 0.05\n",
      "Best accuracy: 0.9968482665466006 Regularization: 0.1\n",
      "Best accuracy: 0.9979738856371004 Regularization: 0.5\n"
     ]
    },
    {
     "name": "stderr",
     "output_type": "stream",
     "text": [
      "413it [3:26:11, 22.07s/it]"
     ]
    },
    {
     "name": "stdout",
     "output_type": "stream",
     "text": [
      "CAV accuracy for stabilizer concept (570): 0.9980\n",
      "[0804_142011] 414/623 Calculating CAV for dummy\n",
      "Best accuracy: 0.9446195407474111 Regularization: 0.001\n",
      "Best accuracy: 0.969608284556506 Regularization: 0.005\n",
      "Best accuracy: 0.975461503827105 Regularization: 0.01\n",
      "Best accuracy: 0.9885186852769023 Regularization: 0.05\n",
      "Best accuracy: 0.9916704187303017 Regularization: 0.1\n",
      "Best accuracy: 0.9936965330932013 Regularization: 0.5\n",
      "Best accuracy: 0.9941467807294012 Regularization: 3\n"
     ]
    },
    {
     "name": "stderr",
     "output_type": "stream",
     "text": [
      "414it [3:26:35, 22.62s/it]"
     ]
    },
    {
     "name": "stdout",
     "output_type": "stream",
     "text": [
      "CAV accuracy for dummy concept (573): 0.9941\n",
      "[0804_142035] 415/623 Calculating CAV for mezzanine\n",
      "Best accuracy: 0.9673570463755066 Regularization: 0.001\n",
      "Best accuracy: 0.9783881134624043 Regularization: 0.005\n",
      "Best accuracy: 0.9835659612787033 Regularization: 0.01\n",
      "Best accuracy: 0.9918955425484016 Regularization: 0.05\n",
      "Best accuracy: 0.9930211616389014 Regularization: 0.1\n",
      "Best accuracy: 0.9948221521837011 Regularization: 0.5\n",
      "Best accuracy: 0.9954975236380009 Regularization: 1\n",
      "Best accuracy: 0.9959477712742009 Regularization: 3\n"
     ]
    },
    {
     "name": "stderr",
     "output_type": "stream",
     "text": [
      "415it [3:26:58, 22.62s/it]"
     ]
    },
    {
     "name": "stdout",
     "output_type": "stream",
     "text": [
      "CAV accuracy for mezzanine concept (575): 0.9959\n",
      "[0804_142057] 416/623 Calculating CAV for map\n",
      "Best accuracy: 0.9410175596578118 Regularization: 0.001\n",
      "Best accuracy: 0.9624043223773076 Regularization: 0.005\n",
      "Best accuracy: 0.9718595227375056 Regularization: 0.01\n",
      "Best accuracy: 0.9871679423683025 Regularization: 0.05\n",
      "Best accuracy: 0.9903196758217019 Regularization: 0.1\n",
      "Best accuracy: 0.9934714092751014 Regularization: 0.5\n",
      "Best accuracy: 0.9941467807294012 Regularization: 1\n"
     ]
    },
    {
     "name": "stderr",
     "output_type": "stream",
     "text": [
      "416it [3:27:24, 23.82s/it]"
     ]
    },
    {
     "name": "stdout",
     "output_type": "stream",
     "text": [
      "CAV accuracy for map concept (577): 0.9941\n",
      "[0804_142124] 417/623 Calculating CAV for menu\n",
      "Best accuracy: 0.9727600180099054 Regularization: 0.001\n",
      "Best accuracy: 0.9844664565511031 Regularization: 0.005\n",
      "Best accuracy: 0.9889689329131022 Regularization: 0.01\n",
      "Best accuracy: 0.9941467807294012 Regularization: 0.05\n",
      "Best accuracy: 0.9959477712742009 Regularization: 0.1\n",
      "Best accuracy: 0.9986492570914003 Regularization: 0.5\n",
      "Best accuracy: 0.9988743809095002 Regularization: 3\n"
     ]
    },
    {
     "name": "stderr",
     "output_type": "stream",
     "text": [
      "417it [3:27:47, 23.40s/it]"
     ]
    },
    {
     "name": "stdout",
     "output_type": "stream",
     "text": [
      "Best accuracy: 0.9993246285457001 Regularization: 5\n",
      "CAV accuracy for menu concept (578): 0.9993\n",
      "[0804_142146] 418/623 Calculating CAV for rubbish\n",
      "Best accuracy: 0.9466456551103106 Regularization: 0.001\n",
      "Best accuracy: 0.9709590274651058 Regularization: 0.005\n",
      "Best accuracy: 0.9792886087348042 Regularization: 0.01\n",
      "Best accuracy: 0.9887438090950023 Regularization: 0.05\n",
      "Best accuracy: 0.9907699234579018 Regularization: 0.1\n",
      "Best accuracy: 0.9930211616389014 Regularization: 0.5\n",
      "Best accuracy: 0.9948221521837011 Regularization: 1\n",
      "Best accuracy: 0.995047276001801 Regularization: 3\n"
     ]
    },
    {
     "name": "stderr",
     "output_type": "stream",
     "text": [
      "418it [3:28:11, 23.74s/it]"
     ]
    },
    {
     "name": "stdout",
     "output_type": "stream",
     "text": [
      "Best accuracy: 0.9952723998199009 Regularization: 5\n",
      "CAV accuracy for rubbish concept (581): 0.9953\n",
      "[0804_142211] 419/623 Calculating CAV for gym shoe\n",
      "Best accuracy: 0.9567762269248087 Regularization: 0.001\n",
      "Best accuracy: 0.9770373705538046 Regularization: 0.005\n",
      "Best accuracy: 0.9815398469158036 Regularization: 0.01\n",
      "Best accuracy: 0.9885186852769023 Regularization: 0.05\n",
      "Best accuracy: 0.9907699234579018 Regularization: 0.1\n",
      "Best accuracy: 0.9936965330932013 Regularization: 0.5\n",
      "Best accuracy: 0.9941467807294012 Regularization: 1\n",
      "Best accuracy: 0.9948221521837011 Regularization: 3\n"
     ]
    },
    {
     "name": "stderr",
     "output_type": "stream",
     "text": [
      "419it [3:28:37, 24.39s/it]"
     ]
    },
    {
     "name": "stdout",
     "output_type": "stream",
     "text": [
      "CAV accuracy for gym shoe concept (582): 0.9948\n",
      "[0804_142237] 420/623 Calculating CAV for slot machine\n",
      "Best accuracy: 0.9831157136425034 Regularization: 0.001\n",
      "Best accuracy: 0.9903196758217019 Regularization: 0.005\n",
      "Best accuracy: 0.9918955425484016 Regularization: 0.01\n",
      "Best accuracy: 0.9961728950923008 Regularization: 0.05\n",
      "Best accuracy: 0.9966231427285007 Regularization: 0.1\n",
      "Best accuracy: 0.9968482665466006 Regularization: 1\n",
      "Best accuracy: 0.9972985141828006 Regularization: 3\n"
     ]
    },
    {
     "name": "stderr",
     "output_type": "stream",
     "text": [
      "420it [3:28:57, 22.92s/it]"
     ]
    },
    {
     "name": "stdout",
     "output_type": "stream",
     "text": [
      "CAV accuracy for slot machine concept (586): 0.9973\n",
      "[0804_142256] 421/623 Calculating CAV for arcades\n",
      "Best accuracy: 0.9630796938316074 Regularization: 0.001\n",
      "Best accuracy: 0.9817649707339037 Regularization: 0.005\n",
      "Best accuracy: 0.9876181900045025 Regularization: 0.01\n",
      "Best accuracy: 0.9939216569113012 Regularization: 0.05\n",
      "Best accuracy: 0.9952723998199009 Regularization: 0.1\n",
      "Best accuracy: 0.9970733903647006 Regularization: 0.5\n",
      "Best accuracy: 0.9972985141828006 Regularization: 1\n"
     ]
    },
    {
     "name": "stderr",
     "output_type": "stream",
     "text": [
      "421it [3:29:18, 22.34s/it]"
     ]
    },
    {
     "name": "stdout",
     "output_type": "stream",
     "text": [
      "Best accuracy: 0.9975236380009005 Regularization: 5\n",
      "CAV accuracy for arcades concept (587): 0.9975\n",
      "[0804_142317] 422/623 Calculating CAV for basketball hoop\n",
      "Best accuracy: 0.9734353894642053 Regularization: 0.001\n",
      "Best accuracy: 0.9862674470959027 Regularization: 0.005\n",
      "Best accuracy: 0.990094552003602 Regularization: 0.01\n",
      "Best accuracy: 0.9941467807294012 Regularization: 0.05\n",
      "Best accuracy: 0.9943719045475011 Regularization: 0.1\n",
      "Best accuracy: 0.995047276001801 Regularization: 0.5\n",
      "Best accuracy: 0.9954975236380009 Regularization: 1\n",
      "Best accuracy: 0.9959477712742009 Regularization: 3\n"
     ]
    },
    {
     "name": "stderr",
     "output_type": "stream",
     "text": [
      "422it [3:29:41, 22.51s/it]"
     ]
    },
    {
     "name": "stdout",
     "output_type": "stream",
     "text": [
      "CAV accuracy for basketball hoop concept (588): 0.9959\n",
      "[0804_142340] 423/623 Calculating CAV for tire\n",
      "Best accuracy: 0.9941467807294012 Regularization: 0.001\n",
      "Best accuracy: 0.9977487618190004 Regularization: 0.005\n",
      "Best accuracy: 0.9984241332733003 Regularization: 0.01\n",
      "Best accuracy: 0.9997748761819001 Regularization: 0.05\n"
     ]
    },
    {
     "name": "stderr",
     "output_type": "stream",
     "text": [
      "423it [3:29:55, 20.01s/it]"
     ]
    },
    {
     "name": "stdout",
     "output_type": "stream",
     "text": [
      "CAV accuracy for tire concept (591): 0.9998\n",
      "[0804_142354] 424/623 Calculating CAV for merchandise\n",
      "Best accuracy: 0.9768122467357047 Regularization: 0.001\n",
      "Best accuracy: 0.9880684376407024 Regularization: 0.005\n",
      "Best accuracy: 0.9907699234579018 Regularization: 0.01\n",
      "Best accuracy: 0.9952723998199009 Regularization: 0.05\n",
      "Best accuracy: 0.9963980189104007 Regularization: 0.1\n",
      "Best accuracy: 0.9966231427285007 Regularization: 0.5\n",
      "Best accuracy: 0.9970733903647006 Regularization: 1\n",
      "Best accuracy: 0.9972985141828006 Regularization: 3\n"
     ]
    },
    {
     "name": "stderr",
     "output_type": "stream",
     "text": [
      "424it [3:30:14, 19.80s/it]"
     ]
    },
    {
     "name": "stdout",
     "output_type": "stream",
     "text": [
      "CAV accuracy for merchandise concept (595): 0.9973\n",
      "[0804_142414] 425/623 Calculating CAV for television stand\n",
      "Best accuracy: 0.9067987393066187 Regularization: 0.001\n",
      "Best accuracy: 0.9520486267447096 Regularization: 0.005\n",
      "Best accuracy: 0.9635299414678073 Regularization: 0.01\n",
      "Best accuracy: 0.9837910850968032 Regularization: 0.05\n",
      "Best accuracy: 0.9876181900045025 Regularization: 0.1\n",
      "Best accuracy: 0.9921206663665015 Regularization: 0.5\n",
      "Best accuracy: 0.9930211616389014 Regularization: 1\n",
      "Best accuracy: 0.9948221521837011 Regularization: 3\n"
     ]
    },
    {
     "name": "stderr",
     "output_type": "stream",
     "text": [
      "425it [3:30:40, 21.56s/it]"
     ]
    },
    {
     "name": "stdout",
     "output_type": "stream",
     "text": [
      "Best accuracy: 0.9952723998199009 Regularization: 5\n",
      "CAV accuracy for television stand concept (596): 0.9953\n",
      "[0804_142439] 426/623 Calculating CAV for ice\n",
      "Best accuracy: 0.9808644754615038 Regularization: 0.001\n",
      "Best accuracy: 0.9887438090950023 Regularization: 0.005\n",
      "Best accuracy: 0.9921206663665015 Regularization: 0.01\n",
      "Best accuracy: 0.9957226474561008 Regularization: 0.05\n",
      "Best accuracy: 0.9966231427285007 Regularization: 0.1\n",
      "Best accuracy: 0.9977487618190004 Regularization: 0.5\n",
      "Best accuracy: 0.9984241332733003 Regularization: 1\n"
     ]
    },
    {
     "name": "stderr",
     "output_type": "stream",
     "text": [
      "426it [3:30:57, 20.38s/it]"
     ]
    },
    {
     "name": "stdout",
     "output_type": "stream",
     "text": [
      "CAV accuracy for ice concept (599): 0.9984\n",
      "[0804_142457] 427/623 Calculating CAV for playground\n",
      "Best accuracy: 0.9864925709140027 Regularization: 0.001\n",
      "Best accuracy: 0.9934714092751014 Regularization: 0.005\n",
      "Best accuracy: 0.9948221521837011 Regularization: 0.01\n",
      "Best accuracy: 0.9966231427285007 Regularization: 0.05\n",
      "Best accuracy: 0.9968482665466006 Regularization: 0.1\n",
      "Best accuracy: 0.9986492570914003 Regularization: 0.5\n"
     ]
    },
    {
     "name": "stderr",
     "output_type": "stream",
     "text": [
      "427it [3:31:16, 19.83s/it]"
     ]
    },
    {
     "name": "stdout",
     "output_type": "stream",
     "text": [
      "Best accuracy: 0.9990995047276002 Regularization: 5\n",
      "CAV accuracy for playground concept (600): 0.9991\n",
      "[0804_142515] 428/623 Calculating CAV for deck\n",
      "Best accuracy: 0.9709590274651058 Regularization: 0.001\n",
      "Best accuracy: 0.9824403421882035 Regularization: 0.005\n",
      "Best accuracy: 0.9860423232778028 Regularization: 0.01\n",
      "Best accuracy: 0.9925709140027015 Regularization: 0.05\n",
      "Best accuracy: 0.9954975236380009 Regularization: 0.1\n",
      "Best accuracy: 0.9981990094552003 Regularization: 0.5\n",
      "Best accuracy: 0.9984241332733003 Regularization: 3\n"
     ]
    },
    {
     "name": "stderr",
     "output_type": "stream",
     "text": [
      "428it [3:31:39, 20.75s/it]"
     ]
    },
    {
     "name": "stdout",
     "output_type": "stream",
     "text": [
      "CAV accuracy for deck concept (603): 0.9984\n",
      "[0804_142538] 429/623 Calculating CAV for table tennis\n",
      "Best accuracy: 0.9869428185502026 Regularization: 0.001\n",
      "Best accuracy: 0.9905447996398019 Regularization: 0.005\n",
      "Best accuracy: 0.9916704187303017 Regularization: 0.01\n",
      "Best accuracy: 0.9936965330932013 Regularization: 0.05\n",
      "Best accuracy: 0.995047276001801 Regularization: 0.1\n",
      "Best accuracy: 0.9963980189104007 Regularization: 0.5\n",
      "Best accuracy: 0.9966231427285007 Regularization: 1\n"
     ]
    },
    {
     "name": "stderr",
     "output_type": "stream",
     "text": [
      "429it [3:31:57, 20.05s/it]"
     ]
    },
    {
     "name": "stdout",
     "output_type": "stream",
     "text": [
      "CAV accuracy for table tennis concept (604): 0.9966\n",
      "[0804_142557] 430/623 Calculating CAV for mattress\n",
      "Best accuracy: 0.9473210265646106 Regularization: 0.001\n",
      "Best accuracy: 0.9768122467357047 Regularization: 0.005\n",
      "Best accuracy: 0.984916704187303 Regularization: 0.01\n",
      "Best accuracy: 0.9912201710941018 Regularization: 0.05\n",
      "Best accuracy: 0.9936965330932013 Regularization: 0.1\n",
      "Best accuracy: 0.9968482665466006 Regularization: 0.5\n"
     ]
    },
    {
     "name": "stderr",
     "output_type": "stream",
     "text": [
      "430it [3:32:22, 21.52s/it]"
     ]
    },
    {
     "name": "stdout",
     "output_type": "stream",
     "text": [
      "Best accuracy: 0.9970733903647006 Regularization: 5\n",
      "CAV accuracy for mattress concept (605): 0.9971\n",
      "[0804_142622] 431/623 Calculating CAV for bidet\n",
      "Best accuracy: 0.9691580369203062 Regularization: 0.001\n",
      "Best accuracy: 0.9801891040072039 Regularization: 0.005\n",
      "Best accuracy: 0.9837910850968032 Regularization: 0.01\n",
      "Best accuracy: 0.9918955425484016 Regularization: 0.05\n",
      "Best accuracy: 0.9932462854570013 Regularization: 0.1\n",
      "Best accuracy: 0.9954975236380009 Regularization: 0.5\n",
      "Best accuracy: 0.9959477712742009 Regularization: 1\n",
      "Best accuracy: 0.9968482665466006 Regularization: 3\n"
     ]
    },
    {
     "name": "stderr",
     "output_type": "stream",
     "text": [
      "431it [3:32:42, 21.00s/it]"
     ]
    },
    {
     "name": "stdout",
     "output_type": "stream",
     "text": [
      "CAV accuracy for bidet concept (606): 0.9968\n",
      "[0804_142642] 432/623 Calculating CAV for sweater\n",
      "Best accuracy: 0.9727600180099054 Regularization: 0.001\n",
      "Best accuracy: 0.9869428185502026 Regularization: 0.005\n",
      "Best accuracy: 0.9905447996398019 Regularization: 0.01\n",
      "Best accuracy: 0.994597028365601 Regularization: 0.05\n",
      "Best accuracy: 0.9957226474561008 Regularization: 0.1\n",
      "Best accuracy: 0.9966231427285007 Regularization: 0.5\n",
      "Best accuracy: 0.9968482665466006 Regularization: 1\n",
      "Best accuracy: 0.9970733903647006 Regularization: 3\n"
     ]
    },
    {
     "name": "stderr",
     "output_type": "stream",
     "text": [
      "432it [3:33:02, 20.79s/it]"
     ]
    },
    {
     "name": "stdout",
     "output_type": "stream",
     "text": [
      "CAV accuracy for sweater concept (607): 0.9971\n",
      "[0804_142702] 433/623 Calculating CAV for aircraft carrier\n",
      "Best accuracy: 0.9957226474561008 Regularization: 0.001\n",
      "Best accuracy: 0.9972985141828006 Regularization: 0.005\n",
      "Best accuracy: 0.9981990094552003 Regularization: 0.05\n",
      "Best accuracy: 0.9986492570914003 Regularization: 0.1\n",
      "Best accuracy: 0.9988743809095002 Regularization: 0.5\n"
     ]
    },
    {
     "name": "stderr",
     "output_type": "stream",
     "text": [
      "433it [3:33:16, 18.65s/it]"
     ]
    },
    {
     "name": "stdout",
     "output_type": "stream",
     "text": [
      "CAV accuracy for aircraft carrier concept (612): 0.9989\n",
      "[0804_142715] 434/623 Calculating CAV for valley\n",
      "Best accuracy: 0.9515983791085096 Regularization: 0.001\n",
      "Best accuracy: 0.9743358847366052 Regularization: 0.005\n",
      "Best accuracy: 0.9815398469158036 Regularization: 0.01\n",
      "Best accuracy: 0.9912201710941018 Regularization: 0.05\n",
      "Best accuracy: 0.9932462854570013 Regularization: 0.1\n",
      "Best accuracy: 0.9952723998199009 Regularization: 0.5\n",
      "Best accuracy: 0.9957226474561008 Regularization: 1\n",
      "Best accuracy: 0.9961728950923008 Regularization: 3\n"
     ]
    },
    {
     "name": "stderr",
     "output_type": "stream",
     "text": [
      "434it [3:33:38, 19.78s/it]"
     ]
    },
    {
     "name": "stdout",
     "output_type": "stream",
     "text": [
      "CAV accuracy for valley concept (613): 0.9962\n",
      "[0804_142738] 435/623 Calculating CAV for railway\n",
      "Best accuracy: 0.990094552003602 Regularization: 0.001\n",
      "Best accuracy: 0.994597028365601 Regularization: 0.005\n",
      "Best accuracy: 0.9952723998199009 Regularization: 0.01\n",
      "Best accuracy: 0.9968482665466006 Regularization: 0.05\n",
      "Best accuracy: 0.9975236380009005 Regularization: 0.1\n",
      "Best accuracy: 0.9979738856371004 Regularization: 0.5\n",
      "Best accuracy: 0.9981990094552003 Regularization: 1\n"
     ]
    },
    {
     "name": "stderr",
     "output_type": "stream",
     "text": [
      "435it [3:33:58, 19.80s/it]"
     ]
    },
    {
     "name": "stdout",
     "output_type": "stream",
     "text": [
      "CAV accuracy for railway concept (614): 0.9982\n",
      "[0804_142758] 436/623 Calculating CAV for balloon\n",
      "Best accuracy: 0.965105808194507 Regularization: 0.001\n",
      "Best accuracy: 0.9837910850968032 Regularization: 0.005\n",
      "Best accuracy: 0.9882935614588023 Regularization: 0.01\n",
      "Best accuracy: 0.9957226474561008 Regularization: 0.05\n",
      "Best accuracy: 0.9966231427285007 Regularization: 0.1\n",
      "Best accuracy: 0.9981990094552003 Regularization: 0.5\n",
      "Best accuracy: 0.9984241332733003 Regularization: 1\n",
      "Best accuracy: 0.9988743809095002 Regularization: 3\n"
     ]
    },
    {
     "name": "stderr",
     "output_type": "stream",
     "text": [
      "436it [3:34:21, 20.65s/it]"
     ]
    },
    {
     "name": "stdout",
     "output_type": "stream",
     "text": [
      "CAV accuracy for balloon concept (615): 0.9989\n",
      "[0804_142820] 437/623 Calculating CAV for pitch\n",
      "Best accuracy: 0.9921206663665015 Regularization: 0.001\n",
      "Best accuracy: 0.9934714092751014 Regularization: 0.005\n",
      "Best accuracy: 0.994597028365601 Regularization: 0.01\n",
      "Best accuracy: 0.9966231427285007 Regularization: 0.05\n",
      "Best accuracy: 0.9972985141828006 Regularization: 0.1\n",
      "Best accuracy: 0.9977487618190004 Regularization: 0.5\n"
     ]
    },
    {
     "name": "stderr",
     "output_type": "stream",
     "text": [
      "437it [3:34:37, 19.39s/it]"
     ]
    },
    {
     "name": "stdout",
     "output_type": "stream",
     "text": [
      "CAV accuracy for pitch concept (620): 0.9977\n",
      "[0804_142837] 438/623 Calculating CAV for display board\n",
      "Best accuracy: 0.9579018460153084 Regularization: 0.001\n",
      "Best accuracy: 0.9734353894642053 Regularization: 0.005\n",
      "Best accuracy: 0.9810895992796038 Regularization: 0.01\n",
      "Best accuracy: 0.9894191805493021 Regularization: 0.05\n",
      "Best accuracy: 0.9925709140027015 Regularization: 0.1\n",
      "Best accuracy: 0.9966231427285007 Regularization: 0.5\n",
      "Best accuracy: 0.9975236380009005 Regularization: 3\n"
     ]
    },
    {
     "name": "stderr",
     "output_type": "stream",
     "text": [
      "438it [3:35:02, 20.90s/it]"
     ]
    },
    {
     "name": "stdout",
     "output_type": "stream",
     "text": [
      "CAV accuracy for display board concept (621): 0.9975\n",
      "[0804_142901] 439/623 Calculating CAV for cockpit\n",
      "Best accuracy: 0.9916704187303017 Regularization: 0.001\n",
      "Best accuracy: 0.9939216569113012 Regularization: 0.005\n",
      "Best accuracy: 0.9941467807294012 Regularization: 0.01\n",
      "Best accuracy: 0.9954975236380009 Regularization: 0.05\n",
      "Best accuracy: 0.9959477712742009 Regularization: 0.1\n",
      "Best accuracy: 0.9972985141828006 Regularization: 0.5\n",
      "Best accuracy: 0.9975236380009005 Regularization: 3\n"
     ]
    },
    {
     "name": "stderr",
     "output_type": "stream",
     "text": [
      "439it [3:35:18, 19.66s/it]"
     ]
    },
    {
     "name": "stdout",
     "output_type": "stream",
     "text": [
      "CAV accuracy for cockpit concept (622): 0.9975\n",
      "[0804_142918] 440/623 Calculating CAV for pallet\n",
      "Best accuracy: 0.9513732552904097 Regularization: 0.001\n",
      "Best accuracy: 0.9716343989194057 Regularization: 0.005\n",
      "Best accuracy: 0.979963980189104 Regularization: 0.01\n",
      "Best accuracy: 0.9891940567312022 Regularization: 0.05\n",
      "Best accuracy: 0.9921206663665015 Regularization: 0.1\n",
      "Best accuracy: 0.995047276001801 Regularization: 0.5\n",
      "Best accuracy: 0.9957226474561008 Regularization: 3\n"
     ]
    },
    {
     "name": "stderr",
     "output_type": "stream",
     "text": [
      "440it [3:35:44, 21.40s/it]"
     ]
    },
    {
     "name": "stdout",
     "output_type": "stream",
     "text": [
      "CAV accuracy for pallet concept (623): 0.9957\n",
      "[0804_142943] 441/623 Calculating CAV for patio\n",
      "Best accuracy: 0.9628545700135074 Regularization: 0.001\n",
      "Best accuracy: 0.9824403421882035 Regularization: 0.005\n",
      "Best accuracy: 0.985366951823503 Regularization: 0.01\n",
      "Best accuracy: 0.9932462854570013 Regularization: 0.05\n",
      "Best accuracy: 0.9943719045475011 Regularization: 0.1\n",
      "Best accuracy: 0.9966231427285007 Regularization: 0.5\n",
      "Best accuracy: 0.9968482665466006 Regularization: 1\n",
      "Best accuracy: 0.9970733903647006 Regularization: 3\n"
     ]
    },
    {
     "name": "stderr",
     "output_type": "stream",
     "text": [
      "441it [3:36:08, 22.05s/it]"
     ]
    },
    {
     "name": "stdout",
     "output_type": "stream",
     "text": [
      "Best accuracy: 0.9972985141828006 Regularization: 5\n",
      "CAV accuracy for patio concept (626): 0.9973\n",
      "[0804_143007] 442/623 Calculating CAV for ad\n",
      "Best accuracy: 0.9387663214768123 Regularization: 0.001\n",
      "Best accuracy: 0.9714092751013057 Regularization: 0.005\n",
      "Best accuracy: 0.9790634849167041 Regularization: 0.01\n",
      "Best accuracy: 0.9921206663665015 Regularization: 0.05\n",
      "Best accuracy: 0.9943719045475011 Regularization: 0.1\n",
      "Best accuracy: 0.9968482665466006 Regularization: 0.5\n",
      "Best accuracy: 0.9972985141828006 Regularization: 1\n",
      "Best accuracy: 0.9977487618190004 Regularization: 3\n"
     ]
    },
    {
     "name": "stderr",
     "output_type": "stream",
     "text": [
      "442it [3:36:30, 22.33s/it]"
     ]
    },
    {
     "name": "stdout",
     "output_type": "stream",
     "text": [
      "Best accuracy: 0.9981990094552003 Regularization: 5\n",
      "CAV accuracy for ad concept (627): 0.9982\n",
      "[0804_143030] 443/623 Calculating CAV for price tag\n",
      "Best accuracy: 0.984691580369203 Regularization: 0.001\n",
      "Best accuracy: 0.9948221521837011 Regularization: 0.005\n",
      "Best accuracy: 0.9959477712742009 Regularization: 0.01\n",
      "Best accuracy: 0.9972985141828006 Regularization: 0.05\n",
      "Best accuracy: 0.9975236380009005 Regularization: 0.1\n",
      "Best accuracy: 0.9979738856371004 Regularization: 0.5\n",
      "Best accuracy: 0.9981990094552003 Regularization: 1\n"
     ]
    },
    {
     "name": "stderr",
     "output_type": "stream",
     "text": [
      "443it [3:36:49, 21.17s/it]"
     ]
    },
    {
     "name": "stdout",
     "output_type": "stream",
     "text": [
      "CAV accuracy for price tag concept (628): 0.9982\n",
      "[0804_143048] 444/623 Calculating CAV for controls\n",
      "Best accuracy: 0.9927960378208014 Regularization: 0.001\n",
      "Best accuracy: 0.9961728950923008 Regularization: 0.005\n",
      "Best accuracy: 0.9972985141828006 Regularization: 0.01\n",
      "Best accuracy: 0.9979738856371004 Regularization: 0.05\n",
      "Best accuracy: 0.9981990094552003 Regularization: 0.5\n"
     ]
    },
    {
     "name": "stderr",
     "output_type": "stream",
     "text": [
      "444it [3:37:03, 19.18s/it]"
     ]
    },
    {
     "name": "stdout",
     "output_type": "stream",
     "text": [
      "CAV accuracy for controls concept (631): 0.9982\n",
      "[0804_143103] 445/623 Calculating CAV for island\n",
      "Best accuracy: 0.9815398469158036 Regularization: 0.001\n",
      "Best accuracy: 0.9882935614588023 Regularization: 0.005\n",
      "Best accuracy: 0.9916704187303017 Regularization: 0.01\n",
      "Best accuracy: 0.995047276001801 Regularization: 0.05\n",
      "Best accuracy: 0.9959477712742009 Regularization: 0.1\n",
      "Best accuracy: 0.9972985141828006 Regularization: 0.5\n",
      "Best accuracy: 0.9979738856371004 Regularization: 1\n"
     ]
    },
    {
     "name": "stderr",
     "output_type": "stream",
     "text": [
      "445it [3:37:23, 19.26s/it]"
     ]
    },
    {
     "name": "stdout",
     "output_type": "stream",
     "text": [
      "CAV accuracy for island concept (632): 0.9980\n",
      "[0804_143122] 446/623 Calculating CAV for metal shutters\n",
      "Best accuracy: 0.9711841512832058 Regularization: 0.001\n",
      "Best accuracy: 0.9862674470959027 Regularization: 0.005\n",
      "Best accuracy: 0.990094552003602 Regularization: 0.01\n",
      "Best accuracy: 0.9959477712742009 Regularization: 0.05\n",
      "Best accuracy: 0.9970733903647006 Regularization: 0.1\n",
      "Best accuracy: 0.9972985141828006 Regularization: 0.5\n",
      "Best accuracy: 0.9977487618190004 Regularization: 1\n"
     ]
    },
    {
     "name": "stderr",
     "output_type": "stream",
     "text": [
      "446it [3:37:45, 19.97s/it]"
     ]
    },
    {
     "name": "stdout",
     "output_type": "stream",
     "text": [
      "Best accuracy: 0.9979738856371004 Regularization: 5\n",
      "CAV accuracy for metal shutters concept (633): 0.9980\n",
      "[0804_143144] 447/623 Calculating CAV for curtains\n",
      "Best accuracy: 0.9353894642053129 Regularization: 0.001\n",
      "Best accuracy: 0.9741107609185051 Regularization: 0.005\n",
      "Best accuracy: 0.9844664565511031 Regularization: 0.01\n",
      "Best accuracy: 0.9930211616389014 Regularization: 0.05\n",
      "Best accuracy: 0.9941467807294012 Regularization: 0.1\n",
      "Best accuracy: 0.9961728950923008 Regularization: 0.5\n",
      "Best accuracy: 0.9972985141828006 Regularization: 1\n",
      "Best accuracy: 0.9977487618190004 Regularization: 3\n"
     ]
    },
    {
     "name": "stderr",
     "output_type": "stream",
     "text": [
      "447it [3:38:07, 20.75s/it]"
     ]
    },
    {
     "name": "stdout",
     "output_type": "stream",
     "text": [
      "Best accuracy: 0.9979738856371004 Regularization: 5\n",
      "CAV accuracy for curtains concept (640): 0.9980\n",
      "[0804_143207] 448/623 Calculating CAV for porch\n",
      "Best accuracy: 0.9527239981990094 Regularization: 0.001\n",
      "Best accuracy: 0.9732102656461054 Regularization: 0.005\n",
      "Best accuracy: 0.9774876181900045 Regularization: 0.01\n",
      "Best accuracy: 0.9885186852769023 Regularization: 0.05\n",
      "Best accuracy: 0.9921206663665015 Regularization: 0.1\n",
      "Best accuracy: 0.9941467807294012 Regularization: 0.5\n",
      "Best accuracy: 0.994597028365601 Regularization: 1\n",
      "Best accuracy: 0.9954975236380009 Regularization: 3\n"
     ]
    },
    {
     "name": "stderr",
     "output_type": "stream",
     "text": [
      "448it [3:38:38, 23.92s/it]"
     ]
    },
    {
     "name": "stdout",
     "output_type": "stream",
     "text": [
      "CAV accuracy for porch concept (641): 0.9955\n",
      "[0804_143238] 449/623 Calculating CAV for bottle rack\n",
      "Best accuracy: 0.9540747411076091 Regularization: 0.001\n",
      "Best accuracy: 0.975011256190905 Regularization: 0.005\n",
      "Best accuracy: 0.9817649707339037 Regularization: 0.01\n",
      "Best accuracy: 0.9905447996398019 Regularization: 0.05\n",
      "Best accuracy: 0.9936965330932013 Regularization: 0.1\n",
      "Best accuracy: 0.9972985141828006 Regularization: 0.5\n",
      "Best accuracy: 0.9975236380009005 Regularization: 1\n",
      "Best accuracy: 0.9981990094552003 Regularization: 3\n"
     ]
    },
    {
     "name": "stderr",
     "output_type": "stream",
     "text": [
      "449it [3:39:10, 26.23s/it]"
     ]
    },
    {
     "name": "stdout",
     "output_type": "stream",
     "text": [
      "Best accuracy: 0.9984241332733003 Regularization: 5\n",
      "CAV accuracy for bottle rack concept (642): 0.9984\n",
      "[0804_143310] 450/623 Calculating CAV for duck\n",
      "Best accuracy: 0.9840162089149032 Regularization: 0.001\n",
      "Best accuracy: 0.9943719045475011 Regularization: 0.005\n",
      "Best accuracy: 0.9954975236380009 Regularization: 0.01\n",
      "Best accuracy: 0.9972985141828006 Regularization: 0.05\n",
      "Best accuracy: 0.9977487618190004 Regularization: 0.1\n",
      "Best accuracy: 0.9981990094552003 Regularization: 0.5\n",
      "Best accuracy: 0.9984241332733003 Regularization: 1\n",
      "Best accuracy: 0.9986492570914003 Regularization: 3\n"
     ]
    },
    {
     "name": "stderr",
     "output_type": "stream",
     "text": [
      "450it [3:39:29, 23.98s/it]"
     ]
    },
    {
     "name": "stdout",
     "output_type": "stream",
     "text": [
      "CAV accuracy for duck concept (643): 0.9986\n",
      "[0804_143328] 451/623 Calculating CAV for gas pump\n",
      "Best accuracy: 0.9912201710941018 Regularization: 0.001\n",
      "Best accuracy: 0.9961728950923008 Regularization: 0.005\n",
      "Best accuracy: 0.9963980189104007 Regularization: 0.01\n",
      "Best accuracy: 0.9984241332733003 Regularization: 0.05\n",
      "Best accuracy: 0.9988743809095002 Regularization: 0.1\n"
     ]
    },
    {
     "name": "stderr",
     "output_type": "stream",
     "text": [
      "451it [3:39:46, 22.04s/it]"
     ]
    },
    {
     "name": "stdout",
     "output_type": "stream",
     "text": [
      "CAV accuracy for gas pump concept (644): 0.9989\n",
      "[0804_143346] 452/623 Calculating CAV for pulpit\n",
      "Best accuracy: 0.989869428185502 Regularization: 0.001\n",
      "Best accuracy: 0.9936965330932013 Regularization: 0.005\n",
      "Best accuracy: 0.9941467807294012 Regularization: 0.01\n",
      "Best accuracy: 0.9966231427285007 Regularization: 0.05\n",
      "Best accuracy: 0.9968482665466006 Regularization: 0.1\n",
      "Best accuracy: 0.9984241332733003 Regularization: 0.5\n"
     ]
    },
    {
     "name": "stderr",
     "output_type": "stream",
     "text": [
      "452it [3:40:03, 20.44s/it]"
     ]
    },
    {
     "name": "stdout",
     "output_type": "stream",
     "text": [
      "CAV accuracy for pulpit concept (648): 0.9984\n",
      "[0804_143403] 453/623 Calculating CAV for ramp\n",
      "Best accuracy: 0.9443944169293111 Regularization: 0.001\n",
      "Best accuracy: 0.9738856371004052 Regularization: 0.005\n",
      "Best accuracy: 0.9815398469158036 Regularization: 0.01\n",
      "Best accuracy: 0.9914452949122017 Regularization: 0.05\n",
      "Best accuracy: 0.9930211616389014 Regularization: 0.1\n",
      "Best accuracy: 0.9952723998199009 Regularization: 0.5\n",
      "Best accuracy: 0.9954975236380009 Regularization: 1\n",
      "Best accuracy: 0.9957226474561008 Regularization: 3\n"
     ]
    },
    {
     "name": "stderr",
     "output_type": "stream",
     "text": [
      "453it [3:40:28, 21.78s/it]"
     ]
    },
    {
     "name": "stdout",
     "output_type": "stream",
     "text": [
      "CAV accuracy for ramp concept (649): 0.9957\n",
      "[0804_143427] 454/623 Calculating CAV for leaves\n",
      "Best accuracy: 0.9561008554705088 Regularization: 0.001\n",
      "Best accuracy: 0.9786132372805043 Regularization: 0.005\n",
      "Best accuracy: 0.985141828005403 Regularization: 0.01\n",
      "Best accuracy: 0.9939216569113012 Regularization: 0.05\n",
      "Best accuracy: 0.9952723998199009 Regularization: 0.1\n",
      "Best accuracy: 0.9968482665466006 Regularization: 0.5\n",
      "Best accuracy: 0.9970733903647006 Regularization: 1\n",
      "Best accuracy: 0.9975236380009005 Regularization: 3\n"
     ]
    },
    {
     "name": "stderr",
     "output_type": "stream",
     "text": [
      "454it [3:40:51, 22.22s/it]"
     ]
    },
    {
     "name": "stdout",
     "output_type": "stream",
     "text": [
      "CAV accuracy for leaves concept (653): 0.9975\n",
      "[0804_143451] 455/623 Calculating CAV for slope\n",
      "Best accuracy: 0.9574515983791085 Regularization: 0.001\n",
      "Best accuracy: 0.9720846465556056 Regularization: 0.005\n",
      "Best accuracy: 0.9795137325529041 Regularization: 0.01\n",
      "Best accuracy: 0.9905447996398019 Regularization: 0.05\n",
      "Best accuracy: 0.9927960378208014 Regularization: 0.1\n",
      "Best accuracy: 0.9954975236380009 Regularization: 0.5\n",
      "Best accuracy: 0.9961728950923008 Regularization: 1\n",
      "Best accuracy: 0.9966231427285007 Regularization: 3\n"
     ]
    },
    {
     "name": "stderr",
     "output_type": "stream",
     "text": [
      "455it [3:41:14, 22.44s/it]"
     ]
    },
    {
     "name": "stdout",
     "output_type": "stream",
     "text": [
      "Best accuracy: 0.9968482665466006 Regularization: 5\n",
      "CAV accuracy for slope concept (654): 0.9968\n",
      "[0804_143514] 456/623 Calculating CAV for helicopter\n",
      "Best accuracy: 0.980414227825304 Regularization: 0.001\n",
      "Best accuracy: 0.989869428185502 Regularization: 0.005\n",
      "Best accuracy: 0.9918955425484016 Regularization: 0.01\n",
      "Best accuracy: 0.9970733903647006 Regularization: 0.05\n",
      "Best accuracy: 0.9981990094552003 Regularization: 0.1\n",
      "Best accuracy: 0.9986492570914003 Regularization: 0.5\n",
      "Best accuracy: 0.9988743809095002 Regularization: 1\n",
      "Best accuracy: 0.9990995047276002 Regularization: 3\n"
     ]
    },
    {
     "name": "stderr",
     "output_type": "stream",
     "text": [
      "456it [3:41:35, 21.89s/it]"
     ]
    },
    {
     "name": "stdout",
     "output_type": "stream",
     "text": [
      "Best accuracy: 0.9993246285457001 Regularization: 5\n",
      "CAV accuracy for helicopter concept (655): 0.9993\n",
      "[0804_143534] 457/623 Calculating CAV for podium\n",
      "Best accuracy: 0.9644304367402071 Regularization: 0.001\n",
      "Best accuracy: 0.9772624943719046 Regularization: 0.005\n",
      "Best accuracy: 0.979963980189104 Regularization: 0.01\n",
      "Best accuracy: 0.9887438090950023 Regularization: 0.05\n",
      "Best accuracy: 0.9918955425484016 Regularization: 0.1\n",
      "Best accuracy: 0.995047276001801 Regularization: 0.5\n",
      "Best accuracy: 0.9963980189104007 Regularization: 1\n"
     ]
    },
    {
     "name": "stderr",
     "output_type": "stream",
     "text": [
      "457it [3:41:56, 21.74s/it]"
     ]
    },
    {
     "name": "stdout",
     "output_type": "stream",
     "text": [
      "Best accuracy: 0.9966231427285007 Regularization: 5\n",
      "CAV accuracy for podium concept (656): 0.9966\n",
      "[0804_143556] 458/623 Calculating CAV for steering wheel\n",
      "Best accuracy: 0.9790634849167041 Regularization: 0.001\n",
      "Best accuracy: 0.9894191805493021 Regularization: 0.005\n",
      "Best accuracy: 0.9921206663665015 Regularization: 0.01\n",
      "Best accuracy: 0.9952723998199009 Regularization: 0.05\n",
      "Best accuracy: 0.9966231427285007 Regularization: 0.1\n",
      "Best accuracy: 0.9972985141828006 Regularization: 0.5\n",
      "Best accuracy: 0.9977487618190004 Regularization: 1\n"
     ]
    },
    {
     "name": "stderr",
     "output_type": "stream",
     "text": [
      "458it [3:42:19, 21.99s/it]"
     ]
    },
    {
     "name": "stdout",
     "output_type": "stream",
     "text": [
      "CAV accuracy for steering wheel concept (657): 0.9977\n",
      "[0804_143618] 459/623 Calculating CAV for finger\n",
      "Best accuracy: 0.9927960378208014 Regularization: 0.001\n",
      "Best accuracy: 0.9954975236380009 Regularization: 0.005\n",
      "Best accuracy: 0.9959477712742009 Regularization: 0.01\n",
      "Best accuracy: 0.9970733903647006 Regularization: 0.05\n",
      "Best accuracy: 0.9975236380009005 Regularization: 0.1\n",
      "Best accuracy: 0.9984241332733003 Regularization: 0.5\n",
      "Best accuracy: 0.9986492570914003 Regularization: 1\n",
      "Best accuracy: 0.9990995047276002 Regularization: 3\n"
     ]
    },
    {
     "name": "stderr",
     "output_type": "stream",
     "text": [
      "459it [3:42:35, 20.30s/it]"
     ]
    },
    {
     "name": "stdout",
     "output_type": "stream",
     "text": [
      "CAV accuracy for finger concept (658): 0.9991\n",
      "[0804_143635] 460/623 Calculating CAV for monument\n",
      "Best accuracy: 0.9493471409275102 Regularization: 0.001\n",
      "Best accuracy: 0.9720846465556056 Regularization: 0.005\n",
      "Best accuracy: 0.9788383610986042 Regularization: 0.01\n",
      "Best accuracy: 0.9885186852769023 Regularization: 0.05\n",
      "Best accuracy: 0.9912201710941018 Regularization: 0.1\n",
      "Best accuracy: 0.9936965330932013 Regularization: 0.5\n",
      "Best accuracy: 0.9948221521837011 Regularization: 1\n",
      "Best accuracy: 0.9959477712742009 Regularization: 3\n"
     ]
    },
    {
     "name": "stderr",
     "output_type": "stream",
     "text": [
      "460it [3:42:58, 20.98s/it]"
     ]
    },
    {
     "name": "stdout",
     "output_type": "stream",
     "text": [
      "CAV accuracy for monument concept (659): 0.9959\n",
      "[0804_143657] 461/623 Calculating CAV for trailer\n",
      "Best accuracy: 0.9662314272850068 Regularization: 0.001\n",
      "Best accuracy: 0.9819900945520036 Regularization: 0.005\n",
      "Best accuracy: 0.9871679423683025 Regularization: 0.01\n",
      "Best accuracy: 0.9918955425484016 Regularization: 0.05\n",
      "Best accuracy: 0.9936965330932013 Regularization: 0.1\n",
      "Best accuracy: 0.994597028365601 Regularization: 0.5\n",
      "Best accuracy: 0.9948221521837011 Regularization: 1\n",
      "Best accuracy: 0.9957226474561008 Regularization: 3\n"
     ]
    },
    {
     "name": "stderr",
     "output_type": "stream",
     "text": [
      "461it [3:43:20, 21.30s/it]"
     ]
    },
    {
     "name": "stdout",
     "output_type": "stream",
     "text": [
      "Best accuracy: 0.9959477712742009 Regularization: 5\n",
      "CAV accuracy for trailer concept (660): 0.9959\n",
      "[0804_143719] 462/623 Calculating CAV for windmill\n",
      "Best accuracy: 0.9970733903647006 Regularization: 0.001\n",
      "Best accuracy: 0.9981990094552003 Regularization: 0.005\n",
      "Best accuracy: 0.9986492570914003 Regularization: 0.01\n",
      "Best accuracy: 0.9988743809095002 Regularization: 0.05\n",
      "Best accuracy: 0.9990995047276002 Regularization: 0.5\n",
      "Best accuracy: 0.9993246285457001 Regularization: 1\n"
     ]
    },
    {
     "name": "stderr",
     "output_type": "stream",
     "text": [
      "462it [3:43:38, 20.50s/it]"
     ]
    },
    {
     "name": "stdout",
     "output_type": "stream",
     "text": [
      "CAV accuracy for windmill concept (663): 0.9993\n",
      "[0804_143738] 463/623 Calculating CAV for pool\n",
      "Best accuracy: 0.9826654660063034 Regularization: 0.001\n",
      "Best accuracy: 0.9885186852769023 Regularization: 0.005\n",
      "Best accuracy: 0.9912201710941018 Regularization: 0.01\n",
      "Best accuracy: 0.994597028365601 Regularization: 0.05\n",
      "Best accuracy: 0.9954975236380009 Regularization: 0.1\n",
      "Best accuracy: 0.9975236380009005 Regularization: 0.5\n",
      "Best accuracy: 0.9977487618190004 Regularization: 1\n",
      "Best accuracy: 0.9979738856371004 Regularization: 3\n"
     ]
    },
    {
     "name": "stderr",
     "output_type": "stream",
     "text": [
      "463it [3:44:09, 23.57s/it]"
     ]
    },
    {
     "name": "stdout",
     "output_type": "stream",
     "text": [
      "Best accuracy: 0.9981990094552003 Regularization: 5\n",
      "CAV accuracy for pool concept (664): 0.9982\n",
      "[0804_143809] 464/623 Calculating CAV for water tower\n",
      "Best accuracy: 0.9912201710941018 Regularization: 0.001\n",
      "Best accuracy: 0.9948221521837011 Regularization: 0.005\n",
      "Best accuracy: 0.9959477712742009 Regularization: 0.01\n",
      "Best accuracy: 0.9979738856371004 Regularization: 0.05\n",
      "Best accuracy: 0.9981990094552003 Regularization: 0.1\n",
      "Best accuracy: 0.9984241332733003 Regularization: 0.5\n",
      "Best accuracy: 0.9986492570914003 Regularization: 3\n"
     ]
    },
    {
     "name": "stderr",
     "output_type": "stream",
     "text": [
      "464it [3:44:29, 22.57s/it]"
     ]
    },
    {
     "name": "stdout",
     "output_type": "stream",
     "text": [
      "CAV accuracy for water tower concept (665): 0.9986\n",
      "[0804_143829] 465/623 Calculating CAV for folding screen\n",
      "Best accuracy: 0.9212066636650158 Regularization: 0.001\n",
      "Best accuracy: 0.9693831607384061 Regularization: 0.005\n",
      "Best accuracy: 0.9792886087348042 Regularization: 0.01\n",
      "Best accuracy: 0.9905447996398019 Regularization: 0.05\n",
      "Best accuracy: 0.9930211616389014 Regularization: 0.1\n",
      "Best accuracy: 0.9968482665466006 Regularization: 0.5\n",
      "Best accuracy: 0.9970733903647006 Regularization: 1\n",
      "Best accuracy: 0.9977487618190004 Regularization: 3\n"
     ]
    },
    {
     "name": "stderr",
     "output_type": "stream",
     "text": [
      "465it [3:45:10, 27.96s/it]"
     ]
    },
    {
     "name": "stdout",
     "output_type": "stream",
     "text": [
      "CAV accuracy for folding screen concept (666): 0.9977\n",
      "[0804_143909] 466/623 Calculating CAV for workbench\n",
      "Best accuracy: 0.9678072940117064 Regularization: 0.001\n",
      "Best accuracy: 0.9826654660063034 Regularization: 0.005\n",
      "Best accuracy: 0.9885186852769023 Regularization: 0.01\n",
      "Best accuracy: 0.994597028365601 Regularization: 0.05\n",
      "Best accuracy: 0.9963980189104007 Regularization: 0.1\n",
      "Best accuracy: 0.9981990094552003 Regularization: 0.5\n",
      "Best accuracy: 0.9984241332733003 Regularization: 1\n",
      "Best accuracy: 0.9986492570914003 Regularization: 3\n"
     ]
    },
    {
     "name": "stderr",
     "output_type": "stream",
     "text": [
      "466it [3:45:47, 30.68s/it]"
     ]
    },
    {
     "name": "stdout",
     "output_type": "stream",
     "text": [
      "CAV accuracy for workbench concept (667): 0.9986\n",
      "[0804_143946] 467/623 Calculating CAV for brushes\n",
      "Best accuracy: 0.9702836560108059 Regularization: 0.001\n",
      "Best accuracy: 0.9837910850968032 Regularization: 0.005\n",
      "Best accuracy: 0.9885186852769023 Regularization: 0.01\n",
      "Best accuracy: 0.9948221521837011 Regularization: 0.05\n",
      "Best accuracy: 0.9963980189104007 Regularization: 0.1\n",
      "Best accuracy: 0.9970733903647006 Regularization: 0.5\n",
      "Best accuracy: 0.9972985141828006 Regularization: 1\n",
      "Best accuracy: 0.9979738856371004 Regularization: 3\n"
     ]
    },
    {
     "name": "stderr",
     "output_type": "stream",
     "text": [
      "467it [3:46:24, 32.77s/it]"
     ]
    },
    {
     "name": "stdout",
     "output_type": "stream",
     "text": [
      "CAV accuracy for brushes concept (668): 0.9980\n",
      "[0804_144024] 468/623 Calculating CAV for leaf\n",
      "Best accuracy: 0.9653309320126069 Regularization: 0.001\n",
      "Best accuracy: 0.9819900945520036 Regularization: 0.005\n",
      "Best accuracy: 0.9887438090950023 Regularization: 0.01\n",
      "Best accuracy: 0.9939216569113012 Regularization: 0.05\n",
      "Best accuracy: 0.9948221521837011 Regularization: 0.1\n",
      "Best accuracy: 0.9963980189104007 Regularization: 0.5\n",
      "Best accuracy: 0.9968482665466006 Regularization: 1\n",
      "Best accuracy: 0.9975236380009005 Regularization: 3\n"
     ]
    },
    {
     "name": "stderr",
     "output_type": "stream",
     "text": [
      "468it [3:47:03, 34.64s/it]"
     ]
    },
    {
     "name": "stdout",
     "output_type": "stream",
     "text": [
      "Best accuracy: 0.9977487618190004 Regularization: 5\n",
      "CAV accuracy for leaf concept (669): 0.9977\n",
      "[0804_144103] 469/623 Calculating CAV for scoreboard\n",
      "Best accuracy: 0.9761368752814048 Regularization: 0.001\n",
      "Best accuracy: 0.9869428185502026 Regularization: 0.005\n",
      "Best accuracy: 0.9903196758217019 Regularization: 0.01\n",
      "Best accuracy: 0.9943719045475011 Regularization: 0.05\n",
      "Best accuracy: 0.9952723998199009 Regularization: 0.1\n",
      "Best accuracy: 0.9961728950923008 Regularization: 0.5\n",
      "Best accuracy: 0.9966231427285007 Regularization: 1\n",
      "Best accuracy: 0.9970733903647006 Regularization: 3\n"
     ]
    },
    {
     "name": "stderr",
     "output_type": "stream",
     "text": [
      "469it [3:47:27, 31.41s/it]"
     ]
    },
    {
     "name": "stdout",
     "output_type": "stream",
     "text": [
      "CAV accuracy for scoreboard concept (670): 0.9971\n",
      "[0804_144127] 470/623 Calculating CAV for ice rink\n",
      "Best accuracy: 0.9925709140027015 Regularization: 0.001\n",
      "Best accuracy: 0.9961728950923008 Regularization: 0.005\n",
      "Best accuracy: 0.9968482665466006 Regularization: 0.01\n",
      "Best accuracy: 0.9988743809095002 Regularization: 0.05\n",
      "Best accuracy: 0.9990995047276002 Regularization: 0.1\n"
     ]
    },
    {
     "name": "stderr",
     "output_type": "stream",
     "text": [
      "470it [3:47:46, 27.46s/it]"
     ]
    },
    {
     "name": "stdout",
     "output_type": "stream",
     "text": [
      "CAV accuracy for ice rink concept (678): 0.9991\n",
      "[0804_144145] 471/623 Calculating CAV for carport\n",
      "Best accuracy: 0.9788383610986042 Regularization: 0.001\n",
      "Best accuracy: 0.9885186852769023 Regularization: 0.005\n",
      "Best accuracy: 0.9930211616389014 Regularization: 0.01\n",
      "Best accuracy: 0.9966231427285007 Regularization: 0.05\n",
      "Best accuracy: 0.9970733903647006 Regularization: 0.1\n",
      "Best accuracy: 0.9979738856371004 Regularization: 0.5\n",
      "Best accuracy: 0.9984241332733003 Regularization: 3\n"
     ]
    },
    {
     "name": "stderr",
     "output_type": "stream",
     "text": [
      "471it [3:48:03, 24.35s/it]"
     ]
    },
    {
     "name": "stdout",
     "output_type": "stream",
     "text": [
      "CAV accuracy for carport concept (679): 0.9984\n",
      "[0804_144202] 472/623 Calculating CAV for gravestone\n",
      "Best accuracy: 0.9927960378208014 Regularization: 0.001\n",
      "Best accuracy: 0.9959477712742009 Regularization: 0.005\n",
      "Best accuracy: 0.9966231427285007 Regularization: 0.01\n",
      "Best accuracy: 0.9975236380009005 Regularization: 0.05\n",
      "Best accuracy: 0.9984241332733003 Regularization: 0.5\n"
     ]
    },
    {
     "name": "stderr",
     "output_type": "stream",
     "text": [
      "472it [3:48:18, 21.73s/it]"
     ]
    },
    {
     "name": "stdout",
     "output_type": "stream",
     "text": [
      "CAV accuracy for gravestone concept (680): 0.9984\n",
      "[0804_144218] 473/623 Calculating CAV for straw\n",
      "Best accuracy: 0.9871679423683025 Regularization: 0.001\n",
      "Best accuracy: 0.9925709140027015 Regularization: 0.005\n",
      "Best accuracy: 0.9952723998199009 Regularization: 0.01\n",
      "Best accuracy: 0.9981990094552003 Regularization: 0.05\n",
      "Best accuracy: 0.9984241332733003 Regularization: 0.1\n",
      "Best accuracy: 0.9988743809095002 Regularization: 1\n",
      "Best accuracy: 0.9990995047276002 Regularization: 3\n"
     ]
    },
    {
     "name": "stderr",
     "output_type": "stream",
     "text": [
      "473it [3:48:37, 20.89s/it]"
     ]
    },
    {
     "name": "stdout",
     "output_type": "stream",
     "text": [
      "CAV accuracy for straw concept (681): 0.9991\n",
      "[0804_144237] 474/623 Calculating CAV for tunnel\n",
      "Best accuracy: 0.9817649707339037 Regularization: 0.001\n",
      "Best accuracy: 0.9909950472760019 Regularization: 0.005\n",
      "Best accuracy: 0.9943719045475011 Regularization: 0.01\n",
      "Best accuracy: 0.9972985141828006 Regularization: 0.05\n",
      "Best accuracy: 0.9979738856371004 Regularization: 0.5\n",
      "Best accuracy: 0.9981990094552003 Regularization: 3\n"
     ]
    },
    {
     "name": "stderr",
     "output_type": "stream",
     "text": [
      "474it [3:48:58, 21.00s/it]"
     ]
    },
    {
     "name": "stdout",
     "output_type": "stream",
     "text": [
      "CAV accuracy for tunnel concept (683): 0.9982\n",
      "[0804_144258] 475/623 Calculating CAV for cannon\n",
      "Best accuracy: 0.9662314272850068 Regularization: 0.001\n",
      "Best accuracy: 0.980414227825304 Regularization: 0.005\n",
      "Best accuracy: 0.9869428185502026 Regularization: 0.01\n",
      "Best accuracy: 0.9925709140027015 Regularization: 0.05\n",
      "Best accuracy: 0.9939216569113012 Regularization: 0.1\n",
      "Best accuracy: 0.9961728950923008 Regularization: 0.5\n",
      "Best accuracy: 0.9966231427285007 Regularization: 3\n"
     ]
    },
    {
     "name": "stderr",
     "output_type": "stream",
     "text": [
      "475it [3:49:20, 21.16s/it]"
     ]
    },
    {
     "name": "stdout",
     "output_type": "stream",
     "text": [
      "Best accuracy: 0.9968482665466006 Regularization: 5\n",
      "CAV accuracy for cannon concept (684): 0.9968\n",
      "[0804_144320] 476/623 Calculating CAV for tumble dryer\n",
      "Best accuracy: 0.9795137325529041 Regularization: 0.001\n",
      "Best accuracy: 0.9905447996398019 Regularization: 0.005\n",
      "Best accuracy: 0.9936965330932013 Regularization: 0.01\n",
      "Best accuracy: 0.9959477712742009 Regularization: 0.05\n",
      "Best accuracy: 0.9970733903647006 Regularization: 0.1\n",
      "Best accuracy: 0.9977487618190004 Regularization: 0.5\n",
      "Best accuracy: 0.9979738856371004 Regularization: 3\n"
     ]
    },
    {
     "name": "stderr",
     "output_type": "stream",
     "text": [
      "476it [3:49:39, 20.37s/it]"
     ]
    },
    {
     "name": "stdout",
     "output_type": "stream",
     "text": [
      "CAV accuracy for tumble dryer concept (685): 0.9980\n",
      "[0804_144338] 477/623 Calculating CAV for altarpiece\n",
      "Best accuracy: 0.989869428185502 Regularization: 0.001\n",
      "Best accuracy: 0.9936965330932013 Regularization: 0.005\n",
      "Best accuracy: 0.995047276001801 Regularization: 0.01\n",
      "Best accuracy: 0.9977487618190004 Regularization: 0.05\n",
      "Best accuracy: 0.9981990094552003 Regularization: 0.1\n",
      "Best accuracy: 0.9988743809095002 Regularization: 0.5\n"
     ]
    },
    {
     "name": "stderr",
     "output_type": "stream",
     "text": [
      "477it [3:49:55, 19.14s/it]"
     ]
    },
    {
     "name": "stdout",
     "output_type": "stream",
     "text": [
      "CAV accuracy for altarpiece concept (698): 0.9989\n",
      "[0804_144354] 478/623 Calculating CAV for shelter\n",
      "Best accuracy: 0.9642053129221072 Regularization: 0.001\n",
      "Best accuracy: 0.9869428185502026 Regularization: 0.005\n",
      "Best accuracy: 0.989644304367402 Regularization: 0.01\n",
      "Best accuracy: 0.9968482665466006 Regularization: 0.05\n",
      "Best accuracy: 0.9977487618190004 Regularization: 0.1\n",
      "Best accuracy: 0.9981990094552003 Regularization: 0.5\n"
     ]
    },
    {
     "name": "stderr",
     "output_type": "stream",
     "text": [
      "478it [3:50:15, 19.33s/it]"
     ]
    },
    {
     "name": "stdout",
     "output_type": "stream",
     "text": [
      "CAV accuracy for shelter concept (699): 0.9982\n",
      "[0804_144414] 479/623 Calculating CAV for pond\n",
      "Best accuracy: 0.9570013507429086 Regularization: 0.001\n",
      "Best accuracy: 0.975011256190905 Regularization: 0.005\n",
      "Best accuracy: 0.9822152183701035 Regularization: 0.01\n",
      "Best accuracy: 0.9907699234579018 Regularization: 0.05\n",
      "Best accuracy: 0.9923457901846016 Regularization: 0.1\n",
      "Best accuracy: 0.9963980189104007 Regularization: 0.5\n",
      "Best accuracy: 0.9970733903647006 Regularization: 1\n",
      "Best accuracy: 0.9975236380009005 Regularization: 3\n"
     ]
    },
    {
     "name": "stderr",
     "output_type": "stream",
     "text": [
      "479it [3:50:37, 20.37s/it]"
     ]
    },
    {
     "name": "stdout",
     "output_type": "stream",
     "text": [
      "Best accuracy: 0.9977487618190004 Regularization: 5\n",
      "CAV accuracy for pond concept (700): 0.9977\n",
      "[0804_144437] 480/623 Calculating CAV for windscreen\n",
      "Best accuracy: 0.9903196758217019 Regularization: 0.001\n",
      "Best accuracy: 0.9941467807294012 Regularization: 0.005\n",
      "Best accuracy: 0.995047276001801 Regularization: 0.01\n",
      "Best accuracy: 0.9970733903647006 Regularization: 0.05\n",
      "Best accuracy: 0.9975236380009005 Regularization: 0.1\n",
      "Best accuracy: 0.9979738856371004 Regularization: 0.5\n",
      "Best accuracy: 0.9981990094552003 Regularization: 3\n"
     ]
    },
    {
     "name": "stderr",
     "output_type": "stream",
     "text": [
      "480it [3:50:54, 19.39s/it]"
     ]
    },
    {
     "name": "stdout",
     "output_type": "stream",
     "text": [
      "CAV accuracy for windscreen concept (701): 0.9982\n",
      "[0804_144454] 481/623 Calculating CAV for wheelchair\n",
      "Best accuracy: 0.9416929311121116 Regularization: 0.001\n",
      "Best accuracy: 0.975461503827105 Regularization: 0.005\n",
      "Best accuracy: 0.9842413327330032 Regularization: 0.01\n",
      "Best accuracy: 0.9941467807294012 Regularization: 0.05\n",
      "Best accuracy: 0.9963980189104007 Regularization: 0.1\n",
      "Best accuracy: 0.9975236380009005 Regularization: 0.5\n",
      "Best accuracy: 0.9977487618190004 Regularization: 3\n"
     ]
    },
    {
     "name": "stderr",
     "output_type": "stream",
     "text": [
      "481it [3:51:20, 21.10s/it]"
     ]
    },
    {
     "name": "stdout",
     "output_type": "stream",
     "text": [
      "Best accuracy: 0.9979738856371004 Regularization: 5\n",
      "CAV accuracy for wheelchair concept (702): 0.9980\n",
      "[0804_144519] 482/623 Calculating CAV for coat\n",
      "Best accuracy: 0.9518235029266097 Regularization: 0.001\n",
      "Best accuracy: 0.9720846465556056 Regularization: 0.005\n",
      "Best accuracy: 0.9792886087348042 Regularization: 0.01\n",
      "Best accuracy: 0.9907699234579018 Regularization: 0.05\n",
      "Best accuracy: 0.9925709140027015 Regularization: 0.1\n",
      "Best accuracy: 0.995047276001801 Regularization: 0.5\n",
      "Best accuracy: 0.9952723998199009 Regularization: 1\n",
      "Best accuracy: 0.9954975236380009 Regularization: 3\n"
     ]
    },
    {
     "name": "stderr",
     "output_type": "stream",
     "text": [
      "482it [3:51:46, 22.69s/it]"
     ]
    },
    {
     "name": "stdout",
     "output_type": "stream",
     "text": [
      "Best accuracy: 0.9957226474561008 Regularization: 5\n",
      "CAV accuracy for coat concept (703): 0.9957\n",
      "[0804_144545] 483/623 Calculating CAV for planter\n",
      "Best accuracy: 0.9567762269248087 Regularization: 0.001\n",
      "Best accuracy: 0.9790634849167041 Regularization: 0.005\n",
      "Best accuracy: 0.9873930661864025 Regularization: 0.01\n",
      "Best accuracy: 0.9943719045475011 Regularization: 0.05\n",
      "Best accuracy: 0.9952723998199009 Regularization: 0.1\n",
      "Best accuracy: 0.9970733903647006 Regularization: 0.5\n",
      "Best accuracy: 0.9972985141828006 Regularization: 3\n"
     ]
    },
    {
     "name": "stderr",
     "output_type": "stream",
     "text": [
      "483it [3:52:09, 22.72s/it]"
     ]
    },
    {
     "name": "stdout",
     "output_type": "stream",
     "text": [
      "CAV accuracy for planter concept (704): 0.9973\n",
      "[0804_144608] 484/623 Calculating CAV for carousel\n",
      "Best accuracy: 0.9954975236380009 Regularization: 0.001\n",
      "Best accuracy: 0.9972985141828006 Regularization: 0.005\n",
      "Best accuracy: 0.9977487618190004 Regularization: 0.01\n",
      "Best accuracy: 0.9979738856371004 Regularization: 0.05\n",
      "Best accuracy: 0.9984241332733003 Regularization: 0.1\n",
      "Best accuracy: 0.9988743809095002 Regularization: 0.5\n"
     ]
    },
    {
     "name": "stderr",
     "output_type": "stream",
     "text": [
      "484it [3:52:24, 20.46s/it]"
     ]
    },
    {
     "name": "stdout",
     "output_type": "stream",
     "text": [
      "CAV accuracy for carousel concept (714): 0.9989\n",
      "[0804_144623] 485/623 Calculating CAV for display window\n",
      "Best accuracy: 0.954750112561909 Regularization: 0.001\n",
      "Best accuracy: 0.9831157136425034 Regularization: 0.005\n",
      "Best accuracy: 0.9889689329131022 Regularization: 0.01\n",
      "Best accuracy: 0.994597028365601 Regularization: 0.05\n",
      "Best accuracy: 0.995047276001801 Regularization: 0.1\n",
      "Best accuracy: 0.9968482665466006 Regularization: 0.5\n",
      "Best accuracy: 0.9970733903647006 Regularization: 1\n"
     ]
    },
    {
     "name": "stderr",
     "output_type": "stream",
     "text": [
      "485it [3:52:47, 21.30s/it]"
     ]
    },
    {
     "name": "stdout",
     "output_type": "stream",
     "text": [
      "Best accuracy: 0.9972985141828006 Regularization: 5\n",
      "CAV accuracy for display window concept (715): 0.9973\n",
      "[0804_144647] 486/623 Calculating CAV for elevator door\n",
      "Best accuracy: 0.9867176947321027 Regularization: 0.001\n",
      "Best accuracy: 0.9932462854570013 Regularization: 0.005\n",
      "Best accuracy: 0.9936965330932013 Regularization: 0.01\n",
      "Best accuracy: 0.9959477712742009 Regularization: 0.05\n",
      "Best accuracy: 0.9970733903647006 Regularization: 0.1\n",
      "Best accuracy: 0.9986492570914003 Regularization: 0.5\n"
     ]
    },
    {
     "name": "stderr",
     "output_type": "stream",
     "text": [
      "486it [3:53:04, 19.95s/it]"
     ]
    },
    {
     "name": "stdout",
     "output_type": "stream",
     "text": [
      "CAV accuracy for elevator door concept (716): 0.9986\n",
      "[0804_144704] 487/623 Calculating CAV for shop\n",
      "Best accuracy: 0.9835659612787033 Regularization: 0.001\n",
      "Best accuracy: 0.9909950472760019 Regularization: 0.005\n",
      "Best accuracy: 0.9923457901846016 Regularization: 0.01\n",
      "Best accuracy: 0.9959477712742009 Regularization: 0.05\n",
      "Best accuracy: 0.9975236380009005 Regularization: 0.1\n",
      "Best accuracy: 0.9981990094552003 Regularization: 0.5\n"
     ]
    },
    {
     "name": "stderr",
     "output_type": "stream",
     "text": [
      "487it [3:53:25, 20.13s/it]"
     ]
    },
    {
     "name": "stdout",
     "output_type": "stream",
     "text": [
      "CAV accuracy for shop concept (717): 0.9982\n",
      "[0804_144724] 488/623 Calculating CAV for roundabout\n",
      "Best accuracy: 0.9479963980189104 Regularization: 0.001\n",
      "Best accuracy: 0.979963980189104 Regularization: 0.005\n",
      "Best accuracy: 0.9878433138226025 Regularization: 0.01\n",
      "Best accuracy: 0.9943719045475011 Regularization: 0.05\n",
      "Best accuracy: 0.9968482665466006 Regularization: 0.1\n",
      "Best accuracy: 0.9988743809095002 Regularization: 0.5\n"
     ]
    },
    {
     "name": "stderr",
     "output_type": "stream",
     "text": [
      "488it [3:53:47, 20.73s/it]"
     ]
    },
    {
     "name": "stdout",
     "output_type": "stream",
     "text": [
      "CAV accuracy for roundabout concept (718): 0.9989\n",
      "[0804_144746] 489/623 Calculating CAV for blinds\n",
      "Best accuracy: 0.9479963980189104 Regularization: 0.001\n",
      "Best accuracy: 0.9743358847366052 Regularization: 0.005\n",
      "Best accuracy: 0.9819900945520036 Regularization: 0.01\n",
      "Best accuracy: 0.9914452949122017 Regularization: 0.05\n",
      "Best accuracy: 0.9930211616389014 Regularization: 0.1\n",
      "Best accuracy: 0.9966231427285007 Regularization: 0.5\n",
      "Best accuracy: 0.9968482665466006 Regularization: 1\n",
      "Best accuracy: 0.9970733903647006 Regularization: 3\n"
     ]
    },
    {
     "name": "stderr",
     "output_type": "stream",
     "text": [
      "489it [3:54:11, 21.72s/it]"
     ]
    },
    {
     "name": "stdout",
     "output_type": "stream",
     "text": [
      "Best accuracy: 0.9975236380009005 Regularization: 5\n",
      "CAV accuracy for blinds concept (719): 0.9975\n",
      "[0804_144810] 490/623 Calculating CAV for slide\n",
      "Best accuracy: 0.9709590274651058 Regularization: 0.001\n",
      "Best accuracy: 0.9860423232778028 Regularization: 0.005\n",
      "Best accuracy: 0.9903196758217019 Regularization: 0.01\n",
      "Best accuracy: 0.9954975236380009 Regularization: 0.05\n",
      "Best accuracy: 0.9963980189104007 Regularization: 0.1\n",
      "Best accuracy: 0.9968482665466006 Regularization: 0.5\n",
      "Best accuracy: 0.9975236380009005 Regularization: 1\n",
      "Best accuracy: 0.9977487618190004 Regularization: 3\n"
     ]
    },
    {
     "name": "stderr",
     "output_type": "stream",
     "text": [
      "490it [3:54:35, 22.46s/it]"
     ]
    },
    {
     "name": "stdout",
     "output_type": "stream",
     "text": [
      "CAV accuracy for slide concept (720): 0.9977\n",
      "[0804_144834] 491/623 Calculating CAV for aquarium\n",
      "Best accuracy: 0.9779378658262045 Regularization: 0.001\n",
      "Best accuracy: 0.9909950472760019 Regularization: 0.005\n",
      "Best accuracy: 0.9930211616389014 Regularization: 0.01\n",
      "Best accuracy: 0.9968482665466006 Regularization: 0.05\n",
      "Best accuracy: 0.9975236380009005 Regularization: 0.1\n",
      "Best accuracy: 0.9984241332733003 Regularization: 0.5\n",
      "Best accuracy: 0.9988743809095002 Regularization: 3\n"
     ]
    },
    {
     "name": "stderr",
     "output_type": "stream",
     "text": [
      "491it [3:54:56, 22.12s/it]"
     ]
    },
    {
     "name": "stdout",
     "output_type": "stream",
     "text": [
      "CAV accuracy for aquarium concept (732): 0.9989\n",
      "[0804_144856] 492/623 Calculating CAV for ruins\n",
      "Best accuracy: 0.9788383610986042 Regularization: 0.001\n",
      "Best accuracy: 0.9882935614588023 Regularization: 0.005\n",
      "Best accuracy: 0.9912201710941018 Regularization: 0.01\n",
      "Best accuracy: 0.994597028365601 Regularization: 0.05\n",
      "Best accuracy: 0.995047276001801 Regularization: 0.1\n",
      "Best accuracy: 0.9954975236380009 Regularization: 0.5\n",
      "Best accuracy: 0.9959477712742009 Regularization: 1\n",
      "Best accuracy: 0.9966231427285007 Regularization: 3\n"
     ]
    },
    {
     "name": "stderr",
     "output_type": "stream",
     "text": [
      "492it [3:55:17, 21.69s/it]"
     ]
    },
    {
     "name": "stdout",
     "output_type": "stream",
     "text": [
      "CAV accuracy for ruins concept (733): 0.9966\n",
      "[0804_144916] 493/623 Calculating CAV for instrument panel\n",
      "Best accuracy: 0.9876181900045025 Regularization: 0.001\n",
      "Best accuracy: 0.9930211616389014 Regularization: 0.005\n",
      "Best accuracy: 0.994597028365601 Regularization: 0.01\n",
      "Best accuracy: 0.9968482665466006 Regularization: 0.05\n",
      "Best accuracy: 0.9970733903647006 Regularization: 0.1\n",
      "Best accuracy: 0.9979738856371004 Regularization: 0.5\n",
      "Best accuracy: 0.9984241332733003 Regularization: 3\n"
     ]
    },
    {
     "name": "stderr",
     "output_type": "stream",
     "text": [
      "493it [3:55:34, 20.44s/it]"
     ]
    },
    {
     "name": "stdout",
     "output_type": "stream",
     "text": [
      "CAV accuracy for instrument panel concept (734): 0.9984\n",
      "[0804_144934] 494/623 Calculating CAV for ring\n",
      "Best accuracy: 0.9939216569113012 Regularization: 0.001\n",
      "Best accuracy: 0.9952723998199009 Regularization: 0.005\n",
      "Best accuracy: 0.9970733903647006 Regularization: 0.01\n",
      "Best accuracy: 0.9984241332733003 Regularization: 0.05\n",
      "Best accuracy: 0.9986492570914003 Regularization: 0.1\n",
      "Best accuracy: 0.9988743809095002 Regularization: 1\n"
     ]
    },
    {
     "name": "stderr",
     "output_type": "stream",
     "text": [
      "494it [3:55:51, 19.27s/it]"
     ]
    },
    {
     "name": "stdout",
     "output_type": "stream",
     "text": [
      "CAV accuracy for ring concept (735): 0.9989\n",
      "[0804_144951] 495/623 Calculating CAV for table game\n",
      "Best accuracy: 0.9817649707339037 Regularization: 0.001\n",
      "Best accuracy: 0.990094552003602 Regularization: 0.005\n",
      "Best accuracy: 0.9918955425484016 Regularization: 0.01\n",
      "Best accuracy: 0.9948221521837011 Regularization: 0.05\n",
      "Best accuracy: 0.9961728950923008 Regularization: 0.1\n",
      "Best accuracy: 0.9975236380009005 Regularization: 0.5\n",
      "Best accuracy: 0.9977487618190004 Regularization: 1\n",
      "Best accuracy: 0.9981990094552003 Regularization: 3\n"
     ]
    },
    {
     "name": "stderr",
     "output_type": "stream",
     "text": [
      "495it [3:56:11, 19.45s/it]"
     ]
    },
    {
     "name": "stdout",
     "output_type": "stream",
     "text": [
      "CAV accuracy for table game concept (736): 0.9982\n",
      "[0804_145010] 496/623 Calculating CAV for television camera\n",
      "Best accuracy: 0.979963980189104 Regularization: 0.001\n",
      "Best accuracy: 0.9891940567312022 Regularization: 0.005\n",
      "Best accuracy: 0.9918955425484016 Regularization: 0.01\n",
      "Best accuracy: 0.9959477712742009 Regularization: 0.05\n",
      "Best accuracy: 0.9968482665466006 Regularization: 0.1\n",
      "Best accuracy: 0.9979738856371004 Regularization: 0.5\n",
      "Best accuracy: 0.9986492570914003 Regularization: 1\n",
      "Best accuracy: 0.9988743809095002 Regularization: 3\n"
     ]
    },
    {
     "name": "stderr",
     "output_type": "stream",
     "text": [
      "496it [3:56:29, 19.05s/it]"
     ]
    },
    {
     "name": "stdout",
     "output_type": "stream",
     "text": [
      "CAV accuracy for television camera concept (737): 0.9989\n",
      "[0804_145028] 497/623 Calculating CAV for control tower\n",
      "Best accuracy: 0.9815398469158036 Regularization: 0.001\n",
      "Best accuracy: 0.989869428185502 Regularization: 0.005\n",
      "Best accuracy: 0.9925709140027015 Regularization: 0.01\n",
      "Best accuracy: 0.9961728950923008 Regularization: 0.05\n",
      "Best accuracy: 0.9966231427285007 Regularization: 0.1\n",
      "Best accuracy: 0.9986492570914003 Regularization: 0.5\n"
     ]
    },
    {
     "name": "stderr",
     "output_type": "stream",
     "text": [
      "497it [3:56:48, 19.06s/it]"
     ]
    },
    {
     "name": "stdout",
     "output_type": "stream",
     "text": [
      "CAV accuracy for control tower concept (738): 0.9986\n",
      "[0804_145048] 498/623 Calculating CAV for goal\n",
      "Best accuracy: 0.9880684376407024 Regularization: 0.001\n",
      "Best accuracy: 0.995047276001801 Regularization: 0.005\n",
      "Best accuracy: 0.9957226474561008 Regularization: 0.01\n",
      "Best accuracy: 0.9979738856371004 Regularization: 0.05\n",
      "Best accuracy: 0.9984241332733003 Regularization: 0.1\n",
      "Best accuracy: 0.9986492570914003 Regularization: 0.5\n",
      "Best accuracy: 0.9990995047276002 Regularization: 3\n"
     ]
    },
    {
     "name": "stderr",
     "output_type": "stream",
     "text": [
      "498it [3:57:06, 18.86s/it]"
     ]
    },
    {
     "name": "stdout",
     "output_type": "stream",
     "text": [
      "CAV accuracy for goal concept (739): 0.9991\n",
      "[0804_145106] 499/623 Calculating CAV for aqueduct\n",
      "Best accuracy: 0.9966231427285007 Regularization: 0.001\n",
      "Best accuracy: 0.9972985141828006 Regularization: 0.005\n",
      "Best accuracy: 0.9981990094552003 Regularization: 0.01\n",
      "Best accuracy: 0.9984241332733003 Regularization: 0.05\n",
      "Best accuracy: 0.9986492570914003 Regularization: 0.1\n",
      "Best accuracy: 0.9990995047276002 Regularization: 3\n"
     ]
    },
    {
     "name": "stderr",
     "output_type": "stream",
     "text": [
      "499it [3:57:22, 17.73s/it]"
     ]
    },
    {
     "name": "stdout",
     "output_type": "stream",
     "text": [
      "CAV accuracy for aqueduct concept (749): 0.9991\n",
      "[0804_145121] 500/623 Calculating CAV for weighbridge\n",
      "Best accuracy: 0.9905447996398019 Regularization: 0.001\n",
      "Best accuracy: 0.9948221521837011 Regularization: 0.005\n",
      "Best accuracy: 0.995047276001801 Regularization: 0.01\n",
      "Best accuracy: 0.9977487618190004 Regularization: 0.05\n",
      "Best accuracy: 0.9981990094552003 Regularization: 0.1\n",
      "Best accuracy: 0.9986492570914003 Regularization: 0.5\n",
      "Best accuracy: 0.9988743809095002 Regularization: 1\n"
     ]
    },
    {
     "name": "stderr",
     "output_type": "stream",
     "text": [
      "500it [3:57:39, 17.54s/it]"
     ]
    },
    {
     "name": "stdout",
     "output_type": "stream",
     "text": [
      "CAV accuracy for weighbridge concept (750): 0.9989\n",
      "[0804_145138] 501/623 Calculating CAV for bedpost\n",
      "Best accuracy: 0.9797388563710041 Regularization: 0.001\n",
      "Best accuracy: 0.9923457901846016 Regularization: 0.005\n",
      "Best accuracy: 0.9954975236380009 Regularization: 0.01\n",
      "Best accuracy: 0.9981990094552003 Regularization: 0.05\n",
      "Best accuracy: 0.9984241332733003 Regularization: 0.1\n",
      "Best accuracy: 0.9988743809095002 Regularization: 0.5\n",
      "Best accuracy: 0.9990995047276002 Regularization: 1\n"
     ]
    },
    {
     "name": "stderr",
     "output_type": "stream",
     "text": [
      "501it [3:57:55, 17.24s/it]"
     ]
    },
    {
     "name": "stdout",
     "output_type": "stream",
     "text": [
      "CAV accuracy for bedpost concept (751): 0.9991\n",
      "[0804_145155] 502/623 Calculating CAV for terrace\n",
      "Best accuracy: 0.9576767221972085 Regularization: 0.001\n",
      "Best accuracy: 0.9837910850968032 Regularization: 0.005\n",
      "Best accuracy: 0.989644304367402 Regularization: 0.01\n",
      "Best accuracy: 0.9954975236380009 Regularization: 0.05\n",
      "Best accuracy: 0.9968482665466006 Regularization: 0.1\n",
      "Best accuracy: 0.9970733903647006 Regularization: 0.5\n",
      "Best accuracy: 0.9972985141828006 Regularization: 3\n"
     ]
    },
    {
     "name": "stderr",
     "output_type": "stream",
     "text": [
      "502it [3:58:15, 18.00s/it]"
     ]
    },
    {
     "name": "stdout",
     "output_type": "stream",
     "text": [
      "Best accuracy: 0.9977487618190004 Regularization: 5\n",
      "CAV accuracy for terrace concept (752): 0.9977\n",
      "[0804_145214] 503/623 Calculating CAV for folding door\n",
      "Best accuracy: 0.9774876181900045 Regularization: 0.001\n",
      "Best accuracy: 0.9903196758217019 Regularization: 0.005\n",
      "Best accuracy: 0.9918955425484016 Regularization: 0.01\n",
      "Best accuracy: 0.9963980189104007 Regularization: 0.05\n",
      "Best accuracy: 0.9970733903647006 Regularization: 0.1\n",
      "Best accuracy: 0.9972985141828006 Regularization: 3\n"
     ]
    },
    {
     "name": "stderr",
     "output_type": "stream",
     "text": [
      "503it [3:58:36, 18.86s/it]"
     ]
    },
    {
     "name": "stdout",
     "output_type": "stream",
     "text": [
      "CAV accuracy for folding door concept (761): 0.9973\n",
      "[0804_145235] 504/623 Calculating CAV for stands\n",
      "Best accuracy: 0.9862674470959027 Regularization: 0.001\n",
      "Best accuracy: 0.9927960378208014 Regularization: 0.005\n",
      "Best accuracy: 0.9952723998199009 Regularization: 0.01\n",
      "Best accuracy: 0.9977487618190004 Regularization: 0.05\n",
      "Best accuracy: 0.9986492570914003 Regularization: 0.1\n"
     ]
    },
    {
     "name": "stderr",
     "output_type": "stream",
     "text": [
      "504it [3:58:54, 18.74s/it]"
     ]
    },
    {
     "name": "stdout",
     "output_type": "stream",
     "text": [
      "CAV accuracy for stands concept (762): 0.9986\n",
      "[0804_145254] 505/623 Calculating CAV for revolving door\n",
      "Best accuracy: 0.9720846465556056 Regularization: 0.001\n",
      "Best accuracy: 0.9867176947321027 Regularization: 0.005\n",
      "Best accuracy: 0.9918955425484016 Regularization: 0.01\n",
      "Best accuracy: 0.9957226474561008 Regularization: 0.05\n",
      "Best accuracy: 0.9966231427285007 Regularization: 0.1\n",
      "Best accuracy: 0.9986492570914003 Regularization: 0.5\n",
      "Best accuracy: 0.9990995047276002 Regularization: 1\n",
      "Best accuracy: 0.9993246285457001 Regularization: 3\n"
     ]
    },
    {
     "name": "stderr",
     "output_type": "stream",
     "text": [
      "505it [3:59:14, 18.90s/it]"
     ]
    },
    {
     "name": "stdout",
     "output_type": "stream",
     "text": [
      "CAV accuracy for revolving door concept (763): 0.9993\n",
      "[0804_145313] 506/623 Calculating CAV for mill\n",
      "Best accuracy: 0.9615038271049077 Regularization: 0.001\n",
      "Best accuracy: 0.9817649707339037 Regularization: 0.005\n",
      "Best accuracy: 0.9871679423683025 Regularization: 0.01\n",
      "Best accuracy: 0.9936965330932013 Regularization: 0.05\n",
      "Best accuracy: 0.995047276001801 Regularization: 0.1\n",
      "Best accuracy: 0.9968482665466006 Regularization: 0.5\n",
      "Best accuracy: 0.9975236380009005 Regularization: 1\n",
      "Best accuracy: 0.9977487618190004 Regularization: 3\n"
     ]
    },
    {
     "name": "stderr",
     "output_type": "stream",
     "text": [
      "506it [3:59:35, 19.52s/it]"
     ]
    },
    {
     "name": "stdout",
     "output_type": "stream",
     "text": [
      "CAV accuracy for mill concept (764): 0.9977\n",
      "[0804_145334] 507/623 Calculating CAV for pantry\n",
      "Best accuracy: 0.9930211616389014 Regularization: 0.001\n",
      "Best accuracy: 0.9963980189104007 Regularization: 0.005\n",
      "Best accuracy: 0.9975236380009005 Regularization: 0.01\n",
      "Best accuracy: 0.9988743809095002 Regularization: 0.05\n",
      "Best accuracy: 0.9990995047276002 Regularization: 1\n"
     ]
    },
    {
     "name": "stderr",
     "output_type": "stream",
     "text": [
      "507it [3:59:51, 18.50s/it]"
     ]
    },
    {
     "name": "stdout",
     "output_type": "stream",
     "text": [
      "CAV accuracy for pantry concept (773): 0.9991\n",
      "[0804_145350] 508/623 Calculating CAV for bandstand\n",
      "Best accuracy: 0.985366951823503 Regularization: 0.001\n",
      "Best accuracy: 0.995047276001801 Regularization: 0.005\n",
      "Best accuracy: 0.9959477712742009 Regularization: 0.01\n",
      "Best accuracy: 0.9984241332733003 Regularization: 0.05\n",
      "Best accuracy: 0.9988743809095002 Regularization: 0.1\n"
     ]
    },
    {
     "name": "stderr",
     "output_type": "stream",
     "text": [
      "508it [4:00:08, 18.30s/it]"
     ]
    },
    {
     "name": "stdout",
     "output_type": "stream",
     "text": [
      "CAV accuracy for bandstand concept (774): 0.9989\n",
      "[0804_145408] 509/623 Calculating CAV for videos\n",
      "Best accuracy: 0.9914452949122017 Regularization: 0.001\n",
      "Best accuracy: 0.9957226474561008 Regularization: 0.005\n",
      "Best accuracy: 0.9963980189104007 Regularization: 0.01\n",
      "Best accuracy: 0.9968482665466006 Regularization: 0.05\n",
      "Best accuracy: 0.9975236380009005 Regularization: 0.1\n",
      "Best accuracy: 0.9977487618190004 Regularization: 0.5\n",
      "Best accuracy: 0.9981990094552003 Regularization: 3\n"
     ]
    },
    {
     "name": "stderr",
     "output_type": "stream",
     "text": [
      "509it [4:00:23, 17.09s/it]"
     ]
    },
    {
     "name": "stdout",
     "output_type": "stream",
     "text": [
      "CAV accuracy for videos concept (775): 0.9982\n",
      "[0804_145422] 510/623 Calculating CAV for sand trap\n",
      "Best accuracy: 0.9939216569113012 Regularization: 0.001\n",
      "Best accuracy: 0.9959477712742009 Regularization: 0.005\n",
      "Best accuracy: 0.9966231427285007 Regularization: 0.01\n",
      "Best accuracy: 0.9981990094552003 Regularization: 0.05\n",
      "Best accuracy: 0.9984241332733003 Regularization: 0.1\n",
      "Best accuracy: 0.9988743809095002 Regularization: 0.5\n",
      "Best accuracy: 0.9990995047276002 Regularization: 3\n"
     ]
    },
    {
     "name": "stderr",
     "output_type": "stream",
     "text": [
      "510it [4:00:37, 16.16s/it]"
     ]
    },
    {
     "name": "stdout",
     "output_type": "stream",
     "text": [
      "CAV accuracy for sand trap concept (776): 0.9991\n",
      "[0804_145436] 511/623 Calculating CAV for organ\n",
      "Best accuracy: 0.9797388563710041 Regularization: 0.001\n",
      "Best accuracy: 0.989869428185502 Regularization: 0.005\n",
      "Best accuracy: 0.9927960378208014 Regularization: 0.01\n",
      "Best accuracy: 0.9952723998199009 Regularization: 0.05\n",
      "Best accuracy: 0.9968482665466006 Regularization: 0.1\n",
      "Best accuracy: 0.9972985141828006 Regularization: 0.5\n",
      "Best accuracy: 0.9975236380009005 Regularization: 1\n",
      "Best accuracy: 0.9977487618190004 Regularization: 3\n"
     ]
    },
    {
     "name": "stderr",
     "output_type": "stream",
     "text": [
      "511it [4:00:57, 17.33s/it]"
     ]
    },
    {
     "name": "stdout",
     "output_type": "stream",
     "text": [
      "Best accuracy: 0.9979738856371004 Regularization: 5\n",
      "CAV accuracy for organ concept (777): 0.9980\n",
      "[0804_145456] 512/623 Calculating CAV for synthesizer\n",
      "Best accuracy: 0.9783881134624043 Regularization: 0.001\n",
      "Best accuracy: 0.9889689329131022 Regularization: 0.005\n",
      "Best accuracy: 0.9916704187303017 Regularization: 0.01\n",
      "Best accuracy: 0.9954975236380009 Regularization: 0.05\n",
      "Best accuracy: 0.9961728950923008 Regularization: 0.1\n",
      "Best accuracy: 0.9968482665466006 Regularization: 0.5\n"
     ]
    },
    {
     "name": "stderr",
     "output_type": "stream",
     "text": [
      "512it [4:01:15, 17.51s/it]"
     ]
    },
    {
     "name": "stdout",
     "output_type": "stream",
     "text": [
      "CAV accuracy for synthesizer concept (778): 0.9968\n",
      "[0804_145514] 513/623 Calculating CAV for planks\n",
      "Best accuracy: 0.9747861323728051 Regularization: 0.001\n",
      "Best accuracy: 0.9862674470959027 Regularization: 0.005\n",
      "Best accuracy: 0.9909950472760019 Regularization: 0.01\n",
      "Best accuracy: 0.9948221521837011 Regularization: 0.05\n",
      "Best accuracy: 0.9966231427285007 Regularization: 0.1\n",
      "Best accuracy: 0.9970733903647006 Regularization: 0.5\n",
      "Best accuracy: 0.9972985141828006 Regularization: 3\n"
     ]
    },
    {
     "name": "stderr",
     "output_type": "stream",
     "text": [
      "513it [4:01:37, 19.02s/it]"
     ]
    },
    {
     "name": "stdout",
     "output_type": "stream",
     "text": [
      "CAV accuracy for planks concept (779): 0.9973\n",
      "[0804_145537] 514/623 Calculating CAV for pictures\n",
      "Best accuracy: 0.9342638451148132 Regularization: 0.001\n",
      "Best accuracy: 0.9664565511031067 Regularization: 0.005\n",
      "Best accuracy: 0.9741107609185051 Regularization: 0.01\n",
      "Best accuracy: 0.9905447996398019 Regularization: 0.05\n",
      "Best accuracy: 0.9930211616389014 Regularization: 0.1\n",
      "Best accuracy: 0.9957226474561008 Regularization: 0.5\n",
      "Best accuracy: 0.9963980189104007 Regularization: 1\n",
      "Best accuracy: 0.9966231427285007 Regularization: 3\n"
     ]
    },
    {
     "name": "stderr",
     "output_type": "stream",
     "text": [
      "514it [4:02:02, 20.88s/it]"
     ]
    },
    {
     "name": "stdout",
     "output_type": "stream",
     "text": [
      "Best accuracy: 0.9968482665466006 Regularization: 5\n",
      "CAV accuracy for pictures concept (780): 0.9968\n",
      "[0804_145602] 515/623 Calculating CAV for parterre\n",
      "Best accuracy: 0.9221071589374156 Regularization: 0.001\n",
      "Best accuracy: 0.9680324178298064 Regularization: 0.005\n",
      "Best accuracy: 0.9790634849167041 Regularization: 0.01\n",
      "Best accuracy: 0.9918955425484016 Regularization: 0.05\n",
      "Best accuracy: 0.9943719045475011 Regularization: 0.1\n",
      "Best accuracy: 0.9966231427285007 Regularization: 0.5\n",
      "Best accuracy: 0.9970733903647006 Regularization: 1\n",
      "Best accuracy: 0.9977487618190004 Regularization: 3\n"
     ]
    },
    {
     "name": "stderr",
     "output_type": "stream",
     "text": [
      "515it [4:02:24, 20.96s/it]"
     ]
    },
    {
     "name": "stdout",
     "output_type": "stream",
     "text": [
      "Best accuracy: 0.9979738856371004 Regularization: 5\n",
      "CAV accuracy for parterre concept (781): 0.9980\n",
      "[0804_145623] 516/623 Calculating CAV for lockers\n",
      "Best accuracy: 0.9869428185502026 Regularization: 0.001\n",
      "Best accuracy: 0.9921206663665015 Regularization: 0.005\n",
      "Best accuracy: 0.9941467807294012 Regularization: 0.01\n",
      "Best accuracy: 0.9979738856371004 Regularization: 0.05\n",
      "Best accuracy: 0.9981990094552003 Regularization: 0.1\n",
      "Best accuracy: 0.9984241332733003 Regularization: 1\n"
     ]
    },
    {
     "name": "stderr",
     "output_type": "stream",
     "text": [
      "516it [4:02:42, 20.15s/it]"
     ]
    },
    {
     "name": "stdout",
     "output_type": "stream",
     "text": [
      "CAV accuracy for lockers concept (792): 0.9984\n",
      "[0804_145641] 517/623 Calculating CAV for service station\n",
      "Best accuracy: 0.994597028365601 Regularization: 0.001\n",
      "Best accuracy: 0.9970733903647006 Regularization: 0.005\n",
      "Best accuracy: 0.9977487618190004 Regularization: 0.01\n",
      "Best accuracy: 0.9984241332733003 Regularization: 0.05\n",
      "Best accuracy: 0.9986492570914003 Regularization: 0.5\n",
      "Best accuracy: 0.9988743809095002 Regularization: 3\n"
     ]
    },
    {
     "name": "stderr",
     "output_type": "stream",
     "text": [
      "517it [4:02:57, 18.62s/it]"
     ]
    },
    {
     "name": "stdout",
     "output_type": "stream",
     "text": [
      "CAV accuracy for service station concept (793): 0.9989\n",
      "[0804_145656] 518/623 Calculating CAV for trench\n",
      "Best accuracy: 0.9840162089149032 Regularization: 0.001\n",
      "Best accuracy: 0.9914452949122017 Regularization: 0.005\n",
      "Best accuracy: 0.9941467807294012 Regularization: 0.01\n",
      "Best accuracy: 0.9966231427285007 Regularization: 0.05\n",
      "Best accuracy: 0.9981990094552003 Regularization: 0.1\n",
      "Best accuracy: 0.9984241332733003 Regularization: 0.5\n",
      "Best accuracy: 0.9986492570914003 Regularization: 1\n"
     ]
    },
    {
     "name": "stderr",
     "output_type": "stream",
     "text": [
      "518it [4:03:15, 18.59s/it]"
     ]
    },
    {
     "name": "stdout",
     "output_type": "stream",
     "text": [
      "CAV accuracy for trench concept (794): 0.9986\n",
      "[0804_145715] 519/623 Calculating CAV for barrels\n",
      "Best accuracy: 0.9790634849167041 Regularization: 0.001\n",
      "Best accuracy: 0.9891940567312022 Regularization: 0.005\n",
      "Best accuracy: 0.9921206663665015 Regularization: 0.01\n",
      "Best accuracy: 0.9970733903647006 Regularization: 0.05\n",
      "Best accuracy: 0.9975236380009005 Regularization: 0.1\n",
      "Best accuracy: 0.9981990094552003 Regularization: 0.5\n",
      "Best accuracy: 0.9984241332733003 Regularization: 1\n"
     ]
    },
    {
     "name": "stderr",
     "output_type": "stream",
     "text": [
      "519it [4:03:35, 18.74s/it]"
     ]
    },
    {
     "name": "stdout",
     "output_type": "stream",
     "text": [
      "CAV accuracy for barrels concept (795): 0.9984\n",
      "[0804_145734] 520/623 Calculating CAV for box office\n",
      "Best accuracy: 0.9819900945520036 Regularization: 0.001\n",
      "Best accuracy: 0.9909950472760019 Regularization: 0.005\n",
      "Best accuracy: 0.9939216569113012 Regularization: 0.01\n",
      "Best accuracy: 0.9970733903647006 Regularization: 0.05\n",
      "Best accuracy: 0.9975236380009005 Regularization: 0.1\n",
      "Best accuracy: 0.9986492570914003 Regularization: 0.5\n",
      "Best accuracy: 0.9988743809095002 Regularization: 1\n",
      "Best accuracy: 0.9990995047276002 Regularization: 3\n"
     ]
    },
    {
     "name": "stderr",
     "output_type": "stream",
     "text": [
      "520it [4:03:54, 19.03s/it]"
     ]
    },
    {
     "name": "stdout",
     "output_type": "stream",
     "text": [
      "CAV accuracy for box office concept (796): 0.9991\n",
      "[0804_145754] 521/623 Calculating CAV for binder\n",
      "Best accuracy: 0.964655560558307 Regularization: 0.001\n",
      "Best accuracy: 0.9795137325529041 Regularization: 0.005\n",
      "Best accuracy: 0.984916704187303 Regularization: 0.01\n",
      "Best accuracy: 0.9930211616389014 Regularization: 0.05\n",
      "Best accuracy: 0.9948221521837011 Regularization: 0.1\n",
      "Best accuracy: 0.9970733903647006 Regularization: 0.5\n",
      "Best accuracy: 0.9972985141828006 Regularization: 1\n",
      "Best accuracy: 0.9977487618190004 Regularization: 3\n"
     ]
    },
    {
     "name": "stderr",
     "output_type": "stream",
     "text": [
      "521it [4:04:16, 19.75s/it]"
     ]
    },
    {
     "name": "stdout",
     "output_type": "stream",
     "text": [
      "CAV accuracy for binder concept (797): 0.9977\n",
      "[0804_145815] 522/623 Calculating CAV for cabin\n",
      "Best accuracy: 0.9693831607384061 Regularization: 0.001\n",
      "Best accuracy: 0.9871679423683025 Regularization: 0.005\n",
      "Best accuracy: 0.9889689329131022 Regularization: 0.01\n",
      "Best accuracy: 0.994597028365601 Regularization: 0.05\n",
      "Best accuracy: 0.9952723998199009 Regularization: 0.1\n",
      "Best accuracy: 0.9966231427285007 Regularization: 0.5\n",
      "Best accuracy: 0.9968482665466006 Regularization: 1\n",
      "Best accuracy: 0.9972985141828006 Regularization: 3\n"
     ]
    },
    {
     "name": "stderr",
     "output_type": "stream",
     "text": [
      "522it [4:04:40, 21.10s/it]"
     ]
    },
    {
     "name": "stdout",
     "output_type": "stream",
     "text": [
      "Best accuracy: 0.9975236380009005 Regularization: 5\n",
      "CAV accuracy for cabin concept (798): 0.9975\n",
      "[0804_145839] 523/623 Calculating CAV for forklift\n",
      "Best accuracy: 0.9869428185502026 Regularization: 0.001\n",
      "Best accuracy: 0.9925709140027015 Regularization: 0.005\n",
      "Best accuracy: 0.994597028365601 Regularization: 0.01\n",
      "Best accuracy: 0.9970733903647006 Regularization: 0.05\n",
      "Best accuracy: 0.9977487618190004 Regularization: 0.1\n",
      "Best accuracy: 0.9984241332733003 Regularization: 0.5\n",
      "Best accuracy: 0.9986492570914003 Regularization: 1\n"
     ]
    },
    {
     "name": "stderr",
     "output_type": "stream",
     "text": [
      "523it [4:04:58, 20.09s/it]"
     ]
    },
    {
     "name": "stdout",
     "output_type": "stream",
     "text": [
      "CAV accuracy for forklift concept (799): 0.9986\n",
      "[0804_145857] 524/623 Calculating CAV for doors\n",
      "Best accuracy: 0.9682575416479063 Regularization: 0.001\n",
      "Best accuracy: 0.985366951823503 Regularization: 0.005\n",
      "Best accuracy: 0.9894191805493021 Regularization: 0.01\n",
      "Best accuracy: 0.994597028365601 Regularization: 0.05\n",
      "Best accuracy: 0.9954975236380009 Regularization: 0.1\n",
      "Best accuracy: 0.9977487618190004 Regularization: 0.5\n",
      "Best accuracy: 0.9984241332733003 Regularization: 1\n",
      "Best accuracy: 0.9986492570914003 Regularization: 3\n"
     ]
    },
    {
     "name": "stderr",
     "output_type": "stream",
     "text": [
      "524it [4:05:20, 20.63s/it]"
     ]
    },
    {
     "name": "stdout",
     "output_type": "stream",
     "text": [
      "Best accuracy: 0.9988743809095002 Regularization: 5\n",
      "CAV accuracy for doors concept (800): 0.9989\n",
      "[0804_145919] 525/623 Calculating CAV for pavilion\n",
      "Best accuracy: 0.9783881134624043 Regularization: 0.001\n",
      "Best accuracy: 0.9880684376407024 Regularization: 0.005\n",
      "Best accuracy: 0.9918955425484016 Regularization: 0.01\n",
      "Best accuracy: 0.9963980189104007 Regularization: 0.05\n",
      "Best accuracy: 0.9970733903647006 Regularization: 0.1\n",
      "Best accuracy: 0.9975236380009005 Regularization: 0.5\n",
      "Best accuracy: 0.9977487618190004 Regularization: 3\n"
     ]
    },
    {
     "name": "stderr",
     "output_type": "stream",
     "text": [
      "525it [4:05:39, 20.42s/it]"
     ]
    },
    {
     "name": "stdout",
     "output_type": "stream",
     "text": [
      "CAV accuracy for pavilion concept (801): 0.9977\n",
      "[0804_145939] 526/623 Calculating CAV for greenhouse\n",
      "Best accuracy: 0.9932462854570013 Regularization: 0.001\n",
      "Best accuracy: 0.995047276001801 Regularization: 0.005\n",
      "Best accuracy: 0.9961728950923008 Regularization: 0.01\n",
      "Best accuracy: 0.9981990094552003 Regularization: 0.05\n",
      "Best accuracy: 0.9990995047276002 Regularization: 0.1\n",
      "Best accuracy: 0.9993246285457001 Regularization: 0.5\n"
     ]
    },
    {
     "name": "stderr",
     "output_type": "stream",
     "text": [
      "526it [4:05:55, 18.88s/it]"
     ]
    },
    {
     "name": "stdout",
     "output_type": "stream",
     "text": [
      "CAV accuracy for greenhouse concept (806): 0.9993\n",
      "[0804_145954] 527/623 Calculating CAV for caravan\n",
      "Best accuracy: 0.9781629896443044 Regularization: 0.001\n",
      "Best accuracy: 0.9880684376407024 Regularization: 0.005\n",
      "Best accuracy: 0.9918955425484016 Regularization: 0.01\n",
      "Best accuracy: 0.9963980189104007 Regularization: 0.05\n",
      "Best accuracy: 0.9975236380009005 Regularization: 0.1\n",
      "Best accuracy: 0.9979738856371004 Regularization: 0.5\n",
      "Best accuracy: 0.9981990094552003 Regularization: 1\n",
      "Best accuracy: 0.9984241332733003 Regularization: 3\n"
     ]
    },
    {
     "name": "stderr",
     "output_type": "stream",
     "text": [
      "527it [4:06:14, 18.95s/it]"
     ]
    },
    {
     "name": "stdout",
     "output_type": "stream",
     "text": [
      "CAV accuracy for caravan concept (807): 0.9984\n",
      "[0804_150013] 528/623 Calculating CAV for berth\n",
      "Best accuracy: 0.9711841512832058 Regularization: 0.001\n",
      "Best accuracy: 0.9885186852769023 Regularization: 0.005\n",
      "Best accuracy: 0.9923457901846016 Regularization: 0.01\n",
      "Best accuracy: 0.9970733903647006 Regularization: 0.05\n",
      "Best accuracy: 0.9984241332733003 Regularization: 0.1\n",
      "Best accuracy: 0.9986492570914003 Regularization: 1\n"
     ]
    },
    {
     "name": "stderr",
     "output_type": "stream",
     "text": [
      "528it [4:06:33, 19.03s/it]"
     ]
    },
    {
     "name": "stdout",
     "output_type": "stream",
     "text": [
      "CAV accuracy for berth concept (808): 0.9986\n",
      "[0804_150033] 529/623 Calculating CAV for trellis\n",
      "Best accuracy: 0.9608284556506078 Regularization: 0.001\n",
      "Best accuracy: 0.980414227825304 Regularization: 0.005\n",
      "Best accuracy: 0.9876181900045025 Regularization: 0.01\n",
      "Best accuracy: 0.9959477712742009 Regularization: 0.05\n",
      "Best accuracy: 0.9970733903647006 Regularization: 0.1\n",
      "Best accuracy: 0.9979738856371004 Regularization: 0.5\n",
      "Best accuracy: 0.9984241332733003 Regularization: 3\n"
     ]
    },
    {
     "name": "stderr",
     "output_type": "stream",
     "text": [
      "529it [4:06:55, 19.88s/it]"
     ]
    },
    {
     "name": "stdout",
     "output_type": "stream",
     "text": [
      "CAV accuracy for trellis concept (809): 0.9984\n",
      "[0804_150054] 530/623 Calculating CAV for tomb\n",
      "Best accuracy: 0.9795137325529041 Regularization: 0.001\n",
      "Best accuracy: 0.9914452949122017 Regularization: 0.005\n",
      "Best accuracy: 0.994597028365601 Regularization: 0.01\n",
      "Best accuracy: 0.9966231427285007 Regularization: 0.05\n",
      "Best accuracy: 0.9968482665466006 Regularization: 0.1\n",
      "Best accuracy: 0.9975236380009005 Regularization: 0.5\n",
      "Best accuracy: 0.9977487618190004 Regularization: 1\n"
     ]
    },
    {
     "name": "stderr",
     "output_type": "stream",
     "text": [
      "530it [4:07:15, 19.85s/it]"
     ]
    },
    {
     "name": "stdout",
     "output_type": "stream",
     "text": [
      "CAV accuracy for tomb concept (810): 0.9977\n",
      "[0804_150114] 531/623 Calculating CAV for structure\n",
      "Best accuracy: 0.9824403421882035 Regularization: 0.001\n",
      "Best accuracy: 0.9905447996398019 Regularization: 0.005\n",
      "Best accuracy: 0.9932462854570013 Regularization: 0.01\n",
      "Best accuracy: 0.9968482665466006 Regularization: 0.05\n",
      "Best accuracy: 0.9972985141828006 Regularization: 0.1\n",
      "Best accuracy: 0.9977487618190004 Regularization: 0.5\n",
      "Best accuracy: 0.9979738856371004 Regularization: 1\n",
      "Best accuracy: 0.9981990094552003 Regularization: 3\n"
     ]
    },
    {
     "name": "stderr",
     "output_type": "stream",
     "text": [
      "531it [4:07:34, 19.73s/it]"
     ]
    },
    {
     "name": "stdout",
     "output_type": "stream",
     "text": [
      "CAV accuracy for structure concept (811): 0.9982\n",
      "[0804_150134] 532/623 Calculating CAV for plastic\n",
      "Best accuracy: 0.9891940567312022 Regularization: 0.001\n",
      "Best accuracy: 0.9957226474561008 Regularization: 0.005\n",
      "Best accuracy: 0.9977487618190004 Regularization: 0.01\n",
      "Best accuracy: 0.9995497523638001 Regularization: 0.05\n",
      "Best accuracy: 1.0 Regularization: 0.1\n"
     ]
    },
    {
     "name": "stderr",
     "output_type": "stream",
     "text": [
      "532it [4:07:54, 19.73s/it]"
     ]
    },
    {
     "name": "stdout",
     "output_type": "stream",
     "text": [
      "CAV accuracy for plastic concept (812): 1.0000\n",
      "[0804_150153] 533/623 Calculating CAV for dam\n",
      "Best accuracy: 0.9871679423683025 Regularization: 0.001\n",
      "Best accuracy: 0.9941467807294012 Regularization: 0.005\n",
      "Best accuracy: 0.9954975236380009 Regularization: 0.01\n",
      "Best accuracy: 0.9972985141828006 Regularization: 0.05\n",
      "Best accuracy: 0.9979738856371004 Regularization: 0.1\n",
      "Best accuracy: 0.9984241332733003 Regularization: 0.5\n",
      "Best accuracy: 0.9986492570914003 Regularization: 1\n"
     ]
    },
    {
     "name": "stderr",
     "output_type": "stream",
     "text": [
      "533it [4:08:10, 18.53s/it]"
     ]
    },
    {
     "name": "stdout",
     "output_type": "stream",
     "text": [
      "CAV accuracy for dam concept (827): 0.9986\n",
      "[0804_150209] 534/623 Calculating CAV for tracks\n",
      "Best accuracy: 0.9867176947321027 Regularization: 0.001\n",
      "Best accuracy: 0.9932462854570013 Regularization: 0.005\n",
      "Best accuracy: 0.9961728950923008 Regularization: 0.01\n",
      "Best accuracy: 0.9975236380009005 Regularization: 0.05\n",
      "Best accuracy: 0.9981990094552003 Regularization: 0.1\n",
      "Best accuracy: 0.9986492570914003 Regularization: 0.5\n",
      "Best accuracy: 0.9990995047276002 Regularization: 3\n"
     ]
    },
    {
     "name": "stderr",
     "output_type": "stream",
     "text": [
      "534it [4:08:29, 18.88s/it]"
     ]
    },
    {
     "name": "stdout",
     "output_type": "stream",
     "text": [
      "CAV accuracy for tracks concept (828): 0.9991\n",
      "[0804_150229] 535/623 Calculating CAV for hay\n",
      "Best accuracy: 0.9909950472760019 Regularization: 0.001\n",
      "Best accuracy: 0.995047276001801 Regularization: 0.005\n",
      "Best accuracy: 0.9959477712742009 Regularization: 0.01\n",
      "Best accuracy: 0.9979738856371004 Regularization: 0.05\n",
      "Best accuracy: 0.9986492570914003 Regularization: 0.1\n",
      "Best accuracy: 0.9993246285457001 Regularization: 0.5\n",
      "Best accuracy: 0.9995497523638001 Regularization: 1\n"
     ]
    },
    {
     "name": "stderr",
     "output_type": "stream",
     "text": [
      "535it [4:08:44, 17.71s/it]"
     ]
    },
    {
     "name": "stdout",
     "output_type": "stream",
     "text": [
      "CAV accuracy for hay concept (829): 0.9995\n",
      "[0804_150244] 536/623 Calculating CAV for hen\n",
      "Best accuracy: 0.9905447996398019 Regularization: 0.001\n",
      "Best accuracy: 0.9948221521837011 Regularization: 0.005\n",
      "Best accuracy: 0.9963980189104007 Regularization: 0.01\n",
      "Best accuracy: 0.9972985141828006 Regularization: 0.05\n",
      "Best accuracy: 0.9979738856371004 Regularization: 0.1\n",
      "Best accuracy: 0.9984241332733003 Regularization: 0.5\n"
     ]
    },
    {
     "name": "stderr",
     "output_type": "stream",
     "text": [
      "536it [4:09:01, 17.49s/it]"
     ]
    },
    {
     "name": "stdout",
     "output_type": "stream",
     "text": [
      "CAV accuracy for hen concept (830): 0.9984\n",
      "[0804_150301] 537/623 Calculating CAV for recycling bin\n",
      "Best accuracy: 0.9653309320126069 Regularization: 0.001\n",
      "Best accuracy: 0.985141828005403 Regularization: 0.005\n",
      "Best accuracy: 0.989869428185502 Regularization: 0.01\n",
      "Best accuracy: 0.9963980189104007 Regularization: 0.05\n",
      "Best accuracy: 0.9972985141828006 Regularization: 0.1\n",
      "Best accuracy: 0.9977487618190004 Regularization: 0.5\n",
      "Best accuracy: 0.9981990094552003 Regularization: 3\n"
     ]
    },
    {
     "name": "stderr",
     "output_type": "stream",
     "text": [
      "537it [4:09:21, 18.25s/it]"
     ]
    },
    {
     "name": "stdout",
     "output_type": "stream",
     "text": [
      "CAV accuracy for recycling bin concept (831): 0.9982\n",
      "[0804_150321] 538/623 Calculating CAV for shanties\n",
      "Best accuracy: 0.9923457901846016 Regularization: 0.001\n",
      "Best accuracy: 0.9954975236380009 Regularization: 0.005\n",
      "Best accuracy: 0.9959477712742009 Regularization: 0.01\n",
      "Best accuracy: 0.9984241332733003 Regularization: 0.05\n",
      "Best accuracy: 0.9988743809095002 Regularization: 0.5\n",
      "Best accuracy: 0.9990995047276002 Regularization: 1\n",
      "Best accuracy: 0.9993246285457001 Regularization: 3\n"
     ]
    },
    {
     "name": "stderr",
     "output_type": "stream",
     "text": [
      "538it [4:09:38, 17.63s/it]"
     ]
    },
    {
     "name": "stdout",
     "output_type": "stream",
     "text": [
      "CAV accuracy for shanties concept (850): 0.9993\n",
      "[0804_150337] 539/623 Calculating CAV for wave\n",
      "Best accuracy: 0.9867176947321027 Regularization: 0.001\n",
      "Best accuracy: 0.9927960378208014 Regularization: 0.005\n",
      "Best accuracy: 0.9943719045475011 Regularization: 0.01\n",
      "Best accuracy: 0.9970733903647006 Regularization: 0.05\n",
      "Best accuracy: 0.9977487618190004 Regularization: 0.1\n",
      "Best accuracy: 0.9986492570914003 Regularization: 0.5\n",
      "Best accuracy: 0.9990995047276002 Regularization: 1\n"
     ]
    },
    {
     "name": "stderr",
     "output_type": "stream",
     "text": [
      "539it [4:09:53, 16.87s/it]"
     ]
    },
    {
     "name": "stdout",
     "output_type": "stream",
     "text": [
      "CAV accuracy for wave concept (851): 0.9991\n",
      "[0804_150352] 540/623 Calculating CAV for machinery\n",
      "Best accuracy: 0.990094552003602 Regularization: 0.001\n",
      "Best accuracy: 0.9952723998199009 Regularization: 0.005\n",
      "Best accuracy: 0.9970733903647006 Regularization: 0.01\n",
      "Best accuracy: 0.9984241332733003 Regularization: 0.05\n",
      "Best accuracy: 0.9986492570914003 Regularization: 0.1\n",
      "Best accuracy: 0.9988743809095002 Regularization: 0.5\n"
     ]
    },
    {
     "name": "stderr",
     "output_type": "stream",
     "text": [
      "540it [4:10:08, 16.52s/it]"
     ]
    },
    {
     "name": "stdout",
     "output_type": "stream",
     "text": [
      "CAV accuracy for machinery concept (852): 0.9989\n",
      "[0804_150408] 541/623 Calculating CAV for dashboard\n",
      "Best accuracy: 0.994597028365601 Regularization: 0.001\n",
      "Best accuracy: 0.9972985141828006 Regularization: 0.005\n",
      "Best accuracy: 0.9977487618190004 Regularization: 0.01\n",
      "Best accuracy: 0.9986492570914003 Regularization: 0.05\n",
      "Best accuracy: 0.9988743809095002 Regularization: 1\n"
     ]
    },
    {
     "name": "stderr",
     "output_type": "stream",
     "text": [
      "541it [4:10:22, 15.66s/it]"
     ]
    },
    {
     "name": "stdout",
     "output_type": "stream",
     "text": [
      "CAV accuracy for dashboard concept (853): 0.9989\n",
      "[0804_150421] 542/623 Calculating CAV for dental chair\n",
      "Best accuracy: 0.9889689329131022 Regularization: 0.001\n",
      "Best accuracy: 0.9952723998199009 Regularization: 0.005\n",
      "Best accuracy: 0.9966231427285007 Regularization: 0.01\n",
      "Best accuracy: 0.9981990094552003 Regularization: 0.05\n",
      "Best accuracy: 0.9984241332733003 Regularization: 0.1\n",
      "Best accuracy: 0.9988743809095002 Regularization: 0.5\n",
      "Best accuracy: 0.9990995047276002 Regularization: 1\n"
     ]
    }
   ],
   "source": [
    "cavs = {}\n",
    "train_attributes = dense_attributes['train']\n",
    "val_attributes = dense_attributes['val']\n",
    "\n",
    "resume = False\n",
    "print(train_attributes.shape)\n",
    "\n",
    "cavs_save_dir = os.path.join('saved', 'ADE20K', 'cav', 'weighted', datetime.now().strftime(r'%m%d_%H%M%S'))\n",
    "if not resume:\n",
    "    ensure_dir(cavs_save_dir)\n",
    "    # if os.path.exists(cavs_save_dir):\n",
    "    #     raise ValueError(\"Path {} already exists\".format(cavs_save_dir))\n",
    "else:\n",
    "    timestamp = '0727_111655'\n",
    "    cavs_save_dir = os.path.join(os.path.dirname(cavs_save_dir), timestamp)\n",
    "\n",
    "\n",
    "cavs_save_path = os.path.join(cavs_save_dir, 'cavs.pickle')\n",
    "\n",
    "if resume:\n",
    "    with open(cavs_save_path, 'rb') as file:\n",
    "        cavs = pickle.load(file)\n",
    "    saved_attr_idxs = list(cavs.keys())\n",
    "    last_saved_idx = max(saved_attr_idxs)\n",
    "else:\n",
    "    last_saved_idx = -1\n",
    "\n",
    "log_path = os.path.join(cavs_save_dir, 'log.txt')\n",
    "n_frequent_attributes = len(frequent_attribute_idxs)\n",
    "\n",
    "for idx, attribute_idx in tqdm(enumerate(frequent_attribute_idxs)):\n",
    "    if attribute_idx < last_saved_idx:\n",
    "        continue\n",
    "    informal_log(\"[{}] {}/{} Calculating CAV for {}\".format(\n",
    "        datetime.now().strftime(r'%m%d_%H%M%S'),\n",
    "        idx+1,\n",
    "        n_frequent_attributes,\n",
    "        attribute_label_dict[attribute_idx]), log_path)\n",
    "    scaler = None # Preprocessing.StandardScaler()\n",
    "    \n",
    "    logistic_regression_args = {\n",
    "        'solver': 'liblinear',\n",
    "        'penalty': 'l2',\n",
    "        'class_weight': 'balanced'\n",
    "    }\n",
    "    cav = hyperparam_search(\n",
    "        train_features=train_features,\n",
    "        train_labels=train_attributes[:, idx],\n",
    "        val_features=val_features,\n",
    "        val_labels=val_attributes[:, idx],\n",
    "        scaler=scaler,\n",
    "        log_path=log_path,\n",
    "        logistic_regression_args=logistic_regression_args)\n",
    "    cavs[attribute_idx] = cav\n",
    "    \n",
    "    accuracy = cav.score(val_features, val_attributes[:, idx])\n",
    "    informal_log(\"CAV accuracy for {} concept ({}): {:.4f}\".format(\n",
    "        attribute_label_dict[attribute_idx],\n",
    "        attribute_idx,\n",
    "        accuracy), log_path)\n",
    "    # Save periodically\n",
    "    if idx % 10 == 0:\n",
    "        pickle.dump(cavs, open(cavs_save_path, 'wb'))\n",
    "        \n",
    "pickle.dump(cavs, open(cavs_save_path, 'wb'))\n"
   ]
  },
  {
   "cell_type": "markdown",
   "metadata": {},
   "source": [
    "### Save Concept present vectors from CAVs for each image in train/val/test"
   ]
  },
  {
   "cell_type": "code",
   "execution_count": 15,
   "metadata": {
    "tags": []
   },
   "outputs": [
    {
     "name": "stdout",
     "output_type": "stream",
     "text": [
      "114\n",
      "Obtaining concept presence vectors for train split\n",
      "(13326, 114) 13326\n",
      "Obtaining concept presence vectors for val split\n",
      "(4442, 114) 4442\n",
      "Obtaining concept presence vectors for test split\n",
      "(4442, 114) 4442\n",
      "Saved concept present vectors from CAVs to saved/ADE20K/cav/weighted/n_filter_300_n_concept_114/dense_cav_attributes.pth\n"
     ]
    }
   ],
   "source": [
    "# For images in train/val/test splits, predict the presence/absence of each concept from features using CAVs\n",
    "# Save as one-hot encoded concept-presence vectors\n",
    "# cavs_path = 'saved/ADE20K/cav/weighted/0517_151725/cavs.pickle'\n",
    "cavs_path = 'saved/ADE20K/cav/weighted/all_cavs.pickle'\n",
    "frequency_threshold = 300\n",
    "n_concepts = 114\n",
    "frequent_attribute_idxs_path = 'data/ade20k/filter_attr_{}/frequent_attribute_idxs_n-{}.pth'.format(\n",
    "    frequency_threshold, n_concepts)\n",
    "\n",
    "use_dense = True\n",
    "\n",
    "cavs_save_dir = os.path.join(os.path.dirname(cavs_path), 'n_filter_{}_n_concept_{}'.format(frequency_threshold, n_concepts))\n",
    "ensure_dir(cavs_save_dir)\n",
    "if 'scaled' in cavs_path:\n",
    "    scale = True\n",
    "else:\n",
    "    scale = False\n",
    "cavs = pickle.load(open(cavs_path, 'rb'))\n",
    "splits = ['train', 'val', 'test']\n",
    "frequent_attribute_idxs = torch.load(frequent_attribute_idxs_path)\n",
    "print(len(frequent_attribute_idxs))\n",
    "assert len(frequent_attribute_idxs) == n_concepts\n",
    "\n",
    "if scale:\n",
    "    import sklearn.preprocessing as Preprocessing\n",
    "    scaler = Preprocessing.StandardScaler()\n",
    "    scaler.fit(features['train'])\n",
    "    scaled_features = {\n",
    "        'train': scaler.transform(features['train']),\n",
    "        'val': scaler.transform(features['val']),\n",
    "        'test': scaler.transform(features['test'])\n",
    "    }\n",
    "concept_vectors_dict = {}\n",
    "concept_vectors_save_path = os.path.join(cavs_save_dir, '{}_cav_attributes.pth'.format('dense' if use_dense else 'sparse'))\n",
    "if os.path.exists(concept_vectors_save_path):\n",
    "    print(\"Concept presence vectors already exist at {}\".format(concept_vectors_save_path))\n",
    "else:\n",
    "    for split in splits:\n",
    "        if scale:\n",
    "            split_features = scaled_features[split]\n",
    "        else:\n",
    "            split_features = features[split]\n",
    "        n_samples = len(split_features)\n",
    "        print(\"Obtaining concept presence vectors for {} split\".format(split))\n",
    "\n",
    "        concept_presence_vectors = []\n",
    "        \n",
    "        # If use_dense, save dense concept_presence_vectors\n",
    "        if use_dense:\n",
    "            for attr_idx in frequent_attribute_idxs:\n",
    "                cav = cavs[attr_idx]\n",
    "                concept_present = cav.predict(split_features)\n",
    "                assert len(concept_present) == n_samples\n",
    "                concept_presence_vectors.append(concept_present)\n",
    "                \n",
    "        else:\n",
    "            for attr_idx in tqdm(range(n_attributes)):\n",
    "                if attr_idx in cavs:\n",
    "                    cav = cavs[attr_idx]\n",
    "                    concept_present = cav.predict(split_features)\n",
    "                    assert len(concept_present) == n_samples\n",
    "                    concept_presence_vectors.append(concept_present)\n",
    "                    \n",
    "                else:\n",
    "                    concept_presence_vectors.append(np.zeros(n_samples))\n",
    "        concept_presence_vectors = np.stack(concept_presence_vectors, axis=1)\n",
    "        print(concept_presence_vectors.shape, n_samples)\n",
    "        # Concept vectors only for frequent vectors; Turn it into one hot vector\n",
    "\n",
    "        concept_vectors_dict[split] = concept_presence_vectors\n",
    "    \n",
    "    torch.save(concept_vectors_dict, concept_vectors_save_path)\n",
    "    print(\"Saved concept present vectors from CAVs to {}\".format(concept_vectors_save_path))\n"
   ]
  },
  {
   "cell_type": "markdown",
   "metadata": {},
   "source": [
    "### Learn Explainer from CAVs"
   ]
  },
  {
   "cell_type": "code",
   "execution_count": 6,
   "metadata": {},
   "outputs": [],
   "source": [
    "# Load attributes from CAVs\n",
    "cav_attributes_path = os.path.join(cavs_save_dir, 'cav_attributes.pth')\n",
    "cav_attributes = torch.load(cav_attributes_path)\n",
    "\n",
    "# Load model's predictions\n",
    "prediction_path = os.path.join(\n",
    "    'saved', \n",
    "    'PlacesCategoryClassification',\n",
    "    '0510_102912',\n",
    "    'ADE20K_predictions', \n",
    "    'saga', \n",
    "    '{}_outputs_predictions.pth')\n",
    "splits = ['train', 'val', 'test']\n",
    "predictions = {}\n",
    "for split in splits:\n",
    "    predictions[split] = torch.load(prediction_path.format(split))['predictions']\n",
    "\n",
    "\n"
   ]
  },
  {
   "cell_type": "code",
   "execution_count": 8,
   "metadata": {},
   "outputs": [
    {
     "name": "stdout",
     "output_type": "stream",
     "text": [
      "Explainer LogisticRegression(C=0.1, max_iter=200, multi_class='multinomial', penalty='l1',\n",
      "                   solver='saga') accuracy: 0.6960828455650608\n"
     ]
    }
   ],
   "source": [
    "# Train explainer\n",
    "logistic_regression_args = {\n",
    "    'solver': 'saga',\n",
    "    'penalty': 'l1'\n",
    "}\n",
    "\n",
    "max_iter = 200\n",
    "# explainer = hyperparam_search(\n",
    "#     train_features=cav_attributes['train'],\n",
    "#     train_labels=predictions['train'], \n",
    "#     val_features=cav_attributes['val'], \n",
    "#     val_labels=predictions['val'], \n",
    "#     scaler=None,\n",
    "#     Cs = [0.001, 0.005, 0.01, 0.05, 0.1, 0.5, 1, 3, 5],\n",
    "#     log_path=None,\n",
    "#     logistic_regression_args=logistic_regression_args)\n",
    "explainer = LogisticRegression(\n",
    "    solver='saga',\n",
    "    penalty='l1',\n",
    "    C=0.1,\n",
    "    multi_class='multinomial',\n",
    "    max_iter=max_iter\n",
    ")\n",
    "explainer.fit(cav_attributes['train'], predictions['train'])\n",
    "accuracy = explainer.score(cav_attributes['val'], predictions['val'])\n",
    "print(\"Explainer {} accuracy: {}\".format(explainer, accuracy))"
   ]
  },
  {
   "cell_type": "code",
   "execution_count": 10,
   "metadata": {},
   "outputs": [
    {
     "name": "stdout",
     "output_type": "stream",
     "text": [
      "Saved explainer trained on CAVs to saved/PlacesCategoryClassification/0510_102912/ADE20K_predictions/saga/weighted_cav_explainer/saga_explainer_l1_0.1.pickle\n",
      "0.6960828455650608\n",
      "Saved outputs from validation set to saved/PlacesCategoryClassification/0510_102912/ADE20K_predictions/saga/weighted_cav_explainer/saga_explainer_l1_0.1_validation.pth\n"
     ]
    },
    {
     "name": "stderr",
     "output_type": "stream",
     "text": [
      "4442it [00:00, 781276.40it/s]"
     ]
    },
    {
     "name": "stdout",
     "output_type": "stream",
     "text": [
      "Saved 3092 congruent paths to saved/PlacesCategoryClassification/0510_102912/ADE20K_predictions/saga/weighted_cav_explainer/congruent_paths.txt and 1350 incongruent paths to saved/PlacesCategoryClassification/0510_102912/ADE20K_predictions/saga/weighted_cav_explainer/incongruent_paths.txt\n"
     ]
    },
    {
     "name": "stderr",
     "output_type": "stream",
     "text": [
      "\n"
     ]
    }
   ],
   "source": [
    "c = 0.1\n",
    "solver = 'saga'\n",
    "penalty = 'l1'\n",
    "save_dir = os.path.dirname(prediction_path)\n",
    "\n",
    "# Save CAV explainer\n",
    "cav_explainer_dir = os.path.join(save_dir, 'weighted_cav_explainer')\n",
    "ensure_dir(cav_explainer_dir)\n",
    "cav_explainer_save_path = os.path.join(cav_explainer_dir, '{}_explainer_{}_{}.pickle'.format(solver, penalty, c))\n",
    "if not os.path.exists(cav_explainer_save_path):\n",
    "    pickle.dump(explainer, open(cav_explainer_save_path, 'wb'))\n",
    "    print(\"Saved explainer trained on CAVs to {}\".format(cav_explainer_save_path))\n",
    "else:\n",
    "    print(\"Explainer already exists at '{}'\".format(cav_explainer_save_path))\n",
    "\n",
    "# Save CAV explainer predictions\n",
    "accuracy = explainer.score(cav_attributes['val'], predictions['val'])\n",
    "print(accuracy)\n",
    "\n",
    "explainer_outputs = explainer.decision_function(cav_attributes['val'])\n",
    "explainer_probabilities = explainer.predict_proba(cav_attributes['val'])\n",
    "explainer_predictions = explainer.predict(cav_attributes['val'])\n",
    "\n",
    "validation_output = {\n",
    "    'outputs': explainer_outputs,\n",
    "    'probabilities': explainer_probabilities,\n",
    "    'predictions': explainer_predictions\n",
    "}\n",
    "validation_output_path = os.path.join(cav_explainer_dir, '{}_explainer_{}_{}_validation.pth'.format(solver, penalty, c))\n",
    "if not os.path.exists(validation_output_path):\n",
    "    torch.save(validation_output, validation_output_path)\n",
    "    print(\"Saved outputs from validation set to {}\".format(validation_output_path))\n",
    "else:\n",
    "    print(\"Validation set outputs already saved to {}\".format(validation_output_path))\n",
    "\n",
    "# Save congruent/incongruent paths\n",
    "congruency_paths = partition_paths_by_congruency(\n",
    "    explainer_predictions=explainer_predictions,\n",
    "    model_predictions=predictions['val'],\n",
    "    paths=paths['val']\n",
    ")\n",
    "congruent_paths = congruency_paths['congruent']\n",
    "incongruent_paths = congruency_paths['incongruent']\n",
    "congruent_paths_path = os.path.join(cav_explainer_dir, 'congruent_paths.txt')\n",
    "incongruent_paths_path = os.path.join(cav_explainer_dir, 'incongruent_paths.txt')\n",
    "if not os.path.exists(congruent_paths_path) or not os.path.exists(incongruent_paths_path):\n",
    "    write_lists(congruent_paths, congruent_paths_path)\n",
    "    write_lists(incongruent_paths, incongruent_paths_path)\n",
    "    print(\"Saved {} congruent paths to {} and {} incongruent paths to {}\".format(\n",
    "        len(congruent_paths),\n",
    "        congruent_paths_path,\n",
    "        len(incongruent_paths),\n",
    "        incongruent_paths_path\n",
    "    ))\n",
    "else:\n",
    "    print(\"Congruent paths already saved to {} and incongruent paths already saved to {}\".format(\n",
    "        congruent_paths_path, incongruent_paths_path\n",
    "    ))"
   ]
  },
  {
   "cell_type": "code",
   "execution_count": null,
   "metadata": {},
   "outputs": [],
   "source": []
  }
 ],
 "metadata": {
  "kernelspec": {
   "display_name": "model-correlation",
   "language": "python",
   "name": "model-correlation"
  },
  "language_info": {
   "codemirror_mode": {
    "name": "ipython",
    "version": 3
   },
   "file_extension": ".py",
   "mimetype": "text/x-python",
   "name": "python",
   "nbconvert_exporter": "python",
   "pygments_lexer": "ipython3",
   "version": "3.11.2"
  },
  "vscode": {
   "interpreter": {
    "hash": "c579736b944d6d0768ad80dbc3e033126adf2082032258477813cfb04cf1061b"
   }
  }
 },
 "nbformat": 4,
 "nbformat_minor": 4
}
