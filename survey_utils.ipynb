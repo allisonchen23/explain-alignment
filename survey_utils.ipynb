{
 "cells": [
  {
   "cell_type": "code",
   "execution_count": 15,
   "id": "f8dbeadc-4d0b-4034-b092-e85369413704",
   "metadata": {
    "tags": []
   },
   "outputs": [],
   "source": [
    "import os, sys\n",
    "import random\n",
    "import pandas as pd\n",
    "import shutil\n",
    "import tarfile\n",
    "\n",
    "sys.path.insert(0, 'src')\n",
    "from utils.utils import write_lists, read_lists, ensure_dir"
   ]
  },
  {
   "cell_type": "code",
   "execution_count": 8,
   "id": "f060dbf1-51d7-4f13-946b-99a82da68418",
   "metadata": {
    "tags": []
   },
   "outputs": [],
   "source": [
    "save_dir = os.path.join('saved', 'ADE20K', '0501_105640', 'baseline_explainer')\n",
    "paths_filename_template = '{}_paths_16_class_freq_attr.txt'\n",
    "incongruent_paths_path = os.path.join(save_dir, paths_filename_template.format('incongruent'))\n",
    "congruent_paths_path = os.path.join(save_dir, paths_filename_template.format('congruent'))\n",
    "\n",
    "\n",
    "seed = 0\n",
    "n_images = 60"
   ]
  },
  {
   "cell_type": "markdown",
   "id": "a887db45-c1e8-42ff-8068-3900377b88f7",
   "metadata": {},
   "source": [
    "### Select half congruent and half incongruent paths in a shuffled list, mark which are congruent and incongruent and save as csv"
   ]
  },
  {
   "cell_type": "code",
   "execution_count": 10,
   "id": "4220ba3f-5794-487f-a2e6-ca2cab93853a",
   "metadata": {
    "tags": []
   },
   "outputs": [
    {
     "name": "stdout",
     "output_type": "stream",
     "text": [
      "Saved image paths to saved/ADE20K/0501_105640/baseline_explainer/survey_paths.csv\n"
     ]
    }
   ],
   "source": [
    "incongruent_paths = read_lists(incongruent_paths_path)\n",
    "congruent_paths = read_lists(congruent_paths_path)\n",
    "\n",
    "selected = []\n",
    "\n",
    "random.seed(0)\n",
    "selected_incongruent = random.sample(incongruent_paths, k=n_images//2)\n",
    "selected_congruent = random.sample(congruent_paths, k=n_images//2)\n",
    "\n",
    "selected = selected_congruent + selected_incongruent\n",
    "random.shuffle(selected)\n",
    "\n",
    "congruent_flags = []\n",
    "for path in selected:\n",
    "    if path in selected_congruent:\n",
    "        congruent_flags.append(1)\n",
    "    else:\n",
    "        congruent_flags.append(0)\n",
    "        \n",
    "df = pd.DataFrame({'Path': selected, 'Congruent': congruent_flags})\n",
    "save_path = os.path.join(save_dir, 'survey_paths_{}.csv'.format(n_images))\n",
    "if not os.path.exists(save_path):\n",
    "    df.to_csv(save_path)\n",
    "    print(\"Saved image paths to {}\".format(save_path))\n",
    "else:\n",
    "    print(\"{} already exists.\".format(save_path))"
   ]
  },
  {
   "cell_type": "markdown",
   "id": "1b71f461-7894-49ad-8f30-d1a716c253db",
   "metadata": {},
   "source": [
    "### Read the paths from the csv file and copy files to a local folder, compress folder "
   ]
  },
  {
   "cell_type": "code",
   "execution_count": 16,
   "id": "1f284c30-f43f-4c59-b26c-3ab2e38f3979",
   "metadata": {
    "tags": []
   },
   "outputs": [],
   "source": [
    "def compress_images(csv_path, save_dir):\n",
    "    # Obtain paths to images\n",
    "    df = pd.read_csv(csv_path)\n",
    "    image_paths = df['Path']\n",
    "    # Create image save directory\n",
    "    image_save_dir = os.path.join(save_dir, 'images_{}'.format(n_images))\n",
    "    ensure_dir(image_save_dir)\n",
    "    \n",
    "    # Copy images (noting the index from the list)\n",
    "    for idx, src_path in enumerate(image_paths):\n",
    "        image_name = os.path.basename(src_path)\n",
    "        dst_path = os.path.join(image_save_dir, 'idx{}_{}'.format(idx, image_name))\n",
    "        \n",
    "        try:\n",
    "            shutil.copy(src_path, dst_path)\n",
    "        except Exception as e:\n",
    "            print(\"Unable to copy file from {} to {}: {}\".format(src_path, dst_path, e))\n",
    "            \n",
    "    # Compress using tar\n",
    "    tar_path = os.path.join(save_dir, 'survey_images_{}.tar.gz'.format(n_images))\n",
    "    with tarfile.open(tar_path, \"w:gz\") as tar:\n",
    "        tar.add(image_save_dir, arcname=os.path.basename(image_save_dir))\n",
    "        \n",
    "save_dir = os.path.join('saved', 'ADE20K', '0501_105640', 'baseline_explainer')\n",
    "csv_path = os.path.join(save_dir, 'survey_paths_{}.csv'.format(n_images))\n",
    "\n",
    "compress_images(\n",
    "    csv_path=csv_path,\n",
    "    save_dir=save_dir)\n"
   ]
  },
  {
   "cell_type": "code",
   "execution_count": null,
   "id": "997c4d07-2404-463c-a66e-5a79be1cc5e5",
   "metadata": {},
   "outputs": [],
   "source": []
  }
 ],
 "metadata": {
  "kernelspec": {
   "display_name": "Python 3.8.12 64-bit",
   "language": "python",
   "name": "python3"
  },
  "language_info": {
   "codemirror_mode": {
    "name": "ipython",
    "version": 3
   },
   "file_extension": ".py",
   "mimetype": "text/x-python",
   "name": "python",
   "nbconvert_exporter": "python",
   "pygments_lexer": "ipython3",
   "version": "3.8.12"
  },
  "vscode": {
   "interpreter": {
    "hash": "5b3ded1ccb95c1d9bd405e7b823d9e85424cde40fbb5985eb47e999ef50e15b4"
   }
  }
 },
 "nbformat": 4,
 "nbformat_minor": 5
}
