{
 "cells": [
  {
   "cell_type": "code",
   "execution_count": 40,
   "id": "122f6d63",
   "metadata": {
    "tags": []
   },
   "outputs": [],
   "source": [
    "import torch\n",
    "import os, sys\n",
    "from datetime import datetime\n",
    "\n",
    "sys.path.insert(0, 'src')\n",
    "from train import main as train_fn\n",
    "from parse_config import ConfigParser\n",
    "import datasets.datasets as module_data\n",
    "from utils.utils import read_json, ensure_dir, informal_log"
   ]
  },
  {
   "cell_type": "markdown",
   "id": "4f53f78a-550d-4439-b011-1197514684fb",
   "metadata": {},
   "source": [
    "### Load hparam search variables"
   ]
  },
  {
   "cell_type": "code",
   "execution_count": 33,
   "id": "84268030-d5ed-4bc7-8bf4-f9cf628a7e5f",
   "metadata": {
    "tags": []
   },
   "outputs": [],
   "source": [
    "config_path = 'configs/train_ade20k_explainer_KD.json'\n",
    "learning_rates = [1e-6, 1e-5, 1e-4, 1e-3, 5e-2, 1e-2, 5e-1, 1e-1]\n",
    "weight_decays = [0, 1e-1, 1e-2, 1e-3]\n",
    "\n",
    "config_json = read_json(config_path)"
   ]
  },
  {
   "cell_type": "markdown",
   "id": "f8b42639",
   "metadata": {},
   "source": [
    "### Create train and validation datasets outside of loop"
   ]
  },
  {
   "cell_type": "code",
   "execution_count": 35,
   "id": "4eb3631c-3870-4c71-b884-f421484b3e2a",
   "metadata": {
    "scrolled": true,
    "tags": []
   },
   "outputs": [],
   "source": [
    "dataset_args = config_json['dataset']['args']\n",
    "train_dataset = module_data.KDDataset(split='train', **dataset_args)\n",
    "val_dataset = module_data.KDDataset(split='val', **dataset_args)\n",
    "\n",
    "dataloader_args = config_json['data_loader']['args']\n",
    "train_dataloader = torch.utils.data.DataLoader(\n",
    "    train_dataset,\n",
    "    shuffle=True,\n",
    "    **dataloader_args)\n",
    "val_dataloader = torch.utils.data.DataLoader(\n",
    "    val_dataset,\n",
    "    shuffle=False,\n",
    "    **dataloader_args)"
   ]
  },
  {
   "cell_type": "code",
   "execution_count": 38,
   "id": "d0bcade9",
   "metadata": {
    "tags": []
   },
   "outputs": [
    {
     "name": "stdout",
     "output_type": "stream",
     "text": [
      "Hyperparameter search\n",
      "Learning rates: [1e-06, 1e-05, 0.0001, 0.001, 0.05, 0.01, 0.5, 0.1]\n",
      "Weight decays: [0, 0.1, 0.01, 0.001]\n"
     ]
    }
   ],
   "source": [
    "log_path = os.path.join(config_json['trainer']['save_dir'], 'log.txt')\n",
    "ensure_dir(os.path.dirname(log_path))\n",
    "informal_log(\"Hyperparameter search\", log_path)\n",
    "informal_log(\"Learning rates: {}\".format(learning_rates), log_path)\n",
    "informal_log(\"Weight decays: {}\".format(weight_decays), log_path)"
   ]
  },
  {
   "cell_type": "code",
   "execution_count": 17,
   "id": "a0c00f81-2917-4c7f-a1c1-1b464f751ed3",
   "metadata": {
    "tags": []
   },
   "outputs": [],
   "source": [
    "ds = KDDataset(\n",
    "    input_features_path='data/ade20k/frequency_filtered_one_hot_attributes.pth',\n",
    "    labels_path='saved/PlacesCategoryClassification/0510_102912/ADE20K_predictions/saga/outputs_predictions.pth',\n",
    "    split='train',\n",
    "    out_type='probabilities')"
   ]
  },
  {
   "cell_type": "code",
   "execution_count": 39,
   "id": "0dd71c3b-7f35-4d86-854d-26a15e9f72c6",
   "metadata": {
    "tags": []
   },
   "outputs": [
    {
     "name": "stdout",
     "output_type": "stream",
     "text": [
      "OrderedDict([('lr', 1e-06), ('weight_decay', 0), ('amsgrad', False)])\n",
      "OrderedDict([('lr', 1e-06), ('weight_decay', 0.1), ('amsgrad', False)])\n",
      "OrderedDict([('lr', 1e-06), ('weight_decay', 0.01), ('amsgrad', False)])\n",
      "OrderedDict([('lr', 1e-06), ('weight_decay', 0.001), ('amsgrad', False)])\n",
      "OrderedDict([('lr', 1e-05), ('weight_decay', 0), ('amsgrad', False)])\n",
      "OrderedDict([('lr', 1e-05), ('weight_decay', 0.1), ('amsgrad', False)])\n",
      "OrderedDict([('lr', 1e-05), ('weight_decay', 0.01), ('amsgrad', False)])\n",
      "OrderedDict([('lr', 1e-05), ('weight_decay', 0.001), ('amsgrad', False)])\n",
      "OrderedDict([('lr', 0.0001), ('weight_decay', 0), ('amsgrad', False)])\n",
      "OrderedDict([('lr', 0.0001), ('weight_decay', 0.1), ('amsgrad', False)])\n",
      "OrderedDict([('lr', 0.0001), ('weight_decay', 0.01), ('amsgrad', False)])\n",
      "OrderedDict([('lr', 0.0001), ('weight_decay', 0.001), ('amsgrad', False)])\n",
      "OrderedDict([('lr', 0.001), ('weight_decay', 0), ('amsgrad', False)])\n",
      "OrderedDict([('lr', 0.001), ('weight_decay', 0.1), ('amsgrad', False)])\n",
      "OrderedDict([('lr', 0.001), ('weight_decay', 0.01), ('amsgrad', False)])\n",
      "OrderedDict([('lr', 0.001), ('weight_decay', 0.001), ('amsgrad', False)])\n",
      "OrderedDict([('lr', 0.05), ('weight_decay', 0), ('amsgrad', False)])\n",
      "OrderedDict([('lr', 0.05), ('weight_decay', 0.1), ('amsgrad', False)])\n",
      "OrderedDict([('lr', 0.05), ('weight_decay', 0.01), ('amsgrad', False)])\n",
      "OrderedDict([('lr', 0.05), ('weight_decay', 0.001), ('amsgrad', False)])\n",
      "OrderedDict([('lr', 0.01), ('weight_decay', 0), ('amsgrad', False)])\n",
      "OrderedDict([('lr', 0.01), ('weight_decay', 0.1), ('amsgrad', False)])\n",
      "OrderedDict([('lr', 0.01), ('weight_decay', 0.01), ('amsgrad', False)])\n",
      "OrderedDict([('lr', 0.01), ('weight_decay', 0.001), ('amsgrad', False)])\n",
      "OrderedDict([('lr', 0.5), ('weight_decay', 0), ('amsgrad', False)])\n",
      "OrderedDict([('lr', 0.5), ('weight_decay', 0.1), ('amsgrad', False)])\n",
      "OrderedDict([('lr', 0.5), ('weight_decay', 0.01), ('amsgrad', False)])\n",
      "OrderedDict([('lr', 0.5), ('weight_decay', 0.001), ('amsgrad', False)])\n",
      "OrderedDict([('lr', 0.1), ('weight_decay', 0), ('amsgrad', False)])\n",
      "OrderedDict([('lr', 0.1), ('weight_decay', 0.1), ('amsgrad', False)])\n",
      "OrderedDict([('lr', 0.1), ('weight_decay', 0.01), ('amsgrad', False)])\n",
      "OrderedDict([('lr', 0.1), ('weight_decay', 0.001), ('amsgrad', False)])\n"
     ]
    }
   ],
   "source": [
    "best = {\n",
    "    'lr': -1,\n",
    "    'wd': -1,\n",
    "    'val_acc': -1\n",
    "}\n",
    "n_trials = len(learning_rates) * len(weight_decays)\n",
    "trial_idx = 1\n",
    "for lr in learning_rates:\n",
    "    for wd in weight_decays:\n",
    "        # Update config json\n",
    "        config_json['optimizer']['args'].update({\n",
    "            'lr': lr,\n",
    "            'weight_decay': wd\n",
    "        })\n",
    "        timestamp = datetime.now().strftime(r'%m%d_%H%M%S')\n",
    "        informal_log(\"[{}] Trial {}/{}: LR = {} WD = {}\".format(\n",
    "            timestamp, trial_idx, n_trials, lr, wd), log_path)\n",
    "        # Create directory for trial\n",
    "        # Train\n",
    "        # Restore model\n",
    "        # Run on validation set using predict function\n",
    "        # obtain accuracy\n",
    "        trial_idx += 1"
   ]
  },
  {
   "cell_type": "code",
   "execution_count": null,
   "id": "23f411f6-c685-420b-beea-45097b65ab3d",
   "metadata": {},
   "outputs": [],
   "source": []
  }
 ],
 "metadata": {
  "kernelspec": {
   "display_name": "model-correlation",
   "language": "python",
   "name": "model-correlation"
  },
  "language_info": {
   "codemirror_mode": {
    "name": "ipython",
    "version": 3
   },
   "file_extension": ".py",
   "mimetype": "text/x-python",
   "name": "python",
   "nbconvert_exporter": "python",
   "pygments_lexer": "ipython3",
   "version": "3.11.2"
  }
 },
 "nbformat": 4,
 "nbformat_minor": 5
}
