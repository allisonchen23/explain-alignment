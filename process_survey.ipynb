{
 "cells": [
  {
   "cell_type": "code",
   "execution_count": 139,
   "metadata": {},
   "outputs": [],
   "source": [
    "import os, sys\n",
    "import pandas as pd\n",
    "import numpy as np\n",
    "import json\n",
    "from tqdm import tqdm\n",
    "import torch\n",
    "from scipy import stats\n",
    "\n",
    "sys.path.insert(0, 'src')\n",
    "from utils.utils import read_lists"
   ]
  },
  {
   "cell_type": "code",
   "execution_count": 47,
   "metadata": {},
   "outputs": [],
   "source": [
    "RESULTS_DIR = os.path.join('saved', 'ADE20K', 'survey_results', 'ADE20K_soft_labels')\n",
    "MEASUREMENT_COLUMN_NAMES = ['selectedAttrs', 'attrUncs']\n",
    "TASK_METADATA_COLUMN_NAMES = ['filename', 'task', 'concept_group']\n",
    "\n",
    "CONGRUENCY_PATH_TEMPLATE = os.path.join('saved', 'ADE20K', '0501_105640', 'baseline_explainer', '{}_paths_16_class_freq_attr.txt')\n",
    "CONGRUENT_PATHS_PATH = CONGRUENCY_PATH_TEMPLATE.format('congruent')\n",
    "INCONGRUENT_PATHS_PATH = CONGRUENCY_PATH_TEMPLATE.format('incongruent')\n",
    "\n",
    "# Path to where images in ADE20K are stored. (Prefix to path in congruent/incongruent paths files)\n",
    "ADE20K_PARENT_DIR = os.path.join('data', 'broden1_224', 'images')\n",
    "CSV_SAVE_PATH = os.path.join(os.path.dirname(RESULTS_DIR), 'processed_results_{}_samples.csv')\n",
    "\n"
   ]
  },
  {
   "cell_type": "markdown",
   "metadata": {},
   "source": [
    "### Obtain list of CSV paths in `RESULTS_DIR`, load congruent and incongruent paths"
   ]
  },
  {
   "cell_type": "code",
   "execution_count": 32,
   "metadata": {},
   "outputs": [],
   "source": [
    "csv_paths = []\n",
    "\n",
    "for filename in os.listdir(RESULTS_DIR):\n",
    "    if filename.endswith('csv'):\n",
    "        csv_paths.append(os.path.join(RESULTS_DIR, filename))\n",
    "\n",
    "csv_paths = sorted(csv_paths)\n",
    "# Load congruent/incongruent paths\n",
    "congruent_paths = set(read_lists(CONGRUENT_PATHS_PATH))\n",
    "incongruent_paths = set(read_lists(INCONGRUENT_PATHS_PATH))\n"
   ]
  },
  {
   "cell_type": "code",
   "execution_count": 46,
   "metadata": {},
   "outputs": [
    {
     "name": "stdout",
     "output_type": "stream",
     "text": [
      "Processing 000_uncertainty-annotation_PARTICIPANT_SESSION_2023-05-03_17h26.47.486.csv\n",
      "Processing 001_uncertainty-annotation_PARTICIPANT_SESSION_2023-05-03_17h35.07.423.csv\n",
      "Processing 002_uncertainty-annotation_PARTICIPANT_SESSION_2023-05-03_17h40.48.508.csv\n",
      "Processing 003_uncertainty-annotation_PARTICIPANT_SESSION_2023-05-03_17h48.15.198.csv\n",
      "Processing 004_uncertainty-annotation_PARTICIPANT_SESSION_2023-05-03_17h55.01.103.csv\n",
      "Processing 005_uncertainty-annotation_PARTICIPANT_SESSION_2023-05-03_18h00.12.78.csv\n",
      "Processing 006_uncertainty-annotation_PARTICIPANT_SESSION_2023-05-03_18h05.33.934.csv\n",
      "Processing 007_uncertainty-annotation_PARTICIPANT_SESSION_2023-05-03_18h11.11.320.csv\n",
      "Processing 008_uncertainty-annotation_PARTICIPANT_SESSION_2023-05-04_09h23.31.131.csv\n",
      "Processing 009_uncertainty-annotation_PARTICIPANT_SESSION_2023-05-04_09h28.52.510.csv\n",
      "300\n"
     ]
    }
   ],
   "source": [
    "df_list = []\n",
    "for csv_path in csv_paths:\n",
    "    print(\"Processing {}\".format(os.path.basename(csv_path))) \n",
    "    df = pd.read_csv(csv_path)\n",
    "    measurement_df = df[MEASUREMENT_COLUMN_NAMES]\n",
    "    metadata_df = df.drop(MEASUREMENT_COLUMN_NAMES, axis=1)\n",
    "    # print(metadata_df.head())\n",
    "\n",
    "    # Drop empty rows\n",
    "    measurement_df = measurement_df.dropna()\n",
    "    # Drop rows without data in task metadata columns\n",
    "    metadata_df = metadata_df.dropna(subset=TASK_METADATA_COLUMN_NAMES)\n",
    "\n",
    "    # Remove columns that are empty\n",
    "    metadata_df = metadata_df.dropna(axis=1)\n",
    "    \n",
    "    # if 'congruent' is not in the dataframe, add it\n",
    "    if 'congruent' not in metadata_df.columns:\n",
    "        congruents = []\n",
    "        for filename in metadata_df['filename']:\n",
    "            path = os.path.join(ADE20K_PARENT_DIR, filename)\n",
    "            if path in congruent_paths:\n",
    "                congruents.append(1)\n",
    "            elif path in incongruent_paths:\n",
    "                congruents.append(0)\n",
    "            else:\n",
    "                raise ValueError(\"Path {} not found in congruent or incongruent paths... :0\".format(path))\n",
    "        metadata_df['congruent'] = congruents\n",
    "\n",
    "    # Assert that the two DFs have the same number of rows\n",
    "    assert len(metadata_df) == len(measurement_df), \"Uneven length data frames. Metadata length: {} Measurement length: {}\".format(\n",
    "        len(metadata_df), len(measurement_df))\n",
    "\n",
    "    # Reset indices to allow for joining appropriately\n",
    "    metadata_df = metadata_df.reset_index(drop=True)\n",
    "    measurement_df = measurement_df.reset_index(drop=True)\n",
    "\n",
    "\n",
    "    # Join the data frames\n",
    "    df = pd.concat([metadata_df, measurement_df], axis=1)\n",
    "    assert len(df) == len(metadata_df)\n",
    "\n",
    "    df_list.append(df)\n",
    "    \n",
    "df = pd.concat(df_list)\n",
    "\n"
   ]
  },
  {
   "cell_type": "code",
   "execution_count": 48,
   "metadata": {},
   "outputs": [],
   "source": [
    "save_path = CSV_SAVE_PATH.format(len(df))\n",
    "\n",
    "if os.path.exists(save_path):\n",
    "    print(\"Path {} already exists\".format(save_path))\n",
    "else:\n",
    "    df.to_csv(save_path)\n",
    "    print(\"Saving results to {}\".format(save_path))"
   ]
  },
  {
   "cell_type": "markdown",
   "metadata": {},
   "source": [
    "### Process each uncertainty attribute vector to soft_labels, compute 1) entropy and 2) confusion"
   ]
  },
  {
   "cell_type": "code",
   "execution_count": 140,
   "metadata": {},
   "outputs": [],
   "source": [
    "SCENE_CATEGORIES_PATH = os.path.join('data', 'ade20k', 'scene_categories.txt')\n",
    "n_samples = 300\n",
    "\n",
    "csv_path = CSV_SAVE_PATH.format(n_samples)\n",
    "\n",
    "# Create a 2-way dictionary mapping from category <-> index\n",
    "scene_categories = read_lists(SCENE_CATEGORIES_PATH)\n",
    "scene_categories_dict = {}\n",
    "for idx, category in enumerate(scene_categories):\n",
    "    scene_categories_dict[idx] = category\n",
    "    scene_categories_dict[category] = idx\n",
    "n_categories = len(scene_categories)\n",
    "\n",
    "# Load CSV\n",
    "df = pd.read_csv(csv_path)"
   ]
  },
  {
   "cell_type": "code",
   "execution_count": 141,
   "metadata": {},
   "outputs": [],
   "source": [
    "def get_top_2_confusion(soft_labels):\n",
    "    '''\n",
    "    Given soft label distribution, calculate difference between top 2 labels\n",
    "\n",
    "    Arg(s):\n",
    "        soft_labels : N x C np.array\n",
    "            soft label array for N samples and C class predictions\n",
    "\n",
    "    Returns:\n",
    "        confusion : N-dim np.array\n",
    "            confusion for each sample\n",
    "    '''\n",
    "    # Sort soft labels ascending\n",
    "    sorted_soft_labels = np.sort(soft_labels, axis=-1)\n",
    "    # Calculate difference of p(x) for top 2 classes\n",
    "    top_2_difference = sorted_soft_labels[:, -1] - sorted_soft_labels[:, -2]\n",
    "    # Confusion = 1 - difference (higher is worse)\n",
    "    top_2_confusion = 1 - top_2_difference\n",
    "\n",
    "    return top_2_confusion\n"
   ]
  },
  {
   "cell_type": "markdown",
   "metadata": {},
   "source": [
    "#### Calculate soft labels, entropy, and top-2 confusion"
   ]
  },
  {
   "cell_type": "code",
   "execution_count": 142,
   "metadata": {},
   "outputs": [],
   "source": [
    "if 'soft_labels' not in df.columns:\n",
    "    soft_labels = []\n",
    "    unmodified_soft_labels = []\n",
    "    for row in tqdm(df['attrUncs']):\n",
    "        soft_label = np.zeros(n_categories)\n",
    "        # Each 'score' item is a dictionary of class and certainty amount\n",
    "        row = json.loads(row)\n",
    "        for item in row:\n",
    "            category = item['label']\n",
    "            certainty = item['y'] / 100.0\n",
    "            category_idx = scene_categories_dict[category]\n",
    "            soft_label[category_idx] = certainty\n",
    "        label_sum = np.sum(soft_label)\n",
    "        unmodified_soft_labels.append(soft_label)\n",
    "        # Distribute remaining mass across other classes\n",
    "        if label_sum < 1.0:\n",
    "            remaining = 1.0 - label_sum\n",
    "            n_classes_left = n_categories - np.count_nonzero(soft_label)\n",
    "            remaining_per_class = remaining / n_classes_left\n",
    "            soft_label = np.where(soft_label == 0, remaining_per_class, soft_label)    \n",
    "        # Normalize to sum to 1\n",
    "        elif label_sum > 1.0:\n",
    "            soft_label = soft_label / label_sum\n",
    "        \n",
    "        # Assert the soft label sums to 1\n",
    "        assert np.abs(np.sum(soft_label) - 1.0) < 1e-5\n",
    "\n",
    "        soft_labels.append(soft_label)\n",
    "\n",
    "    df['soft_labels'] = soft_labels\n",
    "\n"
   ]
  },
  {
   "cell_type": "code",
   "execution_count": 143,
   "metadata": {},
   "outputs": [],
   "source": [
    "# Calculate entropy\n",
    "entropy = stats.entropy(soft_labels, axis=1)\n",
    "df['entropy'] = entropy\n",
    "\n",
    "# Calculate top-2 confusion\n",
    "top_2_confusion = get_top_2_confusion(soft_labels)\n",
    "df['top_2_confusion'] = top_2_confusion"
   ]
  },
  {
   "cell_type": "code",
   "execution_count": 144,
   "metadata": {},
   "outputs": [
    {
     "name": "stdout",
     "output_type": "stream",
     "text": [
      "(300, 16)\n",
      "Saved csv with soft labels to saved/ADE20K/survey_results/processed_results_300_samples.csv\n",
      "Saved dictionary with filenames, congruency, and soft labels to saved/ADE20K/survey_results/processed_results_300_samples.pth\n"
     ]
    }
   ],
   "source": [
    "# Create a dictionary\n",
    "soft_labels_arr = np.stack(soft_labels, axis=0)\n",
    "print(soft_labels_arr.shape)\n",
    "data = {\n",
    "    \"filename\": df['filename'],\n",
    "    \"congruent\": df['congruent'],\n",
    "    \"soft_label\": soft_labels_arr,\n",
    "    \"entropy\": entropy,\n",
    "    \"top_2_confusion\": top_2_confusion\n",
    "}\n",
    "df.to_csv(csv_path)\n",
    "print(\"Saved csv with soft labels to {}\".format(csv_path))\n",
    "pth_path = csv_path.replace('csv', 'pth')\n",
    "torch.save(data, pth_path)\n",
    "print(\"Saved dictionary with filenames, congruency, and soft labels to {}\".format(pth_path))\n",
    "    \n"
   ]
  },
  {
   "cell_type": "markdown",
   "metadata": {},
   "source": [
    "### Examine Results"
   ]
  },
  {
   "cell_type": "code",
   "execution_count": 97,
   "metadata": {},
   "outputs": [],
   "source": []
  },
  {
   "cell_type": "code",
   "execution_count": 101,
   "metadata": {},
   "outputs": [],
   "source": [
    "# save_dir = os.path.join('saved', 'ADE20K', 'survey_results')\n",
    "# pth_path = os.path.join(save_dir, 'processed_results_300_samples.pth')\n",
    "# csv_path = os.path.join(save_dir, 'processed_results_300_samples.csv')\n",
    "\n",
    "# results = torch.load(pth_path)\n",
    "\n",
    "# filenames = results['filename']\n",
    "# congruency = results['congruent']\n",
    "# soft_labels = results['soft_label']\n",
    "\n",
    "# df = pd.read_csv(csv_path)\n"
   ]
  },
  {
   "cell_type": "code",
   "execution_count": 138,
   "metadata": {},
   "outputs": [],
   "source": [
    "# def get_top_2_confusion(soft_labels):\n",
    "#     '''\n",
    "#     Given soft label distribution, calculate difference between top 2 labels\n",
    "\n",
    "#     Arg(s):\n",
    "#         soft_labels : N x C np.array\n",
    "#             soft label array for N samples and C class predictions\n",
    "\n",
    "#     Returns:\n",
    "#         confusion : N-dim np.array\n",
    "#             confusion for each sample\n",
    "#     '''\n",
    "#     # Sort soft labels ascending\n",
    "#     sorted_soft_labels = np.sort(soft_labels, axis=-1)\n",
    "#     # Calculate difference of p(x) for top 2 classes\n",
    "#     top_2_difference = sorted_soft_labels[:, -1] - sorted_soft_labels[:, -2]\n",
    "#     # Confusion = 1 - difference (higher is worse)\n",
    "#     top_2_confusion = 1 - top_2_difference\n",
    "\n",
    "#     return top_2_confusion\n"
   ]
  },
  {
   "cell_type": "code",
   "execution_count": 137,
   "metadata": {},
   "outputs": [],
   "source": [
    "# # Calculate entropy\n",
    "# entropy = stats.entropy(soft_labels, axis=1)\n",
    "# df['entropy'] = entropy\n",
    "\n",
    "# # Calculate top-2 confusion\n",
    "# top_2_confusion = get_top_2_confusion(soft_labels)\n",
    "# df['top_2_confusion'] = top_2_confusion"
   ]
  },
  {
   "cell_type": "code",
   "execution_count": 136,
   "metadata": {},
   "outputs": [
    {
     "data": {
      "text/plain": [
       "(<Figure size 432x288 with 1 Axes>, <Axes: >)"
      ]
     },
     "execution_count": 136,
     "metadata": {},
     "output_type": "execute_result"
    },
    {
     "data": {
      "text/plain": [
       "<Figure size 432x288 with 0 Axes>"
      ]
     },
     "metadata": {},
     "output_type": "display_data"
    },
    {
     "data": {
      "image/png": "[encoded data removed]",
      "text/plain": [
       "<Figure size 432x288 with 1 Axes>"
      ]
     },
     "metadata": {
      "needs_background": "light"
     },
     "output_type": "display_data"
    }
   ],
   "source": [
    "# from utils.visualizations import plot\n",
    "# plot(\n",
    "#     xs=[entropy],\n",
    "#     ys=[top_2_confusion],\n",
    "#     line=False,\n",
    "#     marker_size=5\n",
    "# )"
   ]
  },
  {
   "cell_type": "code",
   "execution_count": null,
   "metadata": {},
   "outputs": [],
   "source": []
  }
 ],
 "metadata": {
  "kernelspec": {
   "display_name": "Python 3.11.2 ('model-correlation')",
   "language": "python",
   "name": "python3"
  },
  "language_info": {
   "codemirror_mode": {
    "name": "ipython",
    "version": 3
   },
   "file_extension": ".py",
   "mimetype": "text/x-python",
   "name": "python",
   "nbconvert_exporter": "python",
   "pygments_lexer": "ipython3",
   "version": "3.11.2"
  },
  "orig_nbformat": 4,
  "vscode": {
   "interpreter": {
    "hash": "c579736b944d6d0768ad80dbc3e033126adf2082032258477813cfb04cf1061b"
   }
  }
 },
 "nbformat": 4,
 "nbformat_minor": 2
}
