{
 "cells": [
  {
   "cell_type": "markdown",
   "metadata": {},
   "source": [
    "## Given a 365 way scene classifier, obtain logits for 16-way scene category classifier\n"
   ]
  },
  {
   "cell_type": "code",
   "execution_count": 34,
   "metadata": {},
   "outputs": [],
   "source": [
    "import os, sys\n",
    "import torch\n",
    "import numpy as np\n",
    "import pandas as pd\n",
    "from tqdm import tqdm\n",
    "\n",
    "sys.path.insert(0, 'src')\n",
    "from utils.places365_pred_utils import get_class_category_dict\n",
    "from utils.utils import ensure_dir"
   ]
  },
  {
   "cell_type": "markdown",
   "metadata": {},
   "source": [
    "### Split Places 365 into train-val"
   ]
  },
  {
   "cell_type": "code",
   "execution_count": 40,
   "metadata": {},
   "outputs": [],
   "source": [
    "# Set variables\n",
    "places365_dir= os.path.join('data', 'Places365')\n",
    "index_path = os.path.join(places365_dir, 'places365_val.txt')\n",
    "image_dir = os.path.join(places365_dir, 'val_256')\n",
    "\n",
    "train_split = 0.6\n",
    "seed = 0\n",
    "\n",
    "data_save_dir = os.path.join('data', 'places365_categories')\n",
    "data_save_path = os.path.join(data_save_dir, 'places365_imagelabels.pth')"
   ]
  },
  {
   "cell_type": "code",
   "execution_count": 41,
   "metadata": {},
   "outputs": [
    {
     "name": "stdout",
     "output_type": "stream",
     "text": [
      "Path data/places365_categories/places365_imagelabels.pth exists. Aborting\n"
     ]
    },
    {
     "name": "stderr",
     "output_type": "stream",
     "text": [
      "36500it [00:10, 3325.37it/s]\n"
     ]
    },
    {
     "name": "stdout",
     "output_type": "stream",
     "text": [
      "Saved scene and scene category labels\n",
      "Split train/val (0.6/0.4)\n",
      "Saved data to data/places365_categories/places365_imagelabels.pth\n"
     ]
    }
   ],
   "source": [
    "# Run setup script if not already\n",
    "if os.path.exists(data_save_path):\n",
    "    sys.path.insert(0, 'setup')\n",
    "    from setup_places365_categories import setup_places365_categories\n",
    "    setup_places365_categories(\n",
    "        image_dir=image_dir,\n",
    "        index_path=index_path,\n",
    "        train_split=train_split,\n",
    "        data_save_path=data_save_path,\n",
    "        seed=seed\n",
    "    )"
   ]
  },
  {
   "cell_type": "code",
   "execution_count": 31,
   "metadata": {},
   "outputs": [
    {
     "name": "stdout",
     "output_type": "stream",
     "text": [
      "21900 14600\n",
      "                     filename  label\n",
      "0  Places365_val_00000001.jpg    165\n",
      "1  Places365_val_00000002.jpg    358\n",
      "2  Places365_val_00000003.jpg     93\n",
      "3  Places365_val_00000004.jpg    164\n",
      "4  Places365_val_00000005.jpg    289\n",
      "Index(['filename', 'label'], dtype='object') Index(['filename', 'label'], dtype='object')\n"
     ]
    }
   ],
   "source": []
  },
  {
   "cell_type": "code",
   "execution_count": 35,
   "metadata": {},
   "outputs": [
    {
     "name": "stdout",
     "output_type": "stream",
     "text": [
      "Saved data to data/places365_categories/places365_imagelabels.pth\n"
     ]
    }
   ],
   "source": []
  },
  {
   "cell_type": "code",
   "execution_count": null,
   "metadata": {},
   "outputs": [],
   "source": []
  }
 ],
 "metadata": {
  "kernelspec": {
   "display_name": "Python 3.11.2 ('model-correlation')",
   "language": "python",
   "name": "python3"
  },
  "language_info": {
   "codemirror_mode": {
    "name": "ipython",
    "version": 3
   },
   "file_extension": ".py",
   "mimetype": "text/x-python",
   "name": "python",
   "nbconvert_exporter": "python",
   "pygments_lexer": "ipython3",
   "version": "3.11.2"
  },
  "orig_nbformat": 4,
  "vscode": {
   "interpreter": {
    "hash": "c579736b944d6d0768ad80dbc3e033126adf2082032258477813cfb04cf1061b"
   }
  }
 },
 "nbformat": 4,
 "nbformat_minor": 2
}
